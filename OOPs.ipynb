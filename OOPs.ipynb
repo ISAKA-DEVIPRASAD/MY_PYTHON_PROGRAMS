{
 "cells": [
  {
   "cell_type": "code",
   "execution_count": 14,
   "id": "f400c5fd",
   "metadata": {},
   "outputs": [
    {
     "name": "stdout",
     "output_type": "stream",
     "text": [
      "<__main__.A object at 0x00000258388CFA00>\n",
      "<class '__main__.A'>\n",
      "<class '__main__.A'>\n"
     ]
    }
   ],
   "source": [
    "'''class A:\n",
    "    def method1(self):\n",
    "        print(self)\n",
    "    @classmethod\n",
    "    def method2(cls):\n",
    "        print(cls)'''\n",
    "class A():\n",
    "    def method1(self):\n",
    "        print(self)\n",
    "    @classmethod\n",
    "    def method2(cls):\n",
    "        print(cls)\n",
    "ob1=A()\n",
    "ob1.method1()\n",
    "ob1.method2()\n",
    "A.method2()"
   ]
  },
  {
   "cell_type": "code",
   "execution_count": 16,
   "id": "ef23145e",
   "metadata": {},
   "outputs": [
    {
     "name": "stdout",
     "output_type": "stream",
     "text": [
      "0.07,0.07,0.07\n",
      "0.09,0.09,0.09\n"
     ]
    }
   ],
   "source": [
    "class Bank:\n",
    "    BName='ICICI'\n",
    "    ROI=0.07\n",
    "    def __init__(self,Name,MNo,AccNo,Bal):\n",
    "        self.Name=Name\n",
    "        self.MNo=MNo\n",
    "        self.AccNo=AccNo\n",
    "        self.Bal=Bal\n",
    "    @classmethod\n",
    "    def changeROI(cls,n):\n",
    "        cls.ROI=n\n",
    "        \n",
    "ob1=Bank('DeviPrasad',983377672,23445464694,50000)\n",
    "ob2=Bank('charishma',8142404690,23445646775,40000)\n",
    "ob3=Bank('SriVidya',74844636383,23344464578,30000)\n",
    "print(ob1.ROI,ob2.ROI,ob3.ROI,sep=',')\n",
    "ob1.changeROI(0.09)\n",
    "print(ob1.ROI,ob2.ROI,ob3.ROI,sep=',')"
   ]
  },
  {
   "cell_type": "code",
   "execution_count": 27,
   "id": "07a5f0e2",
   "metadata": {},
   "outputs": [
    {
     "name": "stdout",
     "output_type": "stream",
     "text": [
      "Enter Pin:1717\n",
      "enter amount:5000\n",
      "Amount Debited Successfully!!!\n",
      "Enter Pin:1717\n",
      "(self.Name)Current Balance is(self.Bal)\n"
     ]
    }
   ],
   "source": [
    "class Bank:\n",
    "    BName='ICICI'\n",
    "    ROI=0.07\n",
    "    def __init__(self,Name,MNo,AccNo,Bal,Pin):\n",
    "        self.Name=Name\n",
    "        self.MNo=MNo\n",
    "        self.AccNo=AccNo\n",
    "        self.Bal=Bal\n",
    "        self.Pin=Pin\n",
    "    @classmethod\n",
    "    def changeROI(cls,n):\n",
    "        cls.ROI=n\n",
    "    def Withdraw(self):\n",
    "        if self.Pin==self.GetPin():\n",
    "            amt=int(input('enter amount:'))\n",
    "            if self.Bal>=amt:\n",
    "                self.Bal-=amt\n",
    "                print('Amount Debited Successfully!!!')\n",
    "            else:\n",
    "                print('Insufficient Balance')\n",
    "        else:\n",
    "            print('Incorrect Pin')\n",
    "    def CheckBal(self):\n",
    "        if self.Pin==self.GetPin():\n",
    "            print(f'(self.Name)Current Balance is(self.Bal)')\n",
    "        else:\n",
    "            print('Incorrect Pin')\n",
    "    @staticmethod\n",
    "    def GetPin():\n",
    "        return int(input('Enter Pin:'))\n",
    "ob1=Bank('DeviPrasad',83647364,53534354,50000,2222)\n",
    "ob2=Bank('Charishma',62772877,32463474,40000,1717)\n",
    "ob2.Withdraw()\n",
    "ob2.CheckBal()"
   ]
  },
  {
   "cell_type": "code",
   "execution_count": 21,
   "id": "45fba52a",
   "metadata": {},
   "outputs": [
    {
     "name": "stdout",
     "output_type": "stream",
     "text": [
      "Charishma\n",
      "Divya\n"
     ]
    }
   ],
   "source": [
    "class A():\n",
    "    crush='Divya'\n",
    "    love='Charishma'\n",
    "    pass\n",
    "class B(A):\n",
    "    love='Charishma'\n",
    "ob1=A()\n",
    "print(ob1.love)\n",
    "ob2=B()\n",
    "print(ob2.crush)"
   ]
  },
  {
   "cell_type": "code",
   "execution_count": 4,
   "id": "88f1598b",
   "metadata": {},
   "outputs": [
    {
     "name": "stdout",
     "output_type": "stream",
     "text": [
      "20\n",
      "70\n"
     ]
    }
   ],
   "source": [
    "class A():\n",
    "    def __init__(self):\n",
    "        self.__x=20\n",
    "    def Getter(self):\n",
    "        return self.__x\n",
    "    def Setter(self,n):\n",
    "        self.__x=n\n",
    "obj=A()\n",
    "print(obj.Getter())\n",
    "obj.Setter(70)\n",
    "print(obj.Getter())"
   ]
  },
  {
   "cell_type": "code",
   "execution_count": 5,
   "id": "543ccf47",
   "metadata": {},
   "outputs": [
    {
     "name": "stdout",
     "output_type": "stream",
     "text": [
      "20 50\n"
     ]
    }
   ],
   "source": [
    "#multiple inheritance\n",
    "class p1():\n",
    "    x=20\n",
    "    y=50\n",
    "class p2():\n",
    "    y=30\n",
    "class c(p1,p2):\n",
    "    pass\n",
    "obj=c()\n",
    "print(obj.x,obj.y)"
   ]
  },
  {
   "cell_type": "code",
   "execution_count": 11,
   "id": "32a0effe",
   "metadata": {},
   "outputs": [
    {
     "name": "stdout",
     "output_type": "stream",
     "text": [
      "mother is best\n",
      "child is born\n"
     ]
    }
   ],
   "source": [
    "class father:\n",
    "    def __init__(self):\n",
    "        print('father is good')\n",
    "class mother:\n",
    "    def __init__(self):\n",
    "        print('mother is best')\n",
    "class child(father,mother):\n",
    "    def __init__(self):\n",
    "        mother.__init__(self)\n",
    "        print('child is born')\n",
    "obj=child()"
   ]
  },
  {
   "cell_type": "code",
   "execution_count": 12,
   "id": "d52c50f0",
   "metadata": {},
   "outputs": [
    {
     "name": "stdout",
     "output_type": "stream",
     "text": [
      "mother is best\n",
      "child is born\n",
      "mother is best\n",
      "child is playing\n"
     ]
    }
   ],
   "source": [
    "class mother:\n",
    "    def __init__(self):\n",
    "        print('mother is best')\n",
    "class child1(mother):\n",
    "    def __init__(self):\n",
    "        mother.__init__(self)\n",
    "        print('child is born')\n",
    "class child2(mother):\n",
    "    def __init__(self):\n",
    "        mother.__init__(self)\n",
    "        print('child is playing')\n",
    "obj=child1()\n",
    "obj=child2()"
   ]
  },
  {
   "cell_type": "code",
   "execution_count": 3,
   "id": "5413b69c",
   "metadata": {},
   "outputs": [
    {
     "ename": "TypeError",
     "evalue": "__init__() missing 3 required positional arguments: 'best', 'dance', and 'housewife'",
     "output_type": "error",
     "traceback": [
      "\u001b[1;31m---------------------------------------------------------------------------\u001b[0m",
      "\u001b[1;31mTypeError\u001b[0m                                 Traceback (most recent call last)",
      "\u001b[1;32m~\\AppData\\Local\\Temp\\ipykernel_11416\\1770902422.py\u001b[0m in \u001b[0;36m<module>\u001b[1;34m\u001b[0m\n\u001b[0;32m     22\u001b[0m         \u001b[0mfather\u001b[0m\u001b[1;33m.\u001b[0m\u001b[0m__init__\u001b[0m\u001b[1;33m(\u001b[0m\u001b[0mself\u001b[0m\u001b[1;33m)\u001b[0m\u001b[1;33m\u001b[0m\u001b[1;33m\u001b[0m\u001b[0m\n\u001b[0;32m     23\u001b[0m         \u001b[0mprint\u001b[0m\u001b[1;33m(\u001b[0m\u001b[1;34m'child is innocent'\u001b[0m\u001b[1;33m)\u001b[0m\u001b[1;33m\u001b[0m\u001b[1;33m\u001b[0m\u001b[0m\n\u001b[1;32m---> 24\u001b[1;33m \u001b[0mobj\u001b[0m\u001b[1;33m=\u001b[0m\u001b[0mchild\u001b[0m\u001b[1;33m(\u001b[0m\u001b[1;33m)\u001b[0m\u001b[1;33m\u001b[0m\u001b[1;33m\u001b[0m\u001b[0m\n\u001b[0m",
      "\u001b[1;32m~\\AppData\\Local\\Temp\\ipykernel_11416\\1770902422.py\u001b[0m in \u001b[0;36m__init__\u001b[1;34m(self)\u001b[0m\n\u001b[0;32m     19\u001b[0m \u001b[1;32mclass\u001b[0m \u001b[0mchild\u001b[0m\u001b[1;33m(\u001b[0m\u001b[0mfather\u001b[0m\u001b[1;33m,\u001b[0m\u001b[0mmother\u001b[0m\u001b[1;33m)\u001b[0m\u001b[1;33m:\u001b[0m\u001b[1;33m\u001b[0m\u001b[1;33m\u001b[0m\u001b[0m\n\u001b[0;32m     20\u001b[0m     \u001b[1;32mdef\u001b[0m \u001b[0m__init__\u001b[0m\u001b[1;33m(\u001b[0m\u001b[0mself\u001b[0m\u001b[1;33m)\u001b[0m\u001b[1;33m:\u001b[0m\u001b[1;33m\u001b[0m\u001b[1;33m\u001b[0m\u001b[0m\n\u001b[1;32m---> 21\u001b[1;33m         \u001b[0mmother\u001b[0m\u001b[1;33m.\u001b[0m\u001b[0m__init__\u001b[0m\u001b[1;33m(\u001b[0m\u001b[0mself\u001b[0m\u001b[1;33m)\u001b[0m\u001b[1;33m\u001b[0m\u001b[1;33m\u001b[0m\u001b[0m\n\u001b[0m\u001b[0;32m     22\u001b[0m         \u001b[0mfather\u001b[0m\u001b[1;33m.\u001b[0m\u001b[0m__init__\u001b[0m\u001b[1;33m(\u001b[0m\u001b[0mself\u001b[0m\u001b[1;33m)\u001b[0m\u001b[1;33m\u001b[0m\u001b[1;33m\u001b[0m\u001b[0m\n\u001b[0;32m     23\u001b[0m         \u001b[0mprint\u001b[0m\u001b[1;33m(\u001b[0m\u001b[1;34m'child is innocent'\u001b[0m\u001b[1;33m)\u001b[0m\u001b[1;33m\u001b[0m\u001b[1;33m\u001b[0m\u001b[0m\n",
      "\u001b[1;31mTypeError\u001b[0m: __init__() missing 3 required positional arguments: 'best', 'dance', and 'housewife'"
     ]
    }
   ],
   "source": [
    "class father():\n",
    "    def __init__(self,caring,humble,gentle):\n",
    "        self.caring=caring\n",
    "        self.humble=humble\n",
    "        self.gentle=gentle\n",
    "    def talent(self):\n",
    "        print(f'caring:{self.caring}')\n",
    "        print(f'humble:{self.humble}')\n",
    "        print(f'gentle:{self.gentle}')\n",
    "class mother():\n",
    "    def __init__(self,best,dance,housewife):\n",
    "        self.best=best\n",
    "        self.dance=dance\n",
    "        self.housewife=housewife\n",
    "    def talent(self):\n",
    "        print(f'best={self.best}')\n",
    "        print(f'dance={self.dance}')\n",
    "        print(f'housewife={self.housewife}')\n",
    "class child(father,mother):\n",
    "    def __init__(self):\n",
    "        mother.__init__(self)\n",
    "        father.__init__(self)\n",
    "        print('child is innocent')\n",
    "obj=child()"
   ]
  },
  {
   "cell_type": "code",
   "execution_count": 13,
   "id": "8cb97b18",
   "metadata": {},
   "outputs": [
    {
     "ename": "TypeError",
     "evalue": "__init__() missing 5 required positional arguments: 'caring', 'humble', 'gentle', 'singing', and 'innocent'",
     "output_type": "error",
     "traceback": [
      "\u001b[1;31m---------------------------------------------------------------------------\u001b[0m",
      "\u001b[1;31mTypeError\u001b[0m                                 Traceback (most recent call last)",
      "\u001b[1;32m~\\AppData\\Local\\Temp\\ipykernel_11736\\4274353505.py\u001b[0m in \u001b[0;36m<module>\u001b[1;34m\u001b[0m\n\u001b[0;32m     22\u001b[0m     \u001b[1;32mdef\u001b[0m \u001b[0mtalent\u001b[0m\u001b[1;33m(\u001b[0m\u001b[0mself\u001b[0m\u001b[1;33m)\u001b[0m\u001b[1;33m:\u001b[0m\u001b[1;33m\u001b[0m\u001b[1;33m\u001b[0m\u001b[0m\n\u001b[0;32m     23\u001b[0m         \u001b[0mprint\u001b[0m\u001b[1;33m(\u001b[0m\u001b[1;34mf'good={self.good}'\u001b[0m\u001b[1;33m)\u001b[0m\u001b[1;33m\u001b[0m\u001b[1;33m\u001b[0m\u001b[0m\n\u001b[1;32m---> 24\u001b[1;33m \u001b[0mobj\u001b[0m\u001b[1;33m=\u001b[0m\u001b[0mchild1\u001b[0m\u001b[1;33m(\u001b[0m\u001b[1;33m)\u001b[0m\u001b[1;33m\u001b[0m\u001b[1;33m\u001b[0m\u001b[0m\n\u001b[0m",
      "\u001b[1;31mTypeError\u001b[0m: __init__() missing 5 required positional arguments: 'caring', 'humble', 'gentle', 'singing', and 'innocent'"
     ]
    }
   ],
   "source": [
    "class mother():\n",
    "    def __init__(self,caring,humble,gentle,singing):\n",
    "        self.caring=caring\n",
    "        self.humble=humble\n",
    "        self.gentle=gentle\n",
    "        self.singing=singing\n",
    "    def talent(self):\n",
    "        print(f'caring={self.caring}')\n",
    "        print(f'humble={self.humble}')\n",
    "        print(f'gentle={self.gentle}')\n",
    "        print(f'singing={self.singing}')\n",
    "class child1(mother):\n",
    "    def __init__(self,caring,humble,gentle,singing,innocent):\n",
    "        mother.__init__(self)\n",
    "        self.innocent=innocent\n",
    "    def talent(self):\n",
    "        print(f'innocent={self.innocent}')\n",
    "class child2(mother):\n",
    "    def __init__(self,caring,humble,gentle,singing,good):\n",
    "        mother.__init__(self)\n",
    "        self.good=good\n",
    "    def talent(self):\n",
    "        print(f'good={self.good}')\n",
    "obj=child1()"
   ]
  },
  {
   "cell_type": "code",
   "execution_count": 1,
   "id": "76773443",
   "metadata": {},
   "outputs": [
    {
     "name": "stdout",
     "output_type": "stream",
     "text": [
      "name:devi\n",
      "Mobile Number:7893347525\n",
      "Account Number:34622010039340\n",
      "Balance:200000\n",
      "Mail Id:devi@gmail.com\n",
      "Aadhar Number:945628792747\n"
     ]
    }
   ],
   "source": [
    "class bank1():\n",
    "    def __init__(self,Name,Mno,Accno,Bal):\n",
    "        self.Name=Name\n",
    "        self.Mno=Mno\n",
    "        self.Accno=Accno\n",
    "        self.Bal=Bal\n",
    "    def Details(self):\n",
    "        print(f'name:{self.Name}')\n",
    "        print(f'Mobile Number:{self.Mno}')\n",
    "        print(f'Account Number:{self.Accno}')\n",
    "        print(f'Balance:{self.Bal}')\n",
    "class bank2(bank1):\n",
    "    def __init__(self,Name,Mno,Accno,Bal,Mail,Aadhar):\n",
    "        super().__init__(Name,Mno,Accno,Bal)\n",
    "        self.Mail=Mail\n",
    "        self.Aadhar=Aadhar\n",
    "    def Details(self):\n",
    "        super().Details()\n",
    "        print(f'Mail Id:{self.Mail}')\n",
    "        print(f'Aadhar Number:{self.Aadhar}')\n",
    "obj=bank2('devi',7893347525,34622010039340,200000,'devi@gmail.com',945628792747)\n",
    "obj.Details()"
   ]
  },
  {
   "cell_type": "code",
   "execution_count": 1,
   "id": "174bf6c1",
   "metadata": {},
   "outputs": [
    {
     "name": "stdout",
     "output_type": "stream",
     "text": [
      "[<class '__main__.d'>, <class '__main__.c'>, <class '__main__.b'>, <class '__main__.a'>, <class 'object'>]\n"
     ]
    }
   ],
   "source": [
    "class a():\n",
    "    pass\n",
    "class b(a):\n",
    "    pass\n",
    "class c(b):\n",
    "    pass\n",
    "class d(c):\n",
    "    pass\n",
    "print(d.mro())"
   ]
  },
  {
   "cell_type": "code",
   "execution_count": 5,
   "id": "e1d08ac1",
   "metadata": {},
   "outputs": [
    {
     "name": "stdout",
     "output_type": "stream",
     "text": [
      "[<class '__main__.d'>, <class '__main__.a'>, <class 'object'>]\n",
      "[<class '__main__.c'>, <class '__main__.a'>, <class 'object'>]\n",
      "[<class '__main__.b'>, <class '__main__.a'>, <class 'object'>]\n"
     ]
    }
   ],
   "source": [
    "class a():\n",
    "    pass\n",
    "class b(a):\n",
    "    pass\n",
    "class c(a):\n",
    "    pass\n",
    "class d(a):\n",
    "    pass\n",
    "print(d.mro())\n",
    "print(c.mro())\n",
    "print(b.mro())"
   ]
  },
  {
   "cell_type": "code",
   "execution_count": 3,
   "id": "1999ac04",
   "metadata": {},
   "outputs": [
    {
     "name": "stdout",
     "output_type": "stream",
     "text": [
      "5\n",
      "-1\n",
      "6\n",
      "8\n",
      "0\n",
      "0.6666666666666666\n",
      "2\n"
     ]
    }
   ],
   "source": [
    "class a():\n",
    "    def __init__(self,x):\n",
    "        self.x=x\n",
    "    def __add__(self,other):\n",
    "        return self.x+other.x\n",
    "    def __sub__(self,other):\n",
    "        return self.x-other.x\n",
    "    def __mul__(self,other):\n",
    "        return self.x*other.x\n",
    "    def __pow__(self,other):\n",
    "        return self.x**other.x\n",
    "    def __floordiv__(self,other):\n",
    "        return self.x//other.x\n",
    "    def __truediv__(self,other):\n",
    "        return self.x/other.x\n",
    "    def __mod__(self,other):\n",
    "        return self.x%other.x\n",
    "ob1=a(2)\n",
    "ob2=a(3)\n",
    "print(ob1+ob2)\n",
    "print(ob1-ob2)\n",
    "print(ob1*ob2)\n",
    "print(ob1**ob2)\n",
    "print(ob1//ob2)\n",
    "print(ob1/ob2)\n",
    "print(ob1%ob2)"
   ]
  },
  {
   "cell_type": "code",
   "execution_count": 46,
   "id": "f9a8e613",
   "metadata": {},
   "outputs": [
    {
     "name": "stdout",
     "output_type": "stream",
     "text": [
      "7\n"
     ]
    }
   ],
   "source": [
    "d=128\n",
    "for a in range(d):#power\n",
    "    if 2**a==d:\n",
    "        print(a)\n",
    "        break\n",
    "else:\n",
    "    print('not power')"
   ]
  },
  {
   "cell_type": "code",
   "execution_count": 4,
   "id": "26eba1a3",
   "metadata": {},
   "outputs": [
    {
     "name": "stdout",
     "output_type": "stream",
     "text": [
      "True\n",
      "True\n",
      "False\n",
      "True\n",
      "False\n",
      "False\n"
     ]
    }
   ],
   "source": [
    "class a():\n",
    "    def __init__(self,x):\n",
    "        self.x=x\n",
    "    def __lt__(self,other):\n",
    "        return self.x<other.x\n",
    "    def __le__(self,other):\n",
    "        return self.x<=other.x\n",
    "    def __eq__(self,other):\n",
    "        return self.x==other.x\n",
    "    def __ne__(self,other):\n",
    "        return self.x!=other.x\n",
    "    def __ge__(self,other):\n",
    "        return self.x>=other.x\n",
    "    def __gt__(self,other):\n",
    "        return self.x>other.x\n",
    "ob1=a(2)\n",
    "ob2=a(3)\n",
    "print(ob1<ob2)\n",
    "print(ob1<=ob2)\n",
    "print(ob1==ob2)\n",
    "print(ob1!=ob2)\n",
    "print(ob1>=ob2)\n",
    "print(ob1>ob2)"
   ]
  },
  {
   "cell_type": "code",
   "execution_count": 11,
   "id": "d967d952",
   "metadata": {},
   "outputs": [
    {
     "name": "stdout",
     "output_type": "stream",
     "text": [
      "Bow Bow\n",
      "walking.....\n",
      "Meow Meow\n",
      "walking.....\n",
      "Ambaaaaa\n",
      "walking.....\n"
     ]
    }
   ],
   "source": [
    "from abc import ABC,abstractmethod\n",
    "class Animal(ABC):\n",
    "    @abstractmethod\n",
    "    def speak(self):\n",
    "        pass\n",
    "    def move(self):\n",
    "        print('walking.....')\n",
    "class Dog(Animal):\n",
    "    def speak(self):\n",
    "        print('Bow Bow')\n",
    "class Cat(Animal):\n",
    "    def speak(self):\n",
    "        print('Meow Meow')\n",
    "class Cow(Animal):\n",
    "    def speak(self):\n",
    "        print('Ambaaaaa')\n",
    "ob1=Dog()\n",
    "ob2=Cat()\n",
    "ob3=Cow()\n",
    "ob1.speak()\n",
    "ob1.move()\n",
    "ob2.speak()\n",
    "ob1.move()\n",
    "ob3.speak()\n",
    "ob1.move()"
   ]
  },
  {
   "cell_type": "code",
   "execution_count": 1,
   "id": "31c31223",
   "metadata": {},
   "outputs": [
    {
     "name": "stdout",
     "output_type": "stream",
     "text": [
      "450\n",
      "550\n",
      "650\n",
      "750\n",
      "500\n",
      "5gears\n"
     ]
    }
   ],
   "source": [
    "from abc import ABC,abstractmethod\n",
    "class RoyalEnfield(ABC):\n",
    "    @abstractmethod\n",
    "    def cc(self):\n",
    "        pass\n",
    "    def gears(self):\n",
    "        print('5gears')\n",
    "class Classic(RoyalEnfield):\n",
    "    def cc(self):\n",
    "        print('450')\n",
    "class Hunter(RoyalEnfield):\n",
    "    def cc(self):\n",
    "        print('550')\n",
    "class Incepter(RoyalEnfield):\n",
    "    def cc(self):\n",
    "        print('650')\n",
    "class Thunderbolt(RoyalEnfield):\n",
    "    def cc(self):\n",
    "        print('750')\n",
    "class Himalayan(RoyalEnfield):\n",
    "    def cc(self):\n",
    "        print('500')\n",
    "ob1=Classic()\n",
    "ob2=Hunter()\n",
    "ob3=Incepter()\n",
    "ob4=Thunderbolt()\n",
    "ob5=Himalayan()\n",
    "ob1.cc()\n",
    "ob2.cc()\n",
    "ob3.cc()\n",
    "ob4.cc()\n",
    "ob5.cc()\n",
    "ob5.gears()"
   ]
  },
  {
   "cell_type": "code",
   "execution_count": 5,
   "id": "06f7f3f0",
   "metadata": {},
   "outputs": [
    {
     "name": "stdout",
     "output_type": "stream",
     "text": [
      "power\n"
     ]
    }
   ],
   "source": [
    "d=128\n",
    "for a in range(d):#power\n",
    "    if 2**a==d:\n",
    "        print('power')\n",
    "        break\n",
    "else:\n",
    "    print('not power')"
   ]
  },
  {
   "cell_type": "code",
   "execution_count": 6,
   "id": "7506ba63",
   "metadata": {},
   "outputs": [
    {
     "name": "stdout",
     "output_type": "stream",
     "text": [
      "fib\n"
     ]
    }
   ],
   "source": [
    "d=2\n",
    "res=0\n",
    "f,s=0,1\n",
    "while res<d:#fibbinocci\n",
    "    res=f+s\n",
    "    f,s=s,res\n",
    "if res==d:\n",
    "    print('fib')\n",
    "else:\n",
    "    print('not fib')"
   ]
  },
  {
   "cell_type": "code",
   "execution_count": 7,
   "id": "4b225e0c",
   "metadata": {},
   "outputs": [
    {
     "name": "stdout",
     "output_type": "stream",
     "text": [
      "False\n"
     ]
    }
   ],
   "source": [
    "def power(num,p):\n",
    "    if 2**p>num:\n",
    "        return False\n",
    "    if 2**p==num:\n",
    "        return True\n",
    "    return power(num,p+1)\n",
    "num=36\n",
    "print(power(num,0))"
   ]
  },
  {
   "cell_type": "code",
   "execution_count": 13,
   "id": "fa6de178",
   "metadata": {},
   "outputs": [
    {
     "name": "stdout",
     "output_type": "stream",
     "text": [
      "sample:<function sample at 0x00000118F340D430>\n",
      "x:<function sample at 0x00000118F340D430>\n",
      "In Sample Function\n",
      "In Sample Function\n"
     ]
    },
    {
     "ename": "NameError",
     "evalue": "name 'sample' is not defined",
     "output_type": "error",
     "traceback": [
      "\u001b[1;31m---------------------------------------------------------------------------\u001b[0m",
      "\u001b[1;31mNameError\u001b[0m                                 Traceback (most recent call last)",
      "\u001b[1;32m~\\AppData\\Local\\Temp\\ipykernel_13360\\1406787716.py\u001b[0m in \u001b[0;36m<module>\u001b[1;34m\u001b[0m\n\u001b[0;32m      7\u001b[0m \u001b[0mx\u001b[0m\u001b[1;33m(\u001b[0m\u001b[1;33m)\u001b[0m\u001b[1;33m\u001b[0m\u001b[1;33m\u001b[0m\u001b[0m\n\u001b[0;32m      8\u001b[0m \u001b[1;32mdel\u001b[0m \u001b[0msample\u001b[0m\u001b[1;33m\u001b[0m\u001b[1;33m\u001b[0m\u001b[0m\n\u001b[1;32m----> 9\u001b[1;33m \u001b[0msample\u001b[0m\u001b[1;33m(\u001b[0m\u001b[1;33m)\u001b[0m\u001b[1;33m\u001b[0m\u001b[1;33m\u001b[0m\u001b[0m\n\u001b[0m\u001b[0;32m     10\u001b[0m \u001b[0mx\u001b[0m\u001b[1;33m(\u001b[0m\u001b[1;33m)\u001b[0m\u001b[1;33m\u001b[0m\u001b[1;33m\u001b[0m\u001b[0m\n",
      "\u001b[1;31mNameError\u001b[0m: name 'sample' is not defined"
     ]
    }
   ],
   "source": [
    "def sample():\n",
    "    print('In Sample Function')\n",
    "x=sample\n",
    "print(f'sample:{sample}')\n",
    "print(f'x:{x}')\n",
    "sample()\n",
    "x()\n",
    "del sample\n",
    "sample()\n",
    "x()"
   ]
  },
  {
   "cell_type": "code",
   "execution_count": 14,
   "id": "1efbdccd",
   "metadata": {
    "scrolled": true
   },
   "outputs": [
    {
     "name": "stdout",
     "output_type": "stream",
     "text": [
      "one\n",
      "Three\n",
      "N:<function Outer.<locals>.Inner at 0x00000118F340D310>\n",
      "Two\n"
     ]
    }
   ],
   "source": [
    "def Outer():\n",
    "    print('one')\n",
    "    def Inner():\n",
    "        print('Two')\n",
    "    print('Three')\n",
    "    return Inner\n",
    "N=Outer()\n",
    "print(f'N:{N}')\n",
    "N()"
   ]
  },
  {
   "cell_type": "code",
   "execution_count": 16,
   "id": "77c31fa4",
   "metadata": {
    "scrolled": true
   },
   "outputs": [
    {
     "name": "stdout",
     "output_type": "stream",
     "text": [
      "arg:<function Sample at 0x00000118F331AAF0>\n",
      "Sample:<function Outer.<locals>.Inner at 0x00000118F340D790>\n"
     ]
    }
   ],
   "source": [
    "def Outer(arg):\n",
    "    print(f'arg:{arg}')\n",
    "    def Inner():\n",
    "        print('Inside Inner Function')\n",
    "    return Inner\n",
    "@Outer\n",
    "def Sample():\n",
    "    print('Inside Sample Function')\n",
    "print(f'Sample:{Sample}')"
   ]
  },
  {
   "cell_type": "code",
   "execution_count": 22,
   "id": "a51ddb32",
   "metadata": {},
   "outputs": [
    {
     "name": "stdout",
     "output_type": "stream",
     "text": [
      "Inside Inner Function\n",
      "Inside Sample Function\n"
     ]
    }
   ],
   "source": [
    "def Outer(arg):\n",
    "    def Inner():\n",
    "        print('Inside Inner Function')\n",
    "        arg()\n",
    "    return Inner\n",
    "@Outer\n",
    "def Sample():\n",
    "    print('Inside Sample Function')\n",
    "Sample()"
   ]
  },
  {
   "cell_type": "code",
   "execution_count": 5,
   "id": "d24625cd",
   "metadata": {},
   "outputs": [
    {
     "name": "stdout",
     "output_type": "stream",
     "text": [
      "5.0\n",
      "5.0\n"
     ]
    }
   ],
   "source": [
    "def Outer(arg):\n",
    "    def Inner(a,b):\n",
    "        arg(a,b)if a>b else arg(b,a)\n",
    "    return Inner\n",
    "@Outer\n",
    "def Division(x,y):\n",
    "    print(x/y)\n",
    "Division(10,2)\n",
    "Division(2,10)"
   ]
  },
  {
   "cell_type": "code",
   "execution_count": 1,
   "id": "f5a21f6d",
   "metadata": {},
   "outputs": [
    {
     "name": "stdout",
     "output_type": "stream",
     "text": [
      "one\n",
      "Three\n",
      "N:<function Outer.<locals>.Inner at 0x0000020C74619280>\n",
      "Two\n"
     ]
    }
   ],
   "source": [
    "def Outer():\n",
    "    print('one')\n",
    "    def Inner():\n",
    "        print('Two')\n",
    "    print('Three')\n",
    "    return Inner\n",
    "N=Outer()\n",
    "print(f'N:{N}')\n",
    "N()"
   ]
  },
  {
   "cell_type": "code",
   "execution_count": 28,
   "id": "6f946f3d",
   "metadata": {},
   "outputs": [
    {
     "ename": "AttributeError",
     "evalue": "'A' object has no attribute 'TName'",
     "output_type": "error",
     "traceback": [
      "\u001b[1;31m---------------------------------------------------------------------------\u001b[0m",
      "\u001b[1;31mAttributeError\u001b[0m                            Traceback (most recent call last)",
      "\u001b[1;32m~\\AppData\\Local\\Temp\\ipykernel_3916\\2386203694.py\u001b[0m in \u001b[0;36m<module>\u001b[1;34m\u001b[0m\n\u001b[0;32m      5\u001b[0m \u001b[0mob2\u001b[0m\u001b[1;33m=\u001b[0m\u001b[0mPySpiders\u001b[0m\u001b[1;33m(\u001b[0m\u001b[1;33m)\u001b[0m\u001b[1;33m\u001b[0m\u001b[1;33m\u001b[0m\u001b[0m\n\u001b[0;32m      6\u001b[0m \u001b[0mob3\u001b[0m\u001b[1;33m=\u001b[0m\u001b[0mPySpiders\u001b[0m\u001b[1;33m(\u001b[0m\u001b[1;33m)\u001b[0m\u001b[1;33m\u001b[0m\u001b[1;33m\u001b[0m\u001b[0m\n\u001b[1;32m----> 7\u001b[1;33m \u001b[0mprint\u001b[0m\u001b[1;33m(\u001b[0m\u001b[0mob1\u001b[0m\u001b[1;33m.\u001b[0m\u001b[0mCName\u001b[0m\u001b[1;33m,\u001b[0m\u001b[0mob1\u001b[0m\u001b[1;33m.\u001b[0m\u001b[0mTName\u001b[0m\u001b[1;33m)\u001b[0m\u001b[1;33m\u001b[0m\u001b[1;33m\u001b[0m\u001b[0m\n\u001b[0m\u001b[0;32m      8\u001b[0m \u001b[0mprint\u001b[0m\u001b[1;33m(\u001b[0m\u001b[0mob2\u001b[0m\u001b[1;33m.\u001b[0m\u001b[0mCName\u001b[0m\u001b[1;33m,\u001b[0m\u001b[0mob2\u001b[0m\u001b[1;33m.\u001b[0m\u001b[0mTName\u001b[0m\u001b[1;33m)\u001b[0m\u001b[1;33m\u001b[0m\u001b[1;33m\u001b[0m\u001b[0m\n\u001b[0;32m      9\u001b[0m \u001b[0mprint\u001b[0m\u001b[1;33m(\u001b[0m\u001b[0mob3\u001b[0m\u001b[1;33m.\u001b[0m\u001b[0mCName\u001b[0m\u001b[1;33m,\u001b[0m\u001b[0mob3\u001b[0m\u001b[1;33m.\u001b[0m\u001b[0mTName\u001b[0m\u001b[1;33m)\u001b[0m\u001b[1;33m\u001b[0m\u001b[1;33m\u001b[0m\u001b[0m\n",
      "\u001b[1;31mAttributeError\u001b[0m: 'A' object has no attribute 'TName'"
     ]
    }
   ],
   "source": [
    "class PySpiders():\n",
    "    CName='Python'\n",
    "    TName='Santosh'\n",
    "ob1.CName='Java'       #modifying class variables by using object name\n",
    "ob2=PySpiders()\n",
    "ob3=PySpiders()\n",
    "print(ob1.CName,ob1.TName)\n",
    "print(ob2.CName,ob2.TName)\n",
    "print(ob3.CName,ob3.TName)\n",
    "print(PySpiders.CName,PySpiders.TName)"
   ]
  },
  {
   "cell_type": "code",
   "execution_count": 2,
   "id": "8dff19bc",
   "metadata": {},
   "outputs": [
    {
     "ename": "NameError",
     "evalue": "name 'ob1' is not defined",
     "output_type": "error",
     "traceback": [
      "\u001b[1;31m---------------------------------------------------------------------------\u001b[0m",
      "\u001b[1;31mNameError\u001b[0m                                 Traceback (most recent call last)",
      "\u001b[1;32m~\\AppData\\Local\\Temp\\ipykernel_4192\\4262083620.py\u001b[0m in \u001b[0;36m<module>\u001b[1;34m\u001b[0m\n\u001b[0;32m      5\u001b[0m \u001b[0mob2\u001b[0m\u001b[1;33m=\u001b[0m\u001b[0mPySpiders\u001b[0m\u001b[1;33m(\u001b[0m\u001b[1;33m)\u001b[0m\u001b[1;33m\u001b[0m\u001b[1;33m\u001b[0m\u001b[0m\n\u001b[0;32m      6\u001b[0m \u001b[0mob3\u001b[0m\u001b[1;33m=\u001b[0m\u001b[0mPySpiders\u001b[0m\u001b[1;33m(\u001b[0m\u001b[1;33m)\u001b[0m\u001b[1;33m\u001b[0m\u001b[1;33m\u001b[0m\u001b[0m\n\u001b[1;32m----> 7\u001b[1;33m \u001b[0mprint\u001b[0m\u001b[1;33m(\u001b[0m\u001b[0mob1\u001b[0m\u001b[1;33m.\u001b[0m\u001b[0mCName\u001b[0m\u001b[1;33m,\u001b[0m\u001b[0mob1\u001b[0m\u001b[1;33m.\u001b[0m\u001b[0mTName\u001b[0m\u001b[1;33m)\u001b[0m\u001b[1;33m\u001b[0m\u001b[1;33m\u001b[0m\u001b[0m\n\u001b[0m\u001b[0;32m      8\u001b[0m \u001b[0mprint\u001b[0m\u001b[1;33m(\u001b[0m\u001b[0mob2\u001b[0m\u001b[1;33m.\u001b[0m\u001b[0mCName\u001b[0m\u001b[1;33m,\u001b[0m\u001b[0mob2\u001b[0m\u001b[1;33m.\u001b[0m\u001b[0mTName\u001b[0m\u001b[1;33m)\u001b[0m\u001b[1;33m\u001b[0m\u001b[1;33m\u001b[0m\u001b[0m\n\u001b[0;32m      9\u001b[0m \u001b[0mprint\u001b[0m\u001b[1;33m(\u001b[0m\u001b[0mob3\u001b[0m\u001b[1;33m.\u001b[0m\u001b[0mCName\u001b[0m\u001b[1;33m,\u001b[0m\u001b[0mob3\u001b[0m\u001b[1;33m.\u001b[0m\u001b[0mTName\u001b[0m\u001b[1;33m)\u001b[0m\u001b[1;33m\u001b[0m\u001b[1;33m\u001b[0m\u001b[0m\n",
      "\u001b[1;31mNameError\u001b[0m: name 'ob1' is not defined"
     ]
    }
   ],
   "source": [
    "class PySpiders():\n",
    "    CName='Python'\n",
    "    TName='Santosh'\n",
    "PySpiders.CName='Java'       #modifying class variables by using class name\n",
    "ob2=PySpiders()\n",
    "ob3=PySpiders()\n",
    "print(ob1.CName,ob1.TName)\n",
    "print(ob2.CName,ob2.TName)\n",
    "print(ob3.CName,ob3.TName)\n",
    "print(PySpiders.CName,PySpiders.TName)"
   ]
  },
  {
   "cell_type": "code",
   "execution_count": 33,
   "id": "c6102af3",
   "metadata": {},
   "outputs": [
    {
     "ename": "AttributeError",
     "evalue": "'PySpiders' object has no attribute 'Name'",
     "output_type": "error",
     "traceback": [
      "\u001b[1;31m---------------------------------------------------------------------------\u001b[0m",
      "\u001b[1;31mAttributeError\u001b[0m                            Traceback (most recent call last)",
      "\u001b[1;32m~\\AppData\\Local\\Temp\\ipykernel_3916\\235353429.py\u001b[0m in \u001b[0;36m<module>\u001b[1;34m\u001b[0m\n\u001b[0;32m      9\u001b[0m \u001b[0mob1\u001b[0m\u001b[1;33m=\u001b[0m\u001b[0mPySpiders\u001b[0m\u001b[1;33m(\u001b[0m\u001b[1;34m'devi'\u001b[0m\u001b[1;33m,\u001b[0m\u001b[1;36m22\u001b[0m\u001b[1;33m,\u001b[0m\u001b[1;36m7893347525\u001b[0m\u001b[1;33m)\u001b[0m\u001b[1;33m\u001b[0m\u001b[1;33m\u001b[0m\u001b[0m\n\u001b[0;32m     10\u001b[0m \u001b[0mob2\u001b[0m\u001b[1;33m=\u001b[0m\u001b[0mPySpiders\u001b[0m\u001b[1;33m(\u001b[0m\u001b[1;34m'freddy'\u001b[0m\u001b[1;33m,\u001b[0m\u001b[1;36m27\u001b[0m\u001b[1;33m,\u001b[0m\u001b[1;36m7893327525\u001b[0m\u001b[1;33m)\u001b[0m\u001b[1;33m\u001b[0m\u001b[1;33m\u001b[0m\u001b[0m\n\u001b[1;32m---> 11\u001b[1;33m \u001b[0mprint\u001b[0m\u001b[1;33m(\u001b[0m\u001b[0mob1\u001b[0m\u001b[1;33m.\u001b[0m\u001b[0mName\u001b[0m\u001b[1;33m,\u001b[0m\u001b[0mob1\u001b[0m\u001b[1;33m.\u001b[0m\u001b[0mAge\u001b[0m\u001b[1;33m,\u001b[0m\u001b[0mob1\u001b[0m\u001b[1;33m.\u001b[0m\u001b[0mMNo\u001b[0m\u001b[1;33m)\u001b[0m\u001b[1;33m\u001b[0m\u001b[1;33m\u001b[0m\u001b[0m\n\u001b[0m\u001b[0;32m     12\u001b[0m \u001b[0mprint\u001b[0m\u001b[1;33m(\u001b[0m\u001b[0mob2\u001b[0m\u001b[1;33m.\u001b[0m\u001b[0mName\u001b[0m\u001b[1;33m,\u001b[0m\u001b[0mob2\u001b[0m\u001b[1;33m.\u001b[0m\u001b[0mAge\u001b[0m\u001b[1;33m,\u001b[0m\u001b[0mob2\u001b[0m\u001b[1;33m.\u001b[0m\u001b[0mMNo\u001b[0m\u001b[1;33m)\u001b[0m\u001b[1;33m\u001b[0m\u001b[1;33m\u001b[0m\u001b[0m\n",
      "\u001b[1;31mAttributeError\u001b[0m: 'PySpiders' object has no attribute 'Name'"
     ]
    }
   ],
   "source": [
    "#Object Creation By Using Constructor Method\n",
    "class PySpiders():\n",
    "    CName:'Python'\n",
    "    TName:'Santosh'\n",
    "    def __init__(self,Name,Age,MNo):\n",
    "        self.Name:Name\n",
    "        self.Age:Age\n",
    "        self.MNo:MNo\n",
    "ob1=PySpiders('devi',22,7893347525)\n",
    "ob2=PySpiders('freddy',27,7893327525)\n",
    "print(ob1.Name,ob1.Age,ob1.MNo)\n",
    "print(ob2.Name,ob2.Age,ob2.MNo)"
   ]
  },
  {
   "cell_type": "code",
   "execution_count": 5,
   "id": "716ccc25",
   "metadata": {},
   "outputs": [
    {
     "name": "stdout",
     "output_type": "stream",
     "text": [
      "canara\n",
      "canara\n"
     ]
    }
   ],
   "source": [
    "class Bank():\n",
    "    Bank_name='canara'\n",
    "    Bank_roi=7\n",
    "    Bank_branch='india'\n",
    "charishma=Bank()\n",
    "divya=Bank()\n",
    "print(Bank.Bank_name)\n",
    "print(charishma.Bank_name)"
   ]
  },
  {
   "cell_type": "code",
   "execution_count": 4,
   "id": "9bdbd3b8",
   "metadata": {},
   "outputs": [
    {
     "name": "stdout",
     "output_type": "stream",
     "text": [
      "charishma 22\n",
      "canara\n",
      "charishma 7893347525\n",
      "charishma Female\n",
      "7 charishma 11000\n"
     ]
    }
   ],
   "source": [
    "class Bank:\n",
    "    Bank_name='canara'\n",
    "    Bank_roi=7\n",
    "    Bank_branch='india'\n",
    "    Bank_mobile=7893347525\n",
    "    def __init__(self,n,a,ac,bal,g):\n",
    "        self.name=n\n",
    "        self.age=a\n",
    "        self.account=ac\n",
    "        self.balance=bal\n",
    "        self.gender=g\n",
    "obj=Bank('charishma',22,29789979,11000,'Female')\n",
    "print(obj.name,obj.age)\n",
    "print(Bank.Bank_name)\n",
    "print(obj.name,obj.Bank_mobile)\n",
    "print(obj.name,obj.gender)\n",
    "print(Bank.Bank_roi,obj.name,obj.balance)"
   ]
  },
  {
   "cell_type": "code",
   "execution_count": 36,
   "id": "57469f93",
   "metadata": {},
   "outputs": [
    {
     "name": "stdout",
     "output_type": "stream",
     "text": [
      "name of the customer is A.Charishma\n",
      "age of the customer is 22\n",
      "account number of the customer is 8142404690\n",
      "balance of the customer 11000\n",
      "**************************************************\n",
      "name of the customer is S.Divya\n",
      "age of the customer is 22\n",
      "account number of the customer is 9398399524\n",
      "balance of the customer 11000\n",
      "**************************************************\n",
      "name of the customer is A.Charishma\n",
      "age of the customer is 22\n",
      "account number of the customer is 8142404690\n",
      "balance of the customer 11000\n",
      "**************************************************\n",
      "name of the customer is S.Divya\n",
      "age of the customer is 22\n",
      "account number of the customer is 9398399524\n",
      "balance of the customer 11000\n",
      "**************************************************\n",
      "withdraw is successfull\n",
      "9000\n",
      "enter amount22000\n",
      "deposite is successfull\n",
      "31000\n"
     ]
    }
   ],
   "source": [
    "class Bank():\n",
    "    bank_name='canara'\n",
    "    bank_roi=7\n",
    "    bank_branch='india'\n",
    "    def __init__(self,n,a,ac,bal):\n",
    "        self.name=n\n",
    "        self.age=a\n",
    "        self.account=ac\n",
    "        self.balance=bal\n",
    "    def display_specific(self):\n",
    "        print(f'name of the customer is {self.name}')\n",
    "        print(f'age of the customer is {self.age}')\n",
    "        print(f'account number of the customer is {self.account}')\n",
    "        print(f'balance of the customer {self.balance}')\n",
    "    def withdraw(self,amount):\n",
    "        if self.balance>amount:\n",
    "            self.balance-=amount\n",
    "            print('withdraw is successfull')\n",
    "        else:\n",
    "            print('insufficient balance')\n",
    "    def deposite(self):\n",
    "        amount=int(input('enter amount'))\n",
    "        self.balance+=amount\n",
    "        print('deposite is successfull')\n",
    "Charishma=Bank('A.Charishma',22,8142404690,11000)\n",
    "Divya=Bank('S.Divya',22,9398399524,11000)\n",
    "Charishma.display_specific()\n",
    "print('*'*50)\n",
    "Divya.display_specific()\n",
    "print('*'*50)\n",
    "Bank.display_specific(Charishma)\n",
    "print('*'*50)\n",
    "Bank.display_specific(Divya)\n",
    "print('*'*50)\n",
    "Charishma.withdraw(2000)\n",
    "print(Charishma.balance)\n",
    "Charishma.deposite()\n",
    "print(Charishma.balance)"
   ]
  },
  {
   "cell_type": "code",
   "execution_count": 41,
   "id": "8b552676",
   "metadata": {},
   "outputs": [
    {
     "name": "stdout",
     "output_type": "stream",
     "text": [
      "first line of outer\n",
      "23\n",
      "first line of inner\n",
      "23\n",
      "last line of inner\n",
      "last line of outer\n",
      "100\n"
     ]
    }
   ],
   "source": [
    "#1.NESTED FUNCTION RETURNING INTEGER AS OUTPUT\n",
    "def outer(arg):\n",
    "    print('first line of outer')\n",
    "    print(arg)\n",
    "    def inner():\n",
    "        print('first line of inner')\n",
    "        print(arg)\n",
    "        print('last line of inner')\n",
    "    inner()\n",
    "    print('last line of outer')\n",
    "    return 100\n",
    "result=outer(23)\n",
    "print(result)"
   ]
  },
  {
   "cell_type": "code",
   "execution_count": 44,
   "id": "2671c6b4",
   "metadata": {},
   "outputs": [
    {
     "name": "stdout",
     "output_type": "stream",
     "text": [
      "first line of outer\n",
      "23\n",
      "last line of outer\n",
      "<function outer.<locals>.inner at 0x00000202950C7E50>\n"
     ]
    }
   ],
   "source": [
    "#2.RETURNING INNER FUNCTION ADDRESS FROM OUTER FUNCTION SPACE TO MAIN SPACE\n",
    "def outer(arg):\n",
    "    print('first line of outer')\n",
    "    print(arg)\n",
    "    def inner():\n",
    "        print('first line of inner')\n",
    "        print(arg)\n",
    "        print('last line of inner')\n",
    "    print('last line of outer')\n",
    "    return inner\n",
    "result=outer(23)\n",
    "print(result)"
   ]
  },
  {
   "cell_type": "code",
   "execution_count": 13,
   "id": "7bcc700e",
   "metadata": {},
   "outputs": [
    {
     "name": "stdout",
     "output_type": "stream",
     "text": [
      "first line of outer\n",
      "<function hai at 0x000001AEB7D431F0>\n",
      "last line of outer\n",
      "<function outer.<locals>.inner at 0x000001AEB7D43280>\n",
      "first line of inner\n",
      "<function hai at 0x000001AEB7D431F0>\n",
      "last line of inner\n"
     ]
    }
   ],
   "source": [
    "#3.PASSING ANOTHER FUNCTION ADDRESS AS A VALUE TO THE ARGUMENT\n",
    "def outer(arg):\n",
    "    print('first line of outer')\n",
    "    print(arg)\n",
    "    def inner():\n",
    "        print('first line of inner')\n",
    "        print(arg)\n",
    "        print('last line of inner')\n",
    "    print('last line of outer')\n",
    "    return inner\n",
    "def hai():\n",
    "    print('hai is started')\n",
    "    print('end of hai')\n",
    "result=outer(hai)\n",
    "print(result)\n",
    "result()"
   ]
  },
  {
   "cell_type": "code",
   "execution_count": 21,
   "id": "c83e2eae",
   "metadata": {},
   "outputs": [
    {
     "name": "stdout",
     "output_type": "stream",
     "text": [
      "first line of outer\n",
      "<function hai at 0x000001AEB7D43310>\n",
      "last line of outer\n",
      "first line of inner\n",
      "starting of hai\n",
      "last statement of hai\n",
      "last line of inner\n"
     ]
    }
   ],
   "source": [
    "def outer(arg):\n",
    "    print('first line of outer')\n",
    "    print(arg)\n",
    "    def inner():\n",
    "        print('first line of inner')\n",
    "        arg()\n",
    "        print('last line of inner')\n",
    "    print('last line of outer')\n",
    "    return inner\n",
    "@outer#hai=outer(Address of hai)#hai=inner function address\n",
    "def hai():\n",
    "    print('starting of hai')\n",
    "    print('last statement of hai')\n",
    "hai()"
   ]
  },
  {
   "cell_type": "code",
   "execution_count": 23,
   "id": "e2b18f3e",
   "metadata": {},
   "outputs": [
    {
     "name": "stdout",
     "output_type": "stream",
     "text": [
      "enter number2000\n",
      "<class '__main__.Bank'>\n",
      "roi is modified\n",
      "2000\n",
      "2000\n",
      "2000\n",
      "enter number2000\n",
      "<__main__.Bank object at 0x000001AEB7D5C550>\n",
      "withdraw is successfull\n"
     ]
    }
   ],
   "source": [
    "class Bank():\n",
    "    bank_name='canara'\n",
    "    bank_roi=7\n",
    "    bank_branch='india'\n",
    "    def __init__(self,n,a,ac,bal):\n",
    "        self.name=n\n",
    "        self.age=a\n",
    "        self.account=ac\n",
    "        self.balance=bal\n",
    "    def withdraw(self):\n",
    "        amount=self.get_integer_input()\n",
    "        print(self)\n",
    "        if self.balance>amount:\n",
    "            self.balance-=amount\n",
    "            print('withdraw is successfull')\n",
    "        else:\n",
    "            print('insufficient balance')\n",
    "    @classmethod\n",
    "    def modify_roi(cls):\n",
    "        newroi=cls.get_integer_input()\n",
    "        print(cls)\n",
    "        cls.bank_roi=newroi\n",
    "        print('roi is modified')\n",
    "    @classmethod\n",
    "    def display_generic(cls):\n",
    "        print(cls)\n",
    "        print('bank_name is',cls.bank_name)\n",
    "        print('bank_roi is ',cls.bank_roi)\n",
    "        print('bank_branch is',cls.bank_branch)\n",
    "    @staticmethod\n",
    "    def get_integer_input():\n",
    "        integer=int(input('enter number'))\n",
    "        return integer\n",
    "Charishma=Bank('A.Charishma',22,7893347525,1100000)\n",
    "Divya=Bank('S.Divya',22,8142404690,1100000)\n",
    "Charishma.modify_roi()\n",
    "print(Charishma.bank_roi)\n",
    "print(Divya.bank_roi)\n",
    "print(Bank.bank_roi)\n",
    "Charishma.withdraw()"
   ]
  },
  {
   "cell_type": "code",
   "execution_count": 24,
   "id": "66f79ed2",
   "metadata": {},
   "outputs": [
    {
     "name": "stdout",
     "output_type": "stream",
     "text": [
      "5.0\n",
      "5.0\n"
     ]
    }
   ],
   "source": [
    "def outer(arg):\n",
    "    def inner(a,b):\n",
    "        arg(a,b)if a>b else arg(b,a)\n",
    "    return inner\n",
    "@outer\n",
    "def division(x,y):\n",
    "    print(x/y)\n",
    "division(10,2)\n",
    "division(2,10)"
   ]
  },
  {
   "cell_type": "code",
   "execution_count": 25,
   "id": "5ab55d48",
   "metadata": {},
   "outputs": [
    {
     "name": "stdout",
     "output_type": "stream",
     "text": [
      "2\n",
      "3\n",
      "4\n",
      "5\n",
      "7\n",
      "11\n",
      "13\n",
      "17\n",
      "19\n"
     ]
    }
   ],
   "source": [
    "def Prime(N):\n",
    "    if N<=1:\n",
    "        return False\n",
    "    for x in range(2,N//2):\n",
    "        if N%x==0:\n",
    "            return False\n",
    "    return True\n",
    "for i in range(1,21):\n",
    "    if Prime(i):\n",
    "        print(i)"
   ]
  },
  {
   "cell_type": "code",
   "execution_count": 29,
   "id": "dc3c6930",
   "metadata": {},
   "outputs": [
    {
     "name": "stdout",
     "output_type": "stream",
     "text": [
      "constructor called\n",
      "constructor called\n"
     ]
    }
   ],
   "source": [
    "class A:\n",
    "    def __init__(self):\n",
    "        print('constructor called')\n",
    "ob1=A()\n",
    "ob2=A()"
   ]
  },
  {
   "cell_type": "code",
   "execution_count": 3,
   "id": "0ef631ba",
   "metadata": {},
   "outputs": [
    {
     "name": "stdout",
     "output_type": "stream",
     "text": [
      "enter player name:sachin\n",
      "enter player age:20\n",
      "enter player country:india\n",
      "enter player runs:100\n",
      "enter player matches:100\n",
      "enter player wickets:20\n",
      "enter player name:virat\n",
      "enter player age:22\n",
      "enter player country:india\n",
      "enter player runs:200\n",
      "enter player matches:222\n",
      "enter player wickets:29\n",
      "enter player name:rohit\n",
      "enter player age:23\n",
      "enter player country:india\n",
      "enter player runs:229\n",
      "enter player matches:200\n",
      "enter player wickets:11\n",
      "enter player name:rahul\n",
      "enter player age:24\n",
      "enter player country:india\n",
      "enter player runs:150\n",
      "enter player matches:150\n",
      "enter player wickets:22\n",
      "enter player name:dhoni\n",
      "enter player age:25\n",
      "enter player country:india\n",
      "enter player runs:500\n",
      "enter player matches:500\n",
      "enter player wickets:25\n",
      "dhoni has scored max runs\n",
      "sachin has scored min runs\n",
      "virat has taken max wickets\n",
      "rohit has taken min wickets\n"
     ]
    }
   ],
   "source": [
    "class Player():\n",
    "    def __init__(self,n,a,c,r,m,w):\n",
    "        self.name=n\n",
    "        self.age=a\n",
    "        self.country=c\n",
    "        self.runs=r\n",
    "        self.matches=m\n",
    "        self.wickets=w\n",
    "class Team():\n",
    "    def __init__(self,no):\n",
    "        self.nop=no\n",
    "        self.lopo=[]\n",
    "        for d in range(self.nop):\n",
    "            na=input('enter player name:')\n",
    "            a=input('enter player age:')\n",
    "            c=input('enter player country:')\n",
    "            r=input('enter player runs:')\n",
    "            m=input('enter player matches:')\n",
    "            w=input('enter player wickets:')\n",
    "            plyob=Player(na,a,c,r,m,w)\n",
    "            self.lopo.append(plyob)\n",
    "    def max_runs(self):\n",
    "        h=self.lopo[0]\n",
    "        for d in self.lopo:\n",
    "            if d.runs>h.runs:\n",
    "                h=d\n",
    "        return h.name\n",
    "    def min_runs(self):\n",
    "        lo=self.lopo[0]\n",
    "        for s in self.lopo:\n",
    "            if s.runs<lo.runs:\n",
    "                lo=s\n",
    "        return lo.name\n",
    "    def max_wk(self):\n",
    "        mw=self.lopo[0]\n",
    "        for a in self.lopo:\n",
    "            if a.wickets>mw.wickets:\n",
    "                mw=a\n",
    "        return mw.name\n",
    "    def min_wk(self):\n",
    "        lw=self.lopo[0]\n",
    "        for t in self.lopo:\n",
    "            if t.wickets<lw.wickets:\n",
    "                lw=t\n",
    "        return lw.name\n",
    "India=Team(5)\n",
    "print(f'{India.max_runs()} has scored max runs')\n",
    "print(f'{India.min_runs()} has scored min runs')\n",
    "print(f'{India.max_wk()} has taken max wickets')\n",
    "print(f'{India.min_wk()} has taken min wickets')"
   ]
  },
  {
   "cell_type": "code",
   "execution_count": 28,
   "id": "8804cca5",
   "metadata": {},
   "outputs": [
    {
     "ename": "SyntaxError",
     "evalue": "invalid syntax (834988117.py, line 124)",
     "output_type": "error",
     "traceback": [
      "\u001b[1;36m  File \u001b[1;32m\"C:\\Users\\91789\\AppData\\Local\\Temp\\ipykernel_12416\\834988117.py\"\u001b[1;36m, line \u001b[1;32m124\u001b[0m\n\u001b[1;33m    DHAMAKA Review: TRENDING MASS MOVIE\u001b[0m\n\u001b[1;37m            ^\u001b[0m\n\u001b[1;31mSyntaxError\u001b[0m\u001b[1;31m:\u001b[0m invalid syntax\n"
     ]
    }
   ],
   "source": [
    "\n",
    "#This is Singleton class \n",
    "\n",
    "def Single(a):\n",
    "    d={}\n",
    "    def Inner():\n",
    "        if a not in d:\n",
    "            d[a]=a()\n",
    "        return d[a]\n",
    "    return Inner\n",
    "\n",
    "#This class Contains the booking method, this method is used to all the movies \n",
    "\n",
    "class Movie():\n",
    "    def Bookings(self):\n",
    "        if self.Tickets==0:\n",
    "            print(f'Dear Guys {self.movie} Hall is Full')\n",
    "        else:\n",
    "            print(f'Available Tickets: {self.Tickets}')\n",
    "            n=int(input(\"Enter No Of tickets :) :\"))\n",
    "            if self.Tickets>=n:\n",
    "                print(f'{self.movie} Ticket Price is: {self.Price}')\n",
    "                if n>=2:\n",
    "                    m=(self.Price*n)-(self.Dis*n)\n",
    "                    print(f'Discount Amount is:{self.Dis*n}')\n",
    "                    print(f'Total Amount is: {m}')\n",
    "                    Amt=int(input(\"Pay Amt: \"))\n",
    "                    if Amt>m:\n",
    "                        self.Tickets-=n\n",
    "                        print(\"Thanks Tickets Confirmed\")\n",
    "                        print(f\"Take Your Remaining Balance {Amt-m}\")\n",
    "                        \n",
    "                    elif Amt==m:\n",
    "                        self.Tickets-=n\n",
    "                        print(\"Tickets Confirmed\")\n",
    "                    \n",
    "                    else:\n",
    "                        print(\"Dear Customer please pay total amount, Tickets are Not Confirmed\")\n",
    "                else:\n",
    "                    print(f'Total Amount is: {self.Price*n}')\n",
    "                    Amt=int(input(\"Pay Amt: \"))\n",
    "                    if Amt==self.Price*n:\n",
    "                        self.Tickets-=n\n",
    "                        print(\"Tickets Confirmed\")\n",
    "                    else:\n",
    "                        print(\"Dear Customer please pay total amount, Tickets are Not Confirmed\")\n",
    "            else:\n",
    "                if self.Tickets<=n:\n",
    "                    print(f\"Dear Customer Available Tickets are {self.Tickets}\")\n",
    "                    print(f\"You selected More than Tickets Please select Within {self.Tickets}\")\n",
    "                    \n",
    "#These are all movies Decorated with Singleton class\n",
    "\n",
    "@Single\n",
    "class Dhamaka(Movie):\n",
    "    def __init__(self):\n",
    "        self.movie=\"Dhamaka(PVR)\"\n",
    "        self.Tickets=300\n",
    "        self.Price=150\n",
    "        self.Dis=25\n",
    "        self.Review=\"TRENDING MASS MOVIE\"\n",
    "    def Rev(self):\n",
    "        print(f\"DHAMAKA Review: {self.Review}\")\n",
    "@Single\n",
    "class Avathar(Movie):\n",
    "    def __init__(self):\n",
    "        self.movie=\"Avathar(Cinemax)\"\n",
    "        self.Tickets=120\n",
    "        self.Price=520\n",
    "        self.Review=\"MASTERPIECE\"\n",
    "        self.Dis=120\n",
    "    def Rev(self):\n",
    "        print(f\"AVATHAR Review: {self.Review}\")\n",
    "@Single\n",
    "class Love_Today(Movie):\n",
    "    def __init__(self):\n",
    "        self.movie=\"LoveToday\"\n",
    "        self.Tickets=200\n",
    "        self.Price=100\n",
    "        self.Dis=20\n",
    "        self.Review=\"BLACKBUSTER\"\n",
    "    def Rev(self):\n",
    "        print(f\"LOVETODAY Review: {self.Review}\")\n",
    "#This Function Represents the Reviews of the All the movies\n",
    "def Review():\n",
    "    obj=Dhamaka()\n",
    "    obj2=Avathar()\n",
    "    obj3=Love_Today()\n",
    "    obj.Rev()\n",
    "    obj2.Rev()\n",
    "    obj3.Rev()\n",
    "\n",
    "#This Function is Used to booking Process\n",
    "\n",
    "def Book():\n",
    "    m=int(input(\"Select Movie 1.Dhamaka , 2.Avathar and 3.LoveToday :\" ))\n",
    "    movie1=1\n",
    "    movie2=2\n",
    "    movie3=3\n",
    "    if movie1==m:\n",
    "        obj1=Dhamaka()\n",
    "        obj1.Bookings()\n",
    "    elif movie2==m:\n",
    "        obj=Avathar()\n",
    "        obj.Bookings()\n",
    "    elif movie3==m:\n",
    "        obj=Love_Today()\n",
    "        obj.Bookings()\n",
    "    else:\n",
    "        print('Only These movies are here Avathar,Dhamaka,LoveToday (Movie Was Removed, Select Above Movies Please)')\n",
    "        \n",
    "#These Below lines are used for selecting Booking or Review\n",
    "c=int(input(\"PLEASE SELECT THESE OPTIONS 1)Review,2)Book: \"))\n",
    "if c==1:\n",
    "    Review()\n",
    "    b=input(\"IF U WANT TICKETS,TYPE B, ELSE C: \")\n",
    "    if b==\"B\":\n",
    "        Book()\n",
    "    else:\n",
    "        print(\"Thank u, Come Again\")\n",
    "elif c==2:\n",
    "    Book()\n",
    "else:\n",
    "    print(\"Thank u\")\n",
    "DHAMAKA Review: TRENDING MASS MOVIE\n",
    "AVATHAR Review: MASTERPIECE\n",
    "LOVETODAY Review: BLACKBUSTER\n",
    "Available Tickets: 120\n",
    "Avathar(Cinemax) Ticket Price is: 520\n",
    "Discount Amount is:5400\n",
    "Total Amount is: 18000\n",
    "Tickets Confirmed"
   ]
  },
  {
   "cell_type": "code",
   "execution_count": 56,
   "id": "698dd1cf",
   "metadata": {},
   "outputs": [
    {
     "name": "stdout",
     "output_type": "stream",
     "text": [
      "enter amount5000\n",
      "name of the bank is SBI\n",
      "roi of the bank is 7\n",
      "branch of the bank is banglore\n",
      "ifsc of the bank is 1234\n",
      "enter amount5000\n",
      "withdraw is successful\n",
      "enter amount5000\n",
      "deposit is successful\n",
      "name of the bank is SBI\n",
      "roi of the bank is 7\n",
      "branch of the bank is banglore\n",
      "ifsc of the bank is 1234\n",
      "name of the customer is CHARDEVI\n",
      "age of the customer is 22\n",
      "account of the customer is 78978911\n",
      "balance of the customer is 11000\n",
      "enter amount5000\n",
      "roi is updated\n"
     ]
    }
   ],
   "source": [
    "class Bank_v1():\n",
    "    Bank_name='SBI'\n",
    "    Bank_roi=7\n",
    "    Bank_branch='hyderabad'\n",
    "    def __init__(self,n,a,ac,bal):\n",
    "        self.name=n\n",
    "        self.age=a\n",
    "        self.account=ac\n",
    "        self.balance=bal\n",
    "    @staticmethod\n",
    "    def get_int():\n",
    "        amount=int(input('enter amount'))\n",
    "        return amount\n",
    "    @classmethod    \n",
    "    def display_generic(cls):\n",
    "        print(f'name of the bank is {cls.Bank_name}')\n",
    "        print(f'roi of the bank is {cls.Bank_roi}')\n",
    "        print(f'branch of the bank is {cls.Bank_branch}')\n",
    "    def withdraw(self):\n",
    "        amount=self.get_int()\n",
    "        if self.balance>=amount:\n",
    "            self.balance-=amount\n",
    "            print('withdraw is successful')\n",
    "        else:\n",
    "            print('insufficient balance')\n",
    "    def deposit(self):\n",
    "        amount=self.get_int()\n",
    "        self.balance+=amount\n",
    "        print('deposit is successful')\n",
    "class Bank_v2(Bank_v1):\n",
    "    Bank_branch='banglore'\n",
    "    Bank_ifsc=1234\n",
    "    @classmethod\n",
    "    def display_generic(cls):\n",
    "        print(f'name of the bank is {cls.Bank_name}')\n",
    "        print(f'roi of the bank is {cls.Bank_roi}')\n",
    "        print(f'branch of the bank is {cls.Bank_branch}')\n",
    "        print(f'ifsc of the bank is {cls.Bank_ifsc}')\n",
    "    def customer_details(self):\n",
    "        print(f'name of the customer is {self.name}')\n",
    "        print(f'age of the customer is {self.age}')\n",
    "        print(f'account of the customer is {self.account}')\n",
    "        print(f'balance of the customer is {self.balance}')\n",
    "    @classmethod\n",
    "    def change_roi(cls):\n",
    "        new_roi=cls.get_int()\n",
    "        cls.Bank_roi=new_roi\n",
    "        print('roi is updated')\n",
    "chardevi=Bank_v2('CHARDEVI',22,78978911,11000)\n",
    "chardevi.get_int()\n",
    "chardevi.display_generic()\n",
    "chardevi.withdraw()\n",
    "chardevi.deposit()\n",
    "chardevi.display_generic()\n",
    "chardevi.customer_details()\n",
    "chardevi.change_roi()"
   ]
  },
  {
   "cell_type": "code",
   "execution_count": 70,
   "id": "0463eee6",
   "metadata": {},
   "outputs": [
    {
     "name": "stdout",
     "output_type": "stream",
     "text": [
      "enter amount5000\n",
      "name of the bank is SBI\n",
      "roi of the bank is 7\n",
      "branch of the bank is banglore\n",
      "ifsc of the bank is 1234\n",
      "enter amount501\n",
      "enter amount5000\n",
      "withdraw is successful\n",
      "enter amount11000\n",
      "deposit is successful\n",
      "name of the bank is SBI\n",
      "roi of the bank is 7\n",
      "branch of the bank is banglore\n",
      "ifsc of the bank is 1234\n",
      "name of the customer is A.Charishma\n",
      "age of the customer is 22\n",
      "account of the customer is 1197711\n",
      "balance of the customer is 17000\n",
      "pin of the customer is 501\n",
      "aadhar of the customer is 8142404690\n",
      "enter amount5000\n",
      "roi is updated\n"
     ]
    }
   ],
   "source": [
    "class Bank_v1():\n",
    "    Bank_name='SBI'\n",
    "    Bank_roi=7\n",
    "    Bank_branch='hyderabad'\n",
    "    def __init__(self,n,a,ac,bal):\n",
    "        self.name=n\n",
    "        self.age=a\n",
    "        self.account=ac\n",
    "        self.balance=bal\n",
    "    @staticmethod\n",
    "    def get_int():\n",
    "        amount=int(input('enter amount'))\n",
    "        return amount\n",
    "    @classmethod    \n",
    "    def bank_details(cls):\n",
    "        print(f'name of the bank is {cls.Bank_name}')\n",
    "        print(f'roi of the bank is {cls.Bank_roi}')\n",
    "        print(f'branch of the bank is {cls.Bank_branch}')\n",
    "    def withdraw(self):\n",
    "        amount=self.get_int()\n",
    "        if self.balance>=amount:\n",
    "            self.balance-=amount\n",
    "            print('withdraw is successful')\n",
    "        else:\n",
    "            print('insufficient balance')\n",
    "    def deposit(self):\n",
    "        amount=self.get_int()\n",
    "        self.balance+=amount\n",
    "        print('deposit is successful')\n",
    "class Bank_v2(Bank_v1):\n",
    "    Bank_branch='banglore'\n",
    "    Bank_ifsc=1234\n",
    "    def __init__(self,n,a,ac,bal,pin,ad):\n",
    "        self.name=n\n",
    "        self.age=a\n",
    "        self.account=ac\n",
    "        self.balance=bal\n",
    "        self.pin=pin\n",
    "        self.aadhar=ad\n",
    "    @classmethod\n",
    "    def bank_details(cls):\n",
    "        print(f'name of the bank is {cls.Bank_name}')\n",
    "        print(f'roi of the bank is {cls.Bank_roi}')\n",
    "        print(f'branch of the bank is {cls.Bank_branch}')\n",
    "        print(f'ifsc of the bank is {cls.Bank_ifsc}')\n",
    "    def customer_details(self):\n",
    "        print(f'name of the customer is {self.name}')\n",
    "        print(f'age of the customer is {self.age}')\n",
    "        print(f'account of the customer is {self.account}')\n",
    "        print(f'balance of the customer is {self.balance}')\n",
    "        print(f'pin of the customer is {self.pin}')\n",
    "        print(f'aadhar of the customer is {self.aadhar}')\n",
    "    def withdraw(self):\n",
    "        pi=self.get_int()\n",
    "        if self.pin==pi:\n",
    "            amount=self.get_int()\n",
    "            if self.balance>=amount:\n",
    "                self.balance-=amount\n",
    "                print('withdraw is successful')\n",
    "            else:\n",
    "                print('insufficient balance')\n",
    "        else:\n",
    "                print('incorrect pin')\n",
    "    @classmethod\n",
    "    def change_roi(cls):\n",
    "        new_roi=cls.get_int()\n",
    "        cls.Bank_roi=new_roi\n",
    "        print('roi is updated') \n",
    "charishma=Bank_v2('A.Charishma',22,1197711,11000,501,8142404690)\n",
    "charishma.get_int()\n",
    "charishma.bank_details()\n",
    "charishma.withdraw()\n",
    "charishma.deposit()\n",
    "charishma.bank_details()\n",
    "charishma.customer_details()\n",
    "charishma.change_roi()"
   ]
  },
  {
   "cell_type": "code",
   "execution_count": 3,
   "id": "0d0d7d42",
   "metadata": {},
   "outputs": [
    {
     "name": "stdout",
     "output_type": "stream",
     "text": [
      "enter amount1722\n",
      "enter amount2000\n",
      "withdraw is successful\n",
      "name of the bank is SBI\n",
      "roi of the bank is 7\n",
      "branch of the bank is bangalore\n",
      "ifsc of the Bank is 1234\n",
      "name of the customer is A.Charishma\n",
      "age of the customer is 22\n",
      "account of the customer is 7893347525\n",
      "balance of the customer is 9000\n",
      "pin of the customer is 1722\n",
      "aadhar of the customer is 8142404690\n",
      "enter amount5000\n",
      "deposite is successful\n"
     ]
    }
   ],
   "source": [
    "class Bank_v1():\n",
    "    Bank_name='SBI'\n",
    "    Bank_roi=7\n",
    "    Bank_branch='hyderabad'\n",
    "    def __init__(self,n,a,ac,bal):\n",
    "        self.name=n\n",
    "        self.age=a\n",
    "        self.account=ac\n",
    "        self.balance=bal\n",
    "    @staticmethod\n",
    "    def get_int():\n",
    "        amount=int(input('enter amount'))\n",
    "        return amount\n",
    "    @classmethod    \n",
    "    def Bank_details(cls):\n",
    "        print(f'name of the bank is {cls.Bank_name}')\n",
    "        print(f'roi of the bank is {cls.Bank_roi}')\n",
    "        print(f'branch of the bank is {cls.Bank_branch}')\n",
    "    def customer_details(self):\n",
    "        print(f'name of the customer is {self.name}')\n",
    "        print(f'age of the customer is {self.age}')\n",
    "        print(f'account of the customer is {self.account}')\n",
    "        print(f'balance of the customer is {self.balance}')\n",
    "    def withdraw(self):\n",
    "        amount=self.get_int()\n",
    "        if self.balance>=amount:\n",
    "            self.balance-=amount\n",
    "            print('withdraw is successful')\n",
    "        else:\n",
    "            print('insufficient balance')\n",
    "    def deposite(self):\n",
    "        amount=self.get_int()\n",
    "        self.balance+=amount\n",
    "        print('deposite is successful')\n",
    "class Bank_v2(Bank_v1):\n",
    "    Bank_branch='bangalore'\n",
    "    Bank_ifsc=1234\n",
    "    def __init__(self,n,a,ac,bal,p,ad):\n",
    "        super().__init__(n,a,ac,bal)\n",
    "        #Bank_v1.__init__(n,a,ac,bal)\n",
    "        self.pin=p\n",
    "        self.aadhar=ad\n",
    "    def customer_details(self):\n",
    "        super().customer_details()\n",
    "        #Bank_v1.customer_details()\n",
    "        print(f'pin of the customer is {self.pin}')\n",
    "        print(f'aadhar of the customer is {self.aadhar}')\n",
    "    @classmethod\n",
    "    def Bank_details(cls):\n",
    "        super().Bank_details()\n",
    "        #Bank_v1.Bank_details()\n",
    "        print(f'ifsc of the Bank is {cls.Bank_ifsc}')\n",
    "    def withdraw(self):\n",
    "        pin=self.get_int()\n",
    "        if pin==self.pin:\n",
    "            super().withdraw()\n",
    "            #Bank_v1.withdraw()\n",
    "        else:\n",
    "            print('incorrect pin')\n",
    "Charishma=Bank_v2('A.Charishma',22,7893347525,11000,1722,8142404690)\n",
    "Charishma.withdraw()\n",
    "Charishma.Bank_details()\n",
    "Charishma.customer_details()\n",
    "Charishma.deposite()"
   ]
  },
  {
   "cell_type": "code",
   "execution_count": 5,
   "id": "03244e32",
   "metadata": {},
   "outputs": [
    {
     "name": "stdout",
     "output_type": "stream",
     "text": [
      "cherry\n",
      "cherry\n"
     ]
    }
   ],
   "source": [
    "def Devi():\n",
    "    print('cherry')\n",
    "    return 'cherry'\n",
    "charishma=Devi()\n",
    "print(charishma)"
   ]
  },
  {
   "cell_type": "code",
   "execution_count": 1,
   "id": "ffa9a329",
   "metadata": {},
   "outputs": [
    {
     "name": "stdout",
     "output_type": "stream",
     "text": [
      "3\n",
      "deposite is successful\n",
      "name of the bank is canara\n",
      " roi of thr bank is 7\n",
      "branch of the bank is india\n",
      "canara\n"
     ]
    }
   ],
   "source": [
    "class Bank1():\n",
    "    Bank_name='canara'\n",
    "    Bank_roi=7\n",
    "    Bank_branch='india'\n",
    "    def __init__(self,n,a,ac,bal):\n",
    "        self.name=n\n",
    "        self.age=a\n",
    "        self.account=ac\n",
    "        self.balance=bal\n",
    "    @staticmethod\n",
    "    def get_int():\n",
    "        amount=int(input())\n",
    "        return amount\n",
    "    @classmethod  \n",
    "    def display_generic(cls):\n",
    "        print(f'name of the bank is {cls.Bank_name}')\n",
    "        print(f' roi of thr bank is {cls.Bank_roi}')\n",
    "        print(f'branch of the bank is {cls.Bank_branch}')\n",
    "    def withdraw(self):\n",
    "        amount=self.get_int()\n",
    "        if self.balance>=amount:\n",
    "            self.balance-=amount\n",
    "            print('withdraw is successful')\n",
    "        else:\n",
    "            print('Insufficient balance')\n",
    "    def deposite(self):\n",
    "        amount=self.get_int()\n",
    "        self.balance+=amount\n",
    "        print('deposite is successful')\n",
    "charishma=Bank1('A.CHARISHMA',22,7893347525,8142404690)\n",
    "charishma.deposite()\n",
    "charishma.display_generic()\n",
    "print(charishma.Bank_name)"
   ]
  },
  {
   "cell_type": "code",
   "execution_count": 51,
   "id": "6134ce18",
   "metadata": {},
   "outputs": [
    {
     "name": "stdout",
     "output_type": "stream",
     "text": [
      "canara\n",
      "7\n",
      "7\n",
      "5\n",
      "5\n"
     ]
    }
   ],
   "source": [
    "class Bank1():\n",
    "    Bank_name='canara'\n",
    "    Bank_roi=7\n",
    "    Bank_branch='india'\n",
    "charishma=Bank1()\n",
    "print(charishma.Bank_name)\n",
    "print(Bank1.Bank_roi)\n",
    "print(charishma.Bank_roi)\n",
    "Bank1.Bank_roi=5\n",
    "print(Bank1.Bank_roi)\n",
    "print(charishma.Bank_roi)"
   ]
  },
  {
   "cell_type": "code",
   "execution_count": 2,
   "id": "c19f08e8",
   "metadata": {},
   "outputs": [
    {
     "name": "stdout",
     "output_type": "stream",
     "text": [
      "student name is devi\n",
      "student age is 22\n",
      "student class is python\n",
      "student address is india\n"
     ]
    },
    {
     "ename": "AttributeError",
     "evalue": "'str' object has no attribute 'display_address'",
     "output_type": "error",
     "traceback": [
      "\u001b[1;31m---------------------------------------------------------------------------\u001b[0m",
      "\u001b[1;31mAttributeError\u001b[0m                            Traceback (most recent call last)",
      "\u001b[1;32m~\\AppData\\Local\\Temp\\ipykernel_8724\\2847180853.py\u001b[0m in \u001b[0;36m<module>\u001b[1;34m\u001b[0m\n\u001b[0;32m     26\u001b[0m \u001b[0mdevi\u001b[0m\u001b[1;33m=\u001b[0m\u001b[0mStudent\u001b[0m\u001b[1;33m(\u001b[0m\u001b[1;34m'devi'\u001b[0m\u001b[1;33m,\u001b[0m\u001b[1;36m22\u001b[0m\u001b[1;33m,\u001b[0m\u001b[1;34m'python'\u001b[0m\u001b[1;33m,\u001b[0m\u001b[1;34m'india'\u001b[0m\u001b[1;33m)\u001b[0m\u001b[1;33m\u001b[0m\u001b[1;33m\u001b[0m\u001b[0m\n\u001b[0;32m     27\u001b[0m \u001b[0mcherry\u001b[0m\u001b[1;33m=\u001b[0m\u001b[0mStudent\u001b[0m\u001b[1;33m(\u001b[0m\u001b[1;34m'cherry'\u001b[0m\u001b[1;33m,\u001b[0m\u001b[1;36m21\u001b[0m\u001b[1;33m,\u001b[0m\u001b[1;34m'python'\u001b[0m\u001b[1;33m,\u001b[0m\u001b[1;34m'india'\u001b[0m\u001b[1;33m)\u001b[0m\u001b[1;33m\u001b[0m\u001b[1;33m\u001b[0m\u001b[0m\n\u001b[1;32m---> 28\u001b[1;33m \u001b[0mprint\u001b[0m\u001b[1;33m(\u001b[0m\u001b[0mdevi\u001b[0m\u001b[1;33m.\u001b[0m\u001b[0mstudent_details\u001b[0m\u001b[1;33m(\u001b[0m\u001b[1;33m)\u001b[0m\u001b[1;33m)\u001b[0m\u001b[1;33m\u001b[0m\u001b[1;33m\u001b[0m\u001b[0m\n\u001b[0m",
      "\u001b[1;32m~\\AppData\\Local\\Temp\\ipykernel_8724\\2847180853.py\u001b[0m in \u001b[0;36mstudent_details\u001b[1;34m(self)\u001b[0m\n\u001b[0;32m     10\u001b[0m         \u001b[0mprint\u001b[0m\u001b[1;33m(\u001b[0m\u001b[1;34mf'student class is {self.classs}'\u001b[0m\u001b[1;33m)\u001b[0m\u001b[1;33m\u001b[0m\u001b[1;33m\u001b[0m\u001b[0m\n\u001b[0;32m     11\u001b[0m         \u001b[0mprint\u001b[0m\u001b[1;33m(\u001b[0m\u001b[1;34mf'student address is {self.address}'\u001b[0m\u001b[1;33m)\u001b[0m\u001b[1;33m\u001b[0m\u001b[1;33m\u001b[0m\u001b[0m\n\u001b[1;32m---> 12\u001b[1;33m         \u001b[0mself\u001b[0m\u001b[1;33m.\u001b[0m\u001b[0maddress\u001b[0m\u001b[1;33m.\u001b[0m\u001b[0mdisplay_address\u001b[0m\u001b[1;33m(\u001b[0m\u001b[1;33m)\u001b[0m\u001b[1;33m\u001b[0m\u001b[1;33m\u001b[0m\u001b[0m\n\u001b[0m\u001b[0;32m     13\u001b[0m \u001b[1;32mclass\u001b[0m \u001b[0mAddress\u001b[0m\u001b[1;33m(\u001b[0m\u001b[1;33m)\u001b[0m\u001b[1;33m:\u001b[0m\u001b[1;33m\u001b[0m\u001b[1;33m\u001b[0m\u001b[0m\n\u001b[0;32m     14\u001b[0m     \u001b[1;32mdef\u001b[0m \u001b[0m__init__\u001b[0m\u001b[1;33m(\u001b[0m\u001b[0mself\u001b[0m\u001b[1;33m,\u001b[0m\u001b[0mc\u001b[0m\u001b[1;33m,\u001b[0m\u001b[0md\u001b[0m\u001b[1;33m,\u001b[0m\u001b[0ms\u001b[0m\u001b[1;33m,\u001b[0m\u001b[0mco\u001b[0m\u001b[1;33m)\u001b[0m\u001b[1;33m:\u001b[0m\u001b[1;33m\u001b[0m\u001b[1;33m\u001b[0m\u001b[0m\n",
      "\u001b[1;31mAttributeError\u001b[0m: 'str' object has no attribute 'display_address'"
     ]
    }
   ],
   "source": [
    "class Student():\n",
    "    def __init__(self,n,a,cl,ad):\n",
    "        self.name=n\n",
    "        self.age=a\n",
    "        self.classs=cl\n",
    "        self.address=ad\n",
    "    def student_details(self):\n",
    "        print(f'student name is {self.name}')\n",
    "        print(f'student age is {self.age}')\n",
    "        print(f'student class is {self.classs}')\n",
    "        print(f'student address is {self.address}')\n",
    "        self.address.display_address()\n",
    "class Address():\n",
    "    def __init__(self,c,d,s,co):\n",
    "        self.city=c\n",
    "        self.district=d\n",
    "        self.state=s\n",
    "        self.country=co\n",
    "    def display_address(self):\n",
    "        print(f'city name is {self.city}')\n",
    "        print(f'district name is {self.district}')\n",
    "        print(f'state name is {self.state}')\n",
    "        print(f'country name is {self.country}')\n",
    "chitthore=Address('chittore','tirupati','ap','india')\n",
    "nellore=Address('nellore','Nellore','ap','india')\n",
    "devi=Student('devi',22,'python','india')\n",
    "cherry=Student('cherry',21,'python','india')\n",
    "print(devi.student_details())"
   ]
  },
  {
   "cell_type": "code",
   "execution_count": 9,
   "id": "7896c421",
   "metadata": {},
   "outputs": [
    {
     "name": "stdout",
     "output_type": "stream",
     "text": [
      "devi\n"
     ]
    }
   ],
   "source": [
    "class py():\n",
    "    cname='python'\n",
    "    tname='santosh'\n",
    "    def __init__(self,name,age,mno):\n",
    "        self.name=name\n",
    "        self.age=age\n",
    "        self.mno=mno\n",
    "ob=py('devi',22,506)\n",
    "print(ob.name)"
   ]
  },
  {
   "cell_type": "code",
   "execution_count": 7,
   "id": "11cab152",
   "metadata": {},
   "outputs": [
    {
     "name": "stdout",
     "output_type": "stream",
     "text": [
      "39\n"
     ]
    }
   ],
   "source": [
    "d=7893347525\n",
    "res=0\n",
    "while d!=0:\n",
    "    rem=d%10\n",
    "    d=d//10\n",
    "    if rem%2!=0:\n",
    "        res+=rem\n",
    "print(res)"
   ]
  },
  {
   "cell_type": "code",
   "execution_count": 10,
   "id": "1e577ab9",
   "metadata": {},
   "outputs": [
    {
     "name": "stdout",
     "output_type": "stream",
     "text": [
      "53\n"
     ]
    }
   ],
   "source": [
    "d=7893347525\n",
    "res=0\n",
    "while d!=0:\n",
    "    rem=d%10\n",
    "    d=d//10\n",
    "    res=res+rem\n",
    "print(res)"
   ]
  },
  {
   "cell_type": "code",
   "execution_count": 8,
   "id": "b6a7dfdd",
   "metadata": {},
   "outputs": [
    {
     "name": "stdout",
     "output_type": "stream",
     "text": [
      "1700\n",
      "deposite is successful\n",
      "name of the bank is canara\n",
      " roi of thr bank is 7\n",
      "branch of the bank is india\n",
      "canara\n"
     ]
    }
   ],
   "source": [
    "class Bank1():\n",
    "    Bank_name='canara'\n",
    "    Bank_roi=7\n",
    "    Bank_branch='india'\n",
    "    def __init__(self,n,a,ac,bal):\n",
    "        self.name=n\n",
    "        self.age=a\n",
    "        self.account=ac\n",
    "        self.balance=bal\n",
    "    @staticmethod\n",
    "    def get_int():\n",
    "        amount=int(input())\n",
    "        return amount\n",
    "    @classmethod  \n",
    "    def display_generic(cls):\n",
    "        print(f'name of the bank is {cls.Bank_name}')\n",
    "        print(f' roi of thr bank is {cls.Bank_roi}')\n",
    "        print(f'branch of the bank is {cls.Bank_branch}')\n",
    "    def withdraw(self):\n",
    "        amount=self.get_int()\n",
    "        if self.balance>=amount:\n",
    "            self.balance-=amount\n",
    "            print('withdraw is successful')\n",
    "        else:\n",
    "            print('Insufficient balance')\n",
    "    def deposite(self):\n",
    "        amount=self.get_int()\n",
    "        self.balance+=amount\n",
    "        print('deposite is successful')\n",
    "charishma=Bank1('A.CHARISHMA',22,7893347525,8142404690)\n",
    "charishma.deposite()\n",
    "charishma.display_generic()\n",
    "print(charishma.Bank_name)"
   ]
  },
  {
   "cell_type": "code",
   "execution_count": 11,
   "id": "d05f2784",
   "metadata": {},
   "outputs": [
    {
     "name": "stdout",
     "output_type": "stream",
     "text": [
      "<__main__.Bank object at 0x000001E834EC2B20>\n",
      "this is called\n",
      "cherry\n",
      "canara\n"
     ]
    }
   ],
   "source": [
    "class Bank():\n",
    "    bank_name='canara'\n",
    "    bank_roi=0.07\n",
    "    bank_branch='india'\n",
    "    def __init__(self,n,a,ac,bal):\n",
    "        print(self)\n",
    "        print('this is called')\n",
    "        self.name=n\n",
    "        self.age=a\n",
    "        self.account=ac\n",
    "        self.balance=bal\n",
    "charishma=Bank('cherry',21,11,11000)\n",
    "print(charishma.name)\n",
    "print(charishma.bank_name)"
   ]
  },
  {
   "cell_type": "code",
   "execution_count": 27,
   "id": "0a6a9bad",
   "metadata": {},
   "outputs": [
    {
     "name": "stdout",
     "output_type": "stream",
     "text": [
      "withdraw is done\n"
     ]
    }
   ],
   "source": [
    "class Bank():\n",
    "    bank_name='canara'\n",
    "    bank_roi=0.07\n",
    "    bank_branch='india'\n",
    "    def __init__(self,n,a,ac,bal):\n",
    "        self.name=n\n",
    "        self.age=a\n",
    "        self.account=ac\n",
    "        self.balance=bal\n",
    "    def display_specific(self):\n",
    "        print(self.name)\n",
    "        print(self.age)\n",
    "        print(self.account)\n",
    "        print(self.balance)\n",
    "    def withdraw(self,amount):\n",
    "        if self.balance>=amount:\n",
    "            self.balance-=amount\n",
    "            print('withdraw is done')\n",
    "        else:\n",
    "            print('low balance')\n",
    "    def deposite(self):\n",
    "        amount=int(input('enter amount'))\n",
    "        self.balance+=amount\n",
    "        print('deposit is successfull')\n",
    "devi=Bank('chardevi',22,500,11000)\n",
    "devi.withdraw(2000)"
   ]
  },
  {
   "cell_type": "code",
   "execution_count": 34,
   "id": "4f9230cf",
   "metadata": {},
   "outputs": [
    {
     "name": "stdout",
     "output_type": "stream",
     "text": [
      "first line of outer\n",
      "<function hai at 0x000001B1A0A89940>\n",
      "last line of outer\n",
      "<function Outer.<locals>.inner at 0x000001B1A0A89B80>\n",
      "first line of inner\n",
      "<function hai at 0x000001B1A0A89940>\n",
      "hai is started\n",
      "hai is ended\n",
      "last line of inner\n"
     ]
    }
   ],
   "source": [
    "def Outer(arg):#arg=hai function address\n",
    "    print('first line of outer')\n",
    "    print(arg)\n",
    "    def inner():\n",
    "        print('first line of inner')\n",
    "        print(arg)\n",
    "        arg()\n",
    "        print('last line of inner')\n",
    "    print('last line of outer')\n",
    "    return inner\n",
    "def hai():\n",
    "    print('hai is started')\n",
    "    print('hai is ended')\n",
    "result=Outer(hai)#result=inner function address\n",
    "print(result)\n",
    "result()"
   ]
  },
  {
   "cell_type": "code",
   "execution_count": 39,
   "id": "e236fe04",
   "metadata": {},
   "outputs": [
    {
     "name": "stdout",
     "output_type": "stream",
     "text": [
      "first line of outer\n",
      "<function hai at 0x000001B1A0A6EF70>\n",
      "last line of outer\n",
      "first line of inner\n",
      "<function hai at 0x000001B1A0A6EF70>\n",
      "hai is started\n",
      "hai is ended\n",
      "last line of inner\n"
     ]
    }
   ],
   "source": [
    "def Outer(arg):#arg=hai function address\n",
    "    print('first line of outer')\n",
    "    print(arg)\n",
    "    def inner():\n",
    "        print('first line of inner')\n",
    "        print(arg)\n",
    "        arg()\n",
    "        print('last line of inner')\n",
    "    print('last line of outer')\n",
    "    return inner\n",
    "@Outer#hai=outer(adress of hai)#hai=inner function address\n",
    "def hai():\n",
    "    print('hai is started')\n",
    "    print('hai is ended')\n",
    "hai()"
   ]
  },
  {
   "cell_type": "code",
   "execution_count": 42,
   "id": "09c1110a",
   "metadata": {},
   "outputs": [
    {
     "name": "stdout",
     "output_type": "stream",
     "text": [
      "enter number1100\n",
      "<__main__.Bank object at 0x000001B1A09AE6D0>\n",
      "withdraw is done\n",
      "9900\n"
     ]
    }
   ],
   "source": [
    "class Bank():\n",
    "    bank_name='canara'\n",
    "    bank_roi=0.07\n",
    "    bank_branch='india'\n",
    "    def __init__(self,n,a,ac,bal):\n",
    "        self.name=n\n",
    "        self.age=a\n",
    "        self.account=ac\n",
    "        self.balance=bal\n",
    "    def withdraw(self):\n",
    "        amount=self.get_input()\n",
    "        print(self)\n",
    "        if self.balance>=amount:\n",
    "            self.balance-=amount\n",
    "            print('withdraw is done')\n",
    "        else:\n",
    "            print('low amount')\n",
    "    @classmethod\n",
    "    def modifyroi(cls):\n",
    "        newroi=cls.get_input()\n",
    "        print(cls)\n",
    "        cls.bank_roi=newroi\n",
    "        print('roi is updated')\n",
    "    @classmethod\n",
    "    def display_generic(cls):\n",
    "        print(cls)\n",
    "        print('bank_name is',cls.bank_name)\n",
    "        print('bank_roi is',cls.bank_roi)\n",
    "        print('bank_branch is',cls.bank_branch)\n",
    "    @staticmethod\n",
    "    def get_input():\n",
    "        integer=int(input('enter number'))\n",
    "        return integer\n",
    "devi=Bank('chardevi',22,92,11000)\n",
    "devi.withdraw()\n",
    "print(devi.balance)"
   ]
  },
  {
   "cell_type": "code",
   "execution_count": 45,
   "id": "45acb323",
   "metadata": {},
   "outputs": [
    {
     "name": "stdout",
     "output_type": "stream",
     "text": [
      "enter number199\n",
      "<__main__.Bank2 object at 0x000001B1A099B550>\n",
      "withdraw is done\n",
      "10801\n",
      "enter number7\n",
      "<class '__main__.Bank2'>\n",
      "roi is updated\n"
     ]
    }
   ],
   "source": [
    "#SINGLE LEVEL INHERITANCE\n",
    "class Bank1():\n",
    "    bank_name='canara'\n",
    "    bank_roi=0.07\n",
    "    bank_branch='india'\n",
    "    def __init__(self,n,a,ac,bal):\n",
    "        self.name=n\n",
    "        self.age=a\n",
    "        self.account=ac\n",
    "        self.balance=bal\n",
    "    def deposite(self):\n",
    "        amount=self.get_input()\n",
    "        self.balance+=amount\n",
    "        print('deposite is done sucessfully')\n",
    "    def withdraw(self):\n",
    "        amount=self.get_input()\n",
    "        print(self)\n",
    "        if self.balance>=amount:\n",
    "            self.balance-=amount\n",
    "            print('withdraw is done')\n",
    "        else:\n",
    "            print('low amount')\n",
    "    @classmethod\n",
    "    def display_generic(cls):\n",
    "        print(cls)\n",
    "        print('bank_name is',cls.bank_name)\n",
    "        print('bank_roi is',cls.bank_roi)\n",
    "        print('bank_branch is',cls.bank_branch)\n",
    "    @staticmethod\n",
    "    def get_input():\n",
    "        integer=int(input('enter number'))\n",
    "        return integer\n",
    "class Bank2(Bank1):\n",
    "    bank_ifsc=1234\n",
    "    bank_branch='america'\n",
    "    @classmethod\n",
    "    def display_generic(cls):\n",
    "        print(cls)\n",
    "        print('bank_name is',cls.bank_name)\n",
    "        print('bank_ifsc is',cls.bank_ifsc)\n",
    "        print('bank_branch is',cls.bank_branch)\n",
    "    def customer_details(self):\n",
    "        print(f'name of the customer is {self.name}')\n",
    "        print(f'age of the customer is {self.age}')\n",
    "        print(f'account of the customer is {self.account}')\n",
    "        print(f'balance of the customer is {self.balance}')\n",
    "    @classmethod\n",
    "    def modifyroi(cls):\n",
    "        newroi=cls.get_input()\n",
    "        print(cls)\n",
    "        cls.bank_roi=newroi\n",
    "        print('roi is updated')\n",
    "devi=Bank2('chardevi',22,92,11000)\n",
    "devi.withdraw()\n",
    "print(devi.balance)\n",
    "devi.modifyroi()"
   ]
  },
  {
   "cell_type": "code",
   "execution_count": 53,
   "id": "9dce99c0",
   "metadata": {},
   "outputs": [
    {
     "name": "stdout",
     "output_type": "stream",
     "text": [
      "name:chardevi\n",
      "mno:22\n",
      "account:11\n",
      "balance:11000\n",
      "mail:7\n",
      "aadhar:20\n",
      "pan:1722\n"
     ]
    }
   ],
   "source": [
    "#MULTILEVEL INHERITANCE\n",
    "class Bank1():\n",
    "    def __init__(self,n,mn,ac,bal):\n",
    "        self.name=n\n",
    "        self.mno=mn\n",
    "        self.account=ac\n",
    "        self.balance=bal\n",
    "    def details(self):\n",
    "        print(f'name:{self.name}')\n",
    "        print(f'mno:{self.mno}')\n",
    "        print(f'account:{self.account}')\n",
    "        print(f'balance:{self.balance}')\n",
    "class Bank2(Bank1):\n",
    "    def __init__(self,n,mn,ac,bal,m,ad):\n",
    "        super().__init__(n,mn,ac,bal)\n",
    "        self.mail=m\n",
    "        self.aadhar=ad\n",
    "    def details(self):\n",
    "        super().details()\n",
    "        print(f'mail:{self.mail}')\n",
    "        print(f'aadhar:{self.aadhar}')\n",
    "class Bank3(Bank2):\n",
    "    def __init__(self,n,mn,ac,bal,m,ad,p):\n",
    "        super().__init__(n,mn,ac,bal,m,ad)\n",
    "        self.pan=p\n",
    "    def details(self):\n",
    "        super().details()\n",
    "        print(f'pan:{self.pan}')\n",
    "devi=Bank3('chardevi',22,11,11000,7,20,1722)\n",
    "devi.details()"
   ]
  },
  {
   "cell_type": "code",
   "execution_count": 14,
   "id": "ff994876",
   "metadata": {},
   "outputs": [
    {
     "name": "stdout",
     "output_type": "stream",
     "text": [
      "not\n"
     ]
    }
   ],
   "source": [
    "def special(n):\n",
    "    res=0\n",
    "    while n!=0:\n",
    "        rem=n%10\n",
    "        n=n//10\n",
    "        fact=1\n",
    "        for i in range(1,rem+1):\n",
    "            fact*=i\n",
    "        res+=rem\n",
    "    return res\n",
    "n=145\n",
    "r=special(n)\n",
    "if n==r:\n",
    "    print('special')\n",
    "else:\n",
    "    print('not')"
   ]
  },
  {
   "cell_type": "code",
   "execution_count": 5,
   "id": "be937bee",
   "metadata": {},
   "outputs": [
    {
     "name": "stdout",
     "output_type": "stream",
     "text": [
      "Devi name is chardevi\n",
      "Devi age is 22\n",
      "Devi balance is 11000\n",
      "Devi pin is 1722\n"
     ]
    }
   ],
   "source": [
    "class Devi():\n",
    "    def __init__(self,n,a):\n",
    "        self.name=n\n",
    "        self.age=a\n",
    "    def details(self):\n",
    "        print('Devi name is',self.name)\n",
    "        print('Devi age is',self.age)\n",
    "class Cherry(Devi):\n",
    "    def __init__(self,n,a,b,p):\n",
    "        super().__init__(n,a)\n",
    "        self.balance=b\n",
    "        self.pin=p\n",
    "    def details(self):\n",
    "        super().details()\n",
    "        print('Devi balance is',self.balance)\n",
    "        print('Devi pin is',self.pin)\n",
    "c=Cherry('chardevi',22,11000,1722)\n",
    "c.details()"
   ]
  },
  {
   "cell_type": "code",
   "execution_count": 3,
   "id": "c00dbc0e",
   "metadata": {},
   "outputs": [
    {
     "name": "stdout",
     "output_type": "stream",
     "text": [
      "1722\n",
      "5000\n",
      "withdraw is done\n",
      "17000\n"
     ]
    }
   ],
   "source": [
    "class Bank():\n",
    "    bank_name='canara'\n",
    "    bank_roi=0.07\n",
    "    def __init__(self,n,a,b,p,ac):\n",
    "        self.name=n\n",
    "        self.age=a\n",
    "        self.balance=b\n",
    "        self.pin=p\n",
    "        self.account=ac\n",
    "    @classmethod\n",
    "    def change_roi(cls,n):\n",
    "        cls.roi=n\n",
    "    def withdraw(self):\n",
    "        if self.pin==self.get_pin():\n",
    "            amt=int(input(''))\n",
    "            if self.balance>=amt:\n",
    "                self.balance-=amt\n",
    "                print('withdraw is done')\n",
    "            else:\n",
    "                print('low balance')\n",
    "        else:\n",
    "            print('incorrect pin')\n",
    "    def check_balance(self):\n",
    "        if self.pin==get_pin():\n",
    "            print(f'(self.n) current balance is (self.b)')\n",
    "        else:\n",
    "            print('incorrect pin')\n",
    "    @staticmethod\n",
    "    def get_pin():\n",
    "        return int(input(''))\n",
    "ob=Bank('chardevi',22,22000,1722,'cherry')\n",
    "ob.withdraw()\n",
    "print(ob.balance)"
   ]
  },
  {
   "cell_type": "code",
   "execution_count": 8,
   "id": "fb56241a",
   "metadata": {},
   "outputs": [
    {
     "name": "stdout",
     "output_type": "stream",
     "text": [
      "love you cherry\n",
      "always\n"
     ]
    }
   ],
   "source": [
    "from abc import ABC,abstractmethod\n",
    "class Cherry(ABC):\n",
    "    def love(self):\n",
    "        pass\n",
    "    def talk(self):\n",
    "        print('love you chardevi')\n",
    "class Devi(Cherry):\n",
    "    def love(self):\n",
    "        print('love you cherry')\n",
    "    def talk(self):\n",
    "        print('always')\n",
    "c=Devi()\n",
    "c.love()\n",
    "c.talk()"
   ]
  },
  {
   "cell_type": "code",
   "execution_count": 6,
   "id": "f8df9106",
   "metadata": {},
   "outputs": [
    {
     "name": "stdout",
     "output_type": "stream",
     "text": [
      "10\n",
      "7\n",
      "11\n"
     ]
    }
   ],
   "source": [
    "#Solving Overloading By Using \"Reduce Function\"\n",
    "from functools import reduce\n",
    "class Sample():\n",
    "    def sum(self,*args):\n",
    "        return reduce(lambda a,b:a+b,args)\n",
    "ob=Sample()\n",
    "print(ob.sum(1,2,3,4))\n",
    "print(ob.sum(0,2,5))\n",
    "print(ob.sum(2,7,2))"
   ]
  },
  {
   "cell_type": "code",
   "execution_count": 18,
   "id": "14387223",
   "metadata": {},
   "outputs": [
    {
     "name": "stdout",
     "output_type": "stream",
     "text": [
      "enter value5000\n",
      "done\n",
      "canara\n",
      "7\n",
      "india\n",
      "enter value7\n",
      "roi is modified\n"
     ]
    }
   ],
   "source": [
    "class Bank():\n",
    "    bank_name='canara'\n",
    "    bank_roi=7\n",
    "    bank_branch='india'\n",
    "    def __init__(self,n,a,ac,b):\n",
    "        self.name=n\n",
    "        self.age=a\n",
    "        self.account=ac\n",
    "        self.balance=b\n",
    "    def withdraw(self):\n",
    "        amt=self.get()\n",
    "        if self.balance>amt:\n",
    "            self.balance-=amt\n",
    "            print('done')\n",
    "        else:\n",
    "            print('no money')\n",
    "    @classmethod\n",
    "    def generic(cls):\n",
    "        print(cls.bank_name)\n",
    "        print(cls.bank_roi)\n",
    "        print(cls.bank_branch)\n",
    "    @classmethod\n",
    "    def modify_roi(cls):\n",
    "        new_roi=cls.get()\n",
    "        cls.bank_roi=new_roi\n",
    "        print('roi is modified')\n",
    "    @staticmethod\n",
    "    def get():\n",
    "        integer=int(input('enter value'))\n",
    "        return integer\n",
    "d=Bank('Devi',22,143,22000)\n",
    "c=Bank('Cherry',22,143,17000)\n",
    "c.withdraw()\n",
    "c.generic()\n",
    "c.modify_roi()"
   ]
  },
  {
   "cell_type": "code",
   "execution_count": 3,
   "id": "4cbe5d22",
   "metadata": {},
   "outputs": [
    {
     "name": "stdout",
     "output_type": "stream",
     "text": [
      "name of the bank is canara\n",
      "roi of the bank is 7\n",
      "branch of the bank is canada\n",
      "ifsc is 1234\n",
      "enter value1722\n",
      "enter value5000\n",
      "Done\n"
     ]
    }
   ],
   "source": [
    "class Bank1():\n",
    "    bank_name='canara'\n",
    "    bank_roi=7\n",
    "    bank_branch='india'\n",
    "    def __init__(self,n,a,ac,bal):\n",
    "        self.name=n\n",
    "        self.age=a\n",
    "        self.account=ac\n",
    "        self.balance=bal\n",
    "    @staticmethod\n",
    "    def get():\n",
    "        amt=int(input('enter value'))\n",
    "        return amt\n",
    "    def customer(self):\n",
    "        print(f'name is {self.name}')\n",
    "        print(f'age is {self.age}')\n",
    "        print(f'account is {self.account}')\n",
    "        print(f'balance is {self.balance}')\n",
    "    @classmethod\n",
    "    def bank_details(cls):\n",
    "        print(f'name of the bank is {cls.bank_name}')\n",
    "        print(f'roi of the bank is {cls.bank_roi}')\n",
    "        print(f'branch of the bank is {cls.bank_branch}')\n",
    "    def withdraw(self):\n",
    "        amt=self.get()\n",
    "        if self.balance>amt:\n",
    "            self.balance-=amt\n",
    "            print('Done')\n",
    "        else:\n",
    "            print('No Money')\n",
    "    def deposite(self):\n",
    "        amt=self.get()\n",
    "        self.balance+=amt\n",
    "        print('Done')\n",
    "class Bank2(Bank1):\n",
    "    bank_branch='canada'\n",
    "    bank_ifsc=1234\n",
    "    def __init__(self,n,a,ac,bal,p,ad):\n",
    "        super().__init__(n,a,ac,bal)\n",
    "        self.pin=p\n",
    "        self.aadhar=a\n",
    "    def customer(self):\n",
    "        super().customer()\n",
    "        print(f'pin is {self.pin}')\n",
    "        print(f'aadhar is {self.aadhar}')\n",
    "    @classmethod\n",
    "    def bank_details(cls):\n",
    "        super().bank_details()\n",
    "        print(f'ifsc is {cls.bank_ifsc}')\n",
    "    def withdraw(self):\n",
    "        pin=self.get()\n",
    "        if pin==self.pin:\n",
    "            super().withdraw()\n",
    "        else:\n",
    "            print('incorrect pin')\n",
    "devi=Bank2('DEVi',22,12345,22000,1722,7893347525)\n",
    "devi.bank_details()\n",
    "devi.withdraw()"
   ]
  },
  {
   "cell_type": "code",
   "execution_count": 3,
   "id": "d7aad72b",
   "metadata": {},
   "outputs": [
    {
     "name": "stdout",
     "output_type": "stream",
     "text": [
      "enter amount1722\n",
      "enter amount5000\n",
      "withdraw is successful\n",
      "name of the bank is SBI\n",
      "roi of the bank is 7\n",
      "branch of the bank is bangalore\n",
      "ifsc of the Bank is 1234\n",
      "name of the customer is A.Charishma\n",
      "age of the customer is 22\n",
      "account of the customer is 7893347525\n",
      "balance of the customer is 6000\n",
      "pin of the customer is 1722\n",
      "aadhar of the customer is 8142404690\n",
      "enter amount5000\n",
      "deposite is successful\n"
     ]
    }
   ],
   "source": [
    "class Bank_v1():\n",
    "    Bank_name='SBI'\n",
    "    Bank_roi=7\n",
    "    Bank_branch='hyderabad'\n",
    "    def __init__(self,n,a,ac,bal):\n",
    "        self.name=n\n",
    "        self.age=a\n",
    "        self.account=ac\n",
    "        self.balance=bal\n",
    "    @staticmethod\n",
    "    def get_int():\n",
    "        amount=int(input('enter amount'))\n",
    "        return amount\n",
    "    @classmethod    \n",
    "    def Bank_details(cls):\n",
    "        print(f'name of the bank is {cls.Bank_name}')\n",
    "        print(f'roi of the bank is {cls.Bank_roi}')\n",
    "        print(f'branch of the bank is {cls.Bank_branch}')\n",
    "    def customer_details(self):\n",
    "        print(f'name of the customer is {self.name}')\n",
    "        print(f'age of the customer is {self.age}')\n",
    "        print(f'account of the customer is {self.account}')\n",
    "        print(f'balance of the customer is {self.balance}')\n",
    "    def withdraw(self):\n",
    "        amount=self.get_int()\n",
    "        if self.balance>=amount:\n",
    "            self.balance-=amount\n",
    "            print('withdraw is successful')\n",
    "        else:\n",
    "            print('insufficient balance')\n",
    "    def deposite(self):\n",
    "        amount=self.get_int()\n",
    "        self.balance+=amount\n",
    "        print('deposite is successful')\n",
    "class Bank_v2(Bank_v1):\n",
    "    Bank_branch='bangalore'\n",
    "    Bank_ifsc=1234\n",
    "    def __init__(self,n,a,ac,bal,p,ad):\n",
    "        super().__init__(n,a,ac,bal)\n",
    "        #Bank_v1.__init__(n,a,ac,bal)\n",
    "        self.pin=p\n",
    "        self.aadhar=ad\n",
    "    def customer_details(self):\n",
    "        super().customer_details()\n",
    "        #Bank_v1.customer_details()\n",
    "        print(f'pin of the customer is {self.pin}')\n",
    "        print(f'aadhar of the customer is {self.aadhar}')\n",
    "    @classmethod\n",
    "    def Bank_details(cls):\n",
    "        super().Bank_details()\n",
    "        #Bank_v1.Bank_details()\n",
    "        print(f'ifsc of the Bank is {cls.Bank_ifsc}')\n",
    "    def withdraw(self):\n",
    "        pin=self.get_int()\n",
    "        if pin==self.pin:\n",
    "            super().withdraw()\n",
    "            #Bank_v1.withdraw()\n",
    "        else:\n",
    "            print('incorrect pin')\n",
    "Charishma=Bank_v2('A.Charishma',22,7893347525,11000,1722,8142404690)\n",
    "Charishma.withdraw()\n",
    "Charishma.Bank_details()\n",
    "Charishma.customer_details()\n",
    "Charishma.deposite()"
   ]
  },
  {
   "cell_type": "code",
   "execution_count": null,
   "id": "00c8e84a",
   "metadata": {},
   "outputs": [],
   "source": []
  },
  {
   "cell_type": "code",
   "execution_count": null,
   "id": "93d60d15",
   "metadata": {},
   "outputs": [],
   "source": []
  },
  {
   "cell_type": "code",
   "execution_count": null,
   "id": "47c63df0",
   "metadata": {},
   "outputs": [],
   "source": []
  },
  {
   "cell_type": "code",
   "execution_count": null,
   "id": "05ccc60a",
   "metadata": {},
   "outputs": [],
   "source": []
  },
  {
   "cell_type": "code",
   "execution_count": null,
   "id": "1391d86e",
   "metadata": {},
   "outputs": [],
   "source": []
  },
  {
   "cell_type": "code",
   "execution_count": null,
   "id": "70a31b80",
   "metadata": {},
   "outputs": [],
   "source": []
  },
  {
   "cell_type": "code",
   "execution_count": null,
   "id": "904708d9",
   "metadata": {},
   "outputs": [],
   "source": []
  },
  {
   "cell_type": "code",
   "execution_count": null,
   "id": "cba5a2b6",
   "metadata": {},
   "outputs": [],
   "source": []
  },
  {
   "cell_type": "code",
   "execution_count": null,
   "id": "8be55f99",
   "metadata": {},
   "outputs": [],
   "source": []
  },
  {
   "cell_type": "code",
   "execution_count": null,
   "id": "f0be482a",
   "metadata": {},
   "outputs": [],
   "source": []
  },
  {
   "cell_type": "code",
   "execution_count": 9,
   "id": "10608697",
   "metadata": {},
   "outputs": [
    {
     "name": "stdout",
     "output_type": "stream",
     "text": [
      "29\n",
      "92\n"
     ]
    }
   ],
   "source": [
    "class A():\n",
    "    x=20\n",
    "    y=25\n",
    "class B():\n",
    "    x=29\n",
    "    y=92\n",
    "class C(B,A):\n",
    "    pass\n",
    "c=C()\n",
    "print(c.x)\n",
    "print(c.y)"
   ]
  },
  {
   "cell_type": "code",
   "execution_count": 11,
   "id": "f55a9418",
   "metadata": {},
   "outputs": [
    {
     "name": "stdout",
     "output_type": "stream",
     "text": [
      "            1 \n",
      "               3 \n",
      "                  8 \n",
      "                     21 \n",
      "                        55 \n",
      "                     34 \n",
      "                  13 \n",
      "               5 \n",
      "            2 \n"
     ]
    }
   ],
   "source": [
    "l=[]\n",
    "e=0\n",
    "o=0\n",
    "def fib(n):\n",
    "    f,s=0,1\n",
    "    for i in range(n):\n",
    "        t=f+s\n",
    "        f,s=s,t\n",
    "    return t\n",
    "for i in range(1,10):\n",
    "    l.append(fib(i))\n",
    "    e=l[0::2]\n",
    "    o=l[1::2][::-1]\n",
    "l1=e+o\n",
    "n=9\n",
    "st=1\n",
    "sp=n//2\n",
    "for i in range(n):\n",
    "    for j in range(sp):\n",
    "        print('  ',end=' ')\n",
    "    for k in range(st):\n",
    "        print(l1[i],end=' ')\n",
    "    print()\n",
    "    if i<n//2:\n",
    "        sp+=1\n",
    "    else:\n",
    "        sp-=1"
   ]
  },
  {
   "cell_type": "code",
   "execution_count": 1,
   "id": "3a08925f",
   "metadata": {},
   "outputs": [
    {
     "name": "stdout",
     "output_type": "stream",
     "text": [
      "Meow Meow\n",
      "walking..\n",
      "Bow Bow\n",
      "walking..\n"
     ]
    }
   ],
   "source": [
    "from abc import ABC,abstractmethod\n",
    "class Animal(ABC):\n",
    "    @abstractmethod\n",
    "    def speak(self):\n",
    "        pass\n",
    "    def move(self):\n",
    "        print('walking..')\n",
    "class Dog(Animal):\n",
    "    def speak(self):\n",
    "        print('Bow Bow')\n",
    "class Cat(Animal):\n",
    "    def speak(self):\n",
    "        print('Meow Meow')\n",
    "c=Cat()\n",
    "d=Dog()\n",
    "c.speak()\n",
    "c.move()\n",
    "d.speak()\n",
    "d.move()"
   ]
  },
  {
   "cell_type": "code",
   "execution_count": 5,
   "id": "23b3bb89",
   "metadata": {},
   "outputs": [
    {
     "name": "stdout",
     "output_type": "stream",
     "text": [
      "enter amount:1722\n",
      "enter amount:11000\n",
      "Withdraw is Done\n"
     ]
    }
   ],
   "source": [
    "class Bank1():\n",
    "    bank_name='canara'\n",
    "    bank_roi=11\n",
    "    bank_branch='india'\n",
    "    def __init__(self,n,a,ac,bal,p):\n",
    "        self.n=n\n",
    "        self.a=a\n",
    "        self.ac=ac\n",
    "        self.bal=bal\n",
    "        self.p=p\n",
    "    @classmethod\n",
    "    def bank_details(cls):\n",
    "        print(cls.bank_name)\n",
    "        print(cls.bank_roi)\n",
    "        print(cls.bank_branch)\n",
    "    def customer_details(self):\n",
    "        print(self.n)\n",
    "        print(self.a)\n",
    "        print(self.ac)\n",
    "        print(self.bal)\n",
    "        print(self.p)\n",
    "    @staticmethod\n",
    "    def get_int():\n",
    "        amount=int(input('enter amount:'))\n",
    "        return amount\n",
    "    def deposite(self):\n",
    "        amount=self.get_int()\n",
    "        self.bal+=amount\n",
    "        print('Deposite is Successful')\n",
    "    def withdraw(self):\n",
    "        amount=self.get_int()\n",
    "        if self.bal>=amount:\n",
    "            self.bal-=amount\n",
    "            print('Withdraw is Done')\n",
    "        else:\n",
    "            print('Low Balance')\n",
    "class Bank2(Bank1):\n",
    "    bank_ifsc=1234\n",
    "    bank_branch='canada'\n",
    "    def __init__(self,n,a,ac,bal,p,m,ad):\n",
    "        super().__init__(n,a,ac,bal,p)\n",
    "        self.mail=m\n",
    "        self.aadhar=ad\n",
    "    @classmethod\n",
    "    def bank_details(cls):\n",
    "        super().bank_details()\n",
    "    def customer_details(self):\n",
    "        super().customer_details()\n",
    "    def deposite(self):\n",
    "        super().deposite()\n",
    "    def withdraw(self):\n",
    "        pin=self.get_int()\n",
    "        if self.p==pin:\n",
    "            super().withdraw()\n",
    "        else:\n",
    "            print('Incorrect Pin')\n",
    "devi=Bank2('devi',22,7891122,11000,1722,'deviprasadisaka@gmail.com',8142404690)\n",
    "devi.withdraw()"
   ]
  },
  {
   "cell_type": "code",
   "execution_count": 9,
   "id": "99b01143",
   "metadata": {},
   "outputs": [
    {
     "name": "stdout",
     "output_type": "stream",
     "text": [
      "devi\n",
      "22\n",
      "Python\n",
      "India\n",
      "CharishmaCharishmaCharishmaCharishmaCharishmaCharishmaCharishmaCharishmaCharishmaCharishmaCharishma\n",
      "INDIA\n",
      "AP\n",
      "NELLORE\n",
      "CHINTHOPU\n"
     ]
    }
   ],
   "source": [
    "class Student():\n",
    "    def __init__(self,n,a,cl,add):\n",
    "        self.sname=n\n",
    "        self.sage=a\n",
    "        self.sclass=cl\n",
    "        self.addressobject=add\n",
    "    def student_details(self):\n",
    "        print(self.sname)\n",
    "        print(self.sage)\n",
    "        print(self.sclass)\n",
    "        print(self.addressobject)\n",
    "class Address():\n",
    "    def __init__(self,c,d,s,co):\n",
    "        self.city=c\n",
    "        self.district=d\n",
    "        self.state=s\n",
    "        self.country=co\n",
    "    def display_address(self):\n",
    "        print(self.city)\n",
    "        print(self.district)\n",
    "        print(self.state)\n",
    "        print(self.country)\n",
    "india=Address('INDIA','AP','NELLORE','CHINTHOPU')\n",
    "devi=Student('devi',22,'Python','India')\n",
    "devi.student_details()\n",
    "print('Charishma'*11)\n",
    "india.display_address()"
   ]
  },
  {
   "cell_type": "code",
   "execution_count": 2,
   "id": "d04c9183",
   "metadata": {},
   "outputs": [
    {
     "name": "stdout",
     "output_type": "stream",
     "text": [
      "Meow Meow\n",
      "Walking\n",
      "Bow Bow\n",
      "Walking\n"
     ]
    }
   ],
   "source": [
    "from abc import ABC,abstractmethod\n",
    "class Animal(ABC):\n",
    "    @abstractmethod\n",
    "    def speak(self):\n",
    "        pass\n",
    "    def walk(self):\n",
    "        print('Walking')\n",
    "class Cat(Animal):\n",
    "    def speak(self):\n",
    "        print('Meow Meow')\n",
    "class Dog(Animal):\n",
    "    def speak(self):\n",
    "        print('Bow Bow')\n",
    "c=Cat()\n",
    "d=Dog()\n",
    "c.speak()\n",
    "c.walk()\n",
    "d.speak()\n",
    "d.walk()"
   ]
  },
  {
   "cell_type": "code",
   "execution_count": null,
   "id": "80558310",
   "metadata": {},
   "outputs": [],
   "source": []
  },
  {
   "cell_type": "code",
   "execution_count": null,
   "id": "5cf4701a",
   "metadata": {},
   "outputs": [],
   "source": []
  }
 ],
 "metadata": {
  "kernelspec": {
   "display_name": "Python 3 (ipykernel)",
   "language": "python",
   "name": "python3"
  },
  "language_info": {
   "codemirror_mode": {
    "name": "ipython",
    "version": 3
   },
   "file_extension": ".py",
   "mimetype": "text/x-python",
   "name": "python",
   "nbconvert_exporter": "python",
   "pygments_lexer": "ipython3",
   "version": "3.9.13"
  }
 },
 "nbformat": 4,
 "nbformat_minor": 5
}
