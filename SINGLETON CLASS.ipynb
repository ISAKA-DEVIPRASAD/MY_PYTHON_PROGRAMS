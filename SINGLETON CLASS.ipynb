{
 "cells": [
  {
   "cell_type": "code",
   "execution_count": 9,
   "id": "60a0aed2",
   "metadata": {},
   "outputs": [
    {
     "name": "stdout",
     "output_type": "stream",
     "text": [
      "d is highest\n"
     ]
    }
   ],
   "source": [
    "a,b,c,d=10,20,30,40\n",
    "if a>b:\n",
    "    if a>c:\n",
    "        if a>d:\n",
    "            print('a is highest')\n",
    "        else:\n",
    "            print('d is highest')\n",
    "    else:\n",
    "        if c>d:\n",
    "            print('c is highest')\n",
    "        else:\n",
    "            print('d is highest')\n",
    "else:\n",
    "            if b>c:\n",
    "                if b>d:\n",
    "                    print('b is highest')\n",
    "                else:\n",
    "                    print('d is highest')\n",
    "            else:\n",
    "                if c>d:\n",
    "                    print('c is highest')\n",
    "                else:\n",
    "                    print('d is highest')\n",
    "        "
   ]
  },
  {
   "cell_type": "code",
   "execution_count": 7,
   "id": "d3f654d9",
   "metadata": {},
   "outputs": [
    {
     "name": "stdout",
     "output_type": "stream",
     "text": [
      "Success\n",
      "Improve\n"
     ]
    }
   ],
   "source": [
    "def SingleTon(devi):\n",
    "    d={}\n",
    "    def inner():\n",
    "        if devi not in d:\n",
    "            d[devi]=devi()\n",
    "        return d[devi]\n",
    "    return inner\n",
    "@SingleTon\n",
    "class Python:\n",
    "    def __init__(self):\n",
    "        self.p_class=2000\n",
    "    def booking(self,n):\n",
    "        if self.p_class>=n:\n",
    "            self.p_class-=n\n",
    "            print('Success')\n",
    "        else:\n",
    "            print('Improve')\n",
    "p=Python()\n",
    "r=Python()\n",
    "p.booking(1000)\n",
    "r.booking(1999)"
   ]
  },
  {
   "cell_type": "code",
   "execution_count": 5,
   "id": "f9fdff2d",
   "metadata": {},
   "outputs": [
    {
     "name": "stdout",
     "output_type": "stream",
     "text": [
      "Tickets are Booked\n",
      "No Tickets\n"
     ]
    }
   ],
   "source": [
    "def SingleTon(arg):\n",
    "    d={}\n",
    "    def inner():\n",
    "        if arg not in d:\n",
    "            d[arg]=arg()\n",
    "        return d[arg]\n",
    "    return inner\n",
    "@SingleTon\n",
    "class Devi():\n",
    "    def __init__(self):\n",
    "        self.tickets=2000\n",
    "    def booking(self,n):\n",
    "        if self.tickets>=n:\n",
    "            self.tickets-=n\n",
    "            print('Tickets are Booked')\n",
    "        else:\n",
    "            print('No Tickets')\n",
    "d=Devi()\n",
    "v=Devi()\n",
    "d.booking(2000)\n",
    "v.booking(10)"
   ]
  },
  {
   "cell_type": "code",
   "execution_count": 6,
   "id": "39008f7f",
   "metadata": {},
   "outputs": [
    {
     "name": "stdout",
     "output_type": "stream",
     "text": [
      "5.0\n",
      "5.0\n"
     ]
    }
   ],
   "source": [
    "def outer(arg):\n",
    "    def inner(a,b):\n",
    "        arg (a,b) if a>b else arg (b,a)\n",
    "    return inner\n",
    "@outer\n",
    "def division(a,b):\n",
    "    print(a/b)\n",
    "division(10,2)\n",
    "division(2,10)"
   ]
  },
  {
   "cell_type": "code",
   "execution_count": 26,
   "id": "23ce4c08",
   "metadata": {},
   "outputs": [
    {
     "name": "stdout",
     "output_type": "stream",
     "text": [
      "constructor called\n",
      "object created\n",
      "<__main__.Sample object at 0x000002A0682F1C70> <__main__.Sample object at 0x000002A0682F1C70>\n"
     ]
    }
   ],
   "source": [
    "def SingleTon(arg):\n",
    "    D={}\n",
    "    def inner():\n",
    "        if arg not in D:\n",
    "            D[arg]=arg()\n",
    "        return D[arg]\n",
    "    return inner\n",
    "@SingleTon\n",
    "class Sample():\n",
    "    def __init__(self):\n",
    "        print('constructor called')\n",
    "        print('object created')\n",
    "ob1=Sample()\n",
    "ob2=Sample()\n",
    "print(ob1,ob2)"
   ]
  },
  {
   "cell_type": "code",
   "execution_count": 83,
   "id": "04f93a70",
   "metadata": {},
   "outputs": [
    {
     "name": "stdout",
     "output_type": "stream",
     "text": [
      "<__main__.Multiplex object at 0x000002A0683DEAF0>\n",
      "Tickets are Booked\n",
      "300\n",
      "<__main__.Multiplex object at 0x000002A0683DEAF0>\n",
      "Tickets are Booked\n",
      "100\n",
      "Tickets are Booked\n",
      "Sold Out\n",
      "0\n",
      "0\n"
     ]
    }
   ],
   "source": [
    "def SingleTon(func):\n",
    "    d={}\n",
    "    def inner():\n",
    "        if func not in d:\n",
    "            d[func]=func()\n",
    "        return d[func]\n",
    "    return inner\n",
    "@SingleTon\n",
    "class Multiplex():\n",
    "    def __init__(self):\n",
    "        self.tickets=500\n",
    "    def booking(self,n):\n",
    "        if self.tickets>=n:\n",
    "            self.tickets-=n\n",
    "            print('Tickets are Booked')\n",
    "        else:\n",
    "            print('Sold Out')\n",
    "devi=Multiplex()\n",
    "cherry=Multiplex()\n",
    "print(devi)\n",
    "devi.booking(200)\n",
    "print(devi.tickets)\n",
    "print(cherry)\n",
    "cherry.booking(200)\n",
    "print(cherry.tickets)\n",
    "devi.booking(100)\n",
    "cherry.booking(1722)\n",
    "print(devi.tickets)\n",
    "print(cherry.tickets)"
   ]
  },
  {
   "cell_type": "code",
   "execution_count": 80,
   "id": "f52c01c4",
   "metadata": {},
   "outputs": [
    {
     "name": "stdout",
     "output_type": "stream",
     "text": [
      "<__main__.Movies object at 0x000002A0682E2AF0>\n",
      "Tickets are Booked\n",
      "1000\n",
      "<__main__.Movies object at 0x000002A0682E2AF0>\n",
      "Tickets are Booked\n",
      "0\n",
      "Tickets are Sold Out\n",
      "0\n",
      "0\n"
     ]
    }
   ],
   "source": [
    "def SingleTon(func):\n",
    "    d={}\n",
    "    def inner():\n",
    "        if func not in d:\n",
    "            d[func]=func()\n",
    "        return d[func]\n",
    "    return inner\n",
    "@SingleTon\n",
    "class Movies():\n",
    "    def __init__(self):\n",
    "        self.tickets=2000\n",
    "    def booking(self,n):\n",
    "        if self.tickets>=n:\n",
    "            self.tickets-=n\n",
    "            print('Tickets are Booked')\n",
    "        else:\n",
    "            print('Tickets are Sold Out')\n",
    "devi=Movies()\n",
    "vivek=Movies()\n",
    "print(devi)\n",
    "devi.booking(1000)\n",
    "print(devi.tickets)\n",
    "print(vivek)\n",
    "vivek.booking(1000)\n",
    "print(vivek.tickets)\n",
    "devi.booking(22)\n",
    "print(devi.tickets)\n",
    "print(vivek.tickets)"
   ]
  },
  {
   "cell_type": "code",
   "execution_count": 5,
   "id": "5336528a",
   "metadata": {},
   "outputs": [
    {
     "name": "stdout",
     "output_type": "stream",
     "text": [
      "<__main__.Movie object at 0x0000016BD1107F40>\n",
      "Tickets are Booked\n",
      "1000\n",
      "<__main__.Movie object at 0x0000016BD1107F40>\n",
      "Tickets are Booked\n",
      "0\n",
      "Tickets are Sold Out\n",
      "0\n",
      "0\n"
     ]
    }
   ],
   "source": [
    "def SingleTon(func):\n",
    "    d={}\n",
    "    def inner():\n",
    "        if func not in d:\n",
    "            d[func]=func()\n",
    "        return d[func]\n",
    "    return inner\n",
    "@SingleTon\n",
    "class Movie():\n",
    "    def __init__(self):\n",
    "        self.tickets=2000\n",
    "    def booking(self,n):\n",
    "        if self.tickets>=n:\n",
    "            self.tickets-=n\n",
    "            print('Tickets are Booked')\n",
    "        else:\n",
    "            print('Tickets are Sold Out')\n",
    "devi=Movie()\n",
    "vivek=Movie()\n",
    "print(devi)\n",
    "devi.booking(1000)\n",
    "print(devi.tickets)\n",
    "print(vivek)\n",
    "vivek.booking(1000)\n",
    "print(vivek.tickets)\n",
    "devi.booking(22)\n",
    "print(devi.tickets)\n",
    "print(vivek.tickets)"
   ]
  },
  {
   "cell_type": "code",
   "execution_count": 7,
   "id": "110871ec",
   "metadata": {},
   "outputs": [
    {
     "name": "stdout",
     "output_type": "stream",
     "text": [
      "2\n",
      "5\n",
      "7\n",
      "12\n",
      "19\n",
      "31\n",
      "50\n"
     ]
    }
   ],
   "source": [
    "def fib(a,b,n):\n",
    "    dummy=1\n",
    "    while dummy<=n:\n",
    "        yield a\n",
    "        a,b=b,a+b\n",
    "        dummy+=1\n",
    "f=fib(2,5,7)\n",
    "for i in f:\n",
    "    print(i)"
   ]
  },
  {
   "cell_type": "code",
   "execution_count": 1,
   "id": "08e5f5e2",
   "metadata": {},
   "outputs": [
    {
     "name": "stdout",
     "output_type": "stream",
     "text": [
      "enter value:1999\n",
      "Done\n",
      "enter value:1999\n",
      "No Admissions\n"
     ]
    }
   ],
   "source": [
    "def SingleTon(func):\n",
    "    d={}\n",
    "    def inner():\n",
    "        if func not in d:\n",
    "            d[func]=func()\n",
    "        return d[func]\n",
    "    return inner\n",
    "@SingleTon\n",
    "class Python():\n",
    "    def __init__(self):\n",
    "        self.admissions=2000\n",
    "    @staticmethod\n",
    "    def get():\n",
    "        n=int(input('enter value:'))\n",
    "        return n\n",
    "    def booking(self):\n",
    "        n=self.get()\n",
    "        if self.admissions>=n:\n",
    "            self.admissions-=n\n",
    "            print('Done')\n",
    "        else:\n",
    "            print('No Admissions')\n",
    "a=Python()\n",
    "b=Python()\n",
    "a.booking()\n",
    "b.booking()"
   ]
  },
  {
   "cell_type": "code",
   "execution_count": 3,
   "id": "d7c88352",
   "metadata": {},
   "outputs": [
    {
     "name": "stdout",
     "output_type": "stream",
     "text": [
      "Enter Value:2000\n",
      "Done\n",
      "Enter Value:1\n",
      "No Admissions\n"
     ]
    }
   ],
   "source": [
    "def SingleTon(cls):\n",
    "    d={}\n",
    "    def inner():\n",
    "        if len(d)==0:\n",
    "            d[cls]=cls()\n",
    "        return d[cls]\n",
    "    return inner\n",
    "@SingleTon\n",
    "class Python():\n",
    "    def __init__(self):\n",
    "        self.admission=2000\n",
    "    @staticmethod\n",
    "    def get():\n",
    "        n=int(input('Enter Value:'))\n",
    "        return n\n",
    "    def booking(self):\n",
    "        n=self.get()\n",
    "        if self.admission>=n:\n",
    "            self.admission-=n\n",
    "            print('Done')\n",
    "        else:\n",
    "            print('No Admissions')\n",
    "c=Python()\n",
    "d=Python()\n",
    "c.booking()\n",
    "d.booking()"
   ]
  },
  {
   "cell_type": "code",
   "execution_count": 3,
   "id": "b68bbc87",
   "metadata": {},
   "outputs": [
    {
     "name": "stdout",
     "output_type": "stream",
     "text": [
      "Booking is Done\n",
      "1000\n",
      "Booking is Done\n",
      "0\n"
     ]
    }
   ],
   "source": [
    "def SingleTon(cls):\n",
    "    d={}\n",
    "    def inner():\n",
    "        if cls not in d:\n",
    "            d[cls]=cls()\n",
    "        return d[cls]\n",
    "    return inner\n",
    "@SingleTon\n",
    "class Movies():\n",
    "    def __init__(self):\n",
    "        self.tickets=2000\n",
    "    def booking(self,n):\n",
    "        if self.tickets>=n:\n",
    "            self.tickets-=n\n",
    "            print('Booking is Done')\n",
    "        else:\n",
    "            print('Tickets Are Not Available')\n",
    "devi=Movies()\n",
    "vivek=Movies()\n",
    "devi.booking(1000)\n",
    "print(devi.tickets)\n",
    "vivek.booking(1000)\n",
    "print(vivek.tickets)"
   ]
  },
  {
   "cell_type": "code",
   "execution_count": 2,
   "id": "549a9eb2",
   "metadata": {},
   "outputs": [
    {
     "name": "stdout",
     "output_type": "stream",
     "text": [
      "Booking is Done\n",
      "1000\n",
      "Tickets Are Not Available\n",
      "1000\n"
     ]
    }
   ],
   "source": [
    "def SingleTon(cls):\n",
    "    d={}\n",
    "    def inner():\n",
    "        if cls not in d:\n",
    "            d[cls]=cls()\n",
    "        return d[cls]\n",
    "    return inner\n",
    "@SingleTon\n",
    "class Movies():\n",
    "    def __init__(self):\n",
    "        self.tickets=2000\n",
    "    def booking(self,n):\n",
    "        if self.tickets>n:\n",
    "            self.tickets-=n\n",
    "            print('Booking is Done')\n",
    "        else:\n",
    "            print('Tickets Are Not Available')\n",
    "devi=Movies()\n",
    "vivek=Movies()\n",
    "devi.booking(1000)\n",
    "print(devi.tickets)\n",
    "vivek.booking(1000)\n",
    "print(vivek.tickets)"
   ]
  },
  {
   "cell_type": "code",
   "execution_count": null,
   "id": "70c1e815",
   "metadata": {},
   "outputs": [],
   "source": [
    "                                   💖CHARISHMA💝DEVIPRASAD💖"
   ]
  },
  {
   "cell_type": "code",
   "execution_count": null,
   "id": "5861212b",
   "metadata": {},
   "outputs": [],
   "source": [
    "                                          💖CHARDEVI💖"
   ]
  }
 ],
 "metadata": {
  "kernelspec": {
   "display_name": "Python 3 (ipykernel)",
   "language": "python",
   "name": "python3"
  },
  "language_info": {
   "codemirror_mode": {
    "name": "ipython",
    "version": 3
   },
   "file_extension": ".py",
   "mimetype": "text/x-python",
   "name": "python",
   "nbconvert_exporter": "python",
   "pygments_lexer": "ipython3",
   "version": "3.9.13"
  }
 },
 "nbformat": 4,
 "nbformat_minor": 5
}
