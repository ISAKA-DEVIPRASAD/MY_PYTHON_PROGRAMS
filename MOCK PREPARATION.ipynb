{
 "cells": [
  {
   "cell_type": "code",
   "execution_count": 2,
   "id": "c5e90b4e",
   "metadata": {},
   "outputs": [
    {
     "name": "stdout",
     "output_type": "stream",
     "text": [
      "PYTHON\n"
     ]
    }
   ],
   "source": [
    "s='python'\n",
    "x=s.upper()\n",
    "print(x)"
   ]
  },
  {
   "cell_type": "code",
   "execution_count": 5,
   "id": "b736ef33",
   "metadata": {},
   "outputs": [
    {
     "name": "stdout",
     "output_type": "stream",
     "text": [
      "120\n",
      "5.0\n",
      "3.141592653589793\n"
     ]
    }
   ],
   "source": [
    "from math import factorial,sqrt,pi\n",
    "print(factorial(5))\n",
    "print(sqrt(25))\n",
    "print(pi)"
   ]
  },
  {
   "cell_type": "code",
   "execution_count": 10,
   "id": "860b5f1b",
   "metadata": {},
   "outputs": [
    {
     "name": "stdout",
     "output_type": "stream",
     "text": [
      "[5, 4, 3, 2, 1]\n"
     ]
    }
   ],
   "source": [
    "l=[1,2,3,4,5]\n",
    "for i in range(len(l)//2):\n",
    "    l[i],l[len(l)-1-i]=l[len(l)-1-i],l[i]\n",
    "print(l)"
   ]
  },
  {
   "cell_type": "code",
   "execution_count": 31,
   "id": "3de60c73",
   "metadata": {},
   "outputs": [
    {
     "name": "stdout",
     "output_type": "stream",
     "text": [
      "[1, 2, 5, 7, 11]\n"
     ]
    }
   ],
   "source": [
    "d=[1,11,2,5,7]\n",
    "for i in range(len(d)):\n",
    "    mi=i\n",
    "    for j in range(i+1,len(d)):\n",
    "        if d[mi]>d[j]:\n",
    "            mi=j\n",
    "    d[i],d[mi]=d[mi],d[i]\n",
    "print(d)"
   ]
  },
  {
   "cell_type": "code",
   "execution_count": 11,
   "id": "37e7b22e",
   "metadata": {},
   "outputs": [
    {
     "name": "stdout",
     "output_type": "stream",
     "text": [
      "[1, 2, 5, 7, 11]\n"
     ]
    }
   ],
   "source": [
    "d=[1,11,2,5,7]\n",
    "for i in range(len(d)-1):\n",
    "    for j in range(len(d)-1-i):\n",
    "        if d[j]>d[j+1]:\n",
    "            d[j],d[j+1]=d[j+1],d[j]\n",
    "print(d)"
   ]
  },
  {
   "cell_type": "code",
   "execution_count": 1,
   "id": "9c6a560b",
   "metadata": {},
   "outputs": [
    {
     "name": "stdout",
     "output_type": "stream",
     "text": [
      "{'o': 2, 'e': 1}\n"
     ]
    }
   ],
   "source": [
    "s='google bleed blood'\n",
    "c=1\n",
    "d={}\n",
    "for i in range(len(s)-1):\n",
    "    if s[i]==s[i+1]:\n",
    "        c+=1\n",
    "    else:\n",
    "        if c>1:\n",
    "            if s[i] not in d: \n",
    "                d[s[i]]=c//2\n",
    "            else:\n",
    "                d[s[i]]+=c//2\n",
    "            c=1\n",
    "if c>1:\n",
    "    d[s[i+1]]=c//2\n",
    "print(d)       "
   ]
  },
  {
   "cell_type": "code",
   "execution_count": 20,
   "id": "8d83af7f",
   "metadata": {},
   "outputs": [
    {
     "name": "stdout",
     "output_type": "stream",
     "text": [
      "11\n"
     ]
    }
   ],
   "source": [
    "d=[1,11,2,5,7]\n",
    "h=d[0]\n",
    "for i in range(1,len(d)):\n",
    "    if h<d[i]:\n",
    "        h=d[i]\n",
    "print(h)"
   ]
  },
  {
   "cell_type": "code",
   "execution_count": 1,
   "id": "64bd491e",
   "metadata": {},
   "outputs": [
    {
     "name": "stdout",
     "output_type": "stream",
     "text": [
      "* * * * \n",
      "* * \n",
      "* * * * * * \n",
      "* * * \n"
     ]
    }
   ],
   "source": [
    "d=[4,2,6,3]\n",
    "for i in range(len(d)):\n",
    "    for j in range(d[i]):\n",
    "        print('*',end=' ')\n",
    "    print()"
   ]
  },
  {
   "cell_type": "code",
   "execution_count": 1,
   "id": "2242f661",
   "metadata": {},
   "outputs": [
    {
     "name": "stdout",
     "output_type": "stream",
     "text": [
      "[1,2]\n",
      "[20,30,40,50]\n",
      "[11,12,13]\n",
      "[20,30,40,50]\n",
      "[11,12,13]\n"
     ]
    },
    {
     "ename": "IndexError",
     "evalue": "list index out of range",
     "output_type": "error",
     "traceback": [
      "\u001b[1;31m---------------------------------------------------------------------------\u001b[0m",
      "\u001b[1;31mIndexError\u001b[0m                                Traceback (most recent call last)",
      "\u001b[1;32m~\\AppData\\Local\\Temp\\ipykernel_8348\\3974669390.py\u001b[0m in \u001b[0;36m<module>\u001b[1;34m\u001b[0m\n\u001b[0;32m      4\u001b[0m \u001b[1;32mfor\u001b[0m \u001b[0mi\u001b[0m \u001b[1;32min\u001b[0m \u001b[0mrange\u001b[0m\u001b[1;33m(\u001b[0m\u001b[0mlen\u001b[0m\u001b[1;33m(\u001b[0m\u001b[0md\u001b[0m\u001b[1;33m)\u001b[0m\u001b[1;33m)\u001b[0m\u001b[1;33m:\u001b[0m\u001b[1;33m\u001b[0m\u001b[1;33m\u001b[0m\u001b[0m\n\u001b[0;32m      5\u001b[0m     \u001b[1;32mfor\u001b[0m \u001b[0mj\u001b[0m \u001b[1;32min\u001b[0m \u001b[0mrange\u001b[0m\u001b[1;33m(\u001b[0m\u001b[0mlen\u001b[0m\u001b[1;33m(\u001b[0m\u001b[0md\u001b[0m\u001b[1;33m)\u001b[0m\u001b[1;33m)\u001b[0m\u001b[1;33m:\u001b[0m\u001b[1;33m\u001b[0m\u001b[1;33m\u001b[0m\u001b[0m\n\u001b[1;32m----> 6\u001b[1;33m         \u001b[0mprint\u001b[0m\u001b[1;33m(\u001b[0m\u001b[0md\u001b[0m\u001b[1;33m[\u001b[0m\u001b[0mi\u001b[0m\u001b[1;33m+\u001b[0m\u001b[0mj\u001b[0m\u001b[1;33m]\u001b[0m\u001b[1;33m)\u001b[0m\u001b[1;33m\u001b[0m\u001b[1;33m\u001b[0m\u001b[0m\n\u001b[0m",
      "\u001b[1;31mIndexError\u001b[0m: list index out of range"
     ]
    }
   ],
   "source": [
    "#IP-->d=['[1,2]','[20,30,40,50]','[11,12,13]']\n",
    "#OP-->[32,44,53,50]\n",
    "d=['[1,2]','[20,30,40,50]','[11,12,13]']\n",
    "for i in range(len(d)):\n",
    "    for j in range(len(d)):\n",
    "        print(d[i+j])"
   ]
  },
  {
   "cell_type": "code",
   "execution_count": 3,
   "id": "c97f2c85",
   "metadata": {},
   "outputs": [
    {
     "name": "stdout",
     "output_type": "stream",
     "text": [
      "[[1, 2], [20, 30, 40, 50], [11, 12, 13]]\n",
      "[32, 44, 53, 50]\n"
     ]
    }
   ],
   "source": [
    "#IP-->d=['[1,2]','[20,30,40,50]','[11,12,13]']\n",
    "#OP-->[32,44,53,50]\n",
    "l=['[1,2]','[20,30,40,50]','[11,12,13]']\n",
    "L=[]\n",
    "c=''\n",
    "for s in l:\n",
    "    x=[]\n",
    "    for i in s:\n",
    "        if i.isdigit():\n",
    "            c+=i\n",
    "        else:\n",
    "            if len(c)>0:\n",
    "                x.append(int(c))\n",
    "                c=''\n",
    "    L.append(x)\n",
    "print(L)\n",
    "m=0\n",
    "for i in L:\n",
    "    if m<len(i):\n",
    "        m=len(i)\n",
    "z=[]\n",
    "for i in range(m):\n",
    "    c=0\n",
    "    for j in range(len(L)):\n",
    "        if i<len(L[j]):\n",
    "            c+=L[j][i]\n",
    "    z.append(c)\n",
    "print(z)"
   ]
  },
  {
   "cell_type": "code",
   "execution_count": 4,
   "id": "26a57d88",
   "metadata": {},
   "outputs": [
    {
     "name": "stdout",
     "output_type": "stream",
     "text": [
      "[32, 44, 53, 50]\n"
     ]
    }
   ],
   "source": [
    "d = ['[1,2]', '[20,30,40,50]', '[11,12,13]']\n",
    "\n",
    "# Convert strings to lists\n",
    "d = [eval(x) for x in d]\n",
    "\n",
    "# Find the maximum length among the lists\n",
    "max_len = max(len(x) for x in d)\n",
    "\n",
    "# Pad the shorter lists with zeros\n",
    "d = [x + [0] * (max_len - len(x)) for x in d]\n",
    "\n",
    "# Perform element-wise addition\n",
    "output = [sum(x) for x in zip(*d)]\n",
    "\n",
    "print(output)"
   ]
  },
  {
   "cell_type": "code",
   "execution_count": 44,
   "id": "024d43a8",
   "metadata": {},
   "outputs": [
    {
     "name": "stdout",
     "output_type": "stream",
     "text": [
      "[[1, 2], [20, 30, 40, 50], [11, 12, 13]]\n",
      "0 0\n",
      "0 1\n",
      "0 2\n",
      "1 0\n",
      "1 1\n",
      "1 2\n",
      "2 1\n",
      "2 2\n",
      "3 1\n",
      "[32, 44, 53, 50]\n"
     ]
    }
   ],
   "source": [
    "d = ['[1,2]', '[20,30,40,50]', '[11,12,13]']\n",
    "d=[eval(x) for x in d]\n",
    "print(d)\n",
    "m=0\n",
    "for i in d:\n",
    "    if m<len(i):\n",
    "        m=len(i)\n",
    "    \n",
    "z=[]\n",
    "for i in range(m):\n",
    "    c=0\n",
    "    for j in range(len(d)):\n",
    "        if i<len(d[j]):\n",
    "            print(i,j)\n",
    "            c+=d[j][i]\n",
    "    z.append(c)\n",
    "print(z)"
   ]
  },
  {
   "cell_type": "code",
   "execution_count": 11,
   "id": "30783233",
   "metadata": {},
   "outputs": [
    {
     "name": "stdout",
     "output_type": "stream",
     "text": [
      "{'o': 3, 'e': 2}\n"
     ]
    }
   ],
   "source": [
    "#IP-->d='google bleed blood'\n",
    "#OP-->{'o':2,'e':1}\n",
    "s='gooooglee bleed blood'\n",
    "c=1\n",
    "d={}\n",
    "for i in range(len(s)-1):\n",
    "    if s[i]==s[i+1]:\n",
    "        c+=1\n",
    "    else:\n",
    "        if c>1:\n",
    "            if s[i] not in d: \n",
    "                d[s[i]]=c//2\n",
    "            else:\n",
    "                d[s[i]]+=c//2\n",
    "            c=1\n",
    "if c>1:\n",
    "    d[s[i+1]]=c//2\n",
    "print(d)       "
   ]
  },
  {
   "cell_type": "code",
   "execution_count": 3,
   "id": "01c3e094",
   "metadata": {},
   "outputs": [
    {
     "name": "stdout",
     "output_type": "stream",
     "text": [
      "5\n",
      "2\n",
      "5\n",
      "7\n",
      "3\n",
      "3\n",
      "7\n"
     ]
    }
   ],
   "source": [
    "n=7893347525\n",
    "while n!=0:\n",
    "    rem=n%10\n",
    "    n//=10\n",
    "    if rem>1:\n",
    "        for z in range(2,rem//2+1):\n",
    "            if rem%z==0:\n",
    "                break\n",
    "        else:\n",
    "            print(rem)"
   ]
  },
  {
   "cell_type": "code",
   "execution_count": 23,
   "id": "2a1a2f08",
   "metadata": {},
   "outputs": [
    {
     "name": "stdout",
     "output_type": "stream",
     "text": [
      "1722\n",
      "This is a public method\n"
     ]
    }
   ],
   "source": [
    "class MyClass:\n",
    "    def __init__(self):\n",
    "        self.public_var = 1722\n",
    "    def public_method(self):\n",
    "        print(\"This is a public method\")\n",
    "\n",
    "obj = MyClass()\n",
    "print(obj.public_var)\n",
    "obj.public_method()"
   ]
  },
  {
   "cell_type": "code",
   "execution_count": 24,
   "id": "d2068e77",
   "metadata": {},
   "outputs": [
    {
     "name": "stdout",
     "output_type": "stream",
     "text": [
      "1722\n",
      "This is a protected method\n"
     ]
    }
   ],
   "source": [
    "class MyClass:\n",
    "    def __init__(self):\n",
    "        self._protected_var = 1722\n",
    "\n",
    "    def _protected_method(self):\n",
    "        print(\"This is a protected method\")\n",
    "obj = MyClass()\n",
    "print(obj._protected_var)\n",
    "obj._protected_method()"
   ]
  },
  {
   "cell_type": "code",
   "execution_count": 25,
   "id": "9ae50978",
   "metadata": {},
   "outputs": [
    {
     "name": "stdout",
     "output_type": "stream",
     "text": [
      "1722\n",
      "This is a private method\n"
     ]
    }
   ],
   "source": [
    "class MyClass:\n",
    "    def __init__(self):\n",
    "        self.__private_var = 1722\n",
    "\n",
    "    def __private_method(self):\n",
    "        print(\"This is a private method\")\n",
    "\n",
    "obj = MyClass()\n",
    "print(obj._MyClass__private_var)  # Name mangling\n",
    "obj._MyClass__private_method()  # Name mangling"
   ]
  },
  {
   "cell_type": "code",
   "execution_count": 15,
   "id": "d2844ff8",
   "metadata": {},
   "outputs": [
    {
     "name": "stdout",
     "output_type": "stream",
     "text": [
      "* * * * * \n",
      "* * *   * \n",
      "* * * * * \n",
      "*   * * * \n",
      "* * * * * \n"
     ]
    }
   ],
   "source": [
    "n=5\n",
    "for i in range(n):\n",
    "    for j in range(n):\n",
    "        if (i==2 and (i+j)%2==0) or (i==0 and(i+j)%2==0 or (i+j)%2==1) or (i==4 and(i+j)%2==0 or (i+j)%2==1) or ((i+j)==1 or (i+j)==2 or (i+j)==3 or (i+j)==5 or (i+j)==6 or (i+j)==7):\n",
    "            print('*',end=' ')\n",
    "        else:\n",
    "            print(' ',end=' ')\n",
    "    print()"
   ]
  },
  {
   "cell_type": "code",
   "execution_count": 30,
   "id": "1ae36a2a",
   "metadata": {},
   "outputs": [
    {
     "name": "stdout",
     "output_type": "stream",
     "text": [
      "* * * * * \n",
      "*       * \n",
      "*   *   * \n",
      "*       * \n",
      "* * * * * \n"
     ]
    }
   ],
   "source": [
    "n=5\n",
    "for a in range(n):\n",
    "    for b in range(n):\n",
    "        if a==0 or a==n-1 or b==0 or b==n-1 or (a==n//2 and b==n//2):\n",
    "            print('*',end=' ')\n",
    "        else:\n",
    "            print(' ',end=' ')\n",
    "    print()"
   ]
  },
  {
   "cell_type": "code",
   "execution_count": null,
   "id": "f99f6f69",
   "metadata": {},
   "outputs": [],
   "source": []
  },
  {
   "cell_type": "code",
   "execution_count": 4,
   "id": "8369ec90",
   "metadata": {},
   "outputs": [
    {
     "name": "stdout",
     "output_type": "stream",
     "text": [
      "[[1, 1, 1], [2, 2, 2], [3, 3, 3], [4, 4, 4], [5, 5, 5], [6, 6, 6], [7, 7, 7], [8, 8, 8], [9, 9, 9], [10, 10, 10]]\n"
     ]
    }
   ],
   "source": [
    "l=[]\n",
    "l1=[]\n",
    "for i in range(1,11):\n",
    "    l1.extend([i,i,i])\n",
    "    l.append(l1)\n",
    "    l1=[]\n",
    "print(l)"
   ]
  },
  {
   "cell_type": "code",
   "execution_count": 5,
   "id": "3dbbee87",
   "metadata": {},
   "outputs": [
    {
     "name": "stdout",
     "output_type": "stream",
     "text": [
      "[[1, 1, 1], [2, 2, 2], [3, 3, 3], [4, 4, 4], [5, 5, 5], [6, 6, 6], [7, 7, 7], [8, 8, 8], [9, 9, 9], [10, 10, 10]]\n"
     ]
    }
   ],
   "source": [
    "l=[[i,i,i] for i in range(1,11)]\n",
    "print(l)"
   ]
  },
  {
   "cell_type": "code",
   "execution_count": 3,
   "id": "a23d4a05",
   "metadata": {},
   "outputs": [
    {
     "name": "stdout",
     "output_type": "stream",
     "text": [
      "python\n"
     ]
    }
   ],
   "source": [
    "s='Python'\n",
    "x=s.lower()\n",
    "print(x)"
   ]
  },
  {
   "cell_type": "code",
   "execution_count": 8,
   "id": "baf88d97",
   "metadata": {},
   "outputs": [
    {
     "name": "stdout",
     "output_type": "stream",
     "text": [
      "1 2 3 4 5 6 7 8 9 10 "
     ]
    }
   ],
   "source": [
    "def print_num(n):\n",
    "    if n==11:\n",
    "        return\n",
    "    print(n,end=' ')\n",
    "    print_num(n+1)\n",
    "print_num(1)"
   ]
  },
  {
   "cell_type": "code",
   "execution_count": 2,
   "id": "ca9a59c6",
   "metadata": {},
   "outputs": [
    {
     "name": "stdout",
     "output_type": "stream",
     "text": [
      "      1 \n",
      "    1 2 1 \n",
      "  1 2 3 2 1 \n",
      "1 2 3 4 3 2 1 \n",
      "  1 2 3 2 1 \n",
      "    1 2 1 \n",
      "      1 \n"
     ]
    }
   ],
   "source": [
    "n=7\n",
    "st=1\n",
    "sp=n//2\n",
    "for x in range(n):\n",
    "    num=1\n",
    "    for y in range(sp):\n",
    "        print(' ',end=' ')\n",
    "    for z in range(st):\n",
    "        print(num,end=' ')\n",
    "        num=num+1 if z<st//2 else num-1\n",
    "    print()\n",
    "    if x<n//2:\n",
    "        st=st+2\n",
    "        sp=sp-1\n",
    "    else:\n",
    "        st=st-2\n",
    "        sp=sp+1\n",
    "    "
   ]
  },
  {
   "cell_type": "code",
   "execution_count": 3,
   "id": "a9db0913",
   "metadata": {},
   "outputs": [
    {
     "name": "stdout",
     "output_type": "stream",
     "text": [
      "edcba\n"
     ]
    }
   ],
   "source": [
    "d='abcde'\n",
    "c=''\n",
    "for a in range(-1,-(len(d)+1),-1):\n",
    "    c=c+d[a]\n",
    "print(c)"
   ]
  },
  {
   "cell_type": "code",
   "execution_count": 7,
   "id": "d0b35b92",
   "metadata": {},
   "outputs": [
    {
     "name": "stdout",
     "output_type": "stream",
     "text": [
      "palindrome\n"
     ]
    }
   ],
   "source": [
    "d='abcba'\n",
    "c=''\n",
    "for a in range(-1,-(len(d)+1),-1):\n",
    "    c=c+d[a]\n",
    "if c==d:\n",
    "    print('palindrome')\n",
    "else:\n",
    "    print('not palindrome')"
   ]
  },
  {
   "cell_type": "code",
   "execution_count": 9,
   "id": "a5fc4e90",
   "metadata": {},
   "outputs": [
    {
     "name": "stdout",
     "output_type": "stream",
     "text": [
      "eiaa\n"
     ]
    }
   ],
   "source": [
    "i='deviprasad'\n",
    "vow='AEIOUaeiou'\n",
    "res=''\n",
    "for d in range(0,len(i)):\n",
    "    if i[d] in vow:\n",
    "        res+=i[d]\n",
    "print(res)"
   ]
  },
  {
   "cell_type": "code",
   "execution_count": 11,
   "id": "80516390",
   "metadata": {},
   "outputs": [
    {
     "name": "stdout",
     "output_type": "stream",
     "text": [
      "[11, 12, 13, 14]\n"
     ]
    }
   ],
   "source": [
    "l=[11,12,12,13,11,12,14]\n",
    "res=[]\n",
    "for i in range(0,len(l)):\n",
    "    if l[i] not in res:\n",
    "        res+=[l[i]]\n",
    "print(res)"
   ]
  },
  {
   "cell_type": "code",
   "execution_count": 14,
   "id": "6c73bc11",
   "metadata": {},
   "outputs": [
    {
     "name": "stdout",
     "output_type": "stream",
     "text": [
      "good morning\n",
      "None\n"
     ]
    }
   ],
   "source": [
    "def wish():\n",
    "    print('good morning')\n",
    "x=wish()"
   ]
  },
  {
   "cell_type": "code",
   "execution_count": 11,
   "id": "0688be08",
   "metadata": {},
   "outputs": [
    {
     "name": "stdout",
     "output_type": "stream",
     "text": [
      "devi\n",
      "n:<__main__.sample object at 0x000002109FCC06D0>\n"
     ]
    }
   ],
   "source": [
    "class sample():\n",
    "    print('devi')\n",
    "n=sample()\n",
    "print(f'n:{n}')"
   ]
  },
  {
   "cell_type": "code",
   "execution_count": 12,
   "id": "39137ab9",
   "metadata": {},
   "outputs": [
    {
     "name": "stdout",
     "output_type": "stream",
     "text": [
      "120\n"
     ]
    }
   ],
   "source": [
    "import math \n",
    "x=math.factorial(5)\n",
    "print(x)"
   ]
  },
  {
   "cell_type": "code",
   "execution_count": 17,
   "id": "c732589f",
   "metadata": {},
   "outputs": [
    {
     "name": "stdout",
     "output_type": "stream",
     "text": [
      "python santosh\n",
      "python santosh\n",
      "python santosh\n"
     ]
    }
   ],
   "source": [
    "class pyspiders():\n",
    "    cname='python'\n",
    "    tname='santosh'\n",
    "ob1=pyspiders()\n",
    "ob2=pyspiders()\n",
    "print(ob1.cname,ob1.tname)\n",
    "print(ob2.cname,ob2.tname)\n",
    "print(pyspiders.cname,pyspiders.tname)"
   ]
  },
  {
   "cell_type": "code",
   "execution_count": 19,
   "id": "7edce90a",
   "metadata": {},
   "outputs": [
    {
     "name": "stdout",
     "output_type": "stream",
     "text": [
      "20\n",
      "70\n"
     ]
    }
   ],
   "source": [
    "class a():\n",
    "    def __init__(self):\n",
    "        self.__x=20\n",
    "    def getter(self):\n",
    "        return self.__x\n",
    "    def setter(self,n):\n",
    "        self.__x=n\n",
    "obj=a()\n",
    "print(obj.getter())\n",
    "obj.setter(70)\n",
    "print(obj.getter())"
   ]
  },
  {
   "cell_type": "code",
   "execution_count": 22,
   "id": "1276e296",
   "metadata": {},
   "outputs": [
    {
     "name": "stdout",
     "output_type": "stream",
     "text": [
      "inside inner function\n",
      "inside sample function\n"
     ]
    }
   ],
   "source": [
    "def outer(arg):\n",
    "    def inner():\n",
    "        print('inside inner function')\n",
    "        arg()\n",
    "    return inner\n",
    "@outer\n",
    "def sample():\n",
    "    print('inside sample function')\n",
    "sample()"
   ]
  },
  {
   "cell_type": "code",
   "execution_count": 27,
   "id": "5662a178",
   "metadata": {},
   "outputs": [
    {
     "name": "stdout",
     "output_type": "stream",
     "text": [
      "saisantosh\n"
     ]
    }
   ],
   "source": [
    "s1='sai'\n",
    "s2='santosh'\n",
    "print(s1+' '+s2)"
   ]
  },
  {
   "cell_type": "code",
   "execution_count": 30,
   "id": "5105c78f",
   "metadata": {},
   "outputs": [
    {
     "name": "stdout",
     "output_type": "stream",
     "text": [
      "inside try block\n",
      "100\n"
     ]
    }
   ],
   "source": [
    "try:\n",
    "    x=100\n",
    "    print('inside try block')\n",
    "    print(x)\n",
    "except:\n",
    "    print('inside except block')"
   ]
  },
  {
   "cell_type": "code",
   "execution_count": 6,
   "id": "99557a74",
   "metadata": {},
   "outputs": [
    {
     "name": "stdout",
     "output_type": "stream",
     "text": [
      "3\n",
      "0\n",
      "2\n",
      "1\n",
      "7\n",
      "inside except block\n"
     ]
    }
   ],
   "source": [
    "try:\n",
    "    l=[1,3,2,0,5,7]\n",
    "    for i in l:\n",
    "        print(l[i])\n",
    "except:\n",
    "    print('inside except block')"
   ]
  },
  {
   "cell_type": "code",
   "execution_count": 57,
   "id": "113adc35",
   "metadata": {},
   "outputs": [
    {
     "name": "stdout",
     "output_type": "stream",
     "text": [
      " 1\n",
      "      3\n",
      "           8\n",
      "                21\n",
      "                     55\n",
      "                34\n",
      "           13\n",
      "      5\n",
      " 2\n"
     ]
    }
   ],
   "source": [
    "d=[1,3,8,21,55,34,13,5,2]\n",
    "n=9\n",
    "i=0\n",
    "sp=0\n",
    "m=n\n",
    "while n!=0:\n",
    "    print('     '*sp,end=' ')\n",
    "    print(d[i],end='')\n",
    "    print()\n",
    "    if n>m//2+1:\n",
    "        sp+=1\n",
    "    else:\n",
    "        sp-=1\n",
    "    n-=1\n",
    "    i+=1"
   ]
  },
  {
   "cell_type": "code",
   "execution_count": 38,
   "id": "ad18ba6c",
   "metadata": {},
   "outputs": [
    {
     "name": "stdout",
     "output_type": "stream",
     "text": [
      "aaabbbbccccc\n"
     ]
    }
   ],
   "source": [
    "s='a3b4c5'\n",
    "ss=''\n",
    "for i in range(0,len(s),2):\n",
    "    if '1'<=s[i+1]<='9':\n",
    "        ss+=s[i]*int(s[i+1])\n",
    "print(ss)"
   ]
  },
  {
   "cell_type": "code",
   "execution_count": 2,
   "id": "423d01b3",
   "metadata": {},
   "outputs": [
    {
     "name": "stdout",
     "output_type": "stream",
     "text": [
      "sssshhhhhtttttttt\n"
     ]
    }
   ],
   "source": [
    "s='4s5h8t'\n",
    "ss=''\n",
    "for i in range(0,len(s),2):\n",
    "    if '1'<=s[i]<='9':\n",
    "        ss+=int(s[i])*s[i+1]\n",
    "print(ss)"
   ]
  },
  {
   "cell_type": "code",
   "execution_count": 6,
   "id": "88dbaafb",
   "metadata": {},
   "outputs": [
    {
     "data": {
      "text/plain": [
       "['p', 'hp', 'p', 'p']"
      ]
     },
     "execution_count": 6,
     "metadata": {},
     "output_type": "execute_result"
    }
   ],
   "source": [
    "import re \n",
    "s=\"hai heep hp heeep heeeeep\"\n",
    "re.findall(\"h*p\",s)"
   ]
  },
  {
   "cell_type": "code",
   "execution_count": 40,
   "id": "efbcc5d1",
   "metadata": {},
   "outputs": [
    {
     "name": "stdout",
     "output_type": "stream",
     "text": [
      "            *\n",
      "              *\n",
      "                *\n",
      "                  *\n",
      "                *\n",
      "              *\n",
      "            *\n"
     ]
    }
   ],
   "source": [
    "n=7\n",
    "st=1\n",
    "sp=n-1\n",
    "for a in range(n):\n",
    "    for d in range(sp):\n",
    "        print(' ',end=' ')\n",
    "    for b in range(st):\n",
    "        print('*',end='')\n",
    "    print()\n",
    "    if a<n//2:\n",
    "        sp+=1\n",
    "    else:\n",
    "        sp-=1"
   ]
  },
  {
   "cell_type": "code",
   "execution_count": 5,
   "id": "20a2704e",
   "metadata": {},
   "outputs": [
    {
     "name": "stdout",
     "output_type": "stream",
     "text": [
      "{'A': 'aaa', 'B': 'bbb', 'C': 'ccc', 'D': 'ddd'}\n"
     ]
    }
   ],
   "source": [
    "s='aBCd'\n",
    "d={i.upper():i.lower()*3 for i in s}\n",
    "print(d)"
   ]
  },
  {
   "cell_type": "code",
   "execution_count": 11,
   "id": "518a2742",
   "metadata": {},
   "outputs": [
    {
     "name": "stdout",
     "output_type": "stream",
     "text": [
      "{'A': 'aaa', 'B': 'bbb', 'C': 'ccc', 'D': 'ddd'}\n"
     ]
    }
   ],
   "source": [
    "s='aBCd'\n",
    "d={s[i].upper():s[i].lower()*3 for i in range(len(s))}\n",
    "print(d)"
   ]
  },
  {
   "cell_type": "code",
   "execution_count": 10,
   "id": "523345bf",
   "metadata": {},
   "outputs": [
    {
     "name": "stdout",
     "output_type": "stream",
     "text": [
      "{'P': 'P', 'q': 'qq', 'r': 'rrr', 'S': 'SSSS'}\n"
     ]
    }
   ],
   "source": [
    "s='PqrS'\n",
    "d={s[i]:s[i]*(i+1) for i in range(len(s))}\n",
    "print(d)"
   ]
  },
  {
   "cell_type": "code",
   "execution_count": 12,
   "id": "d09fd315",
   "metadata": {},
   "outputs": [
    {
     "name": "stdout",
     "output_type": "stream",
     "text": [
      "{0: 'P', 1: 'q', 2: 'r', 3: 'S'}\n"
     ]
    }
   ],
   "source": [
    "s='PqrS'\n",
    "d={i:s[i]  for i in range(len(s))}\n",
    "print(d)"
   ]
  },
  {
   "cell_type": "code",
   "execution_count": 14,
   "id": "955b67cb",
   "metadata": {},
   "outputs": [
    {
     "name": "stdout",
     "output_type": "stream",
     "text": [
      "{'P': 100, 'q': 200, 'r': 300, 'S': 400}\n"
     ]
    }
   ],
   "source": [
    "s='PqrS'\n",
    "l=[100,200,300,400]\n",
    "d={s[i]:l[i] for i in range(len(s))}\n",
    "print(d)"
   ]
  },
  {
   "cell_type": "code",
   "execution_count": 17,
   "id": "0acfa002",
   "metadata": {},
   "outputs": [
    {
     "name": "stdout",
     "output_type": "stream",
     "text": [
      "[('a', 'P'), ('b', 'q'), ('c', 'r'), ('d', 'S')]\n"
     ]
    }
   ],
   "source": [
    "s='PqrS'\n",
    "l='abcdef'\n",
    "print(list(zip(l,s)))"
   ]
  },
  {
   "cell_type": "code",
   "execution_count": 22,
   "id": "e94fe6fc",
   "metadata": {},
   "outputs": [
    {
     "name": "stdout",
     "output_type": "stream",
     "text": [
      "{2: 4, 4: 16, 6: 36, 8: 64, 10: 100}\n"
     ]
    }
   ],
   "source": [
    "d={i:i*i for i in range(1,11) if i%2==0}\n",
    "print(d)"
   ]
  },
  {
   "cell_type": "code",
   "execution_count": 1,
   "id": "2b2eddfa",
   "metadata": {},
   "outputs": [
    {
     "data": {
      "text/plain": [
       "<re.Match object; span=(0, 1), match='h'>"
      ]
     },
     "execution_count": 1,
     "metadata": {},
     "output_type": "execute_result"
    }
   ],
   "source": [
    "import re\n",
    "S='hai python'\n",
    "re.match('h',S)"
   ]
  },
  {
   "cell_type": "code",
   "execution_count": 2,
   "id": "d01ceb5c",
   "metadata": {},
   "outputs": [
    {
     "data": {
      "text/plain": [
       "['h', 'h']"
      ]
     },
     "execution_count": 2,
     "metadata": {},
     "output_type": "execute_result"
    }
   ],
   "source": [
    "re.findall('h',S)"
   ]
  },
  {
   "cell_type": "code",
   "execution_count": 3,
   "id": "cd068b71",
   "metadata": {},
   "outputs": [],
   "source": [
    "re.match('\\w{2}',S)"
   ]
  },
  {
   "cell_type": "code",
   "execution_count": 8,
   "id": "b5eb19f3",
   "metadata": {},
   "outputs": [
    {
     "name": "stdout",
     "output_type": "stream",
     "text": [
      "1\n",
      "2\n",
      "3\n",
      "5\n",
      "8\n",
      "13\n",
      "21\n",
      "34\n",
      "55\n",
      "89\n"
     ]
    }
   ],
   "source": [
    "class fib():\n",
    "    def __init__(self,f,s,n):\n",
    "        self.first=f\n",
    "        self.second=s\n",
    "        self.n=n\n",
    "    def __iter__(self):\n",
    "        self.i=1\n",
    "        return self\n",
    "    def __next__(self):\n",
    "        if self.i<self.n:\n",
    "            res=self.first\n",
    "            c=self.first+self.second\n",
    "            self.first,self.second=self.second,c\n",
    "            self.i+=1\n",
    "            return res\n",
    "        raise StopIteration\n",
    "F=fib(1,2,11)\n",
    "for i in F:\n",
    "    print(i)"
   ]
  },
  {
   "cell_type": "code",
   "execution_count": 22,
   "id": "7d9e7509",
   "metadata": {},
   "outputs": [
    {
     "name": "stdout",
     "output_type": "stream",
     "text": [
      "1\n",
      "4\n",
      "9\n",
      "16\n",
      "25\n",
      "36\n",
      "49\n",
      "64\n",
      "81\n",
      "100\n"
     ]
    }
   ],
   "source": [
    "class power():\n",
    "    def __init__(self,s,e,u=1):\n",
    "        self.s=s\n",
    "        self.e=e\n",
    "        self.u=u\n",
    "    def __iter__(self):\n",
    "        self.i=self.s\n",
    "        return self\n",
    "    def __next__(self):\n",
    "        if self.i<self.e:\n",
    "            res=self.i\n",
    "            self.i+=1\n",
    "            return res**2\n",
    "        raise StopIteration\n",
    "p=power(1,11)\n",
    "for i in p:\n",
    "    print(i) "
   ]
  },
  {
   "cell_type": "code",
   "execution_count": 18,
   "id": "995ec4ad",
   "metadata": {},
   "outputs": [
    {
     "name": "stdout",
     "output_type": "stream",
     "text": [
      "1\n",
      "2\n",
      "3\n",
      "4\n",
      "5\n",
      "6\n",
      "7\n",
      "8\n",
      "9\n",
      "10\n"
     ]
    }
   ],
   "source": [
    "class series():\n",
    "    def __init__(self,s,e,u=1):\n",
    "        self.s=s\n",
    "        self.e=e\n",
    "        self.u=u\n",
    "    def __iter__(self):\n",
    "        self.i=self.s\n",
    "        return self\n",
    "    def __next__(self):\n",
    "        if self.i<self.e:\n",
    "            res=self.i\n",
    "            self.i+=1\n",
    "            return res\n",
    "        raise StopIteration\n",
    "s=series(1,11)\n",
    "for i in s:\n",
    "    print(i) "
   ]
  },
  {
   "cell_type": "code",
   "execution_count": 13,
   "id": "8f906a91",
   "metadata": {},
   "outputs": [
    {
     "name": "stdout",
     "output_type": "stream",
     "text": [
      "2\n",
      "5\n",
      "7\n",
      "12\n",
      "19\n",
      "31\n",
      "50\n",
      "81\n",
      "131\n",
      "212\n"
     ]
    }
   ],
   "source": [
    "class fib():\n",
    "    def __init__(self,f,s,n):\n",
    "        self.f=f\n",
    "        self.s=s\n",
    "        self.n=n\n",
    "    def __iter__(self):\n",
    "        self.i=1\n",
    "        return self\n",
    "    def __next__(self):\n",
    "        if self.i<self.n:\n",
    "            res=self.f\n",
    "            c=self.f+self.s\n",
    "            self.f,self.s=self.s,c\n",
    "            self.i+=1\n",
    "            return res\n",
    "        raise StopIteration\n",
    "f=fib(2,5,11)\n",
    "for d in f:\n",
    "    print(d) "
   ]
  },
  {
   "cell_type": "code",
   "execution_count": 38,
   "id": "c94f0b62",
   "metadata": {},
   "outputs": [
    {
     "name": "stdout",
     "output_type": "stream",
     "text": [
      "            * \n",
      "          * \n",
      "        * \n",
      "      * \n",
      "        * \n",
      "          * \n",
      "            * \n"
     ]
    }
   ],
   "source": [
    "n=7\n",
    "st=1\n",
    "sp=n-1\n",
    "for d in range(n):\n",
    "    for s in range(sp):\n",
    "        print(' ',end=' ')\n",
    "    for a in range(st):\n",
    "        print('*',end=' ')\n",
    "    print()\n",
    "    if d>sp//2:\n",
    "        sp+=1\n",
    "    else:\n",
    "        sp-=1"
   ]
  },
  {
   "cell_type": "code",
   "execution_count": 58,
   "id": "e0e278de",
   "metadata": {},
   "outputs": [
    {
     "name": "stdout",
     "output_type": "stream",
     "text": [
      "a=20\n",
      "b=22\n"
     ]
    }
   ],
   "source": [
    "d={'a':20,'b':22}\n",
    "for k,v in d.items():\n",
    "    print(f'{k}={v}')"
   ]
  },
  {
   "cell_type": "code",
   "execution_count": 63,
   "id": "823fa2e7",
   "metadata": {},
   "outputs": [
    {
     "name": "stdout",
     "output_type": "stream",
     "text": [
      "20\n",
      "22\n"
     ]
    }
   ],
   "source": [
    "d={'a':20,'b':22}\n",
    "for i in d.values():\n",
    "    print(i)"
   ]
  },
  {
   "cell_type": "code",
   "execution_count": 64,
   "id": "b9dae9c8",
   "metadata": {},
   "outputs": [
    {
     "name": "stdout",
     "output_type": "stream",
     "text": [
      "a\n",
      "b\n"
     ]
    }
   ],
   "source": [
    "d={'a':20,'b':22}\n",
    "for i in d.keys():\n",
    "    print(i)"
   ]
  },
  {
   "cell_type": "code",
   "execution_count": 66,
   "id": "2989475a",
   "metadata": {},
   "outputs": [
    {
     "name": "stdout",
     "output_type": "stream",
     "text": [
      "('a', 20)\n",
      "('b', 22)\n"
     ]
    }
   ],
   "source": [
    "d={'a':20,'b':22}\n",
    "for i in d.items():\n",
    "    print(i)"
   ]
  },
  {
   "cell_type": "code",
   "execution_count": 67,
   "id": "b84f7604",
   "metadata": {},
   "outputs": [
    {
     "name": "stdout",
     "output_type": "stream",
     "text": [
      "a\n",
      "b\n"
     ]
    }
   ],
   "source": [
    "d={'a':20,'b':22}\n",
    "for i in d:\n",
    "    print(i)"
   ]
  },
  {
   "cell_type": "code",
   "execution_count": 1,
   "id": "1e109a41",
   "metadata": {},
   "outputs": [
    {
     "name": "stdout",
     "output_type": "stream",
     "text": [
      "120\n"
     ]
    }
   ],
   "source": [
    "import math\n",
    "x=math.factorial(5)\n",
    "print(x)"
   ]
  },
  {
   "cell_type": "code",
   "execution_count": 2,
   "id": "ea07f8c0",
   "metadata": {},
   "outputs": [
    {
     "name": "stdout",
     "output_type": "stream",
     "text": [
      "4321\n"
     ]
    }
   ],
   "source": [
    "def revnum(n,pos):\n",
    "    if n==0:\n",
    "        return 0\n",
    "    return(n%10)*pos+revnum(n//10,pos//10)\n",
    "num=1234\n",
    "p=len(str(num))-1\n",
    "pos=10**p\n",
    "print(revnum(num,pos))"
   ]
  },
  {
   "cell_type": "code",
   "execution_count": 6,
   "id": "085b60e5",
   "metadata": {},
   "outputs": [
    {
     "name": "stdout",
     "output_type": "stream",
     "text": [
      "pfd,santosh\n",
      "pfd,santosh\n",
      "pfd,santosh\n"
     ]
    }
   ],
   "source": [
    "class pyspiders():\n",
    "    cname='pfd'\n",
    "    tname='santosh'\n",
    "ob1=pyspiders()\n",
    "ob2=pyspiders()\n",
    "print(ob1.cname,ob1.tname,sep=',')\n",
    "print(ob2.cname,ob2.tname,sep=',')\n",
    "print(pyspiders.cname,pyspiders.tname,sep=',')"
   ]
  },
  {
   "cell_type": "code",
   "execution_count": 8,
   "id": "ae76c34b",
   "metadata": {},
   "outputs": [
    {
     "name": "stdout",
     "output_type": "stream",
     "text": [
      "java santosh\n",
      "pfd santosh\n",
      "pfd santosh\n",
      "pfd santosh\n"
     ]
    }
   ],
   "source": [
    "class py():\n",
    "    cname='pfd'\n",
    "    tname='santosh'\n",
    "ob1.cname='java'\n",
    "ob2=py\n",
    "ob3=py\n",
    "print(ob1.cname,ob1.tname)\n",
    "print(ob2.cname,ob2.tname)\n",
    "print(ob3.cname,ob3.tname)\n",
    "print(py.cname,py.tname)"
   ]
  },
  {
   "cell_type": "code",
   "execution_count": 13,
   "id": "75538214",
   "metadata": {},
   "outputs": [
    {
     "name": "stdout",
     "output_type": "stream",
     "text": [
      "constructor called\n",
      "constructor called\n"
     ]
    }
   ],
   "source": [
    "class a:\n",
    "    def __init__(self):\n",
    "        print('constructor called')\n",
    "ob1=a()\n",
    "ob2=a()"
   ]
  },
  {
   "cell_type": "code",
   "execution_count": 16,
   "id": "ee2a4a6d",
   "metadata": {},
   "outputs": [
    {
     "name": "stdout",
     "output_type": "stream",
     "text": [
      "sam 21 99\n",
      "ram 22 98\n",
      "tam 23 97\n"
     ]
    }
   ],
   "source": [
    "class py:\n",
    "    cname='pfd'\n",
    "    tname='santosh'\n",
    "    def __init__(self,name,age,mno):\n",
    "        self.name=name\n",
    "        self.age=age\n",
    "        self.mno=mno\n",
    "ob1=py('sam',21,99)\n",
    "ob2=py('ram',22,98)\n",
    "ob3=py('tam',23,97)\n",
    "print(ob1.name,ob1.age,ob1.mno)\n",
    "print(ob2.name,ob2.age,ob2.mno)\n",
    "print(ob3.name,ob3.age,ob3.mno)\n"
   ]
  },
  {
   "cell_type": "code",
   "execution_count": 8,
   "id": "a4510162",
   "metadata": {},
   "outputs": [
    {
     "name": "stdout",
     "output_type": "stream",
     "text": [
      "constructor of V2\n"
     ]
    }
   ],
   "source": [
    "class Bank_V1():\n",
    "    def __init__(self):\n",
    "        print('constructor of V1')\n",
    "class Bank_V2(Bank_V1):\n",
    "    def __init__(self):\n",
    "        print('constructor of V2')\n",
    "obj=Bank_V2()"
   ]
  },
  {
   "cell_type": "code",
   "execution_count": 39,
   "id": "9e212239",
   "metadata": {},
   "outputs": [
    {
     "name": "stdout",
     "output_type": "stream",
     "text": [
      "devi is great1\n",
      "devi is great2\n"
     ]
    }
   ],
   "source": [
    "class a():\n",
    "    def __init__(self):\n",
    "        print('devi is great1')\n",
    "class b(a):\n",
    "    def __init__(self):\n",
    "        super().__init__()\n",
    "        print('devi is great2')\n",
    "obj=b()"
   ]
  },
  {
   "cell_type": "code",
   "execution_count": 41,
   "id": "9104e2fa",
   "metadata": {},
   "outputs": [
    {
     "name": "stdout",
     "output_type": "stream",
     "text": [
      "prime\n"
     ]
    }
   ],
   "source": [
    "n=7\n",
    "res=0\n",
    "if n!=0:\n",
    "    for x in range(2,n//2+1):\n",
    "        if n%x==0:\n",
    "            print('not')\n",
    "            break\n",
    "    else:\n",
    "        print('prime')\n",
    "else:\n",
    "    print('not')"
   ]
  },
  {
   "cell_type": "code",
   "execution_count": 20,
   "id": "71baefd6",
   "metadata": {},
   "outputs": [
    {
     "name": "stdout",
     "output_type": "stream",
     "text": [
      "    1 \n",
      "  3 2 3 \n",
      "5 4 3 4 5 \n",
      "  3 2 3 \n",
      "    1 \n"
     ]
    }
   ],
   "source": [
    "n=5\n",
    "st=1\n",
    "sp=n//2\n",
    "num=n\n",
    "for i in range(n):\n",
    "    num=st\n",
    "    for j in range(sp):\n",
    "        print(' ',end=' ')\n",
    "    for k in range(st):\n",
    "        print(num,end=' ')\n",
    "        num=num-1 if k<st//2 else num+1\n",
    "    print()\n",
    "    if i<n//2:\n",
    "        st+=2\n",
    "        sp-=1\n",
    "    else:\n",
    "        st-=2\n",
    "        sp+=1"
   ]
  },
  {
   "cell_type": "code",
   "execution_count": 2,
   "id": "f5b92049",
   "metadata": {},
   "outputs": [
    {
     "name": "stdout",
     "output_type": "stream",
     "text": [
      "d\n",
      "de\n",
      "dev\n",
      "devi\n"
     ]
    }
   ],
   "source": [
    "p='devi'\n",
    "e=''\n",
    "for i in range(len(p)):\n",
    "    e+=p[i]\n",
    "    print(e)"
   ]
  },
  {
   "cell_type": "code",
   "execution_count": 39,
   "id": "924b7105",
   "metadata": {},
   "outputs": [
    {
     "name": "stdout",
     "output_type": "stream",
     "text": [
      "1\n",
      "4\n",
      "9\n",
      "16\n",
      "25\n",
      "36\n",
      "49\n",
      "64\n",
      "81\n",
      "100\n"
     ]
    }
   ],
   "source": [
    "class devi():\n",
    "    def __init__(self,s,e,u=1):\n",
    "        self.s=s\n",
    "        self.e=e\n",
    "        self.u=u\n",
    "    def __iter__(self):\n",
    "        self.i=self.s\n",
    "        return self\n",
    "    def __next__(self):\n",
    "        if self.i<self.e:\n",
    "            res=self.i\n",
    "            self.i+=1\n",
    "            return res**2\n",
    "        raise StopIteration\n",
    "D=devi(1,11)\n",
    "for i in D:\n",
    "    print(i)"
   ]
  },
  {
   "cell_type": "code",
   "execution_count": 43,
   "id": "4fafd08b",
   "metadata": {},
   "outputs": [
    {
     "name": "stdout",
     "output_type": "stream",
     "text": [
      "2\n",
      "5\n",
      "7\n",
      "12\n",
      "19\n",
      "31\n"
     ]
    }
   ],
   "source": [
    "class devi():\n",
    "    def __init__(self,f,s,n):\n",
    "        self.f=f\n",
    "        self.s=s\n",
    "        self.n=n\n",
    "    def __iter__(self):\n",
    "        self.i=1\n",
    "        return self\n",
    "    def __next__(self):\n",
    "        if self.i<self.n:\n",
    "            res=self.f\n",
    "            c=self.f+self.s\n",
    "            self.f,self.s=self.s,c\n",
    "            self.i+=1\n",
    "            return res\n",
    "        raise StopIteration\n",
    "D=devi(2,5,7)\n",
    "for s in D:\n",
    "    print(s)"
   ]
  },
  {
   "cell_type": "code",
   "execution_count": 49,
   "id": "01896a44",
   "metadata": {},
   "outputs": [
    {
     "name": "stdout",
     "output_type": "stream",
     "text": [
      "1\n",
      "2\n",
      "3\n",
      "5\n",
      "8\n",
      "13\n"
     ]
    }
   ],
   "source": [
    "class devi():\n",
    "    def __init__(self,s,t,u):\n",
    "        self.s=s\n",
    "        self.t=t\n",
    "        self.u=u\n",
    "    def __iter__(self):\n",
    "        self.i=1\n",
    "        return self\n",
    "    def __next__(self):\n",
    "        if self.i<self.u:\n",
    "            res=self.s\n",
    "            c=self.s+self.t\n",
    "            self.s,self.t=self.t,c\n",
    "            self.i+=1\n",
    "            return res\n",
    "        raise StopIteration\n",
    "D=devi(1,2,7)\n",
    "for i in D:\n",
    "    print(i)"
   ]
  },
  {
   "cell_type": "code",
   "execution_count": 54,
   "id": "ddb17045",
   "metadata": {},
   "outputs": [
    {
     "name": "stdout",
     "output_type": "stream",
     "text": [
      "      * \n",
      "        * \n",
      "          * \n",
      "            * \n",
      "          * \n",
      "        * \n",
      "      * \n"
     ]
    }
   ],
   "source": [
    "n=7\n",
    "st=1\n",
    "sp=n//2\n",
    "for i in range(n):\n",
    "    for h in range(sp):\n",
    "        print(' ',end=' ')\n",
    "    for m in range(st):\n",
    "        print('*',end=' ')\n",
    "    print()\n",
    "    if i<n//2:\n",
    "        sp+=1\n",
    "    else:\n",
    "        sp-=1"
   ]
  },
  {
   "cell_type": "code",
   "execution_count": 5,
   "id": "8e89e7ca",
   "metadata": {},
   "outputs": [
    {
     "name": "stdout",
     "output_type": "stream",
     "text": [
      "p\n",
      "py\n",
      "pyt\n",
      "pyth\n",
      "pytho\n",
      "python\n"
     ]
    }
   ],
   "source": [
    "p='python'\n",
    "d=''\n",
    "for n in range(len(p)):\n",
    "    d+=p[n]\n",
    "    print(d)"
   ]
  },
  {
   "cell_type": "code",
   "execution_count": 5,
   "id": "2bfdc367",
   "metadata": {},
   "outputs": [
    {
     "name": "stdout",
     "output_type": "stream",
     "text": [
      "p\n",
      "py\n",
      "pyt\n",
      "pyth\n",
      "pytho\n",
      "python\n"
     ]
    }
   ],
   "source": [
    "p='python'\n",
    "c=''\n",
    "for i in range(len(p)):\n",
    "        c+=p[i]\n",
    "        print(c)"
   ]
  },
  {
   "cell_type": "code",
   "execution_count": 16,
   "id": "d7a5b077",
   "metadata": {},
   "outputs": [
    {
     "name": "stdout",
     "output_type": "stream",
     "text": [
      "[10, 15, 12, 16, 19, 21]\n"
     ]
    }
   ],
   "source": [
    "l=[21,12,15,10,19,16]\n",
    "for x in range(len(l)-1):\n",
    "    mi=x\n",
    "    for y in range(x+1,len(l)):\n",
    "        if l[mi]>l[y]:\n",
    "            mi=y\n",
    "        l[x],l[mi]=l[mi],l[x]\n",
    "print(l)"
   ]
  },
  {
   "cell_type": "code",
   "execution_count": 25,
   "id": "6b133fb5",
   "metadata": {},
   "outputs": [
    {
     "name": "stdout",
     "output_type": "stream",
     "text": [
      "sai santosh\n"
     ]
    }
   ],
   "source": [
    "n=lambda x,y:x+' '+y\n",
    "print(n('sai','santosh'))"
   ]
  },
  {
   "cell_type": "code",
   "execution_count": 26,
   "id": "75740e80",
   "metadata": {},
   "outputs": [
    {
     "name": "stdout",
     "output_type": "stream",
     "text": [
      "99\n"
     ]
    }
   ],
   "source": [
    "d=lambda x,y:x*y\n",
    "print(d(9,11))"
   ]
  },
  {
   "cell_type": "code",
   "execution_count": 28,
   "id": "0b59d0e3",
   "metadata": {},
   "outputs": [
    {
     "name": "stdout",
     "output_type": "stream",
     "text": [
      "[4, 9, 16, 25]\n"
     ]
    }
   ],
   "source": [
    "def sqrt(n):\n",
    "    return n**2\n",
    "l=[2,3,4,5]\n",
    "x=list(map(sqrt,l))\n",
    "print(x)"
   ]
  },
  {
   "cell_type": "code",
   "execution_count": 29,
   "id": "8634a13c",
   "metadata": {},
   "outputs": [
    {
     "name": "stdout",
     "output_type": "stream",
     "text": [
      "[4, 9, 16, 25]\n"
     ]
    }
   ],
   "source": [
    "l=[2,3,4,5]\n",
    "x=list(map(lambda n:n**2,l))\n",
    "print(x)"
   ]
  },
  {
   "cell_type": "code",
   "execution_count": 30,
   "id": "ea8c4843",
   "metadata": {},
   "outputs": [
    {
     "name": "stdout",
     "output_type": "stream",
     "text": [
      "81\n"
     ]
    }
   ],
   "source": [
    "n=lambda x:x**2\n",
    "print(n(9))"
   ]
  },
  {
   "cell_type": "code",
   "execution_count": 31,
   "id": "26363018",
   "metadata": {},
   "outputs": [
    {
     "name": "stdout",
     "output_type": "stream",
     "text": [
      "[22, 13, 28, 16, 18]\n"
     ]
    }
   ],
   "source": [
    "def devi(d):\n",
    "    return d+11\n",
    "k=[11,2,17,5,7]\n",
    "y=list(map(devi,k))\n",
    "print(y)"
   ]
  },
  {
   "cell_type": "code",
   "execution_count": 44,
   "id": "82e89638",
   "metadata": {},
   "outputs": [
    {
     "name": "stdout",
     "output_type": "stream",
     "text": [
      "[4, 9, 16, 25]\n"
     ]
    }
   ],
   "source": [
    "t=[2,3,4,5]\n",
    "r=list(map(lambda s:s**2,t))\n",
    "print(r)"
   ]
  },
  {
   "cell_type": "code",
   "execution_count": 33,
   "id": "1b6f9097",
   "metadata": {},
   "outputs": [
    {
     "name": "stdout",
     "output_type": "stream",
     "text": [
      "[12, 20, 18]\n"
     ]
    }
   ],
   "source": [
    "def even(n):\n",
    "    return n%2==0\n",
    "l=[11,12,13,17,19,20,18]\n",
    "x=list(filter(even,l))\n",
    "print(x)"
   ]
  },
  {
   "cell_type": "code",
   "execution_count": 35,
   "id": "4141efa3",
   "metadata": {},
   "outputs": [
    {
     "name": "stdout",
     "output_type": "stream",
     "text": [
      "[12, 20, 18]\n"
     ]
    }
   ],
   "source": [
    "s=[11,12,13,17,19,20,18]\n",
    "r=list(filter(lambda n:n%2==0,s))\n",
    "print(r)"
   ]
  },
  {
   "cell_type": "code",
   "execution_count": 39,
   "id": "20f4ac04",
   "metadata": {},
   "outputs": [
    {
     "name": "stdout",
     "output_type": "stream",
     "text": [
      "[13, 21, 33, 11, 7]\n"
     ]
    }
   ],
   "source": [
    "def devi(n):\n",
    "    return n%2!=0\n",
    "a=[2,12,13,21,33,11,7]\n",
    "u=list(filter(devi,a))\n",
    "print(u)"
   ]
  },
  {
   "cell_type": "code",
   "execution_count": 40,
   "id": "da2d7b66",
   "metadata": {},
   "outputs": [
    {
     "name": "stdout",
     "output_type": "stream",
     "text": [
      "[13, 21, 33, 11, 7]\n"
     ]
    }
   ],
   "source": [
    "a=[2,12,13,21,33,11,7]\n",
    "u=list(filter(lambda n:n%2!=0,a))\n",
    "print(u)"
   ]
  },
  {
   "cell_type": "code",
   "execution_count": 46,
   "id": "a9e559f0",
   "metadata": {},
   "outputs": [
    {
     "name": "stdout",
     "output_type": "stream",
     "text": [
      "[False, False, True, True, True, True, True]\n"
     ]
    }
   ],
   "source": [
    "a=[2,12,13,21,33,11,7]\n",
    "u=list(map(lambda n:n%2!=0,a))\n",
    "print(u)"
   ]
  },
  {
   "cell_type": "code",
   "execution_count": 50,
   "id": "2f66d3e7",
   "metadata": {},
   "outputs": [
    {
     "name": "stdout",
     "output_type": "stream",
     "text": [
      "[11, 13, 17, 19]\n"
     ]
    }
   ],
   "source": [
    "def prime(n):\n",
    "    if n<=1:\n",
    "        return False\n",
    "    for i in range(2,n//2+1):\n",
    "        if n%i==0:\n",
    "            return False\n",
    "    return True\n",
    "l=[11,12,13,17,18,19,20]\n",
    "x=list(filter(prime,l))\n",
    "print(x)"
   ]
  },
  {
   "cell_type": "code",
   "execution_count": 51,
   "id": "45d9a6ab",
   "metadata": {},
   "outputs": [
    {
     "name": "stdout",
     "output_type": "stream",
     "text": [
      "-30\n"
     ]
    }
   ],
   "source": [
    "from functools import reduce\n",
    "l=[10,15,20,-25,30]\n",
    "n=reduce(lambda x,y:x-y,l)\n",
    "print(n)"
   ]
  },
  {
   "cell_type": "code",
   "execution_count": 52,
   "id": "5bb50138",
   "metadata": {},
   "outputs": [
    {
     "name": "stdout",
     "output_type": "stream",
     "text": [
      "24\n"
     ]
    }
   ],
   "source": [
    "from functools import reduce\n",
    "num=4\n",
    "n=reduce(lambda x,y:x*y,range(1,num+1))\n",
    "print(n)"
   ]
  },
  {
   "cell_type": "code",
   "execution_count": 58,
   "id": "b2d7c0c9",
   "metadata": {},
   "outputs": [
    {
     "name": "stdout",
     "output_type": "stream",
     "text": [
      "[11, 13, 17, 19]\n"
     ]
    }
   ],
   "source": [
    "def prime(n):\n",
    "    if n<=1:\n",
    "        return False\n",
    "    for i in range(2,n//2+1):\n",
    "        if n%i==0:\n",
    "            return False\n",
    "    return True\n",
    "l=[11,12,13,17,18,19,20]\n",
    "x=list(filter(lambda n:prime(n),l))\n",
    "print(x)"
   ]
  },
  {
   "cell_type": "code",
   "execution_count": 59,
   "id": "29ea0226",
   "metadata": {},
   "outputs": [
    {
     "name": "stdout",
     "output_type": "stream",
     "text": [
      "1\n",
      "2\n",
      "3\n",
      "5\n",
      "8\n",
      "13\n",
      "21\n",
      "34\n",
      "55\n",
      "89\n"
     ]
    }
   ],
   "source": [
    "class devi():\n",
    "    def __init__(self,s,e,u):\n",
    "        self.s=s\n",
    "        self.e=e\n",
    "        self.u=u\n",
    "    def __iter__(self):\n",
    "        self.i=1\n",
    "        return self\n",
    "    def __next__(self):\n",
    "        if self.i<self.u:\n",
    "            res=self.s\n",
    "            d=self.s+self.e\n",
    "            self.s,self.e=self.e,d\n",
    "            self.i+=1\n",
    "            return res\n",
    "        raise StopIteration\n",
    "d=devi(1,2,11)\n",
    "for s in d:\n",
    "    print(s)\n",
    "    "
   ]
  },
  {
   "cell_type": "code",
   "execution_count": 62,
   "id": "8f2a946d",
   "metadata": {},
   "outputs": [
    {
     "name": "stdout",
     "output_type": "stream",
     "text": [
      "120\n"
     ]
    }
   ],
   "source": [
    "def factorial(n):\n",
    "    fact=1\n",
    "    for i in range(1,n+1):\n",
    "        fact=fact*i\n",
    "    return fact\n",
    "p=5\n",
    "x=factorial(p)\n",
    "print(x)"
   ]
  },
  {
   "cell_type": "code",
   "execution_count": 2,
   "id": "bf321afe",
   "metadata": {},
   "outputs": [
    {
     "name": "stdout",
     "output_type": "stream",
     "text": [
      "0 1 1 2 3 5 8 13 21 34 "
     ]
    }
   ],
   "source": [
    "def fib(n):\n",
    "    f,s=0,1\n",
    "    if n==1 or n==2:\n",
    "        return n-1\n",
    "    for i in range(0,n-2):\n",
    "        t=f+s\n",
    "        f,s=s,t\n",
    "    return t\n",
    "for u in range(1,11):\n",
    "    print(fib(u),end=' ')"
   ]
  },
  {
   "cell_type": "code",
   "execution_count": 5,
   "id": "84544ed3",
   "metadata": {},
   "outputs": [
    {
     "name": "stdout",
     "output_type": "stream",
     "text": [
      "enter value of x:10\n",
      "34\n"
     ]
    }
   ],
   "source": [
    "def fib(n):\n",
    "    f,s=0,1\n",
    "    if n==1 or n==2:\n",
    "        return n-1\n",
    "    for i in range(0,n-2):\n",
    "        t=f+s\n",
    "        f,s=s,t\n",
    "    return t\n",
    "x=int(input('enter value of x:'))\n",
    "print(fib(x))"
   ]
  },
  {
   "cell_type": "code",
   "execution_count": 18,
   "id": "bcffb027",
   "metadata": {},
   "outputs": [
    {
     "name": "stdout",
     "output_type": "stream",
     "text": [
      "        E \n",
      "      E D \n",
      "    E D C \n",
      "  E D C B \n",
      "E D C B A \n"
     ]
    }
   ],
   "source": [
    "n=5\n",
    "sp=n-1\n",
    "st=1\n",
    "for a in range(n):\n",
    "    num=5\n",
    "    for b in range(sp):\n",
    "        print(' ',end=' ')\n",
    "    for c in range(st):\n",
    "        print(chr(num+64),end=' ')\n",
    "        num-=1\n",
    "    print()\n",
    "    st+=1\n",
    "    sp-=1"
   ]
  },
  {
   "cell_type": "code",
   "execution_count": 15,
   "id": "8f37d3fa",
   "metadata": {},
   "outputs": [
    {
     "name": "stdout",
     "output_type": "stream",
     "text": [
      "      A \n",
      "    A B C \n",
      "  A B C D E \n",
      "A B C D E F G \n"
     ]
    }
   ],
   "source": [
    "n=4\n",
    "sp=n-1\n",
    "st=1\n",
    "for x in range(n):\n",
    "    num=1\n",
    "    for y in range(sp):\n",
    "        print(' ',end=' ')\n",
    "    for z in range(st):\n",
    "        print(chr(num+64),end=' ')\n",
    "        num+=1\n",
    "    print()\n",
    "    st+=2\n",
    "    sp-=1"
   ]
  },
  {
   "cell_type": "code",
   "execution_count": 20,
   "id": "0c3a4299",
   "metadata": {},
   "outputs": [
    {
     "name": "stdout",
     "output_type": "stream",
     "text": [
      "A \n",
      "A B \n",
      "A B C \n",
      "A B C D \n",
      "A B C D E \n"
     ]
    }
   ],
   "source": [
    "n=5\n",
    "st=1\n",
    "for i in range(n):\n",
    "    num=1\n",
    "    for j in range(st):\n",
    "        print(chr(num+64),end=' ')\n",
    "        num+=1\n",
    "    print()\n",
    "    st+=1"
   ]
  },
  {
   "cell_type": "code",
   "execution_count": 21,
   "id": "0948fe63",
   "metadata": {},
   "outputs": [
    {
     "name": "stdout",
     "output_type": "stream",
     "text": [
      "enter value of n:17\n",
      "product of 17 is 7\n"
     ]
    }
   ],
   "source": [
    "n=int(input('enter value of n:'))\n",
    "res=1\n",
    "num=n\n",
    "while n!=0:\n",
    "    rem=n%10\n",
    "    res*=rem\n",
    "    n//=10\n",
    "print(f'product of {num} is {res}')"
   ]
  },
  {
   "cell_type": "code",
   "execution_count": 22,
   "id": "08173444",
   "metadata": {},
   "outputs": [
    {
     "name": "stdout",
     "output_type": "stream",
     "text": [
      "dhoni is great\n"
     ]
    }
   ],
   "source": [
    "dhoni='22'\n",
    "virat=''\n",
    "for icc in range(-1,-(len(dhoni)+1),-1):\n",
    "    virat+=dhoni[icc]\n",
    "if virat==dhoni:\n",
    "    print('dhoni is great')\n",
    "else:\n",
    "    print('virat is great')"
   ]
  },
  {
   "cell_type": "code",
   "execution_count": 24,
   "id": "b3b3addb",
   "metadata": {},
   "outputs": [
    {
     "name": "stdout",
     "output_type": "stream",
     "text": [
      "aae\n"
     ]
    }
   ],
   "source": [
    "s='black panther'\n",
    "vow='AEIOUaeiou'\n",
    "res=''\n",
    "for d in range(len(s)):\n",
    "    if s[d] in vow:\n",
    "        res+=s[d]\n",
    "print(res)"
   ]
  },
  {
   "cell_type": "code",
   "execution_count": 29,
   "id": "1ee08939",
   "metadata": {},
   "outputs": [
    {
     "name": "stdout",
     "output_type": "stream",
     "text": [
      "d\n",
      "de\n",
      "dev\n",
      "devi\n"
     ]
    }
   ],
   "source": [
    "d='devi'\n",
    "c=''\n",
    "for i in range(len(d)):\n",
    "    c+=d[i]\n",
    "    print(c)"
   ]
  },
  {
   "cell_type": "code",
   "execution_count": 32,
   "id": "b76342ab",
   "metadata": {},
   "outputs": [
    {
     "name": "stdout",
     "output_type": "stream",
     "text": [
      "engir\n"
     ]
    }
   ],
   "source": [
    "p='engineering'\n",
    "res=''\n",
    "for d in range(len(p)):\n",
    "    if p[d] not in res:\n",
    "        res+=p[d]\n",
    "print(res)"
   ]
  },
  {
   "cell_type": "code",
   "execution_count": 34,
   "id": "cbf7b823",
   "metadata": {},
   "outputs": [
    {
     "name": "stdout",
     "output_type": "stream",
     "text": [
      "avengrs iftyw\n"
     ]
    }
   ],
   "source": [
    "d='avengers infinity war'\n",
    "movie=''\n",
    "for c in d:\n",
    "    if c not in movie:\n",
    "        movie+=c\n",
    "print(movie)"
   ]
  },
  {
   "cell_type": "code",
   "execution_count": 37,
   "id": "2199ac69",
   "metadata": {},
   "outputs": [
    {
     "name": "stdout",
     "output_type": "stream",
     "text": [
      "AVENGERS\n"
     ]
    }
   ],
   "source": [
    "d='avengers'\n",
    "res=''\n",
    "for c in range(len(d)):\n",
    "    if 'a'<=d[c]<='z':\n",
    "        res+=chr(ord(d[c])-32)\n",
    "    else:\n",
    "        res+=d[c]\n",
    "print(res)"
   ]
  },
  {
   "cell_type": "code",
   "execution_count": 39,
   "id": "d6365517",
   "metadata": {},
   "outputs": [
    {
     "name": "stdout",
     "output_type": "stream",
     "text": [
      "avengers\n"
     ]
    }
   ],
   "source": [
    "d='AVENGERS'\n",
    "res=''\n",
    "for c in range(len(d)):\n",
    "    if 'A'<=d[c]<='Z':\n",
    "        res+=chr(ord(d[c])+32)\n",
    "    else:\n",
    "        res+=d[c]\n",
    "print(res)"
   ]
  },
  {
   "cell_type": "code",
   "execution_count": 57,
   "id": "d5809702",
   "metadata": {},
   "outputs": [
    {
     "name": "stdout",
     "output_type": "stream",
     "text": [
      "2\n",
      "3\n",
      "5\n",
      "7\n"
     ]
    }
   ],
   "source": [
    "for t in range(1,11):\n",
    "    if t>1:\n",
    "        for s in range(2,t//2+1):\n",
    "            if t%s==0:\n",
    "                break\n",
    "        else:\n",
    "            print(t)"
   ]
  },
  {
   "cell_type": "code",
   "execution_count": 54,
   "id": "865fef27",
   "metadata": {},
   "outputs": [
    {
     "name": "stdout",
     "output_type": "stream",
     "text": [
      "2\n",
      "3\n",
      "5\n",
      "7\n",
      "11\n",
      "13\n",
      "17\n",
      "19\n",
      "23\n",
      "29\n"
     ]
    }
   ],
   "source": [
    "for c in range(1,31):\n",
    "    if c>1:\n",
    "        for d in range(2,c//2+1):\n",
    "            if c%d==0:\n",
    "                break\n",
    "        else:\n",
    "            print(c)"
   ]
  },
  {
   "cell_type": "code",
   "execution_count": 82,
   "id": "55a05a8d",
   "metadata": {},
   "outputs": [
    {
     "name": "stdout",
     "output_type": "stream",
     "text": [
      "armstrong\n"
     ]
    }
   ],
   "source": [
    "n=153\n",
    "num=n\n",
    "p=len(str(n))\n",
    "res=0\n",
    "while n!=0:\n",
    "    rem=n%10\n",
    "    res=res+rem**p\n",
    "    n=n//10\n",
    "if res==num:\n",
    "    print('armstrong')\n",
    "else:\n",
    "    print('not')"
   ]
  },
  {
   "cell_type": "code",
   "execution_count": 72,
   "id": "eb98d3a6",
   "metadata": {},
   "outputs": [
    {
     "name": "stdout",
     "output_type": "stream",
     "text": [
      "disarum\n"
     ]
    }
   ],
   "source": [
    "n=135\n",
    "num=n\n",
    "res=0\n",
    "p=len(str(n))\n",
    "while n!=0:\n",
    "    rem=n%10\n",
    "    res=res+rem**p\n",
    "    p=p-1\n",
    "    n=n//10\n",
    "if res==num:\n",
    "    print('disarum')\n",
    "else:\n",
    "    print('not')"
   ]
  },
  {
   "cell_type": "code",
   "execution_count": 76,
   "id": "e8b57d6a",
   "metadata": {},
   "outputs": [
    {
     "name": "stdout",
     "output_type": "stream",
     "text": [
      "special number\n"
     ]
    }
   ],
   "source": [
    "n=145\n",
    "num=n\n",
    "res=0\n",
    "while n!=0:\n",
    "    rem=n%10\n",
    "    n=n//10\n",
    "    fact=1\n",
    "    for s in range(1,rem+1):\n",
    "        fact=fact*s\n",
    "    res=res+fact\n",
    "if num==res:\n",
    "    print('special number')\n",
    "else:\n",
    "    print('not')"
   ]
  },
  {
   "cell_type": "code",
   "execution_count": 79,
   "id": "b07f93dd",
   "metadata": {},
   "outputs": [
    {
     "name": "stdout",
     "output_type": "stream",
     "text": [
      "palindrome\n"
     ]
    }
   ],
   "source": [
    "n=727\n",
    "num=n\n",
    "res=0\n",
    "while n!=0:\n",
    "    rem=n%10\n",
    "    res=res*10+rem\n",
    "    n=n//10\n",
    "if num==res:\n",
    "    print('palindrome')\n",
    "else:\n",
    "    print('not')"
   ]
  },
  {
   "cell_type": "code",
   "execution_count": 85,
   "id": "b6123fa8",
   "metadata": {},
   "outputs": [
    {
     "name": "stdout",
     "output_type": "stream",
     "text": [
      "EMIRP\n"
     ]
    }
   ],
   "source": [
    "d=17\n",
    "n=d\n",
    "s=0\n",
    "while d>0:\n",
    "    r=d%10\n",
    "    d=d//10\n",
    "    s=s*10+r\n",
    "if s!=n:\n",
    "    for x in range(2,n//2+1):\n",
    "        if n%x==0:\n",
    "            print('not emirp')\n",
    "            break\n",
    "    else:\n",
    "        for y in range(2,s//2+1):\n",
    "            if s%i==0:\n",
    "                print('not emirp')\n",
    "                break\n",
    "        else:\n",
    "            print('EMIRP')\n",
    "else:\n",
    "    print('not emirp')"
   ]
  },
  {
   "cell_type": "code",
   "execution_count": 86,
   "id": "701dc5a7",
   "metadata": {},
   "outputs": [
    {
     "name": "stdout",
     "output_type": "stream",
     "text": [
      "enter value of x:5\n",
      "3\n"
     ]
    }
   ],
   "source": [
    "def devi(n):\n",
    "    f,s=0,1\n",
    "    if n==1 or n==2:\n",
    "        return n-1\n",
    "    for i in range(0,n-2):\n",
    "        t=f+s\n",
    "        f,s=s,t\n",
    "    return t\n",
    "x=int(input('enter value of x:'))\n",
    "print(devi(x))"
   ]
  },
  {
   "cell_type": "code",
   "execution_count": 98,
   "id": "0c502c29",
   "metadata": {},
   "outputs": [
    {
     "name": "stdout",
     "output_type": "stream",
     "text": [
      "dhoni is great\n"
     ]
    }
   ],
   "source": [
    "dhoni=\"22\"\n",
    "virat=\"\"\n",
    "for icc in range(-1,-(len(dhoni)+1),-1):\n",
    "    virat+=dhoni[icc]\n",
    "if dhoni==virat:\n",
    "    print(\"dhoni is great\")\n",
    "else:\n",
    "    print(\"virat is great\")"
   ]
  },
  {
   "cell_type": "code",
   "execution_count": 99,
   "id": "d175dbaa",
   "metadata": {},
   "outputs": [
    {
     "name": "stdout",
     "output_type": "stream",
     "text": [
      "Python Is Easy If You Learn\n"
     ]
    }
   ],
   "source": [
    "s='python is easy if you learn'\n",
    "n=s.title()\n",
    "print(n)"
   ]
  },
  {
   "cell_type": "code",
   "execution_count": 108,
   "id": "d4fde365",
   "metadata": {},
   "outputs": [
    {
     "name": "stdout",
     "output_type": "stream",
     "text": [
      "2\n",
      "5\n",
      "7\n",
      "12\n",
      "19\n",
      "31\n"
     ]
    }
   ],
   "source": [
    "class devi():\n",
    "    def __init__(self,a,b,c):\n",
    "        self.a=a\n",
    "        self.b=b\n",
    "        self.c=c\n",
    "    def __iter__(self):\n",
    "        self.i=1\n",
    "        return self\n",
    "    def __next__(self):\n",
    "        if self.i<self.c:\n",
    "            res=self.a\n",
    "            d=self.a+self.b\n",
    "            self.a,self.b=self.b,d\n",
    "            self.i+=1\n",
    "            return res\n",
    "        raise StopIteration\n",
    "p=devi(2,5,7)\n",
    "for d in p:\n",
    "    print(d)"
   ]
  },
  {
   "cell_type": "code",
   "execution_count": 17,
   "id": "04c3f00b",
   "metadata": {},
   "outputs": [
    {
     "name": "stdout",
     "output_type": "stream",
     "text": [
      "[11, 23, 22, 12, 43, 22, 2, 25, 'abc']\n"
     ]
    }
   ],
   "source": [
    "d=[11,23,12,43,22]\n",
    "d.append(2)\n",
    "d.insert(2,22)\n",
    "d.extend({25:'cd'})\n",
    "d.extend(['abc'])\n",
    "print(d)"
   ]
  },
  {
   "cell_type": "code",
   "execution_count": 23,
   "id": "fd03039e",
   "metadata": {},
   "outputs": [
    {
     "name": "stdout",
     "output_type": "stream",
     "text": [
      "[30, 20, 10, 40]\n"
     ]
    }
   ],
   "source": [
    "a=[10,20,30,20,10,40]\n",
    "a.remove(20)\n",
    "a.remove(10)\n",
    "print(a)"
   ]
  },
  {
   "cell_type": "code",
   "execution_count": 31,
   "id": "a4860f49",
   "metadata": {},
   "outputs": [
    {
     "name": "stdout",
     "output_type": "stream",
     "text": [
      "n:30\n",
      "a:[10, 20, 20, 10, 40]\n"
     ]
    }
   ],
   "source": [
    "a=[10,20,30,20,10,40]\n",
    "n=a.pop(2)\n",
    "print(f'n:{n}')\n",
    "print(f'a:{a}')"
   ]
  },
  {
   "cell_type": "code",
   "execution_count": 32,
   "id": "e9678aa7",
   "metadata": {},
   "outputs": [
    {
     "data": {
      "text/plain": [
       "40"
      ]
     },
     "execution_count": 32,
     "metadata": {},
     "output_type": "execute_result"
    }
   ],
   "source": [
    "a.pop()"
   ]
  },
  {
   "cell_type": "code",
   "execution_count": 41,
   "id": "2e6b845a",
   "metadata": {},
   "outputs": [
    {
     "name": "stdout",
     "output_type": "stream",
     "text": [
      "hr\n"
     ]
    }
   ],
   "source": [
    "a='we are here to learn'\n",
    "print(a[7:11:2])"
   ]
  },
  {
   "cell_type": "code",
   "execution_count": 1,
   "id": "07c63a89",
   "metadata": {},
   "outputs": [
    {
     "name": "stdout",
     "output_type": "stream",
     "text": [
      "2\n",
      "5\n",
      "7\n",
      "12\n",
      "19\n",
      "31\n"
     ]
    }
   ],
   "source": [
    "class devi():\n",
    "    def __init__(self,m,n,o):\n",
    "        self.m=m\n",
    "        self.n=n\n",
    "        self.o=o\n",
    "    def __iter__(self):\n",
    "        self.i=1\n",
    "        return self\n",
    "    def __next__(self):\n",
    "        if self.i<self.o:\n",
    "            res=self.m\n",
    "            w=self.m+self.n\n",
    "            self.m,self.n=self.n,w\n",
    "            self.i+=1\n",
    "            return res\n",
    "        raise StopIteration\n",
    "d=devi(2,5,7)\n",
    "for s in d:\n",
    "    print(s)"
   ]
  },
  {
   "cell_type": "code",
   "execution_count": 13,
   "id": "2579e78c",
   "metadata": {},
   "outputs": [
    {
     "name": "stdout",
     "output_type": "stream",
     "text": [
      "[0, 7, 1, 6, 2, 5, 3, 4]\n"
     ]
    }
   ],
   "source": [
    "k=[0,1,2,3,4,5,6,7]\n",
    "c=[]\n",
    "for e in range(len(k)):\n",
    "    for b in range(e+1,len(k)):\n",
    "        if k[e]+k[b]==7:\n",
    "            c.append(k[e])\n",
    "            c.append(k[b])\n",
    "print(c)"
   ]
  },
  {
   "cell_type": "code",
   "execution_count": 11,
   "id": "9f5210c0",
   "metadata": {},
   "outputs": [
    {
     "name": "stdout",
     "output_type": "stream",
     "text": [
      "[2, 5, 5, 2, 4, 3]\n"
     ]
    }
   ],
   "source": [
    "l=[1,2,5,8,4,3,2]\n",
    "c=[]\n",
    "for i in range(len(l)-1):\n",
    "    for j in range(i+1,len(l)):\n",
    "        if l[i]+l[j]==7:\n",
    "            c.append(l[i])\n",
    "            c.append(l[j])\n",
    "print(c)"
   ]
  },
  {
   "cell_type": "code",
   "execution_count": 17,
   "id": "fdea9965",
   "metadata": {},
   "outputs": [
    {
     "name": "stdout",
     "output_type": "stream",
     "text": [
      "[333, 99, 98, 45, 22, 13, 12, 11, 3, 2]\n"
     ]
    }
   ],
   "source": [
    "m=[2,3,13,11,333,12,45,99,98,22]\n",
    "for e in range(len(m)-1):\n",
    "    for s in range(len(m)-e-1):\n",
    "        if m[s]<m[s+1]:\n",
    "            m[s],m[s+1]=m[s+1],m[s]\n",
    "print(m)"
   ]
  },
  {
   "cell_type": "code",
   "execution_count": 5,
   "id": "91050471",
   "metadata": {},
   "outputs": [
    {
     "name": "stdout",
     "output_type": "stream",
     "text": [
      "ived\n"
     ]
    }
   ],
   "source": [
    "c='devi'\n",
    "print(c[::-1])"
   ]
  },
  {
   "cell_type": "code",
   "execution_count": 6,
   "id": "a8fa57cd",
   "metadata": {},
   "outputs": [
    {
     "name": "stdout",
     "output_type": "stream",
     "text": [
      "ived\n"
     ]
    }
   ],
   "source": [
    "c='devi'\n",
    "d=''\n",
    "for i in range(-1,-(len(c)+1),-1):\n",
    "    d+=c[i]\n",
    "print(d)"
   ]
  },
  {
   "cell_type": "code",
   "execution_count": 13,
   "id": "03ade3eb",
   "metadata": {},
   "outputs": [
    {
     "name": "stdout",
     "output_type": "stream",
     "text": [
      "good afternoon\n",
      "cherry\n"
     ]
    }
   ],
   "source": [
    "def wish():\n",
    "    print('good afternoon')\n",
    "    return 'cherry'\n",
    "x=wish()\n",
    "print(x)"
   ]
  },
  {
   "cell_type": "code",
   "execution_count": 4,
   "id": "674ccd65",
   "metadata": {},
   "outputs": [
    {
     "name": "stdout",
     "output_type": "stream",
     "text": [
      "outer is started\n",
      "outer is ended\n",
      "******************************\n",
      "<function Outer.<locals>.inner at 0x0000016D34D89160>\n",
      "******************************\n",
      "inner is startes\n",
      "<function sample at 0x0000016D34D891F0>\n",
      "sample functions is started\n",
      "sample function is ended\n",
      "rockesh\n",
      "inner is ended\n",
      "******************************\n",
      "inner is startes\n",
      "<function sample at 0x0000016D34D891F0>\n",
      "sample functions is started\n",
      "sample function is ended\n",
      "rockesh\n",
      "inner is ended\n",
      "******************************\n",
      "inner is startes\n",
      "<function sample at 0x0000016D34D891F0>\n",
      "sample functions is started\n",
      "sample function is ended\n",
      "rockesh\n",
      "inner is ended\n",
      "******************************\n",
      "inner is startes\n",
      "<function sample at 0x0000016D34D891F0>\n",
      "sample functions is started\n",
      "sample function is ended\n",
      "rockesh\n",
      "inner is ended\n",
      "********************\n"
     ]
    }
   ],
   "source": [
    "def Outer(arg):\n",
    "    print('outer is started')\n",
    "    def inner():\n",
    "        print('inner is startes')\n",
    "        print(arg)\n",
    "        print(arg())\n",
    "        print('inner is ended')\n",
    "        \n",
    "    print('outer is ended')\n",
    "    return inner\n",
    "@Outer\n",
    "def sample():\n",
    "    print('sample functions is started')\n",
    "    print('sample function is ended')\n",
    "    return 'rockesh'\n",
    "print('*'*30)\n",
    "print(sample)\n",
    "print('*'*30)\n",
    "sample()\n",
    "print('*'*30)\n",
    "sample()\n",
    "print('*'*30)\n",
    "sample()\n",
    "print('*'*30)\n",
    "sample()\n",
    "print('*'*20)"
   ]
  },
  {
   "cell_type": "code",
   "execution_count": 10,
   "id": "b6329766",
   "metadata": {},
   "outputs": [
    {
     "name": "stdout",
     "output_type": "stream",
     "text": [
      "enter a tickets:300\n",
      "tickets booked succesfuly remaining tickets are 200\n",
      "enter a tickets:200\n",
      "tickets booked succesfuly remaining tickets are 0\n",
      "enter a tickets:350\n",
      "tickets not available the availble tickets are 0\n"
     ]
    },
    {
     "data": {
      "text/plain": [
       "\"ob1=Yevadu()\\nn=int(input('enter a tickets:'))\\nob1.Booking(n)\\nob2=Yevadu()\\nn=int(input('enter a tickets:'))\\nob2.Booking(n)\\nob3=Yevadu()\\nn=int(input('enter a tickets:'))\\nob3.Booking(n)\""
      ]
     },
     "execution_count": 10,
     "metadata": {},
     "output_type": "execute_result"
    }
   ],
   "source": [
    "def Single_ton(arg):\n",
    "    d={}\n",
    "    def inner():\n",
    "        if arg not in d:\n",
    "            d[arg]=arg()\n",
    "        return d[arg]\n",
    "    return inner\n",
    "@Single_ton\n",
    "class Yevadu():\n",
    "    def __init__(self):\n",
    "        self.tickets=500\n",
    "    def Booking(self,n):\n",
    "        self.n=n\n",
    "        if self.n<=self.tickets:\n",
    "            self.tickets-=self.n\n",
    "            print('tickets booked succesfuly','remaining tickets are',self.tickets)\n",
    "        else:\n",
    "            print('tickets not available','the availble tickets are',self.tickets)\n",
    "def Bookmyshow():\n",
    "    ob1=Yevadu()\n",
    "    n=int(input('enter a tickets:'))\n",
    "    ob1.Booking(n)\n",
    "Bookmyshow()\n",
    "Bookmyshow()\n",
    "Bookmyshow()\n",
    "\n",
    "\n",
    "\n",
    "'''ob1=Yevadu()\n",
    "n=int(input('enter a tickets:'))\n",
    "ob1.Booking(n)\n",
    "ob2=Yevadu()\n",
    "n=int(input('enter a tickets:'))\n",
    "ob2.Booking(n)\n",
    "ob3=Yevadu()\n",
    "n=int(input('enter a tickets:'))\n",
    "ob3.Booking(n)'''"
   ]
  },
  {
   "cell_type": "code",
   "execution_count": 8,
   "id": "2398015a",
   "metadata": {},
   "outputs": [
    {
     "name": "stdout",
     "output_type": "stream",
     "text": [
      "3\n",
      "tc\n"
     ]
    }
   ],
   "source": [
    "s='DEtcVI'\n",
    "a=len(s)\n",
    "print(a//2)\n",
    "if a%2==0:\n",
    "    print(s[a//2-1]+s[a//2])\n",
    "else:\n",
    "    print(s[a//2])"
   ]
  },
  {
   "cell_type": "code",
   "execution_count": 3,
   "id": "03871005",
   "metadata": {},
   "outputs": [
    {
     "name": "stdout",
     "output_type": "stream",
     "text": [
      "ih mai toorg\n"
     ]
    }
   ],
   "source": [
    "l='hi iam groot'\n",
    "s=l.split()\n",
    "for i in range(len(s)):\n",
    "    s[i]=s[i][::-1]\n",
    "print(' '.join(s))"
   ]
  },
  {
   "cell_type": "code",
   "execution_count": 3,
   "id": "cb84dc7b",
   "metadata": {},
   "outputs": [
    {
     "name": "stdout",
     "output_type": "stream",
     "text": [
      "ived\n"
     ]
    }
   ],
   "source": [
    "def rev(i):\n",
    "    if i==-(len(d)+1):\n",
    "        return ''\n",
    "    return d[i]+rev(i-1)\n",
    "d='devi'\n",
    "print(rev(-1))"
   ]
  },
  {
   "cell_type": "code",
   "execution_count": 24,
   "id": "58e3a12c",
   "metadata": {},
   "outputs": [
    {
     "name": "stdout",
     "output_type": "stream",
     "text": [
      "hi=2\n",
      "how=1\n",
      "are=1\n",
      "you=1\n",
      "iam=1\n",
      "fine=1\n"
     ]
    }
   ],
   "source": [
    "a='hi how are you hi iam fine'\n",
    "s=a.split()\n",
    "d={}\n",
    "for i in range(len(s)):\n",
    "    if s[i] not in d:\n",
    "        d[s[i]]=1\n",
    "    else:\n",
    "        d[s[i]]+=1\n",
    "for k,v in d.items():\n",
    "        print(f'{k}={v}')"
   ]
  },
  {
   "cell_type": "code",
   "execution_count": 19,
   "id": "a88a4a9a",
   "metadata": {},
   "outputs": [
    {
     "name": "stdout",
     "output_type": "stream",
     "text": [
      "AD4C5FE96\n"
     ]
    }
   ],
   "source": [
    "s='AD4C5FE96'\n",
    "d=''\n",
    "for i in range(len(s)):\n",
    "    if 'A'<=s[i]<='Z':\n",
    "        d+=s[i][::-1]\n",
    "    else:\n",
    "        d+=s[i]\n",
    "print(d)"
   ]
  },
  {
   "cell_type": "code",
   "execution_count": 33,
   "id": "ed21124c",
   "metadata": {},
   "outputs": [
    {
     "name": "stdout",
     "output_type": "stream",
     "text": [
      "3a2b1c1d\n"
     ]
    }
   ],
   "source": [
    "s='aaabbcd'\n",
    "res=''\n",
    "count=1\n",
    "for i in range(len(s)-1):\n",
    "    if s[i]==s[i+1]:\n",
    "        count+=1\n",
    "    else:\n",
    "        res+=str(count)+s[i]\n",
    "        count=1\n",
    "res+=str(count)+s[i+1]\n",
    "print(res)"
   ]
  },
  {
   "cell_type": "code",
   "execution_count": 1,
   "id": "afc278f1",
   "metadata": {},
   "outputs": [
    {
     "name": "stdout",
     "output_type": "stream",
     "text": [
      "[1, 2, 3, 4]\n",
      "THIS IS EXAM QUESTION\n"
     ]
    }
   ],
   "source": [
    "S='I2S QUES4TION EX3AM TH1IS'\n",
    "d={}\n",
    "L=S.split()\n",
    "lt=[]\n",
    "for word in L:\n",
    "    num=ss=''\n",
    "    for ch in word:\n",
    "        if '0'<=ch<='9':\n",
    "            num+=ch\n",
    "        else:\n",
    "            ss+=ch\n",
    "    d[int(num)]=ss\n",
    "ld=list(d)\n",
    "ld.sort()\n",
    "print(ld)\n",
    "for i in ld:\n",
    "    if i in d.keys():\n",
    "        lt.append(d[i])\n",
    "print(' '.join(lt))"
   ]
  },
  {
   "cell_type": "code",
   "execution_count": null,
   "id": "62423c99",
   "metadata": {},
   "outputs": [],
   "source": []
  },
  {
   "cell_type": "code",
   "execution_count": null,
   "id": "0f54d3db",
   "metadata": {},
   "outputs": [],
   "source": []
  }
 ],
 "metadata": {
  "kernelspec": {
   "display_name": "Python 3 (ipykernel)",
   "language": "python",
   "name": "python3"
  },
  "language_info": {
   "codemirror_mode": {
    "name": "ipython",
    "version": 3
   },
   "file_extension": ".py",
   "mimetype": "text/x-python",
   "name": "python",
   "nbconvert_exporter": "python",
   "pygments_lexer": "ipython3",
   "version": "3.9.13"
  }
 },
 "nbformat": 4,
 "nbformat_minor": 5
}
