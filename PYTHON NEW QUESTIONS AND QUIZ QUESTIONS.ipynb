{
 "cells": [
  {
   "cell_type": "code",
   "execution_count": 1,
   "id": "953e1222",
   "metadata": {},
   "outputs": [
    {
     "name": "stdout",
     "output_type": "stream",
     "text": [
      "1  10\n",
      "2  9\n",
      "3  8\n",
      "4  7\n",
      "5  6\n",
      "6  5\n",
      "7  4\n",
      "8  3\n",
      "9  2\n",
      "10  1\n"
     ]
    }
   ],
   "source": [
    "d=10\n",
    "for c in range(1,d+1):print(f'{c}  {d-c+1}')"
   ]
  },
  {
   "cell_type": "code",
   "execution_count": 9,
   "id": "ce02a7d2",
   "metadata": {},
   "outputs": [
    {
     "name": "stdout",
     "output_type": "stream",
     "text": [
      "1  10\n",
      "2  9\n",
      "3  8\n",
      "4  7\n",
      "5  6\n",
      "6  5\n",
      "7  4\n",
      "8  3\n",
      "9  2\n",
      "10  1\n"
     ]
    }
   ],
   "source": [
    "for c in range(1,10+1):print(f'{c}  {d-c+1}')"
   ]
  },
  {
   "cell_type": "code",
   "execution_count": 2,
   "id": "a7fb60c2",
   "metadata": {},
   "outputs": [
    {
     "name": "stdout",
     "output_type": "stream",
     "text": [
      "False True\n"
     ]
    }
   ],
   "source": [
    "f=lambda x:bool(x%2)\n",
    "print(f(20),f(21))"
   ]
  },
  {
   "cell_type": "code",
   "execution_count": 3,
   "id": "7da1b100",
   "metadata": {},
   "outputs": [
    {
     "name": "stdout",
     "output_type": "stream",
     "text": [
      "[9, 7, 5, 3, 0]\n"
     ]
    }
   ],
   "source": [
    "d=[0,1,3,4,5,6,7,8,9]\n",
    "print(d[::-2])"
   ]
  },
  {
   "cell_type": "code",
   "execution_count": 4,
   "id": "525afae2",
   "metadata": {},
   "outputs": [
    {
     "ename": "TypeError",
     "evalue": "'list' object is not callable",
     "output_type": "error",
     "traceback": [
      "\u001b[1;31m---------------------------------------------------------------------------\u001b[0m",
      "\u001b[1;31mTypeError\u001b[0m                                 Traceback (most recent call last)",
      "\u001b[1;32m~\\AppData\\Local\\Temp\\ipykernel_1800\\2643040596.py\u001b[0m in \u001b[0;36m<module>\u001b[1;34m\u001b[0m\n\u001b[1;32m----> 1\u001b[1;33m \u001b[0md\u001b[0m\u001b[1;33m=\u001b[0m\u001b[0mlist\u001b[0m\u001b[1;33m(\u001b[0m\u001b[0mrange\u001b[0m\u001b[1;33m(\u001b[0m\u001b[1;33m-\u001b[0m\u001b[1;36m5\u001b[0m\u001b[1;33m,\u001b[0m\u001b[1;36m3\u001b[0m\u001b[1;33m,\u001b[0m\u001b[1;36m3\u001b[0m\u001b[1;33m)\u001b[0m\u001b[1;33m)\u001b[0m\u001b[1;33m\u001b[0m\u001b[1;33m\u001b[0m\u001b[0m\n\u001b[0m\u001b[0;32m      2\u001b[0m \u001b[0mprint\u001b[0m\u001b[1;33m(\u001b[0m\u001b[0md\u001b[0m\u001b[1;33m)\u001b[0m\u001b[1;33m\u001b[0m\u001b[1;33m\u001b[0m\u001b[0m\n",
      "\u001b[1;31mTypeError\u001b[0m: 'list' object is not callable"
     ]
    }
   ],
   "source": [
    "d=list(range(-5,3,3))\n",
    "print(d)"
   ]
  },
  {
   "cell_type": "code",
   "execution_count": 5,
   "id": "a246f0cb",
   "metadata": {},
   "outputs": [
    {
     "name": "stdout",
     "output_type": "stream",
     "text": [
      "PythonPythonPython\n"
     ]
    }
   ],
   "source": [
    "Tuple=('Python')*3\n",
    "print(Tuple)"
   ]
  },
  {
   "cell_type": "code",
   "execution_count": 9,
   "id": "fe8f57ce",
   "metadata": {},
   "outputs": [
    {
     "name": "stdout",
     "output_type": "stream",
     "text": [
      "[1, 2, 3, [...]]\n"
     ]
    }
   ],
   "source": [
    "d=[1,2,3]\n",
    "c=d\n",
    "d.append(c)\n",
    "print(d)"
   ]
  },
  {
   "cell_type": "code",
   "execution_count": 1,
   "id": "baa81921",
   "metadata": {},
   "outputs": [
    {
     "name": "stdout",
     "output_type": "stream",
     "text": [
      "[[5], [5], [5]]\n"
     ]
    }
   ],
   "source": [
    "d=[[]]*3\n",
    "d[1].append(5)\n",
    "print(d)"
   ]
  },
  {
   "cell_type": "code",
   "execution_count": 13,
   "id": "06920774",
   "metadata": {},
   "outputs": [
    {
     "name": "stdout",
     "output_type": "stream",
     "text": [
      "[[], [], [], 5]\n"
     ]
    }
   ],
   "source": [
    "d=[[]]*3\n",
    "d.append(5)\n",
    "print(d)"
   ]
  },
  {
   "cell_type": "code",
   "execution_count": 7,
   "id": "ac0f2b08",
   "metadata": {},
   "outputs": [
    {
     "name": "stdout",
     "output_type": "stream",
     "text": [
      "Not Palindrome List\n",
      "[50, 40, 30, 20, 10]\n"
     ]
    }
   ],
   "source": [
    "d=[10,20,30,40,50]\n",
    "c=[10,20,30,40,50]\n",
    "for i in range(len(d)//2):\n",
    "    d[i],d[len(d)-1-i]=d[len(d)-1-i],d[i]\n",
    "if c==d:\n",
    "    print('Palindrome List')\n",
    "else:\n",
    "    print('Not Palindrome List')\n",
    "print(d)"
   ]
  },
  {
   "cell_type": "code",
   "execution_count": 23,
   "id": "94d845f7",
   "metadata": {},
   "outputs": [
    {
     "name": "stdout",
     "output_type": "stream",
     "text": [
      "Not Palindrome List\n",
      "[10, 20, 30, 40, 50]\n"
     ]
    }
   ],
   "source": [
    "d=[10,20,30,40,50]\n",
    "if d==d[::-1]:\n",
    "    print('Palindrome List')\n",
    "else:\n",
    "    print('Not Palindrome List')\n",
    "print(d)"
   ]
  },
  {
   "cell_type": "code",
   "execution_count": 12,
   "id": "ad6a458f",
   "metadata": {},
   "outputs": [
    {
     "name": "stdout",
     "output_type": "stream",
     "text": [
      "[[13, 16], [20, 23]]\n"
     ]
    }
   ],
   "source": [
    "a=[[3,4],[5,6]]\n",
    "b=[[10,12],[15,17]]\n",
    "res=[[0,0],[0,0]]\n",
    "for i in range(len(a)):\n",
    "    for j in range(len(b)):\n",
    "        res[i][j]=a[i][j]+b[i][j]\n",
    "print(res)"
   ]
  },
  {
   "cell_type": "code",
   "execution_count": 13,
   "id": "7411e5e7",
   "metadata": {},
   "outputs": [
    {
     "name": "stdout",
     "output_type": "stream",
     "text": [
      "6473\n"
     ]
    }
   ],
   "source": [
    "x='536471'\n",
    "#  012345\n",
    "y=x[2:5]+x[1]\n",
    "print(y)"
   ]
  },
  {
   "cell_type": "code",
   "execution_count": 5,
   "id": "b96a9978",
   "metadata": {},
   "outputs": [
    {
     "name": "stdout",
     "output_type": "stream",
     "text": [
      "[5, 4, 3, 2, 1]\n"
     ]
    }
   ],
   "source": [
    "l1=[5,4,3,2,1]\n",
    "l2=l1[4:5]\n",
    "print(l2 if l2 in l1 else l1)"
   ]
  },
  {
   "cell_type": "code",
   "execution_count": 11,
   "id": "17ecad96",
   "metadata": {},
   "outputs": [
    {
     "name": "stdout",
     "output_type": "stream",
     "text": [
      "Enter a number: 2\n",
      "2 is an ugly number.\n"
     ]
    }
   ],
   "source": [
    "def is_ugly(num):\n",
    "    if num <= 0:\n",
    "        return False\n",
    "    for factor in [2, 3, 5]:\n",
    "        while num % factor == 0:\n",
    "            num //= factor\n",
    "    return num == 1\n",
    "\n",
    "# Example usage\n",
    "num = int(input(\"Enter a number: \"))\n",
    "if is_ugly(num):\n",
    "    print(num, \"is an ugly number.\")\n",
    "else:\n",
    "    print(num, \"is not an ugly number.\")"
   ]
  },
  {
   "cell_type": "code",
   "execution_count": 59,
   "id": "e46cb5f6",
   "metadata": {},
   "outputs": [
    {
     "name": "stdout",
     "output_type": "stream",
     "text": [
      "enter number:2\n",
      "Ugly Number\n"
     ]
    }
   ],
   "source": [
    "def ugly(n):\n",
    "    if n<=0:\n",
    "        return False\n",
    "    for i in [2,3,5]:\n",
    "        while n%i==0:\n",
    "            n//=i\n",
    "    return n==1\n",
    "n=int(input('enter number:'))\n",
    "if ugly(n):\n",
    "    print('Ugly Number')\n",
    "else:\n",
    "    print('Not A Ugly Number')"
   ]
  },
  {
   "cell_type": "code",
   "execution_count": 4,
   "id": "023e4027",
   "metadata": {},
   "outputs": [
    {
     "name": "stdout",
     "output_type": "stream",
     "text": [
      "enter number1152\n",
      "Ugly Number\n"
     ]
    }
   ],
   "source": [
    "n=int(input('enter number'))\n",
    "while (n%2==0):\n",
    "    n//=2\n",
    "while (n%3==0):\n",
    "    n//=3\n",
    "while (n%5==0):\n",
    "    n//=5\n",
    "if (n==1):\n",
    "    print('Ugly Number')\n",
    "else:\n",
    "    print('Not A Ugly Number')"
   ]
  },
  {
   "cell_type": "code",
   "execution_count": 13,
   "id": "03f72bdf",
   "metadata": {},
   "outputs": [
    {
     "name": "stdout",
     "output_type": "stream",
     "text": [
      "enter number24\n",
      "Ugly Number\n"
     ]
    }
   ],
   "source": [
    "n=int(input('enter number'))\n",
    "d=[2,3,5]\n",
    "for i in d:\n",
    "    while (n%i==0):\n",
    "        n//=i\n",
    "if (n==1):\n",
    "    print('Ugly Number')\n",
    "else:\n",
    "    print('Not A Ugly Number')"
   ]
  },
  {
   "cell_type": "code",
   "execution_count": 3,
   "id": "a2bf5a30",
   "metadata": {},
   "outputs": [
    {
     "name": "stdout",
     "output_type": "stream",
     "text": [
      "enter number:2\n",
      "Yes\n"
     ]
    }
   ],
   "source": [
    "def ugly(n):\n",
    "    if n<=0:\n",
    "        return False\n",
    "    for i in [2,3,5]:\n",
    "        while (n%i==0):\n",
    "            n//=i\n",
    "    return n==1\n",
    "n=int(input('enter number:'))\n",
    "if ugly(n):\n",
    "    print('Yes')\n",
    "else:\n",
    "    print('No')"
   ]
  },
  {
   "cell_type": "code",
   "execution_count": 46,
   "id": "a0b73184",
   "metadata": {},
   "outputs": [
    {
     "name": "stdout",
     "output_type": "stream",
     "text": [
      "enter number5\n",
      "1   3   5   7   9   \n",
      "3   5   7   9   11  \n",
      "5   7   9   11  13  \n",
      "7   9   11  13  15  \n",
      "9   11  13  15  17  \n"
     ]
    }
   ],
   "source": [
    "#For Odd Numbers\n",
    "n=int(input('enter number'))\n",
    "num=1\n",
    "for i in range(n):\n",
    "    for j in range(n):\n",
    "        print(format(num,'<3'),end=' ')\n",
    "        num+=2\n",
    "    print()\n",
    "    num-=2*n-2"
   ]
  },
  {
   "cell_type": "code",
   "execution_count": 39,
   "id": "fbff0a22",
   "metadata": {},
   "outputs": [
    {
     "name": "stdout",
     "output_type": "stream",
     "text": [
      "enter number5\n",
      "0   2   4   6   8   \n",
      "2   4   6   8   10  \n",
      "4   6   8   10  12  \n",
      "6   8   10  12  14  \n",
      "8   10  12  14  16  \n"
     ]
    }
   ],
   "source": [
    "#For Even Numbers\n",
    "n=int(input('enter number'))\n",
    "num=0\n",
    "for i in range(n):\n",
    "    for j in range(n):\n",
    "        print(format(num,'<3'),end=' ')\n",
    "        num+=2\n",
    "    print()\n",
    "    num-=2*n-2"
   ]
  },
  {
   "cell_type": "code",
   "execution_count": 1,
   "id": "afbaca73",
   "metadata": {},
   "outputs": [
    {
     "name": "stdout",
     "output_type": "stream",
     "text": [
      "1 \n",
      "2 2 \n",
      "3 3 3 \n",
      "4 4 4 4 \n",
      "5 5 5 5 5 \n"
     ]
    }
   ],
   "source": [
    "n= 5\n",
    "for i in range(1, n+1):print((str(i) + ' ') * i)"
   ]
  },
  {
   "cell_type": "code",
   "execution_count": 27,
   "id": "f4468b33",
   "metadata": {},
   "outputs": [
    {
     "name": "stdout",
     "output_type": "stream",
     "text": [
      "0 1 0 1 0 1 \n",
      "1 1 0 1 0 1 \n",
      "0 1 0 1 0 1 \n",
      "1 1 0 1 0 1 \n",
      "0 1 0 1 0 1 \n"
     ]
    }
   ],
   "source": [
    "n=5\n",
    "for i in range(n):\n",
    "    if (i%2==0):\n",
    "        print('0',end=' ')\n",
    "    else:\n",
    "        print('1',end=' ')\n",
    "    for j in range(n):\n",
    "        if (j%2==1):\n",
    "            print('0',end=' ')\n",
    "        else:\n",
    "            print('1',end=' ')\n",
    "    print()"
   ]
  },
  {
   "cell_type": "code",
   "execution_count": 5,
   "id": "0f6f5d5a",
   "metadata": {},
   "outputs": [
    {
     "name": "stdout",
     "output_type": "stream",
     "text": [
      "0 1 0 1 0 \n",
      "1 0 1 0 1 \n",
      "0 1 0 1 0 \n",
      "1 0 1 0 1 \n",
      "0 1 0 1 0 \n"
     ]
    }
   ],
   "source": [
    "n=5\n",
    "for i in range(n):\n",
    "    for j in range(n):\n",
    "        print((i+j)%2,end=' ')\n",
    "    print()"
   ]
  },
  {
   "cell_type": "code",
   "execution_count": 13,
   "id": "b6c7050a",
   "metadata": {},
   "outputs": [
    {
     "name": "stdout",
     "output_type": "stream",
     "text": [
      "dasarpived\n"
     ]
    }
   ],
   "source": [
    "d='deviprasad'\n",
    "c=list(d)\n",
    "c.reverse()\n",
    "print(''.join(c))"
   ]
  },
  {
   "cell_type": "code",
   "execution_count": 1,
   "id": "3b5530d6",
   "metadata": {},
   "outputs": [
    {
     "name": "stdout",
     "output_type": "stream",
     "text": [
      "dasarpived\n"
     ]
    }
   ],
   "source": [
    "d='deviprasad'\n",
    "print(d[::-1])"
   ]
  },
  {
   "cell_type": "code",
   "execution_count": 1,
   "id": "88a0b05d",
   "metadata": {},
   "outputs": [
    {
     "ename": "TypeError",
     "evalue": "'set' object is not subscriptable",
     "output_type": "error",
     "traceback": [
      "\u001b[1;31m---------------------------------------------------------------------------\u001b[0m",
      "\u001b[1;31mTypeError\u001b[0m                                 Traceback (most recent call last)",
      "\u001b[1;32m~\\AppData\\Local\\Temp\\ipykernel_15920\\550979607.py\u001b[0m in \u001b[0;36m<module>\u001b[1;34m\u001b[0m\n\u001b[0;32m      2\u001b[0m     \u001b[1;32mreturn\u001b[0m \u001b[0ma\u001b[0m\u001b[1;33m[\u001b[0m\u001b[1;33m-\u001b[0m\u001b[1;36m1\u001b[0m\u001b[1;33m]\u001b[0m\u001b[1;33m\u001b[0m\u001b[1;33m\u001b[0m\u001b[0m\n\u001b[0;32m      3\u001b[0m \u001b[0ma\u001b[0m\u001b[1;33m=\u001b[0m\u001b[1;33m{\u001b[0m\u001b[1;36m1\u001b[0m\u001b[1;33m,\u001b[0m\u001b[1;36m2\u001b[0m\u001b[1;33m,\u001b[0m\u001b[1;36m3\u001b[0m\u001b[1;33m,\u001b[0m\u001b[1;36m4\u001b[0m\u001b[1;33m,\u001b[0m\u001b[1;36m5\u001b[0m\u001b[1;33m,\u001b[0m\u001b[1;36m6\u001b[0m\u001b[1;33m}\u001b[0m\u001b[1;33m\u001b[0m\u001b[1;33m\u001b[0m\u001b[0m\n\u001b[1;32m----> 4\u001b[1;33m \u001b[0mprint\u001b[0m\u001b[1;33m(\u001b[0m\u001b[0msolve\u001b[0m\u001b[1;33m(\u001b[0m\u001b[0ma\u001b[0m\u001b[1;33m)\u001b[0m\u001b[1;33m**\u001b[0m\u001b[1;36m2\u001b[0m\u001b[1;33m)\u001b[0m\u001b[1;33m\u001b[0m\u001b[1;33m\u001b[0m\u001b[0m\n\u001b[0m",
      "\u001b[1;32m~\\AppData\\Local\\Temp\\ipykernel_15920\\550979607.py\u001b[0m in \u001b[0;36msolve\u001b[1;34m(a)\u001b[0m\n\u001b[0;32m      1\u001b[0m \u001b[1;32mdef\u001b[0m \u001b[0msolve\u001b[0m\u001b[1;33m(\u001b[0m\u001b[0ma\u001b[0m\u001b[1;33m)\u001b[0m\u001b[1;33m:\u001b[0m\u001b[1;33m\u001b[0m\u001b[1;33m\u001b[0m\u001b[0m\n\u001b[1;32m----> 2\u001b[1;33m     \u001b[1;32mreturn\u001b[0m \u001b[0ma\u001b[0m\u001b[1;33m[\u001b[0m\u001b[1;33m-\u001b[0m\u001b[1;36m1\u001b[0m\u001b[1;33m]\u001b[0m\u001b[1;33m\u001b[0m\u001b[1;33m\u001b[0m\u001b[0m\n\u001b[0m\u001b[0;32m      3\u001b[0m \u001b[0ma\u001b[0m\u001b[1;33m=\u001b[0m\u001b[1;33m{\u001b[0m\u001b[1;36m1\u001b[0m\u001b[1;33m,\u001b[0m\u001b[1;36m2\u001b[0m\u001b[1;33m,\u001b[0m\u001b[1;36m3\u001b[0m\u001b[1;33m,\u001b[0m\u001b[1;36m4\u001b[0m\u001b[1;33m,\u001b[0m\u001b[1;36m5\u001b[0m\u001b[1;33m,\u001b[0m\u001b[1;36m6\u001b[0m\u001b[1;33m}\u001b[0m\u001b[1;33m\u001b[0m\u001b[1;33m\u001b[0m\u001b[0m\n\u001b[0;32m      4\u001b[0m \u001b[0mprint\u001b[0m\u001b[1;33m(\u001b[0m\u001b[0msolve\u001b[0m\u001b[1;33m(\u001b[0m\u001b[0ma\u001b[0m\u001b[1;33m)\u001b[0m\u001b[1;33m**\u001b[0m\u001b[1;36m2\u001b[0m\u001b[1;33m)\u001b[0m\u001b[1;33m\u001b[0m\u001b[1;33m\u001b[0m\u001b[0m\n",
      "\u001b[1;31mTypeError\u001b[0m: 'set' object is not subscriptable"
     ]
    }
   ],
   "source": [
    "def solve(a):\n",
    "    return a[-1]\n",
    "a={1,2,3,4,5,6}\n",
    "\n",
    "print(solve(a)**2)"
   ]
  },
  {
   "cell_type": "code",
   "execution_count": 8,
   "id": "04f7b365",
   "metadata": {},
   "outputs": [
    {
     "name": "stdout",
     "output_type": "stream",
     "text": [
      "[13]\n"
     ]
    }
   ],
   "source": [
    "x=[12,13,14,15]\n",
    "print(x[1:2:3])"
   ]
  },
  {
   "cell_type": "code",
   "execution_count": 2,
   "id": "00731271",
   "metadata": {},
   "outputs": [
    {
     "name": "stdout",
     "output_type": "stream",
     "text": [
      "enter number:12345\n",
      "14446\n"
     ]
    }
   ],
   "source": [
    "n=int(input('enter number:'))\n",
    "res=0\n",
    "pos=1\n",
    "while n!=0:\n",
    "    rem=n%10\n",
    "    if rem>1:\n",
    "        while all(rem%i for i in range(2,rem//2+1)):\n",
    "            rem+=1\n",
    "    res+=rem*pos\n",
    "    pos*=10\n",
    "    n//=10\n",
    "print(res)"
   ]
  },
  {
   "cell_type": "code",
   "execution_count": 2,
   "id": "11ff73ea",
   "metadata": {},
   "outputs": [
    {
     "name": "stdout",
     "output_type": "stream",
     "text": [
      "Tickets Are Booked\n",
      "Tickets Are Booked\n",
      "0\n",
      "0\n"
     ]
    }
   ],
   "source": [
    "def SingleTon(arg):\n",
    "    d={}\n",
    "    def inner():\n",
    "        if arg not in d:\n",
    "            d[arg]=arg()\n",
    "        return d[arg]\n",
    "    return inner\n",
    "@SingleTon\n",
    "class Movies():\n",
    "    def __init__(self):\n",
    "        self.tickets=2000\n",
    "    def booking(self,n):\n",
    "        if self.tickets>=n:\n",
    "            self.tickets-=n\n",
    "            print('Tickets Are Booked')\n",
    "        else:\n",
    "            print('Tickets Are Soldout')\n",
    "devi=Movies()\n",
    "vivek=Movies()\n",
    "devi.booking(1000)\n",
    "vivek.booking(1000)\n",
    "print(devi.tickets)\n",
    "print(vivek.tickets)"
   ]
  },
  {
   "cell_type": "code",
   "execution_count": 28,
   "id": "d9fe48dd",
   "metadata": {},
   "outputs": [
    {
     "ename": "TypeError",
     "evalue": "'list' object is not callable",
     "output_type": "error",
     "traceback": [
      "\u001b[1;31m---------------------------------------------------------------------------\u001b[0m",
      "\u001b[1;31mTypeError\u001b[0m                                 Traceback (most recent call last)",
      "\u001b[1;32m~\\AppData\\Local\\Temp\\ipykernel_5928\\561187879.py\u001b[0m in \u001b[0;36m<module>\u001b[1;34m\u001b[0m\n\u001b[0;32m      3\u001b[0m \u001b[0md\u001b[0m\u001b[1;33m=\u001b[0m\u001b[1;33m{\u001b[0m\u001b[0mi\u001b[0m\u001b[1;33m:\u001b[0m\u001b[0mlen\u001b[0m\u001b[1;33m(\u001b[0m\u001b[0mi\u001b[0m\u001b[1;33m)\u001b[0m \u001b[1;32mfor\u001b[0m \u001b[0mi\u001b[0m \u001b[1;32min\u001b[0m \u001b[0ml\u001b[0m\u001b[1;33m}\u001b[0m\u001b[1;33m\u001b[0m\u001b[1;33m\u001b[0m\u001b[0m\n\u001b[0;32m      4\u001b[0m \u001b[0mx\u001b[0m\u001b[1;33m=\u001b[0m\u001b[1;33m[\u001b[0m\u001b[1;33m]\u001b[0m\u001b[1;33m\u001b[0m\u001b[1;33m\u001b[0m\u001b[0m\n\u001b[1;32m----> 5\u001b[1;33m \u001b[0mp\u001b[0m\u001b[1;33m=\u001b[0m\u001b[0mlist\u001b[0m\u001b[1;33m(\u001b[0m\u001b[0md\u001b[0m\u001b[1;33m.\u001b[0m\u001b[0mvalues\u001b[0m\u001b[1;33m(\u001b[0m\u001b[1;33m)\u001b[0m\u001b[1;33m)\u001b[0m\u001b[1;33m\u001b[0m\u001b[1;33m\u001b[0m\u001b[0m\n\u001b[0m\u001b[0;32m      6\u001b[0m \u001b[0mp\u001b[0m\u001b[1;33m.\u001b[0m\u001b[0msort\u001b[0m\u001b[1;33m(\u001b[0m\u001b[1;33m)\u001b[0m\u001b[1;33m\u001b[0m\u001b[1;33m\u001b[0m\u001b[0m\n\u001b[0;32m      7\u001b[0m \u001b[1;32mfor\u001b[0m \u001b[0ma\u001b[0m \u001b[1;32min\u001b[0m \u001b[0mp\u001b[0m\u001b[1;33m:\u001b[0m\u001b[1;33m\u001b[0m\u001b[1;33m\u001b[0m\u001b[0m\n",
      "\u001b[1;31mTypeError\u001b[0m: 'list' object is not callable"
     ]
    }
   ],
   "source": [
    "s='Python is a high level general purpose programming language'\n",
    "l=s.split()\n",
    "d={i:len(i) for i in l}\n",
    "x=[]\n",
    "p=list(d.values())\n",
    "p.sort()\n",
    "for a in p:\n",
    "    for k,v in d.items():\n",
    "        if a==v and k not in x:\n",
    "            x.append(k)\n",
    "print(' '.join(x))"
   ]
  },
  {
   "cell_type": "code",
   "execution_count": 4,
   "id": "c3a540e0",
   "metadata": {},
   "outputs": [
    {
     "name": "stdout",
     "output_type": "stream",
     "text": [
      "a a is high level Python general purpose language programming\n"
     ]
    }
   ],
   "source": [
    "s='Python a is a high level general purpose programming language'\n",
    "l=[(len(a),a) for a in s.split()]\n",
    "l.sort()\n",
    "l2=[b for a,b in l]\n",
    "print(' '.join(l2))"
   ]
  },
  {
   "cell_type": "code",
   "execution_count": 7,
   "id": "c8df7fab",
   "metadata": {},
   "outputs": [
    {
     "name": "stdout",
     "output_type": "stream",
     "text": [
      "Pyspiders=reirraC dooG\n"
     ]
    }
   ],
   "source": [
    "s='Good Carrier'\n",
    "Pyspiders=''\n",
    "for h in range(len(s)):\n",
    "    Pyspiders=s[h]+Pyspiders\n",
    "print(f'Pyspiders={Pyspiders}')"
   ]
  },
  {
   "cell_type": "code",
   "execution_count": 14,
   "id": "d9d3e3ee",
   "metadata": {},
   "outputs": [
    {
     "name": "stdout",
     "output_type": "stream",
     "text": [
      "res=egaugnal gnimmargorp esoprup lareneg level hgih a si nohtyP\n"
     ]
    }
   ],
   "source": [
    "s='Python is a high level general purpose programming language'\n",
    "res=''\n",
    "for i in range(len(s)):\n",
    "    res=s[i]+res\n",
    "print(f'res={res}')"
   ]
  },
  {
   "cell_type": "code",
   "execution_count": 1,
   "id": "6a4c9976",
   "metadata": {},
   "outputs": [
    {
     "name": "stdout",
     "output_type": "stream",
     "text": [
      "[1, 2, 3, 4]\n",
      "THIS IS EXAM QUESTION\n"
     ]
    }
   ],
   "source": [
    "S='I2S QUES4TION EX3AM TH1IS'\n",
    "d={}\n",
    "L=S.split()\n",
    "lt=[]\n",
    "for word in L:\n",
    "    num=ss=''\n",
    "    for ch in word:\n",
    "        if '0'<=ch<='9':\n",
    "            num+=ch\n",
    "        else:\n",
    "            ss+=ch\n",
    "    d[int(num)]=ss\n",
    "ld=list(d)\n",
    "ld.sort()\n",
    "print(ld)\n",
    "for i in ld:\n",
    "    if i in d.keys():\n",
    "        lt.append(d[i])\n",
    "print(' '.join(lt))"
   ]
  },
  {
   "cell_type": "code",
   "execution_count": 30,
   "id": "bb52dd22",
   "metadata": {},
   "outputs": [
    {
     "name": "stdout",
     "output_type": "stream",
     "text": [
      "a a is high level Python general purpose language programming\n"
     ]
    }
   ],
   "source": [
    "s='Python a is a high level general purpose programming language'\n",
    "l=[(len(a),a) for a in s.split()]\n",
    "l.sort()\n",
    "l2=[b for a,b in l]\n",
    "print(' '.join(l2))"
   ]
  },
  {
   "cell_type": "code",
   "execution_count": 9,
   "id": "6053ea58",
   "metadata": {},
   "outputs": [
    {
     "name": "stdout",
     "output_type": "stream",
     "text": [
      "[3, 5]\n"
     ]
    }
   ],
   "source": [
    "n=15\n",
    "l=[]\n",
    "i=2\n",
    "while i<100:\n",
    "    if n%i==0:\n",
    "        l.append(i)\n",
    "        n//=i\n",
    "    else:\n",
    "        i+=1\n",
    "print(l)"
   ]
  },
  {
   "cell_type": "code",
   "execution_count": 15,
   "id": "170ee49d",
   "metadata": {},
   "outputs": [
    {
     "name": "stdout",
     "output_type": "stream",
     "text": [
      "3\n",
      "5\n"
     ]
    }
   ],
   "source": [
    "n=15\n",
    "for i in range(2,n+1):\n",
    "    if n%i==0 and i>1:\n",
    "        for a in range(2,i//2+1):\n",
    "            if i%a==0:\n",
    "                break\n",
    "        else:\n",
    "            print(i)"
   ]
  },
  {
   "cell_type": "code",
   "execution_count": 39,
   "id": "489a46fe",
   "metadata": {},
   "outputs": [
    {
     "name": "stdout",
     "output_type": "stream",
     "text": [
      "3\n",
      "5\n"
     ]
    }
   ],
   "source": [
    "n=15\n",
    "i=2\n",
    "while i<100:\n",
    "    if n%i==0:\n",
    "        print(i)\n",
    "        n//=i\n",
    "    else:\n",
    "        i+=1"
   ]
  },
  {
   "cell_type": "code",
   "execution_count": 24,
   "id": "7d1fcc79",
   "metadata": {},
   "outputs": [
    {
     "name": "stdout",
     "output_type": "stream",
     "text": [
      "5\n",
      "3\n"
     ]
    }
   ],
   "source": [
    "n=3458\n",
    "while n!=0:\n",
    "    rem=n%10\n",
    "    n//=10\n",
    "    if rem>1:\n",
    "        for i in range(2,rem//2+1):\n",
    "            if rem%i==0:\n",
    "                break\n",
    "        else:\n",
    "            print(rem)"
   ]
  },
  {
   "cell_type": "code",
   "execution_count": 31,
   "id": "847df732",
   "metadata": {},
   "outputs": [
    {
     "name": "stdout",
     "output_type": "stream",
     "text": [
      "THIS IS EXAM QUESTION\n"
     ]
    }
   ],
   "source": [
    "s='I2S TH1IS QUES4TION EX3AM'\n",
    "l2=[]\n",
    "l=s.split()\n",
    "for word in l:\n",
    "    num=''\n",
    "    ss=''\n",
    "    for ch in word:\n",
    "        if '0'<=ch<='9':\n",
    "            num+=ch\n",
    "        else:\n",
    "            ss+=ch\n",
    "    l2.append((int(num),ss))\n",
    "l2.sort()\n",
    "fl=[ss for (num,ss) in l2]\n",
    "print(' '.join(fl))"
   ]
  },
  {
   "cell_type": "code",
   "execution_count": 2,
   "id": "cf4faa20",
   "metadata": {},
   "outputs": [
    {
     "name": "stdout",
     "output_type": "stream",
     "text": [
      "THIS IS EXAM QUESTION\n"
     ]
    }
   ],
   "source": [
    "s='I2S TH1IS QUES4TION EX3AM'\n",
    "d={}\n",
    "l=s.split()\n",
    "for word in l:\n",
    "    num=ss=''\n",
    "    for ch in word:\n",
    "        if '0'<=ch<='9':\n",
    "            num+=ch\n",
    "        else:\n",
    "            ss+=ch\n",
    "    d[int(num)]=ss\n",
    "ld=list(d)\n",
    "ld.sort()\n",
    "nl=[]\n",
    "for i in ld:\n",
    "    if i in d.keys():\n",
    "        nl.append(d[i])        \n",
    "print(' '.join(nl))"
   ]
  },
  {
   "cell_type": "code",
   "execution_count": 1,
   "id": "85e99a1e",
   "metadata": {},
   "outputs": [
    {
     "name": "stdout",
     "output_type": "stream",
     "text": [
      "{10: 'a', 20: 'b', 30: 'c', 40: 'd', 50: 'e'}\n"
     ]
    }
   ],
   "source": [
    "D={'a':10,'b':20,'c':30,'d':40,'e':50}\n",
    "D2={v:k for k,v in D.items()}\n",
    "print(D2)"
   ]
  },
  {
   "cell_type": "code",
   "execution_count": 6,
   "id": "d3e06c55",
   "metadata": {},
   "outputs": [
    {
     "name": "stdout",
     "output_type": "stream",
     "text": [
      "THIS IS EXAM QUESTION\n"
     ]
    }
   ],
   "source": [
    "s='I2S TH1IS QUES4TION EX3AM'\n",
    "l=s.split()\n",
    "nl=[]\n",
    "for word in l:\n",
    "    num=ss=''\n",
    "    for ch in word:\n",
    "        if '0'<=ch<='9':\n",
    "            num+=ch\n",
    "        else:\n",
    "            ss+=ch\n",
    "    nl.append((int(num),ss))\n",
    "nl.sort()\n",
    "fl=[ss for (num,ss) in nl]\n",
    "print(' '.join(fl))"
   ]
  },
  {
   "cell_type": "code",
   "execution_count": 1,
   "id": "a0cb63ff",
   "metadata": {},
   "outputs": [
    {
     "name": "stdout",
     "output_type": "stream",
     "text": [
      "['False', 'None', 'True', '__peg_parser__', 'and', 'as', 'assert', 'async', 'await', 'break', 'class', 'continue', 'def', 'del', 'elif', 'else', 'except', 'finally', 'for', 'from', 'global', 'if', 'import', 'in', 'is', 'lambda', 'nonlocal', 'not', 'or', 'pass', 'raise', 'return', 'try', 'while', 'with', 'yield']\n"
     ]
    }
   ],
   "source": [
    "import keyword\n",
    "print(keyword.kwlist)"
   ]
  },
  {
   "cell_type": "code",
   "execution_count": 4,
   "id": "797a1b79",
   "metadata": {},
   "outputs": [
    {
     "ename": "SyntaxError",
     "evalue": "You found it! (2841552389.py, line 1)",
     "output_type": "error",
     "traceback": [
      "\u001b[1;36m  File \u001b[1;32m\"C:\\Users\\91789\\AppData\\Local\\Temp\\ipykernel_16416\\2841552389.py\"\u001b[1;36m, line \u001b[1;32m1\u001b[0m\n\u001b[1;33m    help(__peg_parser__)\u001b[0m\n\u001b[1;37m         ^\u001b[0m\n\u001b[1;31mSyntaxError\u001b[0m\u001b[1;31m:\u001b[0m You found it!\n"
     ]
    }
   ],
   "source": [
    "help(__peg_parser__)"
   ]
  },
  {
   "cell_type": "code",
   "execution_count": 32,
   "id": "a9437b63",
   "metadata": {},
   "outputs": [
    {
     "name": "stdout",
     "output_type": "stream",
     "text": [
      "a a is high level Python general purpose language programming\n"
     ]
    }
   ],
   "source": [
    "s='Python a is a high level general purpose programming language'\n",
    "l=[(len(a),a) for a in s.split()]\n",
    "l.sort()\n",
    "l2=[b for a,b in l]\n",
    "print(' '.join(l2))"
   ]
  },
  {
   "cell_type": "code",
   "execution_count": 28,
   "id": "b43efdac",
   "metadata": {},
   "outputs": [
    {
     "name": "stdout",
     "output_type": "stream",
     "text": [
      "2313\n"
     ]
    }
   ],
   "source": [
    "n='234213'\n",
    "nl=[n[i:i+2] for i in range (len(n)-1)]\n",
    "nl.sort()\n",
    "print(n.replace(str(nl[-1]),''))"
   ]
  },
  {
   "cell_type": "code",
   "execution_count": 32,
   "id": "f91138c4",
   "metadata": {},
   "outputs": [
    {
     "name": "stdout",
     "output_type": "stream",
     "text": [
      "[2, 5, 3, 8, 7, 0, 0, 0, 0]\n"
     ]
    }
   ],
   "source": [
    "l=[2,0,0,5,3,0,8,0,7]\n",
    "z=[]\n",
    "n=[]\n",
    "for i in range(len(l)):\n",
    "    if l[i]==0:\n",
    "        z.append(l[i])\n",
    "    else:\n",
    "        n.append(l[i])\n",
    "print(n+z)"
   ]
  },
  {
   "cell_type": "code",
   "execution_count": 38,
   "id": "03656a25",
   "metadata": {},
   "outputs": [
    {
     "name": "stdout",
     "output_type": "stream",
     "text": [
      "[2, 5, 3, 8, 7, 0, 0, 0, 0]\n"
     ]
    }
   ],
   "source": [
    "l=[2,0,0,5,3,0,8,0,7]\n",
    "z=[i for i in l if i==0]\n",
    "n=[i for i in l if i!=0]\n",
    "print(n+z)"
   ]
  },
  {
   "cell_type": "code",
   "execution_count": 39,
   "id": "17ad7dfc",
   "metadata": {},
   "outputs": [
    {
     "name": "stdout",
     "output_type": "stream",
     "text": [
      "[2, 5, 3, 8, 7, 0, 0, 0, 0]\n"
     ]
    }
   ],
   "source": [
    "l=[2,0,0,5,3,0,8,0,7]\n",
    "z=[]\n",
    "n=[]\n",
    "for i in l:\n",
    "    if i==0:\n",
    "        z.append(i)\n",
    "    else:\n",
    "        n.append(i)\n",
    "print(n+z)"
   ]
  },
  {
   "cell_type": "code",
   "execution_count": 45,
   "id": "6c66eda7",
   "metadata": {},
   "outputs": [
    {
     "name": "stdout",
     "output_type": "stream",
     "text": [
      "[2, 5, 3, 8, 7, 0, 0, 0, 0]\n"
     ]
    }
   ],
   "source": [
    "l=[2,0,0,5,3,0,8,0,7]\n",
    "print([num for num in l if num!=0]+[0]*l.count(0))"
   ]
  },
  {
   "cell_type": "code",
   "execution_count": 52,
   "id": "a46680b1",
   "metadata": {},
   "outputs": [
    {
     "name": "stdout",
     "output_type": "stream",
     "text": [
      "11\n",
      "12\n",
      "13\n",
      "13\n",
      "[11, 12, 13, 13]\n"
     ]
    }
   ],
   "source": [
    "l=[11,12,13,17]\n",
    "for l[-1] in l:\n",
    "    print(l[-1])\n",
    "print(l)"
   ]
  },
  {
   "cell_type": "code",
   "execution_count": 57,
   "id": "8cbe0620",
   "metadata": {},
   "outputs": [
    {
     "name": "stdout",
     "output_type": "stream",
     "text": [
      "11\n",
      "12\n",
      "12\n",
      "17\n",
      "[11, 12, 17, 17]\n"
     ]
    }
   ],
   "source": [
    "l=[11,12,13,17]\n",
    "for l[-2] in l:\n",
    "    print(l[-2])\n",
    "print(l)"
   ]
  },
  {
   "cell_type": "code",
   "execution_count": 19,
   "id": "e51f56e0",
   "metadata": {},
   "outputs": [
    {
     "name": "stdout",
     "output_type": "stream",
     "text": [
      "1 1 1 1 1 \n",
      "2 2 2 2 \n",
      "3 3 3 \n",
      "4 4 \n",
      "5 \n"
     ]
    }
   ],
   "source": [
    "#14\n",
    "n=5\n",
    "st=5\n",
    "num=1\n",
    "for a in range(n):\n",
    "    for b in range(st):\n",
    "        print(num,end=' ')\n",
    "    print()\n",
    "    num+=1\n",
    "    st-=1"
   ]
  },
  {
   "cell_type": "code",
   "execution_count": 18,
   "id": "fa5e043f",
   "metadata": {},
   "outputs": [
    {
     "name": "stdout",
     "output_type": "stream",
     "text": [
      "1 2 3 4 5 \n",
      "  1 2 3 4 \n",
      "    1 2 3 \n",
      "      1 2 \n",
      "        1 \n"
     ]
    }
   ],
   "source": [
    "#14\n",
    "n=5\n",
    "st=5\n",
    "sp=0\n",
    "for a in range(n):\n",
    "    num=1\n",
    "    for b in range(sp):\n",
    "        print(' ',end=' ')\n",
    "    for e in range(st):\n",
    "        print(num,end=' ')\n",
    "        num+=1\n",
    "    print()\n",
    "    num=num\n",
    "    sp+=1\n",
    "    st-=1"
   ]
  },
  {
   "cell_type": "code",
   "execution_count": 18,
   "id": "ac1908e0",
   "metadata": {},
   "outputs": [
    {
     "ename": "KeyboardInterrupt",
     "evalue": "",
     "output_type": "error",
     "traceback": [
      "\u001b[1;31m---------------------------------------------------------------------------\u001b[0m",
      "\u001b[1;31mKeyboardInterrupt\u001b[0m                         Traceback (most recent call last)",
      "\u001b[1;32m~\\AppData\\Local\\Temp\\ipykernel_13120\\2405536912.py\u001b[0m in \u001b[0;36m<module>\u001b[1;34m\u001b[0m\n\u001b[0;32m      9\u001b[0m         \u001b[0mrem\u001b[0m\u001b[1;33m=\u001b[0m\u001b[0madd\u001b[0m\u001b[1;33m%\u001b[0m\u001b[1;36m10\u001b[0m\u001b[1;33m\u001b[0m\u001b[1;33m\u001b[0m\u001b[0m\n\u001b[0;32m     10\u001b[0m         \u001b[0mplus\u001b[0m\u001b[1;33m+=\u001b[0m\u001b[0mrem\u001b[0m\u001b[1;33m\u001b[0m\u001b[1;33m\u001b[0m\u001b[0m\n\u001b[1;32m---> 11\u001b[1;33m         \u001b[0madd\u001b[0m\u001b[1;33m//=\u001b[0m\u001b[1;36m10\u001b[0m\u001b[1;33m\u001b[0m\u001b[1;33m\u001b[0m\u001b[0m\n\u001b[0m\u001b[0;32m     12\u001b[0m     \u001b[0madd\u001b[0m\u001b[1;33m=\u001b[0m\u001b[0mplus\u001b[0m\u001b[1;33m\u001b[0m\u001b[1;33m\u001b[0m\u001b[0m\n\u001b[0;32m     13\u001b[0m \u001b[0mprint\u001b[0m\u001b[1;33m(\u001b[0m\u001b[0madd\u001b[0m\u001b[1;33m)\u001b[0m\u001b[1;33m\u001b[0m\u001b[1;33m\u001b[0m\u001b[0m\n",
      "\u001b[1;31mKeyboardInterrupt\u001b[0m: "
     ]
    }
   ],
   "source": [
    "s='we can do it now charishmalovedevi'\n",
    "l=s.split()\n",
    "add=0\n",
    "for i in l:\n",
    "    add+=len(i)\n",
    "plus=0\n",
    "while add>9:\n",
    "    while add!=0:\n",
    "        rem=add%10\n",
    "        plus+=rem\n",
    "        add//=10\n",
    "    add=plus\n",
    "print(add)"
   ]
  },
  {
   "cell_type": "code",
   "execution_count": 54,
   "id": "bdb2ad81",
   "metadata": {},
   "outputs": [
    {
     "name": "stdout",
     "output_type": "stream",
     "text": [
      "29\n",
      "2\n"
     ]
    }
   ],
   "source": [
    "s='we can do it now charishmalovedevi'\n",
    "l=[len(a) for a in s.split()]\n",
    "x=sum(l)\n",
    "print(x)\n",
    "res=0\n",
    "while x>9:\n",
    "    for a in str(x):\n",
    "        res+=int(a)\n",
    "    x=res\n",
    "    res=0\n",
    "print(x)"
   ]
  },
  {
   "cell_type": "code",
   "execution_count": 9,
   "id": "64f744ea",
   "metadata": {},
   "outputs": [
    {
     "name": "stdout",
     "output_type": "stream",
     "text": [
      "[1, 2, 'a', 'b', 3, 4, 5, 6, 7, 8, 9]\n"
     ]
    }
   ],
   "source": [
    "l=[1,2,['a','b'],3,4,5,[6,7,8],9]\n",
    "m=[]\n",
    "for a in l:\n",
    "    if isinstance(a,list):\n",
    "        for b in a:\n",
    "            m.append(b)\n",
    "    else:\n",
    "        m.append(a)\n",
    "print(m)"
   ]
  },
  {
   "cell_type": "code",
   "execution_count": 37,
   "id": "32374405",
   "metadata": {},
   "outputs": [
    {
     "name": "stdout",
     "output_type": "stream",
     "text": [
      "[1, 2, 'a', 'b', 3, 4, 5, 6, 7, 8, 9]\n"
     ]
    }
   ],
   "source": [
    "l=[1,2,['a','b'],3,4,5,[6,7,8],9]\n",
    "x=[]\n",
    "for a in l:\n",
    "    if type([])==type(a):\n",
    "        for b in a:\n",
    "            x.append(b)\n",
    "    else:\n",
    "        x.append(a)\n",
    "print(x)"
   ]
  },
  {
   "cell_type": "code",
   "execution_count": 2,
   "id": "25b55352",
   "metadata": {},
   "outputs": [
    {
     "name": "stdout",
     "output_type": "stream",
     "text": [
      "B C D A\n",
      "C D A B\n",
      "D A B C\n",
      "A B C D\n"
     ]
    }
   ],
   "source": [
    "s='ABCD'\n",
    "l=list(s)\n",
    "for i in range(len(s)):\n",
    "    l.append(l.pop(0))\n",
    "    print(' '.join(l))"
   ]
  },
  {
   "cell_type": "code",
   "execution_count": 17,
   "id": "08b9f88f",
   "metadata": {},
   "outputs": [
    {
     "name": "stdout",
     "output_type": "stream",
     "text": [
      "Yes\n"
     ]
    }
   ],
   "source": [
    "s='ABCD'\n",
    "s2='CDAB'\n",
    "l=list(s)\n",
    "for i in range(len(s)):\n",
    "    l.append(l.pop(0))\n",
    "    if ''.join(l)==s2:\n",
    "        print('Yes')\n",
    "        break\n",
    "else:\n",
    "    print('No')"
   ]
  },
  {
   "cell_type": "code",
   "execution_count": 19,
   "id": "40cdc1e5",
   "metadata": {},
   "outputs": [
    {
     "name": "stdout",
     "output_type": "stream",
     "text": [
      "D A B C\n",
      "C D A B\n",
      "B C D A\n",
      "A B C D\n"
     ]
    }
   ],
   "source": [
    "s='ABCD'\n",
    "l=list(s)\n",
    "for i in range(len(s)):\n",
    "    l.insert(0,l.pop(-1))\n",
    "    print(' '.join(l))"
   ]
  },
  {
   "cell_type": "code",
   "execution_count": 11,
   "id": "6b1b0d11",
   "metadata": {},
   "outputs": [
    {
     "name": "stdout",
     "output_type": "stream",
     "text": [
      "Y T H O N P\n",
      "T H O N P Y\n",
      "H O N P Y T\n",
      "O N P Y T H\n",
      "N P Y T H O\n",
      "P Y T H O N\n"
     ]
    }
   ],
   "source": [
    "s='PYTHON'\n",
    "l=list(s)\n",
    "for i in range(len(s)):\n",
    "    l.append(l.pop(0))\n",
    "    print(' '.join(l))"
   ]
  },
  {
   "cell_type": "code",
   "execution_count": 23,
   "id": "cd09268f",
   "metadata": {},
   "outputs": [
    {
     "name": "stdout",
     "output_type": "stream",
     "text": [
      "N P Y T H O\n",
      "O N P Y T H\n",
      "H O N P Y T\n",
      "T H O N P Y\n",
      "Y T H O N P\n",
      "P Y T H O N\n"
     ]
    }
   ],
   "source": [
    "s='PYTHON'\n",
    "l=list(s)\n",
    "for i in range(len(s)):\n",
    "    l.insert(0,l.pop(-1))\n",
    "    print(' '.join(l))"
   ]
  },
  {
   "cell_type": "code",
   "execution_count": 19,
   "id": "3dcb2d2c",
   "metadata": {},
   "outputs": [
    {
     "name": "stdout",
     "output_type": "stream",
     "text": [
      "['ABCD']\n",
      "['A', 'B', 'C', 'D']\n"
     ]
    }
   ],
   "source": [
    "s='ABCD'\n",
    "l=s.split()\n",
    "l2=list(s)\n",
    "print(l)\n",
    "print(l2)"
   ]
  },
  {
   "cell_type": "code",
   "execution_count": 6,
   "id": "59dc8bd3",
   "metadata": {},
   "outputs": [
    {
     "name": "stdout",
     "output_type": "stream",
     "text": [
      "0\n",
      "1\n",
      "1\n",
      "2\n",
      "3\n"
     ]
    }
   ],
   "source": [
    "f,s=0,1\n",
    "for i in range(5):\n",
    "    print(f)\n",
    "    f,s=s,f+s"
   ]
  },
  {
   "cell_type": "code",
   "execution_count": 7,
   "id": "44007973",
   "metadata": {},
   "outputs": [
    {
     "name": "stdout",
     "output_type": "stream",
     "text": [
      "3\n"
     ]
    }
   ],
   "source": [
    "f,s=0,1\n",
    "for i in range(5):\n",
    "    n=f\n",
    "    f,s=s,f+s\n",
    "print(n)"
   ]
  },
  {
   "cell_type": "code",
   "execution_count": 10,
   "id": "4db679d0",
   "metadata": {},
   "outputs": [
    {
     "name": "stdout",
     "output_type": "stream",
     "text": [
      "[0, 1, 1, 2, 3, 5, 8, 13, 21, 34]\n",
      "No\n"
     ]
    }
   ],
   "source": [
    "l=[0,1]\n",
    "n=55\n",
    "while len(l)!=10:\n",
    "    l.append(l[-1]+l[-2])\n",
    "print(l)\n",
    "for i in l:\n",
    "    if i==n:\n",
    "        print('Yes')\n",
    "        break\n",
    "else:\n",
    "    print('No')"
   ]
  },
  {
   "cell_type": "code",
   "execution_count": 10,
   "id": "a8481d97",
   "metadata": {},
   "outputs": [
    {
     "name": "stdout",
     "output_type": "stream",
     "text": [
      "3\n"
     ]
    }
   ],
   "source": [
    "l=[0,1]\n",
    "while len(l)!=5:\n",
    "    l.append(l[-1]+l[-2])\n",
    "print(l[-1])"
   ]
  },
  {
   "cell_type": "code",
   "execution_count": 5,
   "id": "8ba5c25f",
   "metadata": {},
   "outputs": [
    {
     "name": "stdout",
     "output_type": "stream",
     "text": [
      "2 3 5 7 11 "
     ]
    }
   ],
   "source": [
    "n=2\n",
    "count=0\n",
    "while count!=5:\n",
    "    if (len([a for a in range(1,n+1) if n%a==0 and n>1]) == 2):\n",
    "        print(n,end=' ')\n",
    "        count+=1\n",
    "    n=n+1"
   ]
  },
  {
   "cell_type": "code",
   "execution_count": 17,
   "id": "2f18ad54",
   "metadata": {},
   "outputs": [
    {
     "name": "stdout",
     "output_type": "stream",
     "text": [
      "11\n"
     ]
    }
   ],
   "source": [
    "n = 7\n",
    "count = 0\n",
    "while count !=2:\n",
    "    if all(n%a != 0 and n>1 for a in range(2,n//2+1)):\n",
    "        count += 1\n",
    "        if count == 2:\n",
    "            print(n)\n",
    "    n = n+1"
   ]
  },
  {
   "cell_type": "code",
   "execution_count": 13,
   "id": "0d13e462",
   "metadata": {},
   "outputs": [
    {
     "name": "stdout",
     "output_type": "stream",
     "text": [
      "[1, 2]\n"
     ]
    }
   ],
   "source": [
    "n = 2\n",
    "print([a for a in range(1,n+1) if n%a == 0])"
   ]
  },
  {
   "cell_type": "code",
   "execution_count": 3,
   "id": "10ee0aad",
   "metadata": {},
   "outputs": [
    {
     "name": "stdout",
     "output_type": "stream",
     "text": [
      "2 3 5 7 11 "
     ]
    }
   ],
   "source": [
    "n=2\n",
    "count=0\n",
    "while count!=5:\n",
    "    if all(n%a != 0 and n>1 for a in range(2,n//2+1)):\n",
    "        print(n,end=' ')\n",
    "        count+=1\n",
    "    n=n+1"
   ]
  },
  {
   "cell_type": "code",
   "execution_count": 4,
   "id": "3151071d",
   "metadata": {},
   "outputs": [
    {
     "name": "stdout",
     "output_type": "stream",
     "text": [
      "5 \n",
      "4 4 \n",
      "3 3 3 \n",
      "2 2 2 2 \n",
      "1 1 1 1 1 \n"
     ]
    }
   ],
   "source": [
    "n=5\n",
    "st=1\n",
    "num=5\n",
    "for i in range(n):\n",
    "    for j in range(st):\n",
    "        print(num,end=' ')\n",
    "    print()\n",
    "    num-=1\n",
    "    st+=1"
   ]
  },
  {
   "cell_type": "code",
   "execution_count": 9,
   "id": "4bd86a47",
   "metadata": {},
   "outputs": [
    {
     "name": "stdout",
     "output_type": "stream",
     "text": [
      "    1 \n",
      "  2 3 4 \n",
      "5 6 7 8 9 \n"
     ]
    }
   ],
   "source": [
    "n=3\n",
    "st=1\n",
    "sp=n-1\n",
    "num=1\n",
    "for i in range(n):\n",
    "    for j in range(sp):\n",
    "        print(' ',end=' ')\n",
    "    for k in range(st):\n",
    "        print(num,end=' ')\n",
    "        num+=1\n",
    "    print()\n",
    "    sp-=1\n",
    "    st+=2"
   ]
  },
  {
   "cell_type": "code",
   "execution_count": 11,
   "id": "23a25b48",
   "metadata": {},
   "outputs": [
    {
     "name": "stdout",
     "output_type": "stream",
     "text": [
      "[2, 5, 1, 8, 9, 7]\n"
     ]
    }
   ],
   "source": [
    "l=[7,9,8,1,5,2]\n",
    "for a in range(len(l)//2):\n",
    "    l[a],l[len(l)-1-a]=l[len(l)-1-a],l[a]\n",
    "print(l)"
   ]
  },
  {
   "cell_type": "code",
   "execution_count": 18,
   "id": "f691299c",
   "metadata": {},
   "outputs": [
    {
     "name": "stdout",
     "output_type": "stream",
     "text": [
      "be\n",
      "in\n"
     ]
    }
   ],
   "source": [
    "s='be serious in carrier'\n",
    "l=s.split()\n",
    "d={}\n",
    "for i in range(len(l)):\n",
    "    if l[i] not in d:\n",
    "        d[l[i]]=len(l[i])\n",
    "val=list(d.values())\n",
    "h=val[0]\n",
    "for j in range(1,len(val)):\n",
    "    if h>val[j]:\n",
    "        h=val[j]\n",
    "for k,v in d.items():\n",
    "    if h==v:\n",
    "        print(k)"
   ]
  },
  {
   "cell_type": "code",
   "execution_count": 21,
   "id": "c4ffb0d5",
   "metadata": {},
   "outputs": [
    {
     "name": "stdout",
     "output_type": "stream",
     "text": [
      "[2, 5, 11, 17, 22, 29, 92]\n"
     ]
    }
   ],
   "source": [
    "l=[11,2,92,29,5,17,22]\n",
    "for a in range(len(l)):\n",
    "    mi=a\n",
    "    for b in range(a+1,len(l)):\n",
    "        if l[mi]>l[b]:\n",
    "            mi=b\n",
    "    l[a],l[mi]=l[mi],l[a]\n",
    "print(l)"
   ]
  },
  {
   "cell_type": "code",
   "execution_count": 23,
   "id": "9be45b8b",
   "metadata": {},
   "outputs": [
    {
     "name": "stdout",
     "output_type": "stream",
     "text": [
      "Yes\n"
     ]
    }
   ],
   "source": [
    "n=153\n",
    "res=0\n",
    "p=len(str(n))\n",
    "num=n\n",
    "while n!=0:\n",
    "    rem=n%10\n",
    "    res+=rem**p\n",
    "    n//=10\n",
    "if num==res:\n",
    "    print('Yes')\n",
    "else:\n",
    "    print('No')"
   ]
  },
  {
   "cell_type": "code",
   "execution_count": 25,
   "id": "d867a930",
   "metadata": {},
   "outputs": [
    {
     "name": "stdout",
     "output_type": "stream",
     "text": [
      "Yes\n"
     ]
    }
   ],
   "source": [
    "def add(n):\n",
    "    if n==0:\n",
    "        return 0\n",
    "    return (n%10)+add (n//10)\n",
    "def prod(n):\n",
    "    if n==0:\n",
    "        return 1\n",
    "    return (n%10)*prod (n//10)\n",
    "n=123\n",
    "if add(n)==prod(n):\n",
    "    print('Yes')\n",
    "else:\n",
    "    print('No')"
   ]
  },
  {
   "cell_type": "code",
   "execution_count": 26,
   "id": "8ec93003",
   "metadata": {},
   "outputs": [
    {
     "name": "stdout",
     "output_type": "stream",
     "text": [
      "plymrphsm\n"
     ]
    }
   ],
   "source": [
    "s='polymorphism'\n",
    "vow='aeiouAEIOU'\n",
    "res=''\n",
    "for a in range(len(s)):\n",
    "    if s[a] not in vow:\n",
    "        res+=s[a]\n",
    "print(res)"
   ]
  },
  {
   "cell_type": "code",
   "execution_count": 32,
   "id": "ba5c7517",
   "metadata": {},
   "outputs": [
    {
     "name": "stdout",
     "output_type": "stream",
     "text": [
      "60\n"
     ]
    }
   ],
   "source": [
    "n='5322'\n",
    "res=1\n",
    "# l=list(n)\n",
    "# print(l)\n",
    "for i in n:\n",
    "    res*=int(i)\n",
    "print(res)"
   ]
  },
  {
   "cell_type": "code",
   "execution_count": 34,
   "id": "b45b886b",
   "metadata": {},
   "outputs": [
    {
     "name": "stdout",
     "output_type": "stream",
     "text": [
      "2\n",
      "5\n",
      "18\n"
     ]
    }
   ],
   "source": [
    "s='we belongs to 21 century!'\n",
    "a_c=0\n",
    "d_c=0\n",
    "s_c=0\n",
    "for i in range(len(s)):\n",
    "    if '0'<=s[i]<='9':\n",
    "        d_c+=1\n",
    "    elif 'a'<=s[i]<='z':\n",
    "        a_c+=1\n",
    "    else:\n",
    "        s_c+=1\n",
    "print(d_c)\n",
    "print(s_c)\n",
    "print(a_c)"
   ]
  },
  {
   "cell_type": "code",
   "execution_count": 35,
   "id": "bc45422a",
   "metadata": {},
   "outputs": [
    {
     "name": "stdout",
     "output_type": "stream",
     "text": [
      "[19, 21, 15, 12]\n"
     ]
    }
   ],
   "source": [
    "l=[12,21,15,19]\n",
    "l[0],l[-1]=l[-1],l[0]\n",
    "print(l)"
   ]
  },
  {
   "cell_type": "code",
   "execution_count": 36,
   "id": "8519ece1",
   "metadata": {},
   "outputs": [
    {
     "name": "stdout",
     "output_type": "stream",
     "text": [
      "5040\n"
     ]
    }
   ],
   "source": [
    "def fact(n):\n",
    "    if n==0 or n==1:\n",
    "        return 1\n",
    "    return n*fact(n-1)\n",
    "print(fact(7))"
   ]
  },
  {
   "cell_type": "code",
   "execution_count": 38,
   "id": "ef8fc6cc",
   "metadata": {},
   "outputs": [
    {
     "name": "stdout",
     "output_type": "stream",
     "text": [
      "I==2\n",
      "N==2\n",
      "H==1\n",
      "E==2\n",
      "R==1\n",
      "T==1\n",
      "A==1\n",
      "C==1\n"
     ]
    }
   ],
   "source": [
    "s='INHERITANCE'\n",
    "d={}\n",
    "for a in range(len(s)):\n",
    "    if s[a] not in d:\n",
    "        d[s[a]]=1\n",
    "    else:\n",
    "        d[s[a]]+=1\n",
    "for k,v in d.items():\n",
    "    print(f'{k}=={v}')"
   ]
  },
  {
   "cell_type": "code",
   "execution_count": 10,
   "id": "a33aacb8",
   "metadata": {},
   "outputs": [
    {
     "name": "stdout",
     "output_type": "stream",
     "text": [
      "[2, 7, 4, 6, 7, 1, 2, 1, 5, 9, 2, 5, 15]\n"
     ]
    }
   ],
   "source": [
    "def a(l):\n",
    "    for num in l:\n",
    "        if type(num)==list:\n",
    "            a(num)\n",
    "        else:\n",
    "            l2.append(num)\n",
    "    return l2\n",
    "\n",
    "l=[[2,7],[4,6,7],[1,[2,[1,[5,9],2,],5],15]]\n",
    "l2=[]\n",
    "print(a(l))"
   ]
  },
  {
   "cell_type": "code",
   "execution_count": 3,
   "id": "c74abb34",
   "metadata": {},
   "outputs": [
    {
     "name": "stdout",
     "output_type": "stream",
     "text": [
      "[2, 7, 4, 6, 7, 1, 2, 1, 2, 5, 15]\n"
     ]
    }
   ],
   "source": [
    "def a(l):\n",
    "    for num in l:\n",
    "        if type(num)==list:\n",
    "            a(num)\n",
    "        else:\n",
    "            l2.append(num)\n",
    "    return l2\n",
    "\n",
    "l=[[2,7],[4,6,7],[1,[2,[1,2,],5],15]]\n",
    "l2=[]\n",
    "print(a(l))"
   ]
  },
  {
   "cell_type": "code",
   "execution_count": 1,
   "id": "f594b211",
   "metadata": {},
   "outputs": [
    {
     "name": "stdout",
     "output_type": "stream",
     "text": [
      "hheililow\n"
     ]
    }
   ],
   "source": [
    "s1 = 'hellow'\n",
    "s2 = 'hii'\n",
    "L=[ a+b for a,b in zip(s1,s2)]\n",
    "#print(L)\n",
    "for a in range(len(s2),len(s1)):\n",
    "    L.append(s1[a])\n",
    "print(''.join(L))"
   ]
  },
  {
   "cell_type": "code",
   "execution_count": 7,
   "id": "6a0d1c0e",
   "metadata": {},
   "outputs": [
    {
     "name": "stdout",
     "output_type": "stream",
     "text": [
      "hheililo\n"
     ]
    }
   ],
   "source": [
    "s1 = 'hello'\n",
    "s2 = 'hii'\n",
    "l=list(s1)\n",
    "x=1\n",
    "for i in s2:\n",
    "    l.insert(x,i)\n",
    "    x+=2\n",
    "print(''.join(l))"
   ]
  },
  {
   "cell_type": "code",
   "execution_count": 39,
   "id": "ac0235ec",
   "metadata": {},
   "outputs": [
    {
     "name": "stdout",
     "output_type": "stream",
     "text": [
      "[1, 2, 5, 1, 1]\n"
     ]
    }
   ],
   "source": [
    "#[9]---[1,0]\n",
    "#[1,2,3]---[1,2,4]\n",
    "#[4,2,4,2]----[4,2,4,3]\n",
    "L=[1,2,5,10]\n",
    "for a in str(L.pop()+1):\n",
    "    L.append(int(a))\n",
    "print(L)"
   ]
  },
  {
   "cell_type": "code",
   "execution_count": 35,
   "id": "7b0e265a",
   "metadata": {},
   "outputs": [
    {
     "name": "stdout",
     "output_type": "stream",
     "text": [
      "TH1IS I2S EX3AM QUES4TION\n"
     ]
    }
   ],
   "source": [
    "s='I2S TH1IS QUES4TION EX3AM'\n",
    "l=[]\n",
    "for word in s.split():\n",
    "    nl=[]\n",
    "    for ch in word:\n",
    "        if ch.isdigit():\n",
    "            nl.append((int(ch),word))\n",
    "    l.append(nl)\n",
    "l.sort()\n",
    "fl=[i[0][-1] for i in l]\n",
    "print(' '.join(fl))"
   ]
  },
  {
   "cell_type": "code",
   "execution_count": 36,
   "id": "5d48e22f",
   "metadata": {},
   "outputs": [
    {
     "name": "stdout",
     "output_type": "stream",
     "text": [
      "THIS IS EXAM QUESTION\n"
     ]
    }
   ],
   "source": [
    "s='I2S TH1IS QUES4TION EX3AM'\n",
    "l=s.split()\n",
    "nl=[]\n",
    "for word in l:\n",
    "    num=ss=''\n",
    "    for ch in word:\n",
    "        if ch.isalpha():\n",
    "            ss+=ch\n",
    "        else:\n",
    "            num+=ch\n",
    "    nl.append((int(num),ss))\n",
    "nl.sort()\n",
    "print(' '.join([v for k,v in nl]))"
   ]
  },
  {
   "cell_type": "code",
   "execution_count": 11,
   "id": "158a48f8",
   "metadata": {},
   "outputs": [
    {
     "name": "stdout",
     "output_type": "stream",
     "text": [
      "[2, 7, 4, 6, 7, 1, 2, 1, 5, 9, 2, 5, 15]\n"
     ]
    }
   ],
   "source": [
    "def a(l):\n",
    "    for num in l:\n",
    "        if type(num)==list:\n",
    "            a(num)\n",
    "        else:\n",
    "            l2.append(num)\n",
    "    return l2\n",
    "\n",
    "l=[[2,7],[4,6,7],[1,[2,[1,[5,9],2,],5],15]]\n",
    "l2=[]\n",
    "print(a(l))"
   ]
  },
  {
   "cell_type": "code",
   "execution_count": 13,
   "id": "f2780f79",
   "metadata": {},
   "outputs": [
    {
     "name": "stdout",
     "output_type": "stream",
     "text": [
      "[1, 2, 2, 3, 3, 3, 10, 10, 10, 10, 10, 10, 10, 10, 10, 10]\n"
     ]
    }
   ],
   "source": [
    "def a(l):\n",
    "    for num in l:\n",
    "        if type(num)==list:\n",
    "            a(num)\n",
    "        else:\n",
    "            l2.append(num)\n",
    "    return l2\n",
    "\n",
    "l=[1,2,3,10]\n",
    "nl=[[i]*i for i in l]\n",
    "l2=[]\n",
    "print(a(nl))"
   ]
  },
  {
   "cell_type": "code",
   "execution_count": 8,
   "id": "50536b06",
   "metadata": {},
   "outputs": [
    {
     "name": "stdout",
     "output_type": "stream",
     "text": [
      "[1, 8, 10, 19, 21]\n"
     ]
    }
   ],
   "source": [
    "l=[121,67,12,29,92]\n",
    "nl=[]\n",
    "add=0\n",
    "for num in l:\n",
    "    rem=num%10\n",
    "    add+=rem\n",
    "    num//=10\n",
    "    nl.append(add)\n",
    "print(nl)"
   ]
  },
  {
   "cell_type": "code",
   "execution_count": 11,
   "id": "87648009",
   "metadata": {},
   "outputs": [
    {
     "name": "stdout",
     "output_type": "stream",
     "text": [
      "5040\n"
     ]
    }
   ],
   "source": [
    "def fact(n):\n",
    "    if n==0 or n==1:\n",
    "        return 1\n",
    "    return n*fact(n-1)\n",
    "print(fact(7))"
   ]
  },
  {
   "cell_type": "code",
   "execution_count": 15,
   "id": "9848b219",
   "metadata": {},
   "outputs": [
    {
     "name": "stdout",
     "output_type": "stream",
     "text": [
      "prime\n"
     ]
    }
   ],
   "source": [
    "def prime(n,a):\n",
    "    if n<=1:\n",
    "        return False\n",
    "    if a==n//2+1:\n",
    "        return True\n",
    "    if n%a==0:\n",
    "        return False\n",
    "    return prime(n,a+1)\n",
    "n=11\n",
    "a=2\n",
    "if prime(n,a):\n",
    "    print('prime')\n",
    "else:\n",
    "    print('not')"
   ]
  },
  {
   "cell_type": "code",
   "execution_count": 17,
   "id": "817331c8",
   "metadata": {},
   "outputs": [
    {
     "name": "stdout",
     "output_type": "stream",
     "text": [
      "54321\n"
     ]
    }
   ],
   "source": [
    "n=12345\n",
    "res=0\n",
    "while n!=0:\n",
    "    rem=n%10\n",
    "    res=res*10+rem\n",
    "    n//=10\n",
    "print(res)"
   ]
  },
  {
   "cell_type": "code",
   "execution_count": 19,
   "id": "3a8c8e15",
   "metadata": {},
   "outputs": [
    {
     "name": "stdout",
     "output_type": "stream",
     "text": [
      "DASARPIVED\n"
     ]
    }
   ],
   "source": [
    "n='DEVIPRASAD'\n",
    "res=''\n",
    "for i in range(-1,-(len(n)+1),-1):\n",
    "    res+=n[i]\n",
    "print(res)"
   ]
  },
  {
   "cell_type": "code",
   "execution_count": 20,
   "id": "1a0ef491",
   "metadata": {},
   "outputs": [
    {
     "name": "stdout",
     "output_type": "stream",
     "text": [
      "27\n",
      "0\n"
     ]
    }
   ],
   "source": [
    "n=197820\n",
    "add=0\n",
    "prod=1\n",
    "while n!=0:\n",
    "    rem=n%10\n",
    "    add+=rem\n",
    "    prod*=rem\n",
    "    n//=10\n",
    "print(add)\n",
    "print(prod)"
   ]
  },
  {
   "cell_type": "code",
   "execution_count": 1,
   "id": "e627e02b",
   "metadata": {},
   "outputs": [
    {
     "name": "stdout",
     "output_type": "stream",
     "text": [
      "we are smart good\n"
     ]
    }
   ],
   "source": [
    "s='we    are   smart good'\n",
    "print(' '.join(s.split()))"
   ]
  },
  {
   "cell_type": "code",
   "execution_count": 9,
   "id": "099e41e7",
   "metadata": {},
   "outputs": [
    {
     "name": "stdout",
     "output_type": "stream",
     "text": [
      "[3, 7, 10, 12, 17, 12, 25, 19, 7]\n"
     ]
    }
   ],
   "source": [
    "def a(l):\n",
    "    for num in l:\n",
    "        if type(num)==list:\n",
    "            a(num)\n",
    "        else:\n",
    "            l2.append(num)\n",
    "    return l2\n",
    "\n",
    "l=[3,[7,[10,12,[17,12],25],19],7]\n",
    "l2=[]\n",
    "print(a(l))"
   ]
  },
  {
   "cell_type": "code",
   "execution_count": 22,
   "id": "aff2c78b",
   "metadata": {},
   "outputs": [
    {
     "name": "stdout",
     "output_type": "stream",
     "text": [
      "* \n",
      "* * \n",
      "* * * \n",
      "* * * * \n",
      "* * * * * \n"
     ]
    }
   ],
   "source": [
    "n=5\n",
    "for i in range(n):\n",
    "    for j in range(i+1):\n",
    "        print('*',end=' ')\n",
    "    print()"
   ]
  },
  {
   "cell_type": "code",
   "execution_count": 46,
   "id": "77c100ee",
   "metadata": {},
   "outputs": [
    {
     "name": "stdout",
     "output_type": "stream",
     "text": [
      "enter number:5\n",
      "    * \n",
      "  * * * \n",
      "* * * * * \n",
      "  * * * \n",
      "    * \n"
     ]
    }
   ],
   "source": [
    "n=int(input('enter number:'))\n",
    "sp=n//2\n",
    "st=1\n",
    "for i in range(n):\n",
    "    for j in range(sp):\n",
    "        print(' ',end=' ')\n",
    "    for k in range(st):\n",
    "        print('*',end=' ')\n",
    "    print()\n",
    "    if i<n//2:\n",
    "        st+=2\n",
    "        sp-=1\n",
    "    else:\n",
    "        st-=2\n",
    "        sp+=1        "
   ]
  },
  {
   "cell_type": "code",
   "execution_count": 49,
   "id": "78a9e201",
   "metadata": {},
   "outputs": [
    {
     "name": "stdout",
     "output_type": "stream",
     "text": [
      "0 0\n",
      "0 1\n",
      "1 0\n",
      "1 1\n"
     ]
    }
   ],
   "source": [
    "for i in range(2):\n",
    "    for j in range(2):\n",
    "        print(i,j)"
   ]
  },
  {
   "cell_type": "code",
   "execution_count": 59,
   "id": "9a241a9e",
   "metadata": {},
   "outputs": [
    {
     "name": "stdout",
     "output_type": "stream",
     "text": [
      "[[1, 10], [1, 11], [2, 10], [2, 11], [3, 10], [3, 11]]\n"
     ]
    }
   ],
   "source": [
    "l1=[1,2,3]\n",
    "l2=[10,11]\n",
    "l=[]\n",
    "for i in range(len(l1)):\n",
    "    for j in range(len(l2)):\n",
    "        l.append([l1[i],l2[j]])\n",
    "print(l)"
   ]
  },
  {
   "cell_type": "code",
   "execution_count": 2,
   "id": "4319f502",
   "metadata": {},
   "outputs": [
    {
     "name": "stdout",
     "output_type": "stream",
     "text": [
      "This is Weekend\n"
     ]
    }
   ],
   "source": [
    "import re\n",
    "S='This    is     Weekend'\n",
    "S=re.sub(' +',' ',S)\n",
    "print(S)"
   ]
  },
  {
   "cell_type": "code",
   "execution_count": 1,
   "id": "2bb14faf",
   "metadata": {},
   "outputs": [
    {
     "name": "stdout",
     "output_type": "stream",
     "text": [
      "This is Weekend\n"
     ]
    }
   ],
   "source": [
    "import re\n",
    "\n",
    "S = 'This    is     Weekend'\n",
    "S = re.sub(' +', ' ', S)\n",
    "\n",
    "print(S)\n"
   ]
  },
  {
   "cell_type": "code",
   "execution_count": 5,
   "id": "ab46fbb6",
   "metadata": {},
   "outputs": [
    {
     "name": "stdout",
     "output_type": "stream",
     "text": [
      "THIS DEVIPRASAD LAPTOP\n"
     ]
    }
   ],
   "source": [
    "import re\n",
    "d='THIS                          DEVIPRASAD                                LAPTOP'\n",
    "d=re.sub(' +',' ',d)\n",
    "print(d)"
   ]
  },
  {
   "cell_type": "code",
   "execution_count": 8,
   "id": "0d9c65d1",
   "metadata": {},
   "outputs": [
    {
     "name": "stdout",
     "output_type": "stream",
     "text": [
      "[1, 2, 3, 4, 5, 6, 7, 8, 9, 10]\n"
     ]
    }
   ],
   "source": [
    "l=[b for b in range(1,11)]\n",
    "print(l)"
   ]
  },
  {
   "cell_type": "code",
   "execution_count": 7,
   "id": "66b107fd",
   "metadata": {},
   "outputs": [
    {
     "name": "stdout",
     "output_type": "stream",
     "text": [
      "enter number5\n",
      "        * \n",
      "      * 1 * \n",
      "    * 1 * 1 * \n",
      "  * 1 * 1 * 1 * \n",
      "* 1 * 1 * 1 * 1 * \n"
     ]
    }
   ],
   "source": [
    "n=int(input('enter number'))\n",
    "st=1\n",
    "sp=n-1\n",
    "for i in range(n):\n",
    "    for j in range(sp):\n",
    "        print(' ',end=' ')\n",
    "    for k in range(st):\n",
    "        if k%2==0:\n",
    "            print('*',end=' ')\n",
    "        else:\n",
    "            print('1',end=' ')\n",
    "    print()\n",
    "    st+=2\n",
    "    sp-=1"
   ]
  },
  {
   "cell_type": "code",
   "execution_count": 4,
   "id": "e8adaa3b",
   "metadata": {},
   "outputs": [
    {
     "name": "stdout",
     "output_type": "stream",
     "text": [
      "False\n",
      "True\n"
     ]
    }
   ],
   "source": [
    "List1=[12,16,18]\n",
    "NewList=List1[::-1]\n",
    "print(NewList is List1)\n",
    "print(NewList[1] is List1[1])"
   ]
  },
  {
   "cell_type": "code",
   "execution_count": 5,
   "id": "202cf31f",
   "metadata": {},
   "outputs": [
    {
     "name": "stdout",
     "output_type": "stream",
     "text": [
      "1 2 3 4 5 \n",
      "  5 4 3 2 \n",
      "    3 4 5 \n",
      "      4 3 \n",
      "        5 \n"
     ]
    }
   ],
   "source": [
    "n=5\n",
    "sum=n\n",
    "for a in range(n):\n",
    "    if a%2 == 0:\n",
    "        num = a+1\n",
    "    else:\n",
    "        number=sum\n",
    "    for b in range(a):\n",
    "        print(' ',end=' ')\n",
    "        \n",
    "    for c in range(n-a):\n",
    "        print(num,end=' ') if a%2==0 else print(number,end=' ')\n",
    "        if a%2==0:\n",
    "            num=num+1\n",
    "        else:\n",
    "            number=number-1\n",
    "    print()\n",
    "    if a%2 !=0:\n",
    "        sum=sum-1"
   ]
  },
  {
   "cell_type": "code",
   "execution_count": 2,
   "id": "23a8c81b",
   "metadata": {},
   "outputs": [
    {
     "name": "stdout",
     "output_type": "stream",
     "text": [
      "T NE DUTSEGE LLOCMAI\n"
     ]
    }
   ],
   "source": [
    "s='I AM COLLEGE STUDENT'\n",
    "a=[len(a) for a in s.split()]\n",
    "b=[a for a in s if a.isalpha()][::-1]\n",
    "NL=[]\n",
    "for c in a:\n",
    "    res=''\n",
    "    d=b[0:c]\n",
    "    for e in d:\n",
    "        b.remove(e)\n",
    "        res+=e\n",
    "    NL.append(res)\n",
    "print(' '.join(NL))"
   ]
  },
  {
   "cell_type": "code",
   "execution_count": 1,
   "id": "1d05064e",
   "metadata": {},
   "outputs": [
    {
     "name": "stdout",
     "output_type": "stream",
     "text": [
      "[[11, 2, 3], [12, 20], [30, 40, 50]]\n"
     ]
    }
   ],
   "source": [
    "import json\n",
    "l=['[11,2,3]','[12,20]','[30,40,50]']\n",
    "#->[[11,2,3],[12,20],[30,40,50]]\n",
    "d=[json.loads(a) for a in l]\n",
    "print(d)"
   ]
  },
  {
   "cell_type": "code",
   "execution_count": 1,
   "id": "c35b708a",
   "metadata": {},
   "outputs": [
    {
     "name": "stdout",
     "output_type": "stream",
     "text": [
      "[[11, 10, 5], [1, 2, 3], [200, 50]]\n"
     ]
    }
   ],
   "source": [
    "l=['[11,10,5]','[1,2,3]','[200,50]']\n",
    "x=[]\n",
    "for i in l:\n",
    "    x+=[eval(i)]\n",
    "print(x)"
   ]
  },
  {
   "cell_type": "code",
   "execution_count": 3,
   "id": "17bef07b",
   "metadata": {},
   "outputs": [
    {
     "name": "stdout",
     "output_type": "stream",
     "text": [
      "[[200, 20050]]\n"
     ]
    }
   ],
   "source": [
    "l=['[11,10,5]','[1,2,3]','[200,50]']\n",
    "x=[]\n",
    "for i in l:\n",
    "    z=[]\n",
    "    c=''\n",
    "    for j in i:\n",
    "        if j.isdigit():\n",
    "            c+=j\n",
    "        else:\n",
    "            if len(c)>0:\n",
    "                z+=[int(c)]\n",
    "x+=[z]\n",
    "print(x)"
   ]
  },
  {
   "cell_type": "code",
   "execution_count": 4,
   "id": "1b615bda",
   "metadata": {},
   "outputs": [
    {
     "name": "stdout",
     "output_type": "stream",
     "text": [
      "[1, 2, 2, 5, 5, 5, 5, 5]\n"
     ]
    }
   ],
   "source": [
    "# l=[0,1,2,5]\n",
    "def a(l):\n",
    "    for num in l:\n",
    "        if type(num)==list:\n",
    "            a(num)\n",
    "        else:\n",
    "            l2.append(num)\n",
    "    return l2\n",
    "\n",
    "l=[0,1,2,5]\n",
    "nl=[[i]*i for i in l]\n",
    "l2=[]\n",
    "print(a(nl))"
   ]
  },
  {
   "cell_type": "code",
   "execution_count": 2,
   "id": "7f13e95a",
   "metadata": {},
   "outputs": [
    {
     "name": "stdout",
     "output_type": "stream",
     "text": [
      "[1, 2, 2, 5, 5, 5, 5, 5]\n"
     ]
    }
   ],
   "source": [
    "l=[0,1,2,5]\n",
    "d=[int(c) for a in l for c in str(a)*a]\n",
    "print(d)"
   ]
  },
  {
   "cell_type": "code",
   "execution_count": 3,
   "id": "64f3925f",
   "metadata": {},
   "outputs": [
    {
     "name": "stdout",
     "output_type": "stream",
     "text": [
      "spaces: [' ', ' '] -- length = 2\n",
      "digits ['1', '1', '2'] -- length = 3\n",
      "specials : ['@', '#', '@'] -- length = 3\n",
      "alphabets : ['J', 's', 'p', 'i', 'd', 'e', 'r', 's', 's', 'a', 'r', 'e'] -- length = 12\n",
      "vowels : ['i', 'e', 'a', 'e'] -- length = 4\n",
      "consonents : ['J', 's', 'p', 'd', 'r', 's', 's', 'r'] -- length = 8\n"
     ]
    }
   ],
   "source": [
    "import re\n",
    "s='1Jspiders @# 12s@are'\n",
    "space=re.findall('\\s',s)\n",
    "dig=re.findall('\\d',s)\n",
    "special=re.findall('[^\\w\\s]',s)\n",
    "alph=re.findall('[a-zA-Z]',s)\n",
    "vow=re.findall('[aeiou]',s)\n",
    "cons=re.findall('[^aeiou\\d\\W]',s)\n",
    "\n",
    "print('spaces:',space,'-- length =',len(space)) \n",
    "print('digits',dig,'-- length =',len(dig))\n",
    "print('specials :',special,'-- length =',len(special))\n",
    "print('alphabets :',alph,'-- length =',len(alph))\n",
    "print('vowels :',vow,'-- length =',len(vow))\n",
    "print('consonents :',cons,'-- length =',len(cons))"
   ]
  },
  {
   "cell_type": "code",
   "execution_count": 65,
   "id": "113c9b09",
   "metadata": {},
   "outputs": [
    {
     "name": "stdout",
     "output_type": "stream",
     "text": [
      "1 0 3 \n",
      "0 0 0 \n",
      "6 0 8 \n"
     ]
    }
   ],
   "source": [
    "# L=[[1,2,3],[4,0,5],[6,7,8]]\n",
    "# 1 0 3\n",
    "# 0 0 0\n",
    "# 6 0 8\n",
    "d=[[1,2,3],[4,0,5],[6,7,8]]\n",
    "for i in range(len(d)):\n",
    "    for j in range(len(d[i])):\n",
    "        if d[i][j]==0:\n",
    "            d1=i\n",
    "            d2=j\n",
    "for i in range(len(d)):\n",
    "    for j in range(len(d[i])):\n",
    "        if i==d1 or j==d2:\n",
    "            d[i][j]=0\n",
    "        print(d[i][j],end=' ')\n",
    "    print()"
   ]
  },
  {
   "cell_type": "code",
   "execution_count": 57,
   "id": "652e676d",
   "metadata": {},
   "outputs": [
    {
     "name": "stdout",
     "output_type": "stream",
     "text": [
      "This is JSpiders\n"
     ]
    }
   ],
   "source": [
    "import re\n",
    "s='This      is       JSpiders'\n",
    "s=re.sub(' +',' ',s)\n",
    "print(s)"
   ]
  },
  {
   "cell_type": "code",
   "execution_count": 1,
   "id": "b3662761",
   "metadata": {},
   "outputs": [
    {
     "name": "stdout",
     "output_type": "stream",
     "text": [
      "This is JSpiders\n"
     ]
    }
   ],
   "source": [
    "s='This      is      JSpiders'\n",
    "res=''\n",
    "L=[]\n",
    "for a in s:\n",
    "    if a!=' ':\n",
    "        res+=a\n",
    "    elif a==' ':\n",
    "        L.append(res)\n",
    "        res=''\n",
    "L.append(res)\n",
    "L=[a for a in L if a]\n",
    "print(' '.join(L))"
   ]
  },
  {
   "cell_type": "code",
   "execution_count": 1,
   "id": "d2395bcb",
   "metadata": {},
   "outputs": [
    {
     "name": "stdout",
     "output_type": "stream",
     "text": [
      "*       * \n",
      "  *   *   \n",
      "    *     \n",
      "  *   *   \n",
      "*       * \n"
     ]
    }
   ],
   "source": [
    "n=5\n",
    "for x in range(1,n+1):\n",
    "    for y in range(1,n+1):\n",
    "        if x==y or x+y==n+1:\n",
    "            print('*',end=' ')\n",
    "        else:\n",
    "            print(' ',end=' ')\n",
    "    print()"
   ]
  },
  {
   "cell_type": "code",
   "execution_count": 5,
   "id": "d24cea7f",
   "metadata": {},
   "outputs": [
    {
     "name": "stdout",
     "output_type": "stream",
     "text": [
      "enter value: CHARDEVI\n",
      "582\n"
     ]
    }
   ],
   "source": [
    "d=input('enter value: ')\n",
    "c=0\n",
    "for i in d:\n",
    "    c+=ord(i)\n",
    "print(c)"
   ]
  },
  {
   "cell_type": "code",
   "execution_count": 9,
   "id": "fbf1a340",
   "metadata": {},
   "outputs": [
    {
     "name": "stdout",
     "output_type": "stream",
     "text": [
      "enter number: 5\n",
      "*       * \n",
      "  *   *   \n",
      "    *     \n",
      "  *   *   \n",
      "*       * \n"
     ]
    }
   ],
   "source": [
    "n=int(input('enter number: '))\n",
    "for x in range(1,n+1):\n",
    "    for y in range(1,n+1):\n",
    "        if (x==y) or (x+y==n+1):\n",
    "            print('*',end=' ')\n",
    "        else:\n",
    "            print(' ',end=' ')\n",
    "    print()"
   ]
  },
  {
   "cell_type": "code",
   "execution_count": 21,
   "id": "adb22109",
   "metadata": {},
   "outputs": [
    {
     "name": "stdout",
     "output_type": "stream",
     "text": [
      "[1, 7, 2, 2, 1, 4, 3]\n",
      "[4]\n",
      "[1, 7, 2, 2, 1, 3]\n",
      "4\n",
      "16\n"
     ]
    }
   ],
   "source": [
    "s='IAM CHARDEVI 1722143'\n",
    "l=[]\n",
    "even=[]\n",
    "prime=[]\n",
    "for ch in s:\n",
    "    if '0'<=ch<='9':\n",
    "        l+=[int(ch)]\n",
    "for num in l:\n",
    "    if all(num>=2 and num%a!=0 for a in range(2,num//2+1)):\n",
    "        prime+=[num]\n",
    "    elif num%2==0:\n",
    "        even+=[num]\n",
    "print(l)\n",
    "print(even)\n",
    "print(prime)\n",
    "print(sum(even))\n",
    "print(sum(prime))"
   ]
  },
  {
   "cell_type": "code",
   "execution_count": 5,
   "id": "054099c6",
   "metadata": {},
   "outputs": [
    {
     "name": "stdout",
     "output_type": "stream",
     "text": [
      "enter number: 0\n",
      "1\n"
     ]
    }
   ],
   "source": [
    "print(int(not(int(input('enter number: ')))))"
   ]
  },
  {
   "cell_type": "code",
   "execution_count": 9,
   "id": "4a758c05",
   "metadata": {},
   "outputs": [
    {
     "name": "stdout",
     "output_type": "stream",
     "text": [
      "Enter Number: 0\n",
      "1\n"
     ]
    }
   ],
   "source": [
    "C=-int(input('Enter Number: '))\n",
    "D=1\n",
    "print(D+C)"
   ]
  },
  {
   "cell_type": "code",
   "execution_count": 1,
   "id": "3e2e9f6c",
   "metadata": {},
   "outputs": [
    {
     "name": "stdout",
     "output_type": "stream",
     "text": [
      "7\n"
     ]
    }
   ],
   "source": [
    "a=2\n",
    "b=5\n",
    "while b!=0:\n",
    "    c=a&b\n",
    "    a=a^b\n",
    "    b=c<<1\n",
    "print(a)"
   ]
  },
  {
   "cell_type": "code",
   "execution_count": 34,
   "id": "8e548fbb",
   "metadata": {},
   "outputs": [
    {
     "name": "stdout",
     "output_type": "stream",
     "text": [
      "enter a odd value here : 11\n",
      "1                     \n",
      "  3                   \n",
      "    8                 \n",
      "      21               \n",
      "        55             \n",
      "          144           \n",
      "        89             \n",
      "      34               \n",
      "    13                 \n",
      "  5                   \n",
      "2                     \n"
     ]
    }
   ],
   "source": [
    "def Fib(n):\n",
    "    f,s = 0,1\n",
    "    for a in range(n):\n",
    "        t = f+s\n",
    "        yield t\n",
    "        f,s = s,t\n",
    "n = int(input(\"enter a odd value here : \"))\n",
    "ob = Fib(n)\n",
    "L = [a for a in ob]\n",
    "even = [L[a] for a in range(len(L)) if a%2 == 0]\n",
    "odd = [L[a] for a in range(len(L)) if a%2 == 1]\n",
    "odd.sort(reverse = True)\n",
    "main = even + odd\n",
    "for a in range(len(main)):\n",
    "    for b in range(len(main)):\n",
    "        if (a == b and a <= n//2) or (a+b == n-1 and a>=n//2):\n",
    "            print(main[a],end = ' ')\n",
    "        else:\n",
    "            print(' ',end = ' ')\n",
    "    print()"
   ]
  },
  {
   "cell_type": "code",
   "execution_count": 17,
   "id": "469d4774",
   "metadata": {},
   "outputs": [
    {
     "name": "stdout",
     "output_type": "stream",
     "text": [
      "['prime', 'odd', 'even', 'prime', 'prime', 'odd', 'prime', 'prime']\n"
     ]
    }
   ],
   "source": [
    "L=[7,9,6,5,3,9,2,11]\n",
    "for a in range(len(L)):\n",
    "   \n",
    "    if all(L[a] %i != 0 for i in range(2,L[a]//2+1)) and L[a]>1:\n",
    "        L[a] = 'prime'\n",
    "    elif L[a]%2==1:\n",
    "        L[a] = 'odd'\n",
    "    else:\n",
    "        L[a] = 'even'\n",
    "print(L)"
   ]
  },
  {
   "cell_type": "code",
   "execution_count": 29,
   "id": "7e8525df",
   "metadata": {},
   "outputs": [
    {
     "name": "stdout",
     "output_type": "stream",
     "text": [
      "valid\n"
     ]
    }
   ],
   "source": [
    "import re\n",
    "s = '123@sample'\n",
    "if re.match('\\d+\\W+[a-z-A-Z]',s):\n",
    "    print('valid')\n",
    "else:\n",
    "    print('not valid')"
   ]
  },
  {
   "cell_type": "code",
   "execution_count": 21,
   "id": "cfce2d5a",
   "metadata": {},
   "outputs": [
    {
     "name": "stdout",
     "output_type": "stream",
     "text": [
      "1.25\n",
      "1.25\n"
     ]
    }
   ],
   "source": [
    "def Outer(arg):\n",
    "    def inner(a,b):\n",
    "        arg(a,b) if a>b else arg(b,a)\n",
    "    return inner\n",
    "@Outer\n",
    "def Sample(a,b):\n",
    "    print(a/b)\n",
    "Sample(5,4)\n",
    "Sample(4,5)\n",
    "    "
   ]
  },
  {
   "cell_type": "code",
   "execution_count": 27,
   "id": "83412613",
   "metadata": {},
   "outputs": [
    {
     "name": "stdout",
     "output_type": "stream",
     "text": [
      "[1, 4, 9, 16, 25]\n"
     ]
    }
   ],
   "source": [
    "L = [1,2,3,4,5]\n",
    "print(list(map(lambda a:a**2,L)))"
   ]
  },
  {
   "cell_type": "code",
   "execution_count": 24,
   "id": "21d0245f",
   "metadata": {},
   "outputs": [
    {
     "name": "stdout",
     "output_type": "stream",
     "text": [
      "<class '__main__.Devi'>\n"
     ]
    }
   ],
   "source": [
    "class Devi():\n",
    "    pass\n",
    "\n",
    "    \n",
    "\n",
    "\n",
    "print(Devi)"
   ]
  },
  {
   "cell_type": "code",
   "execution_count": 25,
   "id": "e5fa90a0",
   "metadata": {},
   "outputs": [
    {
     "name": "stdout",
     "output_type": "stream",
     "text": [
      "thispatternthis mathchthised hellothishello athis\n",
      "this\n",
      "2\n"
     ]
    }
   ],
   "source": [
    "import re\n",
    "def count(s,n):\n",
    "    patt=r'(?<=[a-zA-Z0-9])'+re.escape(n)+r'(?=[a-zA-Z0-9])'\n",
    "    match=re.findall(patt,s)\n",
    "    return len(match)\n",
    "s=input()\n",
    "n=input()\n",
    "print(count(s,n))"
   ]
  },
  {
   "cell_type": "code",
   "execution_count": 31,
   "id": "ebfe35c5",
   "metadata": {},
   "outputs": [
    {
     "name": "stdout",
     "output_type": "stream",
     "text": [
      "Help on function escape in module re:\n",
      "\n",
      "escape(pattern)\n",
      "    Escape special characters in a string.\n",
      "\n"
     ]
    }
   ],
   "source": [
    "import re\n",
    "help(re.escape)"
   ]
  },
  {
   "cell_type": "code",
   "execution_count": 11,
   "id": "0f10929d",
   "metadata": {},
   "outputs": [
    {
     "name": "stdout",
     "output_type": "stream",
     "text": [
      "I.DeviPrasad\n",
      "23\n",
      "7893347525\n",
      "11000\n",
      "2023\n",
      "123456789\n"
     ]
    }
   ],
   "source": [
    "class Bank_v1():\n",
    "    Bank_name='canara'\n",
    "    Bank_roi=11\n",
    "    Bank_branch='india'\n",
    "    \n",
    "    def __init__(self,n,a,ac,bal):\n",
    "        self.name=n\n",
    "        self.age=a\n",
    "        self.account=ac\n",
    "        self.balance=bal\n",
    "        \n",
    "    @staticmethod\n",
    "    def get_int():\n",
    "        amount=int(input('Enter Value:'))\n",
    "        return amount\n",
    "    \n",
    "    @classmethod\n",
    "    def Bank_details(cls):\n",
    "        print(cls.Bank_name)\n",
    "        print(cls.Bank_roi)\n",
    "        print(cls.Bank_branch)\n",
    "    \n",
    "    def Withdraw(self):\n",
    "        amount=self.get_int()\n",
    "        if self.balance>=amount:\n",
    "            self.balance-=amount\n",
    "            print('Withdraw is Done')\n",
    "        else:\n",
    "            print('Insufficient Balance')\n",
    "            \n",
    "    def Customer_details(self):\n",
    "        print(self.name)\n",
    "        print(self.age)\n",
    "        print(self.account)\n",
    "        print(self.balance)\n",
    "        \n",
    "    def deposite(self):\n",
    "        amount=self.get_int()\n",
    "        self.balance+=amount\n",
    "        print('Deposite is Done')\n",
    "        \n",
    "class Bank_v2(Bank_v1):\n",
    "    Bank_branch='canada'\n",
    "    Bank_ifsc=1234\n",
    "    \n",
    "    def __init__(self,n,a,ac,bal,p,ad):\n",
    "        super().__init__(n,a,ac,bal)\n",
    "        self.pin=p\n",
    "        self.aadhar=ad\n",
    "        \n",
    "    def Customer_details(self):\n",
    "        super().Customer_details()\n",
    "        print(self.pin)\n",
    "        print(self.aadhar)\n",
    "        \n",
    "    @classmethod\n",
    "    def Bank_details(cls):\n",
    "        super().Bank_details()\n",
    "        print(cls.Bank_ifsc)\n",
    "        \n",
    "    def Withdraw(self):\n",
    "        \n",
    "        pin=self.get_int()\n",
    "        if pin==self.pin:\n",
    "            super().Withdraw()\n",
    "            print(self.balance)\n",
    "        else:\n",
    "            print('Incorrect Pin')\n",
    "DeviPrasad=Bank_v2('I.DeviPrasad',23,7893347525,11000,2023,123456789)\n",
    "DeviPrasad.Customer_details()"
   ]
  },
  {
   "cell_type": "code",
   "execution_count": 2,
   "id": "5ed4c326",
   "metadata": {},
   "outputs": [
    {
     "name": "stdout",
     "output_type": "stream",
     "text": [
      "PYTHON\n"
     ]
    }
   ],
   "source": [
    "s='PYTHON DEVELOPMENT'\n",
    "print(s[0:-12])"
   ]
  },
  {
   "cell_type": "code",
   "execution_count": 17,
   "id": "405a7c64",
   "metadata": {},
   "outputs": [
    {
     "name": "stdout",
     "output_type": "stream",
     "text": [
      "[1, 3, 4, 7, 9, 5, 'd', 'e', 'v', 'i', 7, 5, 1]\n"
     ]
    }
   ],
   "source": [
    "def normal(L,newL=[]):\n",
    "    for element in L:\n",
    "        if type(element) in [list,tuple,set]:\n",
    "            normal(element,newL)\n",
    "        elif type(element)== str:\n",
    "            newL.extend(element)\n",
    "        else:\n",
    "            newL.append(element)\n",
    "    return newL\n",
    "L = [1,3,[4,7,9],5,'devi',7,(5,1)]\n",
    "print(normal(L))"
   ]
  },
  {
   "cell_type": "code",
   "execution_count": 18,
   "id": "33c08e66",
   "metadata": {},
   "outputs": [
    {
     "name": "stdout",
     "output_type": "stream",
     "text": [
      "Balanced\n"
     ]
    }
   ],
   "source": [
    "def balance(s):\n",
    "    while True:\n",
    "        if '()' in s:\n",
    "            s=s.replace('()','')           \n",
    "        elif '{}' in s:\n",
    "            s=s.replace('{}','')  \n",
    "        elif '[]' in s:\n",
    "            s=s.replace('[]','')\n",
    "        else:\n",
    "            if s:\n",
    "                return 'Not Balanced'\n",
    "            else:\n",
    "                return 'Balanced'\n",
    "s='[]{}([])'\n",
    "print(balance(s))"
   ]
  },
  {
   "cell_type": "code",
   "execution_count": null,
   "id": "40bf3121",
   "metadata": {},
   "outputs": [],
   "source": []
  },
  {
   "cell_type": "code",
   "execution_count": null,
   "id": "950ec561",
   "metadata": {},
   "outputs": [],
   "source": []
  },
  {
   "cell_type": "code",
   "execution_count": null,
   "id": "de4fc8d7",
   "metadata": {},
   "outputs": [],
   "source": []
  },
  {
   "cell_type": "code",
   "execution_count": null,
   "id": "ccebbf50",
   "metadata": {},
   "outputs": [],
   "source": []
  },
  {
   "cell_type": "code",
   "execution_count": null,
   "id": "cea8b116",
   "metadata": {},
   "outputs": [],
   "source": []
  },
  {
   "cell_type": "code",
   "execution_count": null,
   "id": "e2f92d55",
   "metadata": {},
   "outputs": [],
   "source": []
  },
  {
   "cell_type": "code",
   "execution_count": null,
   "id": "5315d9ba",
   "metadata": {},
   "outputs": [],
   "source": []
  },
  {
   "cell_type": "code",
   "execution_count": null,
   "id": "274a7239",
   "metadata": {},
   "outputs": [],
   "source": []
  },
  {
   "cell_type": "code",
   "execution_count": null,
   "id": "3864b296",
   "metadata": {},
   "outputs": [],
   "source": []
  },
  {
   "cell_type": "code",
   "execution_count": null,
   "id": "8724d4be",
   "metadata": {},
   "outputs": [],
   "source": []
  },
  {
   "cell_type": "code",
   "execution_count": null,
   "id": "c161fb33",
   "metadata": {},
   "outputs": [],
   "source": []
  },
  {
   "cell_type": "code",
   "execution_count": null,
   "id": "f5720477",
   "metadata": {},
   "outputs": [],
   "source": []
  },
  {
   "cell_type": "code",
   "execution_count": null,
   "id": "8445deb6",
   "metadata": {},
   "outputs": [],
   "source": []
  },
  {
   "cell_type": "code",
   "execution_count": null,
   "id": "35504b7d",
   "metadata": {},
   "outputs": [],
   "source": []
  },
  {
   "cell_type": "code",
   "execution_count": null,
   "id": "f19299a6",
   "metadata": {},
   "outputs": [],
   "source": []
  },
  {
   "cell_type": "code",
   "execution_count": null,
   "id": "2e2f331e",
   "metadata": {},
   "outputs": [],
   "source": []
  },
  {
   "cell_type": "code",
   "execution_count": null,
   "id": "234364e6",
   "metadata": {},
   "outputs": [],
   "source": []
  },
  {
   "cell_type": "code",
   "execution_count": null,
   "id": "58dbedbc",
   "metadata": {},
   "outputs": [],
   "source": []
  },
  {
   "cell_type": "code",
   "execution_count": null,
   "id": "d7e7d15b",
   "metadata": {},
   "outputs": [],
   "source": []
  },
  {
   "cell_type": "code",
   "execution_count": null,
   "id": "48c7c400",
   "metadata": {},
   "outputs": [],
   "source": []
  },
  {
   "cell_type": "code",
   "execution_count": null,
   "id": "8f0fa89d",
   "metadata": {},
   "outputs": [],
   "source": []
  },
  {
   "cell_type": "code",
   "execution_count": null,
   "id": "3d8df504",
   "metadata": {},
   "outputs": [],
   "source": []
  },
  {
   "cell_type": "code",
   "execution_count": null,
   "id": "6e5743f7",
   "metadata": {},
   "outputs": [],
   "source": []
  },
  {
   "cell_type": "code",
   "execution_count": null,
   "id": "aebe8f6e",
   "metadata": {},
   "outputs": [],
   "source": [
    "                                   💖CHARISHMA💝DEVIPRASAD💖"
   ]
  },
  {
   "cell_type": "code",
   "execution_count": null,
   "id": "cf73860f",
   "metadata": {},
   "outputs": [],
   "source": [
    "                                          💖CHARDEVI💖"
   ]
  }
 ],
 "metadata": {
  "kernelspec": {
   "display_name": "Python 3 (ipykernel)",
   "language": "python",
   "name": "python3"
  },
  "language_info": {
   "codemirror_mode": {
    "name": "ipython",
    "version": 3
   },
   "file_extension": ".py",
   "mimetype": "text/x-python",
   "name": "python",
   "nbconvert_exporter": "python",
   "pygments_lexer": "ipython3",
   "version": "3.9.13"
  }
 },
 "nbformat": 4,
 "nbformat_minor": 5
}
