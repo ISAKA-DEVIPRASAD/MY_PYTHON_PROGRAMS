{
 "cells": [
  {
   "cell_type": "code",
   "execution_count": 4,
   "id": "76fceabb",
   "metadata": {},
   "outputs": [
    {
     "name": "stdout",
     "output_type": "stream",
     "text": [
      "[5, 7, 11, 17, 22, 29, 92]\n"
     ]
    }
   ],
   "source": [
    "#BUBBLE SORT\n",
    "L=[92,29,5,11,22,17,7]\n",
    "for i in range(len(L)-1):\n",
    "    for j in range(len(L)-1-i):\n",
    "        if L[j]>L[j+1]:\n",
    "            L[j],L[j+1]=L[j+1],L[j]\n",
    "print(L)"
   ]
  },
  {
   "cell_type": "code",
   "execution_count": 5,
   "id": "ad0fd58f",
   "metadata": {},
   "outputs": [
    {
     "name": "stdout",
     "output_type": "stream",
     "text": [
      "[5, 7, 11, 17, 22, 29, 92]\n"
     ]
    }
   ],
   "source": [
    "#SELECTION SORT\n",
    "L=[92,29,5,11,22,17,7]\n",
    "for c in range(len(L)-1):\n",
    "    mi=c\n",
    "    for d in range(c+1,len(L)):\n",
    "        if L[mi]>L[d]:\n",
    "            mi=d\n",
    "    L[c],L[mi]=L[mi],L[c]\n",
    "print(L)"
   ]
  },
  {
   "cell_type": "code",
   "execution_count": 6,
   "id": "7a48c3d1",
   "metadata": {},
   "outputs": [
    {
     "name": "stdout",
     "output_type": "stream",
     "text": [
      "[5, 7, 11, 17, 22, 29, 92]\n"
     ]
    }
   ],
   "source": [
    "#INSERTION SORT\n",
    "L=[92,29,5,11,22,17,7]\n",
    "for i in range(1,len(L)):\n",
    "    val=L[i]\n",
    "    j=i-1\n",
    "    while (j>=0 and val<L[j]):\n",
    "        L[j+1]=L[j]\n",
    "        j-=1\n",
    "    L[j+1]=val\n",
    "print(L)"
   ]
  },
  {
   "cell_type": "code",
   "execution_count": 11,
   "id": "58d4a121",
   "metadata": {},
   "outputs": [
    {
     "name": "stdout",
     "output_type": "stream",
     "text": [
      "[5, 7, 11, 17, 22, 29, 92]\n"
     ]
    }
   ],
   "source": [
    "#MERGE SORT\n",
    "def Devide(arr):\n",
    "    if len(arr)<=1:\n",
    "        return\n",
    "    mid=len(arr)//2\n",
    "    left=arr[:mid]\n",
    "    right=arr[mid:]\n",
    "    Devide(left)\n",
    "    Devide(right)\n",
    "    merge_left_right(left,right,arr)\n",
    "def merge_left_right(left,right,arr):\n",
    "    ind=li=ri=0\n",
    "    while li<len(left) and ri<len(right):\n",
    "        if (left[li]<right[ri]):\n",
    "            arr[ind]=left[li]\n",
    "            li+=1\n",
    "        else:\n",
    "            arr[ind]=right[ri]\n",
    "            ri+=1\n",
    "        ind+=1\n",
    "    while ri<len(right):\n",
    "        arr[ind]=right[ri]\n",
    "        ri+=1\n",
    "        ind+=1\n",
    "    while li<len(left):\n",
    "        arr[ind]=left[li]\n",
    "        li+=1\n",
    "        ind+=1\n",
    "L=[92,29,5,11,22,17,7]\n",
    "Devide(L)\n",
    "print(L)"
   ]
  },
  {
   "cell_type": "code",
   "execution_count": 15,
   "id": "684ba07a",
   "metadata": {},
   "outputs": [
    {
     "name": "stdout",
     "output_type": "stream",
     "text": [
      "[5, 7, 11, 17, 22, 29, 92]\n"
     ]
    }
   ],
   "source": [
    "#QUICK SORT\n",
    "def Quick(arr):\n",
    "    if len(arr)<=1:\n",
    "        return arr\n",
    "    pivot=arr[0]\n",
    "    left=[num for num in arr[1:] if num<=pivot]\n",
    "    right=[num for num in arr[1:] if num>pivot]\n",
    "    return Quick(left)+[pivot]+Quick(right)\n",
    "L=[92,29,5,11,22,17,7]\n",
    "print(Quick(L))"
   ]
  },
  {
   "cell_type": "code",
   "execution_count": 15,
   "id": "56e259cc",
   "metadata": {},
   "outputs": [
    {
     "name": "stdout",
     "output_type": "stream",
     "text": [
      "5\n"
     ]
    }
   ],
   "source": [
    "#LINEAR SEARCH\n",
    "def linear(L,val):\n",
    "    for i in range(len(L)):\n",
    "        if L[i]==val:\n",
    "            return i\n",
    "    return -1\n",
    "L=[92,29,5,11,22,17,7]\n",
    "print(linear(L,17))"
   ]
  },
  {
   "cell_type": "code",
   "execution_count": 2,
   "id": "bbbd5dc6",
   "metadata": {},
   "outputs": [
    {
     "name": "stdout",
     "output_type": "stream",
     "text": [
      "[92, 29, 5, 11, 22, 17, 7]\n",
      "4\n"
     ]
    }
   ],
   "source": [
    "#LINEAR SEARCH-->2ND WAY\n",
    "d=[92,29,5,11,22,17,7]\n",
    "c=11\n",
    "d.sort()\n",
    "print(d)\n",
    "for a in range(len(d)):\n",
    "    if d[a]==c:\n",
    "        print(a)\n",
    "        break\n",
    "else:\n",
    "    print(-1)"
   ]
  },
  {
   "cell_type": "code",
   "execution_count": 3,
   "id": "8d1c036f",
   "metadata": {},
   "outputs": [
    {
     "name": "stdout",
     "output_type": "stream",
     "text": [
      "enter number17\n",
      "element is found in 2\n"
     ]
    }
   ],
   "source": [
    "#BINARY SEARCH\n",
    "#DUPLICATES ARE NOT ALLOWED AND LIST SHOULD BE SORTED\n",
    "d=[92,29,17,22,5,11]\n",
    "user=int(input('enter number'))\n",
    "d.sort()\n",
    "low=0\n",
    "high=len(d)-1\n",
    "while low<=high and d[low]<=user<=d[high]:\n",
    "    mid=(low+high)//2\n",
    "    if d[mid]<user:\n",
    "        low=mid+1\n",
    "    elif d[mid]>user:\n",
    "        high=mid-1\n",
    "    elif d[mid]==user:\n",
    "        print(f'element is found in {mid}')\n",
    "        break\n",
    "else:\n",
    "    print(-1)"
   ]
  },
  {
   "cell_type": "code",
   "execution_count": 12,
   "id": "b1d9dd0f",
   "metadata": {},
   "outputs": [
    {
     "name": "stdout",
     "output_type": "stream",
     "text": [
      "enter number17\n",
      "2\n"
     ]
    }
   ],
   "source": [
    "#BINARY SEARCH-->2ND WAY\n",
    "def binary(d,val):\n",
    "    low=0\n",
    "    high=len(d)-1\n",
    "    mid=(low+high)//2\n",
    "    while low<=high:\n",
    "        if val==d[mid]:\n",
    "            return mid\n",
    "        elif d[mid]>val:\n",
    "            high=mid-1\n",
    "        elif d[mid]<val:\n",
    "            low=mid+1\n",
    "    return -1\n",
    "d=[5,11,17,22,29,92]\n",
    "val=int(input('enter number'))\n",
    "print(binary(d,val))"
   ]
  },
  {
   "cell_type": "code",
   "execution_count": 13,
   "id": "e7f3beaa",
   "metadata": {},
   "outputs": [
    {
     "name": "stdout",
     "output_type": "stream",
     "text": [
      "enter number17\n",
      "2\n"
     ]
    }
   ],
   "source": [
    "#BINARY SEARCH-->3rD WAY-->BY USING RECURSION\n",
    "def binary(d,val,low,high):\n",
    "    mid=(low+high)//2\n",
    "    if low>high:\n",
    "        return -1\n",
    "    elif val==d[mid]:\n",
    "        return mid\n",
    "    elif val>d[mid]:\n",
    "        return binary(d,val,mid+1,high)\n",
    "    else:\n",
    "        return binary(d,val,low,mid-1)\n",
    "d=[5,11,17,22,29,92]\n",
    "val=int(input('enter number'))\n",
    "print(binary(d,val,0,len(d)-1))"
   ]
  },
  {
   "cell_type": "code",
   "execution_count": 29,
   "id": "a43384a9",
   "metadata": {},
   "outputs": [
    {
     "name": "stdout",
     "output_type": "stream",
     "text": [
      "enter number:17\n",
      "element is found in:2\n"
     ]
    }
   ],
   "source": [
    "#INTERPOLATION SEARCH\n",
    "d=[5,11,17,22,29,92]\n",
    "user=int(input('enter number:'))\n",
    "low=0\n",
    "high=len(d)-1\n",
    "while low<=high and d[low]<=user<=d[high]:\n",
    "    mid=int(low+(user-d[low])*(low-high)/(d[low]-d[high]))\n",
    "    if d[mid]==user:\n",
    "        print(f'element is found in:{mid}')\n",
    "        break\n",
    "    elif d[mid]>user:\n",
    "        high = mid-1\n",
    "    elif d[mid]<user:\n",
    "        low = mid+1\n",
    "    \n",
    "else:\n",
    "    print(-1)"
   ]
  },
  {
   "cell_type": "code",
   "execution_count": 27,
   "id": "0ae34fab",
   "metadata": {},
   "outputs": [
    {
     "name": "stdout",
     "output_type": "stream",
     "text": [
      "enter number:92\n",
      "element is found in:5\n"
     ]
    }
   ],
   "source": [
    "#INTERPOLATION SEARCH\n",
    "d=[5,11,17,22,29,92]\n",
    "user=int(input('enter number:'))\n",
    "low=0\n",
    "high=len(d)-1\n",
    "while low<=high and d[low]<=user<=d[high]:\n",
    "    mid=int(low+(user-d[low])*(low-high)/(d[low]-d[high]))\n",
    "    if d[mid]==user:\n",
    "        print(f'element is found in:{mid}')\n",
    "        break\n",
    "    elif d[mid]>user:\n",
    "        high = mid-1\n",
    "    elif d[mid]<user:\n",
    "        low = mid+1\n",
    "    \n",
    "else:\n",
    "    print(-1)"
   ]
  },
  {
   "cell_type": "code",
   "execution_count": null,
   "id": "82277827",
   "metadata": {},
   "outputs": [],
   "source": []
  },
  {
   "cell_type": "code",
   "execution_count": null,
   "id": "552fbdef",
   "metadata": {},
   "outputs": [],
   "source": []
  },
  {
   "cell_type": "code",
   "execution_count": null,
   "id": "5a3d4100",
   "metadata": {},
   "outputs": [],
   "source": []
  },
  {
   "cell_type": "code",
   "execution_count": null,
   "id": "d2d281dc",
   "metadata": {},
   "outputs": [],
   "source": []
  },
  {
   "cell_type": "code",
   "execution_count": null,
   "id": "9d2ed4c7",
   "metadata": {},
   "outputs": [],
   "source": []
  },
  {
   "cell_type": "code",
   "execution_count": null,
   "id": "e424ac41",
   "metadata": {},
   "outputs": [],
   "source": []
  },
  {
   "cell_type": "code",
   "execution_count": null,
   "id": "b7317e23",
   "metadata": {},
   "outputs": [],
   "source": []
  },
  {
   "cell_type": "code",
   "execution_count": null,
   "id": "98f60f32",
   "metadata": {},
   "outputs": [],
   "source": []
  },
  {
   "cell_type": "code",
   "execution_count": null,
   "id": "54c55551",
   "metadata": {},
   "outputs": [],
   "source": []
  },
  {
   "cell_type": "code",
   "execution_count": null,
   "id": "19ea221b",
   "metadata": {},
   "outputs": [],
   "source": []
  },
  {
   "cell_type": "code",
   "execution_count": null,
   "id": "1bfb0cdc",
   "metadata": {},
   "outputs": [],
   "source": []
  },
  {
   "cell_type": "code",
   "execution_count": null,
   "id": "fa31c2c3",
   "metadata": {},
   "outputs": [],
   "source": []
  },
  {
   "cell_type": "code",
   "execution_count": null,
   "id": "2dea032a",
   "metadata": {},
   "outputs": [],
   "source": []
  },
  {
   "cell_type": "code",
   "execution_count": null,
   "id": "fc8bb9f4",
   "metadata": {},
   "outputs": [],
   "source": []
  },
  {
   "cell_type": "code",
   "execution_count": null,
   "id": "2b70c84d",
   "metadata": {},
   "outputs": [],
   "source": []
  },
  {
   "cell_type": "code",
   "execution_count": null,
   "id": "dcd93514",
   "metadata": {},
   "outputs": [],
   "source": []
  },
  {
   "cell_type": "code",
   "execution_count": null,
   "id": "418a1edd",
   "metadata": {},
   "outputs": [],
   "source": []
  },
  {
   "cell_type": "code",
   "execution_count": null,
   "id": "6e67cf88",
   "metadata": {},
   "outputs": [],
   "source": []
  },
  {
   "cell_type": "code",
   "execution_count": null,
   "id": "dbb7712d",
   "metadata": {},
   "outputs": [],
   "source": []
  },
  {
   "cell_type": "code",
   "execution_count": null,
   "id": "03674fac",
   "metadata": {},
   "outputs": [],
   "source": []
  },
  {
   "cell_type": "code",
   "execution_count": null,
   "id": "22f61631",
   "metadata": {},
   "outputs": [],
   "source": []
  },
  {
   "cell_type": "code",
   "execution_count": null,
   "id": "f650d197",
   "metadata": {},
   "outputs": [],
   "source": [
    "                                   💖CHARISHMA💝DEVIPRASAD💖"
   ]
  },
  {
   "cell_type": "code",
   "execution_count": null,
   "id": "35498032",
   "metadata": {},
   "outputs": [],
   "source": [
    "                                          💖CHARDEVI💖"
   ]
  }
 ],
 "metadata": {
  "kernelspec": {
   "display_name": "Python 3 (ipykernel)",
   "language": "python",
   "name": "python3"
  },
  "language_info": {
   "codemirror_mode": {
    "name": "ipython",
    "version": 3
   },
   "file_extension": ".py",
   "mimetype": "text/x-python",
   "name": "python",
   "nbconvert_exporter": "python",
   "pygments_lexer": "ipython3",
   "version": "3.9.13"
  }
 },
 "nbformat": 4,
 "nbformat_minor": 5
}
