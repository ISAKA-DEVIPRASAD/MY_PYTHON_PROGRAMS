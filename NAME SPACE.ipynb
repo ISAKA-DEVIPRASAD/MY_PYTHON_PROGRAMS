{
 "cells": [
  {
   "cell_type": "code",
   "execution_count": 2,
   "id": "f671100a",
   "metadata": {},
   "outputs": [
    {
     "name": "stdout",
     "output_type": "stream",
     "text": [
      "local:500\n",
      "global:500\n"
     ]
    }
   ],
   "source": [
    "#Global Variables\n",
    "def sample():\n",
    "    print(f'local:{z}')\n",
    "z=500\n",
    "sample()\n",
    "print(f'global:{z}')"
   ]
  },
  {
   "cell_type": "code",
   "execution_count": 6,
   "id": "51c32383",
   "metadata": {},
   "outputs": [
    {
     "name": "stdout",
     "output_type": "stream",
     "text": [
      "local:900\n"
     ]
    },
    {
     "ename": "NameError",
     "evalue": "name 'a' is not defined",
     "output_type": "error",
     "traceback": [
      "\u001b[1;31m---------------------------------------------------------------------------\u001b[0m",
      "\u001b[1;31mNameError\u001b[0m                                 Traceback (most recent call last)",
      "\u001b[1;32m~\\AppData\\Local\\Temp\\ipykernel_9320\\3998873706.py\u001b[0m in \u001b[0;36m<module>\u001b[1;34m\u001b[0m\n\u001b[0;32m      4\u001b[0m     \u001b[0mprint\u001b[0m\u001b[1;33m(\u001b[0m\u001b[1;34mf'local:{a}'\u001b[0m\u001b[1;33m)\u001b[0m\u001b[1;33m\u001b[0m\u001b[1;33m\u001b[0m\u001b[0m\n\u001b[0;32m      5\u001b[0m \u001b[0msample\u001b[0m\u001b[1;33m(\u001b[0m\u001b[1;33m)\u001b[0m\u001b[1;33m\u001b[0m\u001b[1;33m\u001b[0m\u001b[0m\n\u001b[1;32m----> 6\u001b[1;33m \u001b[0mprint\u001b[0m\u001b[1;33m(\u001b[0m\u001b[1;34mf'global:{a}'\u001b[0m\u001b[1;33m)\u001b[0m\u001b[1;33m\u001b[0m\u001b[1;33m\u001b[0m\u001b[0m\n\u001b[0m",
      "\u001b[1;31mNameError\u001b[0m: name 'a' is not defined"
     ]
    }
   ],
   "source": [
    "#Local Variables\n",
    "def sample():\n",
    "    a=900\n",
    "    print(f'local:{a}')\n",
    "sample()\n",
    "print(f'global:{a}')"
   ]
  },
  {
   "cell_type": "code",
   "execution_count": 7,
   "id": "a687ab1f",
   "metadata": {},
   "outputs": [
    {
     "name": "stdout",
     "output_type": "stream",
     "text": [
      "local:900\n",
      "global:500\n"
     ]
    }
   ],
   "source": [
    "def sample():\n",
    "    a=900\n",
    "    print(f'local:{a}')\n",
    "a=500\n",
    "sample()\n",
    "print(f'global:{a}')"
   ]
  },
  {
   "cell_type": "code",
   "execution_count": 9,
   "id": "85a5e6a0",
   "metadata": {},
   "outputs": [
    {
     "name": "stdout",
     "output_type": "stream",
     "text": [
      "one\n",
      "three\n"
     ]
    }
   ],
   "source": [
    "def outer():\n",
    "    print('one')\n",
    "    def inner():\n",
    "        print('two')\n",
    "    print('three')\n",
    "outer()"
   ]
  },
  {
   "cell_type": "code",
   "execution_count": 10,
   "id": "1b09ed55",
   "metadata": {},
   "outputs": [
    {
     "name": "stdout",
     "output_type": "stream",
     "text": [
      "one\n",
      "three\n",
      "two\n"
     ]
    }
   ],
   "source": [
    "def outer():\n",
    "    print('one')\n",
    "    def inner():\n",
    "        print('two')\n",
    "    print('three')\n",
    "    inner()\n",
    "outer()"
   ]
  },
  {
   "cell_type": "code",
   "execution_count": 15,
   "id": "9429c885",
   "metadata": {},
   "outputs": [
    {
     "name": "stdout",
     "output_type": "stream",
     "text": [
      "nonlocal:200\n",
      "local:300\n",
      "nonlocal:200\n",
      "global:500\n"
     ]
    }
   ],
   "source": [
    "def outer():\n",
    "    x=200\n",
    "    print(f'nonlocal:{x}')\n",
    "    def inner():\n",
    "        x=300\n",
    "        print(f'local:{x}')\n",
    "    inner()\n",
    "    print(f'nonlocal:{x}')\n",
    "x=500\n",
    "outer()\n",
    "print(f'global:{x}')"
   ]
  },
  {
   "cell_type": "code",
   "execution_count": 16,
   "id": "1c5cd36c",
   "metadata": {},
   "outputs": [
    {
     "name": "stdout",
     "output_type": "stream",
     "text": [
      "nonlocal:200\n",
      "local:200\n",
      "nonlocal:200\n",
      "global:500\n"
     ]
    }
   ],
   "source": [
    "def outer():\n",
    "    x=200\n",
    "    print(f'nonlocal:{x}')\n",
    "    def inner():\n",
    "        print(f'local:{x}')\n",
    "    inner()\n",
    "    print(f'nonlocal:{x}')\n",
    "x=500\n",
    "outer()\n",
    "print(f'global:{x}')"
   ]
  },
  {
   "cell_type": "code",
   "execution_count": 25,
   "id": "7a9d7461",
   "metadata": {},
   "outputs": [
    {
     "name": "stdout",
     "output_type": "stream",
     "text": [
      "nonlocal:200\n",
      "local:300\n",
      "nonlocal:200\n",
      "global:300\n"
     ]
    }
   ],
   "source": [
    "def outer():\n",
    "    x=200\n",
    "    print(f'nonlocal:{x}')\n",
    "    def inner():\n",
    "        global x\n",
    "        x=300\n",
    "        print(f'local:{x}')\n",
    "    inner()\n",
    "    print(f'nonlocal:{x}')\n",
    "x=500\n",
    "outer()\n",
    "print(f'global:{x}')"
   ]
  },
  {
   "cell_type": "code",
   "execution_count": 23,
   "id": "538509d5",
   "metadata": {},
   "outputs": [
    {
     "name": "stdout",
     "output_type": "stream",
     "text": [
      "nonlocal:200\n",
      "local:300\n",
      "nonlocal:300\n",
      "global:500\n"
     ]
    }
   ],
   "source": [
    "def outer():\n",
    "    x=200\n",
    "    print(f'nonlocal:{x}')\n",
    "    def inner():\n",
    "        nonlocal x\n",
    "        x=300\n",
    "        print(f'local:{x}')\n",
    "    inner()\n",
    "    print(f'nonlocal:{x}')\n",
    "x=500\n",
    "outer()\n",
    "print(f'global:{x}')"
   ]
  },
  {
   "cell_type": "code",
   "execution_count": null,
   "id": "116e780d",
   "metadata": {},
   "outputs": [],
   "source": [
    "                                   💖CHARISHMA💝DEVIPRASAD💖"
   ]
  },
  {
   "cell_type": "code",
   "execution_count": null,
   "id": "f55b6ee6",
   "metadata": {},
   "outputs": [],
   "source": [
    "                                          💖CHARDEVI💖"
   ]
  }
 ],
 "metadata": {
  "kernelspec": {
   "display_name": "Python 3 (ipykernel)",
   "language": "python",
   "name": "python3"
  },
  "language_info": {
   "codemirror_mode": {
    "name": "ipython",
    "version": 3
   },
   "file_extension": ".py",
   "mimetype": "text/x-python",
   "name": "python",
   "nbconvert_exporter": "python",
   "pygments_lexer": "ipython3",
   "version": "3.9.13"
  }
 },
 "nbformat": 4,
 "nbformat_minor": 5
}
