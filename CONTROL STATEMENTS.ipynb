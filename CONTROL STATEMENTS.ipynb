{
 "cells": [
  {
   "cell_type": "code",
   "execution_count": 1,
   "id": "af5ab23b",
   "metadata": {},
   "outputs": [
    {
     "name": "stdout",
     "output_type": "stream",
     "text": [
      "palyprime\n"
     ]
    }
   ],
   "source": [
    "n=11\n",
    "num=n\n",
    "R=0\n",
    "while n!=0:\n",
    "    rem=n%10\n",
    "    R=R*10+rem\n",
    "    n=n//10\n",
    "if num==R and num>1:\n",
    "    for d in range(2,num//2+1):\n",
    "        if num%d==0:\n",
    "            print('not palyprime')\n",
    "            break\n",
    "    else:\n",
    "         print('palyprime')\n",
    "else:\n",
    "    print('not palyprime')\n",
    "    "
   ]
  },
  {
   "cell_type": "code",
   "execution_count": 2,
   "id": "1d744399",
   "metadata": {
    "scrolled": true
   },
   "outputs": [
    {
     "name": "stdout",
     "output_type": "stream",
     "text": [
      "prime\n"
     ]
    }
   ],
   "source": [
    "d=7\n",
    "if d>1:\n",
    "    for z in range(2,d//2+1):\n",
    "        if d%z==0:\n",
    "            print('not prime')\n",
    "            break\n",
    "    else:\n",
    "        print('prime')\n",
    "else:print('not prime')"
   ]
  },
  {
   "cell_type": "code",
   "execution_count": 25,
   "id": "1e80c9a5",
   "metadata": {},
   "outputs": [
    {
     "name": "stdout",
     "output_type": "stream",
     "text": [
      "pallindrome\n"
     ]
    }
   ],
   "source": [
    "b=1234567654321\n",
    "num=b\n",
    "res=0\n",
    "while b!=0:\n",
    "    c=b%10\n",
    "    res=res*10+c\n",
    "    b=b//10\n",
    "    if c==res:\n",
    "        print('pallindrome')\n",
    "        break\n",
    "    else:\n",
    "        print('not pallindrome')"
   ]
  },
  {
   "cell_type": "code",
   "execution_count": 26,
   "id": "85317b0a",
   "metadata": {},
   "outputs": [
    {
     "name": "stdout",
     "output_type": "stream",
     "text": [
      "armstrong number\n"
     ]
    }
   ],
   "source": [
    "f=153\n",
    "num=f\n",
    "p=len(str(f))\n",
    "res=0\n",
    "while f!=0:\n",
    "    rem=f%10\n",
    "    res=res+rem**p\n",
    "    f=f//10\n",
    "if res==num:\n",
    "    print('armstrong number')\n",
    "else:\n",
    "    print('not armstrong number')\n"
   ]
  },
  {
   "cell_type": "code",
   "execution_count": 30,
   "id": "457365a4",
   "metadata": {},
   "outputs": [
    {
     "name": "stdout",
     "output_type": "stream",
     "text": [
      "disarum number\n"
     ]
    }
   ],
   "source": [
    "f=135\n",
    "num=f\n",
    "p=len(str(f))\n",
    "res=0\n",
    "while f!=0:\n",
    "    rem=f%10\n",
    "    res=res+rem**p\n",
    "    p=p-1\n",
    "    f=f//10\n",
    "if res==num:\n",
    "    print('disarum number')\n",
    "else:\n",
    "    print('not disarum number')\n"
   ]
  },
  {
   "cell_type": "code",
   "execution_count": null,
   "id": "3ad56b3e",
   "metadata": {},
   "outputs": [],
   "source": [
    "h=145\n",
    "num=h\n",
    "d=0\n",
    "while h!=0:\n",
    "    i=h%10\n",
    "    d=d//10\n",
    "    fact=1\n",
    "    for t in range(1,i+1):\n",
    "        fact=fact*t\n",
    "        d=d+fact\n",
    "        if num==d:\n",
    "            print('special number')\n",
    "            break\n",
    "    else:\n",
    "        print('not special number')\n",
    "        \n",
    "    \n"
   ]
  },
  {
   "cell_type": "code",
   "execution_count": 3,
   "id": "373571bb",
   "metadata": {},
   "outputs": [
    {
     "name": "stdout",
     "output_type": "stream",
     "text": [
      "26567\n"
     ]
    }
   ],
   "source": [
    "n=23537\n",
    "res=0\n",
    "p=1\n",
    "while n!=0:\n",
    "    rem=n%10\n",
    "    n//=10\n",
    "    if rem==3:\n",
    "        res=res+(6*p)\n",
    "    else:\n",
    "        res=res+(rem*p)\n",
    "    p=p*10\n",
    "print(res)"
   ]
  },
  {
   "cell_type": "code",
   "execution_count": 3,
   "id": "8dd890a8",
   "metadata": {},
   "outputs": [
    {
     "name": "stdout",
     "output_type": "stream",
     "text": [
      "1011\n"
     ]
    }
   ],
   "source": [
    "n=11\n",
    "res=0\n",
    "p=1\n",
    "while n!=0:\n",
    "    rem=n%2\n",
    "    n//=2\n",
    "    res=res+rem*p\n",
    "    p*=10\n",
    "print(res)\n",
    "    \n",
    "    "
   ]
  },
  {
   "cell_type": "code",
   "execution_count": 11,
   "id": "3cda857d",
   "metadata": {},
   "outputs": [
    {
     "name": "stdout",
     "output_type": "stream",
     "text": [
      "14\n"
     ]
    }
   ],
   "source": [
    "d=1110\n",
    "c=0\n",
    "p=0\n",
    "while d!=0:\n",
    "    n=d%10\n",
    "    d//=10\n",
    "    c=c+(n*2**p)\n",
    "    p+=1\n",
    "print(c)"
   ]
  },
  {
   "cell_type": "code",
   "execution_count": 14,
   "id": "3f34ad22",
   "metadata": {},
   "outputs": [
    {
     "name": "stdout",
     "output_type": "stream",
     "text": [
      "26567\n"
     ]
    }
   ],
   "source": [
    "c=23537\n",
    "d=0\n",
    "p=1\n",
    "while c!=0:\n",
    "    n=c%10\n",
    "    c//=10\n",
    "    if n==3:\n",
    "        n=6\n",
    "        d=d+n*p\n",
    "    else:\n",
    "        d=d+n*p\n",
    "    p*=10\n",
    "print(d)\n",
    "        "
   ]
  },
  {
   "cell_type": "code",
   "execution_count": 29,
   "id": "6b10411b",
   "metadata": {},
   "outputs": [
    {
     "name": "stdout",
     "output_type": "stream",
     "text": [
      "EDCBA\n"
     ]
    }
   ],
   "source": [
    "d='ABCDE'\n",
    "c=''\n",
    "for a in range(-1,-(len(d)+1),-1):\n",
    "    c=c+d[a]\n",
    "print(c)\n",
    "    \n",
    "    "
   ]
  },
  {
   "cell_type": "code",
   "execution_count": 39,
   "id": "5c5f22bf",
   "metadata": {},
   "outputs": [
    {
     "name": "stdout",
     "output_type": "stream",
     "text": [
      "palindrome\n"
     ]
    }
   ],
   "source": [
    "d='malayalam'\n",
    "c=''\n",
    "for r in range(-1,-(len(d)+1),-1):\n",
    "    c=c+d[r]\n",
    "if c==d:\n",
    "    print('palindrome')\n",
    "else:\n",
    "    print('not palindrome')"
   ]
  },
  {
   "cell_type": "code",
   "execution_count": 47,
   "id": "483cbd4f",
   "metadata": {},
   "outputs": [
    {
     "name": "stdout",
     "output_type": "stream",
     "text": [
      "palindrome\n"
     ]
    }
   ],
   "source": [
    "dhoni='22'\n",
    "virat=''\n",
    "for icc in range(-1,-(len(dhoni)+1),-1):\n",
    "    virat=virat+dhoni[icc]\n",
    "if virat==dhoni:\n",
    "    print('palindrome')\n",
    "else:\n",
    "    print('not palindrome')"
   ]
  },
  {
   "cell_type": "code",
   "execution_count": 1,
   "id": "f62d74d1",
   "metadata": {},
   "outputs": [
    {
     "name": "stdout",
     "output_type": "stream",
     "text": [
      "love\n"
     ]
    }
   ],
   "source": [
    "deviprasad='22-17-71-22'\n",
    "charishma=''\n",
    "for love7 in range(-1,-(len(deviprasad)+1),-1):\n",
    "    charishma=charishma+deviprasad[love7]\n",
    "if charishma==deviprasad:\n",
    "    print('love')\n",
    "else:\n",
    "    print('not love')"
   ]
  },
  {
   "cell_type": "code",
   "execution_count": 1,
   "id": "5efe35a9",
   "metadata": {},
   "outputs": [
    {
     "name": "stdout",
     "output_type": "stream",
     "text": [
      "AVENGERS\n"
     ]
    }
   ],
   "source": [
    "d='Avengers'\n",
    "res=''\n",
    "for c in range(0,len(d)):\n",
    "    if 'a'<=d[c]<='z':\n",
    "        res+=chr(ord(d[c])-32)\n",
    "    else:\n",
    "        res+=d[c]\n",
    "print(res)"
   ]
  },
  {
   "cell_type": "code",
   "execution_count": 2,
   "id": "eefcb319",
   "metadata": {},
   "outputs": [
    {
     "name": "stdout",
     "output_type": "stream",
     "text": [
      "avengers\n"
     ]
    }
   ],
   "source": [
    "d='aVengers'\n",
    "res=''\n",
    "for c in range(0,len(d)):\n",
    "    if 'A'<=d[c]<='Z':\n",
    "        res+=chr(ord(d[c])+32)\n",
    "    else:\n",
    "        res+=d[c]\n",
    "print(res)"
   ]
  },
  {
   "cell_type": "code",
   "execution_count": 6,
   "id": "d6ac14cf",
   "metadata": {},
   "outputs": [
    {
     "name": "stdout",
     "output_type": "stream",
     "text": [
      "pYtHOn@123\n"
     ]
    }
   ],
   "source": [
    "s='PyThoN@123'\n",
    "res=''\n",
    "for t in range(0,len(s)):\n",
    "    if 'a'<=s[t]<='z':\n",
    "        res+=chr(ord(s[t])-32)\n",
    "    elif 'A'<=s[t]<='Z':\n",
    "        res+=chr(ord(s[t])+32)\n",
    "    else:\n",
    "        res+=s[t]\n",
    "print(res)"
   ]
  },
  {
   "cell_type": "code",
   "execution_count": 7,
   "id": "faddd3b5",
   "metadata": {},
   "outputs": [
    {
     "name": "stdout",
     "output_type": "stream",
     "text": [
      "A\n",
      "ABCBA\n",
      "B\n",
      "BCB\n",
      "C\n",
      "B\n",
      "A\n"
     ]
    }
   ],
   "source": [
    "d='ABCBA'\n",
    "for x in range(0,len(d)):\n",
    "    for y in range(x+1,len(d)+1):\n",
    "        N=d[x:y]\n",
    "        if N==N[::-1]:\n",
    "            print(N)"
   ]
  },
  {
   "cell_type": "code",
   "execution_count": 13,
   "id": "441d415e",
   "metadata": {},
   "outputs": [
    {
     "name": "stdout",
     "output_type": "stream",
     "text": [
      "E=3\n",
      "N=3\n",
      "G=2\n",
      "I=2\n",
      "R=1\n"
     ]
    }
   ],
   "source": [
    "d='ENGINEERING'\n",
    "count=0\n",
    "pc=''\n",
    "for i in range(0,len(d)):\n",
    "    if d[i] not in pc:\n",
    "        pc+=d[i]\n",
    "        print(f'{d[i]}={d.count(d[i])}')"
   ]
  },
  {
   "cell_type": "code",
   "execution_count": 14,
   "id": "2313c5a0",
   "metadata": {},
   "outputs": [
    {
     "name": "stdout",
     "output_type": "stream",
     "text": [
      "E=3\n",
      "N=3\n",
      "G=2\n",
      "I=2\n",
      "R=1\n"
     ]
    }
   ],
   "source": [
    "c='ENGINEERING'\n",
    "d={}\n",
    "for x in range(0,len(c)):\n",
    "    if c[x] not in d:\n",
    "        d[c[x]]=1\n",
    "    else:\n",
    "        d[c[x]]+=1\n",
    "for k,v in d.items():\n",
    "    print(f'{k}={v}')"
   ]
  },
  {
   "cell_type": "code",
   "execution_count": 17,
   "id": "3fc1671e",
   "metadata": {},
   "outputs": [
    {
     "name": "stdout",
     "output_type": "stream",
     "text": [
      "['WE', 'ARE', 'GROOT']\n"
     ]
    }
   ],
   "source": [
    "s='WE ARE GROOT'\n",
    "L=[]\n",
    "ss=''\n",
    "for d in range(0,len(s)):\n",
    "    if s[d]!=' ':\n",
    "        ss+=s[d]\n",
    "    else:\n",
    "        L.append(ss)\n",
    "        ss=''\n",
    "L.append(ss)\n",
    "print(L)"
   ]
  },
  {
   "cell_type": "code",
   "execution_count": 25,
   "id": "71103955",
   "metadata": {},
   "outputs": [
    {
     "name": "stdout",
     "output_type": "stream",
     "text": [
      "9\n"
     ]
    }
   ],
   "source": [
    "d='charishma123575321'\n",
    "res=''\n",
    "digit='0123456789'\n",
    "for s in range(0,len(d)):\n",
    "    if '0'<=d[s]<='9':\n",
    "        res+=d[s]\n",
    "    else:\n",
    "        res+=d[s]\n",
    "print(count)"
   ]
  },
  {
   "cell_type": "code",
   "execution_count": 18,
   "id": "272b5861",
   "metadata": {},
   "outputs": [
    {
     "name": "stdout",
     "output_type": "stream",
     "text": [
      "123575321\n"
     ]
    }
   ],
   "source": [
    "d='charishma123575321'\n",
    "digit='0123456789'\n",
    "res=''\n",
    "for t in range(0,len(d)):\n",
    "    if d[t] in digit:\n",
    "        res+=d[t]\n",
    "print(res)\n"
   ]
  },
  {
   "cell_type": "code",
   "execution_count": 19,
   "id": "9ab0c060",
   "metadata": {},
   "outputs": [
    {
     "name": "stdout",
     "output_type": "stream",
     "text": [
      "9\n"
     ]
    }
   ],
   "source": [
    "d='pyth#$%&@!@@*123456'\n",
    "sc='`~\"\"''!@#$%^&*()_+={}[]:;><.,?/'\n",
    "count=0\n",
    "for t in range(0,len(d)):\n",
    "    if d[t] in sc:\n",
    "        count+=1\n",
    "print(count)"
   ]
  },
  {
   "cell_type": "code",
   "execution_count": 30,
   "id": "eaee0581",
   "metadata": {},
   "outputs": [
    {
     "name": "stdout",
     "output_type": "stream",
     "text": [
      "@#*!?$@#+=\n"
     ]
    }
   ],
   "source": [
    "d='Avengers@#*Assemble!?$@#forfight+='\n",
    "alp='abcdefghijklmnopqrstuvwxyzA'\n",
    "res=''\n",
    "for t in range(0,len(d)):\n",
    "    if d[t] not in alp:\n",
    "        res+=d[t]\n",
    "print(res)\n"
   ]
  },
  {
   "cell_type": "code",
   "execution_count": 25,
   "id": "a7c98698",
   "metadata": {
    "collapsed": true
   },
   "outputs": [
    {
     "name": "stdout",
     "output_type": "stream",
     "text": [
      "9\n"
     ]
    }
   ],
   "source": [
    "d='pyth#$%&@!@@*123456'\n",
    "spc='`~\"\"''!@#$%^&*()_+={}[]:;><.,?/'\n",
    "count=0\n",
    "for t in range(0,len(d)):\n",
    "    if d[t] in spc:\n",
    "        count+=1\n",
    "print(count)"
   ]
  },
  {
   "cell_type": "code",
   "execution_count": 34,
   "id": "d3e6dedf",
   "metadata": {},
   "outputs": [
    {
     "name": "stdout",
     "output_type": "stream",
     "text": [
      "[11, 12, 13, 14]\n"
     ]
    }
   ],
   "source": [
    "L=[11,12,11,12,13,11,12,14]\n",
    "res=[]\n",
    "for i in range(0,len(L)):\n",
    "    if L[i]not in res:\n",
    "        res+=[L[i]]\n",
    "print(res)"
   ]
  },
  {
   "cell_type": "code",
   "execution_count": 1,
   "id": "ffdbc479",
   "metadata": {},
   "outputs": [
    {
     "name": "stdout",
     "output_type": "stream",
     "text": [
      "10\n",
      "20\n",
      "12\n"
     ]
    }
   ],
   "source": [
    "N=[10,20,11,31,12,13,15,17]\n",
    "for d in range(0,len(N)):\n",
    "    if N[d]%2==0:\n",
    "        print(N[d])"
   ]
  },
  {
   "cell_type": "code",
   "execution_count": 2,
   "id": "91642a08",
   "metadata": {},
   "outputs": [
    {
     "name": "stdout",
     "output_type": "stream",
     "text": [
      "10\n",
      "11\n",
      "12\n",
      "15\n"
     ]
    }
   ],
   "source": [
    "N=[10,20,11,31,12,13,15,17]\n",
    "for c in range(0,len(N)):\n",
    "    if c%2==0:\n",
    "        print(N[c])"
   ]
  },
  {
   "cell_type": "code",
   "execution_count": 3,
   "id": "3451505b",
   "metadata": {},
   "outputs": [
    {
     "name": "stdout",
     "output_type": "stream",
     "text": [
      "[10, 20, 12, 16, 31, 11, 13, 17]\n"
     ]
    }
   ],
   "source": [
    "L=[10,20,31,11,12,13,16,17]\n",
    "even=[]\n",
    "odd=[]\n",
    "for d in range(0,len(L)):\n",
    "    if L[d]%2==0:\n",
    "        even.append(L[d])\n",
    "    else:\n",
    "        odd.append(L[d])\n",
    "print(even+odd)\n",
    "        "
   ]
  },
  {
   "cell_type": "code",
   "execution_count": 4,
   "id": "07a14a47",
   "metadata": {},
   "outputs": [
    {
     "name": "stdout",
     "output_type": "stream",
     "text": [
      "17\n"
     ]
    }
   ],
   "source": [
    "L=[10,15,12,17,13]\n",
    "H=L[0]\n",
    "for i in range(1,len(L)):\n",
    "    if H<L[i]:\n",
    "        H=L[i]\n",
    "print(H)"
   ]
  },
  {
   "cell_type": "code",
   "execution_count": 5,
   "id": "b495b2a2",
   "metadata": {},
   "outputs": [
    {
     "name": "stdout",
     "output_type": "stream",
     "text": [
      "[6, 7, 8, 9, 10]\n"
     ]
    }
   ],
   "source": [
    "L=[10,9,8,7,6]\n",
    "for i in range(0,len(L)-1):\n",
    "    for j in range(0,len(L)-1-i):\n",
    "        if L[j]>L[j+1]:\n",
    "            L[j],L[j+1]=L[j+1],L[j]\n",
    "print(L)"
   ]
  },
  {
   "cell_type": "code",
   "execution_count": 6,
   "id": "c93c510d",
   "metadata": {},
   "outputs": [
    {
     "name": "stdout",
     "output_type": "stream",
     "text": [
      "9\n"
     ]
    }
   ],
   "source": [
    "L=[10,9,8,7,6]\n",
    "for i in range(0,2):\n",
    "    for j in range(0,len(L)-1-i):\n",
    "        if L[j]>L[j+1]:\n",
    "            L[j],L[j+1]=L[j+1],L[j]\n",
    "print(L[-2])"
   ]
  },
  {
   "cell_type": "code",
   "execution_count": 8,
   "id": "4d8be675",
   "metadata": {},
   "outputs": [
    {
     "name": "stdout",
     "output_type": "stream",
     "text": [
      "[7, 5, 14, 13, 12, 11]\n"
     ]
    }
   ],
   "source": [
    "L=[11,12,13,14,5,7]\n",
    "for i in range(0,len(L)//2):\n",
    "    L[i],L[len(L)-1-i]=L[len(L)-1-i],L[i]\n",
    "print(L)"
   ]
  },
  {
   "cell_type": "code",
   "execution_count": 6,
   "id": "ecb66c95",
   "metadata": {},
   "outputs": [
    {
     "name": "stdout",
     "output_type": "stream",
     "text": [
      "Avengrs mbl\n"
     ]
    }
   ],
   "source": [
    "d='Avengers Assemble'\n",
    "c=''\n",
    "for x in range(0,len(d)):\n",
    "    if d[x] not in c:\n",
    "        c+=d[x]\n",
    "print(c)"
   ]
  },
  {
   "cell_type": "code",
   "execution_count": 9,
   "id": "bdf274d5",
   "metadata": {},
   "outputs": [
    {
     "name": "stdout",
     "output_type": "stream",
     "text": [
      "24\n"
     ]
    }
   ],
   "source": [
    "l=[10,24,9,12,11,17]\n",
    "h=l[0]\n",
    "for t in range(0,len(l)):\n",
    "    if h<l[t]:\n",
    "        h=l[t]\n",
    "print(h)"
   ]
  },
  {
   "cell_type": "code",
   "execution_count": 23,
   "id": "88f4177e",
   "metadata": {},
   "outputs": [
    {
     "name": "stdout",
     "output_type": "stream",
     "text": [
      "[6, 7, 8, 9, 10]\n"
     ]
    }
   ],
   "source": [
    "L=[10,9,8,7,6]\n",
    "for i in range(0,len(L)-1):\n",
    "    for j in range(0,len(L)-1-i):\n",
    "        if L[j]>L[j+1]:\n",
    "            L[j],L[j+1]=L[j+1],L[j]\n",
    "print(L)"
   ]
  },
  {
   "cell_type": "code",
   "execution_count": 30,
   "id": "1c72f5aa",
   "metadata": {},
   "outputs": [
    {
     "name": "stdout",
     "output_type": "stream",
     "text": [
      "[20, 22, 11, 37, 19, 10]\n"
     ]
    }
   ],
   "source": [
    "D=[10,19,37,11,22,20]\n",
    "for i in range(0,len(D)//2):\n",
    "    D[i],D[len(D)-1-i]=D[len(D)-1-i],D[i]\n",
    "print(D)\n",
    "        "
   ]
  },
  {
   "cell_type": "code",
   "execution_count": 32,
   "id": "8085f4eb",
   "metadata": {},
   "outputs": [
    {
     "name": "stdout",
     "output_type": "stream",
     "text": [
      "[10, 20, 12, 16, 31, 11, 13, 17]\n"
     ]
    }
   ],
   "source": [
    "f=[10,20,31,11,12,13,16,17]\n",
    "even=[]\n",
    "odd=[]\n",
    "for d in range(0,len(f)):\n",
    "    if f[d]%2==0:\n",
    "        even.append(f[d])\n",
    "    else:\n",
    "        odd.append(f[d])\n",
    "print(even+odd)"
   ]
  },
  {
   "cell_type": "code",
   "execution_count": 39,
   "id": "23f2f4c6",
   "metadata": {},
   "outputs": [
    {
     "name": "stdout",
     "output_type": "stream",
     "text": [
      "10\n",
      "20\n",
      "12\n"
     ]
    }
   ],
   "source": [
    "N=[10,20,11,31,12,13,15,17]\n",
    "for d in range(0,len(N)):\n",
    "    if N[d]%2==0:\n",
    "        print(N[d])"
   ]
  },
  {
   "cell_type": "code",
   "execution_count": 46,
   "id": "8b11fc18",
   "metadata": {},
   "outputs": [
    {
     "name": "stdout",
     "output_type": "stream",
     "text": [
      "[10, 11, 1, 12, 111, 28, 22]\n"
     ]
    }
   ],
   "source": [
    "s=[10,10,11,1,12,111,12,12,28,12,22]\n",
    "res=[]\n",
    "for g in range(0,len(s)):\n",
    "    if s[g] not in res:\n",
    "        res+=[s[g]]\n",
    "print(res)"
   ]
  },
  {
   "cell_type": "code",
   "execution_count": 54,
   "id": "9d36c1d9",
   "metadata": {},
   "outputs": [
    {
     "name": "stdout",
     "output_type": "stream",
     "text": [
      "edcba\n"
     ]
    }
   ],
   "source": [
    "a='abcde'\n",
    "res=''\n",
    "for r in range(-1,-(len(a)+1),-1):\n",
    "    res+=a[r]\n",
    "print(res)\n",
    "    "
   ]
  },
  {
   "cell_type": "code",
   "execution_count": 64,
   "id": "be4ea1fe",
   "metadata": {},
   "outputs": [
    {
     "name": "stdout",
     "output_type": "stream",
     "text": [
      "palindrome\n"
     ]
    }
   ],
   "source": [
    "e='lovevol'\n",
    "res=''\n",
    "for b in range(-1,-(len(e)+1),-1):\n",
    "    res=res+e[b]\n",
    "if res==e:\n",
    "    print('palindrome')\n",
    "else:\n",
    "    print('not palindrome')"
   ]
  },
  {
   "cell_type": "code",
   "execution_count": 69,
   "id": "939d8c1a",
   "metadata": {},
   "outputs": [
    {
     "name": "stdout",
     "output_type": "stream",
     "text": [
      "dhoni is great\n"
     ]
    }
   ],
   "source": [
    "dhoni='22'\n",
    "virat=''\n",
    "for icc in range(-1,-(len(dhoni)+1),-1):\n",
    "    virat+=dhoni[icc]\n",
    "if virat==dhoni:\n",
    "    print('dhoni is great')\n",
    "else:\n",
    "    print('virat is great')"
   ]
  },
  {
   "cell_type": "code",
   "execution_count": 75,
   "id": "1bcb3766",
   "metadata": {},
   "outputs": [
    {
     "name": "stdout",
     "output_type": "stream",
     "text": [
      "Aeeaee\n"
     ]
    }
   ],
   "source": [
    "d='AvengersasseMle'\n",
    "vow='AEIOUaeiou'\n",
    "res=''\n",
    "for k in range(0,len(d)):\n",
    "    if d[k] in vow:\n",
    "        res+=d[k]\n",
    "print(res)"
   ]
  },
  {
   "cell_type": "code",
   "execution_count": 85,
   "id": "ba5d0947",
   "metadata": {},
   "outputs": [
    {
     "name": "stdout",
     "output_type": "stream",
     "text": [
      "AeeAeE\n"
     ]
    }
   ],
   "source": [
    "d='AvengersAssemlE'\n",
    "vow='AEIOUaeiou'\n",
    "res=''\n",
    "for g in d:\n",
    "    if g in vow:\n",
    "        res+=g\n",
    "print(res)"
   ]
  },
  {
   "cell_type": "code",
   "execution_count": 6,
   "id": "dcd8a56b",
   "metadata": {},
   "outputs": [
    {
     "name": "stdout",
     "output_type": "stream",
     "text": [
      "11\n"
     ]
    }
   ],
   "source": [
    "L=[20,22,29,30,11,13,25]\n",
    "H=L[0]\n",
    "for x in range(1,len(L)):\n",
    "    if H>L[x]:\n",
    "        H=L[x]\n",
    "print(H)"
   ]
  },
  {
   "cell_type": "code",
   "execution_count": 11,
   "id": "42dcff1e",
   "metadata": {},
   "outputs": [
    {
     "name": "stdout",
     "output_type": "stream",
     "text": [
      "7\n"
     ]
    }
   ],
   "source": [
    "D=[29,17,15,7,11,5,22]\n",
    "for x in range(0,2):\n",
    "    for y in range(0,len(D)-1-x):\n",
    "        if D[y]<D[y+1]:\n",
    "            D[y],D[y+1]=D[y+1],D[y]\n",
    "print(D[-2])"
   ]
  },
  {
   "cell_type": "code",
   "execution_count": 13,
   "id": "087e24c7",
   "metadata": {},
   "outputs": [
    {
     "name": "stdout",
     "output_type": "stream",
     "text": [
      "[10, 12, 15, 16, 19, 21]\n"
     ]
    }
   ],
   "source": [
    "L=[21,12,15,10,19,16]\n",
    "for x in range(0,4):\n",
    "    mi=x\n",
    "    for y in range(x+1,len(L)):\n",
    "        if L[mi]>L[y]:\n",
    "            mi=y\n",
    "    L[x],L[mi]=L[mi],L[x]\n",
    "print(L)"
   ]
  },
  {
   "cell_type": "code",
   "execution_count": 5,
   "id": "f84f88e0",
   "metadata": {},
   "outputs": [
    {
     "name": "stdout",
     "output_type": "stream",
     "text": [
      "E\n",
      "N\n"
     ]
    }
   ],
   "source": [
    "S='ENGINEERING'\n",
    "D={}\n",
    "for i in range(0,len(S)):\n",
    "    if S[i] not in D:\n",
    "        D[S[i]]=1\n",
    "    else:\n",
    "        D[S[i]]+=1\n",
    "val=list(D.values())\n",
    "H=val[0]\n",
    "for i in range(1,len(val)):\n",
    "    if H<val[i]:\n",
    "        H=val[i]\n",
    "for k,v in D.items():\n",
    "    if H==v:\n",
    "        print(k)"
   ]
  },
  {
   "cell_type": "code",
   "execution_count": 41,
   "id": "7e42fa75",
   "metadata": {},
   "outputs": [
    {
     "name": "stdout",
     "output_type": "stream",
     "text": [
      "2\n",
      "2\n"
     ]
    }
   ],
   "source": [
    "S='WE WANT TO ATTEND CLASS EVERYDAY BECAUSE WE WANT JOB SOON'\n",
    "L=S.split()\n",
    "D={}\n",
    "for i in range(0,len(L)):\n",
    "    if L[i] not in D:\n",
    "        D[L[i]]=1\n",
    "    else:\n",
    "        D[L[i]]+=1\n",
    "val=list(D.values())\n",
    "H=val[0]\n",
    "for i in range(1,len(val)):\n",
    "    if H<val[i]:\n",
    "        H=val[i]\n",
    "for k,v in D.items():\n",
    "    if H==v:\n",
    "        print(H)"
   ]
  },
  {
   "cell_type": "code",
   "execution_count": 75,
   "id": "1f8da164",
   "metadata": {},
   "outputs": [
    {
     "name": "stdout",
     "output_type": "stream",
     "text": [
      "WE\n",
      "WANT\n"
     ]
    }
   ],
   "source": [
    "S='WE WANT TO ATTEND CLASS EVERYDAY BECAUSE WE WANT JOB SOON'\n",
    "L=S.split()\n",
    "D={}\n",
    "for i in range(0,len(L)):\n",
    "    if L[i] not in D:\n",
    "        D[L[i]]=1\n",
    "    else:\n",
    "        D[L[i]]+=1\n",
    "val=list(D.values())\n",
    "H=val[0]\n",
    "for i in range(1,len(val)):\n",
    "    if H<val[i]:\n",
    "        H=val[i]\n",
    "for k,v in D.items():\n",
    "    if H==v:\n",
    "        print(k)"
   ]
  },
  {
   "cell_type": "code",
   "execution_count": 125,
   "id": "3aa99cba",
   "metadata": {},
   "outputs": [
    {
     "name": "stdout",
     "output_type": "stream",
     "text": [
      "EVERYDAY\n",
      "EVERYDAY\n"
     ]
    }
   ],
   "source": [
    "S='WE WANT TO ATTEND CLASS EVERYDAY BECAUSE WE WANT JOB SOON'\n",
    "L=S.split()\n",
    "D={}\n",
    "for i in range(0,len(L)):\n",
    "    if L[i] not in D:\n",
    "        D[L[i]]=1\n",
    "    else:\n",
    "        D[L[i]]+=1\n",
    "for i in range(1,len(val)):\n",
    "    if H<val[i]:\n",
    "        H=val[i]\n",
    "for k,v in D.items():\n",
    "    if H==v:\n",
    "        print(L[5])"
   ]
  },
  {
   "cell_type": "code",
   "execution_count": 107,
   "id": "34ab359b",
   "metadata": {},
   "outputs": [
    {
     "name": "stdout",
     "output_type": "stream",
     "text": [
      "11\n",
      "22\n"
     ]
    }
   ],
   "source": [
    "S=[11,12,13,12,12,22,13,18,19,18,17,17,19]\n",
    "D={}\n",
    "for i in range(0,len(S)):\n",
    "    if S[i] not in D:\n",
    "        D[S[i]]=1\n",
    "    else:\n",
    "        D[S[i]]+=1\n",
    "for k,v in D.items():\n",
    "    if v==1:\n",
    "        print(k)"
   ]
  },
  {
   "cell_type": "code",
   "execution_count": 13,
   "id": "a25f5298",
   "metadata": {},
   "outputs": [
    {
     "name": "stdout",
     "output_type": "stream",
     "text": [
      "22\n"
     ]
    }
   ],
   "source": [
    "c=[10,11,12,22,12,14,10,10,11,11,11,14]\n",
    "d={}\n",
    "for b in range(0,len(c)):\n",
    "    if c[b] not in d:\n",
    "        d[c[b]]=1\n",
    "    else:\n",
    "        d[c[b]]+=1\n",
    "val=list(d.values())\n",
    "H=val[0]\n",
    "for b in range(1,len(val)):\n",
    "    if H>val[b]:\n",
    "        H=val[b]\n",
    "for k,v in d.items():\n",
    "    if H==v:\n",
    "        print(k)"
   ]
  },
  {
   "cell_type": "code",
   "execution_count": 3,
   "id": "86a307d7",
   "metadata": {},
   "outputs": [
    {
     "name": "stdout",
     "output_type": "stream",
     "text": [
      "EVERYDAY\n"
     ]
    }
   ],
   "source": [
    "S='WE WANT TO  ATTEND CLASS EVERYDAY BECAUSE WE WANT JOB SOON'\n",
    "L=S.split()\n",
    "D={}\n",
    "for x in range(0,len(L)):\n",
    "    if L[x] not in D:\n",
    "        D[L[x]]=len(L[x])\n",
    "val=list(D.values())\n",
    "H=val[0]\n",
    "for x in range(1,len(val)):\n",
    "    if H<val[x]:\n",
    "        H=val[x]\n",
    "for k,v in D.items():\n",
    "    if H==v:\n",
    "        print(k)"
   ]
  },
  {
   "cell_type": "code",
   "execution_count": 4,
   "id": "3197e767",
   "metadata": {},
   "outputs": [
    {
     "name": "stdout",
     "output_type": "stream",
     "text": [
      "[10, 7, 8, 5, 7, 11, 0, 0, 0]\n"
     ]
    }
   ],
   "source": [
    "x=[10,0,7,8,0,5,0,7,11]\n",
    "for y in range(0,len(x)-1):\n",
    "    for z in range(y+1,len(x)-1-y):\n",
    "        if x[z]==0:\n",
    "            x[z],x[z+1]=x[z+1],x[z]\n",
    "print(x)"
   ]
  },
  {
   "cell_type": "code",
   "execution_count": 6,
   "id": "39197b6f",
   "metadata": {},
   "outputs": [
    {
     "name": "stdout",
     "output_type": "stream",
     "text": [
      "[10, 7, 8, 5, 7, 11, 0, 0, 0]\n"
     ]
    }
   ],
   "source": [
    "x=[10,0,7,8,0,5,0,7,11]\n",
    "count=0\n",
    "for s in range(0,len(x)):\n",
    "    if x[s]!=0:\n",
    "        x[count],x[s]=x[s],x[count]\n",
    "        count+=1\n",
    "print(x)"
   ]
  },
  {
   "cell_type": "code",
   "execution_count": 13,
   "id": "a94aa72e",
   "metadata": {},
   "outputs": [
    {
     "name": "stdout",
     "output_type": "stream",
     "text": [
      "[10, 7, 8, 5, 7, 11, 0, 0, 0]\n"
     ]
    }
   ],
   "source": [
    "x=[10,0,7,8,0,5,0,7,11]\n",
    "y=[]\n",
    "z=[]\n",
    "for c in range(0,len(x)):\n",
    "    if x[c]==0:\n",
    "        z.append(x[c])\n",
    "    else:\n",
    "        y.append(x[c])\n",
    "print(y+z)"
   ]
  },
  {
   "cell_type": "code",
   "execution_count": 17,
   "id": "d84635be",
   "metadata": {},
   "outputs": [
    {
     "name": "stdout",
     "output_type": "stream",
     "text": [
      "MOCK ATTEND TO WANT WE\n"
     ]
    }
   ],
   "source": [
    "S='WE WANT TO ATTEND MOCK'\n",
    "L=S.split()\n",
    "for i in range(0,len(L)//2):\n",
    "    L[i],L[len(L)-1-i]=L[len(L)-1-i],L[i]\n",
    "res=' '.join(L)\n",
    "print(res)"
   ]
  },
  {
   "cell_type": "code",
   "execution_count": 24,
   "id": "1cc6de1e",
   "metadata": {},
   "outputs": [
    {
     "name": "stdout",
     "output_type": "stream",
     "text": [
      "EW TNAW OT DNETTA KCOM\n"
     ]
    }
   ],
   "source": [
    "S='WE WANT TO ATTEND MOCK'\n",
    "L=S.split()\n",
    "for i in range(0,len(L)):\n",
    "    L[i]=L[i][::-1]\n",
    "res=' '.join(L)\n",
    "print(res)"
   ]
  },
  {
   "cell_type": "code",
   "execution_count": 29,
   "id": "8a5a9848",
   "metadata": {},
   "outputs": [
    {
     "name": "stdout",
     "output_type": "stream",
     "text": [
      "3a2b4c1b2a1f\n"
     ]
    }
   ],
   "source": [
    "s='aaabbccccbaaf'\n",
    "res=''\n",
    "count=1\n",
    "for i in range(0,len(s)-1):\n",
    "    if s[i]==s[i+1]:\n",
    "        count+=1\n",
    "    else:\n",
    "        res+=str(count)+s[i]\n",
    "        count=1\n",
    "res+=str(count)+s[i+1]\n",
    "print(res)"
   ]
  },
  {
   "cell_type": "code",
   "execution_count": 41,
   "id": "c86d8af6",
   "metadata": {},
   "outputs": [
    {
     "name": "stdout",
     "output_type": "stream",
     "text": [
      "vcratkohlc\n"
     ]
    }
   ],
   "source": [
    "d='viratkohli'\n",
    "res=''\n",
    "for i in range(0,len(d)):\n",
    "    if d[i]=='i':\n",
    "        res+='c'\n",
    "    else:\n",
    "        res+=d[i]\n",
    "print(res)"
   ]
  },
  {
   "cell_type": "code",
   "execution_count": 8,
   "id": "c8cff50e",
   "metadata": {},
   "outputs": [
    {
     "name": "stdout",
     "output_type": "stream",
     "text": [
      "0\n",
      "4\n",
      "6\n"
     ]
    }
   ],
   "source": [
    "d='abcdabaefg'\n",
    "ch='a'\n",
    "for i in range(0,len(d)):\n",
    "    if d[i]==ch:\n",
    "        print(i)"
   ]
  },
  {
   "cell_type": "code",
   "execution_count": 6,
   "id": "851b5451",
   "metadata": {},
   "outputs": [
    {
     "name": "stdout",
     "output_type": "stream",
     "text": [
      "good afternoon\n",
      "x:100\n"
     ]
    }
   ],
   "source": [
    "def wish():\n",
    "    print('good afternoon')\n",
    "    return 100\n",
    "\n",
    "x=wish()\n",
    "print(f'x:{x}')"
   ]
  },
  {
   "cell_type": "code",
   "execution_count": 14,
   "id": "9ae68d15",
   "metadata": {},
   "outputs": [
    {
     "name": "stdout",
     "output_type": "stream",
     "text": [
      "60\n",
      "3\n",
      "1500\n"
     ]
    }
   ],
   "source": [
    "def sum(a,b,c):\n",
    "    return a+b+c\n",
    "print(sum(10,20,30))\n",
    "print(sum(1,2,0))\n",
    "print(sum(100,500,900))"
   ]
  },
  {
   "cell_type": "code",
   "execution_count": 23,
   "id": "2ec183fb",
   "metadata": {},
   "outputs": [
    {
     "name": "stdout",
     "output_type": "stream",
     "text": [
      "good morning\n",
      "d:22\n"
     ]
    }
   ],
   "source": [
    "def devi():\n",
    "    print('good morning')\n",
    "    return 22\n",
    "d=devi()\n",
    "print(f'd:{d}')"
   ]
  },
  {
   "cell_type": "code",
   "execution_count": 24,
   "id": "262912ff",
   "metadata": {},
   "outputs": [
    {
     "name": "stdout",
     "output_type": "stream",
     "text": [
      "e\n",
      "n\n"
     ]
    }
   ],
   "source": [
    "s='engineering'\n",
    "d={}\n",
    "for i in range(0,len(s)):\n",
    "    if s[i] not in d:\n",
    "        d[s[i]]=1\n",
    "    else:\n",
    "        d[s[i]]=d[s[i]]+1\n",
    "val=list(d.values())\n",
    "h=val[0]\n",
    "for i in range(1,len(val)):\n",
    "    if h<val[i]:\n",
    "        h=val[i]\n",
    "for k,v in d.items():\n",
    "    if h==v:\n",
    "        print(k)"
   ]
  },
  {
   "cell_type": "code",
   "execution_count": 4,
   "id": "ec3c67c9",
   "metadata": {},
   "outputs": [
    {
     "name": "stdout",
     "output_type": "stream",
     "text": [
      "everyday\n"
     ]
    }
   ],
   "source": [
    "s='we want to attend class everyday because we want job soon'\n",
    "l=s.split()\n",
    "d={}\n",
    "for i in range(0,len(l)):\n",
    "    if l[i] not in d:\n",
    "        d[l[i]]=len(l[i])\n",
    "val=list(d.values())\n",
    "h=val[0]\n",
    "for i in range(1,len(val)):\n",
    "    if h<val[i]:\n",
    "        h=val[i]\n",
    "for k,v in d.items():\n",
    "    if h==v:\n",
    "        print(k)\n",
    "    "
   ]
  },
  {
   "cell_type": "code",
   "execution_count": 39,
   "id": "77ad515e",
   "metadata": {},
   "outputs": [
    {
     "data": {
      "text/plain": [
       "321"
      ]
     },
     "execution_count": 39,
     "metadata": {},
     "output_type": "execute_result"
    }
   ],
   "source": [
    "32*10+1"
   ]
  },
  {
   "cell_type": "code",
   "execution_count": 32,
   "id": "c7cbe51d",
   "metadata": {},
   "outputs": [
    {
     "name": "stdout",
     "output_type": "stream",
     "text": [
      "palindrome\n"
     ]
    }
   ],
   "source": [
    "w=121\n",
    "num=w\n",
    "res=0\n",
    "while w!=0:\n",
    "    rem=w%10\n",
    "    w=w//10\n",
    "    res=res*10+rem\n",
    "    if rem==res:\n",
    "        print('palindrome')\n",
    "        break\n",
    "    else:\n",
    "        print('not palindrome')"
   ]
  },
  {
   "cell_type": "code",
   "execution_count": 46,
   "id": "b491ea47",
   "metadata": {},
   "outputs": [
    {
     "name": "stdout",
     "output_type": "stream",
     "text": [
      "palyprime\n"
     ]
    }
   ],
   "source": [
    "n=121\n",
    "num=n\n",
    "res=0\n",
    "while n!=0:\n",
    "    rem=n%10\n",
    "    res=res*10+rem\n",
    "    n=n//10\n",
    "if num==res and num>1:\n",
    "    for d in range(2,n//2+1):\n",
    "        if num%d==0:\n",
    "            print('not palyprime')\n",
    "            break\n",
    "    else:\n",
    "        print('palyprime')\n",
    "else:\n",
    "    print('not palyprime')"
   ]
  },
  {
   "cell_type": "code",
   "execution_count": 16,
   "id": "b8da4986",
   "metadata": {},
   "outputs": [
    {
     "name": "stdout",
     "output_type": "stream",
     "text": [
      "enter value of N:7\n",
      "Prime Number\n"
     ]
    }
   ],
   "source": [
    "def Prime(num):\n",
    "    if num<=1:\n",
    "        return False\n",
    "    for i in range(2,num//2+1):\n",
    "        if num%i==0:\n",
    "            return False\n",
    "    return True\n",
    "N=int(input('enter value of N:'))\n",
    "if Prime(N):\n",
    "    print('Prime Number')\n",
    "else:\n",
    "    print('not Prime Number')"
   ]
  },
  {
   "cell_type": "code",
   "execution_count": 18,
   "id": "715d91d8",
   "metadata": {},
   "outputs": [
    {
     "name": "stdout",
     "output_type": "stream",
     "text": [
      "2\n",
      "3\n",
      "5\n",
      "7\n",
      "11\n",
      "13\n",
      "17\n",
      "19\n"
     ]
    }
   ],
   "source": [
    "def Prime(N):\n",
    "    if N<=1:\n",
    "        return False\n",
    "    for x in range(2,N//2+1):\n",
    "        if N%x==0:\n",
    "            return False\n",
    "    return True\n",
    "for i in range(1,21):\n",
    "    if Prime(i):\n",
    "        print(i)"
   ]
  },
  {
   "cell_type": "code",
   "execution_count": 3,
   "id": "283e71e6",
   "metadata": {},
   "outputs": [
    {
     "name": "stdout",
     "output_type": "stream",
     "text": [
      "321\n"
     ]
    }
   ],
   "source": [
    "def RevNum(n):\n",
    "    res=0\n",
    "    while n!=0:\n",
    "        rem=n%10\n",
    "        res=res*10+rem\n",
    "        n=n//10\n",
    "    return res\n",
    "R=RevNum(123)\n",
    "print(R)"
   ]
  },
  {
   "cell_type": "code",
   "execution_count": 13,
   "id": "68622c0e",
   "metadata": {},
   "outputs": [
    {
     "name": "stdout",
     "output_type": "stream",
     "text": [
      "enter value of N:11\n",
      "palyprime\n"
     ]
    }
   ],
   "source": [
    "def Prime(n):\n",
    "    if n<=1:\n",
    "        return False\n",
    "    for i in range(2,n//2+1):\n",
    "        if n%i==0:\n",
    "            return False\n",
    "    return True\n",
    "def RevNum(M):\n",
    "    res=0\n",
    "    while M!=0:\n",
    "        rem=M%10\n",
    "        res=res*10+rem\n",
    "        M=M//10\n",
    "    return res\n",
    "N=int(input('enter value of N:'))\n",
    "R=RevNum(N)\n",
    "if R==N and Prime(N):\n",
    "    print('palyprime')\n",
    "else:\n",
    "    print('not palyprime')"
   ]
  },
  {
   "cell_type": "code",
   "execution_count": 16,
   "id": "fc295db5",
   "metadata": {},
   "outputs": [
    {
     "name": "stdout",
     "output_type": "stream",
     "text": [
      "enter value of N:13\n",
      "EMIRP\n"
     ]
    }
   ],
   "source": [
    "def Prime(num):\n",
    "    if num<=1:\n",
    "        return False\n",
    "    for i in range(2,num//2+1):\n",
    "        if num%i==0:\n",
    "            return False\n",
    "    return True\n",
    "def RevNum(x):\n",
    "    res=0\n",
    "    while x!=0:\n",
    "        rem=x%10\n",
    "        res=res*10+rem\n",
    "        x=x//10\n",
    "    return res\n",
    "N=int(input('enter value of N:'))\n",
    "R=RevNum(N)\n",
    "if N!=R and Prime(N) and Prime(R):\n",
    "    print('EMIRP')\n",
    "else:\n",
    "    print('NOT EMIRP')"
   ]
  },
  {
   "cell_type": "code",
   "execution_count": 17,
   "id": "dbef3f46",
   "metadata": {},
   "outputs": [
    {
     "name": "stdout",
     "output_type": "stream",
     "text": [
      "enter value of P:7\n",
      "5040\n"
     ]
    }
   ],
   "source": [
    "def Factorial(N):\n",
    "    fact=1\n",
    "    for i in range(1,N+1):\n",
    "        fact=fact*i\n",
    "    return fact\n",
    "P=int(input('enter value of P:'))\n",
    "x=Factorial(P)\n",
    "print(x)"
   ]
  },
  {
   "cell_type": "code",
   "execution_count": 6,
   "id": "2f6e42a2",
   "metadata": {},
   "outputs": [
    {
     "name": "stdout",
     "output_type": "stream",
     "text": [
      "enter value of P:7\n",
      "5040\n",
      "special number\n"
     ]
    }
   ],
   "source": [
    "def Factorial(N):\n",
    "    fact=1\n",
    "    for i in range(1,N+1):\n",
    "        fact=fact*i\n",
    "    return fact\n",
    "P=int(input('enter value of P:'))\n",
    "x=Factorial(P)\n",
    "print(x)\n",
    "def Special(N):\n",
    "    res=0\n",
    "    while N!=0:\n",
    "        rem=N%10\n",
    "        res=res+Factorial(rem)\n",
    "        N=N//10\n",
    "    return res\n",
    "num=145\n",
    "R=Special(num)\n",
    "if num==R:\n",
    "    print('special number')\n",
    "else:\n",
    "    print('not special number')"
   ]
  },
  {
   "cell_type": "code",
   "execution_count": 4,
   "id": "998f4fef",
   "metadata": {},
   "outputs": [
    {
     "name": "stdout",
     "output_type": "stream",
     "text": [
      "enter value of P:7\n",
      "5040\n"
     ]
    }
   ],
   "source": [
    "def Factorial(N):\n",
    "    fact=1\n",
    "    for i in range(1,N+1):\n",
    "        fact=fact*i\n",
    "    return fact\n",
    "P=int(input('enter value of P:'))\n",
    "x=Factorial(P)\n",
    "print(x)"
   ]
  },
  {
   "cell_type": "code",
   "execution_count": 5,
   "id": "32a14fc2",
   "metadata": {},
   "outputs": [
    {
     "name": "stdout",
     "output_type": "stream",
     "text": [
      "special number\n"
     ]
    }
   ],
   "source": [
    "def Special(N):\n",
    "    res=0\n",
    "    while N!=0:\n",
    "        rem=N%10\n",
    "        res=res+Factorial(rem)\n",
    "        N=N//10\n",
    "    return res\n",
    "num=145\n",
    "R=Special(num)\n",
    "if num==R:\n",
    "    print('special number')\n",
    "else:\n",
    "    print('not special number')"
   ]
  },
  {
   "cell_type": "code",
   "execution_count": 19,
   "id": "38af7f53",
   "metadata": {},
   "outputs": [
    {
     "name": "stdout",
     "output_type": "stream",
     "text": [
      "120\n"
     ]
    }
   ],
   "source": [
    "n=5\n",
    "fact=1\n",
    "for h in range(1,n//1+1):\n",
    "    fact=fact*h\n",
    "print(fact)"
   ]
  },
  {
   "cell_type": "code",
   "execution_count": 14,
   "id": "ee2a6780",
   "metadata": {},
   "outputs": [
    {
     "name": "stdout",
     "output_type": "stream",
     "text": [
      "1\n",
      "2\n",
      "5\n",
      "10\n"
     ]
    }
   ],
   "source": [
    "n=10\n",
    "for i in range(1,n//1+1):\n",
    "    if n%i==0:\n",
    "        print(i)"
   ]
  },
  {
   "cell_type": "code",
   "execution_count": 8,
   "id": "78a4230b",
   "metadata": {},
   "outputs": [
    {
     "name": "stdout",
     "output_type": "stream",
     "text": [
      "enter value of n:132\n",
      "132 is niven number\n"
     ]
    }
   ],
   "source": [
    "n=int(input('enter value of n:'))\n",
    "num=n\n",
    "res=0\n",
    "while n>0:\n",
    "    rem=n%10\n",
    "    res=res+rem\n",
    "    n=n//10\n",
    "if num%res==0:\n",
    "    print(f'{num} is niven number')\n",
    "else:\n",
    "    print(f'{num} is not niven number')"
   ]
  },
  {
   "cell_type": "code",
   "execution_count": 26,
   "id": "4e13e6ec",
   "metadata": {},
   "outputs": [
    {
     "name": "stdout",
     "output_type": "stream",
     "text": [
      "enter value of D:132\n",
      "niven\n"
     ]
    }
   ],
   "source": [
    "def Niven(x):\n",
    "    res=0\n",
    "    while x!=0:\n",
    "        rem=x%10\n",
    "        res=res+rem\n",
    "        x=x//10\n",
    "    return res\n",
    "D=int(input('enter value of D:'))\n",
    "W=Niven(D)\n",
    "if D%W==0:\n",
    "    print('niven')\n",
    "else:\n",
    "    print('not niven')"
   ]
  },
  {
   "cell_type": "code",
   "execution_count": 5,
   "id": "e7812ac5",
   "metadata": {},
   "outputs": [
    {
     "name": "stdout",
     "output_type": "stream",
     "text": [
      "enter value of n:929\n",
      "palindrome\n"
     ]
    }
   ],
   "source": [
    "def Rev_num(b):\n",
    "    res=0\n",
    "    while b!=0:\n",
    "        rem=b%10\n",
    "        b=b//10\n",
    "        res=res*10+rem\n",
    "    return res\n",
    "n=int(input('enter value of n:'))\n",
    "if n==Rev_num(n):\n",
    "    print('palindrome')\n",
    "else:\n",
    "    print('not palindrome')"
   ]
  },
  {
   "cell_type": "code",
   "execution_count": 9,
   "id": "e4a0e3fb",
   "metadata": {},
   "outputs": [
    {
     "name": "stdout",
     "output_type": "stream",
     "text": [
      "2\n",
      "3\n",
      "5\n",
      "7\n",
      "11\n",
      "13\n",
      "17\n",
      "19\n",
      "23\n",
      "29\n",
      "31\n",
      "37\n",
      "41\n",
      "43\n",
      "47\n"
     ]
    }
   ],
   "source": [
    "def Prime(d):\n",
    "    if d<=1:\n",
    "        return False\n",
    "    for z in range(2,d//2+1):\n",
    "        if d%z==0:\n",
    "            return False\n",
    "    return True\n",
    "for y in range(1,51):\n",
    "    if Prime(y):\n",
    "        print(y)"
   ]
  },
  {
   "cell_type": "code",
   "execution_count": 14,
   "id": "91f95370",
   "metadata": {},
   "outputs": [
    {
     "name": "stdout",
     "output_type": "stream",
     "text": [
      "enter value of n:153\n",
      "armstrong number\n"
     ]
    }
   ],
   "source": [
    "def Armstrong(d):\n",
    "    res=0\n",
    "    p=len(str(d))\n",
    "    while d!=0:\n",
    "        rem=d%10\n",
    "        d=d//10\n",
    "        res=res+rem**p\n",
    "    return res\n",
    "n=int(input('enter value of n:'))\n",
    "if n==Armstrong(n):\n",
    "    print('armstrong number')\n",
    "else:\n",
    "    print('not armstrong number')"
   ]
  },
  {
   "cell_type": "code",
   "execution_count": 17,
   "id": "950b563d",
   "metadata": {},
   "outputs": [
    {
     "name": "stdout",
     "output_type": "stream",
     "text": [
      "enter value of n:135\n",
      "disarum number\n"
     ]
    }
   ],
   "source": [
    "def Disarum(d):\n",
    "    res=0\n",
    "    p=len(str(d))\n",
    "    while d!=0:\n",
    "        rem=d%10\n",
    "        d=d//10\n",
    "        res=res+rem**p\n",
    "        p=p-1\n",
    "    return res\n",
    "n=int(input('enter value of n:'))\n",
    "if n==Disarum(n):\n",
    "    print('disarum number')\n",
    "else:\n",
    "    print('not disarum number')"
   ]
  },
  {
   "cell_type": "code",
   "execution_count": 4,
   "id": "66c3f8a9",
   "metadata": {},
   "outputs": [
    {
     "name": "stdout",
     "output_type": "stream",
     "text": [
      "enter value of n:124\n",
      "sum of 124 is 7\n"
     ]
    }
   ],
   "source": [
    "def Add(d):\n",
    "    res=0\n",
    "    while d!=0:\n",
    "        rem=d%10\n",
    "        res+=rem\n",
    "        d//=10\n",
    "    return res\n",
    "n=int(input('enter value of n:'))\n",
    "A=Add(n)\n",
    "print((f'sum of {n} is {A}'))"
   ]
  },
  {
   "cell_type": "code",
   "execution_count": 3,
   "id": "03b5d7f4",
   "metadata": {},
   "outputs": [
    {
     "name": "stdout",
     "output_type": "stream",
     "text": [
      "enter value of n:117\n",
      " product of 117 is 7\n"
     ]
    }
   ],
   "source": [
    "def Product(d):\n",
    "    res=1\n",
    "    while d!=0:\n",
    "        rem=d%10\n",
    "        res*=rem\n",
    "        d//=10\n",
    "    return res\n",
    "n=int(input('enter value of n:'))\n",
    "P=Product(n)\n",
    "print(f' product of {n} is {P}')"
   ]
  },
  {
   "cell_type": "code",
   "execution_count": 3,
   "id": "f2dca588",
   "metadata": {},
   "outputs": [
    {
     "name": "stdout",
     "output_type": "stream",
     "text": [
      "10\n",
      "9\n",
      "8\n",
      "7\n",
      "6\n",
      "5\n",
      "4\n",
      "3\n",
      "2\n",
      "1\n"
     ]
    }
   ],
   "source": [
    "def Print_Num(n):\n",
    "    if n==0:\n",
    "        return\n",
    "    print(n)\n",
    "    Print_Num(n-1)\n",
    "Print_Num(10)"
   ]
  },
  {
   "cell_type": "code",
   "execution_count": 3,
   "id": "a5decb4f",
   "metadata": {},
   "outputs": [
    {
     "name": "stdout",
     "output_type": "stream",
     "text": [
      "29\n"
     ]
    }
   ],
   "source": [
    "def SumDig(n):\n",
    "    if n==0:\n",
    "        return 0\n",
    "    return n%10+SumDig(n//10)\n",
    "print(SumDig(234677))"
   ]
  },
  {
   "cell_type": "code",
   "execution_count": 4,
   "id": "58554069",
   "metadata": {},
   "outputs": [
    {
     "name": "stdout",
     "output_type": "stream",
     "text": [
      "120\n"
     ]
    }
   ],
   "source": [
    "def Factorial(n):\n",
    "    if n==0 or n==1:\n",
    "        return 1\n",
    "    return n*Factorial(n-1)\n",
    "print(Factorial(5))"
   ]
  },
  {
   "cell_type": "code",
   "execution_count": 9,
   "id": "493c81b2",
   "metadata": {},
   "outputs": [
    {
     "name": "stdout",
     "output_type": "stream",
     "text": [
      "NOHTYP\n"
     ]
    }
   ],
   "source": [
    "def RevStr(i):\n",
    "    if i==-(len(s)+1):\n",
    "        return ''\n",
    "    return s[i]+RevStr(i-1)\n",
    "s='PYTHON'\n",
    "print(RevStr(-1))"
   ]
  },
  {
   "cell_type": "code",
   "execution_count": 10,
   "id": "c599bb14",
   "metadata": {},
   "outputs": [
    {
     "name": "stdout",
     "output_type": "stream",
     "text": [
      "enter value of X:10\n",
      "34\n"
     ]
    }
   ],
   "source": [
    "def Fib(n):\n",
    "    f,s=0,1\n",
    "    if n==1 or n==2:\n",
    "        return n-1\n",
    "    for i in range(0,n-2):\n",
    "        t=f+s\n",
    "        f,s=s,t\n",
    "    return t\n",
    "X=int(input('enter value of X:'))\n",
    "print(Fib(X))"
   ]
  },
  {
   "cell_type": "code",
   "execution_count": 11,
   "id": "dc50f313",
   "metadata": {},
   "outputs": [
    {
     "name": "stdout",
     "output_type": "stream",
     "text": [
      "0 1 1 2 3 5 8 13 21 34 "
     ]
    }
   ],
   "source": [
    "def Fib(n):\n",
    "    f,s=0,1\n",
    "    if n==1 or n==2:\n",
    "        return n-1\n",
    "    for i in range(0,n-2):\n",
    "        t=f+s\n",
    "        f,s=s,t\n",
    "    return t\n",
    "for i in range(1,11):\n",
    "    print(Fib(i),end=' ')"
   ]
  },
  {
   "cell_type": "code",
   "execution_count": 12,
   "id": "1f908357",
   "metadata": {},
   "outputs": [
    {
     "name": "stdout",
     "output_type": "stream",
     "text": [
      "144\n"
     ]
    }
   ],
   "source": [
    "def Fib(n):\n",
    "    if n==1 or n==2:\n",
    "        return n-1\n",
    "    return Fib(n-1)+Fib(n-2)\n",
    "print(Fib(13))"
   ]
  },
  {
   "cell_type": "code",
   "execution_count": 20,
   "id": "6cc9a78f",
   "metadata": {},
   "outputs": [
    {
     "name": "stdout",
     "output_type": "stream",
     "text": [
      "a:10\n",
      "b:20\n",
      "c:30\n",
      "d:40\n",
      "args:(50, 60, 70)\n",
      "kwargs:{'x': 10, 'y': 20, 'z': 30}\n"
     ]
    }
   ],
   "source": [
    "def Sample(a,b,c,d=0,*args,**kwargs):\n",
    "    print(f'a:{a}')\n",
    "    print(f'b:{b}')\n",
    "    print(f'c:{c}')\n",
    "    print(f'd:{d}')\n",
    "    print(f'args:{args}')\n",
    "    print(f'kwargs:{kwargs}')\n",
    "Sample(10,20,30,40,50,60,70,x=10,y=20,z=30)"
   ]
  },
  {
   "cell_type": "code",
   "execution_count": 21,
   "id": "1783bf6f",
   "metadata": {},
   "outputs": [
    {
     "name": "stdout",
     "output_type": "stream",
     "text": [
      "Local:500\n",
      "Global:500\n"
     ]
    }
   ],
   "source": [
    "def Sample():\n",
    "    print(f'Local:{z}')\n",
    "z=500\n",
    "Sample()\n",
    "print(f'Global:{z}')"
   ]
  },
  {
   "cell_type": "code",
   "execution_count": 26,
   "id": "da439b86",
   "metadata": {},
   "outputs": [
    {
     "name": "stdout",
     "output_type": "stream",
     "text": [
      "Local:900\n"
     ]
    },
    {
     "ename": "NameError",
     "evalue": "name 'A' is not defined",
     "output_type": "error",
     "traceback": [
      "\u001b[1;31m---------------------------------------------------------------------------\u001b[0m",
      "\u001b[1;31mNameError\u001b[0m                                 Traceback (most recent call last)",
      "\u001b[1;32m~\\AppData\\Local\\Temp\\ipykernel_11408\\603024392.py\u001b[0m in \u001b[0;36m<module>\u001b[1;34m\u001b[0m\n\u001b[0;32m      3\u001b[0m     \u001b[0mprint\u001b[0m\u001b[1;33m(\u001b[0m\u001b[1;34mf'Local:{A}'\u001b[0m\u001b[1;33m)\u001b[0m\u001b[1;33m\u001b[0m\u001b[1;33m\u001b[0m\u001b[0m\n\u001b[0;32m      4\u001b[0m \u001b[0mSample\u001b[0m\u001b[1;33m(\u001b[0m\u001b[1;33m)\u001b[0m\u001b[1;33m\u001b[0m\u001b[1;33m\u001b[0m\u001b[0m\n\u001b[1;32m----> 5\u001b[1;33m \u001b[0mprint\u001b[0m\u001b[1;33m(\u001b[0m\u001b[1;34mf'Global:{A}'\u001b[0m\u001b[1;33m)\u001b[0m\u001b[1;33m\u001b[0m\u001b[1;33m\u001b[0m\u001b[0m\n\u001b[0m",
      "\u001b[1;31mNameError\u001b[0m: name 'A' is not defined"
     ]
    }
   ],
   "source": [
    "def Sample():\n",
    "    A=900\n",
    "    print(f'Local:{A}')\n",
    "Sample()\n",
    "print(f'Global:{A}')"
   ]
  },
  {
   "cell_type": "code",
   "execution_count": 30,
   "id": "2fda5375",
   "metadata": {},
   "outputs": [
    {
     "name": "stdout",
     "output_type": "stream",
     "text": [
      "Local:500\n",
      "Global:500\n"
     ]
    }
   ],
   "source": [
    "def Sample():\n",
    "    global B\n",
    "    B=500\n",
    "    print(f'Local:{B}')\n",
    "B=200\n",
    "Sample()\n",
    "print(f'Global:{B}')"
   ]
  },
  {
   "cell_type": "code",
   "execution_count": 33,
   "id": "01185693",
   "metadata": {},
   "outputs": [
    {
     "name": "stdout",
     "output_type": "stream",
     "text": [
      "one\n",
      "Three\n"
     ]
    }
   ],
   "source": [
    "def Outer():\n",
    "    print('one')\n",
    "    def Inner():\n",
    "        print('Two')\n",
    "    print('Three')\n",
    "Outer()"
   ]
  },
  {
   "cell_type": "code",
   "execution_count": 36,
   "id": "7d439457",
   "metadata": {},
   "outputs": [
    {
     "name": "stdout",
     "output_type": "stream",
     "text": [
      "One\n",
      "Three\n",
      "Two\n"
     ]
    }
   ],
   "source": [
    "def Outer():\n",
    "    print('One')\n",
    "    def Inner():\n",
    "        print('Two')\n",
    "    print('Three')\n",
    "    Inner()\n",
    "Outer()"
   ]
  },
  {
   "cell_type": "code",
   "execution_count": 46,
   "id": "06e66bea",
   "metadata": {},
   "outputs": [
    {
     "name": "stdout",
     "output_type": "stream",
     "text": [
      "NonLocal:200\n",
      "Local:300\n",
      "NonLocal:200\n",
      "Global:500\n"
     ]
    }
   ],
   "source": [
    "def Outer():\n",
    "    x=200\n",
    "    print(f'NonLocal:{x}')\n",
    "    def Inner():\n",
    "        x=300\n",
    "        print(f'Local:{x}')\n",
    "    Inner()\n",
    "    print(f'NonLocal:{x}')\n",
    "x=500\n",
    "Outer()\n",
    "print(f'Global:{x}')"
   ]
  },
  {
   "cell_type": "code",
   "execution_count": 39,
   "id": "ae6e37f1",
   "metadata": {},
   "outputs": [
    {
     "name": "stdout",
     "output_type": "stream",
     "text": [
      "NonLocal:200\n",
      "Local:200\n",
      "NonLocal:200\n",
      "Global:500\n"
     ]
    }
   ],
   "source": [
    "def Outer():\n",
    "    x=200\n",
    "    print(f'NonLocal:{x}')\n",
    "    def Inner():\n",
    "        print(f'Local:{x}')\n",
    "    Inner()\n",
    "    print(f'NonLocal:{x}')\n",
    "x=500\n",
    "Outer()\n",
    "print(f'Global:{x}')"
   ]
  },
  {
   "cell_type": "code",
   "execution_count": 50,
   "id": "48d14594",
   "metadata": {},
   "outputs": [
    {
     "name": "stdout",
     "output_type": "stream",
     "text": [
      "NonLocal:200\n",
      "Local:300\n",
      "NonLocal:200\n",
      "Global:300\n"
     ]
    }
   ],
   "source": [
    "def Outer():\n",
    "    x=200\n",
    "    print(f'NonLocal:{x}')\n",
    "    def Inner():\n",
    "        global x\n",
    "        x=300\n",
    "        print(f'Local:{x}')\n",
    "    Inner()\n",
    "    print(f'NonLocal:{x}')\n",
    "x=500\n",
    "Outer()\n",
    "print(f'Global:{x}')"
   ]
  },
  {
   "cell_type": "code",
   "execution_count": 49,
   "id": "b8d5c034",
   "metadata": {},
   "outputs": [
    {
     "name": "stdout",
     "output_type": "stream",
     "text": [
      "NonLocal:200\n",
      "Local:300\n",
      "NonLocal:300\n",
      "Global:500\n"
     ]
    }
   ],
   "source": [
    "def Outer():\n",
    "    x=200\n",
    "    print(f'NonLocal:{x}')\n",
    "    def Inner():\n",
    "        nonlocal x\n",
    "        x=300\n",
    "        print(f'Local:{x}')\n",
    "    Inner()\n",
    "    print(f'NonLocal:{x}')\n",
    "x=500\n",
    "Outer()\n",
    "print(f'Global:{x}')"
   ]
  },
  {
   "cell_type": "code",
   "execution_count": 2,
   "id": "57de3ac0",
   "metadata": {},
   "outputs": [
    {
     "name": "stdout",
     "output_type": "stream",
     "text": [
      "9\n"
     ]
    }
   ],
   "source": [
    "N=lambda x,y:x+y\n",
    "print(N(4,5))"
   ]
  },
  {
   "cell_type": "code",
   "execution_count": 4,
   "id": "e330e8b1",
   "metadata": {},
   "outputs": [
    {
     "name": "stdout",
     "output_type": "stream",
     "text": [
      "Sai Santosh\n"
     ]
    }
   ],
   "source": [
    "N=lambda fn,ln:f'{fn} {ln}'\n",
    "print(N('Sai','Santosh'))"
   ]
  },
  {
   "cell_type": "code",
   "execution_count": 5,
   "id": "560ff029",
   "metadata": {},
   "outputs": [
    {
     "name": "stdout",
     "output_type": "stream",
     "text": [
      "[4, 9, 16, 25]\n"
     ]
    }
   ],
   "source": [
    "def Suare(n):\n",
    "    return n**2\n",
    "L=[2,3,4,5]\n",
    "X=list(map(Suare,L))\n",
    "print(X)"
   ]
  },
  {
   "cell_type": "code",
   "execution_count": 6,
   "id": "28111504",
   "metadata": {},
   "outputs": [
    {
     "name": "stdout",
     "output_type": "stream",
     "text": [
      "[4, 9, 16, 25]\n"
     ]
    }
   ],
   "source": [
    "L=[2,3,4,5]\n",
    "X=list(map(lambda n:n**2,L))\n",
    "print(X)"
   ]
  },
  {
   "cell_type": "code",
   "execution_count": 7,
   "id": "1d123114",
   "metadata": {},
   "outputs": [
    {
     "name": "stdout",
     "output_type": "stream",
     "text": [
      "['sai@gmail.com', 'santosh@gmail.com', 'kumar@gmail.com', 'sriram@gamil.com']\n"
     ]
    }
   ],
   "source": [
    "x=['Sai@gmail.com','SANTosh@gmail.com','KuMAr@gmail.com','SRIraM@gamil.com']\n",
    "NL=list(map(lambda s:s.lower(),x))\n",
    "print(NL)"
   ]
  },
  {
   "cell_type": "code",
   "execution_count": 8,
   "id": "9361dbf4",
   "metadata": {},
   "outputs": [
    {
     "name": "stdout",
     "output_type": "stream",
     "text": [
      "[12, 20, 18]\n"
     ]
    }
   ],
   "source": [
    "def Even(n):\n",
    "    return n%2==0\n",
    "L=[11,12,13,17,19,20,18]\n",
    "X=list(filter(Even,L))\n",
    "print(X)"
   ]
  },
  {
   "cell_type": "code",
   "execution_count": 11,
   "id": "ea22f8b5",
   "metadata": {},
   "outputs": [
    {
     "name": "stdout",
     "output_type": "stream",
     "text": [
      "[12, 20, 18]\n"
     ]
    }
   ],
   "source": [
    "L=[11,12,13,17,19,20,18]\n",
    "X=list(filter(lambda n:n%2==0,L))\n",
    "print(X)"
   ]
  },
  {
   "cell_type": "code",
   "execution_count": 12,
   "id": "f4bfd3d0",
   "metadata": {},
   "outputs": [
    {
     "name": "stdout",
     "output_type": "stream",
     "text": [
      "[True, False, True, False, True]\n"
     ]
    }
   ],
   "source": [
    "L=[11,12,13,14,15]\n",
    "X=list(map(lambda n:n%2!=0,L))\n",
    "print(X)"
   ]
  },
  {
   "cell_type": "code",
   "execution_count": 7,
   "id": "9b902b96",
   "metadata": {},
   "outputs": [
    {
     "name": "stdout",
     "output_type": "stream",
     "text": [
      "[11, 13, 17, 19]\n"
     ]
    }
   ],
   "source": [
    "def Prime(t):\n",
    "    if t<=1:\n",
    "        return False\n",
    "    for r in range(2,t//2+1):\n",
    "        if t%r==0:\n",
    "            return False\n",
    "    return True\n",
    "L=[11,12,13,17,18,19,20]\n",
    "X=list(filter(Prime,L))\n",
    "print(X)"
   ]
  },
  {
   "cell_type": "code",
   "execution_count": 2,
   "id": "0be41b6c",
   "metadata": {},
   "outputs": [
    {
     "name": "stdout",
     "output_type": "stream",
     "text": [
      "-30\n"
     ]
    }
   ],
   "source": [
    "from functools import reduce\n",
    "L=[10,15,20,-25,30]\n",
    "N=reduce(lambda x,y:x-y,L)\n",
    "print(N)"
   ]
  },
  {
   "cell_type": "code",
   "execution_count": 9,
   "id": "075f158a",
   "metadata": {},
   "outputs": [
    {
     "name": "stdout",
     "output_type": "stream",
     "text": [
      "24\n"
     ]
    }
   ],
   "source": [
    "from functools import reduce\n",
    "num=4\n",
    "N=reduce(lambda x,y:x*y,range(1,num+1))\n",
    "print(N)\n"
   ]
  },
  {
   "cell_type": "code",
   "execution_count": 1,
   "id": "11835842",
   "metadata": {},
   "outputs": [
    {
     "name": "stdout",
     "output_type": "stream",
     "text": [
      "[6, 9, 8, 9]\n"
     ]
    }
   ],
   "source": [
    "L=[123,45,26,135]\n",
    "res=[]\n",
    "for n in range(len(L)):\n",
    "    t=0\n",
    "    while L[n]>0:\n",
    "        rem=L[n]%10\n",
    "        L[n]=L[n]//10\n",
    "        t=t+rem\n",
    "    L[n]=t\n",
    "print(L)"
   ]
  },
  {
   "cell_type": "code",
   "execution_count": 2,
   "id": "1e50c4ee",
   "metadata": {},
   "outputs": [
    {
     "name": "stdout",
     "output_type": "stream",
     "text": [
      "[6, 9, 8, 9]\n"
     ]
    }
   ],
   "source": [
    "L=[123,45,26,135]\n",
    "res=[]\n",
    "for n in range(len(L)):\n",
    "    t=0\n",
    "    while L[n]>0:\n",
    "        rem=L[n]%10\n",
    "        L[n]=L[n]//10\n",
    "        t=t+rem\n",
    "    res.append(t)\n",
    "print(res)"
   ]
  },
  {
   "cell_type": "code",
   "execution_count": 5,
   "id": "879ca077",
   "metadata": {},
   "outputs": [
    {
     "name": "stdout",
     "output_type": "stream",
     "text": [
      "[6, 9, 8, 9]\n"
     ]
    }
   ],
   "source": [
    "def sum(n):\n",
    "    if n==0:\n",
    "        return 0\n",
    "    return n%10+sum(n//10)#by using recursion\n",
    "l=[123,45,26,135]\n",
    "x=[]\n",
    "for i in range(len(l)):\n",
    "    x.append(sum(l[i]))\n",
    "print(x)"
   ]
  },
  {
   "cell_type": "code",
   "execution_count": 6,
   "id": "0d44f84c",
   "metadata": {},
   "outputs": [
    {
     "name": "stdout",
     "output_type": "stream",
     "text": [
      "[6, 9, 8, 9]\n"
     ]
    }
   ],
   "source": [
    "def sum(n):\n",
    "    if n==0:\n",
    "        return 0\n",
    "    return n%10+sum(n//10)#by using map function\n",
    "l=[123,45,26,135]\n",
    "x=list(map(sum,l))\n",
    "print(x)"
   ]
  },
  {
   "cell_type": "code",
   "execution_count": 2,
   "id": "38103518",
   "metadata": {},
   "outputs": [
    {
     "name": "stdout",
     "output_type": "stream",
     "text": [
      "[6, 6, 9, 7]\n"
     ]
    }
   ],
   "source": [
    "L1=[4,5,6,7]\n",
    "L2=[2,1,3,0]\n",
    "res=[]\n",
    "for n in range(len(L1)):\n",
    "    res.append(L1[n]+L2[n])\n",
    "print(res)"
   ]
  },
  {
   "cell_type": "code",
   "execution_count": 3,
   "id": "72184a83",
   "metadata": {},
   "outputs": [
    {
     "name": "stdout",
     "output_type": "stream",
     "text": [
      "[4, 8, 7, 9]\n"
     ]
    }
   ],
   "source": [
    "L1=[4,5,6,7]\n",
    "L2=[2,1,3,0]\n",
    "res=[]\n",
    "for n in range(len(L1)):\n",
    "    res.append(L1[n]+L2[-(n+1)])\n",
    "print(res)"
   ]
  },
  {
   "cell_type": "code",
   "execution_count": 20,
   "id": "ad051bac",
   "metadata": {},
   "outputs": [
    {
     "name": "stdout",
     "output_type": "stream",
     "text": [
      "[11, 10]\n"
     ]
    }
   ],
   "source": [
    "L=[11,10,12,11,10]\n",
    "n=[]\n",
    "for t in range(len(L)):\n",
    "    if L.count(L[t])>1:\n",
    "        if L[t] not in n:\n",
    "            n.append(L[t])\n",
    "print(n)"
   ]
  },
  {
   "cell_type": "code",
   "execution_count": 4,
   "id": "02084eb6",
   "metadata": {},
   "outputs": [
    {
     "name": "stdout",
     "output_type": "stream",
     "text": [
      "Meow Meow\n",
      "Walking\n",
      "Bow Bow\n",
      "Walking\n"
     ]
    }
   ],
   "source": [
    "from abc import ABC,abstractmethod\n",
    "class Animal(ABC):\n",
    "    @abstractmethod\n",
    "    def speak(self):\n",
    "        pass\n",
    "    def walk(self):\n",
    "        print('Walking')\n",
    "class Dog(Animal):\n",
    "    def speak(self):\n",
    "        print('Bow Bow')\n",
    "class Cat(Animal):\n",
    "    def speak(self):\n",
    "        print('Meow Meow')\n",
    "\n",
    "c=Cat()\n",
    "d=Dog()\n",
    "c.speak()\n",
    "c.walk()\n",
    "d.speak()\n",
    "d.walk()"
   ]
  },
  {
   "cell_type": "code",
   "execution_count": 14,
   "id": "5b955069",
   "metadata": {},
   "outputs": [
    {
     "name": "stdout",
     "output_type": "stream",
     "text": [
      "emirp\n"
     ]
    }
   ],
   "source": [
    "n=17\n",
    "num=n\n",
    "res=0\n",
    "while n!=0:\n",
    "    rem=n%10\n",
    "    res=res*10+rem\n",
    "    n//=10\n",
    "if res!=num:\n",
    "    for i in range(2,num//2+1):\n",
    "        if num%i==0:\n",
    "            print('not emirp')\n",
    "            break\n",
    "    else:\n",
    "        for j in range(2,res//2+1):\n",
    "            if res%j==0:\n",
    "                print('not emirp')\n",
    "                break\n",
    "        else:\n",
    "            print('emirp')\n",
    "else:\n",
    "    print('not emirp')"
   ]
  },
  {
   "cell_type": "code",
   "execution_count": 23,
   "id": "01e910d1",
   "metadata": {},
   "outputs": [
    {
     "name": "stdout",
     "output_type": "stream",
     "text": [
      "enter value1722\n",
      "enter value5000\n",
      "Withdraw is Done\n"
     ]
    }
   ],
   "source": [
    "class Bank1():\n",
    "    bank_name='canara'\n",
    "    bank_roi=0.07\n",
    "    bank_branch='india'\n",
    "    def __init__(self,n,a,ac,b):\n",
    "        self.name=n\n",
    "        self.age=a\n",
    "        self.account=ac\n",
    "        self.balance=b\n",
    "    @staticmethod\n",
    "    def get():\n",
    "        amt=int(input('enter value'))\n",
    "        return amt\n",
    "    @classmethod\n",
    "    def bank_details(cls):\n",
    "        print(cls.bank_name)\n",
    "        print(cls.bank_roi)\n",
    "        print(cls.bank_branch)\n",
    "    @classmethod\n",
    "    def change_roi(cls):\n",
    "        Bank1.bank_roi=cls.get()\n",
    "        print('Successfully changed Bank roi')\n",
    "    def withdraw(self):\n",
    "        amt=self.get()\n",
    "        if self.balance>amt:\n",
    "            self.balance-=amt\n",
    "            print('Withdraw is Done')\n",
    "        else:\n",
    "            print('Low Amount')\n",
    "    def deposite(self):\n",
    "        amt=self.get()\n",
    "        self.balance+=amt\n",
    "        print('Deposite is Done')\n",
    "class Bank2(Bank1):\n",
    "    bank_branch='canada'\n",
    "    bank_ifsc=1234\n",
    "    def __init__(self,n,a,ac,b,p,ad):\n",
    "        super().__init__(n,a,ac,b)\n",
    "        self.pin=p\n",
    "        self.aadhar=ad\n",
    "    def withdraw(self):\n",
    "        pin=self.get()\n",
    "        if self.pin==pin:\n",
    "            super().withdraw()\n",
    "        else:\n",
    "            print('Incorrect Pin')\n",
    "    def deposite(self):\n",
    "        super().deposite()\n",
    "devi=Bank2('devi',22,12345,11000,1722,7893347525)\n",
    "devi.withdraw()"
   ]
  },
  {
   "cell_type": "code",
   "execution_count": 37,
   "id": "1dd7f7fc",
   "metadata": {},
   "outputs": [
    {
     "name": "stdout",
     "output_type": "stream",
     "text": [
      "Done\n",
      "No Admissions\n"
     ]
    }
   ],
   "source": [
    "def SingleTon(arg):\n",
    "    d={}\n",
    "    def inner():\n",
    "        if arg not in d:\n",
    "            d[arg]=arg()\n",
    "        return d[arg]\n",
    "    return inner\n",
    "@SingleTon\n",
    "class Python():\n",
    "    def __init__(self):\n",
    "        self.tickets=2000\n",
    "    def booking(self,n):\n",
    "        if self.tickets>n:\n",
    "            self.tickets-=n\n",
    "            print('Done')\n",
    "        else:\n",
    "            print('No Admissions')\n",
    "p=Python()\n",
    "p1=Python()\n",
    "p.booking(1999)\n",
    "p1.booking(1999)"
   ]
  },
  {
   "cell_type": "code",
   "execution_count": 53,
   "id": "b8196681",
   "metadata": {},
   "outputs": [
    {
     "name": "stdout",
     "output_type": "stream",
     "text": [
      "1\n",
      "2\n",
      "3\n",
      "4\n",
      "5\n",
      "6\n",
      "7\n",
      "8\n",
      "9\n",
      "10\n"
     ]
    }
   ],
   "source": [
    "class fib():\n",
    "    def __init__(self,s,e,u=1):\n",
    "        self.s=s\n",
    "        self.e=e\n",
    "        self.u=u\n",
    "    def __iter__(self):\n",
    "        self.i=1\n",
    "        return self\n",
    "    def __next__(self):\n",
    "        if self.i<self.e:\n",
    "            res=self.i\n",
    "            self.i+=1\n",
    "            return res\n",
    "        raise StopIteration\n",
    "f=fib(1,11)\n",
    "for a in f:\n",
    "    print(a)"
   ]
  },
  {
   "cell_type": "code",
   "execution_count": 1,
   "id": "86cc2548",
   "metadata": {},
   "outputs": [
    {
     "name": "stdout",
     "output_type": "stream",
     "text": [
      "2\n",
      "5\n",
      "7\n",
      "12\n",
      "19\n",
      "31\n",
      "50\n",
      "81\n",
      "131\n"
     ]
    }
   ],
   "source": [
    "class Fib():\n",
    "    def __init__(self,f,s,n):\n",
    "        self.f=f\n",
    "        self.s=s\n",
    "        self.n=n\n",
    "    def __iter__(self):\n",
    "        self.i=self.f\n",
    "        return self\n",
    "    def __next__(self):\n",
    "        if self.i<self.n:\n",
    "            res=self.f\n",
    "            c=self.f+self.s\n",
    "            self.f,self.s=self.s,c\n",
    "            self.i+=1\n",
    "            return res\n",
    "        else:\n",
    "            raise StopIteration\n",
    "f=Fib(2,5,11)\n",
    "for i in f:\n",
    "    print(i)"
   ]
  },
  {
   "cell_type": "code",
   "execution_count": null,
   "id": "7c342530",
   "metadata": {},
   "outputs": [],
   "source": []
  },
  {
   "cell_type": "code",
   "execution_count": null,
   "id": "d1d6b412",
   "metadata": {},
   "outputs": [],
   "source": []
  }
 ],
 "metadata": {
  "kernelspec": {
   "display_name": "Python 3 (ipykernel)",
   "language": "python",
   "name": "python3"
  },
  "language_info": {
   "codemirror_mode": {
    "name": "ipython",
    "version": 3
   },
   "file_extension": ".py",
   "mimetype": "text/x-python",
   "name": "python",
   "nbconvert_exporter": "python",
   "pygments_lexer": "ipython3",
   "version": "3.9.13"
  }
 },
 "nbformat": 4,
 "nbformat_minor": 5
}
