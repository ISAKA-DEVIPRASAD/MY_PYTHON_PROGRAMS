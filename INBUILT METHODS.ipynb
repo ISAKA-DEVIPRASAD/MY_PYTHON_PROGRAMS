{
 "cells": [
  {
   "cell_type": "code",
   "execution_count": 2,
   "id": "4a393ede",
   "metadata": {},
   "outputs": [
    {
     "name": "stdout",
     "output_type": "stream",
     "text": [
      "2\n",
      "5\n",
      "7\n",
      "12\n",
      "19\n",
      "31\n",
      "50\n"
     ]
    }
   ],
   "source": [
    "class Fib():\n",
    "    def __init__(self,f,s,n):\n",
    "        self.first=f\n",
    "        self.second=s\n",
    "        self.n_value=n\n",
    "    def __iter__(self):\n",
    "        self.i=1\n",
    "        return self\n",
    "    def __next__(self):\n",
    "        if self.i<=self.n_value:\n",
    "            self.i+=1\n",
    "            dummy=self.i\n",
    "            dummy=self.first\n",
    "            self.first=self.second\n",
    "            self.second=dummy+self.first\n",
    "            return dummy\n",
    "        raise StopIteration\n",
    "F=Fib(2,5,7)\n",
    "for d in F:\n",
    "    print(d) "
   ]
  },
  {
   "cell_type": "code",
   "execution_count": 4,
   "id": "bc7bc580",
   "metadata": {},
   "outputs": [
    {
     "name": "stdout",
     "output_type": "stream",
     "text": [
      "pali\n"
     ]
    }
   ],
   "source": [
    "d='11'\n",
    "res=''\n",
    "for c in range(-1,-(len(d)+1),-1):\n",
    "        res+=d[c]\n",
    "if d==res:\n",
    "    print('pali')\n",
    "else:\n",
    "    print('not')"
   ]
  },
  {
   "cell_type": "code",
   "execution_count": 6,
   "id": "1738b2b6",
   "metadata": {},
   "outputs": [
    {
     "name": "stdout",
     "output_type": "stream",
     "text": [
      "ENGINEERING\n"
     ]
    }
   ],
   "source": [
    "P='ENGINEERING'\n",
    "res=''\n",
    "for d in range(len(P)):\n",
    "    res+=P[d]\n",
    "print(res)"
   ]
  },
  {
   "cell_type": "code",
   "execution_count": 9,
   "id": "f40d6a87",
   "metadata": {},
   "outputs": [
    {
     "name": "stdout",
     "output_type": "stream",
     "text": [
      "ENGIR\n"
     ]
    }
   ],
   "source": [
    "P='ENGINEERING'\n",
    "res=''\n",
    "for d in range(len(P)):\n",
    "    if P[d] not in res:\n",
    "        res+=P[d]\n",
    "print(res)"
   ]
  },
  {
   "cell_type": "code",
   "execution_count": 12,
   "id": "4043b7da",
   "metadata": {},
   "outputs": [
    {
     "name": "stdout",
     "output_type": "stream",
     "text": [
      "2000\n",
      "2000 is leap year\n"
     ]
    }
   ],
   "source": [
    "#wap to program check given year is leap year or not\n",
    "year=int(input(''))\n",
    "if year%4==0 and year%100!=0:\n",
    "    print(f'{year} is leap year')\n",
    "elif year%400==0:\n",
    "    print(f'{year} is leap year')\n",
    "else:\n",
    "    print(f'{year} is not leap year')"
   ]
  },
  {
   "cell_type": "code",
   "execution_count": 25,
   "id": "c8bb50af",
   "metadata": {},
   "outputs": [
    {
     "name": "stdout",
     "output_type": "stream",
     "text": [
      "90\n",
      "90:fizzbuzz\n"
     ]
    }
   ],
   "source": [
    "n=int(input(''))\n",
    "if n%3==0 and n%5==0:\n",
    "    print(f'{n}:fizzbuzz')\n",
    "elif n%5==0:\n",
    "    print(f'{n}:buzz')\n",
    "elif n%3==0:\n",
    "    print(f'{n}:fizz')"
   ]
  },
  {
   "cell_type": "code",
   "execution_count": 43,
   "id": "813a73d2",
   "metadata": {},
   "outputs": [
    {
     "name": "stdout",
     "output_type": "stream",
     "text": [
      "['ENG', 'NEER', 'NG']\n"
     ]
    }
   ],
   "source": [
    "x='ENGINEERING'\n",
    "print(x.split('I'))"
   ]
  },
  {
   "cell_type": "code",
   "execution_count": 57,
   "id": "13c158f8",
   "metadata": {},
   "outputs": [
    {
     "name": "stdout",
     "output_type": "stream",
     "text": [
      "0\n"
     ]
    }
   ],
   "source": [
    "c='devi'\n",
    "print(c.index(''))"
   ]
  },
  {
   "cell_type": "code",
   "execution_count": 51,
   "id": "a072d580",
   "metadata": {},
   "outputs": [
    {
     "ename": "ValueError",
     "evalue": "substring not found",
     "output_type": "error",
     "traceback": [
      "\u001b[1;31m---------------------------------------------------------------------------\u001b[0m",
      "\u001b[1;31mValueError\u001b[0m                                Traceback (most recent call last)",
      "\u001b[1;32m~\\AppData\\Local\\Temp\\ipykernel_15000\\1011391040.py\u001b[0m in \u001b[0;36m<module>\u001b[1;34m\u001b[0m\n\u001b[0;32m      1\u001b[0m \u001b[0mc\u001b[0m\u001b[1;33m=\u001b[0m\u001b[1;34m'devi'\u001b[0m\u001b[1;33m\u001b[0m\u001b[1;33m\u001b[0m\u001b[0m\n\u001b[1;32m----> 2\u001b[1;33m \u001b[0mprint\u001b[0m\u001b[1;33m(\u001b[0m\u001b[0mc\u001b[0m\u001b[1;33m.\u001b[0m\u001b[0mindex\u001b[0m\u001b[1;33m(\u001b[0m\u001b[1;34m'c'\u001b[0m\u001b[1;33m)\u001b[0m\u001b[1;33m)\u001b[0m\u001b[1;33m\u001b[0m\u001b[1;33m\u001b[0m\u001b[0m\n\u001b[0m",
      "\u001b[1;31mValueError\u001b[0m: substring not found"
     ]
    }
   ],
   "source": [
    "c='devi'\n",
    "print(c.index('c'))"
   ]
  },
  {
   "cell_type": "code",
   "execution_count": 60,
   "id": "329ee2e2",
   "metadata": {},
   "outputs": [
    {
     "name": "stdout",
     "output_type": "stream",
     "text": [
      "4\n"
     ]
    }
   ],
   "source": [
    "c='devi'\n",
    "print(c.rindex(''))"
   ]
  },
  {
   "cell_type": "code",
   "execution_count": 7,
   "id": "a2d07d13",
   "metadata": {},
   "outputs": [
    {
     "name": "stdout",
     "output_type": "stream",
     "text": [
      "0\n"
     ]
    }
   ],
   "source": [
    "c='devi'\n",
    "print(c.find(''))"
   ]
  },
  {
   "cell_type": "code",
   "execution_count": 70,
   "id": "07e998e8",
   "metadata": {},
   "outputs": [
    {
     "name": "stdout",
     "output_type": "stream",
     "text": [
      "2\n"
     ]
    }
   ],
   "source": [
    "P='ENGINEERING'\n",
    "print(P.count('I'))"
   ]
  },
  {
   "cell_type": "code",
   "execution_count": 75,
   "id": "21c6690f",
   "metadata": {},
   "outputs": [
    {
     "name": "stdout",
     "output_type": "stream",
     "text": [
      "2\n"
     ]
    }
   ],
   "source": [
    "a=10\n",
    "print(len(str(a)))"
   ]
  },
  {
   "cell_type": "code",
   "execution_count": 80,
   "id": "02ba54e3",
   "metadata": {},
   "outputs": [
    {
     "name": "stdout",
     "output_type": "stream",
     "text": [
      "{11, 12, 13}\n"
     ]
    }
   ],
   "source": [
    "a={11,11,12,11,13}\n",
    "print(str(a))"
   ]
  },
  {
   "cell_type": "code",
   "execution_count": 7,
   "id": "b0bffb36",
   "metadata": {},
   "outputs": [
    {
     "name": "stdout",
     "output_type": "stream",
     "text": [
      "(2, [2, 2], 'a', {1})\n"
     ]
    }
   ],
   "source": [
    "x=(2,[2,2],'a',{1})\n",
    "print(x)"
   ]
  },
  {
   "cell_type": "code",
   "execution_count": 10,
   "id": "37b284d1",
   "metadata": {},
   "outputs": [
    {
     "name": "stdout",
     "output_type": "stream",
     "text": [
      "(1, 2, 2)\n"
     ]
    }
   ],
   "source": [
    "x=(1,2)\n",
    "y=(2,)\n",
    "print(x+y)"
   ]
  },
  {
   "cell_type": "code",
   "execution_count": 36,
   "id": "6f45ffdf",
   "metadata": {},
   "outputs": [
    {
     "name": "stdout",
     "output_type": "stream",
     "text": [
      "DeviPrasad is Best Lover For Charishma\n"
     ]
    }
   ],
   "source": [
    "c='Charishma'\n",
    "d='DeviPrasad'\n",
    "print(f'{d} is Best Lover For {c}')"
   ]
  },
  {
   "cell_type": "code",
   "execution_count": 50,
   "id": "cbf03544",
   "metadata": {},
   "outputs": [
    {
     "name": "stdout",
     "output_type": "stream",
     "text": [
      "charishma\n"
     ]
    }
   ],
   "source": [
    "c='charishma'\n",
    "print(c[::])"
   ]
  },
  {
   "cell_type": "code",
   "execution_count": 53,
   "id": "6e8901d6",
   "metadata": {},
   "outputs": [
    {
     "name": "stdout",
     "output_type": "stream",
     "text": [
      "3\n",
      "[2, 1]\n"
     ]
    }
   ],
   "source": [
    "a=[2,1,3]\n",
    "print(a.pop())\n",
    "print(a)"
   ]
  },
  {
   "cell_type": "code",
   "execution_count": 61,
   "id": "2597bd17",
   "metadata": {},
   "outputs": [
    {
     "name": "stdout",
     "output_type": "stream",
     "text": [
      "[7, 11, 17, 22, 25, 29, 92]\n"
     ]
    }
   ],
   "source": [
    "d=[11,17,22,29,25,7,92]\n",
    "d.sort()\n",
    "print(d)"
   ]
  },
  {
   "cell_type": "code",
   "execution_count": 66,
   "id": "8ba3255b",
   "metadata": {},
   "outputs": [
    {
     "name": "stdout",
     "output_type": "stream",
     "text": [
      "DeviPrasad Loves Charishma\n"
     ]
    }
   ],
   "source": [
    "c=['DeviPrasad','Loves','Charishma']\n",
    "print(' '.join(c))"
   ]
  },
  {
   "cell_type": "code",
   "execution_count": 7,
   "id": "5283eb64",
   "metadata": {},
   "outputs": [
    {
     "name": "stdout",
     "output_type": "stream",
     "text": [
      "None\n",
      "{'a': 20, 'b': 30}\n"
     ]
    }
   ],
   "source": [
    "d={'a':20,'b':30}\n",
    "print(d.get('e'))\n",
    "print(d)"
   ]
  },
  {
   "cell_type": "code",
   "execution_count": 5,
   "id": "2391c930",
   "metadata": {},
   "outputs": [
    {
     "name": "stdout",
     "output_type": "stream",
     "text": [
      "None\n",
      "{'a': 20, 'b': 30, 'c': 50, 'e': None}\n"
     ]
    }
   ],
   "source": [
    "d={'a':20,'b':30,'c':50}\n",
    "print(d.setdefault('e'))\n",
    "print(d)"
   ]
  },
  {
   "cell_type": "code",
   "execution_count": 8,
   "id": "6746735b",
   "metadata": {},
   "outputs": [
    {
     "name": "stdout",
     "output_type": "stream",
     "text": [
      "30\n"
     ]
    }
   ],
   "source": [
    "d={'a':20,'b':30,'c':50}\n",
    "print(d.pop('b'))"
   ]
  },
  {
   "cell_type": "code",
   "execution_count": 4,
   "id": "df933cc5",
   "metadata": {},
   "outputs": [
    {
     "name": "stdout",
     "output_type": "stream",
     "text": [
      "enter year2000\n",
      "2000 is leap year\n"
     ]
    }
   ],
   "source": [
    "year=int(input('enter year'))\n",
    "if year%4==0 and year%100!=0:\n",
    "    print(f'{year} is leap year')\n",
    "elif year%400==0:\n",
    "    print(f'{year} is leap year')\n",
    "else:\n",
    "    print(f'{year} is not leap year')"
   ]
  },
  {
   "cell_type": "code",
   "execution_count": 4,
   "id": "49faa6e4",
   "metadata": {},
   "outputs": [
    {
     "name": "stdout",
     "output_type": "stream",
     "text": [
      "[1, 3, 5]\n",
      "[2, 4]\n"
     ]
    }
   ],
   "source": [
    "d=[1,2,3,4,5]\n",
    "print(d[0::2])\n",
    "print(d[1::2])"
   ]
  },
  {
   "cell_type": "code",
   "execution_count": 8,
   "id": "be782a50",
   "metadata": {},
   "outputs": [
    {
     "name": "stdout",
     "output_type": "stream",
     "text": [
      "156\n"
     ]
    }
   ],
   "source": [
    "from functools import reduce\n",
    "d=[2,4,5,61,12,32,11,29]\n",
    "print(reduce(lambda x,y:x+y,d))"
   ]
  },
  {
   "cell_type": "code",
   "execution_count": 10,
   "id": "1972d82c",
   "metadata": {},
   "outputs": [
    {
     "name": "stdout",
     "output_type": "stream",
     "text": [
      "[4, 16, 25, 3721, 144, 1024, 121, 841]\n"
     ]
    }
   ],
   "source": [
    "d=[2,4,5,61,12,32,11,29]\n",
    "print(list(map(lambda n:n**2,d)))"
   ]
  },
  {
   "cell_type": "code",
   "execution_count": 11,
   "id": "a607b43c",
   "metadata": {},
   "outputs": [
    {
     "name": "stdout",
     "output_type": "stream",
     "text": [
      "[2, 4, 12, 32]\n"
     ]
    }
   ],
   "source": [
    "d=[2,4,5,61,12,32,11,29]\n",
    "print(list(filter(lambda n:n%2==0,d)))"
   ]
  },
  {
   "cell_type": "code",
   "execution_count": 1,
   "id": "f8fe866b",
   "metadata": {},
   "outputs": [
    {
     "name": "stdout",
     "output_type": "stream",
     "text": [
      "PYTHON\n"
     ]
    }
   ],
   "source": [
    "s='python'\n",
    "print(s.upper())"
   ]
  },
  {
   "cell_type": "code",
   "execution_count": 3,
   "id": "66724e40",
   "metadata": {},
   "outputs": [
    {
     "name": "stdout",
     "output_type": "stream",
     "text": [
      "python\n"
     ]
    }
   ],
   "source": [
    "s='PYTHON'\n",
    "print(s.lower())"
   ]
  },
  {
   "cell_type": "code",
   "execution_count": 5,
   "id": "db63c5a7",
   "metadata": {},
   "outputs": [
    {
     "name": "stdout",
     "output_type": "stream",
     "text": [
      "pYtHoN@123\n"
     ]
    }
   ],
   "source": [
    "s='PyThOn@123'\n",
    "print(s.swapcase())"
   ]
  },
  {
   "cell_type": "code",
   "execution_count": 7,
   "id": "a2607e78",
   "metadata": {},
   "outputs": [
    {
     "name": "stdout",
     "output_type": "stream",
     "text": [
      "Python Developer\n"
     ]
    }
   ],
   "source": [
    "s='python developer'\n",
    "print(s.title())"
   ]
  },
  {
   "cell_type": "code",
   "execution_count": 9,
   "id": "5ed7a8c5",
   "metadata": {},
   "outputs": [
    {
     "name": "stdout",
     "output_type": "stream",
     "text": [
      "Python developer\n"
     ]
    }
   ],
   "source": [
    "s='python developer'\n",
    "print(s.capitalize())"
   ]
  },
  {
   "cell_type": "code",
   "execution_count": 17,
   "id": "644f0a6e",
   "metadata": {},
   "outputs": [
    {
     "name": "stdout",
     "output_type": "stream",
     "text": [
      "7\n"
     ]
    }
   ],
   "source": [
    "s='PYTHON DEVELOPER'\n",
    "print(s.index('D'))"
   ]
  },
  {
   "cell_type": "code",
   "execution_count": 21,
   "id": "4d27d782",
   "metadata": {},
   "outputs": [
    {
     "name": "stdout",
     "output_type": "stream",
     "text": [
      "1\n"
     ]
    }
   ],
   "source": [
    "s='PYTHON DEVELOPER'\n",
    "print(s.rindex('Y'))"
   ]
  },
  {
   "cell_type": "code",
   "execution_count": 23,
   "id": "53363fef",
   "metadata": {},
   "outputs": [
    {
     "name": "stdout",
     "output_type": "stream",
     "text": [
      "1\n"
     ]
    }
   ],
   "source": [
    "s='PYTHON DEVELOPER'\n",
    "print(s.find('Y'))"
   ]
  },
  {
   "cell_type": "code",
   "execution_count": 26,
   "id": "d54125a3",
   "metadata": {},
   "outputs": [
    {
     "name": "stdout",
     "output_type": "stream",
     "text": [
      "12\n"
     ]
    }
   ],
   "source": [
    "s='PYTHON DEVELOPER'\n",
    "print(s.rfind('O'))"
   ]
  },
  {
   "cell_type": "code",
   "execution_count": 15,
   "id": "381c6ec1",
   "metadata": {},
   "outputs": [
    {
     "name": "stdout",
     "output_type": "stream",
     "text": [
      "0\n"
     ]
    }
   ],
   "source": [
    "s='PYTHON'\n",
    "print(s.index(''))"
   ]
  },
  {
   "cell_type": "code",
   "execution_count": 16,
   "id": "972e8715",
   "metadata": {},
   "outputs": [
    {
     "name": "stdout",
     "output_type": "stream",
     "text": [
      "6\n"
     ]
    }
   ],
   "source": [
    "s='PYTHON'\n",
    "print(s.rindex(''))"
   ]
  },
  {
   "cell_type": "code",
   "execution_count": 29,
   "id": "1e976e1f",
   "metadata": {},
   "outputs": [
    {
     "name": "stdout",
     "output_type": "stream",
     "text": [
      "-1\n"
     ]
    }
   ],
   "source": [
    "s='PYTHON'\n",
    "print(s.find('A'))"
   ]
  },
  {
   "cell_type": "code",
   "execution_count": 27,
   "id": "3705e272",
   "metadata": {},
   "outputs": [
    {
     "name": "stdout",
     "output_type": "stream",
     "text": [
      "6\n"
     ]
    }
   ],
   "source": [
    "s='PYTHON'\n",
    "print(s.rfind(''))"
   ]
  },
  {
   "cell_type": "code",
   "execution_count": 30,
   "id": "0ce66a4c",
   "metadata": {},
   "outputs": [
    {
     "name": "stdout",
     "output_type": "stream",
     "text": [
      "3\n"
     ]
    }
   ],
   "source": [
    "p='ENGINEERING'\n",
    "print(p.count('E'))"
   ]
  },
  {
   "cell_type": "code",
   "execution_count": 31,
   "id": "35048164",
   "metadata": {},
   "outputs": [
    {
     "name": "stdout",
     "output_type": "stream",
     "text": [
      "2\n"
     ]
    }
   ],
   "source": [
    "p='ENGINEERING'\n",
    "print(p.count('I'))"
   ]
  },
  {
   "cell_type": "code",
   "execution_count": 32,
   "id": "cba6237e",
   "metadata": {},
   "outputs": [
    {
     "name": "stdout",
     "output_type": "stream",
     "text": [
      "0\n"
     ]
    }
   ],
   "source": [
    "p='ENGINEERING'\n",
    "print(p.count('A'))"
   ]
  },
  {
   "cell_type": "code",
   "execution_count": 33,
   "id": "d1577350",
   "metadata": {},
   "outputs": [
    {
     "name": "stdout",
     "output_type": "stream",
     "text": [
      "ANGINAARING\n"
     ]
    }
   ],
   "source": [
    "p='ENGINEERING'\n",
    "print(p.replace('E','A'))"
   ]
  },
  {
   "cell_type": "code",
   "execution_count": 34,
   "id": "abce1e06",
   "metadata": {},
   "outputs": [
    {
     "name": "stdout",
     "output_type": "stream",
     "text": [
      "2NGIN22RING\n"
     ]
    }
   ],
   "source": [
    "p='ENGINEERING'\n",
    "print(p.replace('E','2'))"
   ]
  },
  {
   "cell_type": "code",
   "execution_count": 35,
   "id": "2ea18f88",
   "metadata": {},
   "outputs": [
    {
     "name": "stdout",
     "output_type": "stream",
     "text": [
      "['', 'YTHON DEVELO', 'ER']\n"
     ]
    }
   ],
   "source": [
    "d='PYTHON DEVELOPER'\n",
    "print(d.split('P'))"
   ]
  },
  {
   "cell_type": "code",
   "execution_count": 36,
   "id": "fc12d211",
   "metadata": {},
   "outputs": [
    {
     "name": "stdout",
     "output_type": "stream",
     "text": [
      "['PYTH', 'N DEVEL', 'PER']\n"
     ]
    }
   ],
   "source": [
    "d='PYTHON DEVELOPER'\n",
    "print(d.split('O'))"
   ]
  },
  {
   "cell_type": "code",
   "execution_count": 38,
   "id": "fe2c2187",
   "metadata": {},
   "outputs": [
    {
     "name": "stdout",
     "output_type": "stream",
     "text": [
      "['PYTHON ', 'EVELOPER']\n"
     ]
    }
   ],
   "source": [
    "d='PYTHON DEVELOPER'\n",
    "print(d.split('D'))"
   ]
  },
  {
   "cell_type": "code",
   "execution_count": 39,
   "id": "d4ca002b",
   "metadata": {},
   "outputs": [
    {
     "name": "stdout",
     "output_type": "stream",
     "text": [
      "['PYTHON D', 'V', 'LOP', 'R']\n"
     ]
    }
   ],
   "source": [
    "d='PYTHON DEVELOPER'\n",
    "print(d.split('E'))"
   ]
  },
  {
   "cell_type": "code",
   "execution_count": 41,
   "id": "8def805f",
   "metadata": {},
   "outputs": [
    {
     "name": "stdout",
     "output_type": "stream",
     "text": [
      "DeviPrasad is 22\n"
     ]
    }
   ],
   "source": [
    "name='DeviPrasad'\n",
    "age=22\n",
    "print(f'{name} is {age}')"
   ]
  },
  {
   "cell_type": "code",
   "execution_count": 45,
   "id": "926cf994",
   "metadata": {},
   "outputs": [
    {
     "name": "stdout",
     "output_type": "stream",
     "text": [
      "10+20=30\n",
      "10+30=20\n",
      "10+20=30\n"
     ]
    }
   ],
   "source": [
    "a=10\n",
    "b=20\n",
    "print('{}+{}={}'.format(a,b,a+b))\n",
    "print('{}+{}={}'.format(a,a+b,b))\n",
    "print('{1}+{2}={0}'.format(a+b,a,b))"
   ]
  },
  {
   "cell_type": "code",
   "execution_count": 16,
   "id": "618e408d",
   "metadata": {},
   "outputs": [
    {
     "name": "stdout",
     "output_type": "stream",
     "text": [
      "215\n"
     ]
    }
   ],
   "source": [
    "from functools import reduce\n",
    "L=[5,17,22,11,29,92,17,22]\n",
    "print(reduce(lambda x,y:x+y,L,0))"
   ]
  },
  {
   "cell_type": "code",
   "execution_count": null,
   "id": "7d3ecc2c",
   "metadata": {},
   "outputs": [],
   "source": []
  },
  {
   "cell_type": "code",
   "execution_count": null,
   "id": "f7bd21f4",
   "metadata": {},
   "outputs": [],
   "source": []
  },
  {
   "cell_type": "code",
   "execution_count": null,
   "id": "7ef2d127",
   "metadata": {},
   "outputs": [],
   "source": []
  },
  {
   "cell_type": "code",
   "execution_count": null,
   "id": "7b203c84",
   "metadata": {},
   "outputs": [],
   "source": []
  },
  {
   "cell_type": "code",
   "execution_count": null,
   "id": "28493d12",
   "metadata": {},
   "outputs": [],
   "source": []
  },
  {
   "cell_type": "code",
   "execution_count": null,
   "id": "4321220b",
   "metadata": {},
   "outputs": [],
   "source": []
  },
  {
   "cell_type": "code",
   "execution_count": null,
   "id": "959f81b5",
   "metadata": {},
   "outputs": [],
   "source": []
  },
  {
   "cell_type": "code",
   "execution_count": null,
   "id": "58cf818b",
   "metadata": {},
   "outputs": [],
   "source": []
  },
  {
   "cell_type": "code",
   "execution_count": null,
   "id": "95d68966",
   "metadata": {},
   "outputs": [],
   "source": []
  },
  {
   "cell_type": "code",
   "execution_count": null,
   "id": "c327df2b",
   "metadata": {},
   "outputs": [],
   "source": []
  },
  {
   "cell_type": "code",
   "execution_count": null,
   "id": "b7265c28",
   "metadata": {},
   "outputs": [],
   "source": []
  },
  {
   "cell_type": "code",
   "execution_count": null,
   "id": "fd39b99a",
   "metadata": {},
   "outputs": [],
   "source": []
  },
  {
   "cell_type": "code",
   "execution_count": null,
   "id": "701e5c9e",
   "metadata": {},
   "outputs": [],
   "source": []
  },
  {
   "cell_type": "code",
   "execution_count": null,
   "id": "70b32489",
   "metadata": {},
   "outputs": [],
   "source": [
    "                                   💖CHARISHMA💝DEVIPRASAD💖"
   ]
  },
  {
   "cell_type": "code",
   "execution_count": null,
   "id": "78572bd6",
   "metadata": {},
   "outputs": [],
   "source": [
    "                                          💖CHARDEVI💖"
   ]
  }
 ],
 "metadata": {
  "kernelspec": {
   "display_name": "Python 3 (ipykernel)",
   "language": "python",
   "name": "python3"
  },
  "language_info": {
   "codemirror_mode": {
    "name": "ipython",
    "version": 3
   },
   "file_extension": ".py",
   "mimetype": "text/x-python",
   "name": "python",
   "nbconvert_exporter": "python",
   "pygments_lexer": "ipython3",
   "version": "3.9.13"
  }
 },
 "nbformat": 4,
 "nbformat_minor": 5
}
