{
 "cells": [
  {
   "cell_type": "code",
   "execution_count": 1,
   "id": "9ed1b7f7",
   "metadata": {},
   "outputs": [
    {
     "name": "stdout",
     "output_type": "stream",
     "text": [
      "Prime Number\n"
     ]
    }
   ],
   "source": [
    "#1-->PRIME NUMBER\n",
    "n=17\n",
    "if n>1:\n",
    "    for a in range(2,n//2+1):\n",
    "        if n%a==0:\n",
    "            print('Not')\n",
    "            break\n",
    "    else:\n",
    "        print('Prime Number')\n",
    "else:\n",
    "    print('Not')"
   ]
  },
  {
   "cell_type": "code",
   "execution_count": 3,
   "id": "4fd14ae7",
   "metadata": {},
   "outputs": [
    {
     "name": "stdout",
     "output_type": "stream",
     "text": [
      "Armstrong Number\n"
     ]
    }
   ],
   "source": [
    "#2-->ARMSTRONG NUMBER\n",
    "n=153\n",
    "num=n\n",
    "res=0\n",
    "p=len(str(n))\n",
    "while n!=0:\n",
    "    rem=n%10\n",
    "    res+=rem**p\n",
    "    n//=10\n",
    "if num==res:\n",
    "    print('Armstrong Number')\n",
    "else:\n",
    "    print('Not')"
   ]
  },
  {
   "cell_type": "code",
   "execution_count": 6,
   "id": "cecef224",
   "metadata": {},
   "outputs": [
    {
     "name": "stdout",
     "output_type": "stream",
     "text": [
      "Disarum Number\n"
     ]
    }
   ],
   "source": [
    "#3-->DISARUM NUMBER\n",
    "n=135\n",
    "num=n\n",
    "res=0\n",
    "p=len(str(n))\n",
    "while n!=0:\n",
    "    rem=n%10\n",
    "    res+=rem**p\n",
    "    p-=1\n",
    "    n//=10\n",
    "if num==res:\n",
    "    print('Disarum Number')\n",
    "else:\n",
    "    print('Not')"
   ]
  },
  {
   "cell_type": "code",
   "execution_count": 9,
   "id": "4967c640",
   "metadata": {},
   "outputs": [
    {
     "name": "stdout",
     "output_type": "stream",
     "text": [
      "Special Number\n"
     ]
    }
   ],
   "source": [
    "#4-->SPECIAL NUMBER/STRONG NUMBER\n",
    "n=145\n",
    "num=n\n",
    "res=0\n",
    "while n!=0:\n",
    "    rem=n%10\n",
    "    fact=1\n",
    "    for i in range(1,rem+1):\n",
    "        fact*=i\n",
    "    res+=fact\n",
    "    n//=10\n",
    "if num==res:\n",
    "    print('Special Number')\n",
    "else:\n",
    "    print('Not')"
   ]
  },
  {
   "cell_type": "code",
   "execution_count": 17,
   "id": "54c00f2a",
   "metadata": {},
   "outputs": [
    {
     "name": "stdout",
     "output_type": "stream",
     "text": [
      "29 reverse number is-->92\n"
     ]
    }
   ],
   "source": [
    "#5-->REVERSE NUMBER\n",
    "n=29\n",
    "num=n\n",
    "res=0\n",
    "while n!=0:\n",
    "    rem=n%10\n",
    "    res=res*10+rem\n",
    "    n//=10\n",
    "print(f'{num} reverse number is-->{res}')"
   ]
  },
  {
   "cell_type": "code",
   "execution_count": 85,
   "id": "d34053d0",
   "metadata": {},
   "outputs": [
    {
     "name": "stdout",
     "output_type": "stream",
     "text": [
      "Neon Number\n"
     ]
    }
   ],
   "source": [
    "#6-->NEON NUMBER\n",
    "n=9\n",
    "sq=n**2\n",
    "res=0\n",
    "while sq!=0:\n",
    "    rem=sq%10\n",
    "    res+=rem\n",
    "    sq//=10\n",
    "if n==res:\n",
    "    print('Neon Number')\n",
    "else:\n",
    "    print('Not')"
   ]
  },
  {
   "cell_type": "code",
   "execution_count": 86,
   "id": "69728d43",
   "metadata": {},
   "outputs": [
    {
     "name": "stdout",
     "output_type": "stream",
     "text": [
      "Niven/Harshad Number\n"
     ]
    }
   ],
   "source": [
    "#7-->NIVEN NUMBER/HARSHAD NUMBER\n",
    "n=192\n",
    "num=n\n",
    "res=0\n",
    "while n!=0:\n",
    "    rem=n%10\n",
    "    res+=rem\n",
    "    n//=10\n",
    "if num%res==0:\n",
    "    print('Niven/Harshad Number')\n",
    "else:\n",
    "    print('Not')"
   ]
  },
  {
   "cell_type": "code",
   "execution_count": 89,
   "id": "dea41f33",
   "metadata": {},
   "outputs": [
    {
     "name": "stdout",
     "output_type": "stream",
     "text": [
      "Palindrome Number\n"
     ]
    }
   ],
   "source": [
    "#8-->PALINDROME NUMBER\n",
    "n=17222271\n",
    "num=n\n",
    "res=0\n",
    "while n!=0:\n",
    "    rem=n%10\n",
    "    res=res*10+rem\n",
    "    n//=10\n",
    "if num==res:\n",
    "    print('Palindrome Number')\n",
    "else:\n",
    "    print('Not')"
   ]
  },
  {
   "cell_type": "code",
   "execution_count": 3,
   "id": "d4d54742",
   "metadata": {},
   "outputs": [
    {
     "name": "stdout",
     "output_type": "stream",
     "text": [
      "PaliPrime\n"
     ]
    }
   ],
   "source": [
    "#9-->PALIPRIME NUMBER\n",
    "n=11\n",
    "num=n\n",
    "res=0\n",
    "while n!=0:\n",
    "    rem=n%10\n",
    "    res=res*10+rem\n",
    "    n//=10\n",
    "if num==res and num>1:\n",
    "    for a in range(2,num//2+1):\n",
    "        if num%a==0:\n",
    "            print('Not')\n",
    "            break\n",
    "    else:\n",
    "        print('PaliPrime')\n",
    "else:\n",
    "    print('Not')"
   ]
  },
  {
   "cell_type": "code",
   "execution_count": 5,
   "id": "135d0f71",
   "metadata": {},
   "outputs": [
    {
     "name": "stdout",
     "output_type": "stream",
     "text": [
      "EMIRP\n"
     ]
    }
   ],
   "source": [
    "#10-->EMIRP NUMBER\n",
    "n=17\n",
    "num=n\n",
    "res=0\n",
    "while n!=0:\n",
    "    rem=n%10\n",
    "    res=res*10+rem\n",
    "    n//=10\n",
    "if num!=res:\n",
    "    for a in range(2,num//2+1):\n",
    "        if num%a==0:\n",
    "            print('Not')\n",
    "            break\n",
    "    else:\n",
    "        for b in range(2,res//2+1):\n",
    "            if res%b==0:\n",
    "                print('Not')\n",
    "                break\n",
    "        print('EMIRP')\n",
    "else:\n",
    "    print('Not')"
   ]
  },
  {
   "cell_type": "code",
   "execution_count": 61,
   "id": "3004b651",
   "metadata": {},
   "outputs": [
    {
     "name": "stdout",
     "output_type": "stream",
     "text": [
      "Perfect Number\n"
     ]
    }
   ],
   "source": [
    "#11-->PERFECT NUMBER\n",
    "n=28\n",
    "res=0\n",
    "for i in range(1,n//2+1):\n",
    "    if n%i==0:\n",
    "        res+=i\n",
    "if n==res:\n",
    "    print('Perfect Number')\n",
    "else:\n",
    "    print('Not')"
   ]
  },
  {
   "cell_type": "code",
   "execution_count": 48,
   "id": "03362a70",
   "metadata": {},
   "outputs": [
    {
     "name": "stdout",
     "output_type": "stream",
     "text": [
      "Automorphic Number\n"
     ]
    }
   ],
   "source": [
    "#12-->AUTOMORPHIC NUMBER\n",
    "n=25\n",
    "sq=n**2\n",
    "while n!=0:\n",
    "    if (n%10)!=(sq%10):\n",
    "        print('Not')\n",
    "        break\n",
    "    n//=10\n",
    "    sq//=10\n",
    "else:\n",
    "    print('Automorphic Number')"
   ]
  },
  {
   "cell_type": "code",
   "execution_count": 82,
   "id": "542933f9",
   "metadata": {},
   "outputs": [
    {
     "name": "stdout",
     "output_type": "stream",
     "text": [
      "Trimorphic Number\n"
     ]
    }
   ],
   "source": [
    "#13-->TRIMORPHIC NUMBER\n",
    "n=25\n",
    "sq=n**3\n",
    "while n!=0:\n",
    "    if (n%10)!=(sq%10):\n",
    "        print('Not')\n",
    "        break\n",
    "    n//=10\n",
    "    sq//=10\n",
    "else:\n",
    "    print('Trimorphic Number')"
   ]
  },
  {
   "cell_type": "code",
   "execution_count": 14,
   "id": "91afbc4a",
   "metadata": {},
   "outputs": [
    {
     "name": "stdout",
     "output_type": "stream",
     "text": [
      "192384576\n",
      "Fascinating Number\n"
     ]
    }
   ],
   "source": [
    "#14-->FASCINATING NUMBER\n",
    "n=192\n",
    "res=str(n)+str(n*2)+str(n*3)\n",
    "print(res)\n",
    "for a in res:\n",
    "    if len(res)==9 and res.count(a)>1:\n",
    "        print('Not')\n",
    "        break\n",
    "else:\n",
    "    print('Fascinating Number')"
   ]
  },
  {
   "cell_type": "code",
   "execution_count": 21,
   "id": "a78be841",
   "metadata": {},
   "outputs": [
    {
     "name": "stdout",
     "output_type": "stream",
     "text": [
      "Evil Number\n"
     ]
    }
   ],
   "source": [
    "#15-->EVIL NUMBER\n",
    "n=29\n",
    "count=0\n",
    "while n!=0:\n",
    "    if n%2==1:\n",
    "        count+=1\n",
    "    n//=2\n",
    "if count%2==0:\n",
    "    print('Evil Number')\n",
    "else:\n",
    "    print('Not')"
   ]
  },
  {
   "cell_type": "code",
   "execution_count": 69,
   "id": "50f67e30",
   "metadata": {},
   "outputs": [
    {
     "name": "stdout",
     "output_type": "stream",
     "text": [
      "Even Number\n"
     ]
    }
   ],
   "source": [
    "#16-->EVEN NUMBER\n",
    "n=22\n",
    "if n%2==0:\n",
    "    print('Even Number')\n",
    "else:\n",
    "    print('Not')"
   ]
  },
  {
   "cell_type": "code",
   "execution_count": 75,
   "id": "85bb97cb",
   "metadata": {},
   "outputs": [
    {
     "name": "stdout",
     "output_type": "stream",
     "text": [
      "HAPPY NUMBER\n"
     ]
    }
   ],
   "source": [
    "#17-->HAPPY NUMBER\n",
    "n=49\n",
    "while (n>9):\n",
    "    res=0\n",
    "    while (n!=0):\n",
    "        rem=n%10\n",
    "        res+=rem**2\n",
    "        n//=10\n",
    "    n=res\n",
    "if n==1:\n",
    "    print('HAPPY NUMBER')\n",
    "else:\n",
    "    print('Not')"
   ]
  },
  {
   "cell_type": "code",
   "execution_count": 72,
   "id": "e72d3c11",
   "metadata": {},
   "outputs": [
    {
     "name": "stdout",
     "output_type": "stream",
     "text": [
      "TECH NUMBER\n"
     ]
    }
   ],
   "source": [
    "#22-->TECH NUMBER\n",
    "n=2025\n",
    "num=n\n",
    "s=str(n)\n",
    "l=len(s)\n",
    "if (l%2==0):\n",
    "    first=s[:l//2]\n",
    "    second=s[l//2:]\n",
    "    plus=int(first)+int(second)\n",
    "    square=plus**2\n",
    "if num==square:\n",
    "    print('TECH NUMBER')\n",
    "else:\n",
    "    print('Not')"
   ]
  },
  {
   "cell_type": "code",
   "execution_count": 70,
   "id": "e7fdf7fa",
   "metadata": {},
   "outputs": [
    {
     "name": "stdout",
     "output_type": "stream",
     "text": [
      "Odd Number\n"
     ]
    }
   ],
   "source": [
    "#18-->ODD NUMBER\n",
    "n=17\n",
    "if n%2==1:\n",
    "    print('Odd Number')\n",
    "else:\n",
    "    print('Not')"
   ]
  },
  {
   "cell_type": "code",
   "execution_count": 25,
   "id": "ec2a1024",
   "metadata": {},
   "outputs": [
    {
     "name": "stdout",
     "output_type": "stream",
     "text": [
      "Odius Number\n"
     ]
    }
   ],
   "source": [
    "#19-->ODIUS NUMBER\n",
    "n=25\n",
    "count=0\n",
    "while n!=0:\n",
    "    if n%2==1:\n",
    "        count+=1\n",
    "    n//=2\n",
    "if count%2==1:\n",
    "    print('Odius Number')\n",
    "else:\n",
    "    print('Not')"
   ]
  },
  {
   "cell_type": "code",
   "execution_count": 83,
   "id": "ded66403",
   "metadata": {},
   "outputs": [
    {
     "name": "stdout",
     "output_type": "stream",
     "text": [
      "2\n",
      "3\n",
      "7\n",
      "41\n"
     ]
    }
   ],
   "source": [
    "#20-->PRIME FACTORS OF GIVEN NUMBER\n",
    "n=1722\n",
    "for i in range(1,n+1):\n",
    "    if (n%i==0) and (i>1):\n",
    "        for a in range(2,i//2+1):\n",
    "            if i%a==0:\n",
    "                break\n",
    "        else:\n",
    "            print(i)"
   ]
  },
  {
   "cell_type": "code",
   "execution_count": 82,
   "id": "42e312b6",
   "metadata": {},
   "outputs": [
    {
     "name": "stdout",
     "output_type": "stream",
     "text": [
      "Pronic Number\n"
     ]
    }
   ],
   "source": [
    "#21-->PRONIC NUMBER\n",
    "n=56\n",
    "res=1\n",
    "while res<n:\n",
    "    if res*(res+1)==n:\n",
    "        print('Pronic Number')\n",
    "        break\n",
    "    res+=1\n",
    "else:\n",
    "    print('Not')"
   ]
  },
  {
   "cell_type": "code",
   "execution_count": 60,
   "id": "d1932a8a",
   "metadata": {},
   "outputs": [
    {
     "name": "stdout",
     "output_type": "stream",
     "text": [
      "Spy number\n"
     ]
    }
   ],
   "source": [
    "#23-->SPY NUMBER\n",
    "n=123\n",
    "add=0\n",
    "prod=1\n",
    "while n!=0:\n",
    "    rem=n%10\n",
    "    add+=rem\n",
    "    prod*=rem\n",
    "    n//=10\n",
    "if add==prod:\n",
    "    print('Spy number')\n",
    "else:\n",
    "    print('Not')"
   ]
  },
  {
   "cell_type": "code",
   "execution_count": 44,
   "id": "04dddd3f",
   "metadata": {},
   "outputs": [
    {
     "name": "stdout",
     "output_type": "stream",
     "text": [
      "Composite Number\n"
     ]
    }
   ],
   "source": [
    "#24-->COMPOSITE NUMBER\n",
    "n=22\n",
    "for i in range(2,n//2+1):\n",
    "    if n%i==0:\n",
    "        print('Composite Number')\n",
    "        break  \n",
    "else:\n",
    "    print('Not')"
   ]
  },
  {
   "cell_type": "code",
   "execution_count": 47,
   "id": "8ccfa187",
   "metadata": {},
   "outputs": [
    {
     "name": "stdout",
     "output_type": "stream",
     "text": [
      "Ugly Number\n"
     ]
    }
   ],
   "source": [
    "#25-->UGLY NUMBER\n",
    "n=1152\n",
    "d=[2,3,5]\n",
    "for i in d:\n",
    "    while n%i==0:\n",
    "        n//=i\n",
    "if n==1:\n",
    "    print('Ugly Number')\n",
    "else:\n",
    "    print('Not')"
   ]
  },
  {
   "cell_type": "code",
   "execution_count": 2,
   "id": "157f62fc",
   "metadata": {
    "scrolled": true
   },
   "outputs": [
    {
     "name": "stdout",
     "output_type": "stream",
     "text": [
      "Sunny Number\n"
     ]
    }
   ],
   "source": [
    "#26-->SUNNY NUMBER\n",
    "n=24\n",
    "res=1\n",
    "while res<n:\n",
    "    if res**2==n+1:\n",
    "        print('Sunny Number')\n",
    "        break\n",
    "    res+=1\n",
    "else:\n",
    "    print('Not')"
   ]
  },
  {
   "cell_type": "code",
   "execution_count": 55,
   "id": "18f379db",
   "metadata": {},
   "outputs": [
    {
     "name": "stdout",
     "output_type": "stream",
     "text": [
      "1011\n"
     ]
    }
   ],
   "source": [
    "#27-->DECIMAL TO BINARY\n",
    "n=11\n",
    "res=0\n",
    "p=1\n",
    "while n!=0:\n",
    "    rem=n%2\n",
    "    res+=rem*p\n",
    "    n//=2\n",
    "    p*=10\n",
    "print(res)"
   ]
  },
  {
   "cell_type": "code",
   "execution_count": 58,
   "id": "e16a9af9",
   "metadata": {},
   "outputs": [
    {
     "name": "stdout",
     "output_type": "stream",
     "text": [
      "11\n"
     ]
    }
   ],
   "source": [
    "#28-->BINARY TO DECIMAL\n",
    "n=1011\n",
    "res=0\n",
    "p=0\n",
    "while n!=0:\n",
    "    rem=n%10\n",
    "    res+=rem*2**p\n",
    "    n//=10\n",
    "    p+=1\n",
    "print(res)"
   ]
  },
  {
   "cell_type": "code",
   "execution_count": 92,
   "id": "2cb71573",
   "metadata": {},
   "outputs": [
    {
     "name": "stdout",
     "output_type": "stream",
     "text": [
      "Enter number: 22\n",
      "1 3 7 13 19 \n"
     ]
    }
   ],
   "source": [
    "#29-->LUCKY NUMBER\n",
    "# python program to find all lucky numbers before N\n",
    "# take number input\n",
    "num = int(input(\"Enter number: \"))\n",
    "\n",
    "# create list and fill it with numbers from 1 to num\n",
    "arr = [i+1 for i in range(num)]\n",
    "\n",
    "# loop to find the lucky number\n",
    "for step in range(2, num//2):\n",
    "    count = 0\n",
    "    for i in range(num):\n",
    "        # count is used to get the correct non-zero element\n",
    "        if arr[i] != 0:\n",
    "            count += 1\n",
    "        # if count is divisible by step, then change the element to 0\n",
    "        if count % step == 0:\n",
    "            arr[i] = 0\n",
    "\n",
    "# print the lucky number\n",
    "for i in range(num):\n",
    "    if arr[i] != 0:\n",
    "        print(arr[i], end=\" \")\n",
    "print()"
   ]
  },
  {
   "cell_type": "code",
   "execution_count": 107,
   "id": "c0f9f209",
   "metadata": {},
   "outputs": [
    {
     "name": "stdout",
     "output_type": "stream",
     "text": [
      "98\n",
      "Beautiful Number\n"
     ]
    }
   ],
   "source": [
    "#30-->BEAUTIFUL NUMBER\n",
    "import re\n",
    "n=int(input())\n",
    "l=\"^[8-9]+$\"\n",
    "x=0\n",
    "if re.match(l,str(n)):\n",
    "    print(\"Beautiful Number\")\n",
    "else:\n",
    "    print('Not')"
   ]
  },
  {
   "cell_type": "code",
   "execution_count": 108,
   "id": "bde95ad0",
   "metadata": {},
   "outputs": [
    {
     "name": "stdout",
     "output_type": "stream",
     "text": [
      "99\n",
      "beautiful\n"
     ]
    }
   ],
   "source": [
    "#31-->SUPER NUMBER\n",
    "import re\n",
    "n=int(input())\n",
    "l=\"^[8-9]+$\"\n",
    "x=0\n",
    "if re.match(l,str(n)):\n",
    "    print(\"beautiful\")\n",
    "else:\n",
    "    for i in range(8,int(n/2+1),1):\n",
    "        if re.match(l,str(i)) and n%i==0:\n",
    "            print(\"beautiful\")\n",
    "            x=1\n",
    "            break\n",
    "    if x==0:\n",
    "        print(-1)"
   ]
  },
  {
   "cell_type": "code",
   "execution_count": 2,
   "id": "78b80a09",
   "metadata": {},
   "outputs": [
    {
     "name": "stdout",
     "output_type": "stream",
     "text": [
      "Fibinocci Number\n"
     ]
    }
   ],
   "source": [
    "#32-->FIBINOCCI NUMBER\n",
    "n=89\n",
    "f,s=0,1\n",
    "while f<=n:\n",
    "    if f==n:\n",
    "        print('Fibinocci Number')\n",
    "        break\n",
    "    f,s=s,f+s\n",
    "else:\n",
    "    print('Not')"
   ]
  },
  {
   "cell_type": "code",
   "execution_count": 1,
   "id": "6ce0cb61",
   "metadata": {},
   "outputs": [
    {
     "name": "stdout",
     "output_type": "stream",
     "text": [
      "Pure Number\n"
     ]
    }
   ],
   "source": [
    "#33-->PURE NUMBER\n",
    "n=54455445\n",
    "s=str(n)\n",
    "l=len(s)\n",
    "res=0\n",
    "num=n\n",
    "for i in s:\n",
    "    if '4'<=i<='5':\n",
    "        while n!=0:\n",
    "            rem=n%10\n",
    "            res=res*10+rem\n",
    "            n//=10\n",
    "if num==res and l%2==0:\n",
    "    print('Pure Number')\n",
    "else:\n",
    "    print('Not')"
   ]
  },
  {
   "cell_type": "code",
   "execution_count": null,
   "id": "bcfb1b37",
   "metadata": {},
   "outputs": [],
   "source": []
  },
  {
   "cell_type": "code",
   "execution_count": null,
   "id": "3d0087a4",
   "metadata": {},
   "outputs": [],
   "source": []
  }
 ],
 "metadata": {
  "kernelspec": {
   "display_name": "Python 3 (ipykernel)",
   "language": "python",
   "name": "python3"
  },
  "language_info": {
   "codemirror_mode": {
    "name": "ipython",
    "version": 3
   },
   "file_extension": ".py",
   "mimetype": "text/x-python",
   "name": "python",
   "nbconvert_exporter": "python",
   "pygments_lexer": "ipython3",
   "version": "3.9.13"
  }
 },
 "nbformat": 4,
 "nbformat_minor": 5
}
