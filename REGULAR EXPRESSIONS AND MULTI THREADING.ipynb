{
 "cells": [
  {
   "cell_type": "code",
   "execution_count": 1,
   "id": "e5c02396",
   "metadata": {},
   "outputs": [
    {
     "name": "stdout",
     "output_type": "stream",
     "text": [
      "in 2nd elif block\n"
     ]
    }
   ],
   "source": [
    "if False:\n",
    "    print('in if block')\n",
    "elif False:\n",
    "    print('in 1st elif block')\n",
    "elif True:\n",
    "    print('in 2nd elif block')\n",
    "elif False:\n",
    "    print('in 3rd elif block')\n",
    "else:\n",
    "    print('in else block')"
   ]
  },
  {
   "cell_type": "code",
   "execution_count": 4,
   "id": "8e8d024b",
   "metadata": {},
   "outputs": [
    {
     "name": "stdout",
     "output_type": "stream",
     "text": [
      "c is highest\n"
     ]
    }
   ],
   "source": [
    "a,b,c=10,20,30\n",
    "if a>b:\n",
    "    print('a is highest')\n",
    "elif b>c:\n",
    "    print('b is highest')\n",
    "elif a>c:\n",
    "    print('a is highest')\n",
    "else:\n",
    "    print('c is highest')"
   ]
  },
  {
   "cell_type": "code",
   "execution_count": 4,
   "id": "39409b25",
   "metadata": {},
   "outputs": [
    {
     "name": "stdout",
     "output_type": "stream",
     "text": [
      "d is highest\n"
     ]
    }
   ],
   "source": [
    "a,b,c,d=11,12,13,14\n",
    "if a>b and a>c and a>d:\n",
    "    print('a is highest')\n",
    "elif b>c and b>d :\n",
    "    print('b is highest')\n",
    "elif c>d:\n",
    "    print('c is highest')\n",
    "else:\n",
    "    print('d is highest')"
   ]
  },
  {
   "cell_type": "code",
   "execution_count": 5,
   "id": "8f278284",
   "metadata": {},
   "outputs": [
    {
     "name": "stdout",
     "output_type": "stream",
     "text": [
      "e is highest\n"
     ]
    }
   ],
   "source": [
    "a,b,c,d,e=11,22,33,44,55\n",
    "if a>b and a>c and a>d and a>e:\n",
    "    print('a is highest')\n",
    "elif b>c and b>d and b>e:\n",
    "    print('b is highest')\n",
    "elif c>d and c>e:\n",
    "    print('c is highest')\n",
    "elif d>e:\n",
    "    print('d is highest')\n",
    "else:\n",
    "    print('e is highest')"
   ]
  },
  {
   "cell_type": "code",
   "execution_count": 1,
   "id": "72cc0100",
   "metadata": {},
   "outputs": [
    {
     "data": {
      "text/plain": [
       "<re.Match object; span=(0, 1), match='h'>"
      ]
     },
     "execution_count": 1,
     "metadata": {},
     "output_type": "execute_result"
    }
   ],
   "source": [
    "#Regular Expressions\n",
    "import re\n",
    "S='hai python'\n",
    "re.match('h',S)"
   ]
  },
  {
   "cell_type": "code",
   "execution_count": 10,
   "id": "364d8b05",
   "metadata": {},
   "outputs": [
    {
     "data": {
      "text/plain": [
       "<re.Match object; span=(0, 3), match='hai'>"
      ]
     },
     "execution_count": 10,
     "metadata": {},
     "output_type": "execute_result"
    }
   ],
   "source": [
    "import re\n",
    "S='hai python'\n",
    "re.match('\\w{3}',S)"
   ]
  },
  {
   "cell_type": "code",
   "execution_count": 3,
   "id": "c05cee2c",
   "metadata": {},
   "outputs": [],
   "source": [
    "re.match('p',S)"
   ]
  },
  {
   "cell_type": "code",
   "execution_count": 4,
   "id": "57af6e4c",
   "metadata": {},
   "outputs": [
    {
     "data": {
      "text/plain": [
       "<re.Match object; span=(0, 1), match='h'>"
      ]
     },
     "execution_count": 4,
     "metadata": {},
     "output_type": "execute_result"
    }
   ],
   "source": [
    "re.search('h',S)"
   ]
  },
  {
   "cell_type": "code",
   "execution_count": 5,
   "id": "d583de18",
   "metadata": {},
   "outputs": [
    {
     "data": {
      "text/plain": [
       "<re.Match object; span=(1, 2), match='a'>"
      ]
     },
     "execution_count": 5,
     "metadata": {},
     "output_type": "execute_result"
    }
   ],
   "source": [
    "re.search('a',S)"
   ]
  },
  {
   "cell_type": "code",
   "execution_count": 6,
   "id": "82e6cb6a",
   "metadata": {},
   "outputs": [
    {
     "data": {
      "text/plain": [
       "<re.Match object; span=(4, 5), match='p'>"
      ]
     },
     "execution_count": 6,
     "metadata": {},
     "output_type": "execute_result"
    }
   ],
   "source": [
    "re.search('p',S)"
   ]
  },
  {
   "cell_type": "code",
   "execution_count": 7,
   "id": "f79c6dab",
   "metadata": {},
   "outputs": [],
   "source": [
    "re.search('w',S)"
   ]
  },
  {
   "cell_type": "code",
   "execution_count": 8,
   "id": "4e0909c5",
   "metadata": {},
   "outputs": [
    {
     "data": {
      "text/plain": [
       "['p']"
      ]
     },
     "execution_count": 8,
     "metadata": {},
     "output_type": "execute_result"
    }
   ],
   "source": [
    "re.findall('p',S)"
   ]
  },
  {
   "cell_type": "code",
   "execution_count": 9,
   "id": "964f5ad3",
   "metadata": {},
   "outputs": [
    {
     "data": {
      "text/plain": [
       "['h', 'h']"
      ]
     },
     "execution_count": 9,
     "metadata": {},
     "output_type": "execute_result"
    }
   ],
   "source": [
    "re.findall('h',S)"
   ]
  },
  {
   "cell_type": "code",
   "execution_count": 3,
   "id": "46d0c678",
   "metadata": {},
   "outputs": [
    {
     "data": {
      "text/plain": [
       "[]"
      ]
     },
     "execution_count": 3,
     "metadata": {},
     "output_type": "execute_result"
    }
   ],
   "source": [
    "import re\n",
    "S='hai python'\n",
    "re.findall('d',S)"
   ]
  },
  {
   "cell_type": "code",
   "execution_count": 8,
   "id": "424375aa",
   "metadata": {},
   "outputs": [],
   "source": [
    "re.search('^p',S)"
   ]
  },
  {
   "cell_type": "code",
   "execution_count": 9,
   "id": "4f1094f0",
   "metadata": {},
   "outputs": [],
   "source": [
    "re.search('p$',S)"
   ]
  },
  {
   "cell_type": "code",
   "execution_count": 10,
   "id": "9c708c79",
   "metadata": {},
   "outputs": [
    {
     "data": {
      "text/plain": [
       "<re.Match object; span=(9, 10), match='n'>"
      ]
     },
     "execution_count": 10,
     "metadata": {},
     "output_type": "execute_result"
    }
   ],
   "source": [
    "re.search('n$',S)"
   ]
  },
  {
   "cell_type": "code",
   "execution_count": 11,
   "id": "b3c45769",
   "metadata": {},
   "outputs": [
    {
     "data": {
      "text/plain": [
       "['heep', 'hp', 'heeep', 'hep', 'heeeeep']"
      ]
     },
     "execution_count": 11,
     "metadata": {},
     "output_type": "execute_result"
    }
   ],
   "source": [
    "S2='hai help heep hp heeep hep heeeeep'\n",
    "re.findall('he*p',S2)"
   ]
  },
  {
   "cell_type": "code",
   "execution_count": 12,
   "id": "aaa7c265",
   "metadata": {},
   "outputs": [
    {
     "data": {
      "text/plain": [
       "['heep', 'heeep', 'hep', 'heeeeep']"
      ]
     },
     "execution_count": 12,
     "metadata": {},
     "output_type": "execute_result"
    }
   ],
   "source": [
    "re.findall('he+p',S2)"
   ]
  },
  {
   "cell_type": "code",
   "execution_count": 13,
   "id": "6a6d60c2",
   "metadata": {},
   "outputs": [
    {
     "data": {
      "text/plain": [
       "['hp', 'hep']"
      ]
     },
     "execution_count": 13,
     "metadata": {},
     "output_type": "execute_result"
    }
   ],
   "source": [
    "re.findall('he?p',S2)"
   ]
  },
  {
   "cell_type": "code",
   "execution_count": 14,
   "id": "710d21f7",
   "metadata": {},
   "outputs": [
    {
     "data": {
      "text/plain": [
       "['heep']"
      ]
     },
     "execution_count": 14,
     "metadata": {},
     "output_type": "execute_result"
    }
   ],
   "source": [
    "re.findall('he{2}p',S2)"
   ]
  },
  {
   "cell_type": "code",
   "execution_count": 15,
   "id": "21aaeacc",
   "metadata": {},
   "outputs": [
    {
     "data": {
      "text/plain": [
       "['heep', 'heeep']"
      ]
     },
     "execution_count": 15,
     "metadata": {},
     "output_type": "execute_result"
    }
   ],
   "source": [
    "re.findall('he{2,3}p',S2)"
   ]
  },
  {
   "cell_type": "code",
   "execution_count": 16,
   "id": "95c88e2d",
   "metadata": {},
   "outputs": [
    {
     "data": {
      "text/plain": [
       "['heep', 'heeep', 'heeeeep']"
      ]
     },
     "execution_count": 16,
     "metadata": {},
     "output_type": "execute_result"
    }
   ],
   "source": [
    "re.findall('he{2,7}p',S2)"
   ]
  },
  {
   "cell_type": "code",
   "execution_count": 1,
   "id": "53094df2",
   "metadata": {},
   "outputs": [
    {
     "data": {
      "text/plain": [
       "['hai', 'heep', 'hp']"
      ]
     },
     "execution_count": 1,
     "metadata": {},
     "output_type": "execute_result"
    }
   ],
   "source": [
    "import re\n",
    "S='hai heep hp hello'\n",
    "re.findall('he*p|hai',S)"
   ]
  },
  {
   "cell_type": "code",
   "execution_count": 21,
   "id": "1ecef7cb",
   "metadata": {},
   "outputs": [
    {
     "data": {
      "text/plain": [
       "[' ', ' ', ' ', '!', '@', '#', '$', '%', '^', '&', '*', '(', ')']"
      ]
     },
     "execution_count": 21,
     "metadata": {},
     "output_type": "execute_result"
    }
   ],
   "source": [
    "import re\n",
    "S='hai heep hp hello!@#$%^&*()'\n",
    "re.findall('\\W',S)"
   ]
  },
  {
   "cell_type": "code",
   "execution_count": 3,
   "id": "a90b0b99",
   "metadata": {},
   "outputs": [
    {
     "data": {
      "text/plain": [
       "['H', 'a', 'i', '1', '2', '_', 'b', 'y', 'e']"
      ]
     },
     "execution_count": 3,
     "metadata": {},
     "output_type": "execute_result"
    }
   ],
   "source": [
    "S1='Hai 12_@bye'\n",
    "re.findall('\\w',S1)"
   ]
  },
  {
   "cell_type": "code",
   "execution_count": 4,
   "id": "dc3bca30",
   "metadata": {},
   "outputs": [
    {
     "data": {
      "text/plain": [
       "['Ha', '12', 'by']"
      ]
     },
     "execution_count": 4,
     "metadata": {},
     "output_type": "execute_result"
    }
   ],
   "source": [
    "re.findall('\\w{2}',S1)"
   ]
  },
  {
   "cell_type": "code",
   "execution_count": 5,
   "id": "6f90fcb6",
   "metadata": {},
   "outputs": [
    {
     "data": {
      "text/plain": [
       "['Hai', '12_', 'bye']"
      ]
     },
     "execution_count": 5,
     "metadata": {},
     "output_type": "execute_result"
    }
   ],
   "source": [
    "re.findall('\\w{3}',S1)"
   ]
  },
  {
   "cell_type": "code",
   "execution_count": 6,
   "id": "8e0b0144",
   "metadata": {},
   "outputs": [
    {
     "data": {
      "text/plain": [
       "[]"
      ]
     },
     "execution_count": 6,
     "metadata": {},
     "output_type": "execute_result"
    }
   ],
   "source": [
    "re.findall('\\w{4}',S1)"
   ]
  },
  {
   "cell_type": "code",
   "execution_count": 1,
   "id": "c20f165e",
   "metadata": {},
   "outputs": [
    {
     "data": {
      "text/plain": [
       "['abc']"
      ]
     },
     "execution_count": 1,
     "metadata": {},
     "output_type": "execute_result"
    }
   ],
   "source": [
    "import re\n",
    "S='abcdef'\n",
    "re.findall('abc',S)"
   ]
  },
  {
   "cell_type": "code",
   "execution_count": 2,
   "id": "e04880ba",
   "metadata": {},
   "outputs": [
    {
     "data": {
      "text/plain": [
       "['a', 'b', 'c']"
      ]
     },
     "execution_count": 2,
     "metadata": {},
     "output_type": "execute_result"
    }
   ],
   "source": [
    "re.findall('[abc]',S)"
   ]
  },
  {
   "cell_type": "code",
   "execution_count": 3,
   "id": "e476e9e0",
   "metadata": {},
   "outputs": [
    {
     "data": {
      "text/plain": [
       "[]"
      ]
     },
     "execution_count": 3,
     "metadata": {},
     "output_type": "execute_result"
    }
   ],
   "source": [
    "re.findall('enkej',S)"
   ]
  },
  {
   "cell_type": "code",
   "execution_count": 5,
   "id": "ddd05a8a",
   "metadata": {},
   "outputs": [
    {
     "data": {
      "text/plain": [
       "['i', 'l', 'o', 'e', 'o', 'h', 'i', 'h', 'm']"
      ]
     },
     "execution_count": 5,
     "metadata": {},
     "output_type": "execute_result"
    }
   ],
   "source": [
    "import re\n",
    "d='iloveyouCharishma'\n",
    "re.findall('[e-p]',d)"
   ]
  },
  {
   "cell_type": "code",
   "execution_count": 7,
   "id": "dfb014fa",
   "metadata": {},
   "outputs": [
    {
     "data": {
      "text/plain": [
       "['i', 'e', 'h', 'a', 'i', 'h', 'a']"
      ]
     },
     "execution_count": 7,
     "metadata": {},
     "output_type": "execute_result"
    }
   ],
   "source": [
    "re.findall('[a-k]',d)"
   ]
  },
  {
   "cell_type": "code",
   "execution_count": 9,
   "id": "80d324d5",
   "metadata": {},
   "outputs": [
    {
     "data": {
      "text/plain": [
       "['i',\n",
       " 'l',\n",
       " 'o',\n",
       " 'v',\n",
       " 'e',\n",
       " 'y',\n",
       " 'o',\n",
       " 'u',\n",
       " 'C',\n",
       " 'h',\n",
       " 'a',\n",
       " 'r',\n",
       " 'i',\n",
       " 's',\n",
       " 'h',\n",
       " 'm',\n",
       " 'a']"
      ]
     },
     "execution_count": 9,
     "metadata": {},
     "output_type": "execute_result"
    }
   ],
   "source": [
    "re.findall('[a-zA-Z]',d)"
   ]
  },
  {
   "cell_type": "code",
   "execution_count": 11,
   "id": "b06b8200",
   "metadata": {},
   "outputs": [
    {
     "data": {
      "text/plain": [
       "['c',\n",
       " 'h',\n",
       " 'a',\n",
       " 'r',\n",
       " 'd',\n",
       " 'e',\n",
       " 'v',\n",
       " 'i',\n",
       " '1',\n",
       " '7',\n",
       " '2',\n",
       " '2',\n",
       " '1',\n",
       " '4',\n",
       " '3',\n",
       " 'C',\n",
       " 'D']"
      ]
     },
     "execution_count": 11,
     "metadata": {},
     "output_type": "execute_result"
    }
   ],
   "source": [
    "import re\n",
    "d='chardevi1722143CD'\n",
    "re.findall('[a-zA-Z0-9]',d)\n"
   ]
  },
  {
   "cell_type": "code",
   "execution_count": 12,
   "id": "95140cdf",
   "metadata": {},
   "outputs": [
    {
     "data": {
      "text/plain": [
       "['ch', 'ar', 'de', 'vi', '17', '22', '14', '3C']"
      ]
     },
     "execution_count": 12,
     "metadata": {},
     "output_type": "execute_result"
    }
   ],
   "source": [
    "re.findall('[a-zA-Z0-9][a-zA-Z0-9]',d)"
   ]
  },
  {
   "cell_type": "code",
   "execution_count": 15,
   "id": "bff4a60a",
   "metadata": {},
   "outputs": [
    {
     "data": {
      "text/plain": [
       "['ch', 'ar', 'de', 'vi', '17', '22', '14', '3C']"
      ]
     },
     "execution_count": 15,
     "metadata": {},
     "output_type": "execute_result"
    }
   ],
   "source": [
    "re.findall('[a-zA-Z0-9]{2}',d)"
   ]
  },
  {
   "cell_type": "code",
   "execution_count": 14,
   "id": "1b6e174e",
   "metadata": {},
   "outputs": [
    {
     "data": {
      "text/plain": [
       "['cha', 'rde', 'vi1', '722', '143']"
      ]
     },
     "execution_count": 14,
     "metadata": {},
     "output_type": "execute_result"
    }
   ],
   "source": [
    "re.findall('[a-zA-Z0-9]{3}',d)"
   ]
  },
  {
   "cell_type": "code",
   "execution_count": 16,
   "id": "af7d573e",
   "metadata": {},
   "outputs": [
    {
     "data": {
      "text/plain": [
       "['72', '43']"
      ]
     },
     "execution_count": 16,
     "metadata": {},
     "output_type": "execute_result"
    }
   ],
   "source": [
    "re.findall('[4-9][0-9]',d)"
   ]
  },
  {
   "cell_type": "code",
   "execution_count": 19,
   "id": "28632652",
   "metadata": {},
   "outputs": [
    {
     "data": {
      "text/plain": [
       "['c', 'd']"
      ]
     },
     "execution_count": 19,
     "metadata": {},
     "output_type": "execute_result"
    }
   ],
   "source": [
    "re.findall('[cd]',d)"
   ]
  },
  {
   "cell_type": "code",
   "execution_count": 23,
   "id": "362e577d",
   "metadata": {},
   "outputs": [
    {
     "data": {
      "text/plain": [
       "['c', 'h', 'a', 'r', 'd', 'e', 'v', 'i', '1', '7', '2', '2', '1', '4', '3']"
      ]
     },
     "execution_count": 23,
     "metadata": {},
     "output_type": "execute_result"
    }
   ],
   "source": [
    "import re\n",
    "d='chardevi1722143CD'\n",
    "re.findall('[^CD]',d)"
   ]
  },
  {
   "cell_type": "code",
   "execution_count": 24,
   "id": "20bc9346",
   "metadata": {},
   "outputs": [
    {
     "data": {
      "text/plain": [
       "['+']"
      ]
     },
     "execution_count": 24,
     "metadata": {},
     "output_type": "execute_result"
    }
   ],
   "source": [
    "re.findall('\\+',d)"
   ]
  },
  {
   "cell_type": "code",
   "execution_count": 3,
   "id": "ecc5b086",
   "metadata": {},
   "outputs": [
    {
     "data": {
      "text/plain": [
       "['harshadvali@gmail.com']"
      ]
     },
     "execution_count": 3,
     "metadata": {},
     "output_type": "execute_result"
    }
   ],
   "source": [
    "import re\n",
    "h='harshadvali@gmail.com'\n",
    "re.findall('[a-zA-Z0-9]\\w*[.]?\\w+@gmail[.]com',h)"
   ]
  },
  {
   "cell_type": "code",
   "execution_count": 1,
   "id": "7d3700a0",
   "metadata": {},
   "outputs": [
    {
     "data": {
      "text/plain": [
       "['deviprasadisaka@gmail.com']"
      ]
     },
     "execution_count": 1,
     "metadata": {},
     "output_type": "execute_result"
    }
   ],
   "source": [
    "import re\n",
    "d='deviprasadisaka@gmail.com'\n",
    "re.findall('[a-zA-Z0-9]\\w*[.]?\\w+@gmail[.]com',d)"
   ]
  },
  {
   "cell_type": "code",
   "execution_count": 2,
   "id": "041f653e",
   "metadata": {},
   "outputs": [
    {
     "data": {
      "text/plain": [
       "['chotu950@gmail.com']"
      ]
     },
     "execution_count": 2,
     "metadata": {},
     "output_type": "execute_result"
    }
   ],
   "source": [
    "import re\n",
    "d='chotu950@gmail.com'\n",
    "re.findall('[a-zA-Z0-9]\\w*[.]?\\w+@gmail[.]com',d)"
   ]
  },
  {
   "cell_type": "code",
   "execution_count": 6,
   "id": "55fbe35b",
   "metadata": {},
   "outputs": [
    {
     "data": {
      "text/plain": [
       "['+91-7893347525']"
      ]
     },
     "execution_count": 6,
     "metadata": {},
     "output_type": "execute_result"
    }
   ],
   "source": [
    "d='+91-7893347525'\n",
    "re.findall('[+]91-[6-9]\\d{9}',d)"
   ]
  },
  {
   "cell_type": "code",
   "execution_count": 3,
   "id": "e66f1c0e",
   "metadata": {},
   "outputs": [
    {
     "data": {
      "text/plain": [
       "['+91-8142404690']"
      ]
     },
     "execution_count": 3,
     "metadata": {},
     "output_type": "execute_result"
    }
   ],
   "source": [
    "d='+91-8142404690'\n",
    "re.findall('[+]91-[6-9]\\d{9}',d)"
   ]
  },
  {
   "cell_type": "code",
   "execution_count": 32,
   "id": "55b36052",
   "metadata": {},
   "outputs": [
    {
     "data": {
      "text/plain": [
       "['harshad_vali@gmail.com']"
      ]
     },
     "execution_count": 32,
     "metadata": {},
     "output_type": "execute_result"
    }
   ],
   "source": [
    "h='harshad_vali@gmail.com'\n",
    "re.findall('[a-zA-Z0-9]\\w*[.]?\\w+@gmail[.]com',h)"
   ]
  },
  {
   "cell_type": "code",
   "execution_count": 49,
   "id": "a09e9e4d",
   "metadata": {},
   "outputs": [
    {
     "data": {
      "text/plain": [
       "['+91-7893347525']"
      ]
     },
     "execution_count": 49,
     "metadata": {},
     "output_type": "execute_result"
    }
   ],
   "source": [
    "d='+91-7893347525'\n",
    "re.findall('[+]91\\D[6-9]\\d{9}',d)"
   ]
  },
  {
   "cell_type": "code",
   "execution_count": 5,
   "id": "84815d9d",
   "metadata": {},
   "outputs": [
    {
     "data": {
      "text/plain": [
       "['+91-7893347575', '+91-8142404690']"
      ]
     },
     "execution_count": 5,
     "metadata": {},
     "output_type": "execute_result"
    }
   ],
   "source": [
    "import re\n",
    "d='+91-7893347575,+91-8142404690'\n",
    "re.findall('[+]91\\D[6-9]\\d{9}',d)"
   ]
  },
  {
   "cell_type": "code",
   "execution_count": 1,
   "id": "fef44eff",
   "metadata": {},
   "outputs": [
    {
     "data": {
      "text/plain": [
       "<re.Match object; span=(0, 5), match='22.98'>"
      ]
     },
     "execution_count": 1,
     "metadata": {},
     "output_type": "execute_result"
    }
   ],
   "source": [
    "import re\n",
    "S='22.98'\n",
    "re.match('\\d+[.]\\d+',S)"
   ]
  },
  {
   "cell_type": "code",
   "execution_count": 2,
   "id": "ae0f65a7",
   "metadata": {},
   "outputs": [
    {
     "data": {
      "text/plain": [
       "('22', '9')"
      ]
     },
     "execution_count": 2,
     "metadata": {},
     "output_type": "execute_result"
    }
   ],
   "source": [
    "MO=re.match('(\\d+)[.](\\d)',S)\n",
    "MO.groups()"
   ]
  },
  {
   "cell_type": "code",
   "execution_count": null,
   "id": "9bbd0154",
   "metadata": {},
   "outputs": [],
   "source": [
    "MO=re.match('(\\d+)[.](\\d)',S)\n",
    "MO.groups()"
   ]
  },
  {
   "cell_type": "code",
   "execution_count": 4,
   "id": "68a59d6b",
   "metadata": {},
   "outputs": [
    {
     "data": {
      "text/plain": [
       "[]"
      ]
     },
     "execution_count": 4,
     "metadata": {},
     "output_type": "execute_result"
    }
   ],
   "source": [
    "#\\b and \\B we have to represent raw patterns\n",
    "import re\n",
    "S='hai python how are you'\n",
    "re.findall('\\bh',S)"
   ]
  },
  {
   "cell_type": "code",
   "execution_count": 22,
   "id": "fbc2d070",
   "metadata": {},
   "outputs": [
    {
     "data": {
      "text/plain": [
       "['h', 'h', 'h', 'h']"
      ]
     },
     "execution_count": 22,
     "metadata": {},
     "output_type": "execute_result"
    }
   ],
   "source": [
    "re.findall(r'\\bh',S)"
   ]
  },
  {
   "cell_type": "code",
   "execution_count": 5,
   "id": "da03f1a3",
   "metadata": {},
   "outputs": [
    {
     "data": {
      "text/plain": [
       "['i']"
      ]
     },
     "execution_count": 5,
     "metadata": {},
     "output_type": "execute_result"
    }
   ],
   "source": [
    "import re\n",
    "S='hai python how are you is'\n",
    "re.findall(r'i\\b',S)"
   ]
  },
  {
   "cell_type": "code",
   "execution_count": 6,
   "id": "4560973a",
   "metadata": {},
   "outputs": [
    {
     "data": {
      "text/plain": [
       "['h']"
      ]
     },
     "execution_count": 6,
     "metadata": {},
     "output_type": "execute_result"
    }
   ],
   "source": [
    "re.findall(r'\\Bh',S)"
   ]
  },
  {
   "cell_type": "code",
   "execution_count": 7,
   "id": "e6a680cf",
   "metadata": {},
   "outputs": [
    {
     "data": {
      "text/plain": [
       "['i']"
      ]
     },
     "execution_count": 7,
     "metadata": {},
     "output_type": "execute_result"
    }
   ],
   "source": [
    "re.findall(r'i\\B',S)"
   ]
  },
  {
   "cell_type": "code",
   "execution_count": 2,
   "id": "4287d831",
   "metadata": {},
   "outputs": [
    {
     "data": {
      "text/plain": [
       "['hai', 'python', 'how', 'are', 'you', 'is']"
      ]
     },
     "execution_count": 2,
     "metadata": {},
     "output_type": "execute_result"
    }
   ],
   "source": [
    "import re\n",
    "S='hai python how are you is'\n",
    "re.split('\\s',S)"
   ]
  },
  {
   "cell_type": "code",
   "execution_count": 3,
   "id": "a26b9dab",
   "metadata": {},
   "outputs": [
    {
     "data": {
      "text/plain": [
       "['hai', 'python', 'how', 'are you is']"
      ]
     },
     "execution_count": 3,
     "metadata": {},
     "output_type": "execute_result"
    }
   ],
   "source": [
    "re.split('\\s',S,3)"
   ]
  },
  {
   "cell_type": "code",
   "execution_count": 4,
   "id": "7ec83be2",
   "metadata": {},
   "outputs": [
    {
     "data": {
      "text/plain": [
       "'haicpythonchowcarecyoucis'"
      ]
     },
     "execution_count": 4,
     "metadata": {},
     "output_type": "execute_result"
    }
   ],
   "source": [
    "re.sub('\\s','c',S)"
   ]
  },
  {
   "cell_type": "code",
   "execution_count": 5,
   "id": "fcb86f75",
   "metadata": {},
   "outputs": [
    {
     "data": {
      "text/plain": [
       "'haicpythonchow are you is'"
      ]
     },
     "execution_count": 5,
     "metadata": {},
     "output_type": "execute_result"
    }
   ],
   "source": [
    "re.sub('\\s','c',S,2)"
   ]
  },
  {
   "cell_type": "code",
   "execution_count": 6,
   "id": "e6042856",
   "metadata": {},
   "outputs": [
    {
     "name": "stdout",
     "output_type": "stream",
     "text": [
      "<re.Match object; span=(0, 1), match='h'>\n",
      "<re.Match object; span=(7, 8), match='h'>\n",
      "<re.Match object; span=(11, 12), match='h'>\n"
     ]
    }
   ],
   "source": [
    "IO=re.finditer('h',S)\n",
    "for i in IO:\n",
    "    print(i)"
   ]
  },
  {
   "cell_type": "code",
   "execution_count": 7,
   "id": "0576ea77",
   "metadata": {},
   "outputs": [
    {
     "data": {
      "text/plain": [
       "['hai', 'python', 'how', 'are', 'you', 'is']"
      ]
     },
     "execution_count": 7,
     "metadata": {},
     "output_type": "execute_result"
    }
   ],
   "source": [
    "PO=re.compile('\\s')\n",
    "PO.split(S)"
   ]
  },
  {
   "cell_type": "code",
   "execution_count": 5,
   "id": "28307c61",
   "metadata": {},
   "outputs": [
    {
     "name": "stdout",
     "output_type": "stream",
     "text": [
      "start\n",
      "first line of try\n",
      "enter n value7\n",
      "n is prime\n",
      "end\n"
     ]
    }
   ],
   "source": [
    "class PrimeError(BaseException):\n",
    "    def __init__(self,msg):\n",
    "        self.msg=msg\n",
    "print('start')\n",
    "try:\n",
    "    print('first line of try')\n",
    "    n=int(input('enter n value'))\n",
    "    for i in range(2,n//2+1):\n",
    "        if n%i==0:\n",
    "            raise PrimeError('not prime')\n",
    "except PrimeError as p:\n",
    "    print(p)\n",
    "else:\n",
    "    print('n is prime')\n",
    "print('end')"
   ]
  },
  {
   "cell_type": "code",
   "execution_count": 20,
   "id": "32ef4c35",
   "metadata": {},
   "outputs": [
    {
     "name": "stdout",
     "output_type": "stream",
     "text": [
      "Enter Username :chardevi\n",
      "Enter Password :1722\n",
      "Enter Amount :5000\n",
      "Withdraw is Successfull\n",
      "chardevi Remaining Balance in Account is : 17000\n"
     ]
    }
   ],
   "source": [
    "class CredentialError(BaseException):\n",
    "    def __init__(self,msg):\n",
    "        self.msg=msg\n",
    "class InsufficientError(BaseException):\n",
    "    def __init__(self,msg):\n",
    "        self.msg=msg\n",
    "class Bank():\n",
    "    bank_name='canara'\n",
    "    bank_roi=7\n",
    "    bank_branch='Banglore'\n",
    "    def __init__(self,n,a,ac,b,p):\n",
    "        self.name=n\n",
    "        self.age=a\n",
    "        self.account=ac\n",
    "        self.balance=b\n",
    "        self.password=p\n",
    "    def withdraw(self):\n",
    "        amt=int(input('Enter Amount :'))\n",
    "        if self.balance>amt:\n",
    "            self.balance-=amt\n",
    "            print('Withdraw is Successfull')\n",
    "        else:\n",
    "            raise InsufficientError('Low Balance')\n",
    "devi=Bank('chardevi',22,7893347525,22000,1722)\n",
    "UN=input('Enter Username :')\n",
    "PW=int(input('Enter Password :'))\n",
    "try:\n",
    "    if UN!=devi.name or PW!=devi.password:\n",
    "        raise CredentialError('Login Failed')\n",
    "    else:\n",
    "        try:\n",
    "            devi.withdraw()\n",
    "        except InsufficientError as i:\n",
    "            print(i)\n",
    "except CredentialError as c:\n",
    "    print(c)\n",
    "print('chardevi Remaining Balance in Account is :',devi.balance)"
   ]
  },
  {
   "cell_type": "code",
   "execution_count": 24,
   "id": "debcbf73",
   "metadata": {},
   "outputs": [
    {
     "name": "stdout",
     "output_type": "stream",
     "text": [
      "given a value is less than 0\n"
     ]
    }
   ],
   "source": [
    "#ASSERT KEYWORD\n",
    "a=0\n",
    "try:6\n",
    "    assert a>0,'given a value is less than 0'\n",
    "except AssertionError as ae:\n",
    "    print(ae)\n",
    "else:\n",
    "    print(a)"
   ]
  },
  {
   "cell_type": "code",
   "execution_count": 29,
   "id": "419168d5",
   "metadata": {},
   "outputs": [
    {
     "name": "stdout",
     "output_type": "stream",
     "text": [
      "Given Divisor is Zero\n"
     ]
    }
   ],
   "source": [
    "a=11\n",
    "b=0\n",
    "try:\n",
    "    assert isinstance(a,int) and isinstance(b,int),'Not Integers'\n",
    "    \n",
    "    assert b!=0,'Given Divisor is Zero'\n",
    "    res=a/b\n",
    "except AssertionError as ae:\n",
    "    print(ae)\n",
    "else:\n",
    "    print(res)"
   ]
  },
  {
   "cell_type": "code",
   "execution_count": 1,
   "id": "358dd524",
   "metadata": {},
   "outputs": [
    {
     "name": "stdout",
     "output_type": "stream",
     "text": [
      "enter value7\n",
      "Prime\n"
     ]
    }
   ],
   "source": [
    "class Prime(Exception):\n",
    "    def __init__(self,msg):\n",
    "        self.msg=msg\n",
    "    def __str__(self):\n",
    "        return self.msg\n",
    "try:\n",
    "    n=int(input('enter value'))\n",
    "    if n!=0:\n",
    "        for i in range(2,n//2+1):\n",
    "            if n%i==0:\n",
    "                raise Prime('Not Prime')\n",
    "except Prime as msg:\n",
    "    print(msg)\n",
    "else:\n",
    "    print('Prime')"
   ]
  },
  {
   "cell_type": "code",
   "execution_count": 7,
   "id": "e1aeb715",
   "metadata": {},
   "outputs": [
    {
     "name": "stdout",
     "output_type": "stream",
     "text": [
      "enter value11\n",
      "Not Even\n"
     ]
    }
   ],
   "source": [
    "class Even(Exception):\n",
    "    def __init__(self,msg):\n",
    "        self.msg=msg\n",
    "    def __str__(self):\n",
    "        return self.msg\n",
    "try:\n",
    "    n=int(input('enter value'))\n",
    "    if n%2!=0:\n",
    "        raise Even('Not Even')\n",
    "except Even as msg:\n",
    "    print(msg)\n",
    "else:\n",
    "    print('Even')"
   ]
  },
  {
   "cell_type": "code",
   "execution_count": 22,
   "id": "986091b7",
   "metadata": {},
   "outputs": [
    {
     "name": "stdout",
     "output_type": "stream",
     "text": [
      "enter value17\n",
      "Not Even\n"
     ]
    }
   ],
   "source": [
    "try:\n",
    "    n=int(input('enter value'))\n",
    "    if n%2!=0:\n",
    "        raise Even('Not Even')\n",
    "except Even as msg:\n",
    "    print(msg)\n",
    "else:\n",
    "    print('Even')"
   ]
  },
  {
   "cell_type": "code",
   "execution_count": 23,
   "id": "dfad3bf3",
   "metadata": {},
   "outputs": [
    {
     "name": "stdout",
     "output_type": "stream",
     "text": [
      "enter number:2\n",
      "Even\n"
     ]
    }
   ],
   "source": [
    "try:\n",
    "    n=int(input('enter number:'))\n",
    "    if n%2!=0:\n",
    "        raise Even('Not Even')\n",
    "except Even as msg:\n",
    "    print(msg)\n",
    "else:\n",
    "    print('Even')"
   ]
  },
  {
   "cell_type": "code",
   "execution_count": 35,
   "id": "0f3f5d67",
   "metadata": {},
   "outputs": [
    {
     "name": "stdout",
     "output_type": "stream",
     "text": [
      "Inside try block\n",
      "Inside Except block\n"
     ]
    }
   ],
   "source": [
    "try:\n",
    "    print('Inside try block')\n",
    "    print(z)\n",
    "except:\n",
    "    print('Inside Except block')"
   ]
  },
  {
   "cell_type": "code",
   "execution_count": 36,
   "id": "b6ba94cd",
   "metadata": {},
   "outputs": [
    {
     "name": "stdout",
     "output_type": "stream",
     "text": [
      "60\n",
      "24\n",
      "20\n",
      "Unknown Error Occured\n"
     ]
    }
   ],
   "source": [
    "try:\n",
    "    num=120\n",
    "    l=[2,5,6,'a',0]\n",
    "    for i in l:\n",
    "        print(num//i)\n",
    "except ZeroDivisionError:\n",
    "    print('ZeroDivisionError Occured')\n",
    "except IndexError:\n",
    "    print('Index Error Occured')\n",
    "except:\n",
    "    print('Unknown Error Occured')"
   ]
  },
  {
   "cell_type": "code",
   "execution_count": 2,
   "id": "de6fe230",
   "metadata": {},
   "outputs": [
    {
     "name": "stdout",
     "output_type": "stream",
     "text": [
      "enter number:6\n",
      "Even\n"
     ]
    }
   ],
   "source": [
    "try:\n",
    "    n=int(input('enter number:'))\n",
    "    if n%2!=0:\n",
    "        raise Exception('Not Even')\n",
    "except Exception as msg:\n",
    "    print(msg)\n",
    "else:\n",
    "    print('Even')"
   ]
  },
  {
   "cell_type": "code",
   "execution_count": null,
   "id": "4aa2abf6",
   "metadata": {},
   "outputs": [],
   "source": []
  },
  {
   "cell_type": "code",
   "execution_count": null,
   "id": "f3ec4cf2",
   "metadata": {},
   "outputs": [],
   "source": []
  }
 ],
 "metadata": {
  "kernelspec": {
   "display_name": "Python 3 (ipykernel)",
   "language": "python",
   "name": "python3"
  },
  "language_info": {
   "codemirror_mode": {
    "name": "ipython",
    "version": 3
   },
   "file_extension": ".py",
   "mimetype": "text/x-python",
   "name": "python",
   "nbconvert_exporter": "python",
   "pygments_lexer": "ipython3",
   "version": "3.9.13"
  }
 },
 "nbformat": 4,
 "nbformat_minor": 5
}
