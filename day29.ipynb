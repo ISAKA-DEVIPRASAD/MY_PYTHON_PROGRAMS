{
 "cells": [
  {
   "cell_type": "code",
   "execution_count": 7,
   "id": "9a45c7d3",
   "metadata": {},
   "outputs": [
    {
     "name": "stdout",
     "output_type": "stream",
     "text": [
      "n is prime number\n"
     ]
    }
   ],
   "source": [
    "n=7\n",
    "if n>1:\n",
    "    for d in range(2,n//2+1):\n",
    "        if n%d==0:\n",
    "            print('n is not prime number')\n",
    "            break\n",
    "    else:\n",
    "        print('n is prime number')\n",
    "else:\n",
    "    print('n is not prime number')\n",
    "            "
   ]
  },
  {
   "cell_type": "code",
   "execution_count": null,
   "id": "022f685f",
   "metadata": {},
   "outputs": [],
   "source": [
    "n=int(input('enter value of n:'))\n",
    "res=0\n",
    "num=n\n",
    "while n!=0:\n",
    "    rem=n%10\n",
    "    res+=rem\n",
    "    n//=10\n",
    "print(f'sum of {num} is {res}')"
   ]
  },
  {
   "cell_type": "code",
   "execution_count": 11,
   "id": "a86df210",
   "metadata": {},
   "outputs": [
    {
     "name": "stdout",
     "output_type": "stream",
     "text": [
      "enter value of n:17\n",
      "product of 17 is 7\n"
     ]
    }
   ],
   "source": [
    "n=int(input('enter value of n:'))\n",
    "res=1\n",
    "num=n\n",
    "while n!=0:\n",
    "    rem=n%10\n",
    "    res*=rem\n",
    "    n//=10\n",
    "print(f'product of {num} is {res}')"
   ]
  },
  {
   "cell_type": "code",
   "execution_count": 5,
   "id": "52deed16",
   "metadata": {},
   "outputs": [
    {
     "name": "stdout",
     "output_type": "stream",
     "text": [
      "3\n"
     ]
    }
   ],
   "source": [
    "d=153\n",
    "p=len(str(d))\n",
    "print(p)"
   ]
  },
  {
   "cell_type": "code",
   "execution_count": 48,
   "id": "cfd1a890",
   "metadata": {},
   "outputs": [
    {
     "name": "stdout",
     "output_type": "stream",
     "text": [
      "edcba\n"
     ]
    }
   ],
   "source": [
    "d='abcde'\n",
    "a=''\n",
    "for b in range(-1,-(len(d)+1),-1):\n",
    "    a=a+d[b]\n",
    "print(a)"
   ]
  },
  {
   "cell_type": "code",
   "execution_count": 58,
   "id": "1a644b59",
   "metadata": {},
   "outputs": [
    {
     "name": "stdout",
     "output_type": "stream",
     "text": [
      "927\n"
     ]
    }
   ],
   "source": [
    "def RevStr(n):\n",
    "    if n==-(len(k)+1):\n",
    "        return ''\n",
    "    return k[n]+RevStr(n-1)\n",
    "k='729'\n",
    "print(RevStr(-1))"
   ]
  },
  {
   "cell_type": "code",
   "execution_count": 62,
   "id": "da49a3f1",
   "metadata": {},
   "outputs": [
    {
     "name": "stdout",
     "output_type": "stream",
     "text": [
      "927\n"
     ]
    }
   ],
   "source": [
    "def RevStr(r):\n",
    "    if r==-(len(d)+1):\n",
    "        return ''\n",
    "    return d[r]+RevStr(r-1)\n",
    "d='729'\n",
    "print(RevStr(-1))"
   ]
  },
  {
   "cell_type": "code",
   "execution_count": 75,
   "id": "3119de28",
   "metadata": {},
   "outputs": [
    {
     "name": "stdout",
     "output_type": "stream",
     "text": [
      "1\n",
      "2\n",
      "3\n",
      "4\n",
      "5\n",
      "6\n",
      "7\n",
      "8\n",
      "9\n",
      "10\n"
     ]
    }
   ],
   "source": [
    "def Print_Num(d):\n",
    "    if d==11:\n",
    "        return\n",
    "    print(d)\n",
    "    Print_Num(d+1)\n",
    "Print_Num(1)"
   ]
  },
  {
   "cell_type": "code",
   "execution_count": 88,
   "id": "e978ab9f",
   "metadata": {},
   "outputs": [
    {
     "name": "stdout",
     "output_type": "stream",
     "text": [
      "enter value of X:10\n",
      "34\n"
     ]
    }
   ],
   "source": [
    "def Fib(n):\n",
    "    f,s=0,1\n",
    "    if n==1 or n==2:\n",
    "        return n-1\n",
    "    for i in range(0,n-2):\n",
    "        t=f+s\n",
    "        f,s=s,t\n",
    "    return t\n",
    "X=int(input('enter value of X:'))\n",
    "print(Fib(X))"
   ]
  },
  {
   "cell_type": "code",
   "execution_count": 94,
   "id": "1c82b9bf",
   "metadata": {},
   "outputs": [
    {
     "name": "stdout",
     "output_type": "stream",
     "text": [
      "[5, 7, 22, 15, 21, 20, 11]\n"
     ]
    }
   ],
   "source": [
    "L=[22,11,5,15,21,20,7]\n",
    "for a in range(0,2):\n",
    "    mi=a\n",
    "    for b in range(a+1,len(L)):\n",
    "        if L[mi]>L[b]:\n",
    "            mi=b\n",
    "    L[a],L[mi]=L[mi],L[a]\n",
    "print(L)"
   ]
  },
  {
   "cell_type": "code",
   "execution_count": 1,
   "id": "55465de4",
   "metadata": {},
   "outputs": [
    {
     "name": "stdout",
     "output_type": "stream",
     "text": [
      "4321\n"
     ]
    }
   ],
   "source": [
    "def RevNum(n,pos):\n",
    "    if n==0:\n",
    "        return 0\n",
    "    return(n%10)*pos+RevNum(n//10,pos//10)\n",
    "num=1234\n",
    "p=len(str(num))-1\n",
    "pos=10**p\n",
    "print(RevNum(num,pos))"
   ]
  },
  {
   "cell_type": "code",
   "execution_count": 5,
   "id": "5cfb828e",
   "metadata": {},
   "outputs": [
    {
     "name": "stdout",
     "output_type": "stream",
     "text": [
      "<__main__.Sample object at 0x000001B2EAA51A90>\n",
      "<class '__main__.Sample'>\n"
     ]
    }
   ],
   "source": [
    "class Sample():\n",
    "    pass\n",
    "N=Sample()\n",
    "print(N)\n",
    "print(type(N))"
   ]
  },
  {
   "cell_type": "code",
   "execution_count": 7,
   "id": "c2ed486a",
   "metadata": {},
   "outputs": [
    {
     "name": "stdout",
     "output_type": "stream",
     "text": [
      "Python Fullstack development Santosh\n",
      "Python Fullstack development Santosh\n",
      "Python Fullstack development Santosh\n"
     ]
    }
   ],
   "source": [
    "class PySpiders():\n",
    "    CName='Python Fullstack development'\n",
    "    TName='Santosh'\n",
    "ob1=PySpiders()\n",
    "ob2=PySpiders()\n",
    "print(ob1.CName,ob1.TName)\n",
    "print(ob2.CName,ob2.TName)\n",
    "print(PySpiders.CName,PySpiders.TName)"
   ]
  },
  {
   "cell_type": "code",
   "execution_count": 16,
   "id": "3414c431",
   "metadata": {},
   "outputs": [
    {
     "name": "stdout",
     "output_type": "stream",
     "text": [
      "Java Fullstack Development,Santosh\n",
      "Python Fullstack development,Santosh\n",
      "Python Fullstack development,Santosh\n",
      "Python Fullstack development,Santosh\n"
     ]
    }
   ],
   "source": [
    "class PySpiders():\n",
    "    CName='Python Fullstack development'\n",
    "    TName='Santosh'\n",
    "ob1.CName='Java Fullstack Development'\n",
    "ob2=PySpiders()\n",
    "ob3=PySpiders()\n",
    "print(ob1.CName,ob1.TName,sep=',')\n",
    "print(ob2.CName,ob2.TName,sep=',')\n",
    "print(ob3.CName,ob3.TName,sep=',')\n",
    "print(PySpiders.CName,PySpiders.TName, sep=',')"
   ]
  },
  {
   "cell_type": "code",
   "execution_count": 29,
   "id": "097681f0",
   "metadata": {},
   "outputs": [
    {
     "name": "stdout",
     "output_type": "stream",
     "text": [
      "Java Fullstack Development,Java Fullstack Development\n",
      "Python Fullstack Development,Java Fullstack Development\n",
      "Python Fullstack Development,Java Fullstack Development\n",
      "Python Fullstack Development,Java Fullstack Development\n"
     ]
    }
   ],
   "source": [
    "class PySpiders():\n",
    "    CName='Python Fullstack Development'\n",
    "    TName='Santosh'\n",
    "PySpiders.TName='Java Fullstack Development'\n",
    "ob2=PySpiders()\n",
    "ob3=PySpiders()\n",
    "print(ob1.CName,ob1.TName,sep=',')\n",
    "print(ob2.CName,ob2.TName,sep=',')\n",
    "print(ob3.CName,ob3.TName,sep=',')\n",
    "print(PySpiders.CName,PySpiders.TName, sep=',')"
   ]
  },
  {
   "cell_type": "code",
   "execution_count": 2,
   "id": "63249411",
   "metadata": {},
   "outputs": [
    {
     "name": "stdout",
     "output_type": "stream",
     "text": [
      "sam,22,9333333\n",
      "ram,22,8333333\n"
     ]
    }
   ],
   "source": [
    "class PySpiders():\n",
    "    CName:'Python Fullstack Development'\n",
    "    TName:'Santosh'\n",
    "ob1=PySpiders()\n",
    "ob2=PySpiders()\n",
    "def Details(obj,Name,Age,MNo):\n",
    "    obj.Name=Name\n",
    "    obj.Age=Age\n",
    "    obj.MNo=MNo\n",
    "Details(ob1,'sam',22,9333333)\n",
    "Details(ob2,'ram',22,8333333)\n",
    "print(ob1.Name,ob1.Age,ob1.MNo,sep=',')\n",
    "print(ob2.Name,ob2.Age,ob2.MNo,sep=',')fc\n",
    "    "
   ]
  },
  {
   "cell_type": "code",
   "execution_count": 1,
   "id": "bea863b6",
   "metadata": {},
   "outputs": [
    {
     "name": "stdout",
     "output_type": "stream",
     "text": [
      "yashcurrent account balance is20000\n",
      "Amount Debited Successfully!!!\n",
      "yashcurrent account balance is5000\n"
     ]
    }
   ],
   "source": [
    "class Bank:\n",
    "    BankName='ICICI'\n",
    "    ROI=0.07\n",
    "    def __init__(self,Name,MNo,AccNo,Bal):\n",
    "        self.Name=Name\n",
    "        self.MNo=MNo\n",
    "        self.AccNo=AccNo\n",
    "        self.Bal=Bal\n",
    "    def CheckBalance(self):\n",
    "        print(f'{self.Name}current account balance is{self.Bal}')\n",
    "    def Deposite(self,amt):\n",
    "        self.Bal+=amt\n",
    "        print('Amount Deposited Successfully!!!')\n",
    "    def Withdraw(self,amt):\n",
    "        if self.Bal>=amt:\n",
    "            self.Bal-=amt \n",
    "            print('Amount Debited Successfully!!!')\n",
    "        else:\n",
    "            print('Insufficient Balance!!!')\n",
    "ob1=Bank('kajal',790902979,234525636367,10000)\n",
    "ob2=Bank('yash',892773663,266677127713,20000)\n",
    "\n",
    "ob2.CheckBalance()\n",
    "ob2.Withdraw(15000)\n",
    "ob2.CheckBalance()"
   ]
  },
  {
   "cell_type": "code",
   "execution_count": 17,
   "id": "203b5bd2",
   "metadata": {},
   "outputs": [
    {
     "name": "stdout",
     "output_type": "stream",
     "text": [
      "        1 \n",
      "      4 9 \n",
      "    16 25 36 \n",
      "  49 64 81 100 \n",
      "121 144 169 196 225 \n"
     ]
    }
   ],
   "source": [
    "n=5\n",
    "st=1\n",
    "sp=n-1\n",
    "num=1\n",
    "for i in range(n):\n",
    "    for j in range(sp):\n",
    "        print(' ',end=' ')\n",
    "    for k in range(st):\n",
    "        print(num**2,end=' ')\n",
    "        num+=1\n",
    "    print()\n",
    "    st+=1\n",
    "    sp-=1"
   ]
  },
  {
   "cell_type": "code",
   "execution_count": 8,
   "id": "d6c75d66",
   "metadata": {},
   "outputs": [
    {
     "name": "stdout",
     "output_type": "stream",
     "text": [
      "god is great\n",
      "x:100\n"
     ]
    }
   ],
   "source": [
    "def wish():\n",
    "    print('god is great')\n",
    "    return 100\n",
    "x=wish()\n",
    "print(f'x:{x}')"
   ]
  },
  {
   "cell_type": "code",
   "execution_count": 22,
   "id": "c9b9b064",
   "metadata": {},
   "outputs": [
    {
     "name": "stdout",
     "output_type": "stream",
     "text": [
      "7\n",
      "7\n",
      "2\n"
     ]
    }
   ],
   "source": [
    "def sum(a,b,c):\n",
    "    return a+b+c\n",
    "print(sum(1,2,4))\n",
    "print(sum(2,2,3))\n",
    "print(sum(1,0,1))"
   ]
  },
  {
   "cell_type": "code",
   "execution_count": 4,
   "id": "7349d8da",
   "metadata": {},
   "outputs": [
    {
     "ename": "AttributeError",
     "evalue": "'A' object has no attribute 'd'",
     "output_type": "error",
     "traceback": [
      "\u001b[1;31m---------------------------------------------------------------------------\u001b[0m",
      "\u001b[1;31mAttributeError\u001b[0m                            Traceback (most recent call last)",
      "\u001b[1;32m~\\AppData\\Local\\Temp\\ipykernel_10804\\379357737.py\u001b[0m in \u001b[0;36m<module>\u001b[1;34m\u001b[0m\n\u001b[0;32m      2\u001b[0m     \u001b[1;32mpass\u001b[0m\u001b[1;33m\u001b[0m\u001b[1;33m\u001b[0m\u001b[0m\n\u001b[0;32m      3\u001b[0m \u001b[0mobj\u001b[0m\u001b[1;33m=\u001b[0m\u001b[0mA\u001b[0m\u001b[1;33m(\u001b[0m\u001b[1;33m)\u001b[0m\u001b[1;33m\u001b[0m\u001b[1;33m\u001b[0m\u001b[0m\n\u001b[1;32m----> 4\u001b[1;33m \u001b[0mprint\u001b[0m\u001b[1;33m(\u001b[0m\u001b[0mobj\u001b[0m\u001b[1;33m.\u001b[0m\u001b[0md\u001b[0m\u001b[1;33m)\u001b[0m\u001b[1;33m\u001b[0m\u001b[1;33m\u001b[0m\u001b[0m\n\u001b[0m",
      "\u001b[1;31mAttributeError\u001b[0m: 'A' object has no attribute 'd'"
     ]
    }
   ],
   "source": [
    "class A:\n",
    "    pass\n",
    "obj=A()\n",
    "print(obj.d)"
   ]
  },
  {
   "cell_type": "code",
   "execution_count": null,
   "id": "1059b6f7",
   "metadata": {},
   "outputs": [],
   "source": [
    "                                   💖CHARISHMA💝DEVIPRASAD💖"
   ]
  },
  {
   "cell_type": "code",
   "execution_count": null,
   "id": "8fc7835e",
   "metadata": {},
   "outputs": [],
   "source": [
    "                                          💖CHARDEVI💖"
   ]
  }
 ],
 "metadata": {
  "kernelspec": {
   "display_name": "Python 3 (ipykernel)",
   "language": "python",
   "name": "python3"
  },
  "language_info": {
   "codemirror_mode": {
    "name": "ipython",
    "version": 3
   },
   "file_extension": ".py",
   "mimetype": "text/x-python",
   "name": "python",
   "nbconvert_exporter": "python",
   "pygments_lexer": "ipython3",
   "version": "3.9.13"
  }
 },
 "nbformat": 4,
 "nbformat_minor": 5
}
