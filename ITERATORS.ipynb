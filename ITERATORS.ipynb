{
 "cells": [
  {
   "cell_type": "code",
   "execution_count": 4,
   "id": "b41cc1ea",
   "metadata": {},
   "outputs": [
    {
     "ename": "TypeError",
     "evalue": "'list' object is not an iterator",
     "output_type": "error",
     "traceback": [
      "\u001b[1;31m---------------------------------------------------------------------------\u001b[0m",
      "\u001b[1;31mTypeError\u001b[0m                                 Traceback (most recent call last)",
      "\u001b[1;32m~\\AppData\\Local\\Temp\\ipykernel_6288\\2293449253.py\u001b[0m in \u001b[0;36m<module>\u001b[1;34m\u001b[0m\n\u001b[0;32m      1\u001b[0m \u001b[0md\u001b[0m\u001b[1;33m=\u001b[0m\u001b[1;33m[\u001b[0m\u001b[1;36m11\u001b[0m\u001b[1;33m,\u001b[0m\u001b[1;36m12\u001b[0m\u001b[1;33m,\u001b[0m\u001b[1;36m14\u001b[0m\u001b[1;33m,\u001b[0m\u001b[1;36m21\u001b[0m\u001b[1;33m,\u001b[0m\u001b[1;36m24\u001b[0m\u001b[1;33m,\u001b[0m\u001b[1;36m25\u001b[0m\u001b[1;33m,\u001b[0m\u001b[1;36m27\u001b[0m\u001b[1;33m,\u001b[0m\u001b[1;36m29\u001b[0m\u001b[1;33m,\u001b[0m\u001b[1;36m92\u001b[0m\u001b[1;33m]\u001b[0m\u001b[1;33m\u001b[0m\u001b[1;33m\u001b[0m\u001b[0m\n\u001b[1;32m----> 2\u001b[1;33m \u001b[0mprint\u001b[0m\u001b[1;33m(\u001b[0m\u001b[0mnext\u001b[0m\u001b[1;33m(\u001b[0m\u001b[0md\u001b[0m\u001b[1;33m)\u001b[0m\u001b[1;33m)\u001b[0m\u001b[1;33m\u001b[0m\u001b[1;33m\u001b[0m\u001b[0m\n\u001b[0m",
      "\u001b[1;31mTypeError\u001b[0m: 'list' object is not an iterator"
     ]
    }
   ],
   "source": [
    "d=[11,12,14,21,24,25,27,29,92]\n",
    "print(next(d))"
   ]
  },
  {
   "cell_type": "code",
   "execution_count": 9,
   "id": "90399055",
   "metadata": {},
   "outputs": [
    {
     "name": "stdout",
     "output_type": "stream",
     "text": [
      "11\n",
      "12\n",
      "14\n",
      "21\n",
      "24\n",
      "25\n"
     ]
    }
   ],
   "source": [
    "d=[11,12,14,21,24,25,27,29,92]\n",
    "c=iter(d)\n",
    "try:\n",
    "    print(next(c))\n",
    "    print(next(c))\n",
    "    print(next(c))\n",
    "    print(next(c))\n",
    "    print(next(c))\n",
    "    print(next(c))\n",
    "except:\n",
    "    pass"
   ]
  },
  {
   "cell_type": "code",
   "execution_count": 4,
   "id": "3fa8a212",
   "metadata": {},
   "outputs": [
    {
     "name": "stdout",
     "output_type": "stream",
     "text": [
      "11\n",
      "12\n",
      "14\n",
      "21\n",
      "24\n",
      "25\n",
      "27\n",
      "29\n",
      "92\n"
     ]
    }
   ],
   "source": [
    "d=[11,12,14,21,24,25,27,29,92]\n",
    "c=iter(d)\n",
    "for d in c:\n",
    "    print(d)"
   ]
  },
  {
   "cell_type": "code",
   "execution_count": 14,
   "id": "d194a3a7",
   "metadata": {},
   "outputs": [
    {
     "ename": "TypeError",
     "evalue": "Num() takes no arguments",
     "output_type": "error",
     "traceback": [
      "\u001b[1;31m---------------------------------------------------------------------------\u001b[0m",
      "\u001b[1;31mTypeError\u001b[0m                                 Traceback (most recent call last)",
      "\u001b[1;32m~\\AppData\\Local\\Temp\\ipykernel_6288\\2105787648.py\u001b[0m in \u001b[0;36m<module>\u001b[1;34m\u001b[0m\n\u001b[0;32m     11\u001b[0m         \u001b[0mself\u001b[0m\u001b[1;33m.\u001b[0m\u001b[0mstart\u001b[0m\u001b[1;33m+=\u001b[0m\u001b[1;36m1\u001b[0m\u001b[1;33m\u001b[0m\u001b[1;33m\u001b[0m\u001b[0m\n\u001b[0;32m     12\u001b[0m         \u001b[1;32mreturn\u001b[0m \u001b[0mn\u001b[0m\u001b[1;33m\u001b[0m\u001b[1;33m\u001b[0m\u001b[0m\n\u001b[1;32m---> 13\u001b[1;33m \u001b[0mn\u001b[0m\u001b[1;33m=\u001b[0m\u001b[0mNum\u001b[0m\u001b[1;33m(\u001b[0m\u001b[1;36m1\u001b[0m\u001b[1;33m,\u001b[0m\u001b[1;36m6\u001b[0m\u001b[1;33m)\u001b[0m\u001b[1;33m\u001b[0m\u001b[1;33m\u001b[0m\u001b[0m\n\u001b[0m\u001b[0;32m     14\u001b[0m \u001b[1;32mfor\u001b[0m \u001b[0mi\u001b[0m \u001b[1;32min\u001b[0m \u001b[0mn\u001b[0m\u001b[1;33m:\u001b[0m\u001b[1;33m\u001b[0m\u001b[1;33m\u001b[0m\u001b[0m\n\u001b[0;32m     15\u001b[0m     \u001b[0mprint\u001b[0m\u001b[1;33m(\u001b[0m\u001b[0mi\u001b[0m\u001b[1;33m)\u001b[0m\u001b[1;33m\u001b[0m\u001b[1;33m\u001b[0m\u001b[0m\n",
      "\u001b[1;31mTypeError\u001b[0m: Num() takes no arguments"
     ]
    }
   ],
   "source": [
    "class Num():\n",
    "    def __iter__(self,start,end):\n",
    "        self.start=start\n",
    "        self.end=end\n",
    "    def __iter__(self):\n",
    "        return self\n",
    "    def __next__(self):\n",
    "        n=self.start\n",
    "        if self.start>=self.end:\n",
    "            raise StopIterationError\n",
    "        self.start+=1\n",
    "        return n\n",
    "n=Num(1,6)\n",
    "for i in n:\n",
    "    print(i)"
   ]
  },
  {
   "cell_type": "code",
   "execution_count": 17,
   "id": "be5da283",
   "metadata": {},
   "outputs": [
    {
     "name": "stdout",
     "output_type": "stream",
     "text": [
      "1\n",
      "2\n",
      "3\n",
      "4\n",
      "5\n",
      "6\n"
     ]
    }
   ],
   "source": [
    "class Numbers():\n",
    "    def __init__(self,sv,ev,up=1):\n",
    "        self.sv=sv\n",
    "        self.ev=ev\n",
    "        self.updation=up\n",
    "    def __iter__(self):\n",
    "        self.i=self.sv\n",
    "        return self\n",
    "    def __next__(self):\n",
    "        if self.i<self.ev:\n",
    "            dummy=self.i\n",
    "            self.i+=self.updation\n",
    "            return dummy\n",
    "        else:\n",
    "            raise StopIteration\n",
    "n=Numbers(1,7)\n",
    "for i in n:\n",
    "    print(i)"
   ]
  },
  {
   "cell_type": "code",
   "execution_count": 8,
   "id": "e461e4ba",
   "metadata": {},
   "outputs": [
    {
     "name": "stdout",
     "output_type": "stream",
     "text": [
      "__next__\n",
      "1\n",
      "__next__\n",
      "8\n",
      "__next__\n",
      "27\n",
      "__next__\n",
      "64\n",
      "__next__\n",
      "125\n",
      "__next__\n",
      "216\n",
      "__next__\n"
     ]
    }
   ],
   "source": [
    "class Numbers():\n",
    "    def __init__(self,sv,ev,up=1):\n",
    "        self.sv=sv\n",
    "        self.ev=ev\n",
    "        self.updation=up\n",
    "    def __iter__(self):\n",
    "        self.i=self.sv\n",
    "        return self\n",
    "    def __next__(self):\n",
    "        print('__next__')\n",
    "        if self.i<self.ev:\n",
    "            dummy=self.i\n",
    "            self.i+=self.updation\n",
    "            return dummy**3\n",
    "        else:\n",
    "            raise StopIteration\n",
    "n=Numbers(1,7)\n",
    "for i in n:\n",
    "    print(i)"
   ]
  },
  {
   "cell_type": "code",
   "execution_count": 11,
   "id": "971fe45b",
   "metadata": {},
   "outputs": [
    {
     "name": "stdout",
     "output_type": "stream",
     "text": [
      "2\n",
      "5\n",
      "7\n",
      "12\n",
      "19\n",
      "31\n",
      "50\n"
     ]
    }
   ],
   "source": [
    "class Fib():\n",
    "    def __init__(self,f,s,n):\n",
    "        self.f=f\n",
    "        self.s=s\n",
    "        self.n=n\n",
    "    def __iter__(self):\n",
    "        self.i=1\n",
    "        return self\n",
    "    def __next__(self):\n",
    "        if self.i<=self.n:\n",
    "            self.i+=1\n",
    "            dummy=self.i\n",
    "            dummy=self.f\n",
    "            self.f=self.s\n",
    "            self.s=dummy+self.f\n",
    "            return dummy\n",
    "        raise StopIteration\n",
    "f=Fib(2,5,7)\n",
    "for i in f:\n",
    "    print(i)\n",
    "            "
   ]
  },
  {
   "cell_type": "code",
   "execution_count": 16,
   "id": "26c01e4f",
   "metadata": {},
   "outputs": [
    {
     "name": "stdout",
     "output_type": "stream",
     "text": [
      "2\n",
      "5\n",
      "7\n",
      "12\n",
      "19\n",
      "31\n",
      "50\n"
     ]
    }
   ],
   "source": [
    "class Fib():\n",
    "    def __init__(self,f,s,n):\n",
    "        self.f=f\n",
    "        self.s=s\n",
    "        self.n=n\n",
    "    def __iter__(self):\n",
    "        self.i=1\n",
    "        return self\n",
    "    def __next__(self):\n",
    "        if self.i<=self.n:\n",
    "            self.i+=1\n",
    "            res=self.f\n",
    "            c=self.f+self.s\n",
    "            self.f,self.s=self.s,c\n",
    "            return res\n",
    "        else:\n",
    "            raise StopIteration\n",
    "f=Fib(2,5,7)\n",
    "for i in f:\n",
    "    print(i)"
   ]
  },
  {
   "cell_type": "code",
   "execution_count": 31,
   "id": "86e1a3c5",
   "metadata": {},
   "outputs": [
    {
     "name": "stdout",
     "output_type": "stream",
     "text": [
      "1\n",
      "2\n",
      "3\n",
      "4\n",
      "5\n",
      "6\n",
      "7\n",
      "8\n",
      "9\n",
      "10\n"
     ]
    }
   ],
   "source": [
    "class Num():\n",
    "    def __init__(self,f,l,u=1):\n",
    "        self.f=f\n",
    "        self.l=l\n",
    "        self.u=u\n",
    "    def __iter__(self):\n",
    "        self.i=self.f\n",
    "        return self\n",
    "    def __next__(self):\n",
    "        if self.i<self.l:\n",
    "            res=self.i\n",
    "            self.i+=self.u\n",
    "            return res\n",
    "        else:\n",
    "            raise StopIteration\n",
    "n=Num(1,11)\n",
    "for i in n:\n",
    "    print(i)"
   ]
  },
  {
   "cell_type": "code",
   "execution_count": 21,
   "id": "8c9c018b",
   "metadata": {},
   "outputs": [
    {
     "name": "stdout",
     "output_type": "stream",
     "text": [
      "2\n",
      "5\n",
      "7\n",
      "12\n",
      "19\n",
      "31\n",
      "50\n"
     ]
    }
   ],
   "source": [
    "class Fib():\n",
    "    def __init__(self,f,s,n):\n",
    "        self.f=f\n",
    "        self.s=s\n",
    "        self.n=n\n",
    "    def __iter__(self):\n",
    "        self.i=1\n",
    "        return self\n",
    "    def __next__(self):\n",
    "        if self.i<=self.n:\n",
    "            self.i+=1\n",
    "            res=self.f\n",
    "            c=self.f+self.s\n",
    "            self.f,self.s=self.s,c\n",
    "            return res\n",
    "        else:\n",
    "            raise StopIteration\n",
    "f=Fib(2,5,7)\n",
    "for i in f:\n",
    "    print(i)"
   ]
  },
  {
   "cell_type": "code",
   "execution_count": 1,
   "id": "894f0ea4",
   "metadata": {},
   "outputs": [
    {
     "name": "stdout",
     "output_type": "stream",
     "text": [
      "2\n",
      "7\n",
      "9\n",
      "16\n",
      "25\n",
      "41\n",
      "66\n",
      "107\n",
      "173\n",
      "280\n"
     ]
    }
   ],
   "source": [
    "class Num():\n",
    "    def __init__(self,f,s,n):\n",
    "        self.f=f\n",
    "        self.s=s\n",
    "        self.n=n\n",
    "    def __iter__(self):\n",
    "        self.i=1\n",
    "        return self\n",
    "    def __next__(self):\n",
    "        if self.i<self.n:\n",
    "            res=self.f\n",
    "            self.i+=1\n",
    "            c=self.f+self.s\n",
    "            self.f,self.s=self.s,c\n",
    "            return res\n",
    "        else:\n",
    "            raise StopIteration\n",
    "n=Num(2,7,11)\n",
    "for i in n:\n",
    "    print(i)"
   ]
  },
  {
   "cell_type": "code",
   "execution_count": 27,
   "id": "7d6c291e",
   "metadata": {},
   "outputs": [
    {
     "name": "stdout",
     "output_type": "stream",
     "text": [
      "0\n",
      "2\n",
      "4\n",
      "6\n",
      "8\n"
     ]
    },
    {
     "ename": "StopIteration",
     "evalue": "",
     "output_type": "error",
     "traceback": [
      "\u001b[1;31m---------------------------------------------------------------------------\u001b[0m",
      "\u001b[1;31mStopIteration\u001b[0m                             Traceback (most recent call last)",
      "\u001b[1;32m~\\AppData\\Local\\Temp\\ipykernel_8608\\468685857.py\u001b[0m in \u001b[0;36m<module>\u001b[1;34m\u001b[0m\n\u001b[0;32m     18\u001b[0m \u001b[0mprint\u001b[0m\u001b[1;33m(\u001b[0m\u001b[0mnext\u001b[0m\u001b[1;33m(\u001b[0m\u001b[0mx\u001b[0m\u001b[1;33m)\u001b[0m\u001b[1;33m)\u001b[0m\u001b[1;33m\u001b[0m\u001b[1;33m\u001b[0m\u001b[0m\n\u001b[0;32m     19\u001b[0m \u001b[0mprint\u001b[0m\u001b[1;33m(\u001b[0m\u001b[0mnext\u001b[0m\u001b[1;33m(\u001b[0m\u001b[0mx\u001b[0m\u001b[1;33m)\u001b[0m\u001b[1;33m)\u001b[0m\u001b[1;33m\u001b[0m\u001b[1;33m\u001b[0m\u001b[0m\n\u001b[1;32m---> 20\u001b[1;33m \u001b[0mprint\u001b[0m\u001b[1;33m(\u001b[0m\u001b[0mnext\u001b[0m\u001b[1;33m(\u001b[0m\u001b[0mx\u001b[0m\u001b[1;33m)\u001b[0m\u001b[1;33m)\u001b[0m\u001b[1;33m\u001b[0m\u001b[1;33m\u001b[0m\u001b[0m\n\u001b[0m",
      "\u001b[1;32m~\\AppData\\Local\\Temp\\ipykernel_8608\\468685857.py\u001b[0m in \u001b[0;36m__next__\u001b[1;34m(self)\u001b[0m\n\u001b[0;32m      8\u001b[0m         \u001b[0mn\u001b[0m\u001b[1;33m=\u001b[0m\u001b[0mself\u001b[0m\u001b[1;33m.\u001b[0m\u001b[0mstart\u001b[0m\u001b[1;33m\u001b[0m\u001b[1;33m\u001b[0m\u001b[0m\n\u001b[0;32m      9\u001b[0m         \u001b[1;32mif\u001b[0m \u001b[0mself\u001b[0m\u001b[1;33m.\u001b[0m\u001b[0mstart\u001b[0m\u001b[1;33m==\u001b[0m\u001b[0mself\u001b[0m\u001b[1;33m.\u001b[0m\u001b[0mend\u001b[0m\u001b[1;33m:\u001b[0m\u001b[1;33m\u001b[0m\u001b[1;33m\u001b[0m\u001b[0m\n\u001b[1;32m---> 10\u001b[1;33m             \u001b[1;32mraise\u001b[0m \u001b[0mStopIteration\u001b[0m\u001b[1;33m\u001b[0m\u001b[1;33m\u001b[0m\u001b[0m\n\u001b[0m\u001b[0;32m     11\u001b[0m         \u001b[0mself\u001b[0m\u001b[1;33m.\u001b[0m\u001b[0mstart\u001b[0m\u001b[1;33m+=\u001b[0m\u001b[1;36m2\u001b[0m\u001b[1;33m\u001b[0m\u001b[1;33m\u001b[0m\u001b[0m\n\u001b[0;32m     12\u001b[0m         \u001b[1;32mreturn\u001b[0m \u001b[0mn\u001b[0m\u001b[1;33m\u001b[0m\u001b[1;33m\u001b[0m\u001b[0m\n",
      "\u001b[1;31mStopIteration\u001b[0m: "
     ]
    }
   ],
   "source": [
    "class Seq():\n",
    "    def __init__(self,start,end):\n",
    "        self.start=start\n",
    "        self.end=end\n",
    "    def __iter__(self):\n",
    "        return self\n",
    "    def __next__(self):\n",
    "        n=self.start\n",
    "        if self.start==self.end:\n",
    "            raise StopIteration\n",
    "        self.start+=2\n",
    "        return n\n",
    "ob=Seq(0,10)\n",
    "x=iter(ob)\n",
    "print(next(x))\n",
    "print(next(x))\n",
    "print(next(x))\n",
    "print(next(x))\n",
    "print(next(x))\n",
    "print(next(x))"
   ]
  },
  {
   "cell_type": "code",
   "execution_count": 30,
   "id": "ce9b5969",
   "metadata": {},
   "outputs": [
    {
     "name": "stdout",
     "output_type": "stream",
     "text": [
      "0\n",
      "2\n",
      "4\n",
      "6\n",
      "8\n"
     ]
    }
   ],
   "source": [
    "class Seq():\n",
    "    def __init__(self,start,end):\n",
    "        self.start=start\n",
    "        self.end=end\n",
    "    def __iter__(self):\n",
    "        n=self.start\n",
    "        return self\n",
    "    def __next__(self):\n",
    "        n=self.start\n",
    "        if self.start==self.end:\n",
    "            raise StopIteration\n",
    "        self.start+=2\n",
    "        return n\n",
    "ob=Seq(0,10)\n",
    "x=iter(ob)\n",
    "for i in x:\n",
    "    print(i)"
   ]
  },
  {
   "cell_type": "code",
   "execution_count": 47,
   "id": "dde4d99c",
   "metadata": {},
   "outputs": [
    {
     "name": "stdout",
     "output_type": "stream",
     "text": [
      "1\n",
      "2\n",
      "3\n",
      "4\n",
      "5\n",
      "6\n",
      "7\n",
      "8\n",
      "9\n",
      "10\n",
      "11\n"
     ]
    }
   ],
   "source": [
    "class Python():\n",
    "    def __init__(self,f,l,u=1):\n",
    "        self.f=f\n",
    "        self.l=l\n",
    "        self.u=u\n",
    "    def __iter__(self):\n",
    "        self.i=self.f\n",
    "        return self\n",
    "    def __next__(self):\n",
    "        if self.i<=self.l:\n",
    "            res=self.i\n",
    "            self.i+=self.u\n",
    "            return res\n",
    "        else:\n",
    "            raise StopIteration\n",
    "P=Python(1,11)\n",
    "for i in P:\n",
    "    print(i)"
   ]
  },
  {
   "cell_type": "code",
   "execution_count": 6,
   "id": "a87da8fd",
   "metadata": {},
   "outputs": [
    {
     "name": "stdout",
     "output_type": "stream",
     "text": [
      "1\n",
      "2\n",
      "3\n",
      "4\n",
      "5\n",
      "6\n",
      "7\n",
      "8\n",
      "9\n",
      "10\n"
     ]
    }
   ],
   "source": [
    "class Seq():\n",
    "    def __init__(self,f,e,u=1):\n",
    "        self.f=f\n",
    "        self.e=e\n",
    "        self.u=u\n",
    "    def __iter__(self):\n",
    "        self.i=self.f\n",
    "        return self\n",
    "    def __next__(self):\n",
    "        if self.i<self.e:\n",
    "            res=self.i\n",
    "            self.i+=self.u\n",
    "            return res\n",
    "        else:\n",
    "            raise StopIteration\n",
    "s=Seq(1,11)\n",
    "for i in s:\n",
    "    print(i)"
   ]
  },
  {
   "cell_type": "code",
   "execution_count": 3,
   "id": "964d2b65",
   "metadata": {},
   "outputs": [
    {
     "name": "stdout",
     "output_type": "stream",
     "text": [
      "2\n",
      "5\n",
      "7\n",
      "12\n",
      "19\n",
      "31\n",
      "50\n",
      "81\n",
      "131\n",
      "212\n"
     ]
    }
   ],
   "source": [
    "class Fib():\n",
    "    def __init__(self,f,s,n):\n",
    "        self.f=f\n",
    "        self.s=s\n",
    "        self.n=n\n",
    "    def __iter__(self):\n",
    "        self.i=1\n",
    "        return self\n",
    "    def __next__(self):\n",
    "        if self.i<self.n:\n",
    "            res=self.f\n",
    "            c=self.f+self.s\n",
    "            self.f,self.s=self.s,c\n",
    "            self.i+=1\n",
    "            return res\n",
    "        else:\n",
    "            raise StopIteration\n",
    "f=Fib(2,5,11)\n",
    "for i in f:\n",
    "    print(i)"
   ]
  },
  {
   "cell_type": "code",
   "execution_count": 9,
   "id": "af48e8f0",
   "metadata": {},
   "outputs": [
    {
     "name": "stdout",
     "output_type": "stream",
     "text": [
      "1\n",
      "2\n",
      "3\n",
      "4\n",
      "5\n",
      "6\n",
      "7\n",
      "8\n",
      "9\n",
      "10\n"
     ]
    }
   ],
   "source": [
    "class Series():\n",
    "    def __init__(self,f,e,u=1):\n",
    "        self.f=f\n",
    "        self.e=e\n",
    "        self.u=u\n",
    "    def __iter__(self):\n",
    "        self.i=self.f\n",
    "        return self\n",
    "    def __next__(self):\n",
    "        if self.i<self.e:\n",
    "            res=self.i\n",
    "            self.i+=1\n",
    "            return res\n",
    "        else:\n",
    "            raise StopIteration\n",
    "s=Series(1,11)\n",
    "for i in s:\n",
    "    print(i)"
   ]
  },
  {
   "cell_type": "code",
   "execution_count": 15,
   "id": "fb3bb164",
   "metadata": {},
   "outputs": [
    {
     "name": "stdout",
     "output_type": "stream",
     "text": [
      "seats are booked\n",
      "seats are not available\n"
     ]
    }
   ],
   "source": [
    "def SingleTon(func):\n",
    "    d={}\n",
    "    def inner():\n",
    "        if func not in d:\n",
    "            d[func]=func()\n",
    "        return d[func]\n",
    "    return inner\n",
    "\n",
    "@SingleTon\n",
    "class Python():\n",
    "    def __init__(self):\n",
    "        self.seats=2000\n",
    "    def booking(self,n):\n",
    "        if self.seats>=n:\n",
    "            self.seats-=n\n",
    "            print('seats are booked')\n",
    "        else:\n",
    "            print('seats are not available')\n",
    "p=Python()\n",
    "p.booking(1999)\n",
    "p.booking(1999)"
   ]
  },
  {
   "cell_type": "code",
   "execution_count": 29,
   "id": "f054e615",
   "metadata": {},
   "outputs": [
    {
     "name": "stdout",
     "output_type": "stream",
     "text": [
      "Tickets are Booked\n",
      "Tickets are Not Available\n"
     ]
    }
   ],
   "source": [
    "def SingleTon(devi):\n",
    "    d={}\n",
    "    def inner():\n",
    "        if devi not in d:\n",
    "            d[devi]=devi()\n",
    "        return d[devi]\n",
    "    return inner\n",
    "#@SingleTon\n",
    "class Movies():\n",
    "    def __init__(self):\n",
    "        self.tickets=2000\n",
    "    def booking(self,n):\n",
    "        if self.tickets>=n:\n",
    "            self.tickets-=n\n",
    "            print('Tickets are Booked')\n",
    "        else:\n",
    "            print('Tickets are Not Available')\n",
    "a=Movies()\n",
    "a.booking(1999)\n",
    "a.booking(1999)"
   ]
  },
  {
   "cell_type": "code",
   "execution_count": 19,
   "id": "5c051f87",
   "metadata": {},
   "outputs": [
    {
     "name": "stdout",
     "output_type": "stream",
     "text": [
      "2\n",
      "5\n",
      "7\n",
      "12\n",
      "19\n",
      "31\n",
      "50\n",
      "81\n",
      "131\n",
      "212\n"
     ]
    }
   ],
   "source": [
    "class Fib():\n",
    "    def __init__(self,f,s,n):\n",
    "        self.f=f\n",
    "        self.s=s\n",
    "        self.n=n\n",
    "    def __iter__(self):\n",
    "        self.i=1\n",
    "        return self\n",
    "    def __next__(self):\n",
    "        if self.i<self.n:\n",
    "            res=self.f\n",
    "            d=self.f+self.s\n",
    "            self.f,self.s=self.s,d\n",
    "            self.i+=1\n",
    "            return res\n",
    "        raise StopIteration\n",
    "f=Fib(2,5,11)\n",
    "for a in f:\n",
    "    print(a)"
   ]
  },
  {
   "cell_type": "code",
   "execution_count": 24,
   "id": "a741b754",
   "metadata": {},
   "outputs": [
    {
     "name": "stdout",
     "output_type": "stream",
     "text": [
      "1\n",
      "2\n",
      "3\n",
      "4\n",
      "5\n",
      "6\n",
      "7\n",
      "8\n",
      "9\n",
      "10\n"
     ]
    }
   ],
   "source": [
    "class Series():\n",
    "    def __init__(self,s,e,u):\n",
    "        self.s=s\n",
    "        self.e=e\n",
    "        self.u=u\n",
    "    def __iter__(self):\n",
    "        self.i=self.s\n",
    "        return self\n",
    "    def __next__(self):\n",
    "        if self.i<self.e:\n",
    "            res=self.i\n",
    "            self.i+=1\n",
    "            return res\n",
    "        else:\n",
    "            raise StopIteration\n",
    "s=Series(1,11,1)\n",
    "for b in s:\n",
    "    print(b)"
   ]
  },
  {
   "cell_type": "code",
   "execution_count": 1,
   "id": "2f0bf12d",
   "metadata": {},
   "outputs": [
    {
     "name": "stdout",
     "output_type": "stream",
     "text": [
      "1\n",
      "2\n",
      "3\n",
      "4\n",
      "5\n",
      "6\n",
      "7\n",
      "8\n",
      "9\n",
      "10\n"
     ]
    }
   ],
   "source": [
    "class Number():\n",
    "    def __init__(self,s,e):\n",
    "        self.s=s\n",
    "        self.e=e\n",
    "    def __iter__(self):\n",
    "        return self\n",
    "    def __next__(self):\n",
    "        n=self.s\n",
    "        if self.s>self.e:\n",
    "            raise StopIteration\n",
    "        self.s+=1\n",
    "        return n\n",
    "n=Number(1,10)\n",
    "for i in n:\n",
    "    print(i)"
   ]
  },
  {
   "cell_type": "code",
   "execution_count": 15,
   "id": "1038e544",
   "metadata": {},
   "outputs": [
    {
     "name": "stdout",
     "output_type": "stream",
     "text": [
      "1\n",
      "2\n",
      "3\n",
      "4\n",
      "5\n",
      "6\n",
      "7\n",
      "8\n",
      "9\n",
      "10\n"
     ]
    }
   ],
   "source": [
    "class Number():\n",
    "    def __init__(self,s,e,u=1):\n",
    "        self.s=s\n",
    "        self.e=e\n",
    "        self.u=u\n",
    "    def __iter__(self):\n",
    "        self.i=self.s\n",
    "        return self\n",
    "    def __next__(self):\n",
    "        res=self.s\n",
    "        if self.i<self.e:\n",
    "            res=self.i\n",
    "            self.i+=1\n",
    "            return res\n",
    "        raise StopIteration\n",
    "n=Number(1,11,1)\n",
    "for i in n:\n",
    "    print(i)"
   ]
  },
  {
   "cell_type": "code",
   "execution_count": 20,
   "id": "173a5238",
   "metadata": {},
   "outputs": [
    {
     "name": "stdout",
     "output_type": "stream",
     "text": [
      "2\n",
      "5\n",
      "7\n",
      "12\n",
      "19\n",
      "31\n",
      "50\n",
      "81\n",
      "131\n",
      "212\n"
     ]
    }
   ],
   "source": [
    "class Number():\n",
    "    def __init__(self,f,s,n):\n",
    "        self.f=f\n",
    "        self.s=s\n",
    "        self.n=n\n",
    "    def __iter__(self):\n",
    "        self.i=1\n",
    "        return self\n",
    "    def __next__(self):\n",
    "        if self.i<self.n:\n",
    "            res=self.f\n",
    "            c=self.f+self.s\n",
    "            self.f,self.s=self.s,c\n",
    "            self.i+=1\n",
    "            return res\n",
    "        raise StopIteration\n",
    "n=Number(2,5,11)\n",
    "for i in n:\n",
    "    print(i)"
   ]
  },
  {
   "cell_type": "code",
   "execution_count": null,
   "id": "e29c9cb2",
   "metadata": {},
   "outputs": [],
   "source": [
    "                                   💖CHARISHMA💝DEVIPRASAD💖"
   ]
  },
  {
   "cell_type": "code",
   "execution_count": null,
   "id": "28aced67",
   "metadata": {},
   "outputs": [],
   "source": [
    "                                          💖CHARDEVI💖"
   ]
  }
 ],
 "metadata": {
  "kernelspec": {
   "display_name": "Python 3 (ipykernel)",
   "language": "python",
   "name": "python3"
  },
  "language_info": {
   "codemirror_mode": {
    "name": "ipython",
    "version": 3
   },
   "file_extension": ".py",
   "mimetype": "text/x-python",
   "name": "python",
   "nbconvert_exporter": "python",
   "pygments_lexer": "ipython3",
   "version": "3.9.13"
  }
 },
 "nbformat": 4,
 "nbformat_minor": 5
}
