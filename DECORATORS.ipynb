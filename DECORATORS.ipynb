{
 "cells": [
  {
   "cell_type": "code",
   "execution_count": 1,
   "id": "976e84fb",
   "metadata": {},
   "outputs": [
    {
     "name": "stdout",
     "output_type": "stream",
     "text": [
      "arg:<function Sample at 0x000001E5591E73A0>\n",
      "Sample:<function Outer.<locals>.Inner at 0x000001E5591E7160>\n"
     ]
    }
   ],
   "source": [
    "def Outer(arg):\n",
    "    print(f'arg:{arg}')\n",
    "    def Inner():\n",
    "        print('Inside Inner Function')\n",
    "    return Inner\n",
    "@Outer\n",
    "def Sample():\n",
    "    print('Inside Sample Function')\n",
    "print(f'Sample:{Sample}')"
   ]
  },
  {
   "cell_type": "code",
   "execution_count": 2,
   "id": "03190726",
   "metadata": {},
   "outputs": [
    {
     "name": "stdout",
     "output_type": "stream",
     "text": [
      "Inside Inner Function\n",
      "Inside Sample Function\n"
     ]
    }
   ],
   "source": [
    "def Outer(arg):\n",
    "    def Inner():\n",
    "        print('Inside Inner Function')\n",
    "        arg()\n",
    "    return Inner\n",
    "@Outer\n",
    "def Sample():\n",
    "    print('Inside Sample Function')\n",
    "Sample()"
   ]
  },
  {
   "cell_type": "code",
   "execution_count": 5,
   "id": "5b4b62c3",
   "metadata": {},
   "outputs": [
    {
     "name": "stdout",
     "output_type": "stream",
     "text": [
      "5.0\n",
      "5.0\n"
     ]
    }
   ],
   "source": [
    "def Outer(arg):\n",
    "    def Inner(a,b):\n",
    "        arg(a,b)if a>b else arg(b,a)\n",
    "    return Inner\n",
    "@Outer\n",
    "def Division(x,y):\n",
    "    print(x/y)\n",
    "Division(10,2)\n",
    "Division(2,10)"
   ]
  },
  {
   "cell_type": "code",
   "execution_count": 7,
   "id": "9a188fee",
   "metadata": {},
   "outputs": [
    {
     "name": "stdout",
     "output_type": "stream",
     "text": [
      "One\n",
      "Three\n",
      "N:<function Outer.<locals>.Inner at 0x000001D7FE905280>\n",
      "Two\n"
     ]
    }
   ],
   "source": [
    "def Outer():\n",
    "    print('One')\n",
    "    def Inner():\n",
    "        print('Two')\n",
    "    print('Three')\n",
    "    return Inner\n",
    "N=Outer()\n",
    "print(f'N:{N}')\n",
    "N()"
   ]
  },
  {
   "cell_type": "code",
   "execution_count": 10,
   "id": "a4408b98",
   "metadata": {},
   "outputs": [
    {
     "name": "stdout",
     "output_type": "stream",
     "text": [
      "Inner Function\n",
      "Constructor Called\n",
      "X:<__main__.A object at 0x000001D7FE449670>\n"
     ]
    }
   ],
   "source": [
    "def Outer(arg):\n",
    "    def Inner():\n",
    "        print('Inner Function')\n",
    "        obj=arg()\n",
    "        return obj\n",
    "    return Inner\n",
    "@Outer\n",
    "class A():\n",
    "    def __init__(self):\n",
    "        print('Constructor Called')\n",
    "X=A()\n",
    "print(f'X:{X}')"
   ]
  },
  {
   "cell_type": "code",
   "execution_count": 14,
   "id": "2b7507f4",
   "metadata": {},
   "outputs": [
    {
     "name": "stdout",
     "output_type": "stream",
     "text": [
      "Constructor Called\n",
      "Object Created\n",
      "<__main__.Sample object at 0x000001D7FE8C0C10>/<__main__.Sample object at 0x000001D7FE8C0C10>/<__main__.Sample object at 0x000001D7FE8C0C10>\n"
     ]
    }
   ],
   "source": [
    "def SingleTon(arg):\n",
    "    D={}\n",
    "    def Inner():\n",
    "        if arg not in D:\n",
    "            D[arg]=arg()\n",
    "        return D[arg]\n",
    "    return Inner\n",
    "@SingleTon\n",
    "class Sample():\n",
    "    def __init__(self):\n",
    "        print('Constructor Called')\n",
    "        print('Object Created')\n",
    "ob1=Sample()\n",
    "ob2=Sample()\n",
    "ob3=Sample()\n",
    "print(ob1,ob2,ob3,sep='/')"
   ]
  },
  {
   "cell_type": "code",
   "execution_count": 16,
   "id": "00bb8f92",
   "metadata": {},
   "outputs": [
    {
     "name": "stdout",
     "output_type": "stream",
     "text": [
      "Constructor Called\n",
      "Object Created\n",
      "Constructor Called\n",
      "Object Created\n",
      "Constructor Called\n",
      "Object Created\n"
     ]
    }
   ],
   "source": [
    "class Sample():\n",
    "    def __init__(self):\n",
    "        print('Constructor Called')\n",
    "        print('Object Created')\n",
    "ob1=Sample()\n",
    "ob2=Sample()\n",
    "ob3=Sample()"
   ]
  },
  {
   "cell_type": "code",
   "execution_count": 1,
   "id": "844d3b55",
   "metadata": {},
   "outputs": [
    {
     "name": "stdout",
     "output_type": "stream",
     "text": [
      "Enter number of Tickets:100\n",
      "Tickets Confirmed!!!\n",
      "Enter number of Tickets:100\n",
      "Tickets Confirmed!!!\n",
      "Enter number of Tickets:72\n",
      "Tickets Not Available\n"
     ]
    }
   ],
   "source": [
    "def SingleTon(arg):\n",
    "    D={}\n",
    "    def Inner():\n",
    "        if arg not in D:\n",
    "            D[arg]=arg()\n",
    "        return D[arg]\n",
    "    return Inner\n",
    "@SingleTon\n",
    "class Dhamaka():\n",
    "    def __init__(self):\n",
    "        self.Tickets=270\n",
    "    def Booking(self,n):\n",
    "        if self.Tickets>=n:\n",
    "            self.Tickets-=n\n",
    "            print('Tickets Confirmed!!!')\n",
    "        else:\n",
    "            print('Tickets Not Available')\n",
    "def BMyS():\n",
    "    obj=Dhamaka()\n",
    "    obj.Booking(int(input('Enter number of Tickets:')))\n",
    "BMyS()\n",
    "BMyS()\n",
    "BMyS()"
   ]
  },
  {
   "cell_type": "code",
   "execution_count": 24,
   "id": "f77cb969",
   "metadata": {},
   "outputs": [
    {
     "name": "stdout",
     "output_type": "stream",
     "text": [
      "5.0\n",
      "5.0\n"
     ]
    }
   ],
   "source": [
    "def Outer(arg):\n",
    "    def inner(a,b):\n",
    "        arg (a,b) if a>b else arg(b,a)\n",
    "    return inner\n",
    "@Outer\n",
    "def division(x,y):\n",
    "    print(x/y)\n",
    "division(2,10)\n",
    "division(10,2)"
   ]
  },
  {
   "cell_type": "code",
   "execution_count": 3,
   "id": "b40cfd2b",
   "metadata": {},
   "outputs": [
    {
     "name": "stdout",
     "output_type": "stream",
     "text": [
      "2.0\n"
     ]
    }
   ],
   "source": [
    "def outer(arg):\n",
    "    def inner(a,b):\n",
    "        arg (a,b) if a>b else arg(b,a)\n",
    "    return inner\n",
    "@outer\n",
    "def division(x,y):\n",
    "    print(x/y)\n",
    "division(2,4)"
   ]
  },
  {
   "cell_type": "code",
   "execution_count": 6,
   "id": "9d067ef3",
   "metadata": {},
   "outputs": [
    {
     "name": "stdout",
     "output_type": "stream",
     "text": [
      "1000\n",
      "python developer\n",
      "1000\n",
      "python developer\n",
      "11\n",
      "developer\n"
     ]
    }
   ],
   "source": [
    "def SingleTon(arg):\n",
    "    d={}\n",
    "    def inner():\n",
    "        if arg not in d:\n",
    "            d[arg]=arg()\n",
    "        return d[arg]\n",
    "    return inner\n",
    "@SingleTon\n",
    "class Python():\n",
    "    def __init__(self):\n",
    "        self.tickets=2000\n",
    "    def learning(self,n):\n",
    "        if self.tickets>=n:\n",
    "            self.tickets-=n\n",
    "            print('python developer')\n",
    "        else:\n",
    "            print('developer')\n",
    "def jspiders():\n",
    "    obj=Python()\n",
    "    obj.learning(int(input('')))\n",
    "jspiders()\n",
    "jspiders()\n",
    "jspiders()"
   ]
  },
  {
   "cell_type": "code",
   "execution_count": 8,
   "id": "0e18e962",
   "metadata": {},
   "outputs": [
    {
     "name": "stdout",
     "output_type": "stream",
     "text": [
      "1\n",
      "1\n"
     ]
    }
   ],
   "source": [
    "def outer(arg):\n",
    "    def inner(a,b):\n",
    "        arg (a,b) if a>b else arg(b,a)\n",
    "    return inner\n",
    "@outer\n",
    "def divide(x,y):\n",
    "    print(x//y)\n",
    "divide(22,17)\n",
    "divide(17,22)"
   ]
  },
  {
   "cell_type": "code",
   "execution_count": 1,
   "id": "922553a7",
   "metadata": {},
   "outputs": [
    {
     "name": "stdout",
     "output_type": "stream",
     "text": [
      "1\n",
      "1\n"
     ]
    }
   ],
   "source": [
    "def outer(arg):\n",
    "    def inner(a,b):\n",
    "        arg (a,b) if a>b else arg(b,a)\n",
    "    return inner\n",
    "@outer\n",
    "def divide(x,y):\n",
    "    print(x//y)\n",
    "divide(22,17)\n",
    "divide(17,22)"
   ]
  },
  {
   "cell_type": "code",
   "execution_count": null,
   "id": "ceb14c3f",
   "metadata": {},
   "outputs": [],
   "source": []
  },
  {
   "cell_type": "code",
   "execution_count": null,
   "id": "761362fa",
   "metadata": {},
   "outputs": [],
   "source": []
  }
 ],
 "metadata": {
  "kernelspec": {
   "display_name": "Python 3 (ipykernel)",
   "language": "python",
   "name": "python3"
  },
  "language_info": {
   "codemirror_mode": {
    "name": "ipython",
    "version": 3
   },
   "file_extension": ".py",
   "mimetype": "text/x-python",
   "name": "python",
   "nbconvert_exporter": "python",
   "pygments_lexer": "ipython3",
   "version": "3.9.13"
  }
 },
 "nbformat": 4,
 "nbformat_minor": 5
}
