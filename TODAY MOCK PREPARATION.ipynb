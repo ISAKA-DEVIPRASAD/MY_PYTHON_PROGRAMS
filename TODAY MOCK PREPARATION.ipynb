{
 "cells": [
  {
   "cell_type": "code",
   "execution_count": 2,
   "id": "4f3c01f3",
   "metadata": {},
   "outputs": [
    {
     "name": "stdout",
     "output_type": "stream",
     "text": [
      "['12345']\n"
     ]
    },
    {
     "ename": "TypeError",
     "evalue": "'>' not supported between instances of 'str' and 'int'",
     "output_type": "error",
     "traceback": [
      "\u001b[1;31m---------------------------------------------------------------------------\u001b[0m",
      "\u001b[1;31mTypeError\u001b[0m                                 Traceback (most recent call last)",
      "\u001b[1;32m~\\AppData\\Local\\Temp\\ipykernel_16736\\2842638596.py\u001b[0m in \u001b[0;36m<module>\u001b[1;34m\u001b[0m\n\u001b[0;32m      5\u001b[0m \u001b[0mprint\u001b[0m\u001b[1;33m(\u001b[0m\u001b[0ml\u001b[0m\u001b[1;33m)\u001b[0m\u001b[1;33m\u001b[0m\u001b[1;33m\u001b[0m\u001b[0m\n\u001b[0;32m      6\u001b[0m \u001b[1;32mfor\u001b[0m \u001b[0mi\u001b[0m \u001b[1;32min\u001b[0m \u001b[0mrange\u001b[0m\u001b[1;33m(\u001b[0m\u001b[0mlen\u001b[0m\u001b[1;33m(\u001b[0m\u001b[0ml\u001b[0m\u001b[1;33m)\u001b[0m\u001b[1;33m)\u001b[0m\u001b[1;33m:\u001b[0m\u001b[1;33m\u001b[0m\u001b[1;33m\u001b[0m\u001b[0m\n\u001b[1;32m----> 7\u001b[1;33m     \u001b[1;32mif\u001b[0m \u001b[0ml\u001b[0m\u001b[1;33m[\u001b[0m\u001b[0mi\u001b[0m\u001b[1;33m]\u001b[0m\u001b[1;33m>\u001b[0m\u001b[1;36m1\u001b[0m\u001b[1;33m:\u001b[0m\u001b[1;33m\u001b[0m\u001b[1;33m\u001b[0m\u001b[0m\n\u001b[0m\u001b[0;32m      8\u001b[0m         \u001b[1;32mfor\u001b[0m \u001b[0ma\u001b[0m \u001b[1;32min\u001b[0m \u001b[0mrange\u001b[0m\u001b[1;33m(\u001b[0m\u001b[1;36m2\u001b[0m\u001b[1;33m,\u001b[0m\u001b[0ml\u001b[0m\u001b[1;33m[\u001b[0m\u001b[0mi\u001b[0m\u001b[1;33m]\u001b[0m\u001b[1;33m//\u001b[0m\u001b[1;36m2\u001b[0m\u001b[1;33m+\u001b[0m\u001b[1;36m1\u001b[0m\u001b[1;33m)\u001b[0m\u001b[1;33m:\u001b[0m\u001b[1;33m\u001b[0m\u001b[1;33m\u001b[0m\u001b[0m\n\u001b[0;32m      9\u001b[0m             \u001b[1;32mif\u001b[0m \u001b[0ml\u001b[0m\u001b[1;33m[\u001b[0m\u001b[0mi\u001b[0m\u001b[1;33m]\u001b[0m\u001b[1;33m%\u001b[0m\u001b[0ma\u001b[0m\u001b[1;33m==\u001b[0m\u001b[1;36m0\u001b[0m\u001b[1;33m:\u001b[0m\u001b[1;33m\u001b[0m\u001b[1;33m\u001b[0m\u001b[0m\n",
      "\u001b[1;31mTypeError\u001b[0m: '>' not supported between instances of 'str' and 'int'"
     ]
    }
   ],
   "source": [
    "n=12345\n",
    "s=str(n)\n",
    "l=s.split()\n",
    "nl=[]\n",
    "print(l)\n",
    "for i in range(len(l)):\n",
    "    if l[i]>1:\n",
    "        for a in range(2,l[i]//2+1):\n",
    "            if l[i]%a==0:\n",
    "                nl.append(l[i])\n",
    "                break\n",
    "        else:\n",
    "            nl.append(l[i]+1)\n",
    "print(nl)"
   ]
  },
  {
   "cell_type": "code",
   "execution_count": 6,
   "id": "e2437b14",
   "metadata": {},
   "outputs": [
    {
     "name": "stdout",
     "output_type": "stream",
     "text": [
      "['1', '2', '3', '4', '5']\n"
     ]
    }
   ],
   "source": [
    "n=12345\n",
    "s=str(n)\n",
    "print(list(s))"
   ]
  },
  {
   "cell_type": "code",
   "execution_count": 8,
   "id": "72fbe9df",
   "metadata": {},
   "outputs": [
    {
     "name": "stdout",
     "output_type": "stream",
     "text": [
      " 5 \n",
      " 4 5 \n",
      " 3 4 5 \n",
      " 2 3 4 5 \n",
      " 1 2 3 4 5 \n"
     ]
    }
   ],
   "source": [
    "n=5\n",
    "for i in range(n,0,-1):\n",
    "    print(''*i,end=' ')\n",
    "    for j in range(i,n+1):\n",
    "        print(j,end=' ')\n",
    "    print()"
   ]
  },
  {
   "cell_type": "code",
   "execution_count": 12,
   "id": "61b6e1d6",
   "metadata": {},
   "outputs": [
    {
     "name": "stdout",
     "output_type": "stream",
     "text": [
      "        * \n",
      "      * * \n",
      "    * * * \n",
      "      * * \n",
      "        * \n"
     ]
    }
   ],
   "source": [
    "n=5\n",
    "sp=n-1\n",
    "st=1\n",
    "for i in range(n):\n",
    "    for j in range(sp):\n",
    "        print(' ',end=' ')\n",
    "    for k in range(st):\n",
    "        print('*',end=' ')\n",
    "    print()\n",
    "    if i<n//2:\n",
    "        st+=1\n",
    "        sp-=1\n",
    "    else:\n",
    "        sp+=1\n",
    "        st-=1"
   ]
  },
  {
   "cell_type": "code",
   "execution_count": 19,
   "id": "9045fc29",
   "metadata": {},
   "outputs": [
    {
     "name": "stdout",
     "output_type": "stream",
     "text": [
      "Automorphic Number\n"
     ]
    }
   ],
   "source": [
    "def number(n):\n",
    "    sq=n**2\n",
    "    while n!=0:\n",
    "        if (n%10)!=(sq%10):\n",
    "            return False\n",
    "        n//=10\n",
    "        sq//=10\n",
    "    return True\n",
    "n=25\n",
    "if number(n):\n",
    "    print('Automorphic Number')\n",
    "else:\n",
    "    print('Not a Automorphic Number')"
   ]
  },
  {
   "cell_type": "code",
   "execution_count": 25,
   "id": "685ff156",
   "metadata": {},
   "outputs": [
    {
     "name": "stdout",
     "output_type": "stream",
     "text": [
      "Special Number\n"
     ]
    }
   ],
   "source": [
    "def fact(n):\n",
    "    if n==0:\n",
    "        return 1\n",
    "    return n*fact(n-1)\n",
    "def special(n):\n",
    "    if n==0:\n",
    "        return 0\n",
    "    return fact(n%10)+special(n//10)\n",
    "n=145\n",
    "if n==special(n):\n",
    "    print('Special Number')\n",
    "else:\n",
    "    print('Not a Special Number')"
   ]
  },
  {
   "cell_type": "code",
   "execution_count": 28,
   "id": "26326db2",
   "metadata": {},
   "outputs": [
    {
     "name": "stdout",
     "output_type": "stream",
     "text": [
      "Spy Number\n"
     ]
    }
   ],
   "source": [
    "def add(n):\n",
    "    if n==0:\n",
    "        return 0\n",
    "    return (n%10)+add(n//10)\n",
    "def prod(n):\n",
    "    if n==0:\n",
    "        return 1\n",
    "    return (n%10)*prod(n//10)\n",
    "n=123\n",
    "if add(n)==prod(n):\n",
    "    print('Spy Number')\n",
    "else:\n",
    "    print('Not a Spy Number')"
   ]
  },
  {
   "cell_type": "code",
   "execution_count": 29,
   "id": "a069a0ce",
   "metadata": {},
   "outputs": [
    {
     "name": "stdout",
     "output_type": "stream",
     "text": [
      "120\n"
     ]
    }
   ],
   "source": [
    "def fact(n):\n",
    "    if n==0:\n",
    "        return 1\n",
    "    return n*fact(n-1)\n",
    "print(fact(5))"
   ]
  },
  {
   "cell_type": "code",
   "execution_count": 45,
   "id": "b7810ff3",
   "metadata": {},
   "outputs": [
    {
     "name": "stdout",
     "output_type": "stream",
     "text": [
      "shiT\n",
      "si\n",
      "ycarS\n",
      "[['s', 'h', 'i', 'T'], ['s', 'i'], ['y', 'c', 'a', 'r', 'S']]\n"
     ]
    }
   ],
   "source": [
    "s='This is Scary'\n",
    "l=s.split()\n",
    "nl=[]\n",
    "for i in range(len(l)):\n",
    "    a=list(l[i])\n",
    "    a[0],a[-1]=a[-1],a[0]\n",
    "    print(''.join(a))\n",
    "    nl.append((a))\n",
    "print(nl)"
   ]
  },
  {
   "cell_type": "code",
   "execution_count": 70,
   "id": "c5cb5538",
   "metadata": {},
   "outputs": [
    {
     "name": "stdout",
     "output_type": "stream",
     "text": [
      "AttEnd rEmOck\n"
     ]
    }
   ],
   "source": [
    "l='attend remock'\n",
    "vow='tndrmck'\n",
    "res=''\n",
    "for i in range(len(l)):\n",
    "    if 'a'<=l[i]<='o' and l[i] not in vow:\n",
    "        res+=chr(ord(l[i])-32)\n",
    "    else:\n",
    "        res+=l[i]\n",
    "print(res)"
   ]
  },
  {
   "cell_type": "code",
   "execution_count": 79,
   "id": "a4649f45",
   "metadata": {},
   "outputs": [
    {
     "name": "stdout",
     "output_type": "stream",
     "text": [
      "[0, 1, 12, 4, 10]\n"
     ]
    }
   ],
   "source": [
    "l=[7,19,126,43,101]\n",
    "nl=[]\n",
    "add=0\n",
    "for i in range(len(l)):\n",
    "    rem=l[i]%10\n",
    "    add+=rem\n",
    "    l[i]//=10\n",
    "    nl.append(l[i])\n",
    "print(nl)"
   ]
  },
  {
   "cell_type": "code",
   "execution_count": 93,
   "id": "2f7b4487",
   "metadata": {},
   "outputs": [
    {
     "ename": "SyntaxError",
     "evalue": "invalid syntax (1730531854.py, line 7)",
     "output_type": "error",
     "traceback": [
      "\u001b[1;36m  File \u001b[1;32m\"C:\\Users\\91789\\AppData\\Local\\Temp\\ipykernel_16736\\1730531854.py\"\u001b[1;36m, line \u001b[1;32m7\u001b[0m\n\u001b[1;33m    mid=(low+high)//2\u001b[0m\n\u001b[1;37m       ^\u001b[0m\n\u001b[1;31mSyntaxError\u001b[0m\u001b[1;31m:\u001b[0m invalid syntax\n"
     ]
    }
   ],
   "source": [
    "l=[1,2,3,4,5,6,7,8,9]\n",
    "l.sort()\n",
    "low=0\n",
    "high=len(l)-1\n",
    "user=int(input('enter number'))\n",
    "while (low<=high) and l[low<=user<=l[high]:\n",
    "    mid=(low+high)//2\n",
    "    if l[mid]<user:\n",
    "        low=mid+1\n",
    "    elif l[mid]>user:\n",
    "        high=mid-1\n",
    "    elif l[mid]==user:\n",
    "        print(mid)\n",
    "        break\n",
    "else:\n",
    "    print(-1)"
   ]
  },
  {
   "cell_type": "code",
   "execution_count": 95,
   "id": "b1310ab2",
   "metadata": {},
   "outputs": [
    {
     "name": "stdout",
     "output_type": "stream",
     "text": [
      "(1, 2)\n",
      "(1, 3)\n",
      "(1, 4)\n",
      "(1, 5)\n",
      "(2, 3)\n",
      "(2, 4)\n",
      "(2, 5)\n",
      "(3, 4)\n",
      "(3, 5)\n",
      "(4, 5)\n"
     ]
    }
   ],
   "source": [
    "l=[1,2,3,4,5]\n",
    "for i in range(len(l)):\n",
    "    for j in range(i+1,len(l)):\n",
    "        print((l[i],l[j]))"
   ]
  },
  {
   "cell_type": "code",
   "execution_count": 99,
   "id": "428a6128",
   "metadata": {},
   "outputs": [
    {
     "name": "stdout",
     "output_type": "stream",
     "text": [
      "[14, 15, 12, 7, 10]\n"
     ]
    }
   ],
   "source": [
    "l=[10,7,12,15,14]\n",
    "nl=[]\n",
    "for i in range(-1,-(len(l)+1),-1):\n",
    "    nl.append(l[i])\n",
    "print(nl)"
   ]
  },
  {
   "cell_type": "code",
   "execution_count": 103,
   "id": "f93dee6c",
   "metadata": {},
   "outputs": [
    {
     "name": "stdout",
     "output_type": "stream",
     "text": [
      "[14, 15, 12, 7, 10]\n"
     ]
    }
   ],
   "source": [
    "l=[10,7,12,15,14]\n",
    "for i in range(len(l)//2):\n",
    "    l[i],l[len(l)-1-i]=l[len(l)-1-i],l[i]\n",
    "print(l)"
   ]
  },
  {
   "cell_type": "code",
   "execution_count": 112,
   "id": "b00b71be",
   "metadata": {},
   "outputs": [
    {
     "name": "stdout",
     "output_type": "stream",
     "text": [
      "* * * * * \n",
      "*       * \n",
      "*       * \n",
      "*       * \n",
      "* * * * * \n"
     ]
    }
   ],
   "source": [
    "n=5\n",
    "for i in range(1,n+1):\n",
    "    for j in range(1,n+1):\n",
    "        if (i==n) or (j==n) or (i==1) or (j==1):\n",
    "            print('*',end=' ')\n",
    "        else:\n",
    "            print(' ',end=' ')\n",
    "    print()"
   ]
  },
  {
   "cell_type": "code",
   "execution_count": null,
   "id": "bad3d95e",
   "metadata": {},
   "outputs": [],
   "source": []
  },
  {
   "cell_type": "code",
   "execution_count": 115,
   "id": "ec047adb",
   "metadata": {},
   "outputs": [
    {
     "name": "stdout",
     "output_type": "stream",
     "text": [
      "* * * * * \n",
      "*       * \n",
      "*       * \n",
      "*       * \n",
      "* * * * * \n"
     ]
    }
   ],
   "source": [
    "n=5\n",
    "for a in range(1,n+1):\n",
    "    for b in range(1,n+1):\n",
    "        if (a==n) or (b==n) or (a==1) or (b==1) :\n",
    "            print('*',end=' ')\n",
    "        else:\n",
    "            print(' ',end=' ')\n",
    "    print()"
   ]
  },
  {
   "cell_type": "code",
   "execution_count": 2,
   "id": "387554d3",
   "metadata": {},
   "outputs": [
    {
     "name": "stdout",
     "output_type": "stream",
     "text": [
      "P\n",
      "PY\n",
      "PYT\n",
      "PYTH\n",
      "PYTHO\n",
      "PYTHON\n"
     ]
    }
   ],
   "source": [
    "s='PYTHON'\n",
    "c=''\n",
    "for i in range(len(s)):\n",
    "    c+=s[i]\n",
    "    print(c)"
   ]
  },
  {
   "cell_type": "code",
   "execution_count": 9,
   "id": "610bd7b8",
   "metadata": {},
   "outputs": [
    {
     "name": "stdout",
     "output_type": "stream",
     "text": [
      "The next prime number after 12345 is 12347\n"
     ]
    }
   ],
   "source": [
    "def is_prime(n):\n",
    "    if n <= 1:\n",
    "        return False\n",
    "    for i in range(2, int(n**0.5) + 1):\n",
    "        if n % i == 0:\n",
    "            return False\n",
    "    return True\n",
    "\n",
    "def next_prime(number):\n",
    "    next_num = number + 1\n",
    "    while True:\n",
    "        if is_prime(next_num):\n",
    "            return next_num\n",
    "        next_num += 1\n",
    "\n",
    "# Example usage\n",
    "given_number = 12345\n",
    "next_prime_number = next_prime(given_number)\n",
    "print(\"The next prime number after\", given_number, \"is\", next_prime_number)"
   ]
  },
  {
   "cell_type": "code",
   "execution_count": 38,
   "id": "6d1ffe1f",
   "metadata": {},
   "outputs": [
    {
     "name": "stdout",
     "output_type": "stream",
     "text": [
      "5\n",
      "4\n",
      "3\n",
      "2\n",
      "1\n"
     ]
    }
   ],
   "source": [
    "n=12345  #Output-->1446\n",
    "res=0\n",
    "d=0\n",
    "while n!=0:\n",
    "    rem=n%10\n",
    "    res+=rem\n",
    "    n//=10\n",
    "    print(rem)\n",
    "    if rem>1:\n",
    "        for a in range(2,rem//2+1):\n",
    "            if rem%a==0:\n",
    "                break\n",
    "        else:\n",
    "            d+=a+1"
   ]
  },
  {
   "cell_type": "code",
   "execution_count": 51,
   "id": "f853b30c",
   "metadata": {},
   "outputs": [
    {
     "name": "stdout",
     "output_type": "stream",
     "text": [
      "2\n",
      "5\n",
      "7\n",
      "12\n",
      "19\n",
      "31\n",
      "50\n",
      "81\n",
      "131\n",
      "212\n"
     ]
    }
   ],
   "source": [
    "class fib():\n",
    "    def __init__(self,f,s,n):\n",
    "        self.f=f\n",
    "        self.s=s\n",
    "        self.n=n\n",
    "    def __iter__(self):\n",
    "        self.i=1\n",
    "        return self\n",
    "    def __next__(self):\n",
    "        if self.i<self.n:\n",
    "            res=self.f\n",
    "            c=self.f+self.s\n",
    "            self.f,self.s=self.s,c\n",
    "            self.i+=1\n",
    "            return res\n",
    "        raise StopIteration\n",
    "n=fib(2,5,11)\n",
    "for i in n:\n",
    "    print(i)"
   ]
  },
  {
   "cell_type": "code",
   "execution_count": 59,
   "id": "34a11f94",
   "metadata": {},
   "outputs": [
    {
     "name": "stdout",
     "output_type": "stream",
     "text": [
      "1\n",
      "2\n",
      "3\n",
      "4\n",
      "5\n",
      "6\n",
      "7\n",
      "8\n",
      "9\n",
      "10\n"
     ]
    }
   ],
   "source": [
    "class fib():\n",
    "    def __init__(self,f,s,n=1):\n",
    "        self.f=f\n",
    "        self.s=s\n",
    "        self.n=n\n",
    "    def __iter__(self):\n",
    "        self.i=self.f\n",
    "        return self\n",
    "    def __next__(self):\n",
    "        if self.i<self.s:\n",
    "            res=self.i\n",
    "            self.i+=1\n",
    "            return res\n",
    "        raise StopIteration\n",
    "n=fib(1,11)\n",
    "for i in n:\n",
    "    print(i)"
   ]
  },
  {
   "cell_type": "code",
   "execution_count": 70,
   "id": "268e9a6d",
   "metadata": {},
   "outputs": [
    {
     "name": "stdout",
     "output_type": "stream",
     "text": [
      "55\n"
     ]
    }
   ],
   "source": [
    "def fib(n):\n",
    "    if n==1 or n==2:\n",
    "        return n-1\n",
    "    return fib(n-1)+fib(n-2)\n",
    "print(fib(11))"
   ]
  },
  {
   "cell_type": "code",
   "execution_count": 82,
   "id": "71fd09fa",
   "metadata": {},
   "outputs": [
    {
     "name": "stdout",
     "output_type": "stream",
     "text": [
      "140\n",
      "140\n"
     ]
    }
   ],
   "source": [
    "def sample():\n",
    "    global a\n",
    "    a+=90\n",
    "    print(a)\n",
    "a=50\n",
    "sample()\n",
    "print(a)"
   ]
  },
  {
   "cell_type": "code",
   "execution_count": 2,
   "id": "b22af0fa",
   "metadata": {},
   "outputs": [
    {
     "name": "stdout",
     "output_type": "stream",
     "text": [
      "Enter a number: 1234\n",
      "The next prime number after 1234 is 1237.\n"
     ]
    }
   ],
   "source": [
    "def is_prime(n):\n",
    "    if n <= 1:\n",
    "        return False\n",
    "    for i in range(2, int(n**0.5) + 1):\n",
    "        if n % i == 0:\n",
    "            return False\n",
    "    return True\n",
    "\n",
    "def next_prime(number):\n",
    "    next_num = number + 1\n",
    "    while True:\n",
    "        if is_prime(next_num):\n",
    "            return next_num\n",
    "        next_num += 1\n",
    "def num(n):\n",
    "    if n==0:\n",
    "        return 0\n",
    "    return (n%10)+num(n//10)\n",
    "# Example usage\n",
    "num = int(input(\"Enter a number: \"))\n",
    "next_prime_num = next_prime(num)\n",
    "print(f\"The next prime number after {num} is {next_prime_num}.\")"
   ]
  },
  {
   "cell_type": "code",
   "execution_count": null,
   "id": "bf24f0ec",
   "metadata": {},
   "outputs": [],
   "source": []
  },
  {
   "cell_type": "code",
   "execution_count": null,
   "id": "e5c71945",
   "metadata": {},
   "outputs": [],
   "source": []
  }
 ],
 "metadata": {
  "kernelspec": {
   "display_name": "Python 3 (ipykernel)",
   "language": "python",
   "name": "python3"
  },
  "language_info": {
   "codemirror_mode": {
    "name": "ipython",
    "version": 3
   },
   "file_extension": ".py",
   "mimetype": "text/x-python",
   "name": "python",
   "nbconvert_exporter": "python",
   "pygments_lexer": "ipython3",
   "version": "3.9.13"
  }
 },
 "nbformat": 4,
 "nbformat_minor": 5
}
