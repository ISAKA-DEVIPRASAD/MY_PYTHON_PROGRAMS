{
 "cells": [
  {
   "cell_type": "code",
   "execution_count": 8,
   "id": "4dc10da8",
   "metadata": {},
   "outputs": [
    {
     "name": "stdout",
     "output_type": "stream",
     "text": [
      "-1:d\n",
      "-2:da\n",
      "-3:das\n",
      "-4:dasa\n",
      "-5:dasar\n",
      "-6:dasarp\n"
     ]
    }
   ],
   "source": [
    "d= 'prasad'\n",
    "c=''\n",
    "for i in range(-1,-(len(d)+1),-1):\n",
    "    c+=d[i]\n",
    "    print(f'{i}:{c}')"
   ]
  },
  {
   "cell_type": "code",
   "execution_count": 4,
   "id": "72f640e4",
   "metadata": {},
   "outputs": [
    {
     "name": "stdout",
     "output_type": "stream",
     "text": [
      "p\n",
      "pr\n",
      "pra\n",
      "pras\n",
      "prasa\n",
      "prasad\n"
     ]
    }
   ],
   "source": [
    "d='prasad'\n",
    "c=''\n",
    "for a in range(len(d)):\n",
    "    c+=d[a]\n",
    "    print(c)"
   ]
  },
  {
   "cell_type": "code",
   "execution_count": 21,
   "id": "baaca26d",
   "metadata": {},
   "outputs": [
    {
     "name": "stdout",
     "output_type": "stream",
     "text": [
      "prasad\n",
      "rasad\n",
      "asad\n",
      "sad\n",
      "ad\n",
      "d\n"
     ]
    }
   ],
   "source": [
    "d='prasad'\n",
    "for a in range(len(d)):\n",
    "    print(d[a:])"
   ]
  },
  {
   "cell_type": "code",
   "execution_count": null,
   "id": "5ae1447e",
   "metadata": {},
   "outputs": [],
   "source": []
  },
  {
   "cell_type": "code",
   "execution_count": null,
   "id": "511cbf8a",
   "metadata": {},
   "outputs": [],
   "source": []
  },
  {
   "cell_type": "code",
   "execution_count": null,
   "id": "9f6e23a1",
   "metadata": {},
   "outputs": [],
   "source": []
  },
  {
   "cell_type": "code",
   "execution_count": 13,
   "id": "5010fd57",
   "metadata": {},
   "outputs": [
    {
     "name": "stdout",
     "output_type": "stream",
     "text": [
      "5 \n",
      "4 5 \n",
      "3 4 5 \n",
      "2 3 4 5 \n",
      "1 2 3 4 5 \n"
     ]
    }
   ],
   "source": [
    "n=5\n",
    "for i in range(n,0,-1):\n",
    "    for j in range(i,n+1):\n",
    "        print(j,end=' ')\n",
    "    print()"
   ]
  },
  {
   "cell_type": "code",
   "execution_count": 23,
   "id": "5c605398",
   "metadata": {},
   "outputs": [
    {
     "name": "stdout",
     "output_type": "stream",
     "text": [
      "        5 \n",
      "      4 5 \n",
      "    3 4 5 \n",
      "  2 3 4 5 \n",
      "1 2 3 4 5 \n"
     ]
    }
   ],
   "source": [
    "n=5\n",
    "a=n-1\n",
    "for i in range(n,0,-1):\n",
    "    print('  '*a,end='')\n",
    "    for j in range(i,n+1):\n",
    "        print(j,end=' ')\n",
    "    print()\n",
    "    a-=1"
   ]
  },
  {
   "cell_type": "code",
   "execution_count": 26,
   "id": "ba79da29",
   "metadata": {},
   "outputs": [
    {
     "name": "stdout",
     "output_type": "stream",
     "text": [
      "6 5 4 3 2 1 \n",
      "6 5 4 3 2 \n",
      "6 5 4 3 \n",
      "6 5 4 \n",
      "6 5 \n",
      "6 \n"
     ]
    }
   ],
   "source": [
    "n=6\n",
    "for i in range(n):\n",
    "    for j in range(n,i,-1):\n",
    "        print(j,end=' ')\n",
    "    print()"
   ]
  },
  {
   "cell_type": "code",
   "execution_count": 31,
   "id": "20315586",
   "metadata": {},
   "outputs": [
    {
     "name": "stdout",
     "output_type": "stream",
     "text": [
      "d a s a r p \n",
      "d a s a r \n",
      "d a s a \n",
      "d a s \n",
      "d a \n",
      "d \n"
     ]
    }
   ],
   "source": [
    "n='prasad'\n",
    "for i in range(6):\n",
    "    for j in range(6-i):\n",
    "        print(n[6-j-1],end=' ')\n",
    "    print()"
   ]
  },
  {
   "cell_type": "code",
   "execution_count": 1,
   "id": "bf643202",
   "metadata": {},
   "outputs": [
    {
     "name": "stdout",
     "output_type": "stream",
     "text": [
      "devi\n"
     ]
    }
   ],
   "source": [
    "d='davi'\n",
    "print(d.replace('a','e'))"
   ]
  },
  {
   "cell_type": "code",
   "execution_count": 17,
   "id": "9606febc",
   "metadata": {},
   "outputs": [
    {
     "name": "stdout",
     "output_type": "stream",
     "text": [
      "1\n",
      "2\n",
      "3\n",
      "4\n",
      "5\n",
      "6\n",
      "7\n",
      "8\n",
      "9\n",
      "10\n"
     ]
    }
   ],
   "source": [
    "n=1\n",
    "while n<11:\n",
    "    print(n)\n",
    "    n+=1"
   ]
  },
  {
   "cell_type": "code",
   "execution_count": 18,
   "id": "7706c1f9",
   "metadata": {},
   "outputs": [
    {
     "name": "stdout",
     "output_type": "stream",
     "text": [
      "11\n",
      "10\n",
      "9\n",
      "8\n",
      "7\n",
      "6\n",
      "5\n",
      "4\n",
      "3\n",
      "2\n",
      "1\n"
     ]
    }
   ],
   "source": [
    "n=11\n",
    "while n>0:\n",
    "    print(n)\n",
    "    n-=1"
   ]
  },
  {
   "cell_type": "code",
   "execution_count": 22,
   "id": "99dde812",
   "metadata": {},
   "outputs": [
    {
     "name": "stdout",
     "output_type": "stream",
     "text": [
      "-1\n",
      "-2\n",
      "-3\n",
      "-4\n",
      "-5\n",
      "-6\n",
      "-7\n",
      "-8\n",
      "-9\n",
      "-10\n"
     ]
    }
   ],
   "source": [
    "n=-1\n",
    "while n>-11:\n",
    "    print(n)\n",
    "    n-=1"
   ]
  },
  {
   "cell_type": "code",
   "execution_count": 23,
   "id": "c0107bae",
   "metadata": {},
   "outputs": [
    {
     "name": "stdout",
     "output_type": "stream",
     "text": [
      "-11\n",
      "-10\n",
      "-9\n",
      "-8\n",
      "-7\n",
      "-6\n",
      "-5\n",
      "-4\n",
      "-3\n",
      "-2\n"
     ]
    }
   ],
   "source": [
    "n=-11\n",
    "while n<-1:\n",
    "    print(n)\n",
    "    n+=1"
   ]
  },
  {
   "cell_type": "code",
   "execution_count": 3,
   "id": "5b6a8f73",
   "metadata": {},
   "outputs": [
    {
     "name": "stdout",
     "output_type": "stream",
     "text": [
      "d\n",
      "de\n",
      "dev\n",
      "devi\n"
     ]
    }
   ],
   "source": [
    "d='devi'\n",
    "c=''\n",
    "for i in range(len(d)):\n",
    "    c+=d[i]\n",
    "    print(c)"
   ]
  },
  {
   "cell_type": "code",
   "execution_count": 2,
   "id": "b5abd82e",
   "metadata": {},
   "outputs": [
    {
     "name": "stdout",
     "output_type": "stream",
     "text": [
      "ived\n",
      "ive\n",
      "iv\n",
      "i\n"
     ]
    }
   ],
   "source": [
    "d='devi'\n",
    "c=len(d)\n",
    "for i in range(c):\n",
    "    print(d[i:c][::-1])"
   ]
  },
  {
   "cell_type": "code",
   "execution_count": 3,
   "id": "d0f7415b",
   "metadata": {},
   "outputs": [
    {
     "name": "stdout",
     "output_type": "stream",
     "text": [
      "devi\n",
      "evi\n",
      "vi\n",
      "i\n"
     ]
    }
   ],
   "source": [
    "d='devi'\n",
    "c=len(d)\n",
    "for i in range(c):\n",
    "    print(d[i:c])"
   ]
  },
  {
   "cell_type": "code",
   "execution_count": 26,
   "id": "992d801c",
   "metadata": {},
   "outputs": [
    {
     "name": "stdout",
     "output_type": "stream",
     "text": [
      "we\n",
      "are\n",
      "here\n",
      "to\n",
      "learn\n",
      "are he\n",
      "we are here to learn\n",
      "we are here to learn\n",
      "we are here to learn\n",
      "we are here to learn\n",
      "w r eet er\n",
      "wa rtlr\n",
      "w tr\n",
      "h l\n",
      "aeo\n",
      " ot ereh e\n",
      "lo rh\n"
     ]
    },
    {
     "ename": "ValueError",
     "evalue": "slice step cannot be zero",
     "output_type": "error",
     "traceback": [
      "\u001b[1;31m---------------------------------------------------------------------------\u001b[0m",
      "\u001b[1;31mValueError\u001b[0m                                Traceback (most recent call last)",
      "\u001b[1;32m~\\AppData\\Local\\Temp\\ipykernel_3772\\1705353751.py\u001b[0m in \u001b[0;36m<module>\u001b[1;34m\u001b[0m\n\u001b[0;32m     20\u001b[0m \u001b[0mprint\u001b[0m\u001b[1;33m(\u001b[0m\u001b[0ms\u001b[0m\u001b[1;33m[\u001b[0m\u001b[1;36m14\u001b[0m\u001b[1;33m:\u001b[0m\u001b[1;36m4\u001b[0m\u001b[1;33m:\u001b[0m\u001b[1;33m-\u001b[0m\u001b[1;36m1\u001b[0m\u001b[1;33m]\u001b[0m\u001b[1;33m)\u001b[0m\u001b[1;33m\u001b[0m\u001b[1;33m\u001b[0m\u001b[0m\n\u001b[0;32m     21\u001b[0m \u001b[0mprint\u001b[0m\u001b[1;33m(\u001b[0m\u001b[0ms\u001b[0m\u001b[1;33m[\u001b[0m\u001b[1;36m15\u001b[0m\u001b[1;33m:\u001b[0m\u001b[1;36m5\u001b[0m\u001b[1;33m:\u001b[0m\u001b[1;33m-\u001b[0m\u001b[1;36m2\u001b[0m\u001b[1;33m]\u001b[0m\u001b[1;33m)\u001b[0m\u001b[1;33m\u001b[0m\u001b[1;33m\u001b[0m\u001b[0m\n\u001b[1;32m---> 22\u001b[1;33m \u001b[0mprint\u001b[0m\u001b[1;33m(\u001b[0m\u001b[0ms\u001b[0m\u001b[1;33m[\u001b[0m\u001b[1;36m3\u001b[0m\u001b[1;33m:\u001b[0m\u001b[1;36m14\u001b[0m\u001b[1;33m:\u001b[0m\u001b[1;36m0\u001b[0m\u001b[1;33m]\u001b[0m\u001b[1;33m)\u001b[0m\u001b[1;33m\u001b[0m\u001b[1;33m\u001b[0m\u001b[0m\n\u001b[0m",
      "\u001b[1;31mValueError\u001b[0m: slice step cannot be zero"
     ]
    }
   ],
   "source": [
    "#Slicing on String\n",
    "s='we are here to learn'\n",
    "#we are here     t   o    l  e  a  r  n\n",
    "#012345678910 11 12 13 14 15 16 17 18 19\n",
    "print(s[0:2])\n",
    "print(s[3:6])\n",
    "print(s[7:11])\n",
    "print(s[12:14])\n",
    "print(s[15:20])\n",
    "print(s[3:9])\n",
    "print(s[0:])\n",
    "print(s[:])\n",
    "print(s[:10000])\n",
    "print(s[:10000:1])\n",
    "print(s[:10000:2])\n",
    "print(s[:10000:3])\n",
    "print(s[::6])\n",
    "print(s[7:17:4])\n",
    "print(s[3:14:5])\n",
    "print(s[14:4:-1])\n",
    "print(s[15:5:-2])\n",
    "print(s[3:14:0])"
   ]
  },
  {
   "cell_type": "code",
   "execution_count": 38,
   "id": "a42c893b",
   "metadata": {},
   "outputs": [
    {
     "name": "stdout",
     "output_type": "stream",
     "text": [
      "[10, 20, 30]\n",
      "[60, 70, 80]\n",
      "[10, 20, 30, 40, 50, 60, 70, 80]\n",
      "[10, 20, 30, 40, 50, 60, 70, 80]\n",
      "[10, 30, 50, 70]\n",
      "[80, 70, 60, 50, 40, 30, 20, 10]\n",
      "[80, 60, 40, 20]\n",
      "[10, 20]\n",
      "[10, 20, 30, 40, 50, 60, 70, 80]\n",
      "[40]\n",
      "[10, 40, 70]\n",
      "[80, 70, 60, 50, 40, 30, 20, 10]\n"
     ]
    }
   ],
   "source": [
    "#Slicing on List\n",
    "a=[10,20,30,40,50,60,70,80,]\n",
    "#  0 ,1 ,2 ,3 ,4 ,5 ,6 ,7 -->Index Position\n",
    "print(a[0:3])\n",
    "print(a[5:8])\n",
    "print(a[0:8])\n",
    "print(a[:])\n",
    "print(a[::2])\n",
    "print(a[7::-1])\n",
    "print(a[7::-2])\n",
    "print(a[0:2])\n",
    "print(a[:])\n",
    "print(a[3:8:12])\n",
    "print(a[::3])\n",
    "print(a[::-1])"
   ]
  },
  {
   "cell_type": "code",
   "execution_count": 5,
   "id": "994a6851",
   "metadata": {},
   "outputs": [
    {
     "name": "stdout",
     "output_type": "stream",
     "text": [
      "(10, 11, 12, 13, 14, 15, 16, 17, 18)\n",
      "(10, 11, 12)\n",
      "(10, 12, 14, 16, 18)\n",
      "(18, 17, 16, 15, 14, 13, 12, 11, 10)\n",
      "(18, 16, 14, 12, 10)\n"
     ]
    }
   ],
   "source": [
    "#Slicing on Tuple\n",
    "a=(10,11,12,13,14,15,16,17,18)\n",
    "#  0 ,1 ,2 ,3 ,4, 5 ,6 ,7 ,8-->Index Position\n",
    "print(a[:])\n",
    "print(a[:3])\n",
    "print(a[::2])\n",
    "print(a[8::-1])\n",
    "print(a[8::-2])"
   ]
  },
  {
   "cell_type": "code",
   "execution_count": 15,
   "id": "a2ead113",
   "metadata": {},
   "outputs": [
    {
     "name": "stdout",
     "output_type": "stream",
     "text": [
      "(11, 18, 20, 17, 22, 24, 25, 27)\n",
      "(11, 18)\n",
      "(17, 22)\n",
      "(11, 24)\n",
      "(11, 27)\n",
      "(27, 24, 17, 18)\n",
      "(11, 20, 22, 25)\n"
     ]
    }
   ],
   "source": [
    "#Slicing on Tuple\n",
    "d=(11,18,20,17,22,24,25,27)\n",
    "#  0 ,1 ,2 ,3 ,4, 5 ,6 ,7 -->Index Position\n",
    "print(d[:])\n",
    "print(d[:2])\n",
    "print(d[3:5])\n",
    "print(d[::5])\n",
    "print(d[::7])\n",
    "print(d[7::-2])\n",
    "print(d[::2])"
   ]
  },
  {
   "cell_type": "code",
   "execution_count": null,
   "id": "d195f819",
   "metadata": {},
   "outputs": [],
   "source": [
    "                                   💖CHARISHMA💝DEVIPRASAD💖"
   ]
  },
  {
   "cell_type": "code",
   "execution_count": null,
   "id": "ffdfad37",
   "metadata": {},
   "outputs": [],
   "source": [
    "                                          💖CHARDEVI💖"
   ]
  }
 ],
 "metadata": {
  "kernelspec": {
   "display_name": "Python 3 (ipykernel)",
   "language": "python",
   "name": "python3"
  },
  "language_info": {
   "codemirror_mode": {
    "name": "ipython",
    "version": 3
   },
   "file_extension": ".py",
   "mimetype": "text/x-python",
   "name": "python",
   "nbconvert_exporter": "python",
   "pygments_lexer": "ipython3",
   "version": "3.9.13"
  }
 },
 "nbformat": 4,
 "nbformat_minor": 5
}
