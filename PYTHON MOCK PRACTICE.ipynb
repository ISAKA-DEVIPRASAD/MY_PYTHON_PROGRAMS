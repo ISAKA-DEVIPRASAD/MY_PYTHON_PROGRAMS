{
 "cells": [
  {
   "cell_type": "code",
   "execution_count": 1,
   "id": "e9e02b63",
   "metadata": {},
   "outputs": [
    {
     "name": "stdout",
     "output_type": "stream",
     "text": [
      "[2, 5, 7, 12, 21, 22, 34]\n"
     ]
    }
   ],
   "source": [
    "L=[12,2,22,34,21,5,7]\n",
    "for x in range(0,len(L)-1):\n",
    "    for y in range(0,len(L)-1-x):\n",
    "        if L[y]>L[y+1]:\n",
    "            L[y],L[y+1]=L[y+1],L[y]\n",
    "print(L)#bubble sort"
   ]
  },
  {
   "cell_type": "code",
   "execution_count": 3,
   "id": "c8c8feaa",
   "metadata": {},
   "outputs": [
    {
     "name": "stdout",
     "output_type": "stream",
     "text": [
      "[2, 16, 21, 22, 25, 27, 35]\n"
     ]
    }
   ],
   "source": [
    "L=[21,2,27,35,16,22,25]\n",
    "for a in range(0,6):\n",
    "    for b in range(a+1,len(L)):\n",
    "        if L[a]>L[b]:\n",
    "            L[a],L[b]=L[b],L[a]\n",
    "print(L)#selection sort"
   ]
  },
  {
   "cell_type": "code",
   "execution_count": 11,
   "id": "0e233746",
   "metadata": {},
   "outputs": [
    {
     "name": "stdout",
     "output_type": "stream",
     "text": [
      "      1 \n",
      "    1 2 1 \n",
      "  1 2 3 2 1 \n",
      "1 2 3 4 3 2 1 \n",
      "  1 2 3 2 1 \n",
      "    1 2 1 \n",
      "      1 \n"
     ]
    }
   ],
   "source": [
    "n=7\n",
    "st=1\n",
    "sp=n//2\n",
    "for x in range(n):\n",
    "    num=1\n",
    "    for y in range(sp):\n",
    "        print(' ',end=' ')\n",
    "    for z in range(st):\n",
    "        print(num,end=' ')\n",
    "        num=num+1 if z<st//2 else num-1\n",
    "    print()\n",
    "    if x<n//2:\n",
    "        st=st+2\n",
    "        sp=sp-1\n",
    "    else:\n",
    "        st=st-2\n",
    "        sp=sp+1"
   ]
  },
  {
   "cell_type": "code",
   "execution_count": 8,
   "id": "76c1c58a",
   "metadata": {},
   "outputs": [
    {
     "name": "stdout",
     "output_type": "stream",
     "text": [
      "3a2b4c1b2a1f\n"
     ]
    }
   ],
   "source": [
    "s='aaabbccccbaaf'\n",
    "res=''\n",
    "count=1\n",
    "for i in range(0,len(s)-1):\n",
    "    if s[i]==s[i+1]:\n",
    "        count+=1\n",
    "    else:\n",
    "        res+=str(count)+s[i]\n",
    "        count=1\n",
    "res+=str(count)+s[i+1]\n",
    "print(res)"
   ]
  },
  {
   "cell_type": "code",
   "execution_count": 14,
   "id": "dafcd559",
   "metadata": {},
   "outputs": [
    {
     "name": "stdout",
     "output_type": "stream",
     "text": [
      "0\n",
      "4\n",
      "6\n"
     ]
    }
   ],
   "source": [
    "d='abcdabaefg'\n",
    "ch='a'\n",
    "for i in range(0,len(d)):\n",
    "    if d[i]==ch:\n",
    "        print(i)"
   ]
  },
  {
   "cell_type": "code",
   "execution_count": 31,
   "id": "d1e80889",
   "metadata": {},
   "outputs": [
    {
     "name": "stdout",
     "output_type": "stream",
     "text": [
      "                * \n",
      "                * * \n",
      "                * * * \n",
      "                * * * * \n",
      "                * * * * * \n",
      "                * * * * \n",
      "                * * * \n",
      "                * * \n",
      "                * \n"
     ]
    }
   ],
   "source": [
    "n=9\n",
    "st=1\n",
    "sp=n-1\n",
    "for i in range(n):\n",
    "    for j in range(sp):\n",
    "        print(' ',end=' ')\n",
    "    for k in range(st):\n",
    "        print('*',end=' ')\n",
    "    print()\n",
    "    if i<n//2:\n",
    "        sp+=1\n",
    "    else:\n",
    "        sp-=1"
   ]
  },
  {
   "cell_type": "code",
   "execution_count": 37,
   "id": "ed5ac8cd",
   "metadata": {},
   "outputs": [
    {
     "name": "stdout",
     "output_type": "stream",
     "text": [
      "* * * * * \n",
      "* * * * * \n",
      "* * * * * \n",
      "* * * * * \n",
      "* * * * * \n"
     ]
    }
   ],
   "source": [
    "n=5\n",
    "for x in range(n):\n",
    "    for y in range(n):\n",
    "        print('*',end=' ')\n",
    "    print()"
   ]
  },
  {
   "cell_type": "code",
   "execution_count": 40,
   "id": "6f03d861",
   "metadata": {},
   "outputs": [
    {
     "name": "stdout",
     "output_type": "stream",
     "text": [
      "* * * * * \n",
      "* * * * \n",
      "* * * \n",
      "* * \n",
      "* \n"
     ]
    }
   ],
   "source": [
    "n=5\n",
    "st=5\n",
    "for i in range(n):\n",
    "    for j in range(st):\n",
    "        print('*',end=' ')\n",
    "    print()\n",
    "    st-=1"
   ]
  },
  {
   "cell_type": "code",
   "execution_count": 41,
   "id": "0f3e2cbe",
   "metadata": {},
   "outputs": [
    {
     "name": "stdout",
     "output_type": "stream",
     "text": [
      "        * \n",
      "      * * \n",
      "    * * * \n",
      "  * * * * \n",
      "* * * * * \n"
     ]
    }
   ],
   "source": [
    "n=2+3\n",
    "sp=n-1\n",
    "st=n-4\n",
    "for x in range(n):\n",
    "    for y in range(sp):\n",
    "        print(' ',end=' ')\n",
    "    for z in range(st):\n",
    "        print('*',end=' ')\n",
    "    print()\n",
    "    sp-=1\n",
    "    st+=1"
   ]
  },
  {
   "cell_type": "code",
   "execution_count": 46,
   "id": "c6eeee5f",
   "metadata": {},
   "outputs": [
    {
     "name": "stdout",
     "output_type": "stream",
     "text": [
      "* * * * * \n",
      "  * * * * \n",
      "    * * * \n",
      "      * * \n",
      "        * \n"
     ]
    }
   ],
   "source": [
    "n=2+3\n",
    "sp=n-n\n",
    "st=n+0\n",
    "for x in range(n):\n",
    "    for y in range(sp):\n",
    "        print(' ',end=' ')\n",
    "    for z in range(st):\n",
    "        print('*',end=' ')\n",
    "    print()\n",
    "    sp+=1\n",
    "    st-=1"
   ]
  },
  {
   "cell_type": "code",
   "execution_count": 10,
   "id": "72b50a42",
   "metadata": {},
   "outputs": [
    {
     "name": "stdout",
     "output_type": "stream",
     "text": [
      "ANA\n",
      "1\n",
      "ANA\n",
      "2\n"
     ]
    }
   ],
   "source": [
    "b='BANANA'\n",
    "d=0\n",
    "for i in range(len(b)):\n",
    "    for j in range(i+1,len(b)+1):\n",
    "        N=b[i:j]\n",
    "        if N==N[::-1] and N!=b[i] and len(N)<=3 and N.startswith('A'):\n",
    "            d+=1\n",
    "            print(N)\n",
    "            print(d)"
   ]
  },
  {
   "cell_type": "code",
   "execution_count": 8,
   "id": "e48ed778",
   "metadata": {},
   "outputs": [
    {
     "name": "stdout",
     "output_type": "stream",
     "text": [
      "B\n",
      "A\n",
      "ANA\n",
      "N\n",
      "NAN\n",
      "A\n",
      "N\n"
     ]
    }
   ],
   "source": [
    "d='BANANA'\n",
    "for i in range(len(d)):\n",
    "    for j in range(i+1,len(d)):\n",
    "        N=d[i:j]\n",
    "        if N==N[::-1]:print(N)"
   ]
  },
  {
   "cell_type": "code",
   "execution_count": 11,
   "id": "99a1039f",
   "metadata": {},
   "outputs": [
    {
     "name": "stdout",
     "output_type": "stream",
     "text": [
      "ANA\n",
      "1\n",
      "ANA\n",
      "2\n"
     ]
    }
   ],
   "source": [
    "s='BANANA'    #ANA \n",
    "chardevi=0\n",
    "for a in range(len(s)):\n",
    "     for b in range(a+1,len(s)+1):\n",
    "            #print(a,':',b)\n",
    "            N=s[a:b]\n",
    "            #print(N)\n",
    "            if N==N[::-1] and N!=s[a] and len(N)<=3 and N.startswith('A'):\n",
    "                chardevi+=1\n",
    "                print(N)\n",
    "                print(chardevi)"
   ]
  },
  {
   "cell_type": "code",
   "execution_count": 39,
   "id": "ac94b149",
   "metadata": {},
   "outputs": [
    {
     "name": "stdout",
     "output_type": "stream",
     "text": [
      "53\n"
     ]
    }
   ],
   "source": [
    "def fun(n):\n",
    "    res=0\n",
    "    while n!=0:\n",
    "        rem=n%10\n",
    "        res+=rem\n",
    "        n//=10\n",
    "    return res\n",
    "n=7893347525\n",
    "fun(n)\n",
    "print(fun(n))"
   ]
  },
  {
   "cell_type": "code",
   "execution_count": 7,
   "id": "0591a091",
   "metadata": {},
   "outputs": [
    {
     "name": "stdout",
     "output_type": "stream",
     "text": [
      "ived\n"
     ]
    }
   ],
   "source": [
    "def func(n):\n",
    "    if n==-(len(d)+1):\n",
    "        return ''\n",
    "    return d[n]+func(n-1)\n",
    "d='devi'\n",
    "print(func(-1))"
   ]
  },
  {
   "cell_type": "code",
   "execution_count": 28,
   "id": "0fd4152d",
   "metadata": {},
   "outputs": [
    {
     "name": "stdout",
     "output_type": "stream",
     "text": [
      "DEVIPRASAD\n",
      "deviprasad\n",
      "Deviprasad\n",
      "Deviprasad\n",
      "DEVIPRASAD\n",
      "0\n",
      "-1\n",
      "-1\n"
     ]
    },
    {
     "ename": "ValueError",
     "evalue": "substring not found",
     "output_type": "error",
     "traceback": [
      "\u001b[1;31m---------------------------------------------------------------------------\u001b[0m",
      "\u001b[1;31mValueError\u001b[0m                                Traceback (most recent call last)",
      "\u001b[1;32m~\\AppData\\Local\\Temp\\ipykernel_15400\\3648926846.py\u001b[0m in \u001b[0;36m<module>\u001b[1;34m\u001b[0m\n\u001b[0;32m      8\u001b[0m \u001b[0mprint\u001b[0m\u001b[1;33m(\u001b[0m\u001b[0md\u001b[0m\u001b[1;33m.\u001b[0m\u001b[0mfind\u001b[0m\u001b[1;33m(\u001b[0m\u001b[1;34m'c'\u001b[0m\u001b[1;33m)\u001b[0m\u001b[1;33m)\u001b[0m\u001b[1;33m\u001b[0m\u001b[1;33m\u001b[0m\u001b[0m\n\u001b[0;32m      9\u001b[0m \u001b[0mprint\u001b[0m\u001b[1;33m(\u001b[0m\u001b[0md\u001b[0m\u001b[1;33m.\u001b[0m\u001b[0mrfind\u001b[0m\u001b[1;33m(\u001b[0m\u001b[1;34m'c'\u001b[0m\u001b[1;33m)\u001b[0m\u001b[1;33m)\u001b[0m\u001b[1;33m\u001b[0m\u001b[1;33m\u001b[0m\u001b[0m\n\u001b[1;32m---> 10\u001b[1;33m \u001b[0mprint\u001b[0m\u001b[1;33m(\u001b[0m\u001b[0md\u001b[0m\u001b[1;33m.\u001b[0m\u001b[0mrindex\u001b[0m\u001b[1;33m(\u001b[0m\u001b[1;34m'c'\u001b[0m\u001b[1;33m)\u001b[0m\u001b[1;33m)\u001b[0m\u001b[1;33m\u001b[0m\u001b[1;33m\u001b[0m\u001b[0m\n\u001b[0m",
      "\u001b[1;31mValueError\u001b[0m: substring not found"
     ]
    }
   ],
   "source": [
    "d='deviprasad'\n",
    "print(d.upper())\n",
    "print(d.lower())\n",
    "print(d.title())\n",
    "print(d.capitalize())\n",
    "print(d.swapcase())\n",
    "print(d.index(''))\n",
    "print(d.find('c'))\n",
    "print(d.rfind('c'))\n",
    "print(d.rindex('c'))"
   ]
  },
  {
   "cell_type": "code",
   "execution_count": 42,
   "id": "1e517871",
   "metadata": {},
   "outputs": [
    {
     "name": "stdout",
     "output_type": "stream",
     "text": [
      "[11, 22, 29, 92, 11]\n"
     ]
    }
   ],
   "source": [
    "d=[11,22,29,92,11,11]\n",
    "d.pop()\n",
    "print(d)"
   ]
  },
  {
   "cell_type": "code",
   "execution_count": 48,
   "id": "0d2c27d0",
   "metadata": {},
   "outputs": [
    {
     "name": "stdout",
     "output_type": "stream",
     "text": [
      "we are groot\n"
     ]
    }
   ],
   "source": [
    "d=['we','are','groot']\n",
    "print(' '.join(d))"
   ]
  },
  {
   "cell_type": "code",
   "execution_count": 52,
   "id": "52d7db2e",
   "metadata": {},
   "outputs": [
    {
     "name": "stdout",
     "output_type": "stream",
     "text": [
      "None\n",
      "{11: 'devi', 22: 'cherry', '12': None}\n"
     ]
    }
   ],
   "source": [
    "d={11:'devi',22:'cherry'}\n",
    "print(d.setdefault('12'))\n",
    "print(d)"
   ]
  },
  {
   "cell_type": "code",
   "execution_count": 69,
   "id": "928febb8",
   "metadata": {},
   "outputs": [
    {
     "name": "stdout",
     "output_type": "stream",
     "text": [
      "{'d': 'cherry', 'e': 'cherry', 'v': 'cherry', 'i': 'cherry'}\n"
     ]
    }
   ],
   "source": [
    "d={}\n",
    "print(d.fromkeys('devi','cherry'))"
   ]
  },
  {
   "cell_type": "code",
   "execution_count": 77,
   "id": "4964701a",
   "metadata": {},
   "outputs": [
    {
     "name": "stdout",
     "output_type": "stream",
     "text": [
      "-11\n",
      "-10\n",
      "-9\n",
      "-8\n",
      "-7\n",
      "-6\n",
      "-5\n",
      "-4\n",
      "-3\n",
      "-2\n",
      "-1\n"
     ]
    }
   ],
   "source": [
    "n=-11\n",
    "while n<=-1:\n",
    "    print(n)\n",
    "    n=n+1"
   ]
  },
  {
   "cell_type": "code",
   "execution_count": 79,
   "id": "32abf931",
   "metadata": {},
   "outputs": [
    {
     "name": "stdout",
     "output_type": "stream",
     "text": [
      "-1\n",
      "-2\n",
      "-3\n",
      "-4\n",
      "-5\n",
      "-6\n",
      "-7\n",
      "-8\n",
      "-9\n",
      "-10\n",
      "-11\n"
     ]
    }
   ],
   "source": [
    "n=-1\n",
    "while n>=-11:\n",
    "    print(n)\n",
    "    n-=1"
   ]
  },
  {
   "cell_type": "code",
   "execution_count": 85,
   "id": "e613252c",
   "metadata": {},
   "outputs": [
    {
     "name": "stdout",
     "output_type": "stream",
     "text": [
      "11\n",
      "12\n",
      "13\n",
      "14\n",
      "15\n",
      "16\n",
      "17\n",
      "18\n",
      "19\n",
      "20\n",
      "21\n",
      "22\n",
      "23\n",
      "24\n",
      "25\n",
      "26\n",
      "27\n",
      "28\n",
      "29\n"
     ]
    }
   ],
   "source": [
    "n=11\n",
    "while n<=29:\n",
    "    print(n)\n",
    "    n+=1"
   ]
  },
  {
   "cell_type": "code",
   "execution_count": 86,
   "id": "216c0638",
   "metadata": {},
   "outputs": [
    {
     "name": "stdout",
     "output_type": "stream",
     "text": [
      "29\n",
      "28\n",
      "27\n",
      "26\n",
      "25\n",
      "24\n",
      "23\n",
      "22\n",
      "21\n",
      "20\n",
      "19\n",
      "18\n",
      "17\n",
      "16\n",
      "15\n",
      "14\n",
      "13\n",
      "12\n",
      "11\n"
     ]
    }
   ],
   "source": [
    "n=29\n",
    "while n>=11:\n",
    "    print(n)\n",
    "    n-=1"
   ]
  },
  {
   "cell_type": "code",
   "execution_count": 90,
   "id": "a75b979d",
   "metadata": {},
   "outputs": [
    {
     "name": "stdout",
     "output_type": "stream",
     "text": [
      "        * * * * * \n",
      "          * * * * \n",
      "            * * * \n",
      "              * * \n",
      "                * \n"
     ]
    }
   ],
   "source": [
    "n=5\n",
    "st=5\n",
    "sp=n-1\n",
    "for i in range(n):\n",
    "    for j in range(sp):\n",
    "        print(' ',end=' ')\n",
    "    for k in range(st):\n",
    "        print('*',end=' ')\n",
    "    print()\n",
    "    st-=1\n",
    "    sp+=1"
   ]
  },
  {
   "cell_type": "code",
   "execution_count": 99,
   "id": "7ab55072",
   "metadata": {},
   "outputs": [
    {
     "name": "stdout",
     "output_type": "stream",
     "text": [
      "          * \n",
      "        * * * \n",
      "      * * * * * \n",
      "    * * * * * * * \n",
      "  * * * * * * * * * \n",
      "* * * * * * * * * * * \n",
      "  * * * * * * * * * \n",
      "    * * * * * * * \n",
      "      * * * * * \n",
      "        * * * \n",
      "          * \n"
     ]
    }
   ],
   "source": [
    "n=11\n",
    "st=1\n",
    "sp=n//2\n",
    "for a in range(n):\n",
    "    for b in range(sp):\n",
    "        print(' ',end=' ')\n",
    "    for c in range(st):\n",
    "        print('*',end=' ')\n",
    "    print()\n",
    "    if a<n//2:\n",
    "        st+=2\n",
    "        sp-=1\n",
    "    else:\n",
    "        st-=2\n",
    "        sp+=1"
   ]
  },
  {
   "cell_type": "code",
   "execution_count": 103,
   "id": "c2b3085c",
   "metadata": {},
   "outputs": [
    {
     "name": "stdout",
     "output_type": "stream",
     "text": [
      "          1 \n",
      "        1 2 1 \n",
      "      1 2 3 2 1 \n",
      "    1 2 3 4 3 2 1 \n",
      "  1 2 3 4 5 4 3 2 1 \n",
      "1 2 3 4 5 6 5 4 3 2 1 \n",
      "  1 2 3 4 5 4 3 2 1 \n",
      "    1 2 3 4 3 2 1 \n",
      "      1 2 3 2 1 \n",
      "        1 2 1 \n",
      "          1 \n"
     ]
    }
   ],
   "source": [
    "n=11\n",
    "num=n\n",
    "st=1\n",
    "sp=n//2\n",
    "for x in range(n):\n",
    "    num=1\n",
    "    for y in range(sp):\n",
    "        print(' ',end=' ')\n",
    "    for z in range(st):\n",
    "        print(num,end=' ')\n",
    "        num=num+1 if z<st//2 else num-1\n",
    "    print()\n",
    "    if x<n//2:\n",
    "        st+=2\n",
    "        sp-=1\n",
    "    else:\n",
    "        st-=2\n",
    "        sp+=1"
   ]
  },
  {
   "cell_type": "code",
   "execution_count": 109,
   "id": "cb88773b",
   "metadata": {},
   "outputs": [
    {
     "name": "stdout",
     "output_type": "stream",
     "text": [
      "          1 \n",
      "        2 1 2 \n",
      "      3 2 1 2 3 \n",
      "    4 3 2 1 2 3 4 \n",
      "  5 4 3 2 1 2 3 4 5 \n",
      "6 5 4 3 2 1 2 3 4 5 6 \n",
      "  5 4 3 2 1 2 3 4 5 \n",
      "    4 3 2 1 2 3 4 \n",
      "      3 2 1 2 3 \n",
      "        2 1 2 \n",
      "          1 \n"
     ]
    }
   ],
   "source": [
    "n=11\n",
    "st=1\n",
    "num=n\n",
    "sp=n//2\n",
    "for a in range(n):\n",
    "    num=st//2+1\n",
    "    for b in range(sp):\n",
    "        print(' ',end=' ')\n",
    "    for c in range(st):\n",
    "        print(num,end=' ')\n",
    "        num=num-1 if c<st//2 else num+1\n",
    "    print()\n",
    "    if a<n//2:\n",
    "        st+=2\n",
    "        sp-=1\n",
    "    else:\n",
    "        st-=2\n",
    "        sp+=1"
   ]
  },
  {
   "cell_type": "code",
   "execution_count": 112,
   "id": "8599eef7",
   "metadata": {},
   "outputs": [
    {
     "name": "stdout",
     "output_type": "stream",
     "text": [
      "          1 \n",
      "        2 4 2 \n",
      "      1 2 3 2 1 \n",
      "    2 4 6 8 6 4 2 \n",
      "  1 2 3 4 5 4 3 2 1 \n",
      "    2 4 6 8 6 4 2 \n",
      "      1 2 3 2 1 \n",
      "        2 4 2 \n",
      "          1 \n",
      "            \n",
      "              \n"
     ]
    }
   ],
   "source": [
    "n=11\n",
    "st=1\n",
    "sp=n//2\n",
    "num=n\n",
    "for a in range(1,n+1):\n",
    "    num=1\n",
    "    if a%2==0:\n",
    "        num=2\n",
    "    for b in range(sp):\n",
    "        print(' ',end=' ')\n",
    "    for c in range(st):\n",
    "        print(num,end=' ')\n",
    "        if a%2==0:\n",
    "            num=num+2 if c<st//2 else num-2\n",
    "        else:\n",
    "            num=num+1 if c<st//2 else num-1\n",
    "    print()\n",
    "    if a<n//2:\n",
    "        st+=2\n",
    "        sp-=1\n",
    "    else:\n",
    "        st-=2\n",
    "        sp+=1"
   ]
  },
  {
   "cell_type": "code",
   "execution_count": 113,
   "id": "27d2d2f4",
   "metadata": {},
   "outputs": [
    {
     "name": "stdout",
     "output_type": "stream",
     "text": [
      "1011\n"
     ]
    }
   ],
   "source": [
    "n=11\n",
    "res=0\n",
    "p=1\n",
    "while n!=0:\n",
    "    rem=n%2\n",
    "    res=res+rem*p\n",
    "    n//=2\n",
    "    p*=10\n",
    "print(res)"
   ]
  },
  {
   "cell_type": "code",
   "execution_count": 115,
   "id": "766f1e9a",
   "metadata": {},
   "outputs": [
    {
     "name": "stdout",
     "output_type": "stream",
     "text": [
      "11\n"
     ]
    }
   ],
   "source": [
    "n=1011\n",
    "res=0\n",
    "p=0\n",
    "while n!=0:\n",
    "    rem=n%10\n",
    "    res=res+rem*2**p\n",
    "    n//=10\n",
    "    p+=1\n",
    "print(res)"
   ]
  },
  {
   "cell_type": "code",
   "execution_count": 120,
   "id": "f97dd601",
   "metadata": {},
   "outputs": [
    {
     "name": "stdout",
     "output_type": "stream",
     "text": [
      "dasarpived\n"
     ]
    }
   ],
   "source": [
    "d='deviprasad'\n",
    "res=''\n",
    "for a in range(-1,-(len(d)+1),-1):\n",
    "    res+=d[a]\n",
    "print(res)"
   ]
  },
  {
   "cell_type": "code",
   "execution_count": 125,
   "id": "87d4cb6d",
   "metadata": {},
   "outputs": [
    {
     "name": "stdout",
     "output_type": "stream",
     "text": [
      "Palindrome\n"
     ]
    }
   ],
   "source": [
    "d='22'\n",
    "c=''\n",
    "for a in range(-1,-(len(d)+1),-1):\n",
    "    c+=d[a]\n",
    "if c==d:\n",
    "    print('Palindrome')\n",
    "else:\n",
    "    print('not')"
   ]
  },
  {
   "cell_type": "code",
   "execution_count": 134,
   "id": "44fff80f",
   "metadata": {},
   "outputs": [
    {
     "name": "stdout",
     "output_type": "stream",
     "text": [
      "5\n"
     ]
    }
   ],
   "source": [
    "d='ideviprasad'\n",
    "vow='AEIOUaeiou'\n",
    "res=''\n",
    "p=0\n",
    "for a in range(len(d)):\n",
    "    if d[a] in vow:\n",
    "        res+=d[a]\n",
    "        p+=1\n",
    "print(p)"
   ]
  },
  {
   "cell_type": "code",
   "execution_count": 127,
   "id": "f1c543bb",
   "metadata": {},
   "outputs": [
    {
     "name": "stdout",
     "output_type": "stream",
     "text": [
      "ENGIR\n"
     ]
    }
   ],
   "source": [
    "d='ENGINEERING'\n",
    "c=''\n",
    "for a in range(len(d)):\n",
    "    if d[a] not in c:\n",
    "        c+=d[a]\n",
    "print(c)"
   ]
  },
  {
   "cell_type": "code",
   "execution_count": 138,
   "id": "63b71062",
   "metadata": {},
   "outputs": [
    {
     "name": "stdout",
     "output_type": "stream",
     "text": [
      "pYtHoN@123\n"
     ]
    }
   ],
   "source": [
    "d='PyThOn@123'\n",
    "res=''\n",
    "for i in range(len(d)):\n",
    "    if 'a'<=d[i]<='z':\n",
    "        res+=chr(ord(d[i])-32)\n",
    "    elif 'A'<=d[i]<='Z':\n",
    "        res+=chr(ord(d[i])+32)\n",
    "    else:\n",
    "        res+=d[i]\n",
    "print(res)"
   ]
  },
  {
   "cell_type": "code",
   "execution_count": 65,
   "id": "f22a93d1",
   "metadata": {},
   "outputs": [
    {
     "name": "stdout",
     "output_type": "stream",
     "text": [
      "A\n",
      "ABCBA\n",
      "B\n",
      "BCB\n",
      "C\n",
      "B\n",
      "A\n"
     ]
    }
   ],
   "source": [
    "d='ABCBA'\n",
    "for x in range(len(d)):\n",
    "    for y in range(x+1,len(d)+1):\n",
    "        #print(d[x:y])\n",
    "        N=d[x:y]\n",
    "        if N==N[::-1]:\n",
    "            print(N)\n",
    "        "
   ]
  },
  {
   "cell_type": "code",
   "execution_count": 156,
   "id": "c40d0b3f",
   "metadata": {},
   "outputs": [
    {
     "name": "stdout",
     "output_type": "stream",
     "text": [
      "[11, 5, 29, 92, 2]\n"
     ]
    }
   ],
   "source": [
    "d=[11,5,11,11,11,29,92,29,2]\n",
    "c=[]\n",
    "for a in range(len(d)):\n",
    "    if d[a] not in c:\n",
    "        c+=[d[a]]\n",
    "print(c)"
   ]
  },
  {
   "cell_type": "code",
   "execution_count": 60,
   "id": "9e531967",
   "metadata": {},
   "outputs": [
    {
     "name": "stdout",
     "output_type": "stream",
     "text": [
      "92\n",
      "2\n"
     ]
    }
   ],
   "source": [
    "d=[11,5,92,29,2]\n",
    "for a in range(len(d)):\n",
    "    if d[a]%2==0:\n",
    "        print(d[a])"
   ]
  },
  {
   "cell_type": "code",
   "execution_count": 166,
   "id": "92f6413a",
   "metadata": {},
   "outputs": [
    {
     "name": "stdout",
     "output_type": "stream",
     "text": [
      "0:11\n",
      "2:92\n",
      "4:2\n"
     ]
    }
   ],
   "source": [
    "d=[11,5,92,29,2]\n",
    "for a in range(len(d)):\n",
    "    if a%2==0:\n",
    "        print(f'{a}:{d[a]}')"
   ]
  },
  {
   "cell_type": "code",
   "execution_count": 168,
   "id": "19bc3e3f",
   "metadata": {},
   "outputs": [
    {
     "name": "stdout",
     "output_type": "stream",
     "text": [
      "92\n"
     ]
    }
   ],
   "source": [
    "d=[11,5,92,29,2]\n",
    "c=d[0]\n",
    "for a in range(1,len(d)):\n",
    "    if c<d[a]:\n",
    "        c=d[a]\n",
    "print(c)"
   ]
  },
  {
   "cell_type": "code",
   "execution_count": 186,
   "id": "ed2816ff",
   "metadata": {},
   "outputs": [
    {
     "name": "stdout",
     "output_type": "stream",
     "text": [
      "[2, 5, 11, 29, 92]\n"
     ]
    }
   ],
   "source": [
    "d=[11,5,92,29,2]\n",
    "for a in range(len(d)-1):\n",
    "    for b in range(len(d)-1-a):\n",
    "        if d[b]>d[b+1]:\n",
    "            d[b],d[b+1]=d[b+1],d[b]\n",
    "print(d)"
   ]
  },
  {
   "cell_type": "code",
   "execution_count": 187,
   "id": "a9c690d6",
   "metadata": {},
   "outputs": [
    {
     "name": "stdout",
     "output_type": "stream",
     "text": [
      "[2, 5, 11, 29, 92]\n"
     ]
    }
   ],
   "source": [
    "d=[11,5,92,29,2]\n",
    "for x in range(len(d)):\n",
    "    mi=x\n",
    "    for y in range(x+1,len(d)):\n",
    "        if d[mi]>d[y]:\n",
    "            mi=y\n",
    "    d[x],d[mi]=d[mi],d[x]\n",
    "print(d)"
   ]
  },
  {
   "cell_type": "code",
   "execution_count": 191,
   "id": "e4f55531",
   "metadata": {},
   "outputs": [
    {
     "name": "stdout",
     "output_type": "stream",
     "text": [
      "E\n",
      "N\n"
     ]
    }
   ],
   "source": [
    "d='ENGINEERING'\n",
    "c={}\n",
    "for a in range(len(d)):\n",
    "    if d[a] not in c:\n",
    "        c[d[a]]=1\n",
    "    else:\n",
    "        c[d[a]]+=1\n",
    "i=list(c.values())\n",
    "h=i[0]\n",
    "for b in range(1,len(i)):\n",
    "    if h<i[b]:\n",
    "        h=i[b]\n",
    "for k,v in c.items():\n",
    "    if h==v:\n",
    "        print(k)"
   ]
  },
  {
   "cell_type": "code",
   "execution_count": 193,
   "id": "ddc18df1",
   "metadata": {},
   "outputs": [
    {
     "name": "stdout",
     "output_type": "stream",
     "text": [
      "we\n",
      "want\n"
     ]
    }
   ],
   "source": [
    "p='we want attend class everyday because we want job'\n",
    "d=p.split()\n",
    "c={}\n",
    "for a in range(len(d)):\n",
    "    if d[a] not in c:\n",
    "        c[d[a]]=1\n",
    "    else:\n",
    "        c[d[a]]+=1\n",
    "i=list(c.values())\n",
    "h=i[0]\n",
    "for b in range(1,len(i)):\n",
    "    if h<i[b]:\n",
    "        h=i[b]\n",
    "for k,v in c.items():\n",
    "    if h==v:\n",
    "        print(k)"
   ]
  },
  {
   "cell_type": "code",
   "execution_count": 196,
   "id": "d098eddb",
   "metadata": {},
   "outputs": [
    {
     "name": "stdout",
     "output_type": "stream",
     "text": [
      "everyday\n"
     ]
    }
   ],
   "source": [
    "p='we want attend class everyday because we want job'\n",
    "d=p.split()\n",
    "c={}\n",
    "for a in range(len(d)):\n",
    "    if d[a] not in c:\n",
    "        c[d[a]]=len(d[a])\n",
    "i=list(c.values())\n",
    "h=i[0]\n",
    "for b in range(1,len(i)):\n",
    "    if h<i[b]:\n",
    "        h=i[b]\n",
    "for k,v in c.items():\n",
    "    if h==v:\n",
    "        print(k)"
   ]
  },
  {
   "cell_type": "code",
   "execution_count": 197,
   "id": "75cb8dd9",
   "metadata": {},
   "outputs": [
    {
     "name": "stdout",
     "output_type": "stream",
     "text": [
      "developer\n"
     ]
    }
   ],
   "source": [
    "p='i want to become a python developer or software developer'\n",
    "d=p.split()\n",
    "c={}\n",
    "for a in range(len(d)):\n",
    "    if d[a] not in c:\n",
    "        c[d[a]]=len(d[a])\n",
    "i=list(c.values())\n",
    "j=i[0]\n",
    "for l in range(1,len(i)):\n",
    "    if j<i[l]:\n",
    "        j=i[l]\n",
    "for k,v in c.items():\n",
    "    if j==v:\n",
    "        print(k)"
   ]
  },
  {
   "cell_type": "code",
   "execution_count": 199,
   "id": "7f944466",
   "metadata": {},
   "outputs": [
    {
     "name": "stdout",
     "output_type": "stream",
     "text": [
      "Dialogue uses that art of branch a generally is Cinema\n"
     ]
    }
   ],
   "source": [
    "d='Cinema is generally a branch of art that uses Dialogue'\n",
    "c=d.split()\n",
    "for i in range(len(c)//2):\n",
    "    c[i],c[len(c)-1-i]=c[len(c)-1-i],c[i]\n",
    "print(' '.join(c))"
   ]
  },
  {
   "cell_type": "code",
   "execution_count": 203,
   "id": "db9fe9be",
   "metadata": {},
   "outputs": [
    {
     "name": "stdout",
     "output_type": "stream",
     "text": [
      "ameniC si yllareneg a hcnarb fo tra taht sesu eugolaiD\n"
     ]
    }
   ],
   "source": [
    "d='Cinema is generally a branch of art that uses Dialogue'\n",
    "c=d.split()\n",
    "for i in range(len(c)):\n",
    "    c[i]=c[i][::-1]\n",
    "print(' '.join(c))"
   ]
  },
  {
   "cell_type": "code",
   "execution_count": 214,
   "id": "12afce40",
   "metadata": {},
   "outputs": [
    {
     "name": "stdout",
     "output_type": "stream",
     "text": [
      "3a2b4c1b2a1f2d\n"
     ]
    }
   ],
   "source": [
    "s='aaabbccccbaafdd'\n",
    "res=''\n",
    "count=1\n",
    "for i in range(len(s)-1):\n",
    "    if s[i]==s[i+1]:\n",
    "        count+=1\n",
    "    else:\n",
    "        res+=str(count)+s[i]\n",
    "        count=1\n",
    "res+=str(count)+s[i+1]\n",
    "print(res)"
   ]
  },
  {
   "cell_type": "code",
   "execution_count": 219,
   "id": "612c92ae",
   "metadata": {},
   "outputs": [
    {
     "name": "stdout",
     "output_type": "stream",
     "text": [
      "vcrat kohlc\n"
     ]
    }
   ],
   "source": [
    "d='virat kohli'\n",
    "c='i'\n",
    "a=''\n",
    "for i in range(len(d)):\n",
    "    if d[i]==c:\n",
    "        a+='c'\n",
    "    else:\n",
    "        a+=d[i]\n",
    "print(a)"
   ]
  },
  {
   "cell_type": "code",
   "execution_count": 225,
   "id": "e66ce689",
   "metadata": {},
   "outputs": [
    {
     "name": "stdout",
     "output_type": "stream",
     "text": [
      "0\n",
      "4\n"
     ]
    }
   ],
   "source": [
    "d='abcdabefg'\n",
    "c='a'\n",
    "for i in range(len(d)):\n",
    "    if d[i]==c:\n",
    "        print(i)"
   ]
  },
  {
   "cell_type": "code",
   "execution_count": 229,
   "id": "1c0609f0",
   "metadata": {},
   "outputs": [
    {
     "name": "stdout",
     "output_type": "stream",
     "text": [
      "11\n"
     ]
    }
   ],
   "source": [
    "class a():\n",
    "    def __init__(self,x):\n",
    "        self.x=x\n",
    "    def __add__(self,other):\n",
    "        return self.x+other.x\n",
    "ob1=a(2)\n",
    "ob2=a(9)\n",
    "print(ob1+ob2)"
   ]
  },
  {
   "cell_type": "code",
   "execution_count": 234,
   "id": "a645ac33",
   "metadata": {},
   "outputs": [
    {
     "name": "stdout",
     "output_type": "stream",
     "text": [
      "92\n"
     ]
    }
   ],
   "source": [
    "class d():\n",
    "    def __init__(self,x):\n",
    "        self.x=x\n",
    "    def __mul__(self,other):\n",
    "        return self.x*other.x\n",
    "i=d(2)\n",
    "c=d(46)\n",
    "print(i*c)"
   ]
  },
  {
   "cell_type": "code",
   "execution_count": 238,
   "id": "980d8b46",
   "metadata": {},
   "outputs": [
    {
     "name": "stdout",
     "output_type": "stream",
     "text": [
      "Meow Meow\n",
      "walking\n",
      "Bow Bow\n",
      "walking\n"
     ]
    }
   ],
   "source": [
    "from abc import ABC,abstractmethod\n",
    "class Animal(ABC):\n",
    "    @abstractmethod\n",
    "    def speak(self):\n",
    "        pass\n",
    "    def move(self):\n",
    "        print('walking')\n",
    "class Dog(Animal):\n",
    "    def speak(self):\n",
    "        print('Bow Bow')\n",
    "class Cat(Animal):\n",
    "    def speak(self):\n",
    "        print('Meow Meow')\n",
    "c=Cat()\n",
    "d=Dog()\n",
    "c.speak()\n",
    "c.move()\n",
    "d.speak()\n",
    "d.move()"
   ]
  },
  {
   "cell_type": "code",
   "execution_count": 8,
   "id": "6e6cace1",
   "metadata": {},
   "outputs": [
    {
     "name": "stdout",
     "output_type": "stream",
     "text": [
      "* * * * * \n",
      "* * * * * \n",
      "* *   * * \n",
      "  *   * * \n",
      "  *     * \n",
      "  *     * \n",
      "        * \n"
     ]
    }
   ],
   "source": [
    "L=[3,6,2,4,7]\n",
    "m=max(L)\n",
    "for a in range(m):\n",
    "    for b in range(len(L)):\n",
    "        if L[b]!=0:\n",
    "            print('*',end=' ')\n",
    "            L[b]-=1\n",
    "        else:\n",
    "            print(' ',end=' ')\n",
    "    print()"
   ]
  },
  {
   "cell_type": "code",
   "execution_count": 44,
   "id": "a00c43bf",
   "metadata": {},
   "outputs": [
    {
     "name": "stdout",
     "output_type": "stream",
     "text": [
      "enter value:11\n",
      "[2, 5, 11, 29, 92]\n",
      "2\n"
     ]
    }
   ],
   "source": [
    "#Linear Search\n",
    "d=[2,92,29,11,5]\n",
    "c=int(input('enter value:'))\n",
    "d.sort()\n",
    "print(d)\n",
    "for a in range(len(d)):\n",
    "    if d[a]==c:\n",
    "        print(a)\n",
    "        break\n",
    "else:\n",
    "    print(-1)"
   ]
  },
  {
   "cell_type": "code",
   "execution_count": 51,
   "id": "244396cf",
   "metadata": {},
   "outputs": [
    {
     "name": "stdout",
     "output_type": "stream",
     "text": [
      "enter value:11\n",
      "[2, 5, 11, 29, 92]\n",
      "2\n"
     ]
    }
   ],
   "source": [
    "#Linear Search\n",
    "d=[2,92,29,11,5]\n",
    "c=int(input('enter value:'))\n",
    "d.sort()\n",
    "print(d)\n",
    "for a in d:\n",
    "    if a==c:\n",
    "        print(d.index(a))\n",
    "        break\n",
    "else:\n",
    "    print(-1)"
   ]
  },
  {
   "cell_type": "code",
   "execution_count": 53,
   "id": "5e29f372",
   "metadata": {},
   "outputs": [
    {
     "name": "stdout",
     "output_type": "stream",
     "text": [
      "enter value:22\n",
      "[2, 5, 7, 11, 17, 22, 29, 92]\n",
      "5\n"
     ]
    }
   ],
   "source": [
    "#Binary Search\n",
    "d=[29,92,11,5,17,22,2,7]\n",
    "c=int(input('enter value:'))\n",
    "d.sort()\n",
    "print(d)\n",
    "low=0\n",
    "high=len(d)-1\n",
    "while (low<=high) and d[low]<=c<=d[high]:\n",
    "    mid=(low+high)//2\n",
    "    if d[mid]<c:\n",
    "        low=mid+1\n",
    "    elif d[mid]>c:\n",
    "        high=mid-1\n",
    "    elif d[mid]==c:\n",
    "        print(mid)\n",
    "        break\n",
    "else:\n",
    "    print(-1)"
   ]
  },
  {
   "cell_type": "code",
   "execution_count": 3,
   "id": "fb806f09",
   "metadata": {},
   "outputs": [
    {
     "name": "stdout",
     "output_type": "stream",
     "text": [
      "enter value:6\n",
      "[2, 3, 4, 5, 5, 6, 7, 8, 9, 10, 11]\n"
     ]
    },
    {
     "ename": "IndexError",
     "evalue": "list index out of range",
     "output_type": "error",
     "traceback": [
      "\u001b[1;31m---------------------------------------------------------------------------\u001b[0m",
      "\u001b[1;31mIndexError\u001b[0m                                Traceback (most recent call last)",
      "\u001b[1;32m~\\AppData\\Local\\Temp\\ipykernel_12304\\3632847527.py\u001b[0m in \u001b[0;36m<module>\u001b[1;34m\u001b[0m\n\u001b[0;32m      8\u001b[0m \u001b[1;32mwhile\u001b[0m \u001b[1;33m(\u001b[0m\u001b[0mlow\u001b[0m\u001b[1;33m<=\u001b[0m\u001b[0mhigh\u001b[0m\u001b[1;33m)\u001b[0m \u001b[1;32mand\u001b[0m \u001b[0md\u001b[0m\u001b[1;33m[\u001b[0m\u001b[0mlow\u001b[0m\u001b[1;33m]\u001b[0m\u001b[1;33m<=\u001b[0m\u001b[0mc\u001b[0m\u001b[1;33m<=\u001b[0m\u001b[0md\u001b[0m\u001b[1;33m[\u001b[0m\u001b[0mhigh\u001b[0m\u001b[1;33m]\u001b[0m\u001b[1;33m:\u001b[0m\u001b[1;33m\u001b[0m\u001b[1;33m\u001b[0m\u001b[0m\n\u001b[0;32m      9\u001b[0m     \u001b[0mmid\u001b[0m\u001b[1;33m=\u001b[0m\u001b[0mint\u001b[0m\u001b[1;33m(\u001b[0m\u001b[0mlow\u001b[0m\u001b[1;33m+\u001b[0m\u001b[1;33m(\u001b[0m\u001b[0mlow\u001b[0m\u001b[1;33m-\u001b[0m\u001b[0mhigh\u001b[0m\u001b[1;33m/\u001b[0m\u001b[0md\u001b[0m\u001b[1;33m[\u001b[0m\u001b[0mlow\u001b[0m\u001b[1;33m]\u001b[0m\u001b[1;33m-\u001b[0m\u001b[0md\u001b[0m\u001b[1;33m[\u001b[0m\u001b[0mhigh\u001b[0m\u001b[1;33m]\u001b[0m\u001b[1;33m)\u001b[0m\u001b[1;33m*\u001b[0m\u001b[1;33m(\u001b[0m\u001b[0mc\u001b[0m\u001b[1;33m-\u001b[0m\u001b[0md\u001b[0m\u001b[1;33m[\u001b[0m\u001b[0mlow\u001b[0m\u001b[1;33m]\u001b[0m\u001b[1;33m)\u001b[0m\u001b[1;33m)\u001b[0m\u001b[1;33m\u001b[0m\u001b[1;33m\u001b[0m\u001b[0m\n\u001b[1;32m---> 10\u001b[1;33m     \u001b[1;32mif\u001b[0m \u001b[0md\u001b[0m\u001b[1;33m[\u001b[0m\u001b[0mmid\u001b[0m\u001b[1;33m]\u001b[0m\u001b[1;33m<\u001b[0m\u001b[0mc\u001b[0m\u001b[1;33m:\u001b[0m\u001b[1;33m\u001b[0m\u001b[1;33m\u001b[0m\u001b[0m\n\u001b[0m\u001b[0;32m     11\u001b[0m         \u001b[0mlow\u001b[0m\u001b[1;33m=\u001b[0m\u001b[0mmid\u001b[0m\u001b[1;33m+\u001b[0m\u001b[1;36m1\u001b[0m\u001b[1;33m\u001b[0m\u001b[1;33m\u001b[0m\u001b[0m\n\u001b[0;32m     12\u001b[0m     \u001b[1;32melif\u001b[0m \u001b[0md\u001b[0m\u001b[1;33m[\u001b[0m\u001b[0mmid\u001b[0m\u001b[1;33m]\u001b[0m\u001b[1;33m>\u001b[0m\u001b[0mc\u001b[0m\u001b[1;33m:\u001b[0m\u001b[1;33m\u001b[0m\u001b[1;33m\u001b[0m\u001b[0m\n",
      "\u001b[1;31mIndexError\u001b[0m: list index out of range"
     ]
    }
   ],
   "source": [
    "#Interpolation Search\n",
    "d=[11,10,8,9,6,7,5,2,3,4,5]\n",
    "c=int(input('enter value:'))\n",
    "d.sort()\n",
    "print(d)\n",
    "low=0\n",
    "high=len(d)-1\n",
    "while (low<=high) and d[low]<=c<=d[high]:\n",
    "    mid=int(low+(low-high/d[low]-d[high])*(c-d[low]))\n",
    "    if d[mid]<c:\n",
    "        low=mid+1\n",
    "    elif d[mid]>c:\n",
    "        high=mid-1\n",
    "    elif d[mid]==c:\n",
    "        print(mid)\n",
    "        break\n",
    "else:\n",
    "    print(-1)"
   ]
  },
  {
   "cell_type": "code",
   "execution_count": null,
   "id": "ecc670e1",
   "metadata": {},
   "outputs": [],
   "source": []
  },
  {
   "cell_type": "code",
   "execution_count": null,
   "id": "7cdc2a4a",
   "metadata": {},
   "outputs": [],
   "source": []
  }
 ],
 "metadata": {
  "kernelspec": {
   "display_name": "Python 3 (ipykernel)",
   "language": "python",
   "name": "python3"
  },
  "language_info": {
   "codemirror_mode": {
    "name": "ipython",
    "version": 3
   },
   "file_extension": ".py",
   "mimetype": "text/x-python",
   "name": "python",
   "nbconvert_exporter": "python",
   "pygments_lexer": "ipython3",
   "version": "3.9.13"
  }
 },
 "nbformat": 4,
 "nbformat_minor": 5
}
