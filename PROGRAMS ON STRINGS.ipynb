{
 "cells": [
  {
   "cell_type": "code",
   "execution_count": 2,
   "id": "5d7c4bd9",
   "metadata": {},
   "outputs": [
    {
     "name": "stdout",
     "output_type": "stream",
     "text": [
      "['C', 'CH', 'CHA', 'CHAR', 'CHARI', 'CHARIS', 'CHARISH', 'CHARISHM', 'CHARISHMA']\n"
     ]
    }
   ],
   "source": [
    "p='CHARISHMA'\n",
    "c=''\n",
    "i=[]\n",
    "for d in range(len(p)):\n",
    "    c+=p[d]\n",
    "    i.append(c)\n",
    "print(i)"
   ]
  },
  {
   "cell_type": "code",
   "execution_count": 1,
   "id": "b9f21ec9",
   "metadata": {},
   "outputs": [
    {
     "name": "stdout",
     "output_type": "stream",
     "text": [
      "Dhoni MS as known commonly Dhoni, Singh Mahendra\n"
     ]
    }
   ],
   "source": [
    "d='Mahendra Singh Dhoni, commonly known as MS Dhoni'\n",
    "c=d.split()\n",
    "for i in range(len(c)//2):\n",
    "    c[i],c[len(c)-1-i]=c[len(c)-1-i],c[i]\n",
    "print(' '.join(c))"
   ]
  },
  {
   "cell_type": "code",
   "execution_count": 5,
   "id": "f7fcb310",
   "metadata": {},
   "outputs": [
    {
     "name": "stdout",
     "output_type": "stream",
     "text": [
      "ardnehaM hgniS ,inohD ylnommoc nwonk sa SM inohD\n"
     ]
    }
   ],
   "source": [
    "d='Mahendra Singh Dhoni, commonly known as MS Dhoni'\n",
    "c=d.split()\n",
    "for i in range(len(c)):\n",
    "    c[i]=c[i][::-1]\n",
    "print(' '.join(c))"
   ]
  },
  {
   "cell_type": "code",
   "execution_count": 2,
   "id": "2ca2878e",
   "metadata": {},
   "outputs": [
    {
     "name": "stdout",
     "output_type": "stream",
     "text": [
      "ived\n"
     ]
    }
   ],
   "source": [
    "p='devi'\n",
    "c=''\n",
    "for d in range(-1,-(len(p)+1),-1):\n",
    "    c+=p[d]\n",
    "print(c)"
   ]
  },
  {
   "cell_type": "code",
   "execution_count": 3,
   "id": "7cb2398d",
   "metadata": {},
   "outputs": [
    {
     "name": "stdout",
     "output_type": "stream",
     "text": [
      "ived\n"
     ]
    }
   ],
   "source": [
    "p='devi'\n",
    "c=''\n",
    "d=-1\n",
    "while d>=-len(p):\n",
    "    c+=p[d]\n",
    "    d=d-1\n",
    "print(c)"
   ]
  },
  {
   "cell_type": "code",
   "execution_count": 6,
   "id": "8ce74def",
   "metadata": {},
   "outputs": [
    {
     "name": "stdout",
     "output_type": "stream",
     "text": [
      "developer\n"
     ]
    }
   ],
   "source": [
    "d='i want to become python developer'\n",
    "c=d.split()\n",
    "i={}\n",
    "for x in range(len(c)):\n",
    "    if c[x] not in i:\n",
    "        i[c[x]]=len(c[x])\n",
    "val=list(i.values())\n",
    "h=val[0]\n",
    "for p in range(1,len(val)):\n",
    "    if h<val[p]:\n",
    "        h=val[p]\n",
    "for k,v in i.items():\n",
    "    if h==v:\n",
    "        print(k)"
   ]
  },
  {
   "cell_type": "code",
   "execution_count": 3,
   "id": "90496947",
   "metadata": {},
   "outputs": [
    {
     "name": "stdout",
     "output_type": "stream",
     "text": [
      "ew lla evah ot nrael\n"
     ]
    }
   ],
   "source": [
    "s='we all have to learn'\n",
    "l=s.split()\n",
    "for i in range(len(l)):\n",
    "    l[i]=l[i][::-1]\n",
    "x=' '.join(l)\n",
    "print(x)    "
   ]
  },
  {
   "cell_type": "code",
   "execution_count": 9,
   "id": "6cd10b65",
   "metadata": {},
   "outputs": [
    {
     "name": "stdout",
     "output_type": "stream",
     "text": [
      "1 2 3 \n",
      "4 5 6 \n",
      "7 8 9 \n"
     ]
    }
   ],
   "source": [
    "l=[[1,2,3],[4,5,6],[7,8,9]]\n",
    "for i in range(len(l)):\n",
    "    for j in range(len(l)):\n",
    "        print(l[i][j],end=' ')\n",
    "    print()"
   ]
  },
  {
   "cell_type": "code",
   "execution_count": 14,
   "id": "67590e01",
   "metadata": {},
   "outputs": [
    {
     "name": "stdout",
     "output_type": "stream",
     "text": [
      "7 4 1 \n",
      "8 5 2 \n",
      "9 6 3 \n"
     ]
    }
   ],
   "source": [
    "l=[[1,2,3],[4,5,6],[7,8,9]]\n",
    "n=3\n",
    "for i in range(len(l)):\n",
    "    for j in range(len(l)):\n",
    "        print(l[n-(j+1)][i],end=' ')\n",
    "    print()"
   ]
  },
  {
   "cell_type": "code",
   "execution_count": 48,
   "id": "0204f0c2",
   "metadata": {},
   "outputs": [
    {
     "name": "stdout",
     "output_type": "stream",
     "text": [
      "9 8 7 \n",
      "6 5 4 \n",
      "3 2 1 \n"
     ]
    }
   ],
   "source": [
    "l=[[1,2,3],[4,5,6],[7,8,9]]\n",
    "n=3\n",
    "for i in range(len(l)):\n",
    "    for j in range(len(l)):\n",
    "        print(l[n-(i+1)][n-(j+1)],end=' ')\n",
    "    print()"
   ]
  },
  {
   "cell_type": "code",
   "execution_count": 1,
   "id": "c4a515ec",
   "metadata": {},
   "outputs": [
    {
     "name": "stdout",
     "output_type": "stream",
     "text": [
      "ived\n"
     ]
    }
   ],
   "source": [
    "c='devi'\n",
    "d=''\n",
    "for i in range(-1,-(len(c)+1),-1):\n",
    "    d+=c[i]\n",
    "print(d)"
   ]
  },
  {
   "cell_type": "code",
   "execution_count": 4,
   "id": "ea357bda",
   "metadata": {},
   "outputs": [
    {
     "name": "stdout",
     "output_type": "stream",
     "text": [
      "ew lla evah ot nrael\n"
     ]
    }
   ],
   "source": [
    "c='we all have to learn'\n",
    "d=c.split()\n",
    "for i in range(len(d)):\n",
    "    d[i]=d[i][::-1]\n",
    "cherry=' '.join(d)\n",
    "print(cherry)"
   ]
  },
  {
   "cell_type": "code",
   "execution_count": 11,
   "id": "3834d245",
   "metadata": {},
   "outputs": [
    {
     "name": "stdout",
     "output_type": "stream",
     "text": [
      "<generator object devi at 0x0000024FD332AE40>\n",
      "Numbers\n",
      "(1, 2)\n"
     ]
    }
   ],
   "source": [
    "def devi():\n",
    "    print('Numbers')\n",
    "    yield 1,2\n",
    "d=devi()\n",
    "print(d)\n",
    "for c in d:\n",
    "    print(c)"
   ]
  },
  {
   "cell_type": "code",
   "execution_count": 7,
   "id": "0c9343b3",
   "metadata": {},
   "outputs": [
    {
     "name": "stdout",
     "output_type": "stream",
     "text": [
      "1 8 27 64 125 216 343 512 729 1000 "
     ]
    }
   ],
   "source": [
    "def series(s,e,u=1):\n",
    "    while s<e:\n",
    "        yield s\n",
    "        s+=u\n",
    "s=series(1,11,1)\n",
    "for i in s:\n",
    "    print(i,end=' ')"
   ]
  },
  {
   "cell_type": "code",
   "execution_count": 20,
   "id": "7c35483e",
   "metadata": {},
   "outputs": [
    {
     "name": "stdout",
     "output_type": "stream",
     "text": [
      "1\n",
      "1\n",
      "2\n",
      "3\n",
      "5\n",
      "8\n",
      "13\n"
     ]
    }
   ],
   "source": [
    "def fib(f,s,n):\n",
    "    d=1\n",
    "    while d<=n:\n",
    "        yield f\n",
    "        f,s=s,f+s\n",
    "        d+=1\n",
    "f=fib(1,1,7)\n",
    "for i in f:\n",
    "    print(i)"
   ]
  },
  {
   "cell_type": "code",
   "execution_count": 3,
   "id": "f09d75a3",
   "metadata": {},
   "outputs": [
    {
     "name": "stdout",
     "output_type": "stream",
     "text": [
      "ived\n"
     ]
    }
   ],
   "source": [
    "p='devi'\n",
    "print(p[::-1])"
   ]
  },
  {
   "cell_type": "code",
   "execution_count": 6,
   "id": "ccaa697f",
   "metadata": {},
   "outputs": [
    {
     "name": "stdout",
     "output_type": "stream",
     "text": [
      "life\n"
     ]
    }
   ],
   "source": [
    "d='life is good with love'\n",
    "a=d.split()\n",
    "p=[]\n",
    "b={}\n",
    "for i in range(len(a)):\n",
    "    if a[i] not in b:\n",
    "        b[a[i]]=len(a[i])\n",
    "val=list(b.values())\n",
    "h=val[0]\n",
    "for j in range(1,len(val)):\n",
    "    if h<val[j]:\n",
    "        h=val[j]\n",
    "for k,v in b.items():\n",
    "    if h==v:\n",
    "        p.append(k)\n",
    "print(p[0])"
   ]
  },
  {
   "cell_type": "code",
   "execution_count": 33,
   "id": "7ee38eab",
   "metadata": {},
   "outputs": [
    {
     "name": "stdout",
     "output_type": "stream",
     "text": [
      "enter number5\n",
      "120\n"
     ]
    }
   ],
   "source": [
    "def fact(n):\n",
    "    fact=1\n",
    "    for a in range(1,n+1):\n",
    "        fact=fact*a\n",
    "    return fact\n",
    "n=int(input('enter number'))\n",
    "print(fact(n))"
   ]
  },
  {
   "cell_type": "code",
   "execution_count": 4,
   "id": "ed4b50a2",
   "metadata": {},
   "outputs": [
    {
     "name": "stdout",
     "output_type": "stream",
     "text": [
      "M\n",
      "MN\n",
      "MNO\n",
      "MNOP\n",
      "MNOPQ\n",
      "N\n",
      "NO\n",
      "NOP\n",
      "NOPQ\n",
      "O\n",
      "OP\n",
      "OPQ\n",
      "P\n",
      "PQ\n",
      "Q\n"
     ]
    }
   ],
   "source": [
    "d='MNOPQ'\n",
    "for x in range(len(d)):\n",
    "    for y in range(x+1,len(d)+1):\n",
    "        N=d[x:y]\n",
    "        #if N==N[::-1]:\n",
    "        print(N)"
   ]
  },
  {
   "cell_type": "code",
   "execution_count": 7,
   "id": "9c9a6a78",
   "metadata": {},
   "outputs": [
    {
     "name": "stdout",
     "output_type": "stream",
     "text": [
      "1 2 3 5 8 13 21 34 55 89 "
     ]
    }
   ],
   "source": [
    "def fib(n):\n",
    "    f,s=0,1\n",
    "    for i in range(n):\n",
    "        t=f+s\n",
    "        f,s=s,t\n",
    "    return t\n",
    "for i in range(1,11):\n",
    "    print(fib(i),end=' ')"
   ]
  },
  {
   "cell_type": "code",
   "execution_count": 18,
   "id": "fee5c212",
   "metadata": {},
   "outputs": [
    {
     "name": "stdout",
     "output_type": "stream",
     "text": [
      "pYtHOn@123\n"
     ]
    }
   ],
   "source": [
    "s='PyThoN@123'\n",
    "res=''\n",
    "for i in range(len(s)):\n",
    "    if 'a'<=s[i]<='z':\n",
    "        res+=chr(ord(s[i])-32)\n",
    "    elif 'A'<=s[i]<='Z':\n",
    "        res+=chr(ord(s[i])+32)\n",
    "    else:\n",
    "        res+=s[i]\n",
    "print(res)"
   ]
  },
  {
   "cell_type": "code",
   "execution_count": 11,
   "id": "d214a551",
   "metadata": {},
   "outputs": [
    {
     "name": "stdout",
     "output_type": "stream",
     "text": [
      "2\n",
      "3\n",
      "5\n",
      "7\n"
     ]
    }
   ],
   "source": [
    "def prime(n):\n",
    "    if n<=1:\n",
    "        return False\n",
    "    for i in range(2,n//2+1):\n",
    "        if n%i==0:\n",
    "            return False\n",
    "    return True\n",
    "for i in range(1,11):\n",
    "    if prime(i):\n",
    "        print(i)"
   ]
  },
  {
   "cell_type": "code",
   "execution_count": 33,
   "id": "e9bd5030",
   "metadata": {},
   "outputs": [
    {
     "name": "stdout",
     "output_type": "stream",
     "text": [
      "2\n",
      "3\n",
      "5\n",
      "7\n",
      "11\n",
      "13\n",
      "17\n",
      "19\n"
     ]
    }
   ],
   "source": [
    "def is_prime(n):\n",
    "    if n <= 1:\n",
    "        return False\n",
    "    for i in range(2, int(n ** 0.5) + 1):\n",
    "        if n % i == 0:\n",
    "            return False\n",
    "    return True\n",
    "\n",
    "def print_primes(limit):\n",
    "    for n in range(2, limit + 1):\n",
    "        if is_prime(n):\n",
    "            print(n)\n",
    "\n",
    "# Example usage: print all primes up to 20\n",
    "print_primes(20)"
   ]
  },
  {
   "cell_type": "code",
   "execution_count": 42,
   "id": "89e9ef9e",
   "metadata": {},
   "outputs": [
    {
     "name": "stdout",
     "output_type": "stream",
     "text": [
      "    1 \n",
      "  2 1 2 \n",
      "3 2 1 2 3 \n",
      "  2 1 2 \n",
      "    1 \n"
     ]
    }
   ],
   "source": [
    "n=5\n",
    "st=1\n",
    "sp=n//2\n",
    "num=n\n",
    "for x in range(n):\n",
    "    num=st//2+1\n",
    "    for y in range(sp):\n",
    "        print(' ',end=' ')\n",
    "    for z in range(st):\n",
    "        print(num,end=' ')\n",
    "        num=num-1 if z<st//2 else num+1\n",
    "    print()\n",
    "    if x<n//2:\n",
    "        st+=2\n",
    "        sp-=1\n",
    "    else:\n",
    "        st-=2\n",
    "        sp+=1"
   ]
  },
  {
   "cell_type": "code",
   "execution_count": 43,
   "id": "925e2e90",
   "metadata": {},
   "outputs": [
    {
     "name": "stdout",
     "output_type": "stream",
     "text": [
      "edcba\n"
     ]
    }
   ],
   "source": [
    "#wap to reverse the string\n",
    "d='abcde'\n",
    "c=''\n",
    "for i in range(-1,-(len(d)+1),-1):\n",
    "    c+=d[i]\n",
    "print(c)"
   ]
  },
  {
   "cell_type": "code",
   "execution_count": 50,
   "id": "6dc0392d",
   "metadata": {},
   "outputs": [
    {
     "name": "stdout",
     "output_type": "stream",
     "text": [
      "palindrome\n"
     ]
    }
   ],
   "source": [
    "#wap to check given string is palindrome or not\n",
    "d='cdcdcdc'\n",
    "c=''\n",
    "for n in range(-1,-(len(d)+1),-1):\n",
    "        c+=d[n]\n",
    "if d==c:\n",
    "    print('palindrome')\n",
    "else:\n",
    "    print('not a palindrome')"
   ]
  },
  {
   "cell_type": "code",
   "execution_count": 55,
   "id": "35188724",
   "metadata": {},
   "outputs": [
    {
     "name": "stdout",
     "output_type": "stream",
     "text": [
      "LOVE\n"
     ]
    }
   ],
   "source": [
    "#wap to check given string is palindrome or not\n",
    "DeviPrasad='22'\n",
    "Charishma=''\n",
    "for love in range(-1,-(len(DeviPrasad)+1),-1):\n",
    "    Charishma+=DeviPrasad[love]\n",
    "if DeviPrasad==Charishma:\n",
    "    print('LOVE')\n",
    "else:\n",
    "    print('CRUSH')"
   ]
  },
  {
   "cell_type": "code",
   "execution_count": 15,
   "id": "b679fff1",
   "metadata": {},
   "outputs": [
    {
     "name": "stdout",
     "output_type": "stream",
     "text": [
      "Aae\n"
     ]
    }
   ],
   "source": [
    "#wap to print vowels in a given string by using index position\n",
    "s='blAckpanther'\n",
    "vow='AEIOUaeiou'\n",
    "res=''\n",
    "for i in range(len(s)):\n",
    "    if s[i] in vow:\n",
    "        res+=s[i]\n",
    "print(res)"
   ]
  },
  {
   "cell_type": "code",
   "execution_count": 17,
   "id": "6451893b",
   "metadata": {},
   "outputs": [
    {
     "name": "stdout",
     "output_type": "stream",
     "text": [
      "E\n",
      "N\n"
     ]
    }
   ],
   "source": [
    "#wap to print most frequently occured character in a given string\n",
    "s='ENGINEERING'\n",
    "d={}\n",
    "for i in range(len(s)):\n",
    "    if s[i] not in d:\n",
    "        d[s[i]]=1\n",
    "    else:\n",
    "        d[s[i]]+=1\n",
    "val=list(d.values())\n",
    "h=val[0]\n",
    "for j in range(1,len(val)):\n",
    "    if h<val[j]:\n",
    "        h=val[j]\n",
    "for k,v in d.items():\n",
    "    if h==v:\n",
    "        print(k)"
   ]
  },
  {
   "cell_type": "code",
   "execution_count": 28,
   "id": "7e5ce542",
   "metadata": {},
   "outputs": [
    {
     "name": "stdout",
     "output_type": "stream",
     "text": [
      "we\n",
      "want\n"
     ]
    }
   ],
   "source": [
    "#wap to print most frequently occured word in a given string\n",
    "s='we want to attend class everyday because we want job soon'\n",
    "l=s.split()\n",
    "d={}\n",
    "for x in range(len(l)):\n",
    "    if l[x] not in d:\n",
    "        d[l[x]]=1\n",
    "    else:\n",
    "        d[l[x]]+=1\n",
    "val=list(d.values())\n",
    "h=val[0]\n",
    "for y in range(1,len(val)):\n",
    "    if h<val[y]:\n",
    "        h=val[y]\n",
    "for k,v in d.items():\n",
    "    if h==v:\n",
    "        print(k)"
   ]
  },
  {
   "cell_type": "code",
   "execution_count": 6,
   "id": "83377812",
   "metadata": {},
   "outputs": [
    {
     "name": "stdout",
     "output_type": "stream",
     "text": [
      "everyday\n"
     ]
    }
   ],
   "source": [
    "#wap to print lengthiest word in a given string\n",
    "s='we want to attend class everyday because we want job soon'\n",
    "l=s.split()\n",
    "d={}\n",
    "for c in range(len(l)):\n",
    "    if l[c] not in d:\n",
    "        d[l[c]]=len(l[c])\n",
    "val=list(d.values())\n",
    "h=val[0]\n",
    "for i in range(1,len(val)):\n",
    "    if h<val[i]:\n",
    "        h=val[i]\n",
    "for k,v in d.items():\n",
    "    if h==v:\n",
    "        print(k)"
   ]
  },
  {
   "cell_type": "code",
   "execution_count": 33,
   "id": "69e7059f",
   "metadata": {},
   "outputs": [
    {
     "name": "stdout",
     "output_type": "stream",
     "text": [
      "tomorrow\n"
     ]
    }
   ],
   "source": [
    "#lengthiest word in a given string\n",
    "s='i want to give mock tomorrow'\n",
    "l=s.split()\n",
    "d={}\n",
    "for i in range(len(l)):\n",
    "    if l[i] not in d:\n",
    "        d[l[i]]=len(l[i])\n",
    "val=list(d.values())\n",
    "h=val[0]\n",
    "for x in range(1,len(val)):\n",
    "    if h<val[x]:\n",
    "        h=val[x]\n",
    "for k,v in d.items():\n",
    "    if h==v:\n",
    "        print(k)"
   ]
  },
  {
   "cell_type": "code",
   "execution_count": 36,
   "id": "fce4240b",
   "metadata": {},
   "outputs": [
    {
     "name": "stdout",
     "output_type": "stream",
     "text": [
      "mock attend to want we\n"
     ]
    }
   ],
   "source": [
    "#wap to reverse the given string without reversing words in a string\n",
    "s='we want to attend mock'\n",
    "l=s.split()\n",
    "for i in range(len(l)//2):\n",
    "    l[i],l[len(l)-1-i]=l[len(l)-1-i],l[i]\n",
    "res=' '.join(l)\n",
    "print(res)"
   ]
  },
  {
   "cell_type": "code",
   "execution_count": 38,
   "id": "935e546f",
   "metadata": {},
   "outputs": [
    {
     "name": "stdout",
     "output_type": "stream",
     "text": [
      "ew tnaw ot dnetta kcom\n"
     ]
    }
   ],
   "source": [
    "#wap to reverse each word in a given string\n",
    "s='we want to attend mock'\n",
    "l=s.split()\n",
    "for i in range(len(l)):\n",
    "    l[i]=l[i][::-1]\n",
    "res=' '.join(l)\n",
    "print(res)"
   ]
  },
  {
   "cell_type": "code",
   "execution_count": 23,
   "id": "1800989f",
   "metadata": {},
   "outputs": [
    {
     "name": "stdout",
     "output_type": "stream",
     "text": [
      "3a5b9c10d11b13a14f\n"
     ]
    }
   ],
   "source": [
    "s='aaabbccccdbaaf'\n",
    "res=''\n",
    "count=1\n",
    "for i in range(len(s)-1):\n",
    "    if s[i]==s[i+1]:\n",
    "        count+=1\n",
    "    else:\n",
    "        res+=str(count)+s[i]\n",
    "        count+=1\n",
    "res+=str(count)+s[i+1]\n",
    "print(res)"
   ]
  },
  {
   "cell_type": "code",
   "execution_count": 28,
   "id": "61875cd8",
   "metadata": {},
   "outputs": [
    {
     "name": "stdout",
     "output_type": "stream",
     "text": [
      "vcratkohlc\n"
     ]
    }
   ],
   "source": [
    "#wap to replace character in a given string without using replace method\n",
    "d='viratkohli'\n",
    "res=''\n",
    "for i in range(len(d)):\n",
    "    if d[i]=='i':\n",
    "        res+='c'\n",
    "    else:\n",
    "        res+=d[i]\n",
    "print(res)"
   ]
  },
  {
   "cell_type": "code",
   "execution_count": 30,
   "id": "8c0f3a27",
   "metadata": {},
   "outputs": [
    {
     "name": "stdout",
     "output_type": "stream",
     "text": [
      "0\n",
      "4\n",
      "6\n"
     ]
    }
   ],
   "source": [
    "#wap to print all index position of given character in a string\n",
    "d='abcdabaefg'\n",
    "ch='a'\n",
    "for i in range(len(d)):\n",
    "    if d[i]==ch:\n",
    "        print(i)"
   ]
  },
  {
   "cell_type": "code",
   "execution_count": 66,
   "id": "8960300e",
   "metadata": {},
   "outputs": [
    {
     "name": "stdout",
     "output_type": "stream",
     "text": [
      "AeeAee\n"
     ]
    }
   ],
   "source": [
    "#wap to print vowels in a given string without using index position\n",
    "d='Avengers Assemble'\n",
    "vow='AEIOUaeiou'\n",
    "c=''\n",
    "for i in d:\n",
    "    if i in vow:\n",
    "        c+=i\n",
    "print(c)"
   ]
  },
  {
   "cell_type": "code",
   "execution_count": 77,
   "id": "95edb3ad",
   "metadata": {},
   "outputs": [
    {
     "name": "stdout",
     "output_type": "stream",
     "text": [
      "ENGIR\n"
     ]
    }
   ],
   "source": [
    "#wap to remove duplicates in a given string by using index position\n",
    "d='ENGINEERING'\n",
    "c=''\n",
    "for i in range(len(d)):\n",
    "    if d[i] not in c:\n",
    "        c+=d[i]\n",
    "print(c)"
   ]
  },
  {
   "cell_type": "code",
   "execution_count": 71,
   "id": "985bdd84",
   "metadata": {},
   "outputs": [
    {
     "name": "stdout",
     "output_type": "stream",
     "text": [
      "ENGIR\n"
     ]
    }
   ],
   "source": [
    "#wap to remove duplicates in a given string by without using index position\n",
    "d='ENGINEERING'\n",
    "c=''\n",
    "for i in d:\n",
    "    if i not in c:\n",
    "        c+=i\n",
    "print(c)"
   ]
  },
  {
   "cell_type": "code",
   "execution_count": 83,
   "id": "502da4f9",
   "metadata": {},
   "outputs": [
    {
     "name": "stdout",
     "output_type": "stream",
     "text": [
      "7\n"
     ]
    }
   ],
   "source": [
    "#wap to count vowels in a given string\n",
    "d='AvengersAssemblee'\n",
    "vow='AEIOUaeiou'\n",
    "count=0\n",
    "for i in range(len(d)):\n",
    "    if d[i] in vow:\n",
    "        count+=1\n",
    "print(count)"
   ]
  },
  {
   "cell_type": "code",
   "execution_count": 87,
   "id": "cb5593d8",
   "metadata": {},
   "outputs": [
    {
     "name": "stdout",
     "output_type": "stream",
     "text": [
      "AVENGERS\n"
     ]
    }
   ],
   "source": [
    "#wap to convert given string into uppercase\n",
    "d='avengerS'\n",
    "res=''\n",
    "for n in range(len(d)):\n",
    "    if 'a'<=d[n]<='z':\n",
    "        res+=chr(ord(d[n])-32)\n",
    "    else:\n",
    "        res+=d[n]\n",
    "print(res)"
   ]
  },
  {
   "cell_type": "code",
   "execution_count": 89,
   "id": "760d9629",
   "metadata": {},
   "outputs": [
    {
     "name": "stdout",
     "output_type": "stream",
     "text": [
      "avengers\n"
     ]
    }
   ],
   "source": [
    "#wap to convert given string into lowercase\n",
    "d='AVENGeRS'\n",
    "c=''\n",
    "for r in range(len(d)):\n",
    "    if 'A'<=d[r]<='Z':\n",
    "        c+=chr(ord(d[r])+32)\n",
    "    else:\n",
    "        c+=d[r]\n",
    "print(c)"
   ]
  },
  {
   "cell_type": "code",
   "execution_count": 90,
   "id": "e93ab880",
   "metadata": {},
   "outputs": [
    {
     "name": "stdout",
     "output_type": "stream",
     "text": [
      "pYthON@123\n"
     ]
    }
   ],
   "source": [
    "#wap to convert uppercase into lowercase and lowercase into uppercase\n",
    "d='PyTHon@123'\n",
    "c=''\n",
    "for s in range(len(d)):\n",
    "    if 'a'<=d[s]<='z':\n",
    "        c+=chr(ord(d[s])-32)\n",
    "    elif 'A'<=d[s]<='Z':\n",
    "        c+=chr(ord(d[s])+32)\n",
    "    else:\n",
    "        c+=d[s]\n",
    "print(c)"
   ]
  },
  {
   "cell_type": "code",
   "execution_count": 98,
   "id": "0e35e652",
   "metadata": {},
   "outputs": [
    {
     "name": "stdout",
     "output_type": "stream",
     "text": [
      "E=3\n",
      "N=3\n",
      "G=2\n",
      "I=2\n",
      "R=1\n"
     ]
    }
   ],
   "source": [
    "#wap to count each character in a given string\n",
    "d='ENGINEERING'\n",
    "c=''\n",
    "for i in range(len(d)):\n",
    "    if d[i] not in c:\n",
    "        c+=d[i]\n",
    "        print(f'{d[i]}={d.count(d[i])}')"
   ]
  },
  {
   "cell_type": "code",
   "execution_count": 100,
   "id": "209d6e9d",
   "metadata": {},
   "outputs": [
    {
     "name": "stdout",
     "output_type": "stream",
     "text": [
      "1 2 3 \n",
      "4 5 6 \n",
      "7 8 9 \n"
     ]
    }
   ],
   "source": [
    "d=[[1,2,3],[4,5,6],[7,8,9]]\n",
    "for i in range(len(d)):\n",
    "    for j in range(len(d)):\n",
    "        print(d[i][j],end=' ')\n",
    "    print()"
   ]
  },
  {
   "cell_type": "code",
   "execution_count": 103,
   "id": "b759ee1c",
   "metadata": {},
   "outputs": [
    {
     "name": "stdout",
     "output_type": "stream",
     "text": [
      "7 4 1 \n",
      "8 5 2 \n",
      "9 6 3 \n"
     ]
    }
   ],
   "source": [
    "d=[[1,2,3],[4,5,6],[7,8,9]]\n",
    "c=3\n",
    "for i in range(c):\n",
    "    for j in range(c):\n",
    "        print(d[c-(j+1)][i],end=' ')\n",
    "    print()"
   ]
  },
  {
   "cell_type": "code",
   "execution_count": 105,
   "id": "465ab922",
   "metadata": {},
   "outputs": [
    {
     "name": "stdout",
     "output_type": "stream",
     "text": [
      "a\n",
      "abcba\n",
      "b\n",
      "bcb\n",
      "c\n",
      "b\n",
      "a\n"
     ]
    }
   ],
   "source": [
    "#wap to print sub palindromes in a given string\n",
    "d='abcba'\n",
    "for x in range(len(d)):\n",
    "    for y in range(x+1,len(d)+1):\n",
    "        n=d[x:y]\n",
    "        if n==n[::-1]:\n",
    "            print(n)"
   ]
  },
  {
   "cell_type": "code",
   "execution_count": 106,
   "id": "a0784657",
   "metadata": {},
   "outputs": [
    {
     "name": "stdout",
     "output_type": "stream",
     "text": [
      "E=3\n",
      "N=3\n",
      "G=2\n",
      "I=2\n",
      "R=1\n"
     ]
    }
   ],
   "source": [
    "#wap to count each character in a given string\n",
    "d='ENGINEERING'\n",
    "c=''\n",
    "for i in range(len(d)):\n",
    "    if d[i] not in c:\n",
    "        c+=d[i]\n",
    "        print(f'{d[i]}={d.count(d[i])}')"
   ]
  },
  {
   "cell_type": "code",
   "execution_count": 108,
   "id": "8b26afda",
   "metadata": {},
   "outputs": [
    {
     "name": "stdout",
     "output_type": "stream",
     "text": [
      "E=3\n",
      "N=3\n",
      "G=2\n",
      "I=2\n",
      "R=1\n"
     ]
    }
   ],
   "source": [
    "#wap to count each character in a given string\n",
    "c='ENGINEERING'\n",
    "d={}\n",
    "for x in range(len(c)):\n",
    "    if c[x] not in d:\n",
    "        d[c[x]]=1\n",
    "    else:\n",
    "        d[c[x]]+=1\n",
    "for k,v in d.items():\n",
    "    print(f'{k}={v}')"
   ]
  },
  {
   "cell_type": "code",
   "execution_count": 113,
   "id": "70f7f72c",
   "metadata": {},
   "outputs": [
    {
     "name": "stdout",
     "output_type": "stream",
     "text": [
      "['we', 'are', 'groot']\n"
     ]
    }
   ],
   "source": [
    "#wap to split given string without using split method\n",
    "s='we are groot'\n",
    "l=[]\n",
    "ss=''\n",
    "for d in range(len(s)):\n",
    "    if s[d]!=' ':\n",
    "        ss+=s[d]\n",
    "    else:\n",
    "        l.append(ss)\n",
    "        ss=''\n",
    "l.append(ss)\n",
    "print(l)"
   ]
  },
  {
   "cell_type": "code",
   "execution_count": 116,
   "id": "e3a9ad77",
   "metadata": {},
   "outputs": [
    {
     "name": "stdout",
     "output_type": "stream",
     "text": [
      "7\n"
     ]
    }
   ],
   "source": [
    "#wap to count digits in a given string\n",
    "d='deviprasad1431722charishma'\n",
    "dig='123456789'\n",
    "count=0\n",
    "for i in range(len(d)):\n",
    "    if d[i] in dig:\n",
    "        count+=1\n",
    "print(count)"
   ]
  },
  {
   "cell_type": "code",
   "execution_count": 10,
   "id": "fa38daa2",
   "metadata": {},
   "outputs": [
    {
     "name": "stdout",
     "output_type": "stream",
     "text": [
      "1431722\n"
     ]
    }
   ],
   "source": [
    "#wap to print digits in a given string\n",
    "d='deviprasad1431722charishma'\n",
    "dig='123456789'\n",
    "res=''\n",
    "for i in range(len(d)):\n",
    "    if d[i] in dig:\n",
    "        res+=d[i]\n",
    "print(res)"
   ]
  },
  {
   "cell_type": "code",
   "execution_count": 4,
   "id": "fee3ad27",
   "metadata": {},
   "outputs": [
    {
     "name": "stdout",
     "output_type": "stream",
     "text": [
      "d\n",
      "de\n",
      "dev\n",
      "devi\n"
     ]
    }
   ],
   "source": [
    "d='devi'\n",
    "c=''\n",
    "for i in range(len(d)):\n",
    "    if d[i] not in c:\n",
    "        c+=d[i]\n",
    "        print(c)"
   ]
  },
  {
   "cell_type": "code",
   "execution_count": 5,
   "id": "a72ca416",
   "metadata": {},
   "outputs": [
    {
     "name": "stdout",
     "output_type": "stream",
     "text": [
      "edcba\n"
     ]
    }
   ],
   "source": [
    "d='abcde'\n",
    "c=''\n",
    "for i in range(-1,-(len(d)+1),-1):\n",
    "    c+=d[i]\n",
    "print(c)"
   ]
  },
  {
   "cell_type": "code",
   "execution_count": 19,
   "id": "62fafbf2",
   "metadata": {},
   "outputs": [
    {
     "name": "stdout",
     "output_type": "stream",
     "text": [
      "6\n"
     ]
    }
   ],
   "source": [
    "d='ENGINEERING'\n",
    "e='aeiouAEIOU'\n",
    "c=0\n",
    "for i in range(len(d)):\n",
    "    if d[i] not in e:\n",
    "        c+=1\n",
    "print(c)"
   ]
  },
  {
   "cell_type": "code",
   "execution_count": 1,
   "id": "27397b88",
   "metadata": {},
   "outputs": [
    {
     "name": "stdout",
     "output_type": "stream",
     "text": [
      "developer\n"
     ]
    }
   ],
   "source": [
    "d='i want to become python developer'\n",
    "c=d.split()\n",
    "i={}\n",
    "for a in range(len(c)):\n",
    "    if c[a] not in i:\n",
    "        i[c[a]]=len(c[a])\n",
    "val=list(i.values())\n",
    "h=val[0]\n",
    "for o in range(1,len(val)):\n",
    "    if h<val[o]:\n",
    "        h=val[o]\n",
    "for k,v in i.items():\n",
    "    if h==v:\n",
    "        print(k)"
   ]
  },
  {
   "cell_type": "code",
   "execution_count": 3,
   "id": "f9c6505a",
   "metadata": {},
   "outputs": [
    {
     "name": "stdout",
     "output_type": "stream",
     "text": [
      "ived\n"
     ]
    }
   ],
   "source": [
    "c='devi'\n",
    "d=''\n",
    "for k in range(-1,-(len(c)+1),-1):\n",
    "    if c[k] not in d:\n",
    "        d+=c[k]\n",
    "print(d)"
   ]
  },
  {
   "cell_type": "code",
   "execution_count": 1,
   "id": "4d1f5dd0",
   "metadata": {},
   "outputs": [
    {
     "name": "stdout",
     "output_type": "stream",
     "text": [
      "great always is dhoni\n"
     ]
    }
   ],
   "source": [
    "d='dhoni is always great'\n",
    "c=d.split()\n",
    "for i in range(len(c)//2):\n",
    "    c[i],c[len(c)-1-i]=c[len(c)-1-i],c[i]\n",
    "print(' '.join(c))\n",
    "    "
   ]
  },
  {
   "cell_type": "code",
   "execution_count": 3,
   "id": "963f0879",
   "metadata": {},
   "outputs": [
    {
     "name": "stdout",
     "output_type": "stream",
     "text": [
      "inohd si syawla taerg\n"
     ]
    }
   ],
   "source": [
    "d='dhoni is always great'\n",
    "c=d.split()\n",
    "for i in range(len(c)):\n",
    "    c[i]=c[i][::-1]\n",
    "print(' '.join(c))"
   ]
  },
  {
   "cell_type": "code",
   "execution_count": 2,
   "id": "6a773e5a",
   "metadata": {},
   "outputs": [
    {
     "name": "stdout",
     "output_type": "stream",
     "text": [
      "sgfhrwv\n"
     ]
    }
   ],
   "source": [
    "d='sgfhgrfhwgvs'\n",
    "c=''\n",
    "for i in range(len(d)):\n",
    "    if d[i] not in c:\n",
    "        c+=d[i]\n",
    "print(c)"
   ]
  },
  {
   "cell_type": "code",
   "execution_count": 6,
   "id": "74856525",
   "metadata": {},
   "outputs": [
    {
     "name": "stdout",
     "output_type": "stream",
     "text": [
      "sgfhrwv\n"
     ]
    }
   ],
   "source": [
    "d='sgfhgrfhwgvs'\n",
    "c=''\n",
    "for i in d:\n",
    "    if i not in c:\n",
    "        c+=i\n",
    "print(c)"
   ]
  },
  {
   "cell_type": "code",
   "execution_count": 13,
   "id": "94d65be7",
   "metadata": {},
   "outputs": [
    {
     "name": "stdout",
     "output_type": "stream",
     "text": [
      "4\n"
     ]
    }
   ],
   "source": [
    "d='devi'\n",
    "print(d.rindex(''))"
   ]
  },
  {
   "cell_type": "code",
   "execution_count": 2,
   "id": "a2c44b2b",
   "metadata": {},
   "outputs": [
    {
     "name": "stdout",
     "output_type": "stream",
     "text": [
      "[1, 2, 3, 4]\n",
      "IS QUESTION EXAM THIS "
     ]
    },
    {
     "ename": "TypeError",
     "evalue": "sequence item 0: expected str instance, int found",
     "output_type": "error",
     "traceback": [
      "\u001b[1;31m---------------------------------------------------------------------------\u001b[0m",
      "\u001b[1;31mTypeError\u001b[0m                                 Traceback (most recent call last)",
      "\u001b[1;32m~\\AppData\\Local\\Temp\\ipykernel_2436\\962246011.py\u001b[0m in \u001b[0;36m<module>\u001b[1;34m\u001b[0m\n\u001b[0;32m     15\u001b[0m \u001b[1;32mfor\u001b[0m \u001b[0mi\u001b[0m \u001b[1;32min\u001b[0m \u001b[0mD\u001b[0m\u001b[1;33m.\u001b[0m\u001b[0mvalues\u001b[0m\u001b[1;33m(\u001b[0m\u001b[1;33m)\u001b[0m\u001b[1;33m:\u001b[0m\u001b[1;33m\u001b[0m\u001b[1;33m\u001b[0m\u001b[0m\n\u001b[0;32m     16\u001b[0m     \u001b[0mprint\u001b[0m\u001b[1;33m(\u001b[0m\u001b[0mi\u001b[0m\u001b[1;33m,\u001b[0m\u001b[0mend\u001b[0m\u001b[1;33m=\u001b[0m\u001b[1;34m' '\u001b[0m\u001b[1;33m)\u001b[0m\u001b[1;33m\u001b[0m\u001b[1;33m\u001b[0m\u001b[0m\n\u001b[1;32m---> 17\u001b[1;33m \u001b[0mprint\u001b[0m\u001b[1;33m(\u001b[0m\u001b[1;34m' '\u001b[0m\u001b[1;33m.\u001b[0m\u001b[0mjoin\u001b[0m\u001b[1;33m(\u001b[0m\u001b[0mld\u001b[0m\u001b[1;33m)\u001b[0m\u001b[1;33m)\u001b[0m\u001b[1;33m\u001b[0m\u001b[1;33m\u001b[0m\u001b[0m\n\u001b[0m",
      "\u001b[1;31mTypeError\u001b[0m: sequence item 0: expected str instance, int found"
     ]
    }
   ],
   "source": [
    "S='I2S QUES4TION EX3AM TH1IS'\n",
    "D={}\n",
    "L=S.split()\n",
    "for word in L:\n",
    "    num=ss=''\n",
    "    for ch in word:\n",
    "        if '0'<=ch<='9':\n",
    "            num+=ch\n",
    "        else:\n",
    "            ss+=ch\n",
    "    D[int(num)]=ss\n",
    "ld=list(D)\n",
    "ld.sort()\n",
    "print(ld)\n",
    "for i in D.values():\n",
    "    print(i,end=' ')\n",
    "print(' '.join(ld))"
   ]
  },
  {
   "cell_type": "code",
   "execution_count": 7,
   "id": "0f45131b",
   "metadata": {},
   "outputs": [
    {
     "name": "stdout",
     "output_type": "stream",
     "text": [
      "ived\n"
     ]
    }
   ],
   "source": [
    "d='devi'\n",
    "c=''\n",
    "for i in range(-1,-(len(d)+1),-1):\n",
    "    c+=d[i]\n",
    "print(c)"
   ]
  },
  {
   "cell_type": "code",
   "execution_count": 5,
   "id": "4740b7a2",
   "metadata": {},
   "outputs": [
    {
     "name": "stdout",
     "output_type": "stream",
     "text": [
      "pali\n"
     ]
    }
   ],
   "source": [
    "d='deviived'\n",
    "c=''\n",
    "for i in range(-1,-(len(d)+1),-1):\n",
    "    c+=d[i]\n",
    "if c==d:\n",
    "    print('pali')\n",
    "else:\n",
    "    print('not')"
   ]
  },
  {
   "cell_type": "code",
   "execution_count": 9,
   "id": "ee402702",
   "metadata": {},
   "outputs": [
    {
     "name": "stdout",
     "output_type": "stream",
     "text": [
      "pYtHOn@123\n"
     ]
    }
   ],
   "source": [
    "s='PyThoN@123'\n",
    "res=''\n",
    "for i in range(len(s)):\n",
    "    if 'a'<=s[i]<='z':\n",
    "        res+=chr(ord(s[i])-32)\n",
    "    elif 'A'<=s[i]<='Z':\n",
    "        res+=chr(ord(s[i])+32)\n",
    "    else:\n",
    "        res+=s[i]\n",
    "print(res)"
   ]
  },
  {
   "cell_type": "code",
   "execution_count": 13,
   "id": "850071a9",
   "metadata": {},
   "outputs": [
    {
     "name": "stdout",
     "output_type": "stream",
     "text": [
      "pYtHOn@123DEVIDEVI",
      "DEVI\n"
     ]
    }
   ],
   "source": [
    "d='devi'\n",
    "for i in range(len(d)):\n",
    "    if 'a'<=d[i]<='z':\n",
    "        res+=chr(ord(d[i])-32)\n",
    "    else:\n",
    "        res+=d[i]\n",
    "print(res)"
   ]
  },
  {
   "cell_type": "code",
   "execution_count": 4,
   "id": "eed3fc3a",
   "metadata": {},
   "outputs": [
    {
     "name": "stdout",
     "output_type": "stream",
     "text": [
      "A\n",
      "ABCDDCBA\n",
      "B\n",
      "BCDDCB\n",
      "C\n",
      "CDDC\n",
      "D\n",
      "DD\n",
      "D\n",
      "C\n",
      "B\n",
      "A\n"
     ]
    }
   ],
   "source": [
    "d='ABCDDCBA'\n",
    "for a in range(len(d)):\n",
    "    for b in range(a+1,len(d)+1):\n",
    "        N=d[a:b]\n",
    "        if N==N[::-1]:\n",
    "            print(N)"
   ]
  },
  {
   "cell_type": "code",
   "execution_count": 29,
   "id": "b26b56af",
   "metadata": {},
   "outputs": [
    {
     "name": "stdout",
     "output_type": "stream",
     "text": [
      "developer\n"
     ]
    }
   ],
   "source": [
    "a='i want to become python developer'\n",
    "d={}\n",
    "b=a.split()\n",
    "for i in range(len(b)):\n",
    "    if b[i] not in d:\n",
    "        d[b[i]]=len(b[i])\n",
    "val=list(d.values())\n",
    "h=val[0]\n",
    "for j in range(1,len(val)):\n",
    "    if h<val[j]:\n",
    "        h=val[j]\n",
    "for k,v in d.items():\n",
    "    if h==v:\n",
    "        print(k)"
   ]
  },
  {
   "cell_type": "code",
   "execution_count": 34,
   "id": "7b9c415b",
   "metadata": {},
   "outputs": [
    {
     "name": "stdout",
     "output_type": "stream",
     "text": [
      "we\n",
      "want\n"
     ]
    }
   ],
   "source": [
    "a='we want to attend class everyday because we want job'\n",
    "b=a.split()\n",
    "d={}\n",
    "for i in range(len(b)):\n",
    "    if b[i] not in d:\n",
    "        d[b[i]]=1\n",
    "    else:\n",
    "        d[b[i]]+=1\n",
    "val=list(d.values())\n",
    "h=val[0]\n",
    "for j in range(1,len(val)):\n",
    "    if h<val[j]:\n",
    "        h=val[j]\n",
    "for k,v in d.items():\n",
    "    if h==v:\n",
    "        print(k)"
   ]
  },
  {
   "cell_type": "code",
   "execution_count": 3,
   "id": "04c9c401",
   "metadata": {},
   "outputs": [
    {
     "name": "stdout",
     "output_type": "stream",
     "text": [
      "[1, 2, 3, 4]\n",
      "THIS IS EXAM QUESTION\n"
     ]
    }
   ],
   "source": [
    "S='I2S QUES4TION EX3AM TH1IS'\n",
    "d={}\n",
    "L=S.split()\n",
    "lt=[]\n",
    "for word in L:\n",
    "    num=ss=''\n",
    "    for ch in word:\n",
    "        if '0'<=ch<='9':\n",
    "            num+=ch\n",
    "        else:\n",
    "            ss+=ch\n",
    "    d[int(num)]=ss\n",
    "ld=list(d)\n",
    "ld.sort()\n",
    "print(ld)\n",
    "for i in ld:\n",
    "    if i in d.keys():\n",
    "        lt.append(d[i])\n",
    "print(' '.join(lt))"
   ]
  },
  {
   "cell_type": "code",
   "execution_count": 2,
   "id": "9bf1d479",
   "metadata": {},
   "outputs": [
    {
     "name": "stdout",
     "output_type": "stream",
     "text": [
      "ENGIR\n"
     ]
    }
   ],
   "source": [
    "s='ENGINEER'\n",
    "c=''\n",
    "for i in range(len(s)):\n",
    "    if s[i] not in c:\n",
    "        c+=s[i]\n",
    "print(c)"
   ]
  },
  {
   "cell_type": "code",
   "execution_count": 22,
   "id": "3f2be8d9",
   "metadata": {},
   "outputs": [
    {
     "name": "stdout",
     "output_type": "stream",
     "text": [
      "d\n",
      "da\n",
      "das\n",
      "dasa\n",
      "dasar\n",
      "dasarp\n"
     ]
    }
   ],
   "source": [
    "d='prasad'\n",
    "c=''\n",
    "for i in range(-1,-(len(d)+1),-1):\n",
    "        c+=d[i]\n",
    "        print(c)"
   ]
  },
  {
   "cell_type": "code",
   "execution_count": 11,
   "id": "16d4dd01",
   "metadata": {},
   "outputs": [
    {
     "name": "stdout",
     "output_type": "stream",
     "text": [
      "dasarp\n",
      "dasar\n",
      "dasa\n",
      "das\n",
      "da\n",
      "d\n"
     ]
    }
   ],
   "source": [
    "d='prasad'\n",
    "for i in range(len(d)):\n",
    "    #print(i,d[i:])\n",
    "    print(d[i:][::-1])"
   ]
  },
  {
   "cell_type": "code",
   "execution_count": 12,
   "id": "601477c2",
   "metadata": {},
   "outputs": [
    {
     "name": "stdout",
     "output_type": "stream",
     "text": [
      "266\n"
     ]
    }
   ],
   "source": [
    "s='ABCD'\n",
    "c=0\n",
    "for i in range(len(s)):\n",
    "    c+=ord(s[i])\n",
    "print(c)"
   ]
  },
  {
   "cell_type": "code",
   "execution_count": 30,
   "id": "f0bc4dfd",
   "metadata": {},
   "outputs": [
    {
     "name": "stdout",
     "output_type": "stream",
     "text": [
      "0 [15, 14, 13, 12, 11]\n",
      "1 [15, 14, 13, 12]\n",
      "2 [15, 14, 13]\n",
      "3 [15, 14]\n",
      "4 [15]\n"
     ]
    }
   ],
   "source": [
    "d=[11,12,13,14,15]\n",
    "for i in range(len(d)):\n",
    "    print(i,d[i:][::-1])"
   ]
  },
  {
   "cell_type": "code",
   "execution_count": 34,
   "id": "72d09d54",
   "metadata": {},
   "outputs": [
    {
     "name": "stdout",
     "output_type": "stream",
     "text": [
      "0\n",
      "*****************************\n",
      "0\n",
      "*****************************\n",
      "0\n",
      "*****************************\n",
      "1\n",
      "*****************************\n",
      "2\n",
      "*****************************\n",
      "3\n",
      "*****************************\n",
      "1\n",
      "*****************************\n",
      "0\n",
      "*****************************\n",
      "1\n",
      "*****************************\n",
      "2\n",
      "*****************************\n",
      "3\n",
      "*****************************\n",
      "2\n",
      "*****************************\n",
      "0\n",
      "*****************************\n",
      "1\n",
      "*****************************\n",
      "2\n",
      "*****************************\n",
      "3\n",
      "*****************************\n",
      "1\n",
      "*****************************\n",
      "0\n",
      "*****************************\n",
      "0\n",
      "*****************************\n",
      "1\n",
      "*****************************\n",
      "2\n",
      "*****************************\n",
      "3\n",
      "*****************************\n",
      "1\n",
      "*****************************\n",
      "0\n",
      "*****************************\n",
      "1\n",
      "*****************************\n",
      "2\n",
      "*****************************\n",
      "3\n",
      "*****************************\n",
      "2\n",
      "*****************************\n",
      "0\n",
      "*****************************\n",
      "1\n",
      "*****************************\n",
      "2\n",
      "*****************************\n",
      "3\n",
      "*****************************\n"
     ]
    }
   ],
   "source": [
    "for i in range(2):\n",
    "    print(i)\n",
    "    print('*'*29)\n",
    "    for j in range(3):\n",
    "        print(j)\n",
    "        print('*'*29)\n",
    "        for k in range(4):\n",
    "            print(k)\n",
    "            print('*'*29)"
   ]
  },
  {
   "cell_type": "code",
   "execution_count": 36,
   "id": "7670ce63",
   "metadata": {},
   "outputs": [
    {
     "name": "stdout",
     "output_type": "stream",
     "text": [
      "0\n",
      "*****************************\n",
      "0\n",
      "*****************************\n",
      "1\n",
      "*****************************\n",
      "2\n",
      "*****************************\n",
      "0\n",
      "#############################\n",
      "1\n",
      "#############################\n",
      "1\n",
      "*****************************\n",
      "0\n",
      "*****************************\n",
      "1\n",
      "*****************************\n",
      "2\n",
      "*****************************\n",
      "0\n",
      "#############################\n",
      "1\n",
      "#############################\n"
     ]
    }
   ],
   "source": [
    "for i in range(2):\n",
    "    print(i)\n",
    "    print('*'*29)\n",
    "    for j in range(3):\n",
    "        print(j)\n",
    "        print('*'*29)\n",
    "    for k in range(2):\n",
    "        print(k)\n",
    "        print('#'*29)"
   ]
  },
  {
   "cell_type": "code",
   "execution_count": 51,
   "id": "465bce47",
   "metadata": {},
   "outputs": [
    {
     "name": "stdout",
     "output_type": "stream",
     "text": [
      "d\n",
      "de\n",
      "dev\n",
      "devi\n"
     ]
    }
   ],
   "source": [
    "d='devi'\n",
    "for i in range(1,len(d)+1):\n",
    "    print(d[:i:])"
   ]
  },
  {
   "cell_type": "code",
   "execution_count": 55,
   "id": "101a7973",
   "metadata": {},
   "outputs": [
    {
     "name": "stdout",
     "output_type": "stream",
     "text": [
      "devi\n",
      "evi\n",
      "vi\n",
      "i\n"
     ]
    }
   ],
   "source": [
    "d='devi'\n",
    "for i in range(len(d)):\n",
    "    print(d[i::])"
   ]
  },
  {
   "cell_type": "code",
   "execution_count": 37,
   "id": "74c64f18",
   "metadata": {},
   "outputs": [
    {
     "name": "stdout",
     "output_type": "stream",
     "text": [
      "ived\n"
     ]
    }
   ],
   "source": [
    "d='devi'\n",
    "print(d[::-1])"
   ]
  },
  {
   "cell_type": "code",
   "execution_count": 38,
   "id": "db7ddeb6",
   "metadata": {},
   "outputs": [
    {
     "name": "stdout",
     "output_type": "stream",
     "text": [
      "ived\n"
     ]
    }
   ],
   "source": [
    "d='devi'\n",
    "c=''\n",
    "for i in range(-1,-(len(d)+1),-1):\n",
    "    if d[i] not in c:\n",
    "        c+=d[i]\n",
    "print(c)"
   ]
  },
  {
   "cell_type": "code",
   "execution_count": 42,
   "id": "6ecd7659",
   "metadata": {},
   "outputs": [
    {
     "name": "stdout",
     "output_type": "stream",
     "text": [
      "palindrome\n"
     ]
    }
   ],
   "source": [
    "d='22'\n",
    "c=''\n",
    "for i in range(-1,-(len(d)+1),-1):\n",
    "        c+=d[i]\n",
    "if d==c:\n",
    "    print('palindrome')\n",
    "else:\n",
    "    print('not')"
   ]
  },
  {
   "cell_type": "code",
   "execution_count": 58,
   "id": "7b3ddfc1",
   "metadata": {},
   "outputs": [
    {
     "name": "stdout",
     "output_type": "stream",
     "text": [
      "aeEAee\n"
     ]
    }
   ],
   "source": [
    "c='avengErs Assemble'\n",
    "vow='aeiouAEIOU'\n",
    "d=''\n",
    "for i in range(len(c)):\n",
    "    if c[i] in vow:\n",
    "        d+=c[i]\n",
    "print(d)        "
   ]
  },
  {
   "cell_type": "code",
   "execution_count": 59,
   "id": "0dab4389",
   "metadata": {},
   "outputs": [
    {
     "name": "stdout",
     "output_type": "stream",
     "text": [
      "6\n"
     ]
    }
   ],
   "source": [
    "c='avengErs Assemble'\n",
    "vow='aeiouAEIOU'\n",
    "d=0\n",
    "for i in range(len(c)):\n",
    "    if c[i] in vow:\n",
    "        d+=1\n",
    "print(d)\n",
    "        "
   ]
  },
  {
   "cell_type": "code",
   "execution_count": 64,
   "id": "7d0059c1",
   "metadata": {},
   "outputs": [
    {
     "name": "stdout",
     "output_type": "stream",
     "text": [
      "pYtHoN@123\n"
     ]
    }
   ],
   "source": [
    "d='PyThOn@123'\n",
    "c=''\n",
    "for i in range(len(d)):\n",
    "    if 'a'<=d[i]<='z':\n",
    "        c+=chr(ord(d[i])-32)\n",
    "    elif 'A'<=d[i]<'Z':\n",
    "        c+=chr(ord(d[i])+32)\n",
    "    else:\n",
    "        c+=d[i]\n",
    "print(c)"
   ]
  },
  {
   "cell_type": "code",
   "execution_count": 66,
   "id": "070876fe",
   "metadata": {},
   "outputs": [
    {
     "name": "stdout",
     "output_type": "stream",
     "text": [
      "A\n",
      "ABCBA\n",
      "B\n",
      "BCB\n",
      "C\n",
      "B\n",
      "A\n"
     ]
    }
   ],
   "source": [
    "d='ABCBA'\n",
    "for x in range(len(d)):\n",
    "    for y in range(x+1,len(d)+1):\n",
    "        #print(d[x:y])\n",
    "        N=d[x:y]\n",
    "        if N==N[::-1]:\n",
    "            print(N)"
   ]
  },
  {
   "cell_type": "code",
   "execution_count": 70,
   "id": "a7689bd5",
   "metadata": {},
   "outputs": [
    {
     "name": "stdout",
     "output_type": "stream",
     "text": [
      "['we are groot']\n"
     ]
    }
   ],
   "source": [
    "s='we are groot'\n",
    "l=[]\n",
    "ss=''\n",
    "for d in range(len(s)):\n",
    "    if s[d]!='':\n",
    "        ss+=s[d]\n",
    "    else:\n",
    "        l.append(ss)\n",
    "        ss=''\n",
    "l.append(ss)\n",
    "print(l)"
   ]
  },
  {
   "cell_type": "code",
   "execution_count": 3,
   "id": "e90e385e",
   "metadata": {},
   "outputs": [
    {
     "name": "stdout",
     "output_type": "stream",
     "text": [
      "WE\n",
      "WANT\n"
     ]
    }
   ],
   "source": [
    "l='WE WANT TO ATTEND CLASS EVERYDAY BECAUSE WE WANT JOB THI MONTH'\n",
    "d=l.split()\n",
    "c={}\n",
    "for i in range(len(d)):\n",
    "    if d[i] not in c:\n",
    "        c[d[i]]=1\n",
    "    else:\n",
    "        c[d[i]]+=1\n",
    "a=list(c.values())\n",
    "b=a[0]\n",
    "for j in range(1,len(a)):\n",
    "    if b<a[j]:\n",
    "        b=a[j]\n",
    "for k,v in c.items():\n",
    "    if b==v:\n",
    "        print(k)"
   ]
  },
  {
   "cell_type": "code",
   "execution_count": 1,
   "id": "489b3976",
   "metadata": {},
   "outputs": [
    {
     "name": "stdout",
     "output_type": "stream",
     "text": [
      "ived\n"
     ]
    }
   ],
   "source": [
    "def rev(n):\n",
    "    if n==-(len(a)+1):\n",
    "        return ''\n",
    "    return a[n]+rev(n-1)\n",
    "a='devi'\n",
    "print(rev(-1))"
   ]
  },
  {
   "cell_type": "code",
   "execution_count": 13,
   "id": "4870cad0",
   "metadata": {},
   "outputs": [
    {
     "name": "stdout",
     "output_type": "stream",
     "text": [
      "1\n",
      "2\n",
      "3\n",
      "4\n",
      "5\n",
      "6\n",
      "7\n",
      "8\n",
      "9\n",
      "10\n"
     ]
    }
   ],
   "source": [
    "def num(i):\n",
    "    if i==11:\n",
    "        return \n",
    "    print(i)\n",
    "    num(i+1)\n",
    "num(1)"
   ]
  },
  {
   "cell_type": "code",
   "execution_count": 19,
   "id": "1af9b38b",
   "metadata": {},
   "outputs": [
    {
     "name": "stdout",
     "output_type": "stream",
     "text": [
      "11\n",
      "10\n",
      "9\n",
      "8\n",
      "7\n",
      "6\n",
      "5\n",
      "4\n",
      "3\n",
      "2\n",
      "1\n"
     ]
    }
   ],
   "source": [
    "def num(a):\n",
    "    if a==0:\n",
    "        return \n",
    "    print(a)\n",
    "    num(a-1)\n",
    "num(11)"
   ]
  },
  {
   "cell_type": "code",
   "execution_count": 1,
   "id": "bf86384c",
   "metadata": {},
   "outputs": [
    {
     "name": "stdout",
     "output_type": "stream",
     "text": [
      "hheillo\n"
     ]
    }
   ],
   "source": [
    "s='hello'\n",
    "s1='hi'\n",
    "l=list(s)\n",
    "x=1\n",
    "for i in s1:\n",
    "    l.insert(x,i)\n",
    "    x+=2\n",
    "print(''.join(l))"
   ]
  },
  {
   "cell_type": "code",
   "execution_count": 5,
   "id": "a3bc5b36",
   "metadata": {},
   "outputs": [
    {
     "name": "stdout",
     "output_type": "stream",
     "text": [
      "aahendrM\n",
      "hingS\n",
      "ihonD\n",
      "yommonlc\n",
      "nnowk\n",
      "ihonD\n"
     ]
    }
   ],
   "source": [
    "d='Mahendra Singh Dhoni commonly known Dhoni'\n",
    "c=d.split()\n",
    "NL=[]\n",
    "for i in range(len(c)):\n",
    "    k=list(c[i])\n",
    "    k[0],k[-1]=k[-1],k[0]\n",
    "    print(''.join(k)) \n",
    "    NL.append(k)"
   ]
  },
  {
   "cell_type": "code",
   "execution_count": 101,
   "id": "eb3050f3",
   "metadata": {},
   "outputs": [
    {
     "name": "stdout",
     "output_type": "stream",
     "text": [
      "[1, 2, 3, 4, 5, 6, 7, 8, 9, 10, 11, 13, 15]\n"
     ]
    }
   ],
   "source": [
    "d=[1,2,3,4,5,6,7,8,9,10,11,13,15]\n",
    "even=[]\n",
    "for i in d:\n",
    "    if i%2==0:\n",
    "        even.append(i)\n",
    "    else:\n",
    "        even.append(i)\n",
    "for a in "
   ]
  },
  {
   "cell_type": "code",
   "execution_count": 4,
   "id": "b6e099cd",
   "metadata": {},
   "outputs": [
    {
     "name": "stdout",
     "output_type": "stream",
     "text": [
      "aahendrM hingS ihonD yommonlc nnowk ihonD\n"
     ]
    }
   ],
   "source": [
    "d='Mahendra Singh Dhoni commonly known Dhoni'\n",
    "c=d.split()\n",
    "NL=[]\n",
    "for i in range(len(c)):\n",
    "    a=list(c[i])\n",
    "    a[0],a[-1]=a[-1],a[0]\n",
    "    b=''.join(a)\n",
    "    NL.append(b)\n",
    "print(' '.join(NL))"
   ]
  },
  {
   "cell_type": "code",
   "execution_count": 19,
   "id": "7a8c23b1",
   "metadata": {},
   "outputs": [
    {
     "name": "stdout",
     "output_type": "stream",
     "text": [
      "Mahendra hingS ihonD commonly nnowk ihonD\n"
     ]
    }
   ],
   "source": [
    "d='Mahendra Singh Dhoni commonly known Dhoni'\n",
    "c=d.split()   #O/P--->aahendrM hingS ihonD yommonlc nnowk ihonD\n",
    "NL=[]\n",
    "for i in range(len(c)):\n",
    "    a=list(c[i])\n",
    "    s=str(a)\n",
    "    l=len(s)\n",
    "    if l%2==1:\n",
    "        a[0],a[-1]=a[-1],a[0]\n",
    "        b=''.join(a)\n",
    "        NL.append(b)\n",
    "    else:\n",
    "        b=''.join(a)\n",
    "        NL.append(b)\n",
    "print(' '.join(NL))"
   ]
  },
  {
   "cell_type": "code",
   "execution_count": 44,
   "id": "68302a32",
   "metadata": {},
   "outputs": [
    {
     "name": "stdout",
     "output_type": "stream",
     "text": [
      "(2, 7)\n",
      "(3, 6)\n",
      "(4, 5)\n"
     ]
    }
   ],
   "source": [
    "d=[1,2,3,4,5,6,7,8]\n",
    "for i in range(len(d)):\n",
    "    for j in range(i+1,len(d)-1):\n",
    "        if d[i]+d[j]==9:\n",
    "            print((d[i],d[j]))"
   ]
  },
  {
   "cell_type": "code",
   "execution_count": 46,
   "id": "a79b455f",
   "metadata": {},
   "outputs": [
    {
     "name": "stdout",
     "output_type": "stream",
     "text": [
      "[1, 2, 3, 4]\n"
     ]
    }
   ],
   "source": [
    "d=[1,2,3,4,5,6,7,8]\n",
    "for i in range(len(d)):\n",
    "    for j in range(i+1,len(d)+1):\n",
    "        if (sum(d[i:j])==10):\n",
    "            print(d[i:j])"
   ]
  },
  {
   "cell_type": "code",
   "execution_count": 48,
   "id": "ef67516b",
   "metadata": {},
   "outputs": [
    {
     "name": "stdout",
     "output_type": "stream",
     "text": [
      "[8, 7, 6, 5, 4, 3, 2, 1]\n"
     ]
    }
   ],
   "source": [
    "d=[1,2,3,4,5,6,7,8]\n",
    "for i in range(len(d)//2):\n",
    "    d[i],d[len(d)-1-i]=d[len(d)-1-i],d[i]\n",
    "print(d)  "
   ]
  },
  {
   "cell_type": "code",
   "execution_count": 61,
   "id": "1ed81ae5",
   "metadata": {},
   "outputs": [
    {
     "ename": "IndexError",
     "evalue": "list index out of range",
     "output_type": "error",
     "traceback": [
      "\u001b[1;31m---------------------------------------------------------------------------\u001b[0m",
      "\u001b[1;31mIndexError\u001b[0m                                Traceback (most recent call last)",
      "\u001b[1;32m~\\AppData\\Local\\Temp\\ipykernel_8272\\2558250132.py\u001b[0m in \u001b[0;36m<module>\u001b[1;34m\u001b[0m\n\u001b[0;32m      9\u001b[0m \u001b[0madd\u001b[0m\u001b[1;33m=\u001b[0m\u001b[1;33m[\u001b[0m\u001b[1;33m]\u001b[0m\u001b[1;33m\u001b[0m\u001b[1;33m\u001b[0m\u001b[0m\n\u001b[0;32m     10\u001b[0m \u001b[1;32mfor\u001b[0m \u001b[0mc\u001b[0m \u001b[1;32min\u001b[0m \u001b[0mrange\u001b[0m\u001b[1;33m(\u001b[0m\u001b[0mlen\u001b[0m\u001b[1;33m(\u001b[0m\u001b[0meven\u001b[0m\u001b[1;33m)\u001b[0m\u001b[1;33m-\u001b[0m\u001b[1;36m1\u001b[0m\u001b[1;33m)\u001b[0m\u001b[1;33m:\u001b[0m\u001b[1;33m\u001b[0m\u001b[1;33m\u001b[0m\u001b[0m\n\u001b[1;32m---> 11\u001b[1;33m     \u001b[1;32mif\u001b[0m \u001b[0meven\u001b[0m\u001b[1;33m[\u001b[0m\u001b[0mc\u001b[0m\u001b[1;33m]\u001b[0m \u001b[1;32mand\u001b[0m \u001b[0modd\u001b[0m\u001b[1;33m[\u001b[0m\u001b[0mc\u001b[0m\u001b[1;33m]\u001b[0m \u001b[1;32mnot\u001b[0m \u001b[1;32min\u001b[0m \u001b[0madd\u001b[0m\u001b[1;33m:\u001b[0m\u001b[1;33m\u001b[0m\u001b[1;33m\u001b[0m\u001b[0m\n\u001b[0m\u001b[0;32m     12\u001b[0m         \u001b[0madd\u001b[0m\u001b[1;33m.\u001b[0m\u001b[0mappend\u001b[0m\u001b[1;33m(\u001b[0m\u001b[0meven\u001b[0m\u001b[1;33m[\u001b[0m\u001b[0mc\u001b[0m\u001b[1;33m]\u001b[0m\u001b[1;33m)\u001b[0m\u001b[1;33m\u001b[0m\u001b[1;33m\u001b[0m\u001b[0m\n\u001b[0;32m     13\u001b[0m         \u001b[0madd\u001b[0m\u001b[1;33m.\u001b[0m\u001b[0mappend\u001b[0m\u001b[1;33m(\u001b[0m\u001b[0modd\u001b[0m\u001b[1;33m[\u001b[0m\u001b[0mc\u001b[0m\u001b[1;33m]\u001b[0m\u001b[1;33m)\u001b[0m\u001b[1;33m\u001b[0m\u001b[1;33m\u001b[0m\u001b[0m\n",
      "\u001b[1;31mIndexError\u001b[0m: list index out of range"
     ]
    }
   ],
   "source": [
    "d=[12,14,16,23,21,22,20,19,92,19,15,25,32,24]\n",
    "even=[]\n",
    "odd=[]\n",
    "for i in d:\n",
    "    if i%2==0:\n",
    "        even.append(i)\n",
    "    else:\n",
    "        odd.append(i)\n",
    "add=[]\n",
    "for c in range(len(even)-1):\n",
    "    if even[c] and odd[c] not in add:\n",
    "        add.append(even[c])\n",
    "        add.append(odd[c])\n",
    "print(add)"
   ]
  },
  {
   "cell_type": "code",
   "execution_count": 32,
   "id": "2cfe52a1",
   "metadata": {},
   "outputs": [
    {
     "name": "stdout",
     "output_type": "stream",
     "text": [
      "as Singh Dhoni known Mahendra commonly\n"
     ]
    }
   ],
   "source": [
    "d='Mahendra Singh Dhoni commonly known as Dhoni'\n",
    "c=d.split()  \n",
    "d={i:len(i) for i in c}\n",
    "x=[]\n",
    "l=list(d.values())\n",
    "l.sort()\n",
    "for b in l:\n",
    "    for k,v in d.items():\n",
    "        if b==v and k not in x:\n",
    "            x.append(k)\n",
    "print(' '.join(x))"
   ]
  },
  {
   "cell_type": "code",
   "execution_count": 2,
   "id": "a0847c5e",
   "metadata": {},
   "outputs": [
    {
     "name": "stdout",
     "output_type": "stream",
     "text": [
      "a is high level Python general purpose language programming\n"
     ]
    }
   ],
   "source": [
    "s='Python is a high level general purpose programming language'\n",
    "l=s.split()\n",
    "d={i:len(i) for i in l}\n",
    "x=[]\n",
    "p=list(d.values())\n",
    "p.sort()\n",
    "for a in p:\n",
    "    for k,v in d.items():\n",
    "        if a==v and k not in x:\n",
    "            x.append(k)\n",
    "print(' '.join(x))"
   ]
  },
  {
   "cell_type": "code",
   "execution_count": 1,
   "id": "7918277a",
   "metadata": {},
   "outputs": [
    {
     "name": "stdout",
     "output_type": "stream",
     "text": [
      "B C D A\n",
      "C D A B\n",
      "D A B C\n",
      "A B C D\n"
     ]
    }
   ],
   "source": [
    "s='ABCD'\n",
    "l=list(s)\n",
    "for i in range(len(s)):\n",
    "    l.append(l.pop(0))\n",
    "    print(' '.join(l))"
   ]
  },
  {
   "cell_type": "code",
   "execution_count": 2,
   "id": "748b73f6",
   "metadata": {},
   "outputs": [
    {
     "name": "stdout",
     "output_type": "stream",
     "text": [
      "D A B C\n",
      "C D A B\n",
      "B C D A\n",
      "A B C D\n"
     ]
    }
   ],
   "source": [
    "s='ABCD'\n",
    "l=list(s)\n",
    "for i in range(len(s)):\n",
    "    l.insert(0,l.pop(-1))\n",
    "    print(' '.join(l))"
   ]
  },
  {
   "cell_type": "code",
   "execution_count": 1,
   "id": "ea3847ab",
   "metadata": {},
   "outputs": [
    {
     "name": "stdout",
     "output_type": "stream",
     "text": [
      "ENGIR\n"
     ]
    }
   ],
   "source": [
    "s='ENGINEERING'\n",
    "res=''\n",
    "for ch in s:\n",
    "    if ch not in res:\n",
    "        res+=ch\n",
    "print(res)"
   ]
  },
  {
   "cell_type": "code",
   "execution_count": 5,
   "id": "50b1ec0b",
   "metadata": {},
   "outputs": [
    {
     "name": "stdout",
     "output_type": "stream",
     "text": [
      "E\n",
      "N\n",
      "G\n",
      "I\n"
     ]
    }
   ],
   "source": [
    "s='ENGINEERING'\n",
    "res=''\n",
    "for ch in s:\n",
    "    if ch not in res:\n",
    "        res+=ch\n",
    "for ch in res:\n",
    "    if s.count(ch)>1:\n",
    "        print(ch)"
   ]
  },
  {
   "cell_type": "code",
   "execution_count": 11,
   "id": "4a2d6e82",
   "metadata": {},
   "outputs": [
    {
     "name": "stdout",
     "output_type": "stream",
     "text": [
      "E\n",
      "N\n"
     ]
    }
   ],
   "source": [
    "s='ENGINEERING'\n",
    "res=''\n",
    "h=0\n",
    "for ch in s:\n",
    "    if s.count(ch)>h:\n",
    "        h=s.count(ch)\n",
    "    if ch not in res:\n",
    "        res+=ch\n",
    "for ch in res:\n",
    "    if s.count(ch)==h:\n",
    "        print(ch)"
   ]
  },
  {
   "cell_type": "code",
   "execution_count": 5,
   "id": "8d3d3759",
   "metadata": {},
   "outputs": [
    {
     "name": "stdout",
     "output_type": "stream",
     "text": [
      "holidays want dont we\n"
     ]
    }
   ],
   "source": [
    "s='we dont want holidays'\n",
    "print(' '.join(s.split()[::-1]))"
   ]
  },
  {
   "cell_type": "code",
   "execution_count": 14,
   "id": "362d498a",
   "metadata": {},
   "outputs": [
    {
     "name": "stdout",
     "output_type": "stream",
     "text": [
      "holidays want dont we\n"
     ]
    }
   ],
   "source": [
    "s='we dont want holidays'\n",
    "res=''\n",
    "word=''\n",
    "for ch in s:\n",
    "    if ch!=' ':\n",
    "        word=word+ch\n",
    "    else:\n",
    "        res=' '+word+res\n",
    "        word=''\n",
    "print(word+res)"
   ]
  },
  {
   "cell_type": "code",
   "execution_count": 2,
   "id": "db8a0fd9",
   "metadata": {},
   "outputs": [
    {
     "name": "stdout",
     "output_type": "stream",
     "text": [
      " ew tnod tnaw syadiloh\n"
     ]
    }
   ],
   "source": [
    "s='we dont want holidays'\n",
    "res=''\n",
    "word=''\n",
    "for ch in s:\n",
    "    if ch!=' ':\n",
    "        word=ch+word\n",
    "    else:\n",
    "        res+=' '+word\n",
    "        word=''\n",
    "print(res+' '+word)"
   ]
  },
  {
   "cell_type": "code",
   "execution_count": 6,
   "id": "48d0c397",
   "metadata": {},
   "outputs": [
    {
     "name": "stdout",
     "output_type": "stream",
     "text": [
      "E\n"
     ]
    }
   ],
   "source": [
    "#write a program to print most frequently occured character in given string\n",
    "s='ENGINEERING'\n",
    "print(max(s,key=lambda ch:[s.count(ch)]))"
   ]
  },
  {
   "cell_type": "code",
   "execution_count": 10,
   "id": "c91142ef",
   "metadata": {},
   "outputs": [
    {
     "name": "stdout",
     "output_type": "stream",
     "text": [
      "A I TO WANT BECOME PYTHON DEVELOPER\n"
     ]
    }
   ],
   "source": [
    "#write a program to arrange words in given string according its length\n",
    "s='I WANT TO BECOME A PYTHON DEVELOPER'\n",
    "l=s.split()\n",
    "print(' '.join(sorted(l,key=lambda word:[len(word),word])))"
   ]
  },
  {
   "cell_type": "code",
   "execution_count": 13,
   "id": "5adeac35",
   "metadata": {},
   "outputs": [
    {
     "name": "stdout",
     "output_type": "stream",
     "text": [
      "DEVELOPER\n"
     ]
    }
   ],
   "source": [
    "#write a program to print lengthiest word in given string\n",
    "s='I WANT TO BECOME A PYTHON DEVELOPER'\n",
    "l=s.split()\n",
    "print(max(l,key=lambda word:[len(word)]))"
   ]
  },
  {
   "cell_type": "code",
   "execution_count": 14,
   "id": "ba97ca66",
   "metadata": {},
   "outputs": [
    {
     "name": "stdout",
     "output_type": "stream",
     "text": [
      "PYTHON\n"
     ]
    }
   ],
   "source": [
    "#write a program to print most frequently occured word in given string\n",
    "s='PYTHON I PYTHON WANT WANT TO BECOME A PYTHON DEVELOPER'\n",
    "l=s.split()\n",
    "print(max(l,key=lambda word:[l.count(word)]))"
   ]
  },
  {
   "cell_type": "code",
   "execution_count": 18,
   "id": "14c2bb1c",
   "metadata": {},
   "outputs": [
    {
     "name": "stdout",
     "output_type": "stream",
     "text": [
      "Enter SubStr:CDC\n",
      "CDC\n",
      "CDC\n",
      "2\n"
     ]
    }
   ],
   "source": [
    "s='ABCDCDC'\n",
    "user=input('Enter SubStr:')\n",
    "c=0\n",
    "for a in range(len(s)):\n",
    "    for b in range(1,len(s)+1):\n",
    "        if s[a:b]==user:\n",
    "            print(s[a:b])\n",
    "            c+=1\n",
    "print(c)"
   ]
  },
  {
   "cell_type": "code",
   "execution_count": 20,
   "id": "06647380",
   "metadata": {},
   "outputs": [
    {
     "name": "stdout",
     "output_type": "stream",
     "text": [
      "A\n",
      "AB\n",
      "ABC\n",
      "ABCD\n",
      "ABCDC\n",
      "ABCDCD\n",
      "ABCDCDC\n",
      "\n",
      "B\n",
      "BC\n",
      "BCD\n",
      "BCDC\n",
      "BCDCD\n",
      "BCDCDC\n",
      "\n",
      "\n",
      "C\n",
      "CD\n",
      "CDC\n",
      "CDCD\n",
      "CDCDC\n",
      "\n",
      "\n",
      "\n",
      "D\n",
      "DC\n",
      "DCD\n",
      "DCDC\n",
      "\n",
      "\n",
      "\n",
      "\n",
      "C\n",
      "CD\n",
      "CDC\n",
      "\n",
      "\n",
      "\n",
      "\n",
      "\n",
      "D\n",
      "DC\n",
      "\n",
      "\n",
      "\n",
      "\n",
      "\n",
      "\n",
      "C\n"
     ]
    }
   ],
   "source": [
    "s='ABCDCDC'\n",
    "for a in range(len(s)):\n",
    "    for b in range(1,len(s)+1):\n",
    "        print(s[a:b])"
   ]
  },
  {
   "cell_type": "code",
   "execution_count": null,
   "id": "23bf9961",
   "metadata": {},
   "outputs": [],
   "source": []
  },
  {
   "cell_type": "code",
   "execution_count": null,
   "id": "a10ce6e7",
   "metadata": {},
   "outputs": [],
   "source": []
  },
  {
   "cell_type": "code",
   "execution_count": null,
   "id": "96cff757",
   "metadata": {},
   "outputs": [],
   "source": []
  },
  {
   "cell_type": "code",
   "execution_count": null,
   "id": "348b717c",
   "metadata": {},
   "outputs": [],
   "source": []
  },
  {
   "cell_type": "code",
   "execution_count": null,
   "id": "1c7c5dc7",
   "metadata": {},
   "outputs": [],
   "source": []
  },
  {
   "cell_type": "code",
   "execution_count": null,
   "id": "7f6b02f6",
   "metadata": {},
   "outputs": [],
   "source": []
  },
  {
   "cell_type": "code",
   "execution_count": null,
   "id": "e20786e2",
   "metadata": {},
   "outputs": [],
   "source": []
  },
  {
   "cell_type": "code",
   "execution_count": null,
   "id": "83e6849d",
   "metadata": {},
   "outputs": [],
   "source": []
  },
  {
   "cell_type": "code",
   "execution_count": null,
   "id": "cf81e046",
   "metadata": {},
   "outputs": [],
   "source": []
  },
  {
   "cell_type": "code",
   "execution_count": null,
   "id": "c7b85b2d",
   "metadata": {},
   "outputs": [],
   "source": []
  },
  {
   "cell_type": "code",
   "execution_count": null,
   "id": "89947bfa",
   "metadata": {},
   "outputs": [],
   "source": []
  },
  {
   "cell_type": "code",
   "execution_count": null,
   "id": "d3a442a7",
   "metadata": {},
   "outputs": [],
   "source": []
  },
  {
   "cell_type": "code",
   "execution_count": null,
   "id": "27d5b302",
   "metadata": {},
   "outputs": [],
   "source": []
  }
 ],
 "metadata": {
  "kernelspec": {
   "display_name": "Python 3 (ipykernel)",
   "language": "python",
   "name": "python3"
  },
  "language_info": {
   "codemirror_mode": {
    "name": "ipython",
    "version": 3
   },
   "file_extension": ".py",
   "mimetype": "text/x-python",
   "name": "python",
   "nbconvert_exporter": "python",
   "pygments_lexer": "ipython3",
   "version": "3.9.13"
  }
 },
 "nbformat": 4,
 "nbformat_minor": 5
}
