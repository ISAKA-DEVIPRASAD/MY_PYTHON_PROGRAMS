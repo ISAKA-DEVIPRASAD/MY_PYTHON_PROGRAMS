{
 "cells": [
  {
   "cell_type": "code",
   "execution_count": 15,
   "id": "198f430c",
   "metadata": {},
   "outputs": [],
   "source": [
    "fo=open('chardevi.txt','w')\n",
    "s='this is chardevi'\n",
    "fo.write(s)\n",
    "fo.close()"
   ]
  },
  {
   "cell_type": "code",
   "execution_count": 16,
   "id": "1b39d5eb",
   "metadata": {},
   "outputs": [],
   "source": [
    "fo=open('data.txt','w')\n",
    "s='hai this is write mode'\n",
    "fo.write(s)\n",
    "fo.close()"
   ]
  },
  {
   "cell_type": "code",
   "execution_count": 2,
   "id": "1e04f2f5",
   "metadata": {},
   "outputs": [],
   "source": [
    "fo=open('devi.txt','w')\n",
    "d='Mahendra Singh Dhoni, commonly known as MS Dhoni'\n",
    "fo.write(d)\n",
    "fo.close()"
   ]
  },
  {
   "cell_type": "code",
   "execution_count": 6,
   "id": "74ea6b2f",
   "metadata": {},
   "outputs": [],
   "source": [
    "fo=open('cherry.txt','w')\n",
    "fo.writelines(['M S Dhoni/n','Virat Kohli/n'])\n",
    "fo.write('Virat Kohli is an Indian international cricketer and the former captain of the Indian national cricket team who plays as a right-handed batsman')\n",
    "fo.write('Mahendra Singh Dhoni, commonly known as MS Dhoni')\n",
    "fo.close()"
   ]
  },
  {
   "cell_type": "code",
   "execution_count": 7,
   "id": "5eabc40a",
   "metadata": {},
   "outputs": [],
   "source": [
    "fo=open('cherry.txt','a')\n",
    "fo.write('Dhoni and Kohli are Best Friends')\n",
    "fo.close()"
   ]
  },
  {
   "cell_type": "code",
   "execution_count": 8,
   "id": "d26d34fc",
   "metadata": {},
   "outputs": [
    {
     "name": "stdout",
     "output_type": "stream",
     "text": [
      "M S Dhoni/nVirat Kohli/nVirat Kohli is an Indian international cricketer and the former captain of the Indian national cricket team who plays as a right-handed batsmanMahendra Singh Dhoni, commonly known as MS DhoniDhoni and Kohli are Best Friends\n",
      "<class 'str'>\n"
     ]
    }
   ],
   "source": [
    "fo=open('cherry.txt','r')\n",
    "d=fo.read()\n",
    "print(d)\n",
    "print(type(d))"
   ]
  },
  {
   "cell_type": "code",
   "execution_count": 9,
   "id": "5be7ea61",
   "metadata": {},
   "outputs": [
    {
     "name": "stdout",
     "output_type": "stream",
     "text": [
      "M S D\n"
     ]
    }
   ],
   "source": [
    "fo=open('cherry.txt','r')\n",
    "print(fo.read(5))\n",
    "fo.close()"
   ]
  },
  {
   "cell_type": "code",
   "execution_count": 12,
   "id": "088cda32",
   "metadata": {},
   "outputs": [
    {
     "name": "stdout",
     "output_type": "stream",
     "text": [
      "M S Dhoni/n\n"
     ]
    }
   ],
   "source": [
    "fo=open('cherry.txt','r')\n",
    "d=fo.readline(11)\n",
    "print(d)\n",
    "fo.close()"
   ]
  },
  {
   "cell_type": "code",
   "execution_count": 13,
   "id": "3a2c03e5",
   "metadata": {},
   "outputs": [
    {
     "name": "stdout",
     "output_type": "stream",
     "text": [
      "['M S Dhoni/nVirat Kohli/nVirat Kohli is an Indian international cricketer and the former captain of the Indian national cricket team who plays as a right-handed batsmanMahendra Singh Dhoni, commonly known as MS DhoniDhoni and Kohli are Best Friends']\n"
     ]
    }
   ],
   "source": [
    "fo=open('cherry.txt','r')\n",
    "d=fo.readlines(11)\n",
    "print(d)\n",
    "fo.close()"
   ]
  },
  {
   "cell_type": "code",
   "execution_count": 1,
   "id": "49c30cc4",
   "metadata": {},
   "outputs": [],
   "source": [
    "fo=open('python.txt','w')\n",
    "fo.write('Python is a high-level, general-purpose programming language')\n",
    "fo.close()"
   ]
  },
  {
   "cell_type": "code",
   "execution_count": 8,
   "id": "cf116d7d",
   "metadata": {},
   "outputs": [],
   "source": [
    "fo=open('python.txt','w')\n",
    "fo.writelines(['Python is a high-level/n','General-purpose programming language/n'])\n",
    "fo.write('Students')\n",
    "fo.close()"
   ]
  },
  {
   "cell_type": "code",
   "execution_count": 9,
   "id": "cf2832ae",
   "metadata": {},
   "outputs": [
    {
     "name": "stdout",
     "output_type": "stream",
     "text": [
      "1\n"
     ]
    }
   ],
   "source": [
    "fo=open('python.txt','r')\n",
    "x=fo.read()\n",
    "l=x.split()\n",
    "c=0\n",
    "for i in l:\n",
    "    if i[0]=='a':\n",
    "        c+=1\n",
    "print(c)"
   ]
  },
  {
   "cell_type": "code",
   "execution_count": 2,
   "id": "2fc0ac1d",
   "metadata": {},
   "outputs": [
    {
     "name": "stdout",
     "output_type": "stream",
     "text": [
      "M S Dhoni/nVirat Kohli/nVirat Kohli is an Indian international cricketer and the former captain of the Indian national cricket team who plays as a right-handed batsmanMahendra Singh Dhoni, commonly known as MS DhoniDhoni and Kohli are Best Friends\n",
      "<class 'str'>\n"
     ]
    }
   ],
   "source": [
    "fo=open('cherry.txt','r')\n",
    "x=fo.read()\n",
    "print(x)\n",
    "print(type(x))"
   ]
  },
  {
   "cell_type": "code",
   "execution_count": 8,
   "id": "62ea6fac",
   "metadata": {},
   "outputs": [
    {
     "name": "stdout",
     "output_type": "stream",
     "text": [
      "M S D\n",
      "honi/\n",
      "nVira\n",
      "t Koh\n",
      "<class 'str'>\n"
     ]
    }
   ],
   "source": [
    "fo=open('cherry.txt','r')\n",
    "print(fo.read(5))\n",
    "print(fo.read(5))\n",
    "print(fo.read(5))\n",
    "print(fo.read(5))\n",
    "print(type(x))\n",
    "fo.close()"
   ]
  },
  {
   "cell_type": "code",
   "execution_count": 9,
   "id": "78508c28",
   "metadata": {},
   "outputs": [
    {
     "name": "stdout",
     "output_type": "stream",
     "text": [
      "M S D\n"
     ]
    }
   ],
   "source": [
    "fo=open('cherry.txt','r')\n",
    "print(fo.read(5))\n",
    "fo.close()"
   ]
  },
  {
   "cell_type": "code",
   "execution_count": 20,
   "id": "b742454c",
   "metadata": {},
   "outputs": [
    {
     "name": "stdout",
     "output_type": "stream",
     "text": [
      "M S Dhoni/nVirat Kohli/nVirat Kohli is an Indian international cricketer and the former captain of the Indian national cricket team who plays as a right-handed batsmanMahendra Singh Dhoni, commonly known as MS DhoniDhoni and Kohli are Best Friends\n"
     ]
    }
   ],
   "source": [
    "fo=open('cherry.txt','r')\n",
    "print(fo.readline())\n",
    "fo.close()"
   ]
  },
  {
   "cell_type": "code",
   "execution_count": 24,
   "id": "600551a2",
   "metadata": {},
   "outputs": [
    {
     "name": "stdout",
     "output_type": "stream",
     "text": [
      "['M S Dhoni/nVirat Kohli/nVirat Kohli is an Indian international cricketer and the former captain of the Indian national cricket team who plays as a right-handed batsmanMahendra Singh Dhoni, commonly known as MS DhoniDhoni and Kohli are Best Friends']\n"
     ]
    }
   ],
   "source": [
    "fo=open('cherry.txt','r')\n",
    "print(fo.readlines())\n",
    "fo.close()"
   ]
  },
  {
   "cell_type": "code",
   "execution_count": 9,
   "id": "580ea700",
   "metadata": {},
   "outputs": [],
   "source": [
    "fo=open('cherry.txt','a')\n",
    "fo.write('Dhoni is Great')\n",
    "fo.close()"
   ]
  },
  {
   "cell_type": "code",
   "execution_count": 10,
   "id": "25952371",
   "metadata": {},
   "outputs": [],
   "source": [
    "fo=open('cherry.txt','a')\n",
    "fo.write('Today is Dhoni BirthDay')\n",
    "fo.close()"
   ]
  },
  {
   "cell_type": "code",
   "execution_count": 15,
   "id": "5c71802e",
   "metadata": {},
   "outputs": [],
   "source": [
    "fo=open('cherry.txt','r')\n",
    "x=fo.read()\n",
    "fo=open('cherry.txt','w')\n",
    "fo.write(x)\n",
    "fo.close()"
   ]
  },
  {
   "cell_type": "code",
   "execution_count": 16,
   "id": "c0198353",
   "metadata": {},
   "outputs": [],
   "source": [
    "fo=open('cherry.txt','w')\n",
    "fo.write('Mahendra Singh Dhoni is an Indian professional cricketer')\n",
    "fo.close()"
   ]
  },
  {
   "cell_type": "code",
   "execution_count": 22,
   "id": "9b455151",
   "metadata": {},
   "outputs": [
    {
     "name": "stdout",
     "output_type": "stream",
     "text": [
      "Mahendra Singh Dhoni is an Indian professional cricketer\n"
     ]
    }
   ],
   "source": [
    "fo=open('cherry.txt','r')\n",
    "print(fo.read())\n",
    "fo.close()6"
   ]
  },
  {
   "cell_type": "code",
   "execution_count": 28,
   "id": "a31e50c2",
   "metadata": {},
   "outputs": [
    {
     "name": "stdout",
     "output_type": "stream",
     "text": [
      "[(0, 'p'), (1, 'q'), (2, 'r'), (3, 's')]\n"
     ]
    }
   ],
   "source": [
    "s='pqrs'\n",
    "print(list(enumerate(s)))"
   ]
  },
  {
   "cell_type": "code",
   "execution_count": 35,
   "id": "0afc2888",
   "metadata": {},
   "outputs": [
    {
     "name": "stdout",
     "output_type": "stream",
     "text": [
      "[(100, 'd'), (200, 'e'), (500, 'v'), (1100, 'i')]\n"
     ]
    }
   ],
   "source": [
    "d='devi'\n",
    "c=[100,200,500,1100]\n",
    "print(list(zip(c,d)))"
   ]
  },
  {
   "cell_type": "code",
   "execution_count": 36,
   "id": "75b8b0f1",
   "metadata": {},
   "outputs": [],
   "source": [
    "fo=open('data.txt','w')\n",
    "s='hai this is write'\n",
    "fo.write(s)\n",
    "fo.close()"
   ]
  },
  {
   "cell_type": "code",
   "execution_count": 37,
   "id": "5d65029c",
   "metadata": {},
   "outputs": [],
   "source": [
    "fo=open('data.txt','w')\n",
    "s=('hai/n','hello/n','bye/n','1192/n')\n",
    "fo.writelines(s)\n",
    "fo.close()"
   ]
  },
  {
   "cell_type": "code",
   "execution_count": 42,
   "id": "31628ffe",
   "metadata": {},
   "outputs": [],
   "source": [
    "with open('data.txt','w') as file:\n",
    "    file.write('this data is on block')"
   ]
  },
  {
   "cell_type": "code",
   "execution_count": 29,
   "id": "52d1f0aa",
   "metadata": {},
   "outputs": [],
   "source": [
    "fo=open('mahi.txt','w')\n",
    "fo.write('Mahendra Singh Dhoni is an Indian professional cricketer. He was captain of the Indian national team in limited-overs formats from 2007 to 2017 and in Test cricket from 2008 to 2014. Dhoni is widely considered one of the greatest cricket captains, wicket-keeper-batsman and finishers in the history of cricket')\n",
    "fo.close()"
   ]
  },
  {
   "cell_type": "code",
   "execution_count": 2,
   "id": "0cc6fa8d",
   "metadata": {},
   "outputs": [],
   "source": [
    "with open('mahi.txt','w') as file:\n",
    "    file.write('MSD')"
   ]
  },
  {
   "cell_type": "code",
   "execution_count": 24,
   "id": "03072e03",
   "metadata": {},
   "outputs": [
    {
     "name": "stdout",
     "output_type": "stream",
     "text": [
      "['Mahendra Singh Dhoni is an Indian professional cricketer. He was captain of the Indian national team in limited-overs formats from 2007 to 2017 and in Test cricket from 2008 to 2014. Dhoni is widely considered one of the greatest cricket captains, wicket-keeper-batsman and finishers in the history of cricket']\n"
     ]
    }
   ],
   "source": [
    "with open('mahi.txt','r') as file:\n",
    "    print(file.readlines())"
   ]
  },
  {
   "cell_type": "code",
   "execution_count": 31,
   "id": "4e1f4f7e",
   "metadata": {},
   "outputs": [],
   "source": [
    "with open('mahi.txt','a') as file:\n",
    "    file.write(' MSD')"
   ]
  },
  {
   "cell_type": "code",
   "execution_count": 32,
   "id": "c3a68c6d",
   "metadata": {},
   "outputs": [],
   "source": [
    "with open('dhoni.txt','a') as devi:\n",
    "    devi.write('MSD')"
   ]
  },
  {
   "cell_type": "code",
   "execution_count": 42,
   "id": "b3830d43",
   "metadata": {},
   "outputs": [],
   "source": [
    "with open('mahi.txt','a') as file:\n",
    "    file.write(' MSD')"
   ]
  },
  {
   "cell_type": "code",
   "execution_count": 43,
   "id": "3fb959dc",
   "metadata": {},
   "outputs": [],
   "source": [
    "with open('mahi.txt','a') as file:\n",
    "    file.write('[I LOVE YOU CHARISHMA]')"
   ]
  },
  {
   "cell_type": "code",
   "execution_count": 49,
   "id": "a129724b",
   "metadata": {},
   "outputs": [
    {
     "name": "stdout",
     "output_type": "stream",
     "text": [
      "True\n"
     ]
    }
   ],
   "source": [
    "with open('mahi.txt','a') as file:\n",
    "    file.write('(cherry)')\n",
    "print(file.closed)"
   ]
  },
  {
   "cell_type": "code",
   "execution_count": 13,
   "id": "43b10021",
   "metadata": {},
   "outputs": [
    {
     "name": "stdout",
     "output_type": "stream",
     "text": [
      "[11, 17, 22, 29, 92]\n",
      "[11, 17, 22, 29, 92]\n"
     ]
    }
   ],
   "source": [
    "import json\n",
    "d=[11,17,22,29,92]\n",
    "with open('mahi.txt','w') as devi:\n",
    "    print(d)\n",
    "    c=json.dumps(d)\n",
    "    print(c)\n",
    "    devi.write(c)"
   ]
  },
  {
   "cell_type": "code",
   "execution_count": 41,
   "id": "0ec23718",
   "metadata": {},
   "outputs": [
    {
     "name": "stdout",
     "output_type": "stream",
     "text": [
      "I.DEVIPRASAD\n",
      "\"I.DEVIPRASAD\"\n"
     ]
    }
   ],
   "source": [
    "import json\n",
    "d='I.DEVIPRASAD'\n",
    "with open('mahi.txt','w') as devi:\n",
    "    print(d)\n",
    "    c=json.dumps(d)\n",
    "    print(c)\n",
    "    devi.write(c)"
   ]
  },
  {
   "cell_type": "code",
   "execution_count": 27,
   "id": "6d197186",
   "metadata": {},
   "outputs": [
    {
     "name": "stdout",
     "output_type": "stream",
     "text": [
      "{'cherry': 'devi'}\n"
     ]
    }
   ],
   "source": [
    "import json\n",
    "d={'cherry':'devi'}\n",
    "with open('mahi.txt','w') as devi:\n",
    "    print(d)\n",
    "    c=json.dump(d,devi)"
   ]
  },
  {
   "cell_type": "code",
   "execution_count": 42,
   "id": "eadf2ee3",
   "metadata": {},
   "outputs": [
    {
     "name": "stdout",
     "output_type": "stream",
     "text": [
      "\"I.DEVIPRASAD\"\n",
      "I.DEVIPRASAD\n"
     ]
    }
   ],
   "source": [
    "import json\n",
    "with open('mahi.txt','r') as devi:\n",
    "    c=devi.read()\n",
    "    print(c)\n",
    "    a=json.loads(c)\n",
    "    print(a)"
   ]
  },
  {
   "cell_type": "code",
   "execution_count": 45,
   "id": "7587139a",
   "metadata": {},
   "outputs": [
    {
     "name": "stdout",
     "output_type": "stream",
     "text": [
      "I.DEVIPRASAD\n"
     ]
    }
   ],
   "source": [
    "import json\n",
    "with open('mahi.txt','r') as devi:\n",
    "    c=json.load(devi)\n",
    "    print(c)"
   ]
  },
  {
   "cell_type": "code",
   "execution_count": 71,
   "id": "edda0699",
   "metadata": {},
   "outputs": [],
   "source": [
    "with open('python.txt','w') as devi:\n",
    "    devi.write('PYTHON IS A PROGRAMMING LANGUAGE')"
   ]
  },
  {
   "cell_type": "code",
   "execution_count": 6,
   "id": "d12ad62e",
   "metadata": {},
   "outputs": [
    {
     "name": "stdout",
     "output_type": "stream",
     "text": [
      "b'\\x80\\x04\\x95\\x14\\x00\\x00\\x00\\x00\\x00\\x00\\x00}\\x94\\x8c\\x06cherry\\x94\\x8c\\x04devi\\x94s.'\n"
     ]
    }
   ],
   "source": [
    "#writing binary data by using dumps\n",
    "with open('python.pkl','wb') as devi:\n",
    "    d={'cherry':'devi'}\n",
    "    import pickle\n",
    "    c=pickle.dumps(d)\n",
    "    devi.write(c)\n",
    "    print(c)"
   ]
  },
  {
   "cell_type": "code",
   "execution_count": 20,
   "id": "8f6ab45e",
   "metadata": {},
   "outputs": [
    {
     "name": "stdout",
     "output_type": "stream",
     "text": [
      "None\n"
     ]
    }
   ],
   "source": [
    "#writing binary data by using dump\n",
    "with open('python.pkl','wb') as devi:\n",
    "    d={'cherry':'devi'}\n",
    "    import pickle\n",
    "    c=pickle.dump(d,devi)\n",
    "    print(c)"
   ]
  },
  {
   "cell_type": "code",
   "execution_count": 9,
   "id": "b8e379fa",
   "metadata": {},
   "outputs": [
    {
     "name": "stdout",
     "output_type": "stream",
     "text": [
      "{'devi': 'cherry'}\n"
     ]
    }
   ],
   "source": [
    "#reading binary data by using loads\n",
    "with open('python.pkl','rb') as devi:\n",
    "    import pickle\n",
    "    c=devi.read()\n",
    "    d=pickle.loads(c)\n",
    "    print(d)"
   ]
  },
  {
   "cell_type": "code",
   "execution_count": 13,
   "id": "1aa3f5a0",
   "metadata": {},
   "outputs": [
    {
     "name": "stdout",
     "output_type": "stream",
     "text": [
      "{'devi': 'cherry'}\n"
     ]
    }
   ],
   "source": [
    "#reading binary data by using load\n",
    "with open('python.pkl','rb') as devi:\n",
    "    import pickle\n",
    "    c=pickle.load(devi)\n",
    "    print(c)"
   ]
  },
  {
   "cell_type": "code",
   "execution_count": 4,
   "id": "b2d069fb",
   "metadata": {},
   "outputs": [],
   "source": [
    "with open('devi.txt','w') as devi:\n",
    "    devi.write('I LOVE YOU CHARISHMA')"
   ]
  },
  {
   "cell_type": "code",
   "execution_count": 58,
   "id": "c9f6f599",
   "metadata": {},
   "outputs": [
    {
     "name": "stdout",
     "output_type": "stream",
     "text": [
      "I LOVE YOU CHARISHMA\n"
     ]
    }
   ],
   "source": [
    "#write a program to copy the same file into another file\n",
    "fo=open('devi.txt','r')\n",
    "x=fo.read()\n",
    "print(x)\n",
    "fo=open('cherry.txt','w')\n",
    "fo.write(x)\n",
    "fo.close()"
   ]
  },
  {
   "cell_type": "code",
   "execution_count": 55,
   "id": "d6a8f252",
   "metadata": {},
   "outputs": [
    {
     "name": "stdout",
     "output_type": "stream",
     "text": [
      "I LOVE YOU CHARISHMA\n"
     ]
    }
   ],
   "source": [
    "#write a program to copy the same file into another file-->By Using with keyword\n",
    "with open('devi.txt','r') as devi:\n",
    "    c=devi.read()\n",
    "    print(c)\n",
    "with open('cherry2.txt','w') as cherry:\n",
    "    cherry.write(c)"
   ]
  },
  {
   "cell_type": "code",
   "execution_count": null,
   "id": "0535c92e",
   "metadata": {},
   "outputs": [],
   "source": []
  },
  {
   "cell_type": "code",
   "execution_count": null,
   "id": "7412a9c4",
   "metadata": {},
   "outputs": [],
   "source": []
  },
  {
   "cell_type": "code",
   "execution_count": null,
   "id": "00ea2e49",
   "metadata": {},
   "outputs": [],
   "source": []
  },
  {
   "cell_type": "code",
   "execution_count": null,
   "id": "75f28c3e",
   "metadata": {},
   "outputs": [],
   "source": []
  },
  {
   "cell_type": "code",
   "execution_count": null,
   "id": "d74ca18b",
   "metadata": {},
   "outputs": [],
   "source": []
  },
  {
   "cell_type": "code",
   "execution_count": null,
   "id": "f0c3ea81",
   "metadata": {},
   "outputs": [],
   "source": []
  },
  {
   "cell_type": "code",
   "execution_count": null,
   "id": "872a93c1",
   "metadata": {},
   "outputs": [],
   "source": []
  },
  {
   "cell_type": "code",
   "execution_count": null,
   "id": "0c4aa567",
   "metadata": {},
   "outputs": [],
   "source": []
  },
  {
   "cell_type": "code",
   "execution_count": null,
   "id": "467108f4",
   "metadata": {},
   "outputs": [],
   "source": []
  },
  {
   "cell_type": "code",
   "execution_count": null,
   "id": "ae363758",
   "metadata": {},
   "outputs": [],
   "source": []
  },
  {
   "cell_type": "code",
   "execution_count": null,
   "id": "09ed4faf",
   "metadata": {},
   "outputs": [],
   "source": []
  },
  {
   "cell_type": "code",
   "execution_count": null,
   "id": "ade16d87",
   "metadata": {},
   "outputs": [],
   "source": []
  },
  {
   "cell_type": "code",
   "execution_count": null,
   "id": "0f6ed73e",
   "metadata": {},
   "outputs": [],
   "source": []
  },
  {
   "cell_type": "code",
   "execution_count": null,
   "id": "c506938d",
   "metadata": {},
   "outputs": [],
   "source": []
  },
  {
   "cell_type": "code",
   "execution_count": null,
   "id": "6cd5f7b2",
   "metadata": {},
   "outputs": [],
   "source": []
  },
  {
   "cell_type": "code",
   "execution_count": null,
   "id": "3dcd9287",
   "metadata": {},
   "outputs": [],
   "source": []
  },
  {
   "cell_type": "code",
   "execution_count": null,
   "id": "6eb81004",
   "metadata": {},
   "outputs": [],
   "source": []
  },
  {
   "cell_type": "code",
   "execution_count": null,
   "id": "302e61c2",
   "metadata": {},
   "outputs": [],
   "source": []
  },
  {
   "cell_type": "code",
   "execution_count": null,
   "id": "efb0d905",
   "metadata": {},
   "outputs": [],
   "source": []
  },
  {
   "cell_type": "code",
   "execution_count": null,
   "id": "926ab5a9",
   "metadata": {},
   "outputs": [],
   "source": []
  },
  {
   "cell_type": "code",
   "execution_count": null,
   "id": "85f7e3c4",
   "metadata": {},
   "outputs": [],
   "source": []
  },
  {
   "cell_type": "code",
   "execution_count": null,
   "id": "2089695b",
   "metadata": {},
   "outputs": [],
   "source": []
  },
  {
   "cell_type": "code",
   "execution_count": null,
   "id": "ccc971d9",
   "metadata": {},
   "outputs": [],
   "source": []
  },
  {
   "cell_type": "code",
   "execution_count": 35,
   "id": "ae807d40",
   "metadata": {},
   "outputs": [
    {
     "data": {
      "text/plain": [
       "['*', '!', '_', '_', '*', '?', '!']"
      ]
     },
     "execution_count": 35,
     "metadata": {},
     "output_type": "execute_result"
    }
   ],
   "source": [
    "import re\n",
    "s='*!_DeviPrasad_*?!'\n",
    "re.findall('[^a-zA-Z0-9]',s)"
   ]
  },
  {
   "cell_type": "code",
   "execution_count": 13,
   "id": "56683e33",
   "metadata": {},
   "outputs": [
    {
     "name": "stdout",
     "output_type": "stream",
     "text": [
      "Constructor is Called\n",
      "<__main__.A object at 0x000002083FD9C370>\n"
     ]
    }
   ],
   "source": [
    "class A():\n",
    "    def __init__(self):\n",
    "        print('Constructor is Called')\n",
    "        \n",
    "a1=A()\n",
    "print(a2)"
   ]
  },
  {
   "cell_type": "code",
   "execution_count": 19,
   "id": "9d084901",
   "metadata": {},
   "outputs": [
    {
     "name": "stdout",
     "output_type": "stream",
     "text": [
      "Inside class A\n",
      "Inside class B\n",
      "Inside class C\n"
     ]
    }
   ],
   "source": [
    "class A():\n",
    "    def __init__(self):\n",
    "        print('Inside class A')\n",
    "class B():\n",
    "    def __init__(self):\n",
    "        print('Inside class B')\n",
    "class C(B,A):\n",
    "    def __init__(self):\n",
    "        A.__init__(self)\n",
    "        B.__init__(self)\n",
    "        print('Inside class C')\n",
    "ob=C()"
   ]
  },
  {
   "cell_type": "code",
   "execution_count": 24,
   "id": "1c499352",
   "metadata": {},
   "outputs": [
    {
     "name": "stdout",
     "output_type": "stream",
     "text": [
      "Inside class A\n",
      "Inside class C\n"
     ]
    }
   ],
   "source": [
    "class A():\n",
    "    def __init__(self):\n",
    "        print('Inside class A')\n",
    "class B():\n",
    "    def __init__(self):\n",
    "        print('Inside class B')\n",
    "class C(A,B):\n",
    "    def __init__(self):\n",
    "        super().__init__()\n",
    "        print('Inside class C')\n",
    "ob=C()"
   ]
  },
  {
   "cell_type": "code",
   "execution_count": 2,
   "id": "1c9639ee",
   "metadata": {},
   "outputs": [
    {
     "name": "stdout",
     "output_type": "stream",
     "text": [
      "5\n"
     ]
    }
   ],
   "source": [
    "with open('python.txt','r') as devi:\n",
    "    print(len(devi.read().split()))"
   ]
  },
  {
   "cell_type": "code",
   "execution_count": 3,
   "id": "46d1c687",
   "metadata": {},
   "outputs": [
    {
     "name": "stdout",
     "output_type": "stream",
     "text": [
      "['PYTHON', 'IS', 'A', 'PROGRAMMING', 'LANGUAGE']\n"
     ]
    }
   ],
   "source": [
    "with open('python.txt','r') as devi:\n",
    "    print((devi.read().split()))"
   ]
  },
  {
   "cell_type": "code",
   "execution_count": 48,
   "id": "455f4c1e",
   "metadata": {},
   "outputs": [
    {
     "name": "stdout",
     "output_type": "stream",
     "text": [
      "f\n"
     ]
    }
   ],
   "source": [
    "s='abcdfe'\n",
    "val=ord('a')\n",
    "for ch in s:\n",
    "    if ch==chr(val):\n",
    "        val+=1\n",
    "    else:\n",
    "        print(ch)\n",
    "        break"
   ]
  },
  {
   "cell_type": "code",
   "execution_count": 50,
   "id": "d39fdfb4",
   "metadata": {},
   "outputs": [
    {
     "name": "stdout",
     "output_type": "stream",
     "text": [
      "5\n"
     ]
    }
   ],
   "source": [
    "print(10//2)"
   ]
  },
  {
   "cell_type": "code",
   "execution_count": null,
   "id": "c5b905a3",
   "metadata": {},
   "outputs": [],
   "source": []
  },
  {
   "cell_type": "code",
   "execution_count": null,
   "id": "e164ec71",
   "metadata": {},
   "outputs": [],
   "source": []
  },
  {
   "cell_type": "code",
   "execution_count": null,
   "id": "f791c18a",
   "metadata": {},
   "outputs": [],
   "source": []
  },
  {
   "cell_type": "code",
   "execution_count": null,
   "id": "89520283",
   "metadata": {},
   "outputs": [],
   "source": []
  },
  {
   "cell_type": "code",
   "execution_count": null,
   "id": "cee46ef1",
   "metadata": {},
   "outputs": [],
   "source": []
  },
  {
   "cell_type": "code",
   "execution_count": null,
   "id": "4180f7ba",
   "metadata": {},
   "outputs": [],
   "source": []
  },
  {
   "cell_type": "code",
   "execution_count": null,
   "id": "47b85ebb",
   "metadata": {},
   "outputs": [],
   "source": []
  },
  {
   "cell_type": "code",
   "execution_count": null,
   "id": "a682bca8",
   "metadata": {},
   "outputs": [],
   "source": []
  },
  {
   "cell_type": "code",
   "execution_count": null,
   "id": "4aa63663",
   "metadata": {},
   "outputs": [],
   "source": []
  },
  {
   "cell_type": "code",
   "execution_count": null,
   "id": "f881aafe",
   "metadata": {},
   "outputs": [],
   "source": []
  },
  {
   "cell_type": "code",
   "execution_count": null,
   "id": "d8f405c8",
   "metadata": {},
   "outputs": [],
   "source": []
  },
  {
   "cell_type": "code",
   "execution_count": null,
   "id": "3b244cec",
   "metadata": {},
   "outputs": [],
   "source": []
  },
  {
   "cell_type": "code",
   "execution_count": null,
   "id": "8cb3300e",
   "metadata": {},
   "outputs": [],
   "source": []
  },
  {
   "cell_type": "code",
   "execution_count": null,
   "id": "beeb3c19",
   "metadata": {},
   "outputs": [],
   "source": []
  },
  {
   "cell_type": "code",
   "execution_count": null,
   "id": "ce8ae9e5",
   "metadata": {},
   "outputs": [],
   "source": []
  },
  {
   "cell_type": "code",
   "execution_count": null,
   "id": "8c4ffb65",
   "metadata": {},
   "outputs": [],
   "source": []
  },
  {
   "cell_type": "code",
   "execution_count": null,
   "id": "437f4485",
   "metadata": {},
   "outputs": [],
   "source": []
  },
  {
   "cell_type": "code",
   "execution_count": null,
   "id": "df1f89d5",
   "metadata": {},
   "outputs": [],
   "source": []
  },
  {
   "cell_type": "code",
   "execution_count": null,
   "id": "1744b965",
   "metadata": {},
   "outputs": [],
   "source": []
  },
  {
   "cell_type": "code",
   "execution_count": null,
   "id": "97d37d4f",
   "metadata": {},
   "outputs": [],
   "source": []
  },
  {
   "cell_type": "code",
   "execution_count": null,
   "id": "057589ea",
   "metadata": {},
   "outputs": [],
   "source": []
  },
  {
   "cell_type": "code",
   "execution_count": null,
   "id": "ccb08314",
   "metadata": {},
   "outputs": [],
   "source": []
  },
  {
   "cell_type": "code",
   "execution_count": null,
   "id": "2a3adee5",
   "metadata": {},
   "outputs": [],
   "source": []
  },
  {
   "cell_type": "code",
   "execution_count": null,
   "id": "27c49cd9",
   "metadata": {},
   "outputs": [],
   "source": [
    "                                   💖CHARISHMA💝DEVIPRASAD💖"
   ]
  },
  {
   "cell_type": "code",
   "execution_count": null,
   "id": "e45963af",
   "metadata": {},
   "outputs": [],
   "source": [
    "                                          💖CHARDEVI💖"
   ]
  }
 ],
 "metadata": {
  "kernelspec": {
   "display_name": "Python 3 (ipykernel)",
   "language": "python",
   "name": "python3"
  },
  "language_info": {
   "codemirror_mode": {
    "name": "ipython",
    "version": 3
   },
   "file_extension": ".py",
   "mimetype": "text/x-python",
   "name": "python",
   "nbconvert_exporter": "python",
   "pygments_lexer": "ipython3",
   "version": "3.9.13"
  }
 },
 "nbformat": 4,
 "nbformat_minor": 5
}
