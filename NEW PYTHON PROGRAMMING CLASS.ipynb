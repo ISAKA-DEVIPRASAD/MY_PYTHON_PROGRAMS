{
 "cells": [
  {
   "cell_type": "code",
   "execution_count": 1,
   "id": "6e62bd63",
   "metadata": {},
   "outputs": [
    {
     "name": "stdout",
     "output_type": "stream",
     "text": [
      "None\n"
     ]
    }
   ],
   "source": [
    "import re\n",
    "C='IAM CHARDEVI'\n",
    "print(re.match('C',C))"
   ]
  },
  {
   "cell_type": "code",
   "execution_count": 2,
   "id": "fe6530a4",
   "metadata": {},
   "outputs": [
    {
     "name": "stdout",
     "output_type": "stream",
     "text": [
      "84\n"
     ]
    }
   ],
   "source": [
    "l=[1,2,3,4,5,6,7,8]\n",
    "res=0\n",
    "for a in l:\n",
    "    if a%2==1:\n",
    "        res+=a*a\n",
    "print(res)"
   ]
  },
  {
   "cell_type": "code",
   "execution_count": 6,
   "id": "9cc8cfbe",
   "metadata": {},
   "outputs": [
    {
     "name": "stdout",
     "output_type": "stream",
     "text": [
      "1 2 3 4 5 6 7 8\n",
      "84\n"
     ]
    }
   ],
   "source": [
    "l=list(map(int,input().split()))\n",
    "print(sum([val**2 for val in l if val%2!=0]))"
   ]
  },
  {
   "cell_type": "code",
   "execution_count": 1,
   "id": "e3ef3123",
   "metadata": {},
   "outputs": [
    {
     "name": "stdout",
     "output_type": "stream",
     "text": [
      "20\n"
     ]
    }
   ],
   "source": [
    "l=[10,20,20,10,10,30,50,10,20]\n",
    "count=0\n",
    "for a in range(0,len(l)):\n",
    "    for b in range(1,len(l)-1):\n",
    "        if l[a]==l[b]:\n",
    "            count+=1\n",
    "print(count)"
   ]
  },
  {
   "cell_type": "code",
   "execution_count": 21,
   "id": "20b0c345",
   "metadata": {},
   "outputs": [
    {
     "name": "stdout",
     "output_type": "stream",
     "text": [
      "{'a': 3, 'b': 1, 'c': 2, 'd': 3}\n",
      "a 3\n",
      "b 1\n",
      "c 2\n",
      "d 3\n"
     ]
    }
   ],
   "source": [
    "s='aaabccddd'\n",
    "d={}\n",
    "res=''\n",
    "for a in s: \n",
    "    if a not in d:\n",
    "        d[a]=1\n",
    "    else:\n",
    "        d[a]+=1\n",
    "print(d)\n",
    "for m,n in d.items():\n",
    "    print(m,n)"
   ]
  },
  {
   "cell_type": "code",
   "execution_count": 22,
   "id": "cc2b2c2b",
   "metadata": {},
   "outputs": [
    {
     "name": "stdout",
     "output_type": "stream",
     "text": [
      "5000000015\n"
     ]
    }
   ],
   "source": [
    "l=[1000000001,1000000002,1000000003,1000000004,1000000005]\n",
    "res=0\n",
    "for a in l:\n",
    "    res+=a\n",
    "print(res)"
   ]
  },
  {
   "cell_type": "code",
   "execution_count": 81,
   "id": "bf0639a3",
   "metadata": {},
   "outputs": [
    {
     "name": "stdout",
     "output_type": "stream",
     "text": [
      "4\n"
     ]
    }
   ],
   "source": [
    "l=[2,2,1,3,2,1,2]\n",
    "d=3\n",
    "c=0\n",
    "for a in range(0,len(l)):\n",
    "    for b in range(1,len(l)+1):\n",
    "        if sum(l[a:b])==d:\n",
    "            c+=1\n",
    "print(c)"
   ]
  },
  {
   "cell_type": "code",
   "execution_count": 76,
   "id": "531d1547",
   "metadata": {},
   "outputs": [
    {
     "name": "stdout",
     "output_type": "stream",
     "text": [
      "[2]\n",
      "[2, 2]\n",
      "[2, 2, 1]\n",
      "[2, 2, 1, 3]\n",
      "[2, 2, 1, 3, 2]\n",
      "[2, 2, 1, 3, 2, 2]\n",
      "[]\n",
      "[2]\n",
      "[2, 1]\n",
      "[2, 1, 3]\n",
      "[2, 1, 3, 2]\n",
      "[2, 1, 3, 2, 2]\n",
      "[]\n",
      "[]\n",
      "[1]\n",
      "[1, 3]\n",
      "[1, 3, 2]\n",
      "[1, 3, 2, 2]\n",
      "[]\n",
      "[]\n",
      "[]\n",
      "[3]\n",
      "[3, 2]\n",
      "[3, 2, 2]\n",
      "[]\n",
      "[]\n",
      "[]\n",
      "[]\n",
      "[2]\n",
      "[2, 2]\n",
      "[]\n",
      "[]\n",
      "[]\n",
      "[]\n",
      "[]\n",
      "[2]\n"
     ]
    }
   ],
   "source": [
    "l=[2,2,1,3,2,2]\n",
    "d=3\n",
    "c=0\n",
    "for a in range(0,len(l)):\n",
    "    for b in range(1,len(l)+1):\n",
    "        print(l[a:b])"
   ]
  },
  {
   "cell_type": "code",
   "execution_count": 19,
   "id": "6474543d",
   "metadata": {},
   "outputs": [
    {
     "name": "stdout",
     "output_type": "stream",
     "text": [
      "10:4\n",
      "20:3\n",
      "30:1\n",
      "50:1\n",
      "3\n"
     ]
    }
   ],
   "source": [
    "l=[10,20,20,10,10,30,50,10,20]\n",
    "d={}\n",
    "count=0\n",
    "for a in range(len(l)):\n",
    "    if l[a] not in d:\n",
    "        d[l[a]]=1\n",
    "    else:\n",
    "        d[l[a]]+=1\n",
    "for k,v in d.items():\n",
    "    print(f'{k}:{v}')\n",
    "    if v>=2:\n",
    "        count+=v//2\n",
    "print(count)"
   ]
  },
  {
   "cell_type": "code",
   "execution_count": 16,
   "id": "30ab157f",
   "metadata": {},
   "outputs": [
    {
     "name": "stdout",
     "output_type": "stream",
     "text": [
      "[153]\n"
     ]
    }
   ],
   "source": [
    "def armstrong(n):\n",
    "    res=0\n",
    "    num=n\n",
    "    p=len(str(n))\n",
    "    while n!=0:\n",
    "        rem=n%10\n",
    "        res=res+rem**p\n",
    "        n//=10\n",
    "        if num==res:\n",
    "            return num\n",
    "l=[11,22,153,92,29,92]\n",
    "print(list(filter(armstrong,l)))"
   ]
  },
  {
   "cell_type": "code",
   "execution_count": 7,
   "id": "5f28bac1",
   "metadata": {},
   "outputs": [
    {
     "name": "stdout",
     "output_type": "stream",
     "text": [
      "1\n",
      "2\n",
      "3\n",
      "4\n",
      "5\n",
      "6\n",
      "7\n",
      "8\n",
      "9\n",
      "10\n"
     ]
    }
   ],
   "source": [
    "def add(n):\n",
    "    while n<11:\n",
    "        print(n)\n",
    "        n+=1\n",
    "n=1\n",
    "add(n)"
   ]
  },
  {
   "cell_type": "code",
   "execution_count": 9,
   "id": "d8e8ca1f",
   "metadata": {},
   "outputs": [
    {
     "name": "stdout",
     "output_type": "stream",
     "text": [
      "<re.Match object; span=(0, 1), match='I'>\n"
     ]
    }
   ],
   "source": [
    "import re\n",
    "C='IAM CHARDEVI'\n",
    "print(re.match('I',C))"
   ]
  },
  {
   "cell_type": "code",
   "execution_count": 12,
   "id": "da43e29b",
   "metadata": {},
   "outputs": [
    {
     "data": {
      "text/plain": [
       "True"
      ]
     },
     "execution_count": 12,
     "metadata": {},
     "output_type": "execute_result"
    }
   ],
   "source": [
    "num = 120\n",
    "p=len(str(num))\n",
    "sum([(int(num)**p)  for num in str(num)]) != num"
   ]
  },
  {
   "cell_type": "code",
   "execution_count": 6,
   "id": "d68dede3",
   "metadata": {},
   "outputs": [
    {
     "name": "stdout",
     "output_type": "stream",
     "text": [
      "<re.Match object; span=(4, 5), match='C'>\n"
     ]
    }
   ],
   "source": [
    "import re\n",
    "C='IAM CHARDEVI'\n",
    "print(re.search('C',C))"
   ]
  },
  {
   "cell_type": "code",
   "execution_count": 12,
   "id": "8ed5e9cc",
   "metadata": {},
   "outputs": [
    {
     "name": "stdout",
     "output_type": "stream",
     "text": [
      "['A', 'A']\n"
     ]
    }
   ],
   "source": [
    "import re\n",
    "C='IAM CHARDEVI'\n",
    "print(re.findall('A',C))"
   ]
  },
  {
   "cell_type": "code",
   "execution_count": 2,
   "id": "272219a1",
   "metadata": {},
   "outputs": [
    {
     "name": "stdout",
     "output_type": "stream",
     "text": [
      "<callable_iterator object at 0x000002046B707F10>\n"
     ]
    }
   ],
   "source": [
    "import re\n",
    "C='IAM CHARDEVI'\n",
    "print(re.finditer('C',C))"
   ]
  },
  {
   "cell_type": "code",
   "execution_count": 15,
   "id": "2c70daee",
   "metadata": {},
   "outputs": [
    {
     "name": "stdout",
     "output_type": "stream",
     "text": [
      "['I', 'M CH', 'RDEVI']\n"
     ]
    }
   ],
   "source": [
    "import re\n",
    "C='IAM CHARDEVI'\n",
    "print(re.split('A',C))"
   ]
  },
  {
   "cell_type": "code",
   "execution_count": 13,
   "id": "16a61767",
   "metadata": {},
   "outputs": [
    {
     "name": "stdout",
     "output_type": "stream",
     "text": [
      "['IAM', 'CHARDEVI']\n"
     ]
    }
   ],
   "source": [
    "import re\n",
    "C='IAM CHARDEVI'\n",
    "print(re.split(' ',C))"
   ]
  },
  {
   "cell_type": "code",
   "execution_count": 19,
   "id": "c194c36e",
   "metadata": {},
   "outputs": [
    {
     "name": "stdout",
     "output_type": "stream",
     "text": [
      "IAM CCHARDEVI\n"
     ]
    }
   ],
   "source": [
    "import re\n",
    "C='IAM CHARDEVI'\n",
    "print(re.sub('C','CC',C))"
   ]
  },
  {
   "cell_type": "code",
   "execution_count": 20,
   "id": "f8124a0a",
   "metadata": {},
   "outputs": [
    {
     "name": "stdout",
     "output_type": "stream",
     "text": [
      "IAM CCHARDEVI\n"
     ]
    }
   ],
   "source": [
    "import re\n",
    "C='IAM CHARDEVI'\n",
    "print(re.sub('C','CC',C))"
   ]
  },
  {
   "cell_type": "code",
   "execution_count": 4,
   "id": "c0efa5c1",
   "metadata": {},
   "outputs": [
    {
     "name": "stdout",
     "output_type": "stream",
     "text": [
      "('IAMCCHARDEVI', 1)\n"
     ]
    }
   ],
   "source": [
    "import re\n",
    "C='IAM CHARDEVI'\n",
    "print(re.subn(' ','C',C))"
   ]
  },
  {
   "cell_type": "code",
   "execution_count": 28,
   "id": "d09525f3",
   "metadata": {},
   "outputs": [
    {
     "name": "stdout",
     "output_type": "stream",
     "text": [
      "['A', 'A']\n",
      "['A', 'A']\n",
      "['A', 'A']\n"
     ]
    }
   ],
   "source": [
    "import re\n",
    "C1='IAM CHARDEVI'\n",
    "C2='IAM CHARDEVI 1722'\n",
    "C3='IAM CHARDEVI PYTHON DEVELOPER'\n",
    "po=re.compile('A')\n",
    "print(po.findall(C1))\n",
    "print(po.findall(C2))\n",
    "print(po.findall(C3))"
   ]
  },
  {
   "cell_type": "code",
   "execution_count": 31,
   "id": "988db434",
   "metadata": {},
   "outputs": [
    {
     "name": "stdout",
     "output_type": "stream",
     "text": [
      "['💖', '💖', '💖', '💖', '💖', '💖', '💖', '💖', '💖', '💖', '💖']\n"
     ]
    }
   ],
   "source": [
    "import re\n",
    "C='DEVIPRASAD💖💖💖💖💖💖💖💖💖💖💖CHARISHMA'\n",
    "P=re.compile('💖')\n",
    "print(P.findall(C))"
   ]
  },
  {
   "cell_type": "code",
   "execution_count": 8,
   "id": "1a5d5a06",
   "metadata": {},
   "outputs": [
    {
     "data": {
      "text/plain": [
       "['C']"
      ]
     },
     "execution_count": 8,
     "metadata": {},
     "output_type": "execute_result"
    }
   ],
   "source": [
    "import re\n",
    "s='CHAR CHARISHMA CHARDEVI CHERRY CHA'\n",
    "re.findall('^C',s)"
   ]
  },
  {
   "cell_type": "code",
   "execution_count": 9,
   "id": "a89e3ab2",
   "metadata": {},
   "outputs": [
    {
     "data": {
      "text/plain": [
       "['A']"
      ]
     },
     "execution_count": 9,
     "metadata": {},
     "output_type": "execute_result"
    }
   ],
   "source": [
    "import re\n",
    "s='CHAR CHARISHMA CHARDEVI CHERRY CHARISHMACHARDEVI'\n",
    "re.findall('A$',s)"
   ]
  },
  {
   "cell_type": "code",
   "execution_count": 11,
   "id": "9377ae33",
   "metadata": {},
   "outputs": [
    {
     "data": {
      "text/plain": [
       "['C', 'H', 'A', 'R', 'I', 'S', 'H', 'M', 'A']"
      ]
     },
     "execution_count": 11,
     "metadata": {},
     "output_type": "execute_result"
    }
   ],
   "source": [
    "import re\n",
    "s='CHARISHMA'\n",
    "re.findall('.',s)"
   ]
  },
  {
   "cell_type": "code",
   "execution_count": 13,
   "id": "1137afdc",
   "metadata": {},
   "outputs": [
    {
     "data": {
      "text/plain": [
       "['I',\n",
       " 'L',\n",
       " 'O',\n",
       " 'V',\n",
       " 'E',\n",
       " 'Y',\n",
       " 'O',\n",
       " 'U',\n",
       " 'C',\n",
       " 'H',\n",
       " 'A',\n",
       " 'R',\n",
       " 'I',\n",
       " 'S',\n",
       " 'H',\n",
       " 'M',\n",
       " 'A']"
      ]
     },
     "execution_count": 13,
     "metadata": {},
     "output_type": "execute_result"
    }
   ],
   "source": [
    "import re\n",
    "s='ILOVEYOUCHARISHMA'\n",
    "re.findall('.',s)"
   ]
  },
  {
   "cell_type": "code",
   "execution_count": 15,
   "id": "8d2329c6",
   "metadata": {},
   "outputs": [
    {
     "data": {
      "text/plain": [
       "['CHA', 'CHA', 'CHA', 'CHA']"
      ]
     },
     "execution_count": 15,
     "metadata": {},
     "output_type": "execute_result"
    }
   ],
   "source": [
    "import re\n",
    "s='CHARISHMA CHARDEVI CHAR CHERRY CHARISHAMAA'\n",
    "re.findall('CH*A',s)"
   ]
  },
  {
   "cell_type": "code",
   "execution_count": 20,
   "id": "3ab73255",
   "metadata": {},
   "outputs": [
    {
     "data": {
      "text/plain": [
       "['CHA', 'CHA', 'CHHA', 'CHA', 'CHHA']"
      ]
     },
     "execution_count": 20,
     "metadata": {},
     "output_type": "execute_result"
    }
   ],
   "source": [
    "import re\n",
    "s='CHARISHMA CHARDEVI CHHAR CHERRY CHARISHAMAA CHHARISHMAA'\n",
    "re.findall('CH+A',s)"
   ]
  },
  {
   "cell_type": "code",
   "execution_count": 21,
   "id": "a67016c2",
   "metadata": {},
   "outputs": [
    {
     "data": {
      "text/plain": [
       "['CHA', 'CHA', 'CHA']"
      ]
     },
     "execution_count": 21,
     "metadata": {},
     "output_type": "execute_result"
    }
   ],
   "source": [
    "import re\n",
    "s='CHARISHMA CHARDEVI CHHAR CHERRY CHARISHAMAA CHHARISHMAA'\n",
    "re.findall('CH?A',s)"
   ]
  },
  {
   "cell_type": "code",
   "execution_count": 26,
   "id": "ccfbfef0",
   "metadata": {},
   "outputs": [
    {
     "data": {
      "text/plain": [
       "['CHHA', 'CHHA']"
      ]
     },
     "execution_count": 26,
     "metadata": {},
     "output_type": "execute_result"
    }
   ],
   "source": [
    "import re\n",
    "s='CHARISHMA CHARDEVI CHHAR CHERRY CHARISHAMAA CHHARISHMAA'\n",
    "re.findall('CH{2}A',s)"
   ]
  },
  {
   "cell_type": "code",
   "execution_count": 29,
   "id": "2d7085fd",
   "metadata": {},
   "outputs": [
    {
     "data": {
      "text/plain": [
       "['CHARISHMA', 'CHARDEVI']"
      ]
     },
     "execution_count": 29,
     "metadata": {},
     "output_type": "execute_result"
    }
   ],
   "source": [
    "import re\n",
    "s='CHARISHMA CHARDEVI CHHAR CHERRY CHARISHAMAA CHHARISHMAA'\n",
    "re.findall('CHARDEVI|CHARISHMA',s)"
   ]
  },
  {
   "cell_type": "code",
   "execution_count": 30,
   "id": "18a006a1",
   "metadata": {},
   "outputs": [
    {
     "data": {
      "text/plain": [
       "['CHARISHMA', 'CHARDEVI']"
      ]
     },
     "execution_count": 30,
     "metadata": {},
     "output_type": "execute_result"
    }
   ],
   "source": [
    "import re\n",
    "s='CHARISHMA CHARDEVI CHHAR CHERRY CHARISHAMAA CHHARISHMAA'\n",
    "re.findall('CHARDEVI|CHARISHMA',s)"
   ]
  },
  {
   "cell_type": "code",
   "execution_count": 33,
   "id": "92ebf460",
   "metadata": {},
   "outputs": [
    {
     "data": {
      "text/plain": [
       "['C',\n",
       " 'H',\n",
       " 'A',\n",
       " 'R',\n",
       " 'I',\n",
       " 'S',\n",
       " 'H',\n",
       " 'M',\n",
       " 'A',\n",
       " 'C',\n",
       " 'H',\n",
       " 'A',\n",
       " 'R',\n",
       " 'I',\n",
       " 'C',\n",
       " 'H',\n",
       " 'H',\n",
       " 'A',\n",
       " 'R',\n",
       " 'C',\n",
       " 'H',\n",
       " 'R',\n",
       " 'R',\n",
       " 'C',\n",
       " 'H',\n",
       " 'A',\n",
       " 'R',\n",
       " 'I',\n",
       " 'S',\n",
       " 'H',\n",
       " 'A',\n",
       " 'M',\n",
       " 'A',\n",
       " 'A',\n",
       " 'C',\n",
       " 'H',\n",
       " 'H',\n",
       " 'A',\n",
       " 'R',\n",
       " 'I',\n",
       " 'S',\n",
       " 'H',\n",
       " 'M',\n",
       " 'A',\n",
       " 'A']"
      ]
     },
     "execution_count": 33,
     "metadata": {},
     "output_type": "execute_result"
    }
   ],
   "source": [
    "import re\n",
    "s='CHARISHMA CHARDEVI CHHAR CHERRY CHARISHAMAA CHHARISHMAA'\n",
    "re.findall('[CHARISHMA]',s)"
   ]
  },
  {
   "cell_type": "code",
   "execution_count": 35,
   "id": "538f87fe",
   "metadata": {},
   "outputs": [
    {
     "data": {
      "text/plain": [
       "['CHARI', 'CHARD', 'CHHAR', 'CHERR', 'CHARI', 'SHAMA', 'CHHAR', 'ISHMA']"
      ]
     },
     "execution_count": 35,
     "metadata": {},
     "output_type": "execute_result"
    }
   ],
   "source": [
    "import re\n",
    "s='CHARISHMA CHARDEVI CHHAR CHERRY CHARISHAMAA CHHARISHMAA'\n",
    "re.findall('[a-zA-Z]{5}',s)"
   ]
  },
  {
   "cell_type": "code",
   "execution_count": 36,
   "id": "0dddf133",
   "metadata": {},
   "outputs": [
    {
     "data": {
      "text/plain": [
       "['CHARISHAMAA', 'CHHARISHMAA']"
      ]
     },
     "execution_count": 36,
     "metadata": {},
     "output_type": "execute_result"
    }
   ],
   "source": [
    "import re\n",
    "s='CHARISHMA CHARDEVI CHHAR CHERRY CHARISHAMAA CHHARISHMAA'\n",
    "re.findall('[a-zA-Z]{11}',s)"
   ]
  },
  {
   "cell_type": "code",
   "execution_count": 38,
   "id": "7ca9731f",
   "metadata": {},
   "outputs": [
    {
     "data": {
      "text/plain": [
       "['IA',\n",
       " 'CH',\n",
       " 'AR',\n",
       " 'DE',\n",
       " 'VI',\n",
       " 'CH',\n",
       " 'AR',\n",
       " 'IS',\n",
       " 'HM',\n",
       " 'DE',\n",
       " 'VI',\n",
       " 'PR',\n",
       " 'AS',\n",
       " 'AD']"
      ]
     },
     "execution_count": 38,
     "metadata": {},
     "output_type": "execute_result"
    }
   ],
   "source": [
    "import re\n",
    "s='IAM CHARDEVI CHARISHMA DEVIPRASAD'\n",
    "re.findall('[a-zA-Z]{2}',s)"
   ]
  },
  {
   "cell_type": "code",
   "execution_count": 2,
   "id": "3aa6c663",
   "metadata": {},
   "outputs": [
    {
     "name": "stdout",
     "output_type": "stream",
     "text": [
      "enter number to validate+91-7893347525\n",
      "Valid\n"
     ]
    }
   ],
   "source": [
    "import re\n",
    "d=input('enter number to validate')\n",
    "c=re.match('[+]91-[6-9]\\d{9}',d)\n",
    "if c:\n",
    "    print('Valid')\n",
    "else:\n",
    "    print('Not Valid')"
   ]
  },
  {
   "cell_type": "code",
   "execution_count": 30,
   "id": "dc56624e",
   "metadata": {},
   "outputs": [
    {
     "name": "stdout",
     "output_type": "stream",
     "text": [
      "enter password to validate: chardevi1722.\n",
      "Valid\n"
     ]
    }
   ],
   "source": [
    "import re\n",
    "d=input('enter password to validate: ')\n",
    "c=re.match('[a-zA-Z]+(\\W+\\d+|\\d+\\W+)',d)\n",
    "if c and len(d)>=11 and ' ' not in d:\n",
    "    print('Valid')\n",
    "else:\n",
    "    print('Not Valid')"
   ]
  },
  {
   "cell_type": "code",
   "execution_count": 36,
   "id": "c36d67aa",
   "metadata": {},
   "outputs": [
    {
     "name": "stdout",
     "output_type": "stream",
     "text": [
      "enter email to validate: deviprasadisaka@gmail.com\n",
      "Not Valid\n"
     ]
    }
   ],
   "source": [
    "import re\n",
    "d=input('enter email to validate: ')\n",
    "c=re.match('[a-zA-Z0-9]\\w*[.]?\\w+@gamil[.]com',d)\n",
    "if c:\n",
    "    print('Valid')\n",
    "else:\n",
    "    print('Not Valid')"
   ]
  },
  {
   "cell_type": "code",
   "execution_count": 27,
   "id": "fb7fe2b3",
   "metadata": {},
   "outputs": [
    {
     "data": {
      "text/plain": [
       "['deviprasadisaka@gmail.com']"
      ]
     },
     "execution_count": 27,
     "metadata": {},
     "output_type": "execute_result"
    }
   ],
   "source": [
    "import re\n",
    "d='deviprasadisaka@gmail.com'\n",
    "re.findall('[a-zA-Z0-9]\\w*[.]?\\w+@gmail[.]com',d)"
   ]
  },
  {
   "cell_type": "code",
   "execution_count": 12,
   "id": "eaf0e3b6",
   "metadata": {},
   "outputs": [
    {
     "name": "stdout",
     "output_type": "stream",
     "text": [
      "enter email to validate: 143.11.17.22\n",
      "Valid\n"
     ]
    }
   ],
   "source": [
    "import re\n",
    "d=input('enter email to validate: ')\n",
    "c=re.match('\\d{3}[.]\\d{1,3}[.]\\d{1,3}[.]\\d{1,3}',d)\n",
    "if c:\n",
    "    print('Valid')\n",
    "else:\n",
    "    print('Not Valid')"
   ]
  },
  {
   "cell_type": "code",
   "execution_count": 35,
   "id": "caa94ad3",
   "metadata": {},
   "outputs": [
    {
     "data": {
      "text/plain": [
       "['P', 'Y', 'H']"
      ]
     },
     "execution_count": 35,
     "metadata": {},
     "output_type": "execute_result"
    }
   ],
   "source": [
    "import re\n",
    "S='PYTHON'\n",
    "re.findall('[^ONT]',S)"
   ]
  },
  {
   "cell_type": "code",
   "execution_count": 38,
   "id": "3e555b67",
   "metadata": {},
   "outputs": [
    {
     "data": {
      "text/plain": [
       "['e', 'i', 'a', 'a']"
      ]
     },
     "execution_count": 38,
     "metadata": {},
     "output_type": "execute_result"
    }
   ],
   "source": [
    "import re\n",
    "s='deviprasad'\n",
    "re.findall('[aeiou]',s)"
   ]
  },
  {
   "cell_type": "code",
   "execution_count": 45,
   "id": "fadae663",
   "metadata": {},
   "outputs": [
    {
     "data": {
      "text/plain": [
       "['d', 'v', 'p', '1', '7', '2', '2', 'r', 's', 'd']"
      ]
     },
     "execution_count": 45,
     "metadata": {},
     "output_type": "execute_result"
    }
   ],
   "source": [
    "import re\n",
    "s='devip1722rasad'\n",
    "re.findall('[^aeiou]',s)"
   ]
  },
  {
   "cell_type": "code",
   "execution_count": 10,
   "id": "3591dd6c",
   "metadata": {},
   "outputs": [
    {
     "name": "stdout",
     "output_type": "stream",
     "text": [
      "ifmmp*3\n",
      "ifp*\n"
     ]
    }
   ],
   "source": [
    "#1st-->'ifmmp*3'\n",
    "#2nd-->'ifp*'\n",
    "s='hello*3'\n",
    "res=''\n",
    "for i in range(len(s)):\n",
    "    if 'a'<=s[i]<='z':\n",
    "        res+=chr(ord(s[i])+1)\n",
    "    else:\n",
    "        res+=s[i]\n",
    "print(res)\n",
    "d=''\n",
    "for c in res:\n",
    "    if res.count(c)<=1 and c not in '0123456789':\n",
    "        d+=c\n",
    "print(d)"
   ]
  },
  {
   "cell_type": "code",
   "execution_count": 26,
   "id": "8637dd8f",
   "metadata": {},
   "outputs": [
    {
     "name": "stdout",
     "output_type": "stream",
     "text": [
      "{'a': 1, 'ab': 2, 'abc': 151}\n"
     ]
    }
   ],
   "source": [
    "l=['a:1','ab:2','abc:151']\n",
    "fl=[]\n",
    "for x in l:\n",
    "    a=d=''\n",
    "    nl=[]\n",
    "    for y in x:\n",
    "        if y.isdigit():\n",
    "            d+=y\n",
    "        elif y.isalpha():\n",
    "            a+=y\n",
    "    else:\n",
    "        nl+=[(a,int(d))]\n",
    "        a=d=''\n",
    "    fl+=nl\n",
    "print(dict(fl))"
   ]
  },
  {
   "cell_type": "code",
   "execution_count": 4,
   "id": "dc2478ba",
   "metadata": {},
   "outputs": [
    {
     "name": "stdout",
     "output_type": "stream",
     "text": [
      "[1, 9, 16]\n"
     ]
    }
   ],
   "source": [
    "from math import sqrt\n",
    "l=[1,3,9,12,16]\n",
    "nl=[]\n",
    "for num in l:\n",
    "    if num==int(sqrt(num))**2:\n",
    "        nl+=[num]\n",
    "print(nl)"
   ]
  },
  {
   "cell_type": "code",
   "execution_count": 4,
   "id": "f1f22ce4",
   "metadata": {},
   "outputs": [
    {
     "name": "stdout",
     "output_type": "stream",
     "text": [
      "[1, 9, 16]\n"
     ]
    }
   ],
   "source": [
    "l=[1,3,9,12,16]\n",
    "nl=[]\n",
    "for num in l:\n",
    "    if num**0.5==num//(num**0.5):\n",
    "        nl+=[num]\n",
    "print(nl)"
   ]
  },
  {
   "cell_type": "code",
   "execution_count": 6,
   "id": "bf720257",
   "metadata": {},
   "outputs": [
    {
     "name": "stdout",
     "output_type": "stream",
     "text": [
      "enter number: 89\n",
      "Fibinocci Number\n"
     ]
    }
   ],
   "source": [
    "#wap to check given number is fibinocci number or not\n",
    "n=int(input('enter number: '))\n",
    "f,s=0,1\n",
    "while f<=n:\n",
    "    if f==n:\n",
    "        print('Fibinocci Number')\n",
    "        break\n",
    "    f,s=s,f+s\n",
    "else:\n",
    "    print('Not')"
   ]
  },
  {
   "cell_type": "code",
   "execution_count": 11,
   "id": "4265fb17",
   "metadata": {},
   "outputs": [
    {
     "name": "stdout",
     "output_type": "stream",
     "text": [
      "a:1\n",
      "ab:2\n",
      "abc:151\n",
      "{'a': 1, 'ab': 2, 'abc': 151}\n"
     ]
    }
   ],
   "source": [
    "l=['a:1','ab:2','abc:151']\n",
    "nl=[]\n",
    "for a in l:\n",
    "    print(a)\n",
    "    c,d='',''\n",
    "    m=[]\n",
    "    for b in a:\n",
    "        if b.isdigit():\n",
    "            d+=b\n",
    "        elif b.isalpha():\n",
    "            c+=b\n",
    "    else:\n",
    "        m+=[(c,int(d))]\n",
    "        c=d=''\n",
    "    nl+=m\n",
    "print(dict(nl))"
   ]
  },
  {
   "cell_type": "code",
   "execution_count": 21,
   "id": "ae7b6cc1",
   "metadata": {},
   "outputs": [
    {
     "name": "stdout",
     "output_type": "stream",
     "text": [
      "{'a': 1, 'ab': 2, 'abc': 151}\n"
     ]
    }
   ],
   "source": [
    "l=['a:1','ab:2','abc:151']\n",
    "d={}\n",
    "for i in l:\n",
    "    c=i.index(':')\n",
    "    d[i[:c]]=int(i[c+1:])\n",
    "print(d)"
   ]
  },
  {
   "cell_type": "code",
   "execution_count": 29,
   "id": "b7f06553",
   "metadata": {},
   "outputs": [
    {
     "name": "stdout",
     "output_type": "stream",
     "text": [
      "Fibinocci Number\n"
     ]
    }
   ],
   "source": [
    "n=89\n",
    "f,s=0,1\n",
    "while f<=n:\n",
    "    if f==n:\n",
    "        print('Fibinocci Number')\n",
    "        break\n",
    "    f,s=s,f+s\n",
    "else:\n",
    "    print('Not')"
   ]
  },
  {
   "cell_type": "code",
   "execution_count": 22,
   "id": "6089569d",
   "metadata": {},
   "outputs": [
    {
     "name": "stdout",
     "output_type": "stream",
     "text": [
      "['p', 'pww', 'pwwk', 'pwwke', 'wk', 'wke', 'k', 'ke', 'e']\n"
     ]
    }
   ],
   "source": [
    "s='pwwkew'\n",
    "l=[]\n",
    "for x in range(len(s)-1):\n",
    "    for y in range(len(s)):\n",
    "        if s[x:y] not in l and s.count(s[x:y])==1 and s[x]!=s[x+1] and s[y]!=s[y-1]:\n",
    "            l+=[s[x:y]]\n",
    "print(l)"
   ]
  },
  {
   "cell_type": "code",
   "execution_count": 32,
   "id": "ad743e81",
   "metadata": {},
   "outputs": [
    {
     "name": "stdout",
     "output_type": "stream",
     "text": [
      "wke\n"
     ]
    }
   ],
   "source": [
    "s='pwwkew'\n",
    "d={}\n",
    "x=''\n",
    "for i in s:\n",
    "    if i not in x:\n",
    "        x+=i\n",
    "    else:\n",
    "        d[x]=len(x)\n",
    "        x=i\n",
    "d[x]=len(x)\n",
    "m=max(d.values())\n",
    "for k,v in d.items():\n",
    "    if m==v:\n",
    "        print(k)"
   ]
  },
  {
   "cell_type": "code",
   "execution_count": 33,
   "id": "19e1ce63",
   "metadata": {},
   "outputs": [
    {
     "name": "stdout",
     "output_type": "stream",
     "text": [
      "abc\n"
     ]
    }
   ],
   "source": [
    "s='abcabc'\n",
    "d={}\n",
    "x=''\n",
    "for i in s:\n",
    "    if i not in x:\n",
    "        x+=i\n",
    "    else:\n",
    "        d[x]=len(x)\n",
    "        x=i\n",
    "d[x]=len(x)\n",
    "m=max(d.values())\n",
    "for k,v in d.items():\n",
    "    if m==v:\n",
    "        print(k)"
   ]
  },
  {
   "cell_type": "code",
   "execution_count": 3,
   "id": "ff24f894",
   "metadata": {},
   "outputs": [
    {
     "name": "stdout",
     "output_type": "stream",
     "text": [
      "377\n"
     ]
    }
   ],
   "source": [
    "# s='MAN'\n",
    "# A,B=0,1\n",
    "# C=A+B\n",
    "# D=B+C and so on......Z=X+Y\n",
    "# print(M+A+N)\n",
    "a,b=0,1\n",
    "s='man'\n",
    "d={'a':0,'b':1}\n",
    "for i in range(ord('c'),ord('z')+1):\n",
    "    d[chr(i)]=d[chr(i-1)]+d[chr(i-2)]\n",
    "    #d['c']=d[chr(98)]+d[chr(97)]\n",
    "    #d['c']=d['b']+d['a']\n",
    "    #d['c']=1+0\n",
    "c=0\n",
    "for i in s:\n",
    "    if i in d:\n",
    "        c+=d[i]\n",
    "print(c)"
   ]
  },
  {
   "cell_type": "code",
   "execution_count": 42,
   "id": "877e6174",
   "metadata": {},
   "outputs": [
    {
     "name": "stdout",
     "output_type": "stream",
     "text": [
      "dipa\n"
     ]
    }
   ],
   "source": [
    "s='afmx'\n",
    "res=''\n",
    "for i in s:\n",
    "    if 'a'<=i<='s':\n",
    "        res+=chr(ord(i)+3)\n",
    "    else:\n",
    "        res+=chr(ord(i)-23)\n",
    "print(res)"
   ]
  },
  {
   "cell_type": "code",
   "execution_count": 49,
   "id": "33386cd5",
   "metadata": {},
   "outputs": [
    {
     "data": {
      "text/plain": [
       "['i']"
      ]
     },
     "execution_count": 49,
     "metadata": {},
     "output_type": "execute_result"
    }
   ],
   "source": [
    "import re\n",
    "s='I.DeviPrasad'\n",
    "re.findall('[aeiouAEIOU]',s)"
   ]
  },
  {
   "cell_type": "code",
   "execution_count": 20,
   "id": "dbfee5d7",
   "metadata": {},
   "outputs": [
    {
     "data": {
      "text/plain": [
       "['I', 'D', 'e', 'v', 'i', 'P', 'r', 'a', 's', 'a', 'd']"
      ]
     },
     "execution_count": 20,
     "metadata": {},
     "output_type": "execute_result"
    }
   ],
   "source": [
    "import re\n",
    "s='I.DeviPrasad'\n",
    "re.findall('\\w',s)"
   ]
  },
  {
   "cell_type": "code",
   "execution_count": 2,
   "id": "6d6af809",
   "metadata": {},
   "outputs": [
    {
     "name": "stdout",
     "output_type": "stream",
     "text": [
      "around\n",
      "in\n",
      "in\n",
      "around\n",
      "in\n",
      "in\n"
     ]
    }
   ],
   "source": [
    "import re\n",
    "with open('data.txt','r') as devi:\n",
    "    for word in devi.read().split():\n",
    "        if re.match('[aeiouAEIOU]', word):\n",
    "            print(word)"
   ]
  },
  {
   "cell_type": "code",
   "execution_count": 14,
   "id": "4bbdb72f",
   "metadata": {},
   "outputs": [
    {
     "name": "stdout",
     "output_type": "stream",
     "text": [
      "Enter Number:2\n",
      "c\n"
     ]
    }
   ],
   "source": [
    "s='a'\n",
    "i=int(input('Enter Number:'))\n",
    "res=''\n",
    "if 'a'<=s<='z':\n",
    "    res+=chr(ord(s)+i)\n",
    "else:\n",
    "    d=i%26\n",
    "    res+=chr((ord(s)+i)%26)\n",
    "print(res)"
   ]
  },
  {
   "cell_type": "code",
   "execution_count": 53,
   "id": "73f2e635",
   "metadata": {},
   "outputs": [
    {
     "name": "stdout",
     "output_type": "stream",
     "text": [
      "Enter Number:2\n",
      "{\n"
     ]
    }
   ],
   "source": [
    "s='y'\n",
    "i=int(input('Enter Number:'))\n",
    "res=''\n",
    "if 'a'<=s<='z':\n",
    "    res+=chr(ord(s)+i)\n",
    "else:\n",
    "    d=i%26\n",
    "    res+=chr(97+d)\n",
    "print(res)"
   ]
  },
  {
   "cell_type": "code",
   "execution_count": 69,
   "id": "4fde7614",
   "metadata": {},
   "outputs": [
    {
     "name": "stdout",
     "output_type": "stream",
     "text": [
      "Enter Number:9\n",
      "h\n"
     ]
    }
   ],
   "source": [
    "s='y'\n",
    "i=int(input('Enter Number:'))\n",
    "if i>26:\n",
    "    i%=26\n",
    "res=ord(s)+i\n",
    "if res>ord('z'):\n",
    "    res-=ord('z')\n",
    "    print(chr(res+96))\n",
    "else:\n",
    "    print(chr(res))"
   ]
  },
  {
   "cell_type": "code",
   "execution_count": 60,
   "id": "2d6ff337",
   "metadata": {},
   "outputs": [
    {
     "data": {
      "text/plain": [
       "121"
      ]
     },
     "execution_count": 60,
     "metadata": {},
     "output_type": "execute_result"
    }
   ],
   "source": [
    "ord('y')"
   ]
  },
  {
   "cell_type": "code",
   "execution_count": 95,
   "id": "c1e7bcaa",
   "metadata": {},
   "outputs": [
    {
     "name": "stdout",
     "output_type": "stream",
     "text": [
      "ADBZV\n"
     ]
    }
   ],
   "source": [
    "l=[1,4,28,26,100]\n",
    "res=''\n",
    "for i in l:\n",
    "    a=i%26\n",
    "    if a==0:\n",
    "        res+='Z'\n",
    "    else:\n",
    "        res+=chr(64+a)\n",
    "print(res)"
   ]
  },
  {
   "cell_type": "code",
   "execution_count": null,
   "id": "d939e8cb",
   "metadata": {},
   "outputs": [],
   "source": []
  },
  {
   "cell_type": "code",
   "execution_count": null,
   "id": "e31ddcd1",
   "metadata": {},
   "outputs": [],
   "source": []
  },
  {
   "cell_type": "code",
   "execution_count": 34,
   "id": "a3451f38",
   "metadata": {},
   "outputs": [
    {
     "name": "stdout",
     "output_type": "stream",
     "text": [
      "bcde\n"
     ]
    }
   ],
   "source": [
    "s='abcd'\n",
    "res=''\n",
    "ind=0\n",
    "while (ind!=len(s)-1):\n",
    "    res+=chr(ord(s[ind+1]))\n",
    "    ind+=1\n",
    "else:\n",
    "    res+=chr(ord(s[ind])+1)\n",
    "print(res)"
   ]
  },
  {
   "cell_type": "code",
   "execution_count": 36,
   "id": "2abd61af",
   "metadata": {},
   "outputs": [
    {
     "name": "stdout",
     "output_type": "stream",
     "text": [
      "apple\n"
     ]
    }
   ],
   "source": [
    "s='APple'\n",
    "res=''\n",
    "for a in s:\n",
    "    if 'A'<=a<='Z':\n",
    "        res+=chr(ord(a)+32)\n",
    "    else:\n",
    "        res+=a\n",
    "print(res)"
   ]
  },
  {
   "cell_type": "code",
   "execution_count": 38,
   "id": "3b105d9f",
   "metadata": {},
   "outputs": [
    {
     "name": "stdout",
     "output_type": "stream",
     "text": [
      "$D$Y$\n"
     ]
    }
   ],
   "source": [
    "s='UDAYA'\n",
    "v='aeiouAEIOU'\n",
    "res=''\n",
    "for a in s:\n",
    "    if a in v:\n",
    "        res+='$'\n",
    "    else:\n",
    "        res+=a\n",
    "print(res)"
   ]
  },
  {
   "cell_type": "code",
   "execution_count": 47,
   "id": "1c05a446",
   "metadata": {},
   "outputs": [
    {
     "name": "stdout",
     "output_type": "stream",
     "text": [
      "500\n"
     ]
    }
   ],
   "source": [
    "a=2_5_0\n",
    "b=2\n",
    "print(a*b)"
   ]
  },
  {
   "cell_type": "code",
   "execution_count": 54,
   "id": "2ff08708",
   "metadata": {},
   "outputs": [
    {
     "name": "stdout",
     "output_type": "stream",
     "text": [
      "Enter a character: P\n",
      "The nearest vowel to 'P' is 'O'.\n"
     ]
    }
   ],
   "source": [
    "def find_nearest_vowel(char):\n",
    "    vowels = \"aeiouAEIOU\"\n",
    "\n",
    "    # Initialize variables to store distances\n",
    "    min_distance = float('inf')\n",
    "    nearest_vowel = None\n",
    "\n",
    "    for vowel in vowels:\n",
    "        distance = abs(ord(char) - ord(vowel))\n",
    "        if distance < min_distance:\n",
    "            min_distance = distance\n",
    "            nearest_vowel = vowel\n",
    "\n",
    "    return nearest_vowel\n",
    "\n",
    "# Get user input\n",
    "user_input = input(\"Enter a character: \")\n",
    "\n",
    "if len(user_input) == 1 and user_input.isalpha():\n",
    "    nearest = find_nearest_vowel(user_input)\n",
    "    if nearest:\n",
    "        print(f\"The nearest vowel to '{user_input}' is '{nearest}'.\")\n",
    "    else:\n",
    "        print(f\"'{user_input}' is a vowel.\")\n",
    "else:\n",
    "    print(\"Please enter a valid single character.\")"
   ]
  },
  {
   "cell_type": "code",
   "execution_count": null,
   "id": "cb027df3",
   "metadata": {},
   "outputs": [],
   "source": []
  },
  {
   "cell_type": "code",
   "execution_count": null,
   "id": "c152f997",
   "metadata": {},
   "outputs": [],
   "source": []
  },
  {
   "cell_type": "code",
   "execution_count": 30,
   "id": "ea6b7723",
   "metadata": {},
   "outputs": [
    {
     "name": "stdout",
     "output_type": "stream",
     "text": [
      "[6, 3, 17]\n"
     ]
    }
   ],
   "source": [
    "l=['p23y+1','@21th','x78y2']#l=[6,3,17]\n",
    "nl=[]\n",
    "for word in range(len(l)) :\n",
    "    add=0\n",
    "    for ch in l[word]:\n",
    "        if '0'<=ch<='9':\n",
    "            add+=int(ch)\n",
    "    l[word]=add\n",
    "print(l)"
   ]
  },
  {
   "cell_type": "code",
   "execution_count": 53,
   "id": "fa1d4fc2",
   "metadata": {},
   "outputs": [
    {
     "name": "stdout",
     "output_type": "stream",
     "text": [
      "[11, 17, 22]\n"
     ]
    }
   ],
   "source": [
    "import re\n",
    "l=['p23y+6','x78y2','5cd57dc5']#l=[6,3,17]\n",
    "for i in range(len(l)):\n",
    "    l[i]=sum(list(map(int,re.findall('\\d',l[i]))))\n",
    "print(l)"
   ]
  },
  {
   "cell_type": "code",
   "execution_count": 54,
   "id": "98538174",
   "metadata": {},
   "outputs": [
    {
     "name": "stdout",
     "output_type": "stream",
     "text": [
      "-112\n"
     ]
    }
   ],
   "source": [
    "l=[]\n",
    "for d in range(-30,-10):\n",
    "    if all(abs(d)>1 and abs(d)%a!=0 for a in range(2,abs(d)//2+1)):\n",
    "        l+=[d]\n",
    "print(sum(l))"
   ]
  },
  {
   "cell_type": "code",
   "execution_count": 37,
   "id": "f4ccdde8",
   "metadata": {},
   "outputs": [
    {
     "name": "stdout",
     "output_type": "stream",
     "text": [
      "Circular Prime Number\n"
     ]
    }
   ],
   "source": [
    "#CIRCULAR PRIME NUMBER\n",
    "n=113\n",
    "l=[]\n",
    "c=0\n",
    "p=len(str(n))-1\n",
    "while n not in l:\n",
    "    l.append(n)\n",
    "    if all(n>1 and n%a!=0 for a in range(2,n//2+1)):\n",
    "        c+=1\n",
    "    rem=n%10\n",
    "    n//=10\n",
    "    n=rem*10**p+n\n",
    "if c==len(str(n)):\n",
    "    print('Circular Prime Number')\n",
    "else:\n",
    "    print('Not')"
   ]
  },
  {
   "cell_type": "code",
   "execution_count": 48,
   "id": "243380dc",
   "metadata": {},
   "outputs": [
    {
     "name": "stdout",
     "output_type": "stream",
     "text": [
      "Circular Prime Number\n"
     ]
    }
   ],
   "source": [
    "#CIRCULAR PRIME NUMBER\n",
    "n=1193\n",
    "l=[]\n",
    "c=0\n",
    "p=len(str(n))-1\n",
    "while n not in l:\n",
    "    l.append(n)\n",
    "    if not all(n>1 and n%a!=0 for a in range(2,n//2+1)):\n",
    "        print('Not')\n",
    "        break\n",
    "    rem=n%10\n",
    "    n//=10\n",
    "    n=rem*10**p+n\n",
    "else:\n",
    "    print('Circular Prime Number')"
   ]
  },
  {
   "cell_type": "code",
   "execution_count": 2,
   "id": "6e458940",
   "metadata": {},
   "outputs": [
    {
     "name": "stdout",
     "output_type": "stream",
     "text": [
      "Prime\n"
     ]
    }
   ],
   "source": [
    "n=17\n",
    "if all(n>1 and n%a!=0 for a in range(2,n//2+1)):\n",
    "    print('Prime')\n",
    "else:\n",
    "    print('Not Prime')"
   ]
  },
  {
   "cell_type": "code",
   "execution_count": 10,
   "id": "e1909a37",
   "metadata": {},
   "outputs": [
    {
     "name": "stdout",
     "output_type": "stream",
     "text": [
      "Enter Number:1\n",
      "0\n"
     ]
    }
   ],
   "source": [
    "print(int(not(int(input('Enter Number:')))))"
   ]
  },
  {
   "cell_type": "code",
   "execution_count": 7,
   "id": "f27946a5",
   "metadata": {},
   "outputs": [
    {
     "name": "stdout",
     "output_type": "stream",
     "text": [
      "ADBZV\n"
     ]
    }
   ],
   "source": [
    "l=[1,4,28,26,100]\n",
    "res=''\n",
    "for i in l:\n",
    "    a=i%26\n",
    "    if a==0:\n",
    "        res+='Z'\n",
    "    else:\n",
    "        res+=chr(64+a)\n",
    "print(res)"
   ]
  },
  {
   "cell_type": "code",
   "execution_count": 3,
   "id": "f1ddf40e",
   "metadata": {},
   "outputs": [
    {
     "name": "stdout",
     "output_type": "stream",
     "text": [
      "{'o': 2, 'e': 1}\n"
     ]
    }
   ],
   "source": [
    "s='google bleed blood'\n",
    "#O/P-->{'O':2,'E':1}\n",
    "c=1\n",
    "d={}\n",
    "for i in range(len(s)-1):\n",
    "    if s[i]==s[i+1]:\n",
    "        c+=1\n",
    "    else:\n",
    "        if c>1:\n",
    "            if s[i] not in d: \n",
    "                d[s[i]]=c//2\n",
    "            else:\n",
    "                d[s[i]]+=c//2\n",
    "            c=1\n",
    "if c>1:\n",
    "    d[s[i+1]]=c//2\n",
    "print(d)       "
   ]
  },
  {
   "cell_type": "code",
   "execution_count": 5,
   "id": "ed6d7f5b",
   "metadata": {},
   "outputs": [
    {
     "name": "stdout",
     "output_type": "stream",
     "text": [
      "{'o': 2, 'e': 1}\n"
     ]
    }
   ],
   "source": [
    "import re\n",
    "s='google bleed blood'\n",
    "#O/P-->{'O':2,'E':1}\n",
    "d={}\n",
    "for i in s:\n",
    "    if i not in d:\n",
    "        x=len(re.findall(i*2,s))\n",
    "        if x>0:\n",
    "            d[i]=x\n",
    "print(d)"
   ]
  },
  {
   "cell_type": "code",
   "execution_count": 123,
   "id": "f80216f5",
   "metadata": {},
   "outputs": [
    {
     "name": "stdout",
     "output_type": "stream",
     "text": [
      "* * * * * \n",
      "* *   * * \n",
      "*     * * \n",
      "*     * * \n",
      "*     * * \n",
      "      * * \n",
      "        * \n"
     ]
    }
   ],
   "source": [
    "L=[5,2,1,6,7]\n",
    "m=max(L)\n",
    "for a in range(m):\n",
    "    for b in range(len(L)):\n",
    "        if L[b]!=0:\n",
    "            print('*',end=' ')\n",
    "            L[b]-=1\n",
    "        else:\n",
    "            print(' ',end=' ')\n",
    "    print()"
   ]
  },
  {
   "cell_type": "code",
   "execution_count": 1,
   "id": "e8ff9bac",
   "metadata": {},
   "outputs": [
    {
     "name": "stdout",
     "output_type": "stream",
     "text": [
      "* * * * * \n",
      "* *   * * \n",
      "*     * * \n",
      "*     * * \n",
      "*     * * \n",
      "      * * \n",
      "        * \n"
     ]
    }
   ],
   "source": [
    "L=[5,2,1,6,7]\n",
    "for i in range(max(L)):\n",
    "    for j in range(len(L)):\n",
    "        if i<L[j]:\n",
    "            print('*',end=' ')\n",
    "        else:\n",
    "            print(' ',end=' ')\n",
    "    print()"
   ]
  },
  {
   "cell_type": "code",
   "execution_count": 117,
   "id": "599a193b",
   "metadata": {},
   "outputs": [
    {
     "name": "stdout",
     "output_type": "stream",
     "text": [
      "2\n"
     ]
    }
   ],
   "source": [
    "print(8-3*2)           #BODMAS RULE"
   ]
  },
  {
   "cell_type": "code",
   "execution_count": 108,
   "id": "fda4d178",
   "metadata": {},
   "outputs": [],
   "source": [
    "#Factorial Number\n",
    "n=5\n",
    "print()"
   ]
  },
  {
   "cell_type": "code",
   "execution_count": 78,
   "id": "1f84100f",
   "metadata": {},
   "outputs": [
    {
     "name": "stdout",
     "output_type": "stream",
     "text": [
      "Enter Number: 4\n",
      "ABCD\n",
      "EFGH\n",
      "IJKL\n",
      "MNOP\n",
      "QRST\n",
      "UVWX\n",
      "YZ\n"
     ]
    }
   ],
   "source": [
    "n=int(input('Enter Number: '))\n",
    "count=0\n",
    "res=''\n",
    "for a in range(1,26+1):\n",
    "    res+=chr(64+a)\n",
    "    count+=1\n",
    "    if count==n:\n",
    "        res+='\\n'\n",
    "        count=0\n",
    "print(res.strip())"
   ]
  },
  {
   "cell_type": "code",
   "execution_count": 129,
   "id": "480f9ad7",
   "metadata": {},
   "outputs": [
    {
     "name": "stdout",
     "output_type": "stream",
     "text": [
      "Enter Number: 2\n",
      "AB\n",
      "CD\n",
      "EF\n",
      "GH\n",
      "IJ\n",
      "KL\n",
      "MN\n",
      "OP\n",
      "QR\n",
      "ST\n",
      "UV\n",
      "WX\n",
      "YZ\n"
     ]
    }
   ],
   "source": [
    "A='ABCDEFGHIJKLMNOPQRSTUVWXYZ'\n",
    "n=int(input('Enter Number: '))\n",
    "for a in range(0,len(A),n):\n",
    "    print(A[a:a+n])"
   ]
  },
  {
   "cell_type": "code",
   "execution_count": 15,
   "id": "e992b38b",
   "metadata": {},
   "outputs": [
    {
     "name": "stdout",
     "output_type": "stream",
     "text": [
      "Enter a value7\n",
      "5040\n"
     ]
    }
   ],
   "source": [
    "n=int(input('Enter a value'))\n",
    "a=1\n",
    "m=1\n",
    "while(a<=n-1):\n",
    "    b=0\n",
    "    for i in range(a+1):\n",
    "        b+=m\n",
    "    a+=1\n",
    "    m=b\n",
    "    \n",
    "print(m)"
   ]
  },
  {
   "cell_type": "code",
   "execution_count": 5,
   "id": "a411f3f7",
   "metadata": {},
   "outputs": [
    {
     "name": "stdout",
     "output_type": "stream",
     "text": [
      "29\n"
     ]
    }
   ],
   "source": [
    "c=9\n",
    "d=21\n",
    "print(c|d)"
   ]
  },
  {
   "cell_type": "code",
   "execution_count": 8,
   "id": "ab0a5994",
   "metadata": {},
   "outputs": [
    {
     "name": "stdout",
     "output_type": "stream",
     "text": [
      "22 17\n"
     ]
    }
   ],
   "source": [
    "c=17\n",
    "d=22\n",
    "c=c^d\n",
    "d=c^d\n",
    "c=c^d\n",
    "print(c,d)"
   ]
  },
  {
   "cell_type": "code",
   "execution_count": 2,
   "id": "247d1a1a",
   "metadata": {},
   "outputs": [
    {
     "ename": "KeyboardInterrupt",
     "evalue": "",
     "output_type": "error",
     "traceback": [
      "\u001b[1;31m---------------------------------------------------------------------------\u001b[0m",
      "\u001b[1;31mKeyboardInterrupt\u001b[0m                         Traceback (most recent call last)",
      "\u001b[1;32m~\\AppData\\Local\\Temp\\ipykernel_3144\\1729264458.py\u001b[0m in \u001b[0;36m<module>\u001b[1;34m\u001b[0m\n\u001b[0;32m      2\u001b[0m \u001b[0mb\u001b[0m \u001b[1;33m=\u001b[0m \u001b[1;36m30\u001b[0m\u001b[1;33m\u001b[0m\u001b[1;33m\u001b[0m\u001b[0m\n\u001b[0;32m      3\u001b[0m \u001b[1;32mwhile\u001b[0m \u001b[0mb\u001b[0m\u001b[1;33m!=\u001b[0m\u001b[1;36m0\u001b[0m\u001b[1;33m:\u001b[0m\u001b[1;33m\u001b[0m\u001b[1;33m\u001b[0m\u001b[0m\n\u001b[1;32m----> 4\u001b[1;33m     \u001b[0mc\u001b[0m\u001b[1;33m=\u001b[0m\u001b[0ma\u001b[0m\u001b[1;33m&\u001b[0m\u001b[0mb\u001b[0m\u001b[1;33m\u001b[0m\u001b[1;33m\u001b[0m\u001b[0m\n\u001b[0m\u001b[0;32m      5\u001b[0m     \u001b[0mb\u001b[0m\u001b[1;33m=\u001b[0m\u001b[0ma\u001b[0m\u001b[1;33m^\u001b[0m\u001b[0mb\u001b[0m\u001b[1;33m\u001b[0m\u001b[1;33m\u001b[0m\u001b[0m\n\u001b[0;32m      6\u001b[0m     \u001b[0mb\u001b[0m\u001b[1;33m<<\u001b[0m\u001b[0mc\u001b[0m\u001b[1;33m\u001b[0m\u001b[1;33m\u001b[0m\u001b[0m\n",
      "\u001b[1;31mKeyboardInterrupt\u001b[0m: "
     ]
    }
   ],
   "source": [
    "a = 20\n",
    "b = 30\n",
    "while b!=0:\n",
    "    c=a&b\n",
    "    b=a^b\n",
    "    b<<c\n",
    "print(c)"
   ]
  },
  {
   "cell_type": "code",
   "execution_count": 7,
   "id": "4c0265ac",
   "metadata": {},
   "outputs": [
    {
     "name": "stdout",
     "output_type": "stream",
     "text": [
      "Enter Number: 17\n",
      "Prime Number\n"
     ]
    }
   ],
   "source": [
    "class Prime(Exception):\n",
    "    def __init__(self,msg):\n",
    "        self.msg=msg\n",
    "\n",
    "try:\n",
    "    n=int(input('Enter Number: '))\n",
    "    if n<=1:\n",
    "        raise Prime('Not Prime')\n",
    "    for i in range(2,n//2+1):\n",
    "        if n%i==0:\n",
    "            raise Prime('Not Prime')\n",
    "except Prime as msg:\n",
    "    print(msg)\n",
    "else:\n",
    "    print('Prime Number')"
   ]
  },
  {
   "cell_type": "code",
   "execution_count": 77,
   "id": "eec9d37a",
   "metadata": {},
   "outputs": [
    {
     "name": "stdout",
     "output_type": "stream",
     "text": [
      "Enter Number: 54\n",
      "Not Prime\n"
     ]
    }
   ],
   "source": [
    "class Prime(Exception):\n",
    "    def __init__(self,msg):\n",
    "        self.msg=msg\n",
    "\n",
    "try:\n",
    "    n=int(input('Enter Number: '))\n",
    "    if not all(n>1 and n%i!=0 for i in range(2,n//2+1)):\n",
    "        raise Prime('Not Prime')\n",
    "except Prime as msg:\n",
    "    print(msg)\n",
    "else:\n",
    "    print('Prime Number')"
   ]
  },
  {
   "cell_type": "code",
   "execution_count": 26,
   "id": "9e1ef0ca",
   "metadata": {},
   "outputs": [
    {
     "name": "stdout",
     "output_type": "stream",
     "text": [
      "ccabc\n",
      "cbbc\n",
      "abc\n",
      "cc\n",
      "2\n"
     ]
    }
   ],
   "source": [
    "s='abcabc'\n",
    "res=''\n",
    "while len(s)>2:\n",
    "    for i in range(len(s)+1):\n",
    "        if s[i:i+2]=='ab' or s[i:i+2]=='ba':\n",
    "            res+='c'\n",
    "            break\n",
    "        elif s[i:i+2]=='bc' or s[i:i+2]=='cb':\n",
    "            res+='a'\n",
    "            break\n",
    "        elif s[i:i+2]=='ac' or s[i:i+2]=='ca':\n",
    "            res+='b'\n",
    "            break\n",
    "        else:\n",
    "            res+=s[i]\n",
    "    res+=s[i+2:len(s)+1]\n",
    "    print(res)\n",
    "    s=res\n",
    "    res=''\n",
    "print(len(s))"
   ]
  },
  {
   "cell_type": "code",
   "execution_count": 34,
   "id": "4c0a18a9",
   "metadata": {},
   "outputs": [
    {
     "name": "stdout",
     "output_type": "stream",
     "text": [
      "[5, 11, 17, 22, 29, 92]\n"
     ]
    }
   ],
   "source": [
    "#INSERTION SORT\n",
    "L=[11,5,22,17,92,29]\n",
    "for i in range(1,len(L)):\n",
    "    devi=L[i]\n",
    "    j=i-1\n",
    "    while (j>=0 and L[j]>devi):\n",
    "        L[j+1]=L[j]\n",
    "        j-=1\n",
    "    L[j+1]=devi\n",
    "print(L)"
   ]
  },
  {
   "cell_type": "code",
   "execution_count": 1,
   "id": "ca24e4a7",
   "metadata": {},
   "outputs": [
    {
     "name": "stdout",
     "output_type": "stream",
     "text": [
      "[12, 13, 14, 15, 17, 18, 19]\n"
     ]
    }
   ],
   "source": [
    "#MERGE SORT\n",
    "def Devide(arr):\n",
    "    if len(arr)<=1:\n",
    "        return arr\n",
    "    left=arr[:len(arr)//2]\n",
    "    right=arr[len(arr)//2:]\n",
    "    Devide(left)\n",
    "    Devide(right)\n",
    "    Merge(arr,left,right)\n",
    "def Merge(arr,L,R):\n",
    "    ind=li=ri=0\n",
    "    while li<len(L) and ri<len(R):\n",
    "        if (R[ri]<L[li]):\n",
    "            arr[ind]=R[ri]\n",
    "            ind+=1\n",
    "            ri+=1\n",
    "        elif (L[li]<R[ri]):\n",
    "            arr[ind]=L[li]\n",
    "            ind+=1\n",
    "            li+=1\n",
    "    while li<len(L):\n",
    "        arr[ind]=L[li]\n",
    "        ind+=1\n",
    "        li+=1\n",
    "    while ri<len(R):\n",
    "        arr[ind]=R[ri]\n",
    "        ind+=1\n",
    "        ri+=1\n",
    "arr=[18,15,12,14,13,17,19]\n",
    "Devide(arr)\n",
    "print(arr)"
   ]
  },
  {
   "cell_type": "code",
   "execution_count": 30,
   "id": "c1dd7a82",
   "metadata": {},
   "outputs": [
    {
     "name": "stdout",
     "output_type": "stream",
     "text": [
      "True\n",
      "True\n",
      "True\n",
      "True\n",
      "True\n",
      "True\n",
      "True\n",
      "True\n",
      "True\n",
      "True\n",
      "True\n",
      "True\n",
      "True\n",
      "True\n"
     ]
    }
   ],
   "source": [
    "s='chardeviCD1722'\n",
    "for a in s:\n",
    "    if s.isalnum() and a.isdigit() or a.isalpha():\n",
    "        print('True')\n",
    "    elif a.islower() or a.isupper():\n",
    "        print('True')"
   ]
  },
  {
   "cell_type": "code",
   "execution_count": 35,
   "id": "cbb08b29",
   "metadata": {},
   "outputs": [
    {
     "name": "stdout",
     "output_type": "stream",
     "text": [
      "92\n"
     ]
    }
   ],
   "source": [
    "l=[11,17,22,29,92] \n",
    "print(max(l))"
   ]
  },
  {
   "cell_type": "code",
   "execution_count": 1,
   "id": "3f9004a2",
   "metadata": {},
   "outputs": [
    {
     "name": "stdout",
     "output_type": "stream",
     "text": [
      "[6, 4, 4]\n"
     ]
    }
   ],
   "source": [
    "a=['PYTHON','JAVA','MERN']\n",
    "print(list(map(len,a)))"
   ]
  },
  {
   "cell_type": "code",
   "execution_count": 19,
   "id": "a314ba09",
   "metadata": {},
   "outputs": [
    {
     "name": "stdout",
     "output_type": "stream",
     "text": [
      "aa             \n"
     ]
    }
   ],
   "source": [
    "s='aaabbbbccdddddc'\n",
    "res=''\n",
    "for i in range(len(s)):\n",
    "    if s[i:1]==s[i:2]:\n",
    "        res+=' '\n",
    "    else:\n",
    "        res+=s[i]\n",
    "print(res)"
   ]
  },
  {
   "cell_type": "code",
   "execution_count": 3,
   "id": "8877b1db",
   "metadata": {},
   "outputs": [
    {
     "name": "stdout",
     "output_type": "stream",
     "text": [
      "0 S\n",
      "1 \n",
      "1 T\n",
      "2 \n",
      "2 \n",
      "2 R\n",
      "3 \n",
      "3 \n",
      "3 \n",
      "3 O\n",
      "4 \n",
      "4 \n",
      "4 \n",
      "4 \n",
      "4 N\n",
      "5 \n",
      "5 \n",
      "5 \n",
      "5 \n",
      "5 \n",
      "5 G\n"
     ]
    }
   ],
   "source": [
    "s=\"STRONG\"\n",
    "for a in range(len(s)):\n",
    "    for b in range(1,len(s)+1):\n",
    "        if s[a:b]==s[a:b][::-1]:\n",
    "            print(a,s[a:b])"
   ]
  },
  {
   "cell_type": "code",
   "execution_count": 3,
   "id": "25df760f",
   "metadata": {},
   "outputs": [
    {
     "name": "stdout",
     "output_type": "stream",
     "text": [
      "7\n"
     ]
    }
   ],
   "source": [
    "print(int(6==6.0)*3+4%5)"
   ]
  },
  {
   "cell_type": "code",
   "execution_count": 4,
   "id": "0bc1be08",
   "metadata": {},
   "outputs": [
    {
     "name": "stdout",
     "output_type": "stream",
     "text": [
      "Help on class SyntaxError in module builtins:\n",
      "\n",
      "class SyntaxError(Exception)\n",
      " |  Invalid syntax.\n",
      " |  \n",
      " |  Method resolution order:\n",
      " |      SyntaxError\n",
      " |      Exception\n",
      " |      BaseException\n",
      " |      object\n",
      " |  \n",
      " |  Built-in subclasses:\n",
      " |      IndentationError\n",
      " |  \n",
      " |  Methods defined here:\n",
      " |  \n",
      " |  __init__(self, /, *args, **kwargs)\n",
      " |      Initialize self.  See help(type(self)) for accurate signature.\n",
      " |  \n",
      " |  __str__(self, /)\n",
      " |      Return str(self).\n",
      " |  \n",
      " |  ----------------------------------------------------------------------\n",
      " |  Data descriptors defined here:\n",
      " |  \n",
      " |  filename\n",
      " |      exception filename\n",
      " |  \n",
      " |  lineno\n",
      " |      exception lineno\n",
      " |  \n",
      " |  msg\n",
      " |      exception msg\n",
      " |  \n",
      " |  offset\n",
      " |      exception offset\n",
      " |  \n",
      " |  print_file_and_line\n",
      " |      exception print_file_and_line\n",
      " |  \n",
      " |  text\n",
      " |      exception text\n",
      " |  \n",
      " |  ----------------------------------------------------------------------\n",
      " |  Static methods inherited from Exception:\n",
      " |  \n",
      " |  __new__(*args, **kwargs) from builtins.type\n",
      " |      Create and return a new object.  See help(type) for accurate signature.\n",
      " |  \n",
      " |  ----------------------------------------------------------------------\n",
      " |  Methods inherited from BaseException:\n",
      " |  \n",
      " |  __delattr__(self, name, /)\n",
      " |      Implement delattr(self, name).\n",
      " |  \n",
      " |  __getattribute__(self, name, /)\n",
      " |      Return getattr(self, name).\n",
      " |  \n",
      " |  __reduce__(...)\n",
      " |      Helper for pickle.\n",
      " |  \n",
      " |  __repr__(self, /)\n",
      " |      Return repr(self).\n",
      " |  \n",
      " |  __setattr__(self, name, value, /)\n",
      " |      Implement setattr(self, name, value).\n",
      " |  \n",
      " |  __setstate__(...)\n",
      " |  \n",
      " |  with_traceback(...)\n",
      " |      Exception.with_traceback(tb) --\n",
      " |      set self.__traceback__ to tb and return self.\n",
      " |  \n",
      " |  ----------------------------------------------------------------------\n",
      " |  Data descriptors inherited from BaseException:\n",
      " |  \n",
      " |  __cause__\n",
      " |      exception cause\n",
      " |  \n",
      " |  __context__\n",
      " |      exception context\n",
      " |  \n",
      " |  __dict__\n",
      " |  \n",
      " |  __suppress_context__\n",
      " |  \n",
      " |  __traceback__\n",
      " |  \n",
      " |  args\n",
      "\n"
     ]
    }
   ],
   "source": [
    "help(SyntaxError)"
   ]
  },
  {
   "cell_type": "code",
   "execution_count": 7,
   "id": "72c3875c",
   "metadata": {},
   "outputs": [
    {
     "name": "stdout",
     "output_type": "stream",
     "text": [
      "w  wi  wir  wire  i  ir  ire  r  re  e  "
     ]
    }
   ],
   "source": [
    "s='wire'\n",
    "for a in range(0,len(s)):\n",
    "    for b in range(1,len(s)+1):\n",
    "        if s[a:b] !='':\n",
    "            print(s[a:b],end='  ')"
   ]
  },
  {
   "cell_type": "code",
   "execution_count": 5,
   "id": "17628507",
   "metadata": {},
   "outputs": [
    {
     "name": "stdout",
     "output_type": "stream",
     "text": [
      "['w', 'wi', 'wir', 'wire', 'i', 'ir', 'ire', 'r', 're', 'e']\n"
     ]
    }
   ],
   "source": [
    "def substr(s):\n",
    "    l=[]\n",
    "    for a in range(len(s)):\n",
    "        for b in range(1,len(s)+1):\n",
    "            if s[a:b] !='':\n",
    "                l+=[s[a:b]]\n",
    "    return l\n",
    "s='wire'\n",
    "print(substr(s))"
   ]
  },
  {
   "cell_type": "code",
   "execution_count": 15,
   "id": "340f1f25",
   "metadata": {},
   "outputs": [
    {
     "name": "stdout",
     "output_type": "stream",
     "text": [
      "11\n",
      "12\n",
      "13\n",
      "14\n",
      "15\n",
      "16\n",
      "17\n",
      "18\n",
      "19\n",
      "20\n",
      "21\n",
      "22\n"
     ]
    }
   ],
   "source": [
    "import time\n",
    "def devi(n):\n",
    "    while n<=22:\n",
    "        print(n)\n",
    "        time.sleep(2)\n",
    "        n+=1\n",
    "\n",
    "n=11\n",
    "devi(n)"
   ]
  },
  {
   "cell_type": "code",
   "execution_count": null,
   "id": "52f188a2",
   "metadata": {},
   "outputs": [],
   "source": [
    "def fib(n):\n",
    "    if n==1 or n==2:\n",
    "        return n-1\n",
    "    return fib(n-1)+fib(n-2)\n",
    "for i in range(5):\n",
    "    if fib(i):\n",
    "        print(i)"
   ]
  },
  {
   "cell_type": "code",
   "execution_count": 6,
   "id": "172a99c1",
   "metadata": {},
   "outputs": [
    {
     "name": "stdout",
     "output_type": "stream",
     "text": [
      "Before the lambda function is called\n",
      "After the lambda function is called\n",
      "10\n"
     ]
    }
   ],
   "source": [
    "def my_decorator(func):\n",
    "    def wrapper(*args, **kwargs):\n",
    "        print(\"Before the lambda function is called\")\n",
    "        result = func(*args, **kwargs)\n",
    "        print(\"After the lambda function is called\")\n",
    "        return result\n",
    "    return wrapper\n",
    "\n",
    "# Decorate a lambda function\n",
    "decorated_lambda = my_decorator(lambda x: x * 2)\n",
    "\n",
    "# Call the decorated lambda function\n",
    "result = decorated_lambda(5)\n",
    "print(result)"
   ]
  },
  {
   "cell_type": "code",
   "execution_count": 1,
   "id": "d1538ea8",
   "metadata": {},
   "outputs": [
    {
     "name": "stdout",
     "output_type": "stream",
     "text": [
      "Decorating the lambda function\n",
      "Result: 10\n"
     ]
    }
   ],
   "source": [
    "def decorator(func):\n",
    "    def wrapper(*args, **kwargs):\n",
    "        # Add decoration logic here\n",
    "        print(\"Decorating the lambda function\")\n",
    "        result = func(*args, **kwargs)\n",
    "        return result\n",
    "    return wrapper\n",
    "\n",
    "# Create a lambda function\n",
    "my_lambda = lambda x: x * 2\n",
    "\n",
    "# Decorate the lambda function\n",
    "decorated_lambda = decorator(my_lambda)\n",
    "\n",
    "# Call the decorated lambda function\n",
    "result = decorated_lambda(5)\n",
    "\n",
    "# Output the result\n",
    "print(\"Result:\", result)\n"
   ]
  },
  {
   "cell_type": "code",
   "execution_count": 20,
   "id": "493b5e97",
   "metadata": {},
   "outputs": [
    {
     "name": "stdout",
     "output_type": "stream",
     "text": [
      "['A', 'P', 'P', 'L', 'E']\n",
      "APPLE\n"
     ]
    }
   ],
   "source": [
    "L=['A','E','L','P','P']\n",
    "res=[]\n",
    "res+=L[:1] \n",
    "res+=L[3:6]\n",
    "res+=L[2:3]\n",
    "res+=L[1:2]\n",
    "print(res)\n",
    "print(''.join(res))"
   ]
  },
  {
   "cell_type": "code",
   "execution_count": 11,
   "id": "faacd521",
   "metadata": {},
   "outputs": [
    {
     "name": "stdout",
     "output_type": "stream",
     "text": [
      "APPLE\n"
     ]
    }
   ],
   "source": [
    "L = ['A','E','L','P','P']\n",
    "a='apple'\n",
    "for i in range(1,len(L)):\n",
    "    x=L.pop(-1)\n",
    "    L.insert(i,x)\n",
    "print(''.join(L))"
   ]
  },
  {
   "cell_type": "code",
   "execution_count": 7,
   "id": "ea892acb",
   "metadata": {},
   "outputs": [
    {
     "name": "stdout",
     "output_type": "stream",
     "text": [
      "APPLE\n"
     ]
    }
   ],
   "source": [
    "L = ['A','E','L','P','P']\n",
    "a='apple'\n",
    "for i in range(1,len(L)):\n",
    "    x=L.pop(-1)\n",
    "    L.insert(i,x)\n",
    "print(''.join(L))"
   ]
  },
  {
   "cell_type": "code",
   "execution_count": null,
   "id": "9796c574",
   "metadata": {},
   "outputs": [],
   "source": []
  },
  {
   "cell_type": "code",
   "execution_count": 1,
   "id": "9075dea9",
   "metadata": {},
   "outputs": [
    {
     "name": "stdout",
     "output_type": "stream",
     "text": [
      "78\n",
      "39\n"
     ]
    }
   ],
   "source": [
    "T=(12,44,78,90,11,231,50,67,121)\n",
    "L=[]\n",
    "for num in T:\n",
    "    if len(str(num))==2 and num%2==1:\n",
    "        L+=[num]\n",
    "print(sum(L))\n",
    "print(sum(L)//len(L))"
   ]
  },
  {
   "cell_type": "code",
   "execution_count": 2,
   "id": "bc133b3e",
   "metadata": {},
   "outputs": [],
   "source": [
    "with open('data.txt','a') as Devi:\n",
    "    data_str='Do not be pushed around by the fears in your mind.Be led by the dreams in your heart'\n",
    "    Devi.write(data_str)"
   ]
  },
  {
   "cell_type": "code",
   "execution_count": 3,
   "id": "0c8b77d2",
   "metadata": {},
   "outputs": [
    {
     "name": "stdout",
     "output_type": "stream",
     "text": [
      "205\n"
     ]
    }
   ],
   "source": [
    "s={10,73,151,7,55,41,65,117,75,70,19,29,39,100,40,200,44,18}\n",
    "print(sum(list(filter(lambda num:num>40 and num<70,s))))"
   ]
  },
  {
   "cell_type": "code",
   "execution_count": 4,
   "id": "ea029957",
   "metadata": {},
   "outputs": [
    {
     "name": "stdout",
     "output_type": "stream",
     "text": [
      "12 13 14 15 16 17 18 19 20 21 "
     ]
    }
   ],
   "source": [
    "for d in range(12,22):print(d,end=' ')"
   ]
  },
  {
   "cell_type": "code",
   "execution_count": 19,
   "id": "bd40d79d",
   "metadata": {},
   "outputs": [
    {
     "name": "stdout",
     "output_type": "stream",
     "text": [
      "Lengthiest Word is: uday kumar\n",
      "Lengthiest Word Index Position is: 3\n"
     ]
    }
   ],
   "source": [
    "l=['surya','avinash','jaya','uday kumar','anu','palani','vinu']\n",
    "d={}\n",
    "for i in range(len(l)):\n",
    "    if l[i] not in d:\n",
    "        d[l[i]]=len(l[i])\n",
    "        \n",
    "val=list(d.values())\n",
    "h=val[0]\n",
    "for j in range(1,len(val)):\n",
    "    if h<val[j]:\n",
    "        h=val[j]\n",
    "        \n",
    "for k,v in d.items():\n",
    "    if h==v:\n",
    "        print(f'Lengthiest Word is: {k}')\n",
    "        \n",
    "for a in range(len(l)):\n",
    "    if h==len(l[a]):\n",
    "        print(f'Lengthiest Word Index Position is: {a}')"
   ]
  },
  {
   "cell_type": "code",
   "execution_count": 10,
   "id": "d0f10a01",
   "metadata": {},
   "outputs": [
    {
     "name": "stdout",
     "output_type": "stream",
     "text": [
      "list index out of range\n"
     ]
    }
   ],
   "source": [
    "try:\n",
    "    data1=[17,189,90,4,117,28]\n",
    "    print(data1[10])\n",
    "except Exception as msg:\n",
    "    print(msg)\n",
    "else:\n",
    "    print('No Error Occured')"
   ]
  },
  {
   "cell_type": "code",
   "execution_count": 11,
   "id": "3780c2ed",
   "metadata": {},
   "outputs": [
    {
     "name": "stdout",
     "output_type": "stream",
     "text": [
      "{100: 'arjun', 200: 'vijay', 345: 'kiran', 500: 'vani', 181: 'ramesh'}\n"
     ]
    }
   ],
   "source": [
    "d1={100:'arjun',200:'vijay',345:'kiran'}\n",
    "d2={500:'vani',181:'ramesh'}\n",
    "d={}\n",
    "d.update(d1)\n",
    "d.update(d2)\n",
    "print(d)"
   ]
  },
  {
   "cell_type": "code",
   "execution_count": 12,
   "id": "1c7c6a96",
   "metadata": {},
   "outputs": [
    {
     "name": "stdout",
     "output_type": "stream",
     "text": [
      "669\n"
     ]
    }
   ],
   "source": [
    "s='Bangalore 120 Mysore 35 Hassan 117 Mangalore 231 Mandaya 50 Bjipur 116'\n",
    "res=0\n",
    "for a in s.split():\n",
    "    if a.isnumeric():\n",
    "        res+=int(a)\n",
    "print(res)"
   ]
  },
  {
   "cell_type": "code",
   "execution_count": 13,
   "id": "852167b4",
   "metadata": {},
   "outputs": [
    {
     "name": "stdout",
     "output_type": "stream",
     "text": [
      "[15.6, 52.0, 104.0, 20.8, 36.4, 83.2]\n"
     ]
    }
   ],
   "source": [
    "l=[15,50,100,20,35,80]\n",
    "print(list(map(lambda num:(num+num*4/100),l)))"
   ]
  },
  {
   "cell_type": "code",
   "execution_count": 17,
   "id": "d9b18c21",
   "metadata": {},
   "outputs": [
    {
     "name": "stdout",
     "output_type": "stream",
     "text": [
      "1320\n"
     ]
    }
   ],
   "source": [
    "sv=45\n",
    "ev=123\n",
    "step=5\n",
    "add=0\n",
    "while sv<ev:\n",
    "    add+=sv\n",
    "    sv+=step\n",
    "print(add)"
   ]
  },
  {
   "cell_type": "code",
   "execution_count": 2,
   "id": "53de3e86",
   "metadata": {},
   "outputs": [
    {
     "data": {
      "text/plain": [
       "True"
      ]
     },
     "execution_count": 2,
     "metadata": {},
     "output_type": "execute_result"
    }
   ],
   "source": [
    "def prime(n):\n",
    "    if n<1:\n",
    "        return False\n",
    "    for i in range(2,n//2+1):\n",
    "        if n%i==0:\n",
    "            return False\n",
    "    return True\n",
    "print(prime(11))"
   ]
  },
  {
   "cell_type": "code",
   "execution_count": 11,
   "id": "146f69a0",
   "metadata": {},
   "outputs": [
    {
     "name": "stdout",
     "output_type": "stream",
     "text": [
      "Prime Number\n"
     ]
    }
   ],
   "source": [
    "def prime(n,i):\n",
    "    if i==n//2+1:\n",
    "        return True\n",
    "    if n%i==0 or n<=1:\n",
    "        return False\n",
    "    return prime(n,i+1)\n",
    "if prime(11,2):\n",
    "    print ('Prime Number')\n",
    "else:\n",
    "    print ('Not')"
   ]
  },
  {
   "cell_type": "code",
   "execution_count": 14,
   "id": "4641cae3",
   "metadata": {},
   "outputs": [
    {
     "name": "stdout",
     "output_type": "stream",
     "text": [
      "Bow Bow..\n",
      "Walking..\n",
      "Meow Meow..\n",
      "Walking..\n"
     ]
    }
   ],
   "source": [
    "from abc import ABC,abstractmethod\n",
    "\n",
    "class Animal(ABC):\n",
    "    @abstractmethod\n",
    "    def speak(self):\n",
    "        pass\n",
    "    def move(self):\n",
    "        print('Walking..')\n",
    "        \n",
    "class Dog(Animal):\n",
    "    def speak(self):\n",
    "        print('Bow Bow..')\n",
    "    \n",
    "class Cat(Animal):\n",
    "    def speak(self):\n",
    "        print('Meow Meow..')\n",
    "    \n",
    "ob1=Dog()\n",
    "ob2=Cat()\n",
    "ob1.speak()\n",
    "ob1.move()\n",
    "ob2.speak()\n",
    "ob2.move()"
   ]
  },
  {
   "cell_type": "code",
   "execution_count": 16,
   "id": "30875f11",
   "metadata": {},
   "outputs": [
    {
     "name": "stdout",
     "output_type": "stream",
     "text": [
      "Fib\n"
     ]
    }
   ],
   "source": [
    "d=2\n",
    "res=0\n",
    "f,s=0,1\n",
    "while res<d:\n",
    "    res=f+s\n",
    "    f,s=s,res\n",
    "if res==d:\n",
    "    print('Fib')\n",
    "else:\n",
    "    print('Not')"
   ]
  },
  {
   "cell_type": "code",
   "execution_count": 22,
   "id": "6caa05d5",
   "metadata": {},
   "outputs": [
    {
     "name": "stdout",
     "output_type": "stream",
     "text": [
      "Power\n"
     ]
    }
   ],
   "source": [
    "d=128\n",
    "for a in range(d):\n",
    "    if 2**a==d:\n",
    "        print('Power')\n",
    "        break\n",
    "else:\n",
    "    print('Not')"
   ]
  },
  {
   "cell_type": "code",
   "execution_count": 25,
   "id": "4d10e645",
   "metadata": {},
   "outputs": [
    {
     "name": "stdout",
     "output_type": "stream",
     "text": [
      "True\n"
     ]
    }
   ],
   "source": [
    "def power(n,i):\n",
    "    if 2**i>n:\n",
    "        return False\n",
    "    if 2**i==n:\n",
    "        return True\n",
    "    return power(n,i+1)\n",
    "n=128\n",
    "print(power(n,0))"
   ]
  },
  {
   "cell_type": "code",
   "execution_count": 33,
   "id": "2989bb60",
   "metadata": {},
   "outputs": [
    {
     "name": "stdout",
     "output_type": "stream",
     "text": [
      "11\n"
     ]
    }
   ],
   "source": [
    "n=7\n",
    "count=0\n",
    "while count<2:\n",
    "    if all(n%i!=0 and n>1 for i in range(2,n//2+1)):\n",
    "        count+=1\n",
    "        if count==2:\n",
    "            print(n)\n",
    "    n+=1"
   ]
  },
  {
   "cell_type": "code",
   "execution_count": 42,
   "id": "c3307e95",
   "metadata": {},
   "outputs": [
    {
     "name": "stdout",
     "output_type": "stream",
     "text": [
      "2\n",
      "3\n",
      "5\n",
      "7\n",
      "11\n"
     ]
    }
   ],
   "source": [
    "n=2\n",
    "count=0\n",
    "while count<5:\n",
    "    if all(n%i!=0 and n>1 for i in range(2,n//2+1)):\n",
    "        count+=1\n",
    "        print(n)\n",
    "    n+=1"
   ]
  },
  {
   "cell_type": "code",
   "execution_count": 58,
   "id": "fc19a313",
   "metadata": {},
   "outputs": [
    {
     "name": "stdout",
     "output_type": "stream",
     "text": [
      "5 \n",
      "4 3 \n",
      "2 1 0 \n",
      "-1 -2 -3 -4 \n",
      "-5 -6 -7 -8 -9 \n"
     ]
    }
   ],
   "source": [
    "n=5\n",
    "st=1\n",
    "for a in range(n):\n",
    "    for b in range(st):\n",
    "        print(num,end=' ')\n",
    "        num-=1\n",
    "    print()\n",
    "    st+=1\n",
    "    n="
   ]
  },
  {
   "cell_type": "code",
   "execution_count": null,
   "id": "ac95057b",
   "metadata": {},
   "outputs": [],
   "source": [
    "def fib(n):\n",
    "    if n==1 or n==2:\n",
    "        return n-1\n",
    "    return fib(n-1)+fib(n-2)\n",
    "for i in range(5):\n",
    "    print(fib(i))"
   ]
  },
  {
   "cell_type": "code",
   "execution_count": null,
   "id": "e9c5e4c7",
   "metadata": {},
   "outputs": [],
   "source": []
  },
  {
   "cell_type": "code",
   "execution_count": null,
   "id": "ed7a0265",
   "metadata": {},
   "outputs": [],
   "source": []
  },
  {
   "cell_type": "code",
   "execution_count": null,
   "id": "1f5e1476",
   "metadata": {},
   "outputs": [],
   "source": []
  },
  {
   "cell_type": "code",
   "execution_count": null,
   "id": "282036c4",
   "metadata": {},
   "outputs": [],
   "source": []
  },
  {
   "cell_type": "code",
   "execution_count": null,
   "id": "404bbc41",
   "metadata": {},
   "outputs": [],
   "source": []
  },
  {
   "cell_type": "code",
   "execution_count": null,
   "id": "93ba2e78",
   "metadata": {},
   "outputs": [],
   "source": []
  },
  {
   "cell_type": "code",
   "execution_count": null,
   "id": "02432506",
   "metadata": {},
   "outputs": [],
   "source": []
  },
  {
   "cell_type": "code",
   "execution_count": null,
   "id": "369be3fc",
   "metadata": {},
   "outputs": [],
   "source": []
  }
 ],
 "metadata": {
  "kernelspec": {
   "display_name": "Python 3 (ipykernel)",
   "language": "python",
   "name": "python3"
  },
  "language_info": {
   "codemirror_mode": {
    "name": "ipython",
    "version": 3
   },
   "file_extension": ".py",
   "mimetype": "text/x-python",
   "name": "python",
   "nbconvert_exporter": "python",
   "pygments_lexer": "ipython3",
   "version": "3.9.13"
  }
 },
 "nbformat": 4,
 "nbformat_minor": 5
}
