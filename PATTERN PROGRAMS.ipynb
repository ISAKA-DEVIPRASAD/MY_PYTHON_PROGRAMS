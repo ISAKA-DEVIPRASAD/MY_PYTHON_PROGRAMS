{
 "cells": [
  {
   "cell_type": "code",
   "execution_count": 3,
   "id": "1e187d58",
   "metadata": {},
   "outputs": [
    {
     "name": "stdout",
     "output_type": "stream",
     "text": [
      "* * * * * \n",
      "* * * * * \n",
      "* * * * * \n",
      "* * * * * \n",
      "* * * * * \n"
     ]
    }
   ],
   "source": [
    "d=5\n",
    "for x in range(d):\n",
    "    for y in range(d):\n",
    "        print('*',end=' ')\n",
    "    print()"
   ]
  },
  {
   "cell_type": "code",
   "execution_count": 21,
   "id": "07dd0226",
   "metadata": {},
   "outputs": [
    {
     "name": "stdout",
     "output_type": "stream",
     "text": [
      "* * * * * * * \n",
      "* * * * * * * \n",
      "* * * * * * * \n",
      "* * * * * * * \n",
      "* * * * * * * \n"
     ]
    }
   ],
   "source": [
    "d=5\n",
    "n=7\n",
    "for x in range(5):\n",
    "    for y in range(7):\n",
    "        print('*',end=' ')\n",
    "    print()"
   ]
  },
  {
   "cell_type": "code",
   "execution_count": 8,
   "id": "48b77750",
   "metadata": {},
   "outputs": [
    {
     "name": "stdout",
     "output_type": "stream",
     "text": [
      "            * \n",
      "          * * \n",
      "        * * * \n",
      "      * * * * \n",
      "    * * * * * \n",
      "  * * * * * * \n",
      "* * * * * * * \n"
     ]
    }
   ],
   "source": [
    "d=7\n",
    "st=1\n",
    "sp=d-1\n",
    "for a in range(d):\n",
    "    for b in range(sp):\n",
    "        print(' ',end=' ')\n",
    "    for c in range(st):\n",
    "        print('*',end=' ')\n",
    "    print()\n",
    "    st+=1\n",
    "    sp-=1"
   ]
  },
  {
   "cell_type": "code",
   "execution_count": 9,
   "id": "7bba4e96",
   "metadata": {},
   "outputs": [
    {
     "name": "stdout",
     "output_type": "stream",
     "text": [
      "* * * * * * * \n",
      "* * * * * * \n",
      "* * * * * \n",
      "* * * * \n",
      "* * * \n",
      "* * \n",
      "* \n"
     ]
    }
   ],
   "source": [
    "d=7\n",
    "st=d\n",
    "for m in range(d):\n",
    "    for n in range(st):\n",
    "        print('*',end=' ')\n",
    "    print()\n",
    "    st-=1\n",
    "    "
   ]
  },
  {
   "cell_type": "code",
   "execution_count": 20,
   "id": "77dbed56",
   "metadata": {},
   "outputs": [
    {
     "name": "stdout",
     "output_type": "stream",
     "text": [
      "* * * * * * * \n",
      "  * * * * * * \n",
      "    * * * * * \n",
      "      * * * * \n",
      "        * * * \n",
      "          * * \n",
      "            * \n"
     ]
    }
   ],
   "source": [
    "d=7\n",
    "st=7\n",
    "sp=0\n",
    "for p in range(d):\n",
    "    for q in range(sp):\n",
    "        print(' ',end=' ')\n",
    "    for r in range(st):\n",
    "        print('*',end=' ')\n",
    "    print()\n",
    "    st-=1\n",
    "    sp+=1"
   ]
  },
  {
   "cell_type": "code",
   "execution_count": 25,
   "id": "422489bf",
   "metadata": {},
   "outputs": [
    {
     "name": "stdout",
     "output_type": "stream",
     "text": [
      "            * \n",
      "          * * * \n",
      "        * * * * * \n",
      "      * * * * * * * \n",
      "    * * * * * * * * * \n",
      "  * * * * * * * * * * * \n",
      "* * * * * * * * * * * * * \n"
     ]
    }
   ],
   "source": [
    "d=7\n",
    "st=1\n",
    "sp=d-1\n",
    "for x in range(d):\n",
    "    for y in range(sp):\n",
    "        print(' ',end=' ')\n",
    "    for z in range(st):\n",
    "        print('*',end=' ')\n",
    "    print()\n",
    "    st+=2\n",
    "    sp-=1"
   ]
  },
  {
   "cell_type": "code",
   "execution_count": 2,
   "id": "d1bb22cf",
   "metadata": {},
   "outputs": [
    {
     "name": "stdout",
     "output_type": "stream",
     "text": [
      "* * * * * * * * * * * * * \n",
      "  * * * * * * * * * * * \n",
      "    * * * * * * * * * \n",
      "      * * * * * * * \n",
      "        * * * * * \n",
      "          * * * \n",
      "            * \n"
     ]
    }
   ],
   "source": [
    "d=7\n",
    "st=2*d-1\n",
    "sp=0\n",
    "for x in range(d):\n",
    "    for y in range(sp):\n",
    "        print(' ',end=' ')\n",
    "    for z in range(st):\n",
    "        print('*',end=' ')\n",
    "    print()\n",
    "    st-=2\n",
    "    sp+=1"
   ]
  },
  {
   "cell_type": "code",
   "execution_count": 7,
   "id": "2db9a7a8",
   "metadata": {},
   "outputs": [
    {
     "name": "stdout",
     "output_type": "stream",
     "text": [
      "      * \n",
      "    * * * \n",
      "  * * * * * \n",
      "* * * * * * * \n",
      "  * * * * * \n",
      "    * * * \n",
      "      * \n"
     ]
    }
   ],
   "source": [
    "n=7\n",
    "st=1\n",
    "sp=n//2\n",
    "for a in range(n):\n",
    "    for b in range(sp):\n",
    "        print(' ',end=' ')\n",
    "    for c in range(st):\n",
    "        print('*',end=' ')\n",
    "    print()\n",
    "    if a<n//2:\n",
    "        sp-=1\n",
    "        st+=2\n",
    "    else:\n",
    "        sp+=1\n",
    "        st-=2"
   ]
  },
  {
   "cell_type": "code",
   "execution_count": 2,
   "id": "6476485f",
   "metadata": {},
   "outputs": [
    {
     "name": "stdout",
     "output_type": "stream",
     "text": [
      "            * \n",
      "          * * \n",
      "        * * * \n",
      "      * * * * \n",
      "        * * * \n",
      "          * * \n",
      "            * \n"
     ]
    }
   ],
   "source": [
    "n=7\n",
    "sp=n-1\n",
    "st=1\n",
    "for a in range(n):\n",
    "    for b in range(sp):\n",
    "        print(' ',end=' ')\n",
    "    for c in range(st):\n",
    "        print('*',end=' ')\n",
    "    print()\n",
    "    if a<n//2:\n",
    "        sp-=1\n",
    "        st+=1\n",
    "    else:\n",
    "        sp+=1\n",
    "        st-=1"
   ]
  },
  {
   "cell_type": "code",
   "execution_count": 2,
   "id": "e08cd451",
   "metadata": {},
   "outputs": [
    {
     "name": "stdout",
     "output_type": "stream",
     "text": [
      "* \n",
      "* * \n",
      "* * * \n",
      "* * * * \n",
      "* * * \n",
      "* * \n",
      "* \n"
     ]
    }
   ],
   "source": [
    "n=7\n",
    "sp=n-n\n",
    "st=n-n+1\n",
    "for a in range(n):\n",
    "    for b in range(sp):\n",
    "        print(' ',end=' ')\n",
    "    for c in range(st):\n",
    "        print('*',end=' ')\n",
    "    print()\n",
    "    if a<n//2:\n",
    "        sp+=0\n",
    "        st+=1\n",
    "    else:\n",
    "        sp-=0\n",
    "        st-=1"
   ]
  },
  {
   "cell_type": "code",
   "execution_count": 5,
   "id": "f0565cf9",
   "metadata": {},
   "outputs": [
    {
     "name": "stdout",
     "output_type": "stream",
     "text": [
      "            * \n",
      "              * \n",
      "                * \n",
      "                  * \n",
      "                * \n",
      "              * \n",
      "            * \n"
     ]
    }
   ],
   "source": [
    "n=7\n",
    "sp=n-1\n",
    "st=1\n",
    "for x in range(n):\n",
    "    for y in range(sp):\n",
    "        print(' ',end=' ')\n",
    "    for z in range(st):\n",
    "        print('*',end=' ')\n",
    "    print()\n",
    "    if x<n//2:\n",
    "        sp+=1\n",
    "    else:\n",
    "        sp-=1"
   ]
  },
  {
   "cell_type": "code",
   "execution_count": 11,
   "id": "b6cc8cd9",
   "metadata": {},
   "outputs": [
    {
     "name": "stdout",
     "output_type": "stream",
     "text": [
      "            * \n",
      "          * \n",
      "        * \n",
      "      * \n",
      "        * \n",
      "          * \n",
      "            * \n"
     ]
    }
   ],
   "source": [
    "n=7\n",
    "sp=n-1\n",
    "st=1\n",
    "for x in range(n):\n",
    "    for y in range(sp):\n",
    "        print(' ',end=' ')\n",
    "    for z in range(st):\n",
    "        print('*',end=' ')\n",
    "    print()\n",
    "    if x<n//2:\n",
    "        sp-=1\n",
    "    else:\n",
    "        sp+=1"
   ]
  },
  {
   "cell_type": "code",
   "execution_count": 5,
   "id": "9ca513a4",
   "metadata": {},
   "outputs": [
    {
     "name": "stdout",
     "output_type": "stream",
     "text": [
      "1 1 1 1 1 \n",
      "2 2 2 2 2 \n",
      "3 3 3 3 3 \n",
      "4 4 4 4 4 \n",
      "5 5 5 5 5 \n"
     ]
    }
   ],
   "source": [
    "n=5\n",
    "num=1\n",
    "for x in range(n):\n",
    "    for y in range(n):\n",
    "        print(num,end=' ')\n",
    "    print()\n",
    "    num+=1"
   ]
  },
  {
   "cell_type": "code",
   "execution_count": 2,
   "id": "fa2cb46e",
   "metadata": {},
   "outputs": [
    {
     "name": "stdout",
     "output_type": "stream",
     "text": [
      "1 2 3 4 5 \n",
      "1 2 3 4 5 \n",
      "1 2 3 4 5 \n",
      "1 2 3 4 5 \n",
      "1 2 3 4 5 \n"
     ]
    }
   ],
   "source": [
    "n=5\n",
    "num=1\n",
    "st=n\n",
    "for x in range(n):\n",
    "    num=1\n",
    "    for y in range(st):\n",
    "        print(num,end=' ')\n",
    "        num+=1\n",
    "    print()"
   ]
  },
  {
   "cell_type": "code",
   "execution_count": 31,
   "id": "e73f835b",
   "metadata": {},
   "outputs": [
    {
     "name": "stdout",
     "output_type": "stream",
     "text": [
      "1 \n",
      "1 2 \n",
      "1 2 3 \n",
      "1 2 3 4 \n",
      "1 2 3 4 5 \n"
     ]
    }
   ],
   "source": [
    "n=5\n",
    "st=1\n",
    "for x in range(n):\n",
    "    num=1\n",
    "    for y in range(st):\n",
    "        print(num,end=' ')\n",
    "        num+=1\n",
    "    print()\n",
    "    st+=1"
   ]
  },
  {
   "cell_type": "code",
   "execution_count": 30,
   "id": "df9c1bd3",
   "metadata": {},
   "outputs": [
    {
     "name": "stdout",
     "output_type": "stream",
     "text": [
      "5 \n",
      "5 4 \n",
      "5 4 3 \n",
      "5 4 3 2 \n",
      "5 4 3 2 1 \n"
     ]
    }
   ],
   "source": [
    "n=5\n",
    "st=1\n",
    "for x in range(n):\n",
    "    num=5\n",
    "    for y in range(st):\n",
    "        print(num,end=' ')\n",
    "        num-=1\n",
    "    print()\n",
    "    st+=1"
   ]
  },
  {
   "cell_type": "code",
   "execution_count": 8,
   "id": "c086bf59",
   "metadata": {},
   "outputs": [
    {
     "name": "stdout",
     "output_type": "stream",
     "text": [
      "        1 \n",
      "      1 2 3 \n",
      "    1 2 3 4 5 \n",
      "  1 2 3 4 5 6 7 \n",
      "1 2 3 4 5 6 7 8 9 \n"
     ]
    }
   ],
   "source": [
    "n=5\n",
    "st=1\n",
    "sp=n-1\n",
    "for x in range(n):\n",
    "    num=1\n",
    "    for y in range(sp):\n",
    "        print(' ',end=' ')\n",
    "    for z in range(st):\n",
    "        print(num,end=' ')\n",
    "        num+=1\n",
    "    print()\n",
    "    st+=2\n",
    "    sp-=1"
   ]
  },
  {
   "cell_type": "code",
   "execution_count": 11,
   "id": "d3ba47e6",
   "metadata": {},
   "outputs": [
    {
     "name": "stdout",
     "output_type": "stream",
     "text": [
      "        1 \n",
      "      3 2 1 \n",
      "    5 4 3 2 1 \n",
      "  7 6 5 4 3 2 1 \n",
      "9 8 7 6 5 4 3 2 1 \n"
     ]
    }
   ],
   "source": [
    "n=5\n",
    "st=1\n",
    "sp=n-1\n",
    "for a in range(n):\n",
    "    num=st\n",
    "    for b in range(sp):\n",
    "        print(' ',end=' ')\n",
    "    for c in range(st):\n",
    "        print(num,end=' ')\n",
    "        num-=1\n",
    "    print()\n",
    "    st+=2\n",
    "    sp-=1"
   ]
  },
  {
   "cell_type": "code",
   "execution_count": 6,
   "id": "a52490c8",
   "metadata": {},
   "outputs": [
    {
     "name": "stdout",
     "output_type": "stream",
     "text": [
      "        5 \n",
      "      5 4 3 \n",
      "    5 4 3 2 1 \n",
      "      5 4 3 \n",
      "        5 \n"
     ]
    }
   ],
   "source": [
    "n=5\n",
    "st=1\n",
    "sp=n-1\n",
    "for a in range(n):\n",
    "    num=5\n",
    "    for b in range(sp):\n",
    "        print(' ',end=' ')\n",
    "    for c in range(st):\n",
    "        print(num,end=' ')\n",
    "        num-=1\n",
    "    print()\n",
    "    if a<n//2: \n",
    "        st+=2\n",
    "        sp-=1\n",
    "    else:\n",
    "        st-=2\n",
    "        sp+=1"
   ]
  },
  {
   "cell_type": "code",
   "execution_count": 25,
   "id": "b5bc261f",
   "metadata": {},
   "outputs": [
    {
     "name": "stdout",
     "output_type": "stream",
     "text": [
      "      1 \n",
      "    1 2 1 \n",
      "  1 2 3 2 1 \n",
      "1 2 3 4 3 2 1 \n",
      "  1 2 3 2 1 \n",
      "    1 2 1 \n",
      "      1 \n"
     ]
    }
   ],
   "source": [
    "n=7\n",
    "st=1\n",
    "sp=n//2\n",
    "for a in range(n):\n",
    "    num=1\n",
    "    for b in range(sp):\n",
    "        print(' ',end=' ')\n",
    "    for c in range(st):\n",
    "        print(num,end=' ')\n",
    "        num=num+1 if c<st//2 else num-1\n",
    "    print()\n",
    "    if a<n//2: \n",
    "        st+=2\n",
    "        sp-=1\n",
    "    else:\n",
    "        st-=2\n",
    "        sp+=1"
   ]
  },
  {
   "cell_type": "code",
   "execution_count": 28,
   "id": "8374874a",
   "metadata": {},
   "outputs": [
    {
     "name": "stdout",
     "output_type": "stream",
     "text": [
      "        5 \n",
      "      4 5 4 \n",
      "    3 4 5 4 3 \n",
      "  2 3 4 5 4 3 2 \n",
      "1 2 3 4 5 4 3 2 1 \n",
      "  2 3 4 5 4 3 2 \n",
      "    3 4 5 4 3 \n",
      "      4 5 4 \n",
      "        5 \n"
     ]
    }
   ],
   "source": [
    "n=9\n",
    "st=1\n",
    "sp=n//2\n",
    "for a in range(n):\n",
    "    num=sp+1\n",
    "    for b in range(sp):\n",
    "        print(' ',end=' ')\n",
    "    for c in range(st):\n",
    "        print(num,end=' ')\n",
    "        num=num+1 if c<st//2 else num-1\n",
    "    print()\n",
    "    if a<n//2: \n",
    "        st+=2\n",
    "        sp-=1\n",
    "    else:\n",
    "        st-=2\n",
    "        sp+=1"
   ]
  },
  {
   "cell_type": "code",
   "execution_count": 34,
   "id": "4c37088f",
   "metadata": {},
   "outputs": [
    {
     "name": "stdout",
     "output_type": "stream",
     "text": [
      "      1 \n",
      "    2 1 2 \n",
      "  3 2 1 2 3 \n",
      "4 3 2 1 2 3 4 \n",
      "  3 2 1 2 3 \n",
      "    2 1 2 \n",
      "      1 \n"
     ]
    }
   ],
   "source": [
    "n=7\n",
    "st=1\n",
    "sp=n//2\n",
    "for a in range(n):\n",
    "    num=st//2+1\n",
    "    for b in range(sp):\n",
    "        print(' ',end=' ')\n",
    "    for c in range(st):\n",
    "        print(num,end=' ')\n",
    "        num=num-1 if c<st//2 else num+1\n",
    "    print()\n",
    "    if a<n//2: \n",
    "        st+=2\n",
    "        sp-=1\n",
    "    else:\n",
    "        st-=2\n",
    "        sp+=1"
   ]
  },
  {
   "cell_type": "code",
   "execution_count": 36,
   "id": "a5c1987f",
   "metadata": {},
   "outputs": [
    {
     "name": "stdout",
     "output_type": "stream",
     "text": [
      "        5 \n",
      "      5 4 5 \n",
      "    5 4 3 4 5 \n",
      "  5 4 3 2 3 4 5 \n",
      "5 4 3 2 1 2 3 4 5 \n",
      "  5 4 3 2 3 4 5 \n",
      "    5 4 3 4 5 \n",
      "      5 4 5 \n",
      "        5 \n"
     ]
    }
   ],
   "source": [
    "n=9\n",
    "st=1\n",
    "sp=n//2\n",
    "for a in range(n):\n",
    "    num=5\n",
    "    for b in range(sp):\n",
    "        print(' ',end=' ')\n",
    "    for c in range(st):\n",
    "        print(num,end=' ')\n",
    "        num=num-1 if c<st//2 else num+1\n",
    "    print()\n",
    "    if a<n//2: \n",
    "        st+=2\n",
    "        sp-=1\n",
    "    else:\n",
    "        st-=2\n",
    "        sp+=1"
   ]
  },
  {
   "cell_type": "code",
   "execution_count": 39,
   "id": "0c374ddb",
   "metadata": {},
   "outputs": [
    {
     "name": "stdout",
     "output_type": "stream",
     "text": [
      "enter value of n5\n",
      "1 2 3 4 5 \n",
      "  1 2 3 \n",
      "    1 \n",
      "  1 2 3 \n",
      "1 2 3 4 5 \n"
     ]
    }
   ],
   "source": [
    "n=int(input('enter value of n'))\n",
    "st=n\n",
    "sp=0\n",
    "for x in range(n):\n",
    "    num=1\n",
    "    for y in range(sp):\n",
    "        print(' ',end=' ')\n",
    "    for z in range(st):\n",
    "        print(num,end=' ')\n",
    "        num=num+1\n",
    "    print()\n",
    "    if x<n//2:\n",
    "        st=st-2\n",
    "        sp=sp+1\n",
    "    else:\n",
    "        st=st+2\n",
    "        sp=sp-1"
   ]
  },
  {
   "cell_type": "code",
   "execution_count": 43,
   "id": "c1ee54cd",
   "metadata": {},
   "outputs": [
    {
     "name": "stdout",
     "output_type": "stream",
     "text": [
      "      1 \n",
      "    2 4 2 \n",
      "  1 2 3 2 1 \n",
      "2 4 6 8 6 4 2 \n",
      "  1 2 3 2 1 \n",
      "    2 4 2 \n",
      "      1 \n"
     ]
    }
   ],
   "source": [
    "n=7\n",
    "st=1\n",
    "sp=n//2\n",
    "for x in range(1,n+1):\n",
    "    num=1\n",
    "    if x%2==0:\n",
    "        num=2\n",
    "    for y in range(sp):\n",
    "        print(' ',end=' ')\n",
    "    for z in range(st):\n",
    "        print(num,end=' ')\n",
    "        if x%2==0:\n",
    "            num=num+2 if z<st//2 else num-2\n",
    "        else:\n",
    "            num=num+1 if z<st//2 else num-1\n",
    "    print()\n",
    "    if x<n//2+1:\n",
    "        st+=2\n",
    "        sp-=1\n",
    "    else:\n",
    "        st-=2\n",
    "        sp+=1"
   ]
  },
  {
   "cell_type": "code",
   "execution_count": 14,
   "id": "fc0a1cf6",
   "metadata": {},
   "outputs": [
    {
     "name": "stdout",
     "output_type": "stream",
     "text": [
      "    1 \n",
      "  2 1 2 \n",
      "3 2 1 2 3 \n",
      "  2 1 2 \n",
      "    1 \n"
     ]
    }
   ],
   "source": [
    "n=5\n",
    "st=1\n",
    "sp=n//2\n",
    "num=n\n",
    "for i in range(n):\n",
    "    num=st//2+1\n",
    "    for j in range(sp):\n",
    "        print(' ',end=' ')\n",
    "    for k in range(st):\n",
    "        print(num,end=' ')\n",
    "        num=num-1 if k<st//2 else num+1\n",
    "    print()\n",
    "    if i<n//2:\n",
    "        st+=2\n",
    "        sp-=1\n",
    "    else:\n",
    "        st-=2\n",
    "        sp+=1     "
   ]
  },
  {
   "cell_type": "code",
   "execution_count": 18,
   "id": "00f38c3e",
   "metadata": {},
   "outputs": [
    {
     "name": "stdout",
     "output_type": "stream",
     "text": [
      "1\n",
      "2\n",
      "3\n",
      "4\n",
      "5\n",
      "6\n",
      "7\n",
      "8\n",
      "9\n",
      "10\n"
     ]
    }
   ],
   "source": [
    "n=10\n",
    "for i in range(1,n+1):\n",
    "    print(i)"
   ]
  },
  {
   "cell_type": "code",
   "execution_count": 19,
   "id": "177eb012",
   "metadata": {},
   "outputs": [
    {
     "name": "stdout",
     "output_type": "stream",
     "text": [
      "10\n",
      "9\n",
      "8\n",
      "7\n",
      "6\n",
      "5\n",
      "4\n",
      "3\n",
      "2\n",
      "1\n"
     ]
    }
   ],
   "source": [
    "n=10\n",
    "for j in range(n,0,-1):\n",
    "    print(j)"
   ]
  },
  {
   "cell_type": "code",
   "execution_count": 73,
   "id": "a5a7c17b",
   "metadata": {},
   "outputs": [
    {
     "name": "stdout",
     "output_type": "stream",
     "text": [
      "1     10\n",
      "2     9\n",
      "3     8\n",
      "4     7\n",
      "5     6\n",
      "6     5\n",
      "7     4\n",
      "8     3\n",
      "9     2\n",
      "10     1\n"
     ]
    }
   ],
   "source": [
    "c=10\n",
    "d=c\n",
    "for i in range(1,c+1):\n",
    "    print(f'{i}     {d}')\n",
    "    d-=1"
   ]
  },
  {
   "cell_type": "code",
   "execution_count": 11,
   "id": "49b044b4",
   "metadata": {},
   "outputs": [
    {
     "name": "stdout",
     "output_type": "stream",
     "text": [
      "1\n",
      "2\n",
      "3\n",
      "4\n",
      "5\n",
      "6\n",
      "7\n",
      "8\n",
      "9\n",
      "10\n"
     ]
    }
   ],
   "source": [
    "n=1\n",
    "while n<11:\n",
    "    print(n)\n",
    "    n+=1"
   ]
  },
  {
   "cell_type": "code",
   "execution_count": 76,
   "id": "58250346",
   "metadata": {},
   "outputs": [
    {
     "name": "stdout",
     "output_type": "stream",
     "text": [
      "-10\n",
      "-9\n",
      "-8\n",
      "-7\n",
      "-6\n",
      "-5\n",
      "-4\n",
      "-3\n",
      "-2\n",
      "-1\n"
     ]
    }
   ],
   "source": [
    "n=-10\n",
    "while n<0:\n",
    "    print(n)\n",
    "    n+=1"
   ]
  },
  {
   "cell_type": "code",
   "execution_count": 79,
   "id": "9f295449",
   "metadata": {},
   "outputs": [
    {
     "name": "stdout",
     "output_type": "stream",
     "text": [
      "* \n",
      "* * \n",
      "* * * \n",
      "* * \n",
      "* \n"
     ]
    }
   ],
   "source": [
    "c=5\n",
    "d=1\n",
    "for i in range(1,c+1):\n",
    "    print('* '*d)\n",
    "    d=d+1 if i<c//2+1 else d-1"
   ]
  },
  {
   "cell_type": "code",
   "execution_count": 88,
   "id": "41095a29",
   "metadata": {},
   "outputs": [
    {
     "name": "stdout",
     "output_type": "stream",
     "text": [
      "1 2 3 4 5 \n",
      "1 2 3 4 5 \n",
      "1 2 3 4 5 \n",
      "1 2 3 4 5 \n",
      "1 2 3 4 5 \n"
     ]
    }
   ],
   "source": [
    "n=5\n",
    "for i in range(n):\n",
    "    for j in range(1,n+1):\n",
    "        print(j,end=' ')\n",
    "    print()"
   ]
  },
  {
   "cell_type": "code",
   "execution_count": 89,
   "id": "559bb37e",
   "metadata": {},
   "outputs": [
    {
     "name": "stdout",
     "output_type": "stream",
     "text": [
      "5 4 3 2 1 \n",
      "5 4 3 2 1 \n",
      "5 4 3 2 1 \n",
      "5 4 3 2 1 \n",
      "5 4 3 2 1 \n"
     ]
    }
   ],
   "source": [
    "n=5\n",
    "for i in range(n):\n",
    "    for j in range(n,0,-1):\n",
    "        print(j,end=' ')\n",
    "    print()"
   ]
  },
  {
   "cell_type": "code",
   "execution_count": 90,
   "id": "a74298fb",
   "metadata": {},
   "outputs": [
    {
     "name": "stdout",
     "output_type": "stream",
     "text": [
      "5 \n",
      "4 5 \n",
      "3 4 5 \n",
      "2 3 4 5 \n",
      "1 2 3 4 5 \n"
     ]
    }
   ],
   "source": [
    "n=5\n",
    "for i in range(n,0,-1):\n",
    "    for j in range(i,n+1):\n",
    "        print(j,end=' ')\n",
    "    print()"
   ]
  },
  {
   "cell_type": "code",
   "execution_count": 91,
   "id": "5653a088",
   "metadata": {},
   "outputs": [
    {
     "name": "stdout",
     "output_type": "stream",
     "text": [
      "1 \n",
      "1 2 \n",
      "1 2 3 \n",
      "1 2 3 4 \n",
      "1 2 3 4 5 \n"
     ]
    }
   ],
   "source": [
    "n=5\n",
    "for i in range(1,n+1):\n",
    "    for j in range(1,i+1):\n",
    "        print(j,end=' ')\n",
    "    print()"
   ]
  },
  {
   "cell_type": "code",
   "execution_count": 92,
   "id": "fb673ab6",
   "metadata": {},
   "outputs": [
    {
     "name": "stdout",
     "output_type": "stream",
     "text": [
      "1 2 3 4 5 \n",
      "2 3 4 5 \n",
      "3 4 5 \n",
      "4 5 \n",
      "5 \n"
     ]
    }
   ],
   "source": [
    "n=5\n",
    "for i in range(1,n+1):\n",
    "    for j in range(i,n+1):\n",
    "        print(j,end=' ')\n",
    "    print()"
   ]
  },
  {
   "cell_type": "code",
   "execution_count": 93,
   "id": "3ceaf5da",
   "metadata": {},
   "outputs": [
    {
     "name": "stdout",
     "output_type": "stream",
     "text": [
      "5 4 3 2 1 \n",
      "4 3 2 1 \n",
      "3 2 1 \n",
      "2 1 \n",
      "1 \n"
     ]
    }
   ],
   "source": [
    "n=5\n",
    "for i in range(n,0,-1):\n",
    "    for j in range(i,0,-1):\n",
    "        print(j,end=' ')\n",
    "    print()"
   ]
  },
  {
   "cell_type": "code",
   "execution_count": 94,
   "id": "db072927",
   "metadata": {},
   "outputs": [
    {
     "name": "stdout",
     "output_type": "stream",
     "text": [
      "1 2 3 4 5 \n",
      "1 2 3 4 \n",
      "1 2 3 \n",
      "1 2 \n",
      "1 \n",
      "\n"
     ]
    }
   ],
   "source": [
    "n=5\n",
    "for i in range(n+1,0,-1):\n",
    "    for j in range(1,i):\n",
    "        print(j,end=' ')\n",
    "    print()"
   ]
  },
  {
   "cell_type": "code",
   "execution_count": 97,
   "id": "3701c69f",
   "metadata": {},
   "outputs": [
    {
     "name": "stdout",
     "output_type": "stream",
     "text": [
      "5 4 3 2 1 \n",
      "5 4 3 2 1 \n",
      "5 4 3 2 1 \n",
      "5 4 3 2 1 \n",
      "5 4 3 2 1 \n"
     ]
    }
   ],
   "source": [
    "n=5\n",
    "for i in range(n):\n",
    "    j=n\n",
    "    while(j!=0):\n",
    "        print(j,end=' ')\n",
    "        j-=1\n",
    "    print()"
   ]
  },
  {
   "cell_type": "code",
   "execution_count": 103,
   "id": "639ac528",
   "metadata": {},
   "outputs": [
    {
     "name": "stdout",
     "output_type": "stream",
     "text": [
      "        5 \n",
      "      4 5 \n",
      "    3 4 5 \n",
      "  2 3 4 5 \n",
      "1 2 3 4 5 \n"
     ]
    }
   ],
   "source": [
    "n=5\n",
    "a=n-1\n",
    "for i in range(n,0,-1):\n",
    "    print('  '*a,end='')\n",
    "    for j in range(i,n+1):\n",
    "        print(j,end=' ')\n",
    "    print()\n",
    "    a-=1"
   ]
  },
  {
   "cell_type": "code",
   "execution_count": 105,
   "id": "0d894f47",
   "metadata": {},
   "outputs": [
    {
     "name": "stdout",
     "output_type": "stream",
     "text": [
      "5 4 3 2 1 \n",
      "  4 3 2 1 \n",
      "    3 2 1 \n",
      "      2 1 \n",
      "        1 \n"
     ]
    }
   ],
   "source": [
    "n=5\n",
    "a=0\n",
    "for i in range(n,0,-1):\n",
    "    print('  '*a,end='')\n",
    "    for j in range(i,0,-1):\n",
    "        print(j,end=' ')\n",
    "    print()\n",
    "    a+=1"
   ]
  },
  {
   "cell_type": "code",
   "execution_count": 106,
   "id": "9de6cd7b",
   "metadata": {},
   "outputs": [
    {
     "name": "stdout",
     "output_type": "stream",
     "text": [
      "        1 \n",
      "      1 2 \n",
      "    1 2 3 \n",
      "  1 2 3 4 \n",
      "1 2 3 4 5 \n"
     ]
    }
   ],
   "source": [
    "n=5\n",
    "a=n-1\n",
    "for i in range(2,n+2):\n",
    "    print('  '*a,end='')\n",
    "    for j in range(1,i):\n",
    "        print(j,end=' ')\n",
    "    print()\n",
    "    a-=1"
   ]
  },
  {
   "cell_type": "code",
   "execution_count": 107,
   "id": "a393c896",
   "metadata": {},
   "outputs": [
    {
     "name": "stdout",
     "output_type": "stream",
     "text": [
      "1 2 3 4 5 \n",
      "  1 2 3 4 \n",
      "    1 2 3 \n",
      "      1 2 \n",
      "        1 \n"
     ]
    }
   ],
   "source": [
    "n=5\n",
    "a=0\n",
    "for i in range(n+1,1,-1):\n",
    "    print('  '*a,end='')\n",
    "    for j in range(1,i):\n",
    "        print(j,end=' ')\n",
    "    print()\n",
    "    a+=1"
   ]
  },
  {
   "cell_type": "code",
   "execution_count": 108,
   "id": "dd32b844",
   "metadata": {},
   "outputs": [
    {
     "name": "stdout",
     "output_type": "stream",
     "text": [
      "        1 \n",
      "      2 1 \n",
      "    3 2 1 \n",
      "  4 3 2 1 \n",
      "5 4 3 2 1 \n"
     ]
    }
   ],
   "source": [
    "n=5\n",
    "a=n-1\n",
    "for i in range(1,n+1):\n",
    "    print('  '*a,end='')\n",
    "    for j in range(i,0,-1):\n",
    "        print(j,end=' ')\n",
    "    print()\n",
    "    a-=1"
   ]
  },
  {
   "cell_type": "code",
   "execution_count": 109,
   "id": "8279123f",
   "metadata": {},
   "outputs": [
    {
     "name": "stdout",
     "output_type": "stream",
     "text": [
      "1 2 3 4 5 \n",
      "  1 2 3 4 \n",
      "    1 2 3 \n",
      "      1 2 \n",
      "        1 \n"
     ]
    }
   ],
   "source": [
    "n=5\n",
    "c=0\n",
    "for i in range(n+1,1,-1):\n",
    "    print('  '*c,end='')\n",
    "    for j in range(1,i):\n",
    "        print(j,end=' ')\n",
    "    print()\n",
    "    c+=1"
   ]
  },
  {
   "cell_type": "code",
   "execution_count": 110,
   "id": "b38e604e",
   "metadata": {},
   "outputs": [
    {
     "name": "stdout",
     "output_type": "stream",
     "text": [
      "1 2 3 4 5 \n",
      "  2 3 4 5 \n",
      "    3 4 5 \n",
      "      4 5 \n",
      "        5 \n"
     ]
    }
   ],
   "source": [
    "n=5\n",
    "c=0\n",
    "for i in range(1,n+1):\n",
    "    print('  '*c,end='')\n",
    "    for j in range(i,n+1):\n",
    "        print(j,end=' ')\n",
    "    print()\n",
    "    c+=1"
   ]
  },
  {
   "cell_type": "code",
   "execution_count": 111,
   "id": "ac7112bb",
   "metadata": {},
   "outputs": [
    {
     "name": "stdout",
     "output_type": "stream",
     "text": [
      "5 4 3 2 1 \n",
      "  5 4 3 2 \n",
      "    5 4 3 \n",
      "      5 4 \n",
      "        5 \n"
     ]
    }
   ],
   "source": [
    "n=5\n",
    "c=0\n",
    "for i in range(n):\n",
    "    print('  '*c,end='')\n",
    "    for j in range(n,i,-1):\n",
    "        print(j,end=' ')\n",
    "    print()\n",
    "    c+=1"
   ]
  },
  {
   "cell_type": "code",
   "execution_count": 113,
   "id": "f9759fac",
   "metadata": {},
   "outputs": [
    {
     "name": "stdout",
     "output_type": "stream",
     "text": [
      "5 4 3 2 1 \n",
      "4 3 2 1 \n",
      "3 2 1 \n",
      "2 1 \n",
      "1 \n"
     ]
    }
   ],
   "source": [
    "n=5\n",
    "for i in range(n,0,-1):\n",
    "    for j in range(i,0,-1):\n",
    "        print(j,end=' ')\n",
    "    print()"
   ]
  },
  {
   "cell_type": "code",
   "execution_count": 114,
   "id": "a87300cc",
   "metadata": {},
   "outputs": [
    {
     "name": "stdout",
     "output_type": "stream",
     "text": [
      "        1 \n",
      "      2 1 \n",
      "    3 2 1 \n",
      "  4 3 2 1 \n",
      "5 4 3 2 1 \n"
     ]
    }
   ],
   "source": [
    "n=5\n",
    "c=n-1\n",
    "for i in range(1,n+1):\n",
    "    print('  '*c,end='')\n",
    "    for j in range(i,0,-1):\n",
    "        print(j,end=' ')\n",
    "    print()\n",
    "    c-=1"
   ]
  },
  {
   "cell_type": "code",
   "execution_count": 115,
   "id": "d054b764",
   "metadata": {},
   "outputs": [
    {
     "name": "stdout",
     "output_type": "stream",
     "text": [
      "        5 \n",
      "      4 5 \n",
      "    3 4 5 \n",
      "  2 3 4 5 \n",
      "1 2 3 4 5 \n"
     ]
    }
   ],
   "source": [
    "n=5\n",
    "c=n-1\n",
    "for i in range(n,0,-1):\n",
    "    print('  '*c,end='')\n",
    "    for j in range(i,n+1):\n",
    "        print(j,end=' ')\n",
    "    print()\n",
    "    c-=1"
   ]
  },
  {
   "cell_type": "code",
   "execution_count": 116,
   "id": "f37c83f3",
   "metadata": {},
   "outputs": [
    {
     "name": "stdout",
     "output_type": "stream",
     "text": [
      "        1 \n",
      "      1 2 \n",
      "    1 2 3 \n",
      "  1 2 3 4 \n",
      "1 2 3 4 5 \n"
     ]
    }
   ],
   "source": [
    "n=5\n",
    "c=n-1\n",
    "for i in range(2,n+2):\n",
    "    print('  '*c,end='')\n",
    "    for j in range(1,i):\n",
    "        print(j,end=' ')\n",
    "    print()\n",
    "    c-=1"
   ]
  },
  {
   "cell_type": "code",
   "execution_count": 129,
   "id": "2fa6b890",
   "metadata": {},
   "outputs": [
    {
     "name": "stdout",
     "output_type": "stream",
     "text": [
      "        5 \n",
      "      5 4 \n",
      "    5 4 3 \n",
      "  5 4 3 2 \n",
      "5 4 3 2 1 \n"
     ]
    }
   ],
   "source": [
    "n=5\n",
    "c=n-1\n",
    "for i in range(n-1,-1,-1):\n",
    "    print('  '*c,end='')\n",
    "    for j in range(n,i,-1):\n",
    "        print(j,end=' ')\n",
    "    print()\n",
    "    c-=1"
   ]
  },
  {
   "cell_type": "code",
   "execution_count": 11,
   "id": "bfc726f6",
   "metadata": {},
   "outputs": [
    {
     "name": "stdout",
     "output_type": "stream",
     "text": [
      "0 1 1 2 3 5 8 13 21 34 "
     ]
    }
   ],
   "source": [
    "def Fib(n):\n",
    "    f,s=0,1\n",
    "    if n==1 or n==2:\n",
    "        return n-1\n",
    "    for i in range(0,n-2):\n",
    "        t=f+s\n",
    "        f,s=s,t\n",
    "    return t\n",
    "for i in range(1,11):\n",
    "    print(Fib(i),end=' ')"
   ]
  },
  {
   "cell_type": "code",
   "execution_count": 5,
   "id": "542de103",
   "metadata": {},
   "outputs": [
    {
     "name": "stdout",
     "output_type": "stream",
     "text": [
      "            1 \n",
      "               3 \n",
      "                  8 \n",
      "                     21 \n",
      "                        55 \n",
      "                     34 \n",
      "                  13 \n",
      "               5 \n",
      "            2 \n"
     ]
    }
   ],
   "source": [
    "l=[]\n",
    "e=0\n",
    "o=0\n",
    "def fib(n):\n",
    "    f,s=0,1\n",
    "    for i in range(0,n):\n",
    "        t=f+s\n",
    "        f,s=s,t\n",
    "    return t\n",
    "for i in range(1,10):\n",
    "    l.append(fib(i))\n",
    "    e=l[0::2]\n",
    "    o=l[1::2][::-1]\n",
    "l1=e+o\n",
    "n=9\n",
    "st=1\n",
    "sp=n//2\n",
    "for i in range(n):\n",
    "    for j in range(sp):\n",
    "        print('  ',end=' ')\n",
    "    for k in range(st):\n",
    "        print(l1[i],end=' ')\n",
    "    print()\n",
    "    if i<n//2:\n",
    "        sp+=1\n",
    "    else:\n",
    "        sp-=1"
   ]
  },
  {
   "cell_type": "code",
   "execution_count": 4,
   "id": "1880f926",
   "metadata": {},
   "outputs": [
    {
     "name": "stdout",
     "output_type": "stream",
     "text": [
      " 1\n",
      "    3\n",
      "       8\n",
      "          21\n",
      "             55\n",
      "          34\n",
      "       13\n",
      "    5\n",
      " 2\n"
     ]
    }
   ],
   "source": [
    "d=[1,3,8,21,55,34,13,5,2]\n",
    "n=9\n",
    "i=0\n",
    "sp=0\n",
    "m=n\n",
    "while n!=0:\n",
    "    print('   '*sp,end=' ')\n",
    "    print(d[i],end='')\n",
    "    print()\n",
    "    if n>m//2+1:\n",
    "        sp+=1\n",
    "    else:\n",
    "        sp-=1\n",
    "    n-=1\n",
    "    i+=1"
   ]
  },
  {
   "cell_type": "code",
   "execution_count": 41,
   "id": "f86f74ed",
   "metadata": {},
   "outputs": [
    {
     "name": "stdout",
     "output_type": "stream",
     "text": [
      "[5, 13, 23, 37, 47, 61, 73, 89]\n"
     ]
    }
   ],
   "source": [
    "l=[]\n",
    "for n in range(1,100):\n",
    "    if n>1:\n",
    "        for i in range(2,n//2+1):\n",
    "            if n%i==0:\n",
    "                break\n",
    "        else:\n",
    "            l.append(n)\n",
    "print(l[2::3])"
   ]
  },
  {
   "cell_type": "code",
   "execution_count": 39,
   "id": "92817dbe",
   "metadata": {},
   "outputs": [
    {
     "name": "stdout",
     "output_type": "stream",
     "text": [
      "[5, 11, 131, 181, 313, 373, 727, 787, 919, 10301, 10601, 11411, 12721, 13331, 13931, 14741, 15551, 16361, 16661, 17971, 18481, 19891]\n"
     ]
    }
   ],
   "source": [
    "c=[]\n",
    "for i in range(1,20000):\n",
    "    num=i\n",
    "    r=0\n",
    "    while i!=0:\n",
    "        rem=i%10\n",
    "        r=r*10+rem\n",
    "        i=i//10\n",
    "    if num==r:\n",
    "        if num>1:\n",
    "            for d in range(2,num//2+1):\n",
    "                if num%d==0:\n",
    "                    break\n",
    "            else:\n",
    "                c.append(num)\n",
    "print(c[2::2])"
   ]
  },
  {
   "cell_type": "code",
   "execution_count": 11,
   "id": "166b1de0",
   "metadata": {},
   "outputs": [
    {
     "name": "stdout",
     "output_type": "stream",
     "text": [
      "1 2 3 4 5 \n",
      "  1 2 3 4 \n",
      "    1 2 3 \n",
      "      1 2 \n",
      "        1 \n"
     ]
    }
   ],
   "source": [
    "n=5\n",
    "a=0\n",
    "for i in range(n+1,1,-1):\n",
    "    print('  '*a,end='')\n",
    "    for j in range(1,i):\n",
    "        print(j,end=' ')\n",
    "    print()\n",
    "    a+=1"
   ]
  },
  {
   "cell_type": "code",
   "execution_count": 19,
   "id": "cadb4f63",
   "metadata": {},
   "outputs": [
    {
     "name": "stdout",
     "output_type": "stream",
     "text": [
      "0 1 2 3 4 5 \n",
      "2 1 2 3 4 \n",
      "6 1 2 3 \n",
      "12 1 2 \n",
      "20 1 \n"
     ]
    }
   ],
   "source": [
    "n=5\n",
    "a=1\n",
    "for i in range(n+1,1,-1):\n",
    "    print(d*a,end=' ')\n",
    "    for j in range(1,i):\n",
    "        print(j,end=' ')\n",
    "    print()\n",
    "    a+=1\n",
    "    d+=1"
   ]
  },
  {
   "cell_type": "code",
   "execution_count": 11,
   "id": "50349cf1",
   "metadata": {},
   "outputs": [
    {
     "name": "stdout",
     "output_type": "stream",
     "text": [
      "33\n"
     ]
    }
   ],
   "source": [
    "from functools import reduce\n",
    "d=[1,2,3,4,5,7,11]\n",
    "print(reduce(lambda x,y:x+y,d))"
   ]
  },
  {
   "cell_type": "code",
   "execution_count": 1,
   "id": "0e2be544",
   "metadata": {},
   "outputs": [],
   "source": [
    "n=5\n",
    "a=1\n",
    "for i in range(n,0,-1):\n",
    "    for j in range(0,1,-1):\n",
    "        print(a*j,end='')\n",
    "        for k in range(1,i+1):\n",
    "            print(k,end=' ')\n",
    "        print()\n",
    "        a+=1"
   ]
  },
  {
   "cell_type": "code",
   "execution_count": 8,
   "id": "b5ddbcdf",
   "metadata": {},
   "outputs": [
    {
     "name": "stdout",
     "output_type": "stream",
     "text": [
      "    * \n",
      "  * * * \n",
      "* * * * * \n",
      "  * * * \n",
      "    * \n"
     ]
    }
   ],
   "source": [
    "n=5\n",
    "st=1\n",
    "sp=n//2\n",
    "for i in range(n):\n",
    "    for j in range(sp):\n",
    "        print(' ',end=' ')\n",
    "    for k in range(st):\n",
    "        print('*',end=' ')\n",
    "    print()\n",
    "    if i<n//2:\n",
    "        st+=2\n",
    "        sp-=1\n",
    "    else:\n",
    "        st-=2\n",
    "        sp+=1"
   ]
  },
  {
   "cell_type": "code",
   "execution_count": 9,
   "id": "30103a66",
   "metadata": {},
   "outputs": [
    {
     "name": "stdout",
     "output_type": "stream",
     "text": [
      "            1 \n",
      "               3 \n",
      "                  8 \n",
      "                     21 \n",
      "                        55 \n",
      "                     34 \n",
      "                  13 \n",
      "               5 \n",
      "            2 \n"
     ]
    }
   ],
   "source": [
    "l=[]\n",
    "e=0\n",
    "o=0\n",
    "def fib(n):\n",
    "    f,s=0,1\n",
    "    for i in range(0,n):\n",
    "        t=f+s\n",
    "        f,s=s,t\n",
    "    return t\n",
    "for i in range(1,10):\n",
    "    l.append(fib(i))\n",
    "    e=l[0::2]\n",
    "    o=l[1::2][::-1]\n",
    "l1=e+o\n",
    "n=9\n",
    "st=1\n",
    "sp=n//2\n",
    "for i in range(n):\n",
    "    for j in range(sp):\n",
    "        print('  ',end=' ')\n",
    "    for k in range(st):\n",
    "        print(l1[i],end=' ')\n",
    "    print()\n",
    "    if i<n//2:\n",
    "        sp+=1\n",
    "    else:\n",
    "        sp-=1"
   ]
  },
  {
   "cell_type": "code",
   "execution_count": 21,
   "id": "5680b4db",
   "metadata": {},
   "outputs": [
    {
     "name": "stdout",
     "output_type": "stream",
     "text": [
      "      1       \n",
      "    1   1     \n",
      "  1       1   \n",
      "1           1 \n",
      "  1       1   \n",
      "    1   1     \n",
      "      1       \n"
     ]
    }
   ],
   "source": [
    "n=7\n",
    "num=n\n",
    "for i in range(n):\n",
    "    num=st\n",
    "    for j in range(n):\n",
    "        if i+j==3 or j-i==3 or i-j==3 or i+j==9:\n",
    "            print(num,end=' ')\n",
    "        else:\n",
    "            print(' ',end=' ')\n",
    "    print()"
   ]
  },
  {
   "cell_type": "code",
   "execution_count": 26,
   "id": "d2af017f",
   "metadata": {},
   "outputs": [
    {
     "name": "stdout",
     "output_type": "stream",
     "text": [
      "    1 \n",
      "  1 2 1 \n",
      "1 2 3 2 1 \n",
      "  1 2 1 \n",
      "    1 \n"
     ]
    }
   ],
   "source": [
    "n=5\n",
    "num=n\n",
    "st=1\n",
    "sp=n//2\n",
    "for i in range(n):\n",
    "    num=1\n",
    "    for j in range(sp):\n",
    "        print(' ',end=' ')\n",
    "    for k in range(st):\n",
    "        print(num,end=' ')\n",
    "        num=num+1 if k<st//2 else num-1\n",
    "    print()\n",
    "    if i<n//2:\n",
    "        st+=2\n",
    "        sp-=1\n",
    "    else:\n",
    "        st-=2\n",
    "        sp+=1"
   ]
  },
  {
   "cell_type": "code",
   "execution_count": 15,
   "id": "1c0c30f0",
   "metadata": {},
   "outputs": [
    {
     "name": "stdout",
     "output_type": "stream",
     "text": [
      "12345\n",
      " 1234\n",
      "  123\n",
      "   12\n",
      "    1\n"
     ]
    }
   ],
   "source": [
    "n=5\n",
    "sp=0\n",
    "for c in range(n+1,1,-1):\n",
    "    print(' '*sp,end='')\n",
    "    for d in range(1,c):\n",
    "        print(d,end='')\n",
    "    print()\n",
    "    sp+=1"
   ]
  },
  {
   "cell_type": "code",
   "execution_count": 40,
   "id": "87aa087a",
   "metadata": {},
   "outputs": [
    {
     "name": "stdout",
     "output_type": "stream",
     "text": [
      "12345\n",
      " 2345\n",
      "  345\n",
      "   45\n",
      "    5\n"
     ]
    }
   ],
   "source": [
    "n=5\n",
    "sp=0\n",
    "for c in range(1,n+1):\n",
    "    print(' '*sp,end='')\n",
    "    for d in range(c,n+1):\n",
    "        print(d,end='')\n",
    "    print()\n",
    "    sp+=1"
   ]
  },
  {
   "cell_type": "code",
   "execution_count": 13,
   "id": "a83e54b7",
   "metadata": {},
   "outputs": [
    {
     "name": "stdout",
     "output_type": "stream",
     "text": [
      "        * \n",
      "          * \n",
      "            * \n",
      "          * \n",
      "        * \n"
     ]
    }
   ],
   "source": [
    "n=5\n",
    "st=1\n",
    "sp=n-1\n",
    "for i in range(n):\n",
    "    for j in range(sp):\n",
    "        print(' ',end=' ')\n",
    "    for k in range(st):\n",
    "        print('*',end=' ')\n",
    "    print()\n",
    "    if i<n//2:\n",
    "        sp+=1\n",
    "    else:\n",
    "        sp-=1"
   ]
  },
  {
   "cell_type": "code",
   "execution_count": 8,
   "id": "37c8ff97",
   "metadata": {},
   "outputs": [
    {
     "name": "stdout",
     "output_type": "stream",
     "text": [
      "    1 \n",
      "  2 1 2 \n",
      "3 2 1 2 3 \n",
      "  2 1 2 \n",
      "    1 \n"
     ]
    }
   ],
   "source": [
    "n=5\n",
    "st=1\n",
    "sp=n//2\n",
    "for a in range(n):\n",
    "    num=st//2+1\n",
    "    for b in range(sp):\n",
    "        print(' ',end=' ')\n",
    "    for c in range(st):\n",
    "        print(num,end=' ')\n",
    "        num=num-1 if c<st//2 else num+1\n",
    "    print()\n",
    "    if a<n//2: \n",
    "        st+=2\n",
    "        sp-=1\n",
    "    else:\n",
    "        st-=2\n",
    "        sp+=1"
   ]
  },
  {
   "cell_type": "code",
   "execution_count": 7,
   "id": "c7ea4b35",
   "metadata": {},
   "outputs": [
    {
     "name": "stdout",
     "output_type": "stream",
     "text": [
      "5 4 3 2 1 \n",
      "  5 4 3 2 \n",
      "    5 4 3 \n",
      "      5 4 \n",
      "        5 \n"
     ]
    }
   ],
   "source": [
    "n=5\n",
    "sp=0\n",
    "st=5\n",
    "num=n\n",
    "for i in range(n):\n",
    "    num=5\n",
    "    for k in range(sp):\n",
    "        print(' ',end=' ')\n",
    "    for s in range(st):\n",
    "        print(num,end=' ')\n",
    "        num-=1\n",
    "    print()\n",
    "    st-=1\n",
    "    sp+=1"
   ]
  },
  {
   "cell_type": "code",
   "execution_count": 8,
   "id": "1f0f2c2f",
   "metadata": {},
   "outputs": [
    {
     "name": "stdout",
     "output_type": "stream",
     "text": [
      "123\n",
      "6 is add of digits of 123\n"
     ]
    }
   ],
   "source": [
    "n=int(input(''))\n",
    "num=n\n",
    "res=0\n",
    "while n!=0:\n",
    "    rem=n%10\n",
    "    res=res+rem\n",
    "    n=n//10\n",
    "print(f'{res} is add of digits of {num}')"
   ]
  },
  {
   "cell_type": "code",
   "execution_count": 8,
   "id": "106b6ea7",
   "metadata": {},
   "outputs": [
    {
     "name": "stdout",
     "output_type": "stream",
     "text": [
      "enter a value:7\n",
      "C C C C C C C \n",
      "C           C \n",
      "C           C \n",
      "C     D     C \n",
      "C           C \n",
      "C           C \n",
      "C C C C C C C \n"
     ]
    }
   ],
   "source": [
    "n=int(input('enter a value:'))\n",
    "for a in range(n):\n",
    "    for b in range(n):\n",
    "        if a==0 or a==n-1 or b==0 or b==n-1:\n",
    "            print('C',end=' ')\n",
    "        elif (a==n//2 and b==n//2):\n",
    "            print('D',end=' ')\n",
    "            \n",
    "        else:\n",
    "            print(' ',end=' ')\n",
    "    print()"
   ]
  },
  {
   "cell_type": "code",
   "execution_count": 17,
   "id": "c839b388",
   "metadata": {},
   "outputs": [
    {
     "name": "stdout",
     "output_type": "stream",
     "text": [
      "3\n"
     ]
    }
   ],
   "source": [
    "#method over Loading\n",
    "class Student():\n",
    "    def sum(self,a,b):\n",
    "        return a+b\n",
    "    def sum(self,a,b,c=0):\n",
    "        return a+b+c\n",
    "ob=Student()\n",
    "print(ob.sum(1,2))"
   ]
  },
  {
   "cell_type": "code",
   "execution_count": 32,
   "id": "65496682",
   "metadata": {},
   "outputs": [
    {
     "name": "stdout",
     "output_type": "stream",
     "text": [
      "The Bank customer name is  chardevi\n",
      "the Bank customer age is  23\n",
      "the customer balance is 10000000000000\n",
      "the customer adhar is 676876868\n"
     ]
    }
   ],
   "source": [
    "#method overidinng\n",
    "class Bank():\n",
    "    def __init__(self,n,a):\n",
    "        self.name=n\n",
    "        self.age=a\n",
    "    def Display(self):\n",
    "        print('The Bank customer name is ',self.name)\n",
    "        print('the Bank customer age is ',self.age)\n",
    "#ob=Bank('chardevi',23)\n",
    "#ob.Display()\n",
    "class Bank1(Bank):\n",
    "    def __init__(self,n,a,b,add):\n",
    "        super().__init__(n,a)\n",
    "        self.balance=b\n",
    "        self.addhar=add\n",
    "    def Display(self):\n",
    "        super().Display()\n",
    "        '''print('the customer name is',self.name)\n",
    "        print('the customer age is',self.age)'''\n",
    "        print('the customer balance is',self.balance)\n",
    "        print('the customer adhar is',self.addhar)\n",
    "        \n",
    "ob=Bank1('chardevi',23,10000000000000,676876868)\n",
    "ob.Display()"
   ]
  },
  {
   "cell_type": "code",
   "execution_count": 6,
   "id": "d1788df8",
   "metadata": {},
   "outputs": [
    {
     "name": "stdout",
     "output_type": "stream",
     "text": [
      "      1 \n",
      "    2 1 2 \n",
      "  3 2 1 2 3 \n",
      "4 3 2 1 2 3 4 \n",
      "  3 2 1 2 3 \n",
      "    2 1 2 \n",
      "      1 \n"
     ]
    }
   ],
   "source": [
    "n=7\n",
    "st=1\n",
    "sp=n//2\n",
    "num=n\n",
    "for i in range(n):\n",
    "    num=st//2+1\n",
    "    for j in range(sp):\n",
    "        print(' ',end=' ')\n",
    "    for k in range(st):\n",
    "        print(num,end=' ')\n",
    "        num=num-1 if k<st//2 else num+1\n",
    "    print()\n",
    "    if i<n//2:\n",
    "        st+=2\n",
    "        sp-=1\n",
    "    else:\n",
    "        st-=2\n",
    "        sp+=1"
   ]
  },
  {
   "cell_type": "code",
   "execution_count": 13,
   "id": "ce033cca",
   "metadata": {},
   "outputs": [
    {
     "name": "stdout",
     "output_type": "stream",
     "text": [
      "        5 \n",
      "      5 4 5 \n",
      "    5 4 3 4 5 \n",
      "  5 4 3 2 3 4 5 \n",
      "5 4 3 2 1 2 3 4 5 \n",
      "  5 4 3 2 3 4 5 \n",
      "    5 4 3 4 5 \n",
      "      5 4 5 \n",
      "        5 \n"
     ]
    }
   ],
   "source": [
    "n=9\n",
    "num=n\n",
    "st=1\n",
    "sp=n//2\n",
    "for i in range(n):\n",
    "    num=5\n",
    "    for j in range(sp):\n",
    "        print(' ',end=' ')\n",
    "    for k in range(st):\n",
    "        print(num,end=' ')\n",
    "        num=num-1 if k<st//2 else num+1\n",
    "    print()\n",
    "    if i<n//2:\n",
    "        st+=2\n",
    "        sp-=1\n",
    "    else:\n",
    "        st-=2\n",
    "        sp+=1"
   ]
  },
  {
   "cell_type": "code",
   "execution_count": 15,
   "id": "55adfbd5",
   "metadata": {},
   "outputs": [
    {
     "name": "stdout",
     "output_type": "stream",
     "text": [
      "22\n",
      "21\n",
      "20\n",
      "19\n",
      "18\n",
      "17\n",
      "16\n",
      "15\n",
      "14\n",
      "13\n",
      "12\n",
      "11\n"
     ]
    }
   ],
   "source": [
    "for i in range(22,10,-1):\n",
    "    print(i)"
   ]
  },
  {
   "cell_type": "code",
   "execution_count": 2,
   "id": "3f15bed3",
   "metadata": {},
   "outputs": [
    {
     "name": "stdout",
     "output_type": "stream",
     "text": [
      "        1 \n",
      "      3 2 1 \n",
      "    5 4 3 2 1 \n",
      "  7 6 5 4 3 2 1 \n",
      "9 8 7 6 5 4 3 2 1 \n"
     ]
    }
   ],
   "source": [
    "n=5\n",
    "st=1\n",
    "sp=n-1\n",
    "num=n\n",
    "for i in range(n):\n",
    "    num=st\n",
    "    for j in range(sp):\n",
    "        print(' ',end=' ')\n",
    "    for k in range(st):\n",
    "        print(num,end=' ')\n",
    "        num-=1\n",
    "    print()\n",
    "    sp-=1\n",
    "    st+=2"
   ]
  },
  {
   "cell_type": "code",
   "execution_count": 7,
   "id": "5b4e99df",
   "metadata": {},
   "outputs": [
    {
     "name": "stdout",
     "output_type": "stream",
     "text": [
      "      1 \n",
      "    2 1 2 \n",
      "  3 2 1 2 3 \n",
      "4 3 2 1 2 3 4 \n",
      "  3 2 1 2 3 \n",
      "    2 1 2 \n",
      "      1 \n"
     ]
    }
   ],
   "source": [
    "n=7\n",
    "num=n\n",
    "st=1\n",
    "sp=n//2\n",
    "for i in range(n):\n",
    "    num=st//2+1\n",
    "    for j in range(sp):\n",
    "        print(' ',end=' ')\n",
    "    for k in range(st):\n",
    "        print(num,end=' ')\n",
    "        num=num-1 if k<st//2 else num+1\n",
    "    print()\n",
    "    if i<n//2:\n",
    "        st+=2\n",
    "        sp-=1\n",
    "    else:\n",
    "        st-=2\n",
    "        sp+=1"
   ]
  },
  {
   "cell_type": "code",
   "execution_count": 2,
   "id": "808f9025",
   "metadata": {},
   "outputs": [
    {
     "name": "stdout",
     "output_type": "stream",
     "text": [
      "1 2 3 4 5 \n",
      "2 3 4 5 \n",
      "3 4 5 \n",
      "4 5 \n",
      "5 \n"
     ]
    }
   ],
   "source": [
    "n=5\n",
    "num=n\n",
    "for i in range(1,n+1):\n",
    "    num=i\n",
    "    for j in range(n-i+1):\n",
    "        print(num,end=' ')\n",
    "        num+=1\n",
    "    print()"
   ]
  },
  {
   "cell_type": "code",
   "execution_count": 18,
   "id": "215519ca",
   "metadata": {
    "scrolled": true
   },
   "outputs": [
    {
     "name": "stdout",
     "output_type": "stream",
     "text": [
      "d a s a r p \n",
      "d a s a r \n",
      "d a s a \n",
      "d a s \n",
      "d a \n",
      "d \n"
     ]
    }
   ],
   "source": [
    "d='prasad'\n",
    "for a in range(6):\n",
    "    for b in range(6-a):\n",
    "        print(d[6-b-1],end=' ')\n",
    "    print()"
   ]
  },
  {
   "cell_type": "code",
   "execution_count": 7,
   "id": "2a952c20",
   "metadata": {},
   "outputs": [
    {
     "name": "stdout",
     "output_type": "stream",
     "text": [
      "dasarp\n",
      "dasar\n",
      "dasa\n",
      "das\n",
      "da\n",
      "d\n"
     ]
    }
   ],
   "source": [
    "d='prasad'\n",
    "a=len(d)\n",
    "for i in range(a):\n",
    "    print(d[i:a][::-1])"
   ]
  },
  {
   "cell_type": "code",
   "execution_count": 52,
   "id": "dafb91f1",
   "metadata": {},
   "outputs": [
    {
     "name": "stdout",
     "output_type": "stream",
     "text": [
      "    5\n",
      "   54\n",
      "  543\n",
      " 5432\n",
      "54321\n"
     ]
    }
   ],
   "source": [
    "n=5\n",
    "a=n-1\n",
    "for i in range(n-1,-1,-1):\n",
    "    print(' '*a,end='')\n",
    "    for j in range(n,i,-1):\n",
    "        print(j,end='')\n",
    "    print()\n",
    "    a-=1"
   ]
  },
  {
   "cell_type": "code",
   "execution_count": 58,
   "id": "5779cc93",
   "metadata": {},
   "outputs": [
    {
     "name": "stdout",
     "output_type": "stream",
     "text": [
      "0\n",
      "**************************************************\n",
      "0 0\n",
      "0 1\n",
      "0 2\n",
      "1\n",
      "**************************************************\n",
      "1 0\n",
      "1 1\n",
      "1 2\n"
     ]
    }
   ],
   "source": [
    "for i in range(2):\n",
    "    print(i)\n",
    "    print('*'*50)\n",
    "    for j in range(3):\n",
    "        print(i,j)"
   ]
  },
  {
   "cell_type": "code",
   "execution_count": 62,
   "id": "fe46f44e",
   "metadata": {},
   "outputs": [
    {
     "name": "stdout",
     "output_type": "stream",
     "text": [
      "0\n",
      "**************************************************\n",
      "0\n",
      "!!!!!!!!!!!!!!!!!!!!!!!!!!!!!!!!!!!!!!!!!!!!!!!!!!\n",
      "1\n",
      "!!!!!!!!!!!!!!!!!!!!!!!!!!!!!!!!!!!!!!!!!!!!!!!!!!\n",
      "2\n",
      "!!!!!!!!!!!!!!!!!!!!!!!!!!!!!!!!!!!!!!!!!!!!!!!!!!\n",
      "0\n",
      "@@@@@@@@@@@@@@@@@@@@@@@@@@@@@@@@@@@@@@@@@@@@@@@@@@\n",
      "1\n",
      "@@@@@@@@@@@@@@@@@@@@@@@@@@@@@@@@@@@@@@@@@@@@@@@@@@\n",
      "2\n",
      "@@@@@@@@@@@@@@@@@@@@@@@@@@@@@@@@@@@@@@@@@@@@@@@@@@\n",
      "1\n",
      "**************************************************\n",
      "0\n",
      "!!!!!!!!!!!!!!!!!!!!!!!!!!!!!!!!!!!!!!!!!!!!!!!!!!\n",
      "1\n",
      "!!!!!!!!!!!!!!!!!!!!!!!!!!!!!!!!!!!!!!!!!!!!!!!!!!\n",
      "2\n",
      "!!!!!!!!!!!!!!!!!!!!!!!!!!!!!!!!!!!!!!!!!!!!!!!!!!\n",
      "0\n",
      "@@@@@@@@@@@@@@@@@@@@@@@@@@@@@@@@@@@@@@@@@@@@@@@@@@\n",
      "1\n",
      "@@@@@@@@@@@@@@@@@@@@@@@@@@@@@@@@@@@@@@@@@@@@@@@@@@\n",
      "2\n",
      "@@@@@@@@@@@@@@@@@@@@@@@@@@@@@@@@@@@@@@@@@@@@@@@@@@\n"
     ]
    }
   ],
   "source": [
    "for a in range(2):\n",
    "    print(a)\n",
    "    print('*'*50)\n",
    "    for j in range(3):\n",
    "        print(j)\n",
    "        print('!'*50)\n",
    "    for k in range(3):\n",
    "        print(k)\n",
    "        print('@'*50)"
   ]
  },
  {
   "cell_type": "code",
   "execution_count": 64,
   "id": "11e4cc42",
   "metadata": {},
   "outputs": [
    {
     "name": "stdout",
     "output_type": "stream",
     "text": [
      "7 \n",
      "8 9 \n",
      "10 11 12 \n",
      "13 14 15 16 \n",
      "17 18 19 \n",
      "20 21 \n",
      "22 \n"
     ]
    }
   ],
   "source": [
    "n=7\n",
    "st=1\n",
    "num=n\n",
    "for i in range(n):\n",
    "    num=num\n",
    "    for j in range(st):\n",
    "        print(num,end=' ')\n",
    "        num+=1\n",
    "    print()\n",
    "    if i<n//2:\n",
    "        st+=1\n",
    "    else:\n",
    "        st-=1"
   ]
  },
  {
   "cell_type": "code",
   "execution_count": 38,
   "id": "084042e9",
   "metadata": {},
   "outputs": [
    {
     "name": "stdout",
     "output_type": "stream",
     "text": [
      "1 \n",
      "2 3 \n",
      "4 5 6 \n",
      "7 8 9 10 \n",
      "11 12 13 14 15 \n",
      "16 17 18 19 20 21 \n",
      "22 23 24 25 26 \n",
      "27 28 29 30 \n",
      "31 32 33 \n"
     ]
    }
   ],
   "source": [
    "def print_pattern():\n",
    "    num = 1\n",
    "    for i in range(1, 7):\n",
    "        for j in range(1, i + 1):\n",
    "            print(num, end=\" \")\n",
    "            num += 1\n",
    "        print()\n",
    "\n",
    "    for i in range(6, 3, -1):\n",
    "        for j in range(1, i):\n",
    "            print(num, end=\" \")\n",
    "            num += 1\n",
    "        print()\n",
    "print_pattern()"
   ]
  },
  {
   "cell_type": "code",
   "execution_count": 29,
   "id": "13a13a3e",
   "metadata": {},
   "outputs": [
    {
     "name": "stdout",
     "output_type": "stream",
     "text": [
      "1 \n",
      "2 3 \n",
      "4 5 6 \n",
      "7 8 9 10 \n",
      "11 12 13 14 15 \n",
      "16 17 18 19 20 21 \n",
      "22 23 24 25 \n",
      "26 27 28 \n",
      "29 30 \n",
      "31 \n"
     ]
    }
   ],
   "source": [
    "def print_pattern():\n",
    "    num = 1\n",
    "    for i in range(1, 7):\n",
    "        for j in range(1, i+1):\n",
    "            print(num, end=\" \")\n",
    "            num += 1\n",
    "        print()\n",
    "\n",
    "    for i in range(5, 1, -1):\n",
    "        for j in range(1, i):\n",
    "            print(num, end=\" \")\n",
    "            num += 1\n",
    "        print()\n",
    "\n",
    "print_pattern()"
   ]
  },
  {
   "cell_type": "code",
   "execution_count": 8,
   "id": "d7655445",
   "metadata": {},
   "outputs": [
    {
     "name": "stdout",
     "output_type": "stream",
     "text": [
      "    * \n",
      "   * * \n",
      "  * * * \n",
      " * * * * \n",
      "* * * * * \n"
     ]
    }
   ],
   "source": [
    "n=5\n",
    "for i in range(n):\n",
    "    for j in range(n-i-1):\n",
    "        print('',end=' ')\n",
    "    for k in range(i+1):\n",
    "        print('*',end=' ')\n",
    "    print()"
   ]
  },
  {
   "cell_type": "code",
   "execution_count": 18,
   "id": "daafbbc3",
   "metadata": {},
   "outputs": [
    {
     "name": "stdout",
     "output_type": "stream",
     "text": [
      "   *  \n",
      "*  *  * \n",
      " *  *  \n",
      "*  *  * \n"
     ]
    }
   ],
   "source": [
    "for i in range(4):\n",
    "    for j in range(5):\n",
    "        if (i==0 and j==3) or (i==1 and j%2==0) or (i==2 and j%2!=0) or (i==3 and j%2==0):\n",
    "            print('*',end=' ')\n",
    "        else:\n",
    "            print(' ',end='')\n",
    "    print()"
   ]
  },
  {
   "cell_type": "code",
   "execution_count": 3,
   "id": "786c479d",
   "metadata": {},
   "outputs": [
    {
     "name": "stdout",
     "output_type": "stream",
     "text": [
      " * * * * \n",
      "  * * * \n",
      "   * * \n",
      "    * \n"
     ]
    }
   ],
   "source": [
    "n=4\n",
    "for i in range(n):\n",
    "    for j in range(i+1):\n",
    "        print('',end=' ')\n",
    "    for k in range(n-j):\n",
    "        print('*',end=' ')\n",
    "    print()"
   ]
  },
  {
   "cell_type": "code",
   "execution_count": 19,
   "id": "fd31fce3",
   "metadata": {},
   "outputs": [
    {
     "name": "stdout",
     "output_type": "stream",
     "text": [
      "            * \n",
      "          *   * \n",
      "        *   *   * \n",
      "      *   *   *   * \n",
      "    *   *   *   *   * \n",
      "  *   *   *   *   *   * \n",
      "*   *   *   *   *   *   * \n"
     ]
    }
   ],
   "source": [
    "n=7\n",
    "sp=n-1\n",
    "st=1\n",
    "for i in range(n):\n",
    "    for j in range(sp):\n",
    "        print(' ',end=' ')\n",
    "    for k in range(st):\n",
    "        if k%2==0:\n",
    "            print('*',end=' ')\n",
    "        else:\n",
    "            print(' ',end=' ')\n",
    "    print()\n",
    "    st+=2\n",
    "    sp-=1"
   ]
  },
  {
   "cell_type": "code",
   "execution_count": 18,
   "id": "a5888887",
   "metadata": {},
   "outputs": [
    {
     "name": "stdout",
     "output_type": "stream",
     "text": [
      "*   *   *   *   *   *   * \n",
      "  *   *   *   *   *   * \n",
      "    *   *   *   *   * \n",
      "      *   *   *   * \n",
      "        *   *   * \n",
      "          *   * \n",
      "            * \n"
     ]
    }
   ],
   "source": [
    "n=7\n",
    "sp=0\n",
    "st=2*n-1\n",
    "for a in range(n):\n",
    "    for b in range(sp):\n",
    "        print(' ',end=' ')\n",
    "    for c in range(st):\n",
    "        if c%2==0:\n",
    "            print('*',end=' ')\n",
    "        else:\n",
    "            print(' ',end=' ')\n",
    "    print()\n",
    "    st-=2\n",
    "    sp+=1"
   ]
  },
  {
   "cell_type": "code",
   "execution_count": 31,
   "id": "06907035",
   "metadata": {},
   "outputs": [
    {
     "name": "stdout",
     "output_type": "stream",
     "text": [
      "    * \n",
      "  *   * \n",
      "*   *   * \n",
      "  *   * \n",
      "    * \n"
     ]
    }
   ],
   "source": [
    "n=5\n",
    "sp=n//2\n",
    "st=1\n",
    "for i in range(n):\n",
    "    for j in range(sp):\n",
    "        print(' ',end=' ')\n",
    "    for k in range(st):\n",
    "        if k%2==0:\n",
    "            print('*',end=' ')\n",
    "        else:\n",
    "            print(' ',end=' ')\n",
    "    print()\n",
    "    if i<n//2:\n",
    "        st+=2\n",
    "        sp-=1\n",
    "    else:\n",
    "        st-=2\n",
    "        sp+=1"
   ]
  },
  {
   "cell_type": "code",
   "execution_count": 4,
   "id": "e78706e4",
   "metadata": {},
   "outputs": [
    {
     "name": "stdout",
     "output_type": "stream",
     "text": [
      "      1 \n",
      "    2 1 2 \n",
      "  3 2 1 2 3 \n",
      "4 3 2 1 2 3 4 \n",
      "  3 2 1 2 3 \n",
      "    2 1 2 \n",
      "      1 \n"
     ]
    }
   ],
   "source": [
    "n=7\n",
    "sp=n//2\n",
    "st=1\n",
    "for i in range(n):\n",
    "    num=st//2+1\n",
    "    for j in range(sp):\n",
    "        print(' ',end=' ')\n",
    "    for k in range(st):\n",
    "        print(num,end=' ')\n",
    "        num=num-1 if k<st//2 else num+1\n",
    "    print()\n",
    "    if i<n//2:\n",
    "        st+=2\n",
    "        sp-=1\n",
    "    else:\n",
    "        st-=2\n",
    "        sp+=1"
   ]
  },
  {
   "cell_type": "code",
   "execution_count": 17,
   "id": "33fcc8ef",
   "metadata": {},
   "outputs": [
    {
     "name": "stdout",
     "output_type": "stream",
     "text": [
      "* * * * * \n",
      "*       * \n",
      "*       * \n",
      "*       * \n",
      "* * * * * \n"
     ]
    }
   ],
   "source": [
    "n=5\n",
    "for a in range(1,n+1):\n",
    "    for b in range(1,n+1):\n",
    "        if (a==n) or (b==n) or (a==1) or (b==1) or (a+b==2):\n",
    "            print('*',end=' ')\n",
    "        else:\n",
    "            print(' ',end=' ')\n",
    "    print()"
   ]
  },
  {
   "cell_type": "code",
   "execution_count": 13,
   "id": "c19984e4",
   "metadata": {},
   "outputs": [
    {
     "name": "stdout",
     "output_type": "stream",
     "text": [
      "enter number5\n",
      " 15 \n",
      " 14  13 \n",
      " 12  11  10 \n",
      "  9   8   7   6 \n",
      "  5   4   3   2   1 \n"
     ]
    }
   ],
   "source": [
    "n=int(input('enter number'))\n",
    "k=0\n",
    "for a in range(n):\n",
    "    k+=a\n",
    "num=n+k\n",
    "for i in range(n):\n",
    "    for j in range(i+1):\n",
    "        print(format(num,'>3'),end=' ')\n",
    "        num-=1\n",
    "    print()"
   ]
  },
  {
   "cell_type": "code",
   "execution_count": 8,
   "id": "f6c7b1d9",
   "metadata": {},
   "outputs": [
    {
     "name": "stdout",
     "output_type": "stream",
     "text": [
      "enter number:5\n",
      " 15 \n",
      " 14  13 \n",
      " 12  11  10 \n",
      "  9   8   7   6 \n",
      "  5   4   3   2   1 \n"
     ]
    }
   ],
   "source": [
    "n=int(input('enter number:'))\n",
    "v=0\n",
    "for i in range(n):\n",
    "    v+=i\n",
    "num=n+v\n",
    "for i in range(n):\n",
    "    for j in range(i+1):\n",
    "        print(format(num,'>3'),end=' ')\n",
    "        num-=1\n",
    "    print()"
   ]
  },
  {
   "cell_type": "code",
   "execution_count": 12,
   "id": "fb80db10",
   "metadata": {},
   "outputs": [
    {
     "name": "stdout",
     "output_type": "stream",
     "text": [
      "enter number:5\n",
      "  1 \n",
      "  2   6 \n",
      "  3   7  10 \n",
      "  4   8  11  13 \n",
      "  5   9  12  14  15 \n"
     ]
    }
   ],
   "source": [
    "n=int(input('enter number:'))\n",
    "for i in range(n):\n",
    "    num=i+1\n",
    "    st=n-1\n",
    "    for j in range(i+1):\n",
    "        print(format(num,'>3'),end=' ')\n",
    "        num+=st\n",
    "        st-=1\n",
    "    print()"
   ]
  },
  {
   "cell_type": "code",
   "execution_count": 13,
   "id": "8bdcd12a",
   "metadata": {},
   "outputs": [
    {
     "name": "stdout",
     "output_type": "stream",
     "text": [
      "enter number:5\n",
      "1 \n",
      "2 9 \n",
      "3 8 10 \n",
      "4 7 11 14 \n",
      "5 6 12 13 15 \n"
     ]
    }
   ],
   "source": [
    "n=int(input('enter number:'))\n",
    "for i in range(n):\n",
    "    for j in range(i+1):\n",
    "        x=0\n",
    "        for k in range(j):\n",
    "            x=x+n-k\n",
    "        if j%2==0:\n",
    "            print(x+i-j+1,end=' ')\n",
    "        else:\n",
    "            print(x+n-i,end=' ')\n",
    "    print()"
   ]
  },
  {
   "cell_type": "code",
   "execution_count": 2,
   "id": "ad3662b2",
   "metadata": {},
   "outputs": [
    {
     "name": "stdout",
     "output_type": "stream",
     "text": [
      "enter number:7\n",
      " 28 \n",
      " 27  26 \n",
      " 25  24  23 \n",
      " 22  21  20  19 \n",
      " 18  17  16  15  14 \n",
      " 13  12  11  10   9   8 \n",
      "  7   6   5   4   3   2   1 \n"
     ]
    }
   ],
   "source": [
    "n=int(input('enter number:'))\n",
    "v=0\n",
    "for i in range(n):\n",
    "    v+=i\n",
    "num=n+v\n",
    "for i in range(n):\n",
    "    for j in range(i+1):\n",
    "        print(format(num,'>3'),end=' ')\n",
    "        num-=1\n",
    "    print()"
   ]
  },
  {
   "cell_type": "code",
   "execution_count": null,
   "id": "27d802de",
   "metadata": {},
   "outputs": [],
   "source": []
  },
  {
   "cell_type": "code",
   "execution_count": null,
   "id": "f065ac40",
   "metadata": {},
   "outputs": [],
   "source": []
  }
 ],
 "metadata": {
  "kernelspec": {
   "display_name": "Python 3 (ipykernel)",
   "language": "python",
   "name": "python3"
  },
  "language_info": {
   "codemirror_mode": {
    "name": "ipython",
    "version": 3
   },
   "file_extension": ".py",
   "mimetype": "text/x-python",
   "name": "python",
   "nbconvert_exporter": "python",
   "pygments_lexer": "ipython3",
   "version": "3.9.13"
  }
 },
 "nbformat": 4,
 "nbformat_minor": 5
}
