{
 "cells": [
  {
   "cell_type": "code",
   "execution_count": 1,
   "id": "58d0f1e0",
   "metadata": {},
   "outputs": [
    {
     "name": "stdout",
     "output_type": "stream",
     "text": [
      "[11, 12, 13, 14]\n"
     ]
    }
   ],
   "source": [
    "#1 remove duplicates in a list\n",
    "L=[11,12,11,12,13,11,12,14]\n",
    "res=[]\n",
    "for d in range(len(L)):\n",
    "    if L[d] not in res:\n",
    "        res+=[L[d]]\n",
    "print(res)"
   ]
  },
  {
   "cell_type": "code",
   "execution_count": 2,
   "id": "dbcb1538",
   "metadata": {},
   "outputs": [
    {
     "name": "stdout",
     "output_type": "stream",
     "text": [
      "[2, 5, 7, 11, 22, 29, 92]\n"
     ]
    }
   ],
   "source": [
    "d=[2,5,11,22,29,92,7]\n",
    "for i in range(len(d)-1):\n",
    "    for j in range(len(d)-1-i):\n",
    "        if d[j]>d[j+1]:\n",
    "            d[j],d[j+1]=d[j+1],d[j]\n",
    "print(d)"
   ]
  },
  {
   "cell_type": "code",
   "execution_count": 3,
   "id": "1bee47a9",
   "metadata": {},
   "outputs": [
    {
     "name": "stdout",
     "output_type": "stream",
     "text": [
      "[2, 5, 7, 11, 22, 29, 92]\n"
     ]
    }
   ],
   "source": [
    "d=[2,5,11,22,29,92,7]\n",
    "for a in range(len(d)):\n",
    "    i=a\n",
    "    for b in range(a+1,len(d)):\n",
    "        if d[i]>d[b]:\n",
    "            i=b\n",
    "        d[a],d[i]=d[i],d[a]\n",
    "print(d)"
   ]
  },
  {
   "cell_type": "code",
   "execution_count": 2,
   "id": "8283d495",
   "metadata": {},
   "outputs": [
    {
     "name": "stdout",
     "output_type": "stream",
     "text": [
      "10\n",
      "20\n",
      "12\n"
     ]
    }
   ],
   "source": [
    "#2 print even numbers in the list\n",
    "N=[10,20,11,31,12,13,15,17]\n",
    "for d in range(len(N)):\n",
    "    if N[d]%2==0:\n",
    "        print(N[d])"
   ]
  },
  {
   "cell_type": "code",
   "execution_count": 2,
   "id": "150e50cf",
   "metadata": {},
   "outputs": [
    {
     "name": "stdout",
     "output_type": "stream",
     "text": [
      "1    2    3    \n",
      "4    5    6    \n",
      "7    8    9    \n"
     ]
    }
   ],
   "source": [
    "l=[[1,2,3],[4,5,6],[7,8,9]]\n",
    "for i in l:\n",
    "    for j in i:\n",
    "        print(j,end='    ')\n",
    "        \n",
    "        \n",
    "    print()    "
   ]
  },
  {
   "cell_type": "code",
   "execution_count": 4,
   "id": "d5ce1aaa",
   "metadata": {},
   "outputs": [
    {
     "name": "stdout",
     "output_type": "stream",
     "text": [
      "1 2 3 \n",
      "4 5 6 \n",
      "7 8 9 \n"
     ]
    }
   ],
   "source": [
    "l=[[1,2,3],[4,5,6],[7,8,9]]\n",
    "for i in range(len(l)):\n",
    "    for j in range(len(l[i])):\n",
    "        print(l[i][j],end=' ')\n",
    "    print()"
   ]
  },
  {
   "cell_type": "code",
   "execution_count": 22,
   "id": "422fee68",
   "metadata": {},
   "outputs": [
    {
     "name": "stdout",
     "output_type": "stream",
     "text": [
      "18\n"
     ]
    }
   ],
   "source": [
    "l=[[1,2,3],[4,5,6],[7,8,9]]\n",
    "res1=0\n",
    "res2=0\n",
    "for i in range(len(l)):\n",
    "    if i==0:\n",
    "        for j in range(len(l)):\n",
    "            res1+=l[i][j]\n",
    "    if i==len(l)-1:\n",
    "        for j in range(len(l)):\n",
    "            res2+=l[i][j]\n",
    "print(abs(res1-res2))"
   ]
  },
  {
   "cell_type": "code",
   "execution_count": 1,
   "id": "c5642478",
   "metadata": {},
   "outputs": [
    {
     "name": "stdout",
     "output_type": "stream",
     "text": [
      "7 4 1 \n",
      "8 5 2 \n",
      "9 6 3 \n"
     ]
    }
   ],
   "source": [
    "l=[[1,2,3],[4,5,6],[7,8,9]]\n",
    "n=3\n",
    "for j in range(n):\n",
    "    for i in range(n):\n",
    "        print(l[n-(i+1)][j],end=' ')\n",
    "    print() "
   ]
  },
  {
   "cell_type": "code",
   "execution_count": 20,
   "id": "56a7ca70",
   "metadata": {},
   "outputs": [
    {
     "name": "stdout",
     "output_type": "stream",
     "text": [
      "3 6 9 \n",
      "2 5 8 \n",
      "1 4 7 \n"
     ]
    }
   ],
   "source": [
    "l=[[1,2,3],[4,5,6],[7,8,9]]\n",
    "n=3\n",
    "for i in range(n):\n",
    "    for j in range(n):\n",
    "        print(l[j][n-(i+1)],end=' ')\n",
    "    print()"
   ]
  },
  {
   "cell_type": "code",
   "execution_count": 24,
   "id": "da3d521d",
   "metadata": {},
   "outputs": [
    {
     "name": "stdout",
     "output_type": "stream",
     "text": [
      "9 8 7 \n",
      "6 5 4 \n",
      "3 2 1 \n"
     ]
    }
   ],
   "source": [
    "l=[[1,2,3],[4,5,6],[7,8,9]]\n",
    "n=3\n",
    "for i in range(n):\n",
    "    for j in range(n):\n",
    "        print(l[n-(i+1)][n-(j+1)],end=' ')\n",
    "    print()"
   ]
  },
  {
   "cell_type": "code",
   "execution_count": 25,
   "id": "c760e366",
   "metadata": {},
   "outputs": [
    {
     "name": "stdout",
     "output_type": "stream",
     "text": [
      "18\n"
     ]
    }
   ],
   "source": [
    "\n",
    "\n",
    "l=[[1,2,3],[4,5,6],[7,8,9]]\n",
    "f=0\n",
    "ln=0\n",
    "n=3\n",
    "for i in range(n):\n",
    "    f+=l[0][i]\n",
    "    ln+=l[n-1][i]\n",
    "print(abs(f-ln))"
   ]
  },
  {
   "cell_type": "code",
   "execution_count": 26,
   "id": "174cf140",
   "metadata": {},
   "outputs": [
    {
     "name": "stdout",
     "output_type": "stream",
     "text": [
      "144\n"
     ]
    }
   ],
   "source": [
    "l=[[1,2,3],[4,5,6],[7,8,9]]\n",
    "f=0\n",
    "ln=0\n",
    "n=3\n",
    "for i in range(n):\n",
    "    f+=l[0][i]\n",
    "    ln+=l[n-1][i]\n",
    "print(f*ln)"
   ]
  },
  {
   "cell_type": "code",
   "execution_count": 27,
   "id": "2efed86a",
   "metadata": {},
   "outputs": [
    {
     "name": "stdout",
     "output_type": "stream",
     "text": [
      "30\n"
     ]
    }
   ],
   "source": [
    "l=[[1,2,3],[4,5,6],[7,8,9]]\n",
    "f=0\n",
    "ln=0\n",
    "n=3\n",
    "for i in range(n):\n",
    "    f+=l[0][i]\n",
    "    ln+=l[n-1][i]\n",
    "print(f+ln)"
   ]
  },
  {
   "cell_type": "code",
   "execution_count": 28,
   "id": "1f3bd36a",
   "metadata": {},
   "outputs": [
    {
     "name": "stdout",
     "output_type": "stream",
     "text": [
      "30\n"
     ]
    }
   ],
   "source": [
    "l=[[1,2,3],[4,5,6],[7,8,9]]\n",
    "f=0\n",
    "ln=0\n",
    "n=3\n",
    "for i in range(n):\n",
    "    f+=l[i][0]\n",
    "    ln+=l[i][n-1]\n",
    "print(f+ln)"
   ]
  },
  {
   "cell_type": "code",
   "execution_count": 31,
   "id": "954f5689",
   "metadata": {},
   "outputs": [
    {
     "name": "stdout",
     "output_type": "stream",
     "text": [
      "30\n"
     ]
    }
   ],
   "source": [
    "l=[[1,2,3],[4,5,6],[7,8,9]]\n",
    "f=0\n",
    "ln=0\n",
    "n=3\n",
    "for i in range(n):\n",
    "    f+=l[n//2][i]\n",
    "    ln+=l[i][n//2]\n",
    "print(f+ln)"
   ]
  },
  {
   "cell_type": "code",
   "execution_count": 34,
   "id": "3418f40a",
   "metadata": {},
   "outputs": [
    {
     "name": "stdout",
     "output_type": "stream",
     "text": [
      "225\n"
     ]
    }
   ],
   "source": [
    "l=[[1,2,3],[4,5,6],[7,8,9]]\n",
    "n=3\n",
    "f=0\n",
    "ln=0\n",
    "for i in range(n):\n",
    "    f+=l[i][i]\n",
    "    ln+=l[i][n//2+1-1]\n",
    "print(f*ln)"
   ]
  },
  {
   "cell_type": "code",
   "execution_count": 41,
   "id": "50d6c131",
   "metadata": {},
   "outputs": [
    {
     "name": "stdout",
     "output_type": "stream",
     "text": [
      "225\n"
     ]
    }
   ],
   "source": [
    "l=[[1,2,3],[4,5,6],[7,8,9]]\n",
    "n=3\n",
    "f=0\n",
    "ln=0\n",
    "for i in range(n):\n",
    "    f+=l[i][i]\n",
    "    ln+=l[i][n-1]\n",
    "    n-=1\n",
    "print(f*ln)"
   ]
  },
  {
   "cell_type": "code",
   "execution_count": 45,
   "id": "36e82484",
   "metadata": {},
   "outputs": [
    {
     "name": "stdout",
     "output_type": "stream",
     "text": [
      "    *  \n",
      "  * * \n",
      "* * \n",
      "  * * \n",
      "    *  \n"
     ]
    }
   ],
   "source": [
    "n=5\n",
    "sp=n//2\n",
    "for i in range(n):\n",
    "    for k in range(sp):\n",
    "        print(' ',end=' ')\n",
    "    if i==0 or i==n-1:\n",
    "        st=1\n",
    "        for j in range(st):\n",
    "            print('*',end='  ')\n",
    "            \n",
    "    else:\n",
    "        st=2\n",
    "        for m in range(st):\n",
    "            if m==0 or m==st-1:\n",
    "                print('*',end=' ')\n",
    "            else:\n",
    "                print(' ',end=' ')\n",
    "    print()\n",
    "    if i<n//2:\n",
    "        sp-=1\n",
    "    else:\n",
    "        sp+=1"
   ]
  },
  {
   "cell_type": "code",
   "execution_count": 52,
   "id": "31162824",
   "metadata": {},
   "outputs": [
    {
     "name": "stdout",
     "output_type": "stream",
     "text": [
      "              *               \n",
      "            *   *             \n",
      "          *       *           \n",
      "        *           *         \n",
      "      *               *       \n",
      "    *                   *     \n",
      "  *                       *   \n",
      "*                           * \n",
      "  *                       *   \n",
      "    *                   *     \n",
      "      *               *       \n",
      "        *           *         \n",
      "          *       *           \n",
      "            *   *             \n",
      "              *               \n"
     ]
    }
   ],
   "source": [
    "n=15\n",
    "for i in range(n):\n",
    "    for j in range(n):\n",
    "        if i+j==n//2 or abs(i-j)==n//2 or i+j==3*(n//2):\n",
    "            print('*', end=' ')\n",
    "        else:\n",
    "            print(' ',end=' ')\n",
    "    print()"
   ]
  },
  {
   "cell_type": "code",
   "execution_count": 59,
   "id": "d19329bb",
   "metadata": {},
   "outputs": [
    {
     "name": "stdout",
     "output_type": "stream",
     "text": [
      "dcba\n"
     ]
    }
   ],
   "source": [
    "s='abcd'\n",
    "i=-1\n",
    "ss=''\n",
    "while i>=-len(s):\n",
    "    ss+=s[i]\n",
    "    i-=1\n",
    "print(ss)"
   ]
  },
  {
   "cell_type": "code",
   "execution_count": 22,
   "id": "df57b993",
   "metadata": {},
   "outputs": [
    {
     "name": "stdout",
     "output_type": "stream",
     "text": [
      "    1     \n",
      "  2   3   \n",
      "4       5 \n",
      "  6   7   \n",
      "    8     \n"
     ]
    }
   ],
   "source": [
    "n=5\n",
    "num=1\n",
    "for c in range(n):\n",
    "    for d in range(n):\n",
    "        if c+d==n//2 or abs(c-d)==n//2 or c+d==(n//2)*3:\n",
    "            print(num,end=' ')\n",
    "            num=num-1 if c<num//2 else num+1\n",
    "        else:\n",
    "            print(' ',end=' ')\n",
    "    print()"
   ]
  },
  {
   "cell_type": "code",
   "execution_count": 11,
   "id": "36048311",
   "metadata": {},
   "outputs": [
    {
     "name": "stdout",
     "output_type": "stream",
     "text": [
      "  * *   * *   \n",
      "*     *     * \n",
      "*           * \n",
      "  *       *   \n",
      "    *   *     \n",
      "      *       \n"
     ]
    }
   ],
   "source": [
    "for row in range(6):\n",
    "    for col in range(7):\n",
    "        if (row==0 and col%3!=0) or (row==1 and col%3==0) or (row-col==2) or (row+col==8):\n",
    "            print('*',end=' ')\n",
    "        else:\n",
    "            print(' ',end=' ')\n",
    "    print()"
   ]
  },
  {
   "cell_type": "code",
   "execution_count": 1,
   "id": "21ac9937",
   "metadata": {},
   "outputs": [
    {
     "name": "stdout",
     "output_type": "stream",
     "text": [
      "ived\n"
     ]
    }
   ],
   "source": [
    "s='devi'\n",
    "i=-1\n",
    "ss=''\n",
    "while i>=-(len(s)):\n",
    "    ss+=s[i]\n",
    "    i-=1\n",
    "print(ss)"
   ]
  },
  {
   "cell_type": "code",
   "execution_count": 2,
   "id": "8f58ef41",
   "metadata": {},
   "outputs": [
    {
     "name": "stdout",
     "output_type": "stream",
     "text": [
      "ived\n"
     ]
    }
   ],
   "source": [
    "s='devi'\n",
    "ss=''\n",
    "i=len(s)-1\n",
    "while i>-1:\n",
    "    ss+=s[i]\n",
    "    i-=1\n",
    "print(ss)"
   ]
  },
  {
   "cell_type": "code",
   "execution_count": 6,
   "id": "7d086399",
   "metadata": {},
   "outputs": [
    {
     "name": "stdout",
     "output_type": "stream",
     "text": [
      "9\n"
     ]
    }
   ],
   "source": [
    "s='mallimallimallimallimallimallimallimallimalli'\n",
    "ss=''\n",
    "c=0\n",
    "for i in range(len(s)):\n",
    "    if ss=='malli':\n",
    "        c+=1\n",
    "        ss=''+s[i]\n",
    "    else:\n",
    "        ss+=s[i]\n",
    "if ss=='malli':\n",
    "        c+=1\n",
    "print(c)"
   ]
  },
  {
   "cell_type": "code",
   "execution_count": 3,
   "id": "cafa3f1a",
   "metadata": {},
   "outputs": [
    {
     "name": "stdout",
     "output_type": "stream",
     "text": [
      "['i', 'iv', 'ive', 'ived']\n"
     ]
    }
   ],
   "source": [
    "s='devi'\n",
    "l=[]\n",
    "x=''\n",
    "for i in range(-1,-(len(s)+1),-1):\n",
    "    x+=s[i]\n",
    "    l.append(x)\n",
    "print(l)"
   ]
  },
  {
   "cell_type": "code",
   "execution_count": 19,
   "id": "ba29117d",
   "metadata": {},
   "outputs": [
    {
     "name": "stdout",
     "output_type": "stream",
     "text": [
      "{}\n"
     ]
    }
   ],
   "source": [
    "s='google bleed blood'\n",
    "c=1\n",
    "d={}\n",
    "ss=''\n",
    "for i in range(len(s)):\n",
    "    ss+=s[i]\n",
    "    if ss==(s[i]*2):\n",
    "        c+=1\n",
    "        ss=''\n",
    "        d[s[i]]=c\n",
    "print(d)\n",
    "    "
   ]
  },
  {
   "cell_type": "code",
   "execution_count": 8,
   "id": "fd922312",
   "metadata": {},
   "outputs": [
    {
     "name": "stdout",
     "output_type": "stream",
     "text": [
      "{'o': 2, 'e': 1}\n"
     ]
    }
   ],
   "source": [
    "s='google bleed blood'\n",
    "c=1\n",
    "d={}\n",
    "for i in range(len(s)-1):\n",
    "    if s[i]==s[i+1]:\n",
    "        c+=1\n",
    "    else:\n",
    "        if c>1:\n",
    "            if s[i] not in d: \n",
    "                d[s[i]]=c//2\n",
    "            else:\n",
    "                d[s[i]]+=c//2\n",
    "            c=1\n",
    "if c>1:\n",
    "    d[s[i+1]]=c//2\n",
    "print(d)       "
   ]
  },
  {
   "cell_type": "code",
   "execution_count": 10,
   "id": "0a80c300",
   "metadata": {},
   "outputs": [
    {
     "name": "stdout",
     "output_type": "stream",
     "text": [
      "{'o': 1}\n"
     ]
    }
   ],
   "source": [
    "s='gooogle'\n",
    "c=1\n",
    "d={}\n",
    "for i in range(len(s)-1):\n",
    "    if s[i]==s[i+1]:\n",
    "        c+=1\n",
    "    else:\n",
    "        if c>1:\n",
    "            if s[i] not in d: \n",
    "                d[s[i]]=c//2\n",
    "            else:\n",
    "                d[s[i]]+=c//2\n",
    "            c=1\n",
    "if c>1:\n",
    "    d[s[i+1]]=c//2\n",
    "print(d)  "
   ]
  },
  {
   "cell_type": "code",
   "execution_count": 10,
   "id": "12bbddfc",
   "metadata": {},
   "outputs": [
    {
     "name": "stdout",
     "output_type": "stream",
     "text": [
      "enter user number : 10\n",
      "5 5\n"
     ]
    }
   ],
   "source": [
    "l=[12,5,3,4,10,13]\n",
    "n=int(input('enter user number : '))\n",
    "for i in range(len(l)):\n",
    "    for j in range(i+1,len(l)+1):\n",
    "        if sum(l[i:j])==n:\n",
    "            print(i+1,j)\n",
    "            break\n",
    "        if sum(l[i:j])>12:\n",
    "            break"
   ]
  },
  {
   "cell_type": "code",
   "execution_count": 20,
   "id": "e4e14ffb",
   "metadata": {},
   "outputs": [
    {
     "name": "stdout",
     "output_type": "stream",
     "text": [
      "enter user number : 5\n",
      "2 2\n"
     ]
    }
   ],
   "source": [
    "l=[2,5,3,4,10,13]\n",
    "n=int(input('enter user number : '))\n",
    "for i in range(len(l)):\n",
    "    for j in range(i+1,len(l)+1):\n",
    "        if sum(l[i:j])==n:\n",
    "            print(i+1,j)\n",
    "            break\n",
    "        if sum(l[i:j])>12:\n",
    "            break"
   ]
  },
  {
   "cell_type": "code",
   "execution_count": 16,
   "id": "fbc493ae",
   "metadata": {},
   "outputs": [
    {
     "name": "stdout",
     "output_type": "stream",
     "text": [
      "enter user number : 12\n",
      "2 4\n"
     ]
    }
   ],
   "source": [
    "l=[2,5,3,4,10,13]\n",
    "n=int(input('enter user number : '))\n",
    "for i in range(len(l)):\n",
    "    for j in range(i+1,len(l)+1):\n",
    "        if sum(l[i:j])==n:\n",
    "            print(i+1,j)"
   ]
  },
  {
   "cell_type": "code",
   "execution_count": 4,
   "id": "e9ac519c",
   "metadata": {},
   "outputs": [
    {
     "name": "stdout",
     "output_type": "stream",
     "text": [
      "[22, 2, 17, 25, 29, 5, 7]\n",
      "[2, 5, 7, 17, 22, 25, 29]\n"
     ]
    }
   ],
   "source": [
    "#Selection Sort Technique\n",
    "d=[22,2,17,25,29,5,7]\n",
    "print(d)\n",
    "for i in range(len(d)):\n",
    "    min_val=min(d[i:])\n",
    "    min_ind=d.index(min_val)\n",
    "    d[i],d[min_ind]=d[min_ind],d[i]\n",
    "print(d)"
   ]
  },
  {
   "cell_type": "code",
   "execution_count": 6,
   "id": "c58b183e",
   "metadata": {},
   "outputs": [
    {
     "name": "stdout",
     "output_type": "stream",
     "text": [
      "[2, 5, 7, 17, 22, 25, 29]\n"
     ]
    }
   ],
   "source": [
    "#Selection Sort Technique\n",
    "d=[22,2,17,25,29,5,7]\n",
    "for x in range(len(d)):\n",
    "    mi=x\n",
    "    for y in range(x+1,len(d)):\n",
    "        if d[mi]>d[y]:\n",
    "            mi=y\n",
    "    d[x],d[mi]=d[mi],d[x]\n",
    "print(d)"
   ]
  },
  {
   "cell_type": "code",
   "execution_count": 5,
   "id": "5e34a44b",
   "metadata": {},
   "outputs": [
    {
     "name": "stdout",
     "output_type": "stream",
     "text": [
      "[2, 5, 7, 17, 22, 25, 29]\n"
     ]
    }
   ],
   "source": [
    "#Bubble Sort Technique\n",
    "l=[22,2,17,25,29,5,7]\n",
    "for i in range(len(d)-1):\n",
    "    for j in range(len(d)-1-i):\n",
    "        if l[j]>l[j+1]:\n",
    "            l[j],l[j+1]=l[j+1],l[j]\n",
    "print(l)\n"
   ]
  },
  {
   "cell_type": "code",
   "execution_count": 1,
   "id": "c21df0c0",
   "metadata": {},
   "outputs": [
    {
     "name": "stdout",
     "output_type": "stream",
     "text": [
      "[5, 13, 23, 37, 47, 61, 73, 89]\n"
     ]
    }
   ],
   "source": [
    "#3rd prime number in given range\n",
    "l=[]\n",
    "for n in range(1,100):\n",
    "    if n>1:\n",
    "        for i in range(2,n//2+1):\n",
    "            if n%i==0:\n",
    "                break\n",
    "        else:\n",
    "            l.append(n)\n",
    "print(l[2::3])"
   ]
  },
  {
   "cell_type": "code",
   "execution_count": 7,
   "id": "7aa73d9a",
   "metadata": {},
   "outputs": [
    {
     "name": "stdout",
     "output_type": "stream",
     "text": [
      "[2, 3, 5, 7, 11, 13, 17, 19, 23, 29]\n"
     ]
    }
   ],
   "source": [
    "#first 10 prime numbers\n",
    "l=[]\n",
    "for n in range(1,100):\n",
    "    if n>1:\n",
    "        for i in range(2,n//2+1):\n",
    "            if n%i==0:\n",
    "                break\n",
    "        else:\n",
    "            l.append(n)\n",
    "print(l[:10:])"
   ]
  },
  {
   "cell_type": "code",
   "execution_count": 32,
   "id": "f7584664",
   "metadata": {},
   "outputs": [
    {
     "name": "stdout",
     "output_type": "stream",
     "text": [
      "[5, 11, 131, 181, 313, 373, 727, 787, 919, 10301, 10601, 11411, 12721, 13331, 13931, 14741, 15551, 16361, 16661, 17971, 18481, 19891]\n"
     ]
    }
   ],
   "source": [
    "#2nd palyprime numbers from given range\n",
    "c=[]\n",
    "for i in range(1,20000):\n",
    "    num=i\n",
    "    r=0\n",
    "    while i!=0:\n",
    "        rem=i%10\n",
    "        r=r*10+rem\n",
    "        i=i//10\n",
    "    if num==r:\n",
    "        if num>1:\n",
    "            for d in range(2,num//2+1):\n",
    "                if num%d==0:\n",
    "                    break\n",
    "            else:\n",
    "                c.append(num)\n",
    "print(c[2::2])"
   ]
  },
  {
   "cell_type": "code",
   "execution_count": 33,
   "id": "05f9a877",
   "metadata": {},
   "outputs": [
    {
     "name": "stdout",
     "output_type": "stream",
     "text": [
      "[2, 3, 5, 7, 11, 101, 131, 151, 181, 191]\n"
     ]
    }
   ],
   "source": [
    "#first 10 palyprime numbers\n",
    "c=[]\n",
    "for i in range(1,20000):\n",
    "    num=i\n",
    "    r=0\n",
    "    while i!=0:\n",
    "        rem=i%10\n",
    "        r=r*10+rem\n",
    "        i=i//10\n",
    "    if num==r:\n",
    "        if num>1:\n",
    "            for d in range(2,num//2+1):\n",
    "                if num%d==0:\n",
    "                    break\n",
    "            else:\n",
    "                c.append(num)\n",
    "print(c[:10:])"
   ]
  },
  {
   "cell_type": "code",
   "execution_count": 34,
   "id": "a19d663e",
   "metadata": {},
   "outputs": [
    {
     "name": "stdout",
     "output_type": "stream",
     "text": [
      "tomorrow\n"
     ]
    }
   ],
   "source": [
    "#lengthiest word in a given string\n",
    "s='i want to give mock tomorrow'\n",
    "l=s.split()\n",
    "d={}\n",
    "for i in range(len(l)):\n",
    "    if l[i] not in d:\n",
    "        d[l[i]]=len(l[i])\n",
    "val=list(d.values())\n",
    "h=val[0]\n",
    "for x in range(1,len(val)):\n",
    "    if h<val[x]:\n",
    "        h=val[x]\n",
    "for k,v in d.items():\n",
    "    if h==v:\n",
    "        print(k)"
   ]
  },
  {
   "cell_type": "code",
   "execution_count": 34,
   "id": "f10a38c4",
   "metadata": {},
   "outputs": [
    {
     "name": "stdout",
     "output_type": "stream",
     "text": [
      "charishma\n"
     ]
    }
   ],
   "source": [
    "#wap to print lenthiest word in given string\n",
    "d='i love you charishma'\n",
    "c=d.split()\n",
    "i={}\n",
    "for x in range(len(c)):\n",
    "    if c[x] not in i:\n",
    "        i[c[x]]=len(c[x])\n",
    "val=list(i.values())\n",
    "h=val[0]\n",
    "for y in range(1,len(val)):\n",
    "    if h<val[y]:\n",
    "        h=val[y]\n",
    "for k,v in i.items():\n",
    "    if h==v:\n",
    "        print(k)"
   ]
  },
  {
   "cell_type": "code",
   "execution_count": 25,
   "id": "cc6da711",
   "metadata": {},
   "outputs": [
    {
     "name": "stdout",
     "output_type": "stream",
     "text": [
      "11\n"
     ]
    }
   ],
   "source": [
    "#wap to print most repeated word in given list\n",
    "c=[10,11,12,13,12,14,10,15,10,11,11,14,11]\n",
    "d={}\n",
    "for i in range(len(c)):\n",
    "    if c[i] not in d:\n",
    "        d[c[i]]=1\n",
    "    else:\n",
    "        d[c[i]]+=1\n",
    "val=list(d.values())\n",
    "h=val[0]\n",
    "for j in range(1,len(val)):\n",
    "    if h<val[j]:\n",
    "        h=val[j]\n",
    "for k,v in d.items():\n",
    "    if h==v:\n",
    "        print(k)"
   ]
  },
  {
   "cell_type": "code",
   "execution_count": 36,
   "id": "2a186176",
   "metadata": {},
   "outputs": [
    {
     "name": "stdout",
     "output_type": "stream",
     "text": [
      "e\n",
      "n\n"
     ]
    }
   ],
   "source": [
    "#wap to print most frequently occured word in a given string\n",
    "s='engineering'\n",
    "d={}\n",
    "for i in range(len(s)):\n",
    "    if s[i] not in d:\n",
    "        d[s[i]]=1\n",
    "    else:\n",
    "        d[s[i]]+=1\n",
    "val=list(d.values())\n",
    "h=val[0]\n",
    "for i in range(1,len(val)):\n",
    "    if h<val[i]:\n",
    "        h=val[i]\n",
    "for k,v in d.items():\n",
    "    if h==v:\n",
    "        print(k)"
   ]
  },
  {
   "cell_type": "code",
   "execution_count": 13,
   "id": "8da0a5df",
   "metadata": {},
   "outputs": [
    {
     "name": "stdout",
     "output_type": "stream",
     "text": [
      "[11, 12, 13, 14, 17, 22]\n"
     ]
    }
   ],
   "source": [
    "#wap to remove duplicates in a list\n",
    "l=[11,12,11,13,12,11,14,12,11,17,22]\n",
    "d=[]\n",
    "for i in range(len(l)):\n",
    "    if l[i] not in d:\n",
    "        d+=[l[i]]\n",
    "print(d)"
   ]
  },
  {
   "cell_type": "code",
   "execution_count": 14,
   "id": "51af0e02",
   "metadata": {},
   "outputs": [
    {
     "name": "stdout",
     "output_type": "stream",
     "text": [
      "10\n",
      "20\n",
      "12\n"
     ]
    }
   ],
   "source": [
    "#wap to print even numbers in the list\n",
    "l=[10,20,11,31,12,13,15,7]\n",
    "for i in range(len(l)):\n",
    "    if l[i]%2==0:\n",
    "        print(l[i])"
   ]
  },
  {
   "cell_type": "code",
   "execution_count": 52,
   "id": "f87105d3",
   "metadata": {},
   "outputs": [
    {
     "name": "stdout",
     "output_type": "stream",
     "text": [
      "10\n",
      "11\n",
      "12\n",
      "17\n",
      "22\n"
     ]
    }
   ],
   "source": [
    "#wap to print values in even index position\n",
    "n=[10,20,11,31,12,15,17,25,22]\n",
    "for i in range(len(n)):\n",
    "    if i%2==0:\n",
    "        print(n[i])"
   ]
  },
  {
   "cell_type": "code",
   "execution_count": 54,
   "id": "0f6afa92",
   "metadata": {},
   "outputs": [
    {
     "name": "stdout",
     "output_type": "stream",
     "text": [
      "[10, 20, 12, 16, 31, 11, 13, 19]\n"
     ]
    }
   ],
   "source": [
    "#wap to print even and odd values in the given list\n",
    "l=[10,20,31,11,12,13,16,19]\n",
    "odd=[]\n",
    "even=[]\n",
    "for i in range(len(l)):\n",
    "    if l[i]%2==0:\n",
    "        even+=[l[i]]\n",
    "    else:\n",
    "        odd+=[l[i]]\n",
    "print(even+odd)"
   ]
  },
  {
   "cell_type": "code",
   "execution_count": 1,
   "id": "55f02b93",
   "metadata": {},
   "outputs": [
    {
     "name": "stdout",
     "output_type": "stream",
     "text": [
      "20\n"
     ]
    }
   ],
   "source": [
    "#wap to print highest value in a given list\n",
    "l=[10,15,12,20,13]\n",
    "h=l[0]\n",
    "for i in range(1,len(l)):\n",
    "    if h<l[i]:\n",
    "        h=l[i]\n",
    "print(h)"
   ]
  },
  {
   "cell_type": "code",
   "execution_count": 59,
   "id": "6309735f",
   "metadata": {},
   "outputs": [
    {
     "name": "stdout",
     "output_type": "stream",
     "text": [
      "[6, 7, 8, 9, 10]\n"
     ]
    }
   ],
   "source": [
    "#BUBBLE SORT\n",
    "#wap to print sort values in list without using sort method\n",
    "l=[10,9,8,7,6]\n",
    "for i in range(len(l)-1):\n",
    "    for j in range(len(l)-1-i):\n",
    "        if l[j]>l[j+1]:\n",
    "            l[j],l[j+1]=l[j+1],l[j]\n",
    "print(l)"
   ]
  },
  {
   "cell_type": "code",
   "execution_count": 43,
   "id": "037e2907",
   "metadata": {},
   "outputs": [
    {
     "name": "stdout",
     "output_type": "stream",
     "text": [
      "5\n"
     ]
    }
   ],
   "source": [
    "#wap to print 2nd lowest value in given list\n",
    "l=[2,5,7,29,22,11,17]\n",
    "for i in range(2):\n",
    "    for j in range(len(l)-1-i):\n",
    "        if l[j]<l[j+1]:\n",
    "            l[j],l[j+1]=l[j+1],l[j]\n",
    "print(l[-2])"
   ]
  },
  {
   "cell_type": "code",
   "execution_count": 6,
   "id": "f3ec63a7",
   "metadata": {},
   "outputs": [
    {
     "name": "stdout",
     "output_type": "stream",
     "text": [
      "0\n",
      "3\n",
      "6\n",
      "7\n",
      "11\n"
     ]
    }
   ],
   "source": [
    "\n",
    "c=[2,5,7,2,11,17,20,22,25,29,17,22,29]\n",
    "for i in range(len(c)):\n",
    "    if c[i]%2==0:\n",
    "        print(i)"
   ]
  },
  {
   "cell_type": "code",
   "execution_count": 11,
   "id": "8927ea3c",
   "metadata": {},
   "outputs": [
    {
     "name": "stdout",
     "output_type": "stream",
     "text": [
      "[2, 5, 7, 11, 17, 20, 22, 25, 29]\n"
     ]
    }
   ],
   "source": [
    "c=[2,5,7,2,11,17,20,22,25,29,17,22,29]\n",
    "d=[]\n",
    "for i in range(len(c)):\n",
    "    if c[i] not in d:\n",
    "        d.append(c[i])\n",
    "print(d)"
   ]
  },
  {
   "cell_type": "code",
   "execution_count": 20,
   "id": "5979418d",
   "metadata": {},
   "outputs": [
    {
     "name": "stdout",
     "output_type": "stream",
     "text": [
      "29\n"
     ]
    }
   ],
   "source": [
    "c=[2,5,7,2,11,17,20,22,25,29,17,22,29]\n",
    "d=[]\n",
    "for i in range(len(c)):\n",
    "    if c[i] not in d:\n",
    "        d.append(c[i])\n",
    "    else:\n",
    "        c[i]+=1\n",
    "print(k)"
   ]
  },
  {
   "cell_type": "code",
   "execution_count": 26,
   "id": "fe38ce7d",
   "metadata": {},
   "outputs": [
    {
     "name": "stdout",
     "output_type": "stream",
     "text": [
      "2=3\n",
      "17=2\n",
      "22=2\n"
     ]
    }
   ],
   "source": [
    "d=[2,5,2,7,2,11,17,20,22,29,17,22]\n",
    "a={}\n",
    "for i in range(len(d)):\n",
    "    if d[i] not in a:\n",
    "        a[d[i]]=1\n",
    "    else:\n",
    "        a[d[i]]+=1\n",
    "val=list(a.values())\n",
    "h=val[0]\n",
    "for c in range(1,len(val)):\n",
    "    if h<val[c]:\n",
    "        h=val[c]\n",
    "for k,v in a.items():\n",
    "    if v>=2:\n",
    "        print(f'{k}={v}')"
   ]
  },
  {
   "cell_type": "code",
   "execution_count": 12,
   "id": "292039e1",
   "metadata": {},
   "outputs": [
    {
     "name": "stdout",
     "output_type": "stream",
     "text": [
      "emirp\n"
     ]
    }
   ],
   "source": [
    "n=17\n",
    "num=n\n",
    "res=0\n",
    "while n!=0:\n",
    "    rem=n%10\n",
    "    n=n//10\n",
    "    res=res*10+rem\n",
    "if num!=res:\n",
    "    for d in range(2,num//2+1):\n",
    "        if num%d==0:\n",
    "            print('not')\n",
    "            break\n",
    "    else:\n",
    "        for c in range(2,res//2+1):\n",
    "            if res%c==0:\n",
    "                print('not')\n",
    "                break\n",
    "        else:\n",
    "            print('emirp')\n",
    "else:\n",
    "    print('not')"
   ]
  },
  {
   "cell_type": "code",
   "execution_count": 4,
   "id": "9c3334c9",
   "metadata": {},
   "outputs": [
    {
     "name": "stdout",
     "output_type": "stream",
     "text": [
      "[11, 17, 22, 25, 29, [...]]\n"
     ]
    }
   ],
   "source": [
    "d=[11,17,22,25,29]\n",
    "c=d\n",
    "d.append(c)\n",
    "print(c)"
   ]
  },
  {
   "cell_type": "code",
   "execution_count": 9,
   "id": "9bce9935",
   "metadata": {},
   "outputs": [
    {
     "name": "stdout",
     "output_type": "stream",
     "text": [
      "[1, 6, 2, 5, 3, 4]\n"
     ]
    }
   ],
   "source": [
    "d=[1,2,3,4,5,6,7,8,9]\n",
    "c=[]\n",
    "for i in range(len(d)):\n",
    "    for j in range(i+1,len(d)):\n",
    "        if d[i]+d[j]==7:\n",
    "            c.append(d[i])\n",
    "            c.append(d[j])\n",
    "print(c)"
   ]
  },
  {
   "cell_type": "code",
   "execution_count": 12,
   "id": "b6134a8f",
   "metadata": {},
   "outputs": [
    {
     "name": "stdout",
     "output_type": "stream",
     "text": [
      "2\n",
      "11\n",
      "22\n",
      "17\n",
      "29\n"
     ]
    }
   ],
   "source": [
    "c=[2,11,2,25,22,17,17,22,11,29,29]\n",
    "d={}\n",
    "for i in range(len(c)):\n",
    "    if c[i] not in d:\n",
    "        d[c[i]]=1\n",
    "    else:\n",
    "        d[c[i]]+=1\n",
    "val=list(d.values())\n",
    "h=val[0]\n",
    "for j in range(len(val)):\n",
    "    if h<val[j]:\n",
    "        h=val[j]\n",
    "for k,v in d.items():\n",
    "    if h==v:\n",
    "        print(k)"
   ]
  },
  {
   "cell_type": "code",
   "execution_count": 3,
   "id": "ab23ec28",
   "metadata": {},
   "outputs": [
    {
     "name": "stdout",
     "output_type": "stream",
     "text": [
      "[2, 2, 11, 11, 17, 17, 22, 22, 25, 29, 29]\n"
     ]
    }
   ],
   "source": [
    "c=[2,11,2,25,22,17,17,22,11,29,29]\n",
    "for i in range(len(c)-1):\n",
    "    for j in range(len(c)-1-i):\n",
    "        if c[j]>c[j+1]:\n",
    "            c[j],c[j+1]=c[j+1],c[j]\n",
    "print(c)"
   ]
  },
  {
   "cell_type": "code",
   "execution_count": 1,
   "id": "1273e3c2",
   "metadata": {},
   "outputs": [
    {
     "name": "stdout",
     "output_type": "stream",
     "text": [
      "[6, 7, 8, 9, 10]\n"
     ]
    }
   ],
   "source": [
    "#BUBBLE SORT\n",
    "#wap to print sort values in list without using sort method\n",
    "l=[10,9,8,7,6]\n",
    "for i in range(len(l)-1):\n",
    "    for j in range(len(l)-1-i):\n",
    "        if l[j]>l[j+1]:\n",
    "            l[j],l[j+1]=l[j+1],l[j]\n",
    "print(l)"
   ]
  },
  {
   "cell_type": "code",
   "execution_count": 2,
   "id": "d11738e5",
   "metadata": {},
   "outputs": [
    {
     "name": "stdout",
     "output_type": "stream",
     "text": [
      "[2, 5, 7, 17, 22, 25, 29]\n"
     ]
    }
   ],
   "source": [
    "#Selection Sort Technique\n",
    "d=[22,2,17,25,29,5,7]\n",
    "for x in range(len(d)):\n",
    "    mi=x\n",
    "    for y in range(x+1,len(d)):\n",
    "        if d[mi]>d[y]:\n",
    "            mi=y\n",
    "    d[x],d[mi]=d[mi],d[x]\n",
    "print(d)"
   ]
  },
  {
   "cell_type": "code",
   "execution_count": 3,
   "id": "cd2c9afd",
   "metadata": {},
   "outputs": [
    {
     "name": "stdout",
     "output_type": "stream",
     "text": [
      "[2, 11, 17, 22, 25, 29, 92]\n"
     ]
    }
   ],
   "source": [
    "d=[11,17,2,22,25,29,92]\n",
    "for i in range(len(d)-1):\n",
    "    for j in range(len(d)-1-i):\n",
    "        if d[j]>d[j+1]:\n",
    "            d[j],d[j+1]=d[j+1],d[j]\n",
    "print(d)"
   ]
  },
  {
   "cell_type": "code",
   "execution_count": 4,
   "id": "9754a789",
   "metadata": {},
   "outputs": [
    {
     "name": "stdout",
     "output_type": "stream",
     "text": [
      "[2, 11, 17, 22, 25, 29, 92]\n"
     ]
    }
   ],
   "source": [
    "d=[11,17,2,22,25,29,92]\n",
    "for x in range(len(d)):\n",
    "    mi=x\n",
    "    for y in range(x+1,len(d)):\n",
    "        if d[mi]>d[y]:\n",
    "            mi=y\n",
    "    d[x],d[mi]=d[mi],d[x]\n",
    "print(d)"
   ]
  },
  {
   "cell_type": "code",
   "execution_count": 5,
   "id": "51eb9369",
   "metadata": {},
   "outputs": [
    {
     "name": "stdout",
     "output_type": "stream",
     "text": [
      "[2, 11, 17, 22, 25, 29, 92]\n"
     ]
    }
   ],
   "source": [
    "d=[11,17,2,22,25,29,92]\n",
    "for i in range(len(d)-1):\n",
    "    for j in range(len(d)-1-i):\n",
    "        if d[j]>d[j+1]:\n",
    "            d[j],d[j+1]=d[j+1],d[j]\n",
    "print(d)"
   ]
  },
  {
   "cell_type": "code",
   "execution_count": 6,
   "id": "11061889",
   "metadata": {},
   "outputs": [
    {
     "name": "stdout",
     "output_type": "stream",
     "text": [
      "[[], [], [], 5]\n"
     ]
    }
   ],
   "source": [
    "d=[[]]*3\n",
    "d.append(5)\n",
    "print(d)"
   ]
  },
  {
   "cell_type": "code",
   "execution_count": 11,
   "id": "3b841d0e",
   "metadata": {},
   "outputs": [
    {
     "name": "stdout",
     "output_type": "stream",
     "text": [
      "11\n",
      "12\n",
      "14\n",
      "21\n",
      "24\n",
      "25\n"
     ]
    }
   ],
   "source": [
    "d=[11,12,14,21,24,25,27,29,92]\n",
    "c=iter(d)\n",
    "try:\n",
    "    print(next(c))\n",
    "    print(next(c))\n",
    "    print(next(c))\n",
    "    print(next(c))\n",
    "    print(next(c))\n",
    "    print(next(c))\n",
    "except:\n",
    "    pass"
   ]
  },
  {
   "cell_type": "code",
   "execution_count": 4,
   "id": "de901aff",
   "metadata": {},
   "outputs": [
    {
     "name": "stdout",
     "output_type": "stream",
     "text": [
      "2\n",
      "5\n",
      "7\n",
      "12\n",
      "19\n",
      "31\n",
      "50\n"
     ]
    }
   ],
   "source": [
    "class Devi():\n",
    "    def __init__(self,f,s,n):\n",
    "        self.f=f\n",
    "        self.s=s\n",
    "        self.n=n\n",
    "    def __iter__(self):\n",
    "        self.i=1\n",
    "        return self\n",
    "    def __next__(self):\n",
    "        if self.i<=self.n:\n",
    "            self.i+=1\n",
    "            res=self.f\n",
    "            c=self.f+self.s\n",
    "            self.f,self.s=self.s,c\n",
    "            return res\n",
    "        else:\n",
    "            raise StopIteration\n",
    "d=Devi(2,5,7)\n",
    "for i in d:\n",
    "    print(i)"
   ]
  },
  {
   "cell_type": "code",
   "execution_count": 8,
   "id": "76ee6b82",
   "metadata": {},
   "outputs": [
    {
     "name": "stdout",
     "output_type": "stream",
     "text": [
      "2\n",
      "5\n",
      "7\n",
      "12\n",
      "19\n",
      "31\n",
      "50\n"
     ]
    }
   ],
   "source": [
    "class Devi():\n",
    "    def __init__(self,f,s,n):\n",
    "        self.f=f\n",
    "        self.s=s\n",
    "        self.n=n\n",
    "    def __iter__(self):\n",
    "        self.i=1\n",
    "        return self\n",
    "    def __next__(self):\n",
    "        if self.i<=self.n:\n",
    "            self.i+=1\n",
    "            res=self.f\n",
    "            c=self.f+self.s\n",
    "            self.f,self.s=self.s,c\n",
    "            return res\n",
    "        else:\n",
    "            raise StopIteration\n",
    "d=Devi(2,5,7)\n",
    "for i in d:\n",
    "    print(i)"
   ]
  },
  {
   "cell_type": "code",
   "execution_count": 17,
   "id": "8881d060",
   "metadata": {},
   "outputs": [
    {
     "name": "stdout",
     "output_type": "stream",
     "text": [
      "[1, 2, 11, 12, 13, 13, 21, 7, 2, 5]\n"
     ]
    }
   ],
   "source": [
    "d=[1,2,11,12,13,13,21]\n",
    "d.extend([7,2,5])\n",
    "print(d)"
   ]
  },
  {
   "cell_type": "code",
   "execution_count": 16,
   "id": "e1a17a85",
   "metadata": {},
   "outputs": [
    {
     "name": "stdout",
     "output_type": "stream",
     "text": [
      "[1, 2, 11, 12, 13, 13, 21]\n"
     ]
    }
   ],
   "source": [
    "l=[1,2,11,12,13,13,21]\n",
    "for i in range(len(d)-1):\n",
    "    for j in range(len(d)-1-i):\n",
    "        if l[j]>l[j+1]:\n",
    "            l[j],l[j+1]=l[j+1],l[j]\n",
    "print(l)"
   ]
  },
  {
   "cell_type": "code",
   "execution_count": 19,
   "id": "a518f36e",
   "metadata": {},
   "outputs": [
    {
     "name": "stdout",
     "output_type": "stream",
     "text": [
      "13\n"
     ]
    }
   ],
   "source": [
    "l=[1,2,11,12,13,13,21]\n",
    "for i in range(len(d)-1):\n",
    "    for j in range(len(d)-1-i):\n",
    "        if l[j]>l[j+1]:\n",
    "            l[j],l[j+1]=l[j+1],l[j]\n",
    "print(l[-2])"
   ]
  },
  {
   "cell_type": "code",
   "execution_count": 21,
   "id": "8c1901c2",
   "metadata": {},
   "outputs": [
    {
     "name": "stdout",
     "output_type": "stream",
     "text": [
      "92\n"
     ]
    }
   ],
   "source": [
    "d=[1,2,5,7,11,29,92]\n",
    "h=d[0]\n",
    "for i in range(1,len(d)):\n",
    "    if h<d[i]:\n",
    "        h=d[i]\n",
    "print(h)"
   ]
  },
  {
   "cell_type": "code",
   "execution_count": 22,
   "id": "93ecc115",
   "metadata": {},
   "outputs": [
    {
     "name": "stdout",
     "output_type": "stream",
     "text": [
      "[92, 29, 11, 7, 5, 2, 1]\n"
     ]
    }
   ],
   "source": [
    "d=[1,2,5,7,11,29,92]\n",
    "for i in range(len(d)//2):\n",
    "    d[i],d[len(d)-1-i]=d[len(d)-1-i],d[i]\n",
    "print(d)"
   ]
  },
  {
   "cell_type": "code",
   "execution_count": 5,
   "id": "50dad29c",
   "metadata": {},
   "outputs": [
    {
     "name": "stdout",
     "output_type": "stream",
     "text": [
      "[13, 20, 12, 15, 10]\n"
     ]
    }
   ],
   "source": [
    "l=[10,15,12,20,13]\n",
    "for i in range(len(l)//2):\n",
    "    l[i],l[len(l)-1-i]=l[len(l)-1-i],l[i]\n",
    "print(l)"
   ]
  },
  {
   "cell_type": "code",
   "execution_count": 10,
   "id": "3b270471",
   "metadata": {},
   "outputs": [
    {
     "name": "stdout",
     "output_type": "stream",
     "text": [
      "[10, 12, 13, 15, 20]\n"
     ]
    }
   ],
   "source": [
    "l=[10,15,12,20,13]\n",
    "for i in range(len(l)-1):\n",
    "    mi=i\n",
    "    for j in range(i+1,len(l)):\n",
    "        if l[mi]>l[j]:\n",
    "            mi=j\n",
    "        l[i],l[mi]=l[mi],l[i]\n",
    "print(l)"
   ]
  },
  {
   "cell_type": "code",
   "execution_count": 9,
   "id": "257d48b9",
   "metadata": {},
   "outputs": [
    {
     "name": "stdout",
     "output_type": "stream",
     "text": [
      "[10, 12, 13, 15, 20, 25, 29]\n"
     ]
    }
   ],
   "source": [
    "l=[29,10,25,15,12,20,13]\n",
    "for a in range(len(l)-1):\n",
    "    for b in range(len(l)-1-a):\n",
    "        if l[b]>l[b+1]:\n",
    "            l[b],l[b+1]=l[b+1],l[b]\n",
    "print(l)"
   ]
  },
  {
   "cell_type": "code",
   "execution_count": 10,
   "id": "b5926c8a",
   "metadata": {},
   "outputs": [
    {
     "name": "stdout",
     "output_type": "stream",
     "text": [
      "29\n",
      "10\n",
      "25\n",
      "15\n",
      "11\n",
      "92\n",
      "12\n",
      "20\n",
      "13\n"
     ]
    }
   ],
   "source": [
    "l=[29,10,25,15,11,29,11,92,29,12,20,13]\n",
    "d={}\n",
    "for i in range(len(l)):\n",
    "    if l[i] not in d:\n",
    "        d[l[i]]=1\n",
    "    else:\n",
    "        d[l[i]]+=1\n",
    "c=list(d.values())\n",
    "h=c[0]\n",
    "for j in range(1,len(c)):\n",
    "    if h<c[j]:\n",
    "        h=c[j]\n",
    "for k,v in d.items():\n",
    "    if h>2:\n",
    "        print(k)"
   ]
  },
  {
   "cell_type": "code",
   "execution_count": 22,
   "id": "33aca91a",
   "metadata": {},
   "outputs": [
    {
     "name": "stdout",
     "output_type": "stream",
     "text": [
      "[2]\n"
     ]
    }
   ],
   "source": [
    "l=[1,2,3,4,5,6,7,2]\n",
    "c=[]\n",
    "d=[]\n",
    "for i in range(len(l)):\n",
    "    if l[i] not in c:\n",
    "        c+=[l[i]]\n",
    "    else:\n",
    "        d+=[l[i]]\n",
    "print(d)"
   ]
  },
  {
   "cell_type": "code",
   "execution_count": 32,
   "id": "0d60f325",
   "metadata": {},
   "outputs": [
    {
     "name": "stdout",
     "output_type": "stream",
     "text": [
      "25\n"
     ]
    }
   ],
   "source": [
    "l=[29,10,25,15,11]\n",
    "for i in range(len(l)-1):\n",
    "    for j in range(len(l)-1-i):\n",
    "        if l[j]>l[j+1]:\n",
    "            l[j],l[j+1]=l[j+1],l[j]\n",
    "print(l[-2])"
   ]
  },
  {
   "cell_type": "code",
   "execution_count": 33,
   "id": "7e35c3f1",
   "metadata": {},
   "outputs": [
    {
     "name": "stdout",
     "output_type": "stream",
     "text": [
      "[10, 11, 15, 25, 29]\n"
     ]
    }
   ],
   "source": [
    "l=[29,10,25,15,11]\n",
    "for i in range(len(l)):\n",
    "    mi=i\n",
    "    for j in range(i+1,len(l)):\n",
    "        if l[mi]>l[j]:\n",
    "            mi=j\n",
    "    l[i],l[mi]=l[mi],l[i]\n",
    "print(l)"
   ]
  },
  {
   "cell_type": "code",
   "execution_count": 7,
   "id": "885d1363",
   "metadata": {},
   "outputs": [
    {
     "name": "stdout",
     "output_type": "stream",
     "text": [
      "[10, 11, 15, 25, 29]\n"
     ]
    }
   ],
   "source": [
    "#Bubble Sort\n",
    "a=[29,10,25,15,11]\n",
    "for x in range(len(a)-1):\n",
    "    for y in range(len(a)-1-x):\n",
    "        if a[y]>a[y+1]:\n",
    "            a[y],a[y+1]=a[y+1],a[y]\n",
    "print(a)"
   ]
  },
  {
   "cell_type": "code",
   "execution_count": 6,
   "id": "05eab367",
   "metadata": {},
   "outputs": [
    {
     "name": "stdout",
     "output_type": "stream",
     "text": [
      "[10, 11, 15, 25, 29]\n"
     ]
    }
   ],
   "source": [
    "#Selection Sort\n",
    "a=[29,10,25,15,11]\n",
    "for i in range(len(a)):\n",
    "    d=i\n",
    "    for j in range(i+1,len(a)):\n",
    "        if a[d]>a[j]:\n",
    "            d=j\n",
    "    a[i],a[d]=a[d],a[i]\n",
    "print(a)"
   ]
  },
  {
   "cell_type": "code",
   "execution_count": 9,
   "id": "8c46f2b1",
   "metadata": {},
   "outputs": [
    {
     "name": "stdout",
     "output_type": "stream",
     "text": [
      "[29, 11]\n"
     ]
    }
   ],
   "source": [
    "a=[29,10,25,11,29,92,15,11]\n",
    "d=[]\n",
    "c=[]\n",
    "for x in range(len(a)):\n",
    "    if a[x] not in d:\n",
    "        d+=[a[x]]\n",
    "    else:\n",
    "        c+=[a[x]]\n",
    "print(c)"
   ]
  },
  {
   "cell_type": "code",
   "execution_count": 13,
   "id": "73947b4c",
   "metadata": {},
   "outputs": [
    {
     "name": "stdout",
     "output_type": "stream",
     "text": [
      "29\n"
     ]
    }
   ],
   "source": [
    "a=[29,10,25,15,11]\n",
    "i=a[0]\n",
    "for c in range(1,len(a)):\n",
    "    if i<a[c]:\n",
    "        i=a[c]\n",
    "print(i)"
   ]
  },
  {
   "cell_type": "code",
   "execution_count": 15,
   "id": "ac2dea32",
   "metadata": {},
   "outputs": [
    {
     "name": "stdout",
     "output_type": "stream",
     "text": [
      "[11, 15, 25, 10, 29]\n"
     ]
    }
   ],
   "source": [
    "l=[29,10,25,15,11]\n",
    "for i in range(len(l)//2):\n",
    "    l[i],l[len(l)-1-i]=l[len(l)-1-i],l[i]\n",
    "print(l)"
   ]
  },
  {
   "cell_type": "code",
   "execution_count": 16,
   "id": "af704b19",
   "metadata": {},
   "outputs": [
    {
     "name": "stdout",
     "output_type": "stream",
     "text": [
      "10\n"
     ]
    }
   ],
   "source": [
    "d=[29,10,25,15,11]\n",
    "a=d[0]\n",
    "for i in range(len(d)):\n",
    "    if a>d[i]:\n",
    "        a=d[i]\n",
    "print(a)"
   ]
  },
  {
   "cell_type": "code",
   "execution_count": 2,
   "id": "079ffeaa",
   "metadata": {},
   "outputs": [
    {
     "name": "stdout",
     "output_type": "stream",
     "text": [
      "E\n",
      "N\n"
     ]
    }
   ],
   "source": [
    "s='ENGINEERING'\n",
    "d={}\n",
    "for i in range(len(s)):\n",
    "    if s[i] not in d:\n",
    "        d[s[i]]=1\n",
    "    else:\n",
    "        d[s[i]]+=1\n",
    "c=list(d.values())\n",
    "b=c[0]\n",
    "for j in range(1,len(c)):\n",
    "    if b<c[j]:\n",
    "        b=c[j]\n",
    "for k,v in d.items():\n",
    "    if b==v:\n",
    "        print(k)"
   ]
  },
  {
   "cell_type": "code",
   "execution_count": 3,
   "id": "28fc0fbc",
   "metadata": {},
   "outputs": [
    {
     "name": "stdout",
     "output_type": "stream",
     "text": [
      "WE\n",
      "WANT\n"
     ]
    }
   ],
   "source": [
    "A='WE WANT TO ATTEND CLASS EVERYDAY BECAUSE WE WANT JOB IN THIS MONTH'\n",
    "s=A.split()\n",
    "d={}\n",
    "for i in range(len(s)):\n",
    "    if s[i] not in d:\n",
    "        d[s[i]]=1\n",
    "    else:\n",
    "        d[s[i]]+=1\n",
    "c=list(d.values())\n",
    "b=c[0]\n",
    "for j in range(1,len(c)):\n",
    "    if b<c[j]:\n",
    "        b=c[j]\n",
    "for k,v in d.items():\n",
    "    if b==v:\n",
    "        print(k)"
   ]
  },
  {
   "cell_type": "code",
   "execution_count": 4,
   "id": "3fa8b350",
   "metadata": {},
   "outputs": [
    {
     "name": "stdout",
     "output_type": "stream",
     "text": [
      "EVERYDAY\n"
     ]
    }
   ],
   "source": [
    "A='WE WANT TO ATTEND CLASS EVERYDAY BECAUSE WE WANT JOB IN THIS MONTH'\n",
    "s=A.split()\n",
    "d={}\n",
    "for i in range(len(s)):\n",
    "    if s[i] not in d:\n",
    "        d[s[i]]=len(s[i])\n",
    "c=list(d.values())\n",
    "b=c[0]\n",
    "for j in range(1,len(c)):\n",
    "    if b<c[j]:\n",
    "        b=c[j]\n",
    "for k,v in d.items():\n",
    "    if b==v:\n",
    "        print(k)"
   ]
  },
  {
   "cell_type": "code",
   "execution_count": 7,
   "id": "ff1595d4",
   "metadata": {},
   "outputs": [
    {
     "name": "stdout",
     "output_type": "stream",
     "text": [
      "11\n",
      "22\n"
     ]
    }
   ],
   "source": [
    "s=[11,12,13,12,22,13,19,18,19,18,17,17]\n",
    "d={}\n",
    "for a in range(len(s)):\n",
    "    if s[a] not in d:\n",
    "        d[s[a]]=1\n",
    "    else:\n",
    "        d[s[a]]+=1\n",
    "for k,v in d.items():\n",
    "    if v==1:\n",
    "        print(k)"
   ]
  },
  {
   "cell_type": "code",
   "execution_count": 11,
   "id": "cc10b275",
   "metadata": {},
   "outputs": [
    {
     "name": "stdout",
     "output_type": "stream",
     "text": [
      "12\n",
      "13\n",
      "19\n",
      "18\n",
      "17\n"
     ]
    }
   ],
   "source": [
    "s=[11,12,13,12,22,13,19,18,19,18,17,17]\n",
    "d={}\n",
    "for a in range(len(s)):\n",
    "    if s[a] not in d:\n",
    "        d[s[a]]=1\n",
    "    else:\n",
    "        d[s[a]]+=1\n",
    "for k,v in d.items():\n",
    "    if v>1:\n",
    "        print(k)"
   ]
  },
  {
   "cell_type": "code",
   "execution_count": 17,
   "id": "ddd321cd",
   "metadata": {},
   "outputs": [
    {
     "name": "stdout",
     "output_type": "stream",
     "text": [
      "[0, 0, 0, 10, 7, 8, 5, 7, 11]\n"
     ]
    }
   ],
   "source": [
    "x=[10,0,7,8,0,5,0,7,11]\n",
    "z=[]\n",
    "n=[]\n",
    "for i in range(len(x)):\n",
    "    if x[i]==0:\n",
    "        z.append(x[i])\n",
    "    else:\n",
    "        n.append(x[i])\n",
    "print(z+n)"
   ]
  },
  {
   "cell_type": "code",
   "execution_count": 21,
   "id": "b25fef34",
   "metadata": {},
   "outputs": [
    {
     "name": "stdout",
     "output_type": "stream",
     "text": [
      "Dhoni MS as known commonly Dhoni, Singh Mahendra\n"
     ]
    }
   ],
   "source": [
    "i='Mahendra Singh Dhoni, commonly known as MS Dhoni'\n",
    "d=i.split()\n",
    "for a in range(len(d)//2):\n",
    "    d[a],d[len(d)-1-a]=d[len(d)-1-a],d[a]\n",
    "print(' '.join(d))"
   ]
  },
  {
   "cell_type": "code",
   "execution_count": 22,
   "id": "854fb426",
   "metadata": {},
   "outputs": [
    {
     "name": "stdout",
     "output_type": "stream",
     "text": [
      "ardnehaM hgniS ,inohD ylnommoc nwonk sa SM inohD\n"
     ]
    }
   ],
   "source": [
    "a='Mahendra Singh Dhoni, commonly known as MS Dhoni'\n",
    "d=a.split()\n",
    "for i in range(len(d)):\n",
    "    d[i]=d[i][::-1]\n",
    "print(' '.join(d))"
   ]
  },
  {
   "cell_type": "code",
   "execution_count": 23,
   "id": "eab7d408",
   "metadata": {},
   "outputs": [
    {
     "name": "stdout",
     "output_type": "stream",
     "text": [
      "3a4b7c7d8a8f8d\n"
     ]
    }
   ],
   "source": [
    "s='aaabbccccdaafd'\n",
    "res=''\n",
    "count=1\n",
    "for i in range(len(s)-1):\n",
    "    if s[i]==s[i+1]:\n",
    "        count+=1\n",
    "    else:\n",
    "        res+=str(count)+s[i]\n",
    "res+=str(count)+s[i+1]\n",
    "print(res)"
   ]
  },
  {
   "cell_type": "code",
   "execution_count": 25,
   "id": "eb779650",
   "metadata": {},
   "outputs": [
    {
     "name": "stdout",
     "output_type": "stream",
     "text": [
      "vcratkohlc\n"
     ]
    }
   ],
   "source": [
    "d='viratkohli'\n",
    "c=''\n",
    "for i in range(len(d)):\n",
    "    if d[i]=='i':\n",
    "        c+='c'\n",
    "    else:\n",
    "        c+=d[i]\n",
    "print(c)"
   ]
  },
  {
   "cell_type": "code",
   "execution_count": 26,
   "id": "a0d9706c",
   "metadata": {},
   "outputs": [
    {
     "name": "stdout",
     "output_type": "stream",
     "text": [
      "0\n",
      "4\n",
      "6\n"
     ]
    }
   ],
   "source": [
    "d='abcdabaefg'\n",
    "ch='a'\n",
    "for i in range(len(d)):\n",
    "    if d[i]==ch:\n",
    "        print(i)"
   ]
  },
  {
   "cell_type": "code",
   "execution_count": 18,
   "id": "24130ed2",
   "metadata": {},
   "outputs": [
    {
     "name": "stdout",
     "output_type": "stream",
     "text": [
      "5\n",
      "3\n",
      "2\n",
      "5\n",
      "2\n",
      "2\n",
      "7\n",
      "2\n",
      "2\n",
      "2\n"
     ]
    }
   ],
   "source": [
    "d=[15,23,25,29,17,22,92]\n",
    "for i in range(len(d)):\n",
    "    while d[i]!=0:\n",
    "        rem=d[i]%10\n",
    "        if rem>1:\n",
    "            for a in range(2,rem//2+1):\n",
    "                if rem%a==0:\n",
    "                    break\n",
    "            else:\n",
    "                print(rem)\n",
    "        d[i]//=10"
   ]
  },
  {
   "cell_type": "code",
   "execution_count": 15,
   "id": "a222dbb1",
   "metadata": {},
   "outputs": [
    {
     "name": "stdout",
     "output_type": "stream",
     "text": [
      "1 10\n",
      "2 9\n",
      "3 8\n",
      "4 7\n",
      "5 6\n",
      "6 5\n",
      "7 4\n",
      "8 3\n",
      "9 2\n",
      "10 1\n"
     ]
    }
   ],
   "source": [
    "n=10\n",
    "for i in range(1,n+1):\n",
    "        print(f'{i} {n+1-i}')"
   ]
  },
  {
   "cell_type": "code",
   "execution_count": 19,
   "id": "7e3aabf2",
   "metadata": {},
   "outputs": [
    {
     "name": "stdout",
     "output_type": "stream",
     "text": [
      "7\n",
      "2\n",
      "2\n",
      "2\n",
      "2\n",
      "2\n",
      "5\n",
      "5\n",
      "2\n",
      "2\n",
      "7\n",
      "7\n",
      "5\n",
      "7\n"
     ]
    }
   ],
   "source": [
    "d=[17,22,29,92,11,12,15,25,72,57,97]\n",
    "for i in range(len(d)):\n",
    "    while d[i]!=0:\n",
    "        rem=d[i]%10\n",
    "        if rem>1:\n",
    "            for a in range(2,rem//2+1):\n",
    "                if rem%a==0:\n",
    "                    break\n",
    "            else:\n",
    "                print(rem)\n",
    "        d[i]//=10"
   ]
  },
  {
   "cell_type": "code",
   "execution_count": 38,
   "id": "01dac8d8",
   "metadata": {},
   "outputs": [
    {
     "name": "stdout",
     "output_type": "stream",
     "text": [
      "[2, 3, 4, 5, 6, 7, 8, 9]\n"
     ]
    }
   ],
   "source": [
    "l=[1,2,3,4,5,6,7,8,9]\n",
    "a=[]\n",
    "b=[]\n",
    "for i in range(len(l)):\n",
    "    for j in range(len(l)):\n",
    "        if l[i]+l[j]==11:\n",
    "            a.append(l[i])\n",
    "        else:\n",
    "            b.append(i)\n",
    "print(a)"
   ]
  },
  {
   "cell_type": "code",
   "execution_count": 2,
   "id": "835ec4f6",
   "metadata": {},
   "outputs": [
    {
     "name": "stdout",
     "output_type": "stream",
     "text": [
      "1 2 3 4 5\n"
     ]
    }
   ],
   "source": [
    "d=['1','2','3','4','5']\n",
    "print(' '.join(d))"
   ]
  },
  {
   "cell_type": "code",
   "execution_count": 15,
   "id": "aadc779a",
   "metadata": {},
   "outputs": [
    {
     "name": "stdout",
     "output_type": "stream",
     "text": [
      "[5, 6, 7, 8, 1, 2, 3, 4]\n"
     ]
    }
   ],
   "source": [
    "d=[1,2,3,4,5,6,7,8]\n",
    "i=[]\n",
    "for a in range(len(d)//2,len(d)):\n",
    "    i.append(d[a])\n",
    "for b in range(len(d)//2):\n",
    "    i.append(d[b])\n",
    "print(i)"
   ]
  },
  {
   "cell_type": "code",
   "execution_count": 18,
   "id": "a2026f5a",
   "metadata": {},
   "outputs": [
    {
     "name": "stdout",
     "output_type": "stream",
     "text": [
      "[2, 5, 11, 29, 92]\n"
     ]
    }
   ],
   "source": [
    "#Selection Sort\n",
    "d=[5,11,2,92,29]\n",
    "for a in range(len(d)):\n",
    "    di=a\n",
    "    for b in range(a+1,len(d)):\n",
    "        if d[di]>d[b]:\n",
    "            di=b\n",
    "        d[a],d[di]=d[di],d[a]\n",
    "print(d)"
   ]
  },
  {
   "cell_type": "code",
   "execution_count": 20,
   "id": "252f3211",
   "metadata": {},
   "outputs": [
    {
     "name": "stdout",
     "output_type": "stream",
     "text": [
      "[2, 5, 11, 29, 92]\n"
     ]
    }
   ],
   "source": [
    "#Bubble Sort\n",
    "d=[11,5,2,29,92]\n",
    "for a in range(len(d)-1):\n",
    "    for b in range(len(d)-1-a):\n",
    "        if d[b]>d[b+1]:\n",
    "            d[b],d[b+1]=d[b+1],d[b]\n",
    "print(d)"
   ]
  },
  {
   "cell_type": "code",
   "execution_count": 23,
   "id": "8fc31c91",
   "metadata": {},
   "outputs": [
    {
     "name": "stdout",
     "output_type": "stream",
     "text": [
      "92\n"
     ]
    }
   ],
   "source": [
    "d=[11,5,2,29,92]\n",
    "a=d[0]\n",
    "for i in range(1,len(d)):\n",
    "    if a<d[i]:\n",
    "        a=d[i]\n",
    "print(a)"
   ]
  },
  {
   "cell_type": "code",
   "execution_count": 3,
   "id": "ba3b1a98",
   "metadata": {},
   "outputs": [
    {
     "name": "stdout",
     "output_type": "stream",
     "text": [
      "[2, 5, 7, 11, 29]\n"
     ]
    }
   ],
   "source": [
    "d=[2,5,7,11,20,22,29]\n",
    "c=[]\n",
    "for a in range(len(d)):\n",
    "    if d[a]>1:\n",
    "        for b in range(2,d[a]//2+1):\n",
    "            if d[a]%b==0:\n",
    "                break\n",
    "        else:\n",
    "            c.append(d[a])\n",
    "print(c)"
   ]
  },
  {
   "cell_type": "code",
   "execution_count": 35,
   "id": "4642b2d2",
   "metadata": {},
   "outputs": [
    {
     "name": "stdout",
     "output_type": "stream",
     "text": [
      "[2, 4, 6, 8, 10]\n",
      "[1, 3, 5, 5, 7, 9, 11, 11]\n"
     ]
    }
   ],
   "source": [
    "d=[1,2,3,4,5,5,7,6,8,9,10,11,11]\n",
    "even=[]\n",
    "odd=[]\n",
    "for i in d:\n",
    "    if i%2==0:\n",
    "        even.append(i)\n",
    "    else:\n",
    "        odd.append(i)\n",
    "even.sort()\n",
    "odd.sort()\n",
    "print(even)\n",
    "print(odd)\n"
   ]
  },
  {
   "cell_type": "code",
   "execution_count": 1,
   "id": "b5f3ea3e",
   "metadata": {},
   "outputs": [
    {
     "name": "stdout",
     "output_type": "stream",
     "text": [
      "111\n"
     ]
    }
   ],
   "source": [
    "l=[11,12,18,15,19,20,16]\n",
    "add=0\n",
    "for i in l:\n",
    "    add+=i\n",
    "print(add)"
   ]
  },
  {
   "cell_type": "code",
   "execution_count": 4,
   "id": "4dee91cd",
   "metadata": {},
   "outputs": [
    {
     "name": "stdout",
     "output_type": "stream",
     "text": [
      "[2, 5, 7, 11, 29]\n"
     ]
    }
   ],
   "source": [
    "l=[2,5,7,11,20,22,29,92]\n",
    "c=[]\n",
    "for i in l:\n",
    "    if i>1:\n",
    "        for a in range(2,i//2+1):\n",
    "            if i%a==0:\n",
    "                break\n",
    "        else:\n",
    "            c.append(i)\n",
    "print(c)"
   ]
  },
  {
   "cell_type": "code",
   "execution_count": 4,
   "id": "ef737f05",
   "metadata": {},
   "outputs": [
    {
     "name": "stdout",
     "output_type": "stream",
     "text": [
      "5 4\n",
      "7 2\n",
      "6 3\n"
     ]
    }
   ],
   "source": [
    "l=[5,7,4,6,1,3,2]\n",
    "for i in range(len(l)):\n",
    "    for j in range(i+1,len(l)):\n",
    "        if l[i]+l[j]==9:\n",
    "            print(l[i],l[j])"
   ]
  },
  {
   "cell_type": "code",
   "execution_count": 16,
   "id": "735c5dae",
   "metadata": {},
   "outputs": [
    {
     "name": "stdout",
     "output_type": "stream",
     "text": [
      "[3, 1, 6, 4, 7, 5]\n"
     ]
    }
   ],
   "source": [
    "l=[5,7,4,6,1,3]\n",
    "for a in range(len(l)//2):\n",
    "    l[a],l[len(l)-1-a]=l[len(l)-1-a],l[a]\n",
    "print(l)"
   ]
  },
  {
   "cell_type": "code",
   "execution_count": 20,
   "id": "cc29875a",
   "metadata": {},
   "outputs": [
    {
     "name": "stdout",
     "output_type": "stream",
     "text": [
      "[3, 2, 5]\n",
      "[5, 4, 1]\n",
      "[10]\n"
     ]
    }
   ],
   "source": [
    "l=[3,2,5,4,1,10]\n",
    "for i in range(len(l)):\n",
    "    for j in range(i+1,len(l)+1):\n",
    "        if (sum(l[i:j])==10):\n",
    "            print(l[i:j])"
   ]
  },
  {
   "cell_type": "code",
   "execution_count": 6,
   "id": "6168ece5",
   "metadata": {},
   "outputs": [
    {
     "name": "stdout",
     "output_type": "stream",
     "text": [
      "enter length of the list11\n",
      "enter values1 2 3 4 5 6 7 8 9 10 11\n",
      "[1, 2, 3, 4, 5, 6, 7, 8, 9, 10, 11]\n"
     ]
    }
   ],
   "source": [
    "N=int(input('enter length of the list'))\n",
    "L=list(map(int,input('enter values').split()))\n",
    "print(L)"
   ]
  },
  {
   "cell_type": "code",
   "execution_count": 1,
   "id": "e78cc76d",
   "metadata": {},
   "outputs": [
    {
     "name": "stdout",
     "output_type": "stream",
     "text": [
      "enter length of the list5\n",
      "enter values12345\n",
      "[12345]\n"
     ]
    }
   ],
   "source": [
    "N=int(input('enter length of the list'))\n",
    "L=list(map(int,input('enter values').split()))\n",
    "print(L)"
   ]
  },
  {
   "cell_type": "code",
   "execution_count": 5,
   "id": "d078fcde",
   "metadata": {},
   "outputs": [
    {
     "name": "stdout",
     "output_type": "stream",
     "text": [
      "[12, 11, 29, 22, 92, 10, 20, 17, 5, 25, 79, 2, 75]\n"
     ]
    }
   ],
   "source": [
    "A=[12,11,29,22,92,10,20]\n",
    "B=[11,17,5,25,79,2,75,29]\n",
    "L=A+B\n",
    "nl=[]\n",
    "for num in L:\n",
    "    if num not in nl:\n",
    "        nl+=[num]\n",
    "print(nl)"
   ]
  },
  {
   "cell_type": "code",
   "execution_count": 6,
   "id": "8cf948e0",
   "metadata": {},
   "outputs": [
    {
     "name": "stdout",
     "output_type": "stream",
     "text": [
      "(2, 4)\n",
      "(1, 5)\n"
     ]
    }
   ],
   "source": [
    "#write a program to print pairs of numbers that gives sum as 6\n",
    "l=[2,3,1,4,5]\n",
    "for i in range(len(l)-1):\n",
    "    for j in range(i+1,len(l)):\n",
    "        if l[i]+l[j]==6:\n",
    "            print((l[i],l[j]))"
   ]
  },
  {
   "cell_type": "code",
   "execution_count": 9,
   "id": "e8823cb5",
   "metadata": {},
   "outputs": [
    {
     "name": "stdout",
     "output_type": "stream",
     "text": [
      "[2, 3, 1]\n",
      "[1, 5]\n",
      "[6]\n"
     ]
    }
   ],
   "source": [
    "# write a program to print sub sequence of the list which has sum as 6\n",
    "l=[2,3,1,5,6,]\n",
    "for i in range(len(l)):\n",
    "    for j in range(i+1,len(l)+1):\n",
    "        if sum(l[i:j])==6:\n",
    "            print(l[i:j])"
   ]
  },
  {
   "cell_type": "code",
   "execution_count": 1,
   "id": "d7712bc7",
   "metadata": {},
   "outputs": [
    {
     "name": "stdout",
     "output_type": "stream",
     "text": [
      "17\n"
     ]
    }
   ],
   "source": [
    "#write a program to print highest value in given list based on number last digit high value\n",
    "l=[12,15,17,11,20,52]\n",
    "print(max(l,key=lambda num:[num%10]))"
   ]
  },
  {
   "cell_type": "code",
   "execution_count": 4,
   "id": "ba98c9e3",
   "metadata": {},
   "outputs": [
    {
     "name": "stdout",
     "output_type": "stream",
     "text": [
      "22\n"
     ]
    }
   ],
   "source": [
    "#write a program to print most frequently occured value in given list\n",
    "l=[11,17,22,29,92,22,11,22,92,29,22,92,22]\n",
    "print(max(l,key=lambda num:[l.count(num)]))"
   ]
  },
  {
   "cell_type": "code",
   "execution_count": 7,
   "id": "4e9a9c7f",
   "metadata": {},
   "outputs": [
    {
     "name": "stdout",
     "output_type": "stream",
     "text": [
      "C\n"
     ]
    }
   ],
   "source": [
    "#write a program to print highest value key in Dictionary\n",
    "D={'a':25,'b':34,'C':92,'d':29,'e':29}\n",
    "print(max(D,key=lambda c:[D[c]]))"
   ]
  },
  {
   "cell_type": "code",
   "execution_count": 3,
   "id": "8e5977c8",
   "metadata": {},
   "outputs": [
    {
     "name": "stdout",
     "output_type": "stream",
     "text": [
      "[11, 13, 17, 19, 23, 29, 31, 37]\n",
      "31\n"
     ]
    }
   ],
   "source": [
    "#write a program to print 2nd Highest Prime in Given Range\n",
    "l=[]\n",
    "for a in range(10,41):\n",
    "    if all(a>1 and a%d!=0 for d in range(2,a//2+1)):\n",
    "        l+=[a]\n",
    "print(l)\n",
    "for i in range(len(l)-1):\n",
    "    for j in range(len(l)-1-i):\n",
    "        if l[j]>l[j+1]:\n",
    "            l[j],l[j+1]=l[j+1],l[j]\n",
    "print(l[-2])"
   ]
  },
  {
   "cell_type": "code",
   "execution_count": 6,
   "id": "c1f2f7d6",
   "metadata": {},
   "outputs": [
    {
     "name": "stdout",
     "output_type": "stream",
     "text": [
      "[11, 13, 17, 19, 23, 29, 31, 37]\n"
     ]
    }
   ],
   "source": [
    "l=[a for a in range(10,41) if all(a%d!=0 for d in range(2,a//2+1)) and a>1]\n",
    "print(l)"
   ]
  },
  {
   "cell_type": "code",
   "execution_count": 10,
   "id": "36298c52",
   "metadata": {},
   "outputs": [
    {
     "name": "stdout",
     "output_type": "stream",
     "text": [
      "enter a value :1\n",
      "5\n"
     ]
    }
   ],
   "source": [
    "a=int(input(\"enter a value :\"))\n",
    "b=5 if a else 4\n",
    "print(b)"
   ]
  },
  {
   "cell_type": "code",
   "execution_count": null,
   "id": "1cd10b38",
   "metadata": {},
   "outputs": [],
   "source": []
  },
  {
   "cell_type": "code",
   "execution_count": null,
   "id": "d2b0fe80",
   "metadata": {},
   "outputs": [],
   "source": []
  },
  {
   "cell_type": "code",
   "execution_count": null,
   "id": "cd10bc2a",
   "metadata": {},
   "outputs": [],
   "source": []
  },
  {
   "cell_type": "code",
   "execution_count": null,
   "id": "87470a01",
   "metadata": {},
   "outputs": [],
   "source": []
  },
  {
   "cell_type": "code",
   "execution_count": null,
   "id": "0bf3f5fe",
   "metadata": {},
   "outputs": [],
   "source": [
    "                                   💖CHARISHMA💝DEVIPRASAD💖"
   ]
  },
  {
   "cell_type": "code",
   "execution_count": null,
   "id": "d3121e12",
   "metadata": {},
   "outputs": [],
   "source": [
    "                                          💖CHARDEVI💖"
   ]
  }
 ],
 "metadata": {
  "kernelspec": {
   "display_name": "Python 3 (ipykernel)",
   "language": "python",
   "name": "python3"
  },
  "language_info": {
   "codemirror_mode": {
    "name": "ipython",
    "version": 3
   },
   "file_extension": ".py",
   "mimetype": "text/x-python",
   "name": "python",
   "nbconvert_exporter": "python",
   "pygments_lexer": "ipython3",
   "version": "3.9.13"
  }
 },
 "nbformat": 4,
 "nbformat_minor": 5
}
