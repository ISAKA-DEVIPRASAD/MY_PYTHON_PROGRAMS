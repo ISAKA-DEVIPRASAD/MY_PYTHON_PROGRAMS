{
 "cells": [
  {
   "cell_type": "code",
   "execution_count": 1,
   "id": "08b385d7",
   "metadata": {},
   "outputs": [
    {
     "name": "stdout",
     "output_type": "stream",
     "text": [
      "c is highest\n"
     ]
    }
   ],
   "source": [
    "a,b,c=11,12,13\n",
    "if a>b:\n",
    "    if a>c:\n",
    "        print('a is highest')\n",
    "    else:\n",
    "        print('c is highest')\n",
    "else:\n",
    "    if b>c:\n",
    "        print('b is highest')\n",
    "    else:\n",
    "        print('c is highest')"
   ]
  },
  {
   "cell_type": "code",
   "execution_count": 2,
   "id": "63256e80",
   "metadata": {},
   "outputs": [
    {
     "name": "stdout",
     "output_type": "stream",
     "text": [
      "        1 \n",
      "      2 1 2 \n",
      "    3 2 1 2 3 \n",
      "  4 3 2 1 2 3 4 \n",
      "5 4 3 2 1 2 3 4 5 \n"
     ]
    }
   ],
   "source": [
    "n=5\n",
    "num=n\n",
    "st=1\n",
    "sp=n-1\n",
    "for i in range(n):\n",
    "    #num=st//2+1\n",
    "    num=i+1\n",
    "    for j in range(sp):\n",
    "        print(' ',end=' ')\n",
    "    for k in range(st):\n",
    "        print(num,end=' ')\n",
    "        num=num-1 if k<st//2 else num+1\n",
    "    print()\n",
    "    st+=2\n",
    "    sp-=1"
   ]
  },
  {
   "cell_type": "code",
   "execution_count": 27,
   "id": "0b09bcba",
   "metadata": {},
   "outputs": [
    {
     "name": "stdout",
     "output_type": "stream",
     "text": [
      "      1 \n",
      "    2 3 2 \n",
      "  3 4 5 4 3 \n",
      "4 5 6 7 6 5 4 \n",
      "  3 4 5 4 3 \n",
      "    2 3 2 \n",
      "      1 \n"
     ]
    }
   ],
   "source": [
    "n=7\n",
    "sp=n//2\n",
    "st=1\n",
    "for f in range(n):\n",
    "    num=st//2+1\n",
    "    for g in range(sp):\n",
    "        print(' ',end=' ')\n",
    "    for h in range(st):\n",
    "        print(num,end=' ')\n",
    "        num=num+1 if h<st//2 else num-1\n",
    "    print()\n",
    "    if f<n//2:\n",
    "        st+=2\n",
    "        sp-=1\n",
    "    else:\n",
    "        st-=2\n",
    "        sp+=1\n",
    "        "
   ]
  },
  {
   "cell_type": "code",
   "execution_count": 1,
   "id": "5d6eb705",
   "metadata": {},
   "outputs": [
    {
     "name": "stdout",
     "output_type": "stream",
     "text": [
      "[14, 21, 77]\n"
     ]
    }
   ],
   "source": [
    "def even(n):\n",
    "    return n%7==0\n",
    "L=[11,14,21,22,25,77,71,99]\n",
    "x=list(filter(even,L))\n",
    "print(x)"
   ]
  },
  {
   "cell_type": "code",
   "execution_count": 10,
   "id": "1bd17ac8",
   "metadata": {},
   "outputs": [
    {
     "name": "stdout",
     "output_type": "stream",
     "text": [
      "[11, 2, 5, 7, 29]\n"
     ]
    }
   ],
   "source": [
    "def prime(n):\n",
    "    if n>1:\n",
    "        for x in range(2,n//2+1):\n",
    "            if n%x==0:\n",
    "                return False\n",
    "        else:\n",
    "            return True\n",
    "A=[10,11,22,21,2,5,7,99,91,29]\n",
    "x=(list(filter(prime,A)))\n",
    "print(x)"
   ]
  },
  {
   "cell_type": "code",
   "execution_count": 26,
   "id": "9f680ac2",
   "metadata": {},
   "outputs": [
    {
     "name": "stdout",
     "output_type": "stream",
     "text": [
      "[11, 121, 22, 77, 99]\n",
      "[True, True, True, False, False, True, False, True]\n"
     ]
    }
   ],
   "source": [
    "def palindrome(n):\n",
    "    num=n\n",
    "    res=0\n",
    "    while n>0:\n",
    "        rem=n%10\n",
    "        res=res*10+rem\n",
    "        n=n//10\n",
    "    if res==num:\n",
    "        return True\n",
    "    else: \n",
    "        return False\n",
    "D=[11,121,22,57,72,77,97,99]\n",
    "print(list(filter(palindrome,D)))\n",
    "print(list(map(palindrome,D)))"
   ]
  },
  {
   "cell_type": "code",
   "execution_count": 22,
   "id": "c1ed16ef",
   "metadata": {},
   "outputs": [
    {
     "name": "stdout",
     "output_type": "stream",
     "text": [
      "[153]\n",
      "[False, True, False, False, False]\n"
     ]
    }
   ],
   "source": [
    "def armstrong(n):\n",
    "    num=n\n",
    "    res=0\n",
    "    l=len(str(n))\n",
    "    while n>0:\n",
    "        rem=n%10\n",
    "        res=res+rem**l\n",
    "        n=n//10\n",
    "    if res==num:\n",
    "        return True\n",
    "    else:\n",
    "        return False\n",
    "K=[11,153,89,98,22]\n",
    "print(list(filter(armstrong,K)))\n",
    "print(list(map(armstrong,K)))"
   ]
  },
  {
   "cell_type": "code",
   "execution_count": 3,
   "id": "a23d6775",
   "metadata": {},
   "outputs": [
    {
     "name": "stdout",
     "output_type": "stream",
     "text": [
      "enter number7\n",
      "Weird\n"
     ]
    }
   ],
   "source": [
    "n = int(input(\"enter number\"))\n",
    "\n",
    "if n % 2 == 1:\n",
    "    print(\"Weird\")\n",
    "elif n in range(2,6):\n",
    "    print(\"Not Weird\")\n",
    "elif n in range(6,21):\n",
    "    print(\"Weird\")\n",
    "else:\n",
    "    print(\"Not Weird\")"
   ]
  },
  {
   "cell_type": "code",
   "execution_count": 3,
   "id": "0f7b1172",
   "metadata": {},
   "outputs": [
    {
     "name": "stdout",
     "output_type": "stream",
     "text": [
      "      5 \n",
      "    5 6 5 \n",
      "  5 6 7 6 5 \n",
      "5 6 7 8 7 6 5 \n",
      "  5 6 7 6 5 \n",
      "    5 6 5 \n",
      "      5 \n"
     ]
    }
   ],
   "source": [
    "n=7\n",
    "sp=n//2\n",
    "st=1\n",
    "for x in range(n):\n",
    "    num=5\n",
    "    for y in range(sp):\n",
    "        print(' ',end=' ')\n",
    "    for z in range(st):\n",
    "        print(num,end=' ')\n",
    "        num=num+1 if z<st//2 else num-1\n",
    "    print()\n",
    "    if x<n//2:\n",
    "        st+=2\n",
    "        sp-=1\n",
    "    else:\n",
    "        st-=2\n",
    "        sp+=1"
   ]
  },
  {
   "cell_type": "code",
   "execution_count": 23,
   "id": "d3ab36e6",
   "metadata": {},
   "outputs": [
    {
     "name": "stdout",
     "output_type": "stream",
     "text": [
      "a\n"
     ]
    }
   ],
   "source": [
    "if True:\n",
    "    print('a')"
   ]
  },
  {
   "cell_type": "code",
   "execution_count": 21,
   "id": "5ae42a97",
   "metadata": {},
   "outputs": [
    {
     "name": "stdout",
     "output_type": "stream",
     "text": [
      "Yes\n"
     ]
    }
   ],
   "source": [
    "l=[1,2,3,4,5,6]\n",
    "devi=False\n",
    "for i in range(len(l)):\n",
    "    for j in range(len(l)):\n",
    "        if l[i]+l[j]==9:\n",
    "            print('Yes')\n",
    "            devi=True\n",
    "            break\n",
    "    if devi:\n",
    "        break\n",
    "else:\n",
    "    print('No')"
   ]
  },
  {
   "cell_type": "code",
   "execution_count": 10,
   "id": "1dcf2c35",
   "metadata": {},
   "outputs": [
    {
     "name": "stdout",
     "output_type": "stream",
     "text": [
      "Special\n"
     ]
    }
   ],
   "source": [
    "n=145  #\n",
    "num=n  \n",
    "res=0\n",
    "while n!=0\n",
    "    rem=n%10\n",
    "    n//=10\n",
    "    fact=1\n",
    "    for i in range(1,rem+1):\n",
    "        fact*=i\n",
    "    res+=fact\n",
    "if num==res:\n",
    "    print('Special')\n",
    "else:\n",
    "    print('Not')\n",
    "        "
   ]
  },
  {
   "cell_type": "code",
   "execution_count": 7,
   "id": "3f2c2c48",
   "metadata": {},
   "outputs": [
    {
     "name": "stdout",
     "output_type": "stream",
     "text": [
      "DEvi Is GooD aT @CELL\n"
     ]
    }
   ],
   "source": [
    "s='deVI iS gOOd At @cell'\n",
    "res=''\n",
    "for i in range(len(s)):\n",
    "    if 'a'<=s[i]<='z':\n",
    "        res+=chr(ord(s[i])-32)\n",
    "    elif 'A'<=s[i]<='Z':\n",
    "        res+=chr(ord(s[i])+32)\n",
    "    else:\n",
    "        res+=s[i]\n",
    "print(res)"
   ]
  },
  {
   "cell_type": "code",
   "execution_count": null,
   "id": "479d6b30",
   "metadata": {},
   "outputs": [],
   "source": []
  },
  {
   "cell_type": "code",
   "execution_count": 47,
   "id": "743dc0db",
   "metadata": {},
   "outputs": [
    {
     "name": "stdout",
     "output_type": "stream",
     "text": [
      "enter a  number:9\n",
      "3\n",
      "yes it is pefect number\n"
     ]
    }
   ],
   "source": [
    "n=int(input('enter a  number:'))\n",
    "for a in range(n//2+1):\n",
    "    if a*a==n:\n",
    "        print(a)\n",
    "        print('yes it is pefect number')\n",
    "        break\n",
    "else:\n",
    "    print('no it is not perfect number')"
   ]
  },
  {
   "cell_type": "code",
   "execution_count": 68,
   "id": "bc31e6f0",
   "metadata": {},
   "outputs": [
    {
     "name": "stdout",
     "output_type": "stream",
     "text": [
      "ANA\n",
      "ANA\n",
      "2\n"
     ]
    }
   ],
   "source": [
    "s='BANANA'    #ANA \n",
    "chardevi=0\n",
    "for a in range(len(s)):\n",
    "     for b in range(a+1,len(s)+1):\n",
    "            #print(a,':',b)\n",
    "            N=s[a:b]\n",
    "            #print(N)\n",
    "            if N==N[::-1] and N!=s[a] and len(N)<=3 and N.startswith('A'):\n",
    "                chardevi+=1\n",
    "    \n",
    "                print(N)\n",
    "print(chardevi)"
   ]
  },
  {
   "cell_type": "code",
   "execution_count": 1,
   "id": "35106cd3",
   "metadata": {},
   "outputs": [],
   "source": [
    "# ANA ANA"
   ]
  },
  {
   "cell_type": "code",
   "execution_count": 27,
   "id": "539f612b",
   "metadata": {},
   "outputs": [
    {
     "name": "stdout",
     "output_type": "stream",
     "text": [
      "[2, 5, 7]\n"
     ]
    }
   ],
   "source": [
    "l=[2,5,7,11,29,92]\n",
    "L=[l[a] for a in range(len(l)//2)]\n",
    "print(L)"
   ]
  },
  {
   "cell_type": "code",
   "execution_count": 21,
   "id": "bcb52267",
   "metadata": {},
   "outputs": [
    {
     "name": "stdout",
     "output_type": "stream",
     "text": [
      "[11, 29, 92]\n"
     ]
    }
   ],
   "source": [
    "l=[2,5,7,11,29,92]\n",
    "m=[]\n",
    "for a in range(len(l)//2,len(l)):\n",
    "    m.append(l[a])\n",
    "print(m)"
   ]
  },
  {
   "cell_type": "code",
   "execution_count": 29,
   "id": "8bcb9175",
   "metadata": {},
   "outputs": [
    {
     "name": "stdout",
     "output_type": "stream",
     "text": [
      "[11, 29, 92]\n"
     ]
    }
   ],
   "source": [
    "l=[2,5,7,11,29,92]\n",
    "L=[l[a] for a in range(len(l)//2,len(l))]\n",
    "print(L)"
   ]
  },
  {
   "cell_type": "code",
   "execution_count": 35,
   "id": "e723970e",
   "metadata": {},
   "outputs": [
    {
     "name": "stdout",
     "output_type": "stream",
     "text": [
      "      *\n",
      "        *\n",
      "          *\n",
      "            *\n",
      "          *\n",
      "        *\n",
      "      *\n"
     ]
    }
   ],
   "source": [
    "n=7\n",
    "num=n\n",
    "sp=n//2\n",
    "st=1\n",
    "for i in range(n):\n",
    "    for j in range(sp):\n",
    "        print(' ',end=' ')\n",
    "    for k in range(st):\n",
    "        print('*',end='')\n",
    "    print()\n",
    "    if i<n//2:\n",
    "        sp+=1\n",
    "    else:\n",
    "        sp-=1"
   ]
  },
  {
   "cell_type": "code",
   "execution_count": 39,
   "id": "177c73fc",
   "metadata": {},
   "outputs": [
    {
     "name": "stdout",
     "output_type": "stream",
     "text": [
      "enter a value here:7\n",
      "*             \n",
      "  *           \n",
      "    *         \n",
      "      *       \n",
      "    *         \n",
      "  *           \n",
      "*             \n"
     ]
    }
   ],
   "source": [
    "n=int(input('enter a value here:'))\n",
    "for a in range(n):\n",
    "    for b in range(n):\n",
    "        if (a==b and a<=n//2) or a+b==n-1 and a>n//2:\n",
    "            print('*',end=' ')\n",
    "        else:\n",
    "            print(' ',end=' ')\n",
    "    print()"
   ]
  },
  {
   "cell_type": "code",
   "execution_count": 61,
   "id": "79df5f7e",
   "metadata": {},
   "outputs": [
    {
     "name": "stdout",
     "output_type": "stream",
     "text": [
      "1         \n",
      "  2       \n",
      "    3     \n",
      "  4       \n",
      "5         \n"
     ]
    }
   ],
   "source": [
    "S='DEVIC'\n",
    "L=[1,2,3,4,5]\n",
    "\n",
    "for a in range(5):\n",
    "    for b in range(5):\n",
    "        if b+a==4 and a>=5//2 or a==b and a<5//2:\n",
    "            print(L[a],end=' ')\n",
    "        else:\n",
    "            print(' ',end=' ')\n",
    "    print()"
   ]
  },
  {
   "cell_type": "code",
   "execution_count": 66,
   "id": "785eddba",
   "metadata": {},
   "outputs": [
    {
     "name": "stdout",
     "output_type": "stream",
     "text": [
      "before assiginig  min_value is   0\n",
      "after assiginig  min_value is   4\n",
      "before assiginig  min_value is   4\n",
      "after assiginig  min_value is   5\n",
      "**************************************************\n",
      "before swaping of the list  [7, 11, 92, 29, 3, 2, 5]\n",
      "after swaping of the list  [2, 11, 92, 29, 3, 7, 5]\n",
      "**************************************************\n",
      "before assiginig  min_value is   1\n",
      "after assiginig  min_value is   4\n",
      "**************************************************\n",
      "before swaping of the list  [2, 11, 92, 29, 3, 7, 5]\n",
      "after swaping of the list  [2, 3, 92, 29, 11, 7, 5]\n",
      "**************************************************\n",
      "before assiginig  min_value is   2\n",
      "after assiginig  min_value is   3\n",
      "before assiginig  min_value is   3\n",
      "after assiginig  min_value is   4\n",
      "before assiginig  min_value is   4\n",
      "after assiginig  min_value is   5\n",
      "before assiginig  min_value is   5\n",
      "after assiginig  min_value is   6\n",
      "**************************************************\n",
      "before swaping of the list  [2, 3, 92, 29, 11, 7, 5]\n",
      "after swaping of the list  [2, 3, 5, 29, 11, 7, 92]\n",
      "**************************************************\n",
      "before assiginig  min_value is   3\n",
      "after assiginig  min_value is   4\n",
      "before assiginig  min_value is   4\n",
      "after assiginig  min_value is   5\n",
      "**************************************************\n",
      "before swaping of the list  [2, 3, 5, 29, 11, 7, 92]\n",
      "after swaping of the list  [2, 3, 5, 7, 11, 29, 92]\n",
      "**************************************************\n",
      "**************************************************\n",
      "before swaping of the list  [2, 3, 5, 7, 11, 29, 92]\n",
      "after swaping of the list  [2, 3, 5, 7, 11, 29, 92]\n",
      "**************************************************\n",
      "**************************************************\n",
      "before swaping of the list  [2, 3, 5, 7, 11, 29, 92]\n",
      "after swaping of the list  [2, 3, 5, 7, 11, 29, 92]\n",
      "**************************************************\n",
      "[2, 3, 5, 7, 11, 29, 92]\n"
     ]
    }
   ],
   "source": [
    "L=[7,11,92,29,3,2,5]\n",
    "for  a in range(len(L)-1):\n",
    "    min_value=a\n",
    "    for b in range(a+1,len(L)):\n",
    "        if L[min_value]>L[b]:\n",
    "            print('before assiginig  min_value is  ',min_value)\n",
    "            min_value=b\n",
    "            print('after assiginig  min_value is  ',min_value)\n",
    "    print('*'*50)\n",
    "    print('before swaping of the list ',L)\n",
    "    L[a],L[min_value]=L[min_value],L[a]\n",
    "    print('after swaping of the list ',L)\n",
    "    print('*'*50)\n",
    "print(L)"
   ]
  },
  {
   "cell_type": "code",
   "execution_count": 6,
   "id": "f9309901",
   "metadata": {},
   "outputs": [
    {
     "name": "stdout",
     "output_type": "stream",
     "text": [
      "20\n"
     ]
    }
   ],
   "source": [
    "x=10\n",
    "def foo():\n",
    "    global x\n",
    "    x=20\n",
    "foo()\n",
    "print(x)"
   ]
  },
  {
   "cell_type": "code",
   "execution_count": 4,
   "id": "b83dc66a",
   "metadata": {},
   "outputs": [
    {
     "name": "stdout",
     "output_type": "stream",
     "text": [
      "0 1 1 2 3 5 8 13 21 34 "
     ]
    }
   ],
   "source": [
    "def fib(n):\n",
    "    f,s=0,1\n",
    "    if n==1 or n==2:\n",
    "        return n-1\n",
    "    for i in range(0,n-2):\n",
    "        t=f+s\n",
    "        f,s=s,t\n",
    "    return t\n",
    "for i in range(1,11):\n",
    "    print(fib(i),end=' ')"
   ]
  },
  {
   "cell_type": "code",
   "execution_count": 5,
   "id": "b17a3674",
   "metadata": {},
   "outputs": [
    {
     "name": "stdout",
     "output_type": "stream",
     "text": [
      "144\n"
     ]
    }
   ],
   "source": [
    "def fib(n):\n",
    "    if n==1 or n==2:\n",
    "        return n-1\n",
    "    return fib(n-1)+fib(n-2)\n",
    "print(fib(13))"
   ]
  },
  {
   "cell_type": "code",
   "execution_count": 6,
   "id": "5de85abd",
   "metadata": {},
   "outputs": [
    {
     "name": "stdout",
     "output_type": "stream",
     "text": [
      "16\n"
     ]
    }
   ],
   "source": [
    "d={1:4,2:8,5:16,8:32}\n",
    "r=list(d.values())\n",
    "print(r[2])"
   ]
  },
  {
   "cell_type": "code",
   "execution_count": 10,
   "id": "e956434d",
   "metadata": {},
   "outputs": [
    {
     "name": "stdout",
     "output_type": "stream",
     "text": [
      "2 devi\n",
      "7 dhoni\n"
     ]
    }
   ],
   "source": [
    "d={2:'devi',7:'dhoni'}\n",
    "for i,j in d.items():\n",
    "    print(i,j)"
   ]
  },
  {
   "cell_type": "code",
   "execution_count": 4,
   "id": "37dc92f0",
   "metadata": {},
   "outputs": [
    {
     "name": "stdout",
     "output_type": "stream",
     "text": [
      "1011\n"
     ]
    }
   ],
   "source": [
    "n=11\n",
    "res=0\n",
    "p=1\n",
    "while n!=0:\n",
    "    rem=n%2\n",
    "    n//=2\n",
    "    res=res+rem*p\n",
    "    p=p*10\n",
    "print(res)"
   ]
  },
  {
   "cell_type": "code",
   "execution_count": 7,
   "id": "38fbc748",
   "metadata": {},
   "outputs": [
    {
     "name": "stdout",
     "output_type": "stream",
     "text": [
      "11\n"
     ]
    }
   ],
   "source": [
    "n=1011\n",
    "res=0\n",
    "p=0\n",
    "while n!=0:\n",
    "    rem=n%10\n",
    "    n//=10\n",
    "    res=res+rem*2**p\n",
    "    p+=1\n",
    "print(res)"
   ]
  },
  {
   "cell_type": "code",
   "execution_count": 17,
   "id": "4e1a0712",
   "metadata": {},
   "outputs": [
    {
     "name": "stdout",
     "output_type": "stream",
     "text": [
      "1\n",
      "2\n",
      "3\n",
      "4\n",
      "5\n",
      "6\n",
      "7\n",
      "8\n",
      "9\n",
      "10\n"
     ]
    }
   ],
   "source": [
    "def prime(n):\n",
    "    if n==11:\n",
    "        return \n",
    "    print(n)\n",
    "    prime(n+1)\n",
    "prime(1)"
   ]
  },
  {
   "cell_type": "code",
   "execution_count": 18,
   "id": "4200efac",
   "metadata": {},
   "outputs": [
    {
     "name": "stdout",
     "output_type": "stream",
     "text": [
      "11\n",
      "10\n",
      "9\n",
      "8\n",
      "7\n",
      "6\n",
      "5\n",
      "4\n",
      "3\n",
      "2\n",
      "1\n"
     ]
    }
   ],
   "source": [
    "def prime(n):\n",
    "    if n==0:\n",
    "        return \n",
    "    print(n)\n",
    "    prime(n-1)\n",
    "prime(11)"
   ]
  },
  {
   "cell_type": "code",
   "execution_count": 30,
   "id": "51660096",
   "metadata": {},
   "outputs": [
    {
     "name": "stdout",
     "output_type": "stream",
     "text": [
      "11\n"
     ]
    }
   ],
   "source": [
    "def sum(n):\n",
    "    if n==0:\n",
    "        return 0\n",
    "    return n%10+sum(n//10)\n",
    "print(sum(12521))"
   ]
  },
  {
   "cell_type": "code",
   "execution_count": 34,
   "id": "6f8ef25b",
   "metadata": {},
   "outputs": [
    {
     "name": "stdout",
     "output_type": "stream",
     "text": [
      "42\n"
     ]
    }
   ],
   "source": [
    "def prod(n):\n",
    "    if n==0:\n",
    "        return 1\n",
    "    return n%10*prod(n//10)\n",
    "print(prod(1237))"
   ]
  },
  {
   "cell_type": "code",
   "execution_count": 28,
   "id": "f1dd85f6",
   "metadata": {},
   "outputs": [
    {
     "name": "stdout",
     "output_type": "stream",
     "text": [
      "120\n"
     ]
    }
   ],
   "source": [
    "def fact(a):\n",
    "    if a==1 or a==0:\n",
    "        return 1\n",
    "    return a*fact(a-1)\n",
    "print(fact(5))"
   ]
  },
  {
   "cell_type": "code",
   "execution_count": 1,
   "id": "8e2df6ec",
   "metadata": {},
   "outputs": [
    {
     "name": "stdout",
     "output_type": "stream",
     "text": [
      "55\n"
     ]
    }
   ],
   "source": [
    "def fib(n):\n",
    "    if n==1 or n==2:\n",
    "        return n-1\n",
    "    return fib(n-1)+fib(n-2)\n",
    "print(fib(11))"
   ]
  },
  {
   "cell_type": "code",
   "execution_count": 7,
   "id": "255f24c1",
   "metadata": {},
   "outputs": [
    {
     "name": "stdout",
     "output_type": "stream",
     "text": [
      "special\n"
     ]
    }
   ],
   "source": [
    "def special(a):\n",
    "    res=0\n",
    "    while a!=0:\n",
    "        fact=1\n",
    "        rem=a%10\n",
    "        for i in range(1,rem+1):\n",
    "            fact=fact*i\n",
    "        res=res+fact\n",
    "        a//=10\n",
    "    return res\n",
    "a=145\n",
    "if a==special(a):\n",
    "    print('special')\n",
    "else:\n",
    "    print('not special')"
   ]
  },
  {
   "cell_type": "code",
   "execution_count": null,
   "id": "83076776",
   "metadata": {},
   "outputs": [],
   "source": [
    "                                   💖CHARISHMA💝DEVIPRASAD💖"
   ]
  },
  {
   "cell_type": "code",
   "execution_count": null,
   "id": "b5340132",
   "metadata": {},
   "outputs": [],
   "source": [
    "                                          💖CHARDEVI💖"
   ]
  }
 ],
 "metadata": {
  "kernelspec": {
   "display_name": "Python 3 (ipykernel)",
   "language": "python",
   "name": "python3"
  },
  "language_info": {
   "codemirror_mode": {
    "name": "ipython",
    "version": 3
   },
   "file_extension": ".py",
   "mimetype": "text/x-python",
   "name": "python",
   "nbconvert_exporter": "python",
   "pygments_lexer": "ipython3",
   "version": "3.9.13"
  }
 },
 "nbformat": 4,
 "nbformat_minor": 5
}
