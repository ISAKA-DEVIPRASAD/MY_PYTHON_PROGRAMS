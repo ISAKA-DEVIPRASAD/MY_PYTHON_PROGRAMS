{
 "cells": [
  {
   "cell_type": "code",
   "execution_count": 1,
   "id": "d2861f0e",
   "metadata": {},
   "outputs": [
    {
     "name": "stdout",
     "output_type": "stream",
     "text": [
      "palindrome\n"
     ]
    }
   ],
   "source": [
    "d=717\n",
    "num=d\n",
    "res=0\n",
    "while d!=0:\n",
    "    rem=d%10\n",
    "    res=res*10+rem\n",
    "    d=d//10\n",
    "    if rem==res:\n",
    "        print('palindrome')\n",
    "        break\n",
    "    else:\n",
    "        print('not palindrome')"
   ]
  },
  {
   "cell_type": "code",
   "execution_count": 19,
   "id": "0564bb11",
   "metadata": {},
   "outputs": [
    {
     "name": "stdout",
     "output_type": "stream",
     "text": [
      "reverse of 729 is 927\n"
     ]
    }
   ],
   "source": [
    "d=729\n",
    "num=d\n",
    "res=0\n",
    "while d!=0:\n",
    "    rem=d%10\n",
    "    res=res*10+rem\n",
    "    d=d//10\n",
    "print(f'reverse of {num} is {res}')"
   ]
  },
  {
   "cell_type": "code",
   "execution_count": 1,
   "id": "ed7a9dd2",
   "metadata": {},
   "outputs": [
    {
     "name": "stdout",
     "output_type": "stream",
     "text": [
      "1\n",
      "2\n",
      "6\n",
      "24\n",
      "120\n"
     ]
    }
   ],
   "source": [
    "c=5\n",
    "fact=1\n",
    "for i in range(1,c+1):\n",
    "    fact=i*fact\n",
    "    print(fact)"
   ]
  },
  {
   "cell_type": "code",
   "execution_count": 25,
   "id": "150c7152",
   "metadata": {},
   "outputs": [
    {
     "name": "stdout",
     "output_type": "stream",
     "text": [
      "[2, 2, 5, 5]\n"
     ]
    }
   ],
   "source": [
    "n=100\n",
    "l=[]\n",
    "i=2\n",
    "while i<100:\n",
    "    if n%i==0:\n",
    "        l.append(i)\n",
    "        n//=i\n",
    "    else:\n",
    "        i+=1\n",
    "print(l)"
   ]
  },
  {
   "cell_type": "code",
   "execution_count": 38,
   "id": "1424bd8c",
   "metadata": {},
   "outputs": [
    {
     "name": "stdout",
     "output_type": "stream",
     "text": [
      "Prime factors of 100 are: [2, 2, 5, 5]\n"
     ]
    }
   ],
   "source": [
    "def prime_factors(n):\n",
    "    factors = []\n",
    "    i = 2\n",
    "    while i<n:\n",
    "        if n % i:\n",
    "            i += 1\n",
    "        else:\n",
    "            n //= i\n",
    "            factors.append(i)\n",
    "    if n > 1:\n",
    "        factors.append(n)\n",
    "    return factors\n",
    "\n",
    "# Example usage:\n",
    "number = 100\n",
    "factors = prime_factors(number)\n",
    "print(\"Prime factors of\", number, \"are:\", factors)"
   ]
  },
  {
   "cell_type": "code",
   "execution_count": 23,
   "id": "95b52dce",
   "metadata": {},
   "outputs": [
    {
     "name": "stdout",
     "output_type": "stream",
     "text": [
      "special\n"
     ]
    }
   ],
   "source": [
    "n=145\n",
    "num=n\n",
    "res=0\n",
    "while n!=0:\n",
    "    rem=n%10\n",
    "    n=n//10\n",
    "    fact=1\n",
    "    for i in range(1,rem+1):\n",
    "        fact=fact*i\n",
    "    res=res+fact\n",
    "if num==res:\n",
    "    print('special')\n",
    "else:\n",
    "    print('not special')"
   ]
  },
  {
   "cell_type": "code",
   "execution_count": null,
   "id": "03d745c7",
   "metadata": {},
   "outputs": [
    {
     "name": "stdout",
     "output_type": "stream",
     "text": [
      "145\n",
      "40585\n"
     ]
    }
   ],
   "source": [
    "for n in range(100,100000000000000000000000000000000):\n",
    "    num=n\n",
    "    res=0\n",
    "    while n!=0:\n",
    "        rem=n%10\n",
    "        n=n//10\n",
    "        fact=1\n",
    "        for i in range(1,rem+1):\n",
    "            fact=fact*i\n",
    "        res=res+fact\n",
    "    if num==res:\n",
    "        print(res)"
   ]
  },
  {
   "cell_type": "code",
   "execution_count": 1,
   "id": "cb407dbd",
   "metadata": {},
   "outputs": [
    {
     "name": "stdout",
     "output_type": "stream",
     "text": [
      "special\n"
     ]
    }
   ],
   "source": [
    "n=145\n",
    "num=n\n",
    "res=0\n",
    "while n!=0:\n",
    "    rem=n%10\n",
    "    n=n//10\n",
    "    fact=1\n",
    "    for i in range(1,rem+1):\n",
    "        fact=fact*i\n",
    "    res=res+fact\n",
    "if num==res:\n",
    "    print('special')\n",
    "else:\n",
    "    print('not special')"
   ]
  },
  {
   "cell_type": "code",
   "execution_count": 9,
   "id": "5cc6f5b1",
   "metadata": {},
   "outputs": [
    {
     "name": "stdout",
     "output_type": "stream",
     "text": [
      "[5, 13, 23, 37, 47, 61, 73, 89]\n"
     ]
    }
   ],
   "source": [
    "l=[]\n",
    "for n in range(1,100):\n",
    "    if n>1:\n",
    "        for i in range(2,n//2+1):\n",
    "            if n%i==0:\n",
    "                break\n",
    "        else:\n",
    "            l.append(n)\n",
    "print(l[2::3])"
   ]
  },
  {
   "cell_type": "code",
   "execution_count": 1,
   "id": "069d15f8",
   "metadata": {},
   "outputs": [
    {
     "name": "stdout",
     "output_type": "stream",
     "text": [
      "[5, 11, 131, 181, 313, 373, 727, 787, 919, 10301, 10601, 11411, 12721, 13331, 13931, 14741, 15551, 16361, 16661, 17971, 18481, 19891]\n"
     ]
    }
   ],
   "source": [
    "c=[]\n",
    "for i in range(1,20000):\n",
    "    num=i\n",
    "    r=0\n",
    "    while i!=0:\n",
    "        rem=i%10\n",
    "        r=r*10+rem\n",
    "        i=i//10\n",
    "    if num==r:\n",
    "        if num>1:\n",
    "            for d in range(2,num//2+1):\n",
    "                if num%d==0:\n",
    "                    break\n",
    "            else:\n",
    "                c.append(num)\n",
    "print(c[2::2])"
   ]
  },
  {
   "cell_type": "code",
   "execution_count": 2,
   "id": "e846cebd",
   "metadata": {},
   "outputs": [
    {
     "name": "stdout",
     "output_type": "stream",
     "text": [
      "120\n"
     ]
    }
   ],
   "source": [
    "c=5\n",
    "d=1\n",
    "for i in range(1,c+1):\n",
    "    d=d*i\n",
    "print(d)"
   ]
  },
  {
   "cell_type": "code",
   "execution_count": 9,
   "id": "5057525d",
   "metadata": {},
   "outputs": [
    {
     "name": "stdout",
     "output_type": "stream",
     "text": [
      "special\n"
     ]
    }
   ],
   "source": [
    "d=145\n",
    "num=d\n",
    "res=0\n",
    "while d!=0:\n",
    "    rem=d%10\n",
    "    d//=10\n",
    "    a=1\n",
    "    for c in range(1,rem+1):\n",
    "        a=a*c\n",
    "    res=res+a\n",
    "if num==res:\n",
    "    print('special')\n",
    "else:\n",
    "    print('not special')"
   ]
  },
  {
   "cell_type": "code",
   "execution_count": 5,
   "id": "9dbd0951",
   "metadata": {},
   "outputs": [
    {
     "name": "stdout",
     "output_type": "stream",
     "text": [
      "Prime\n"
     ]
    }
   ],
   "source": [
    "n=29\n",
    "d=0\n",
    "for i in range(1,n+1):\n",
    "    if n%i==0:\n",
    "        d+=1\n",
    "if (d==2):\n",
    "    print('Prime')\n",
    "else:\n",
    "    print('Not Prime')"
   ]
  },
  {
   "cell_type": "code",
   "execution_count": 6,
   "id": "f67ba786",
   "metadata": {},
   "outputs": [
    {
     "name": "stdout",
     "output_type": "stream",
     "text": [
      "Composit\n"
     ]
    }
   ],
   "source": [
    "n=92\n",
    "d=0\n",
    "for i in range(1,n+1):\n",
    "    if n%i==0:\n",
    "        d+=1\n",
    "if (d>2):\n",
    "    print('Composit')\n",
    "else:\n",
    "    print('Not Composit')"
   ]
  },
  {
   "cell_type": "code",
   "execution_count": 21,
   "id": "342b04c7",
   "metadata": {},
   "outputs": [
    {
     "name": "stdout",
     "output_type": "stream",
     "text": [
      "composit\n"
     ]
    }
   ],
   "source": [
    "n=22\n",
    "for x in range(2,n//2+1):\n",
    "    if n%x==0:\n",
    "        print('composit')\n",
    "        break\n",
    "else:\n",
    "    print('not composit')"
   ]
  },
  {
   "cell_type": "code",
   "execution_count": 28,
   "id": "d83040a9",
   "metadata": {},
   "outputs": [
    {
     "name": "stdout",
     "output_type": "stream",
     "text": [
      "7\n"
     ]
    }
   ],
   "source": [
    "n=124\n",
    "num=n\n",
    "res=0\n",
    "while n!=0:\n",
    "    rem=n%10\n",
    "    res=res+rem\n",
    "    n//=10\n",
    "print(res)"
   ]
  },
  {
   "cell_type": "code",
   "execution_count": 32,
   "id": "15507631",
   "metadata": {},
   "outputs": [
    {
     "name": "stdout",
     "output_type": "stream",
     "text": [
      "Spy Number\n"
     ]
    }
   ],
   "source": [
    "n=123\n",
    "c=0\n",
    "d=1\n",
    "for a in str(n):\n",
    "    i=int(a)\n",
    "    c=c+i\n",
    "    d=d*i\n",
    "if c==d:\n",
    "    print('Spy Number')\n",
    "else:\n",
    "    print('Not A Spy Number')\n",
    "    \n"
   ]
  },
  {
   "cell_type": "code",
   "execution_count": 13,
   "id": "7708b5c0",
   "metadata": {},
   "outputs": [
    {
     "name": "stdout",
     "output_type": "stream",
     "text": [
      "Prime\n"
     ]
    }
   ],
   "source": [
    "n=17\n",
    "if n>1:\n",
    "    for i in range(2,n//2+1):\n",
    "        if n%i==0:\n",
    "            print('Not')\n",
    "            break\n",
    "    else:\n",
    "        print('Prime')\n",
    "            \n",
    "else:\n",
    "    print('Not')"
   ]
  },
  {
   "cell_type": "code",
   "execution_count": 20,
   "id": "acfe6b4f",
   "metadata": {},
   "outputs": [
    {
     "name": "stdout",
     "output_type": "stream",
     "text": [
      "92\n"
     ]
    }
   ],
   "source": [
    "n=29\n",
    "res=0\n",
    "while n!=0:\n",
    "    rem=n%10\n",
    "    res=res*10+rem\n",
    "    n=n//10\n",
    "print(res)"
   ]
  },
  {
   "cell_type": "code",
   "execution_count": 2,
   "id": "e67937be",
   "metadata": {},
   "outputs": [
    {
     "name": "stdout",
     "output_type": "stream",
     "text": [
      "emirf\n"
     ]
    }
   ],
   "source": [
    "n=13\n",
    "num=n\n",
    "res=0\n",
    "while n!=0:\n",
    "    rem=n%10\n",
    "    res=res*10+rem\n",
    "    n=n//10\n",
    "if res!=num:\n",
    "    for i in range(2,res):\n",
    "        if res%i==0:\n",
    "            print('not emirf')\n",
    "            break\n",
    "    else:\n",
    "        for j in range(2,num):\n",
    "            if num%j==0:\n",
    "                print('not emirf')\n",
    "                break\n",
    "        else:\n",
    "            print('emirf')\n",
    "else:\n",
    "    print('n emirf')"
   ]
  },
  {
   "cell_type": "code",
   "execution_count": 3,
   "id": "045af999",
   "metadata": {},
   "outputs": [
    {
     "name": "stdout",
     "output_type": "stream",
     "text": [
      "120\n"
     ]
    }
   ],
   "source": [
    "n=12345\n",
    "num=n\n",
    "res=1\n",
    "while n!=0:\n",
    "    rem=n%10\n",
    "    res=res*rem\n",
    "    n=n//10\n",
    "print(res)"
   ]
  },
  {
   "cell_type": "code",
   "execution_count": 11,
   "id": "31f4b779",
   "metadata": {},
   "outputs": [
    {
     "name": "stdout",
     "output_type": "stream",
     "text": [
      "7\n",
      "5\n",
      "3\n",
      "2\n"
     ]
    }
   ],
   "source": [
    "n=1234567\n",
    "while n!=0:\n",
    "    rem=n%10\n",
    "    n=n//10\n",
    "    if rem>1:\n",
    "        for c in range(2,rem//2+1):\n",
    "            if rem%c==0:\n",
    "                break\n",
    "        else:\n",
    "            print(rem)"
   ]
  },
  {
   "cell_type": "code",
   "execution_count": 7,
   "id": "265993c9",
   "metadata": {},
   "outputs": [
    {
     "name": "stdout",
     "output_type": "stream",
     "text": [
      "39\n"
     ]
    }
   ],
   "source": [
    "n=7893347525\n",
    "m=0\n",
    "num=n\n",
    "while n!=0:\n",
    "    rem=n%10\n",
    "    n=n//10\n",
    "    if rem%2!=0:\n",
    "        m+=rem\n",
    "print(m)"
   ]
  },
  {
   "cell_type": "code",
   "execution_count": 24,
   "id": "cfb495cc",
   "metadata": {},
   "outputs": [
    {
     "name": "stdout",
     "output_type": "stream",
     "text": [
      "25\n"
     ]
    }
   ],
   "source": [
    "n=7893347525\n",
    "m=0\n",
    "num=n\n",
    "while n!=0:\n",
    "    rem=n%10\n",
    "    n=n//10\n",
    "    if rem%2!=0:\n",
    "        m+=rem\n",
    "    else:\n",
    "        m-=rem\n",
    "print(m)"
   ]
  },
  {
   "cell_type": "code",
   "execution_count": 21,
   "id": "082a841e",
   "metadata": {},
   "outputs": [
    {
     "name": "stdout",
     "output_type": "stream",
     "text": [
      "palindrome\n"
     ]
    }
   ],
   "source": [
    "d=121\n",
    "c=d\n",
    "res=0\n",
    "while d!=0:\n",
    "    rem=d%10\n",
    "    res=res*10+rem\n",
    "    d=d//10\n",
    "if c==res:\n",
    "    print('palindrome')\n",
    "else:\n",
    "    print('not palindrome')"
   ]
  },
  {
   "cell_type": "code",
   "execution_count": 38,
   "id": "127484db",
   "metadata": {},
   "outputs": [
    {
     "name": "stdout",
     "output_type": "stream",
     "text": [
      "paly\n"
     ]
    }
   ],
   "source": [
    "n=11\n",
    "num=n\n",
    "res=0\n",
    "while n!=0:\n",
    "    rem=n%10\n",
    "    res=res*10+rem\n",
    "    n=n//10\n",
    "if num==res and num>1:\n",
    "    for i in range(2,num//2+1):\n",
    "        if num%i==0:\n",
    "            print('not paly')\n",
    "            break\n",
    "    else:\n",
    "        print('paly')\n",
    "else:\n",
    "    print('not paly')"
   ]
  },
  {
   "cell_type": "code",
   "execution_count": 6,
   "id": "d8eec410",
   "metadata": {},
   "outputs": [
    {
     "name": "stdout",
     "output_type": "stream",
     "text": [
      "1\n",
      "2\n",
      "5\n",
      "10\n"
     ]
    }
   ],
   "source": [
    "n=10\n",
    "for i in range(1,n+1):\n",
    "    if n%i==0:\n",
    "        print(i)"
   ]
  },
  {
   "cell_type": "code",
   "execution_count": 4,
   "id": "4b8376bc",
   "metadata": {},
   "outputs": [
    {
     "name": "stdout",
     "output_type": "stream",
     "text": [
      "39\n"
     ]
    }
   ],
   "source": [
    "d=7893347525\n",
    "res=0\n",
    "while d!=0:\n",
    "    rem=d%10\n",
    "    d=d//10\n",
    "    if rem%2!=0:\n",
    "        res+=rem\n",
    "print(res)    "
   ]
  },
  {
   "cell_type": "code",
   "execution_count": 30,
   "id": "1f7de75d",
   "metadata": {},
   "outputs": [
    {
     "name": "stdout",
     "output_type": "stream",
     "text": [
      "25\n"
     ]
    }
   ],
   "source": [
    "n=7893347525\n",
    "m=0\n",
    "num=n\n",
    "while n!=0:\n",
    "    rem=n%10\n",
    "    n=n//10\n",
    "    if rem%2!=0:\n",
    "        m+=rem\n",
    "    else:\n",
    "        m-=rem\n",
    "print(m)"
   ]
  },
  {
   "cell_type": "code",
   "execution_count": 3,
   "id": "a601b1cd",
   "metadata": {},
   "outputs": [
    {
     "name": "stdout",
     "output_type": "stream",
     "text": [
      "0 1 1 2 3 5 8 13 21 34 "
     ]
    }
   ],
   "source": [
    "def fib(n):\n",
    "    f,s=0,1\n",
    "    if n==1 or n==2:\n",
    "        return n-1\n",
    "    for i in range(0,n-2):\n",
    "        t=f+s\n",
    "        f,s=s,t\n",
    "    return t\n",
    "for i in range(1,11):\n",
    "    print(fib(i),end=' ')"
   ]
  },
  {
   "cell_type": "code",
   "execution_count": 30,
   "id": "3004e71a",
   "metadata": {},
   "outputs": [
    {
     "name": "stdout",
     "output_type": "stream",
     "text": [
      "            1 \n",
      "               3 \n",
      "                  8 \n",
      "                     21 \n",
      "                        55 \n",
      "                     34 \n",
      "                  13 \n",
      "               5 \n",
      "            2 \n"
     ]
    }
   ],
   "source": [
    "l=[]\n",
    "e=0\n",
    "o=0\n",
    "def fib(n):\n",
    "    f,s=0,1\n",
    "    for i in range(0,n):\n",
    "        t=f+s\n",
    "        f,s=s,t\n",
    "    return t\n",
    "for i in range(1,10):\n",
    "    l.append(fib(i))\n",
    "    e=l[0::2]\n",
    "    o=l[1::2][::-1]\n",
    "l1=e+o\n",
    "n=9\n",
    "st=1\n",
    "sp=n//2\n",
    "for i in range(n):\n",
    "    for j in range(sp):\n",
    "        print('  ',end=' ')\n",
    "    for k in range(st):\n",
    "        print(l1[i],end=' ')\n",
    "    print()\n",
    "    if i<n//2:\n",
    "        sp+=1\n",
    "    else:\n",
    "        sp-=1"
   ]
  },
  {
   "cell_type": "code",
   "execution_count": 48,
   "id": "5b91a03f",
   "metadata": {},
   "outputs": [
    {
     "name": "stdout",
     "output_type": "stream",
     "text": [
      "            1 \n",
      "               3 \n",
      "                  8 \n",
      "                     21 \n",
      "                        55 \n",
      "                     34 \n",
      "                  13 \n",
      "               5 \n",
      "            2 \n"
     ]
    }
   ],
   "source": [
    "l=[]\n",
    "e=0\n",
    "o=0\n",
    "def fib(n):\n",
    "    f,s=0,1\n",
    "    for i in range(0,n):\n",
    "        t=f+s\n",
    "        f,s=s,t\n",
    "    return t\n",
    "for i in range(1,10):\n",
    "    l.append(fib(i))\n",
    "    e=l[0::2]\n",
    "    o=l[1::2][::-1]\n",
    "l1=e+o\n",
    "n=9\n",
    "st=1\n",
    "sp=n//2\n",
    "for i in range(n):\n",
    "    for j in range(sp):\n",
    "        print('  ',end=' ')\n",
    "    for k in range(st):\n",
    "        print(l1[i],end=' ')\n",
    "    print()\n",
    "    if i<n//2:\n",
    "        sp+=1\n",
    "    else:\n",
    "        sp-=1"
   ]
  },
  {
   "cell_type": "code",
   "execution_count": 20,
   "id": "6caf4761",
   "metadata": {},
   "outputs": [
    {
     "data": {
      "text/plain": [
       "144"
      ]
     },
     "execution_count": 20,
     "metadata": {},
     "output_type": "execute_result"
    }
   ],
   "source": [
    "def fib(n):\n",
    "    f,s=0,1\n",
    "    for i in range(0,n):\n",
    "        t=f+s\n",
    "        f,s=s,t\n",
    "    return t\n",
    "fib(11)"
   ]
  },
  {
   "cell_type": "code",
   "execution_count": 1,
   "id": "7975c3f8",
   "metadata": {},
   "outputs": [
    {
     "name": "stdout",
     "output_type": "stream",
     "text": [
      "1011\n"
     ]
    }
   ],
   "source": [
    "d=11\n",
    "res=0\n",
    "p=1\n",
    "while d!=0:\n",
    "    rem=d%2\n",
    "    d//=2\n",
    "    res+=rem*p\n",
    "    p*=10\n",
    "print(res)"
   ]
  },
  {
   "cell_type": "code",
   "execution_count": 2,
   "id": "721dff7a",
   "metadata": {},
   "outputs": [
    {
     "name": "stdout",
     "output_type": "stream",
     "text": [
      "14\n"
     ]
    }
   ],
   "source": [
    "d=1110\n",
    "res=0\n",
    "p=0\n",
    "while d!=0:\n",
    "    rem=d%10\n",
    "    d//=10\n",
    "    res+=rem*2**p\n",
    "    p+=1\n",
    "print(res)"
   ]
  },
  {
   "cell_type": "code",
   "execution_count": 3,
   "id": "22998d6d",
   "metadata": {},
   "outputs": [
    {
     "name": "stdout",
     "output_type": "stream",
     "text": [
      "prime\n"
     ]
    }
   ],
   "source": [
    "d=17\n",
    "if d>1:\n",
    "    for i in range(2,d//2+1):\n",
    "        if d%i==0:\n",
    "            print('not')\n",
    "            break\n",
    "    else:\n",
    "        print('prime')\n",
    "else:\n",
    "    print('not')"
   ]
  },
  {
   "cell_type": "code",
   "execution_count": 7,
   "id": "3ca4745c",
   "metadata": {},
   "outputs": [
    {
     "name": "stdout",
     "output_type": "stream",
     "text": [
      "composite\n"
     ]
    }
   ],
   "source": [
    "d=22\n",
    "if d>1:\n",
    "    for i in range(2,d//2+1):\n",
    "        if d%i==0:\n",
    "            print('composite')\n",
    "            break\n",
    "    else:\n",
    "        print('not')"
   ]
  },
  {
   "cell_type": "code",
   "execution_count": 16,
   "id": "1be4f68c",
   "metadata": {},
   "outputs": [
    {
     "name": "stdout",
     "output_type": "stream",
     "text": [
      "sum of 7893347525 is 53\n"
     ]
    }
   ],
   "source": [
    "d=7893347525\n",
    "num=d\n",
    "res=0\n",
    "while d!=0:\n",
    "    rem=d%10\n",
    "    res+=rem\n",
    "    d//=10\n",
    "print(f'sum of {num} is {res}')"
   ]
  },
  {
   "cell_type": "code",
   "execution_count": 52,
   "id": "bb1c013d",
   "metadata": {},
   "outputs": [
    {
     "name": "stdout",
     "output_type": "stream",
     "text": [
      "yes\n"
     ]
    }
   ],
   "source": [
    "d=153\n",
    "res=0\n",
    "num=d\n",
    "p=len(str(d))\n",
    "while d!=0:\n",
    "    rem=d%10\n",
    "    res=res+rem**p\n",
    "    d//=10\n",
    "if num==res:\n",
    "    print('yes')\n",
    "else:\n",
    "    print('no')"
   ]
  },
  {
   "cell_type": "code",
   "execution_count": 55,
   "id": "94896a61",
   "metadata": {},
   "outputs": [
    {
     "name": "stdout",
     "output_type": "stream",
     "text": [
      "no\n"
     ]
    }
   ],
   "source": [
    "d=135\n",
    "res=0\n",
    "num=d\n",
    "while d!=0:\n",
    "    rem=d%10\n",
    "    res+=rem**p\n",
    "    p-=1\n",
    "    d//=10\n",
    "if res==num:\n",
    "    print('yes')\n",
    "else:\n",
    "    print('no')"
   ]
  },
  {
   "cell_type": "code",
   "execution_count": 59,
   "id": "f791baff",
   "metadata": {},
   "outputs": [
    {
     "name": "stdout",
     "output_type": "stream",
     "text": [
      "yes\n"
     ]
    }
   ],
   "source": [
    "d=145\n",
    "num=d\n",
    "res=0\n",
    "while d!=0:\n",
    "    rem=d%10\n",
    "    d//=10\n",
    "    fact=1\n",
    "    for i in range(1,rem+1):\n",
    "        fact*=i\n",
    "    res+=fact\n",
    "if num==res:\n",
    "    print('yes')\n",
    "else:\n",
    "    print('no')"
   ]
  },
  {
   "cell_type": "code",
   "execution_count": 1,
   "id": "6f4bc676",
   "metadata": {},
   "outputs": [
    {
     "name": "stdout",
     "output_type": "stream",
     "text": [
      "1011\n"
     ]
    }
   ],
   "source": [
    "#wap to convert decimal number into binary number\n",
    "d=11\n",
    "num=d\n",
    "res=0\n",
    "p=1\n",
    "while d!=0:\n",
    "    rem=d%2\n",
    "    d//=2\n",
    "    res=res+rem*p\n",
    "    p*=10\n",
    "print(res)"
   ]
  },
  {
   "cell_type": "code",
   "execution_count": 7,
   "id": "b58f2417",
   "metadata": {},
   "outputs": [
    {
     "name": "stdout",
     "output_type": "stream",
     "text": [
      "11\n"
     ]
    }
   ],
   "source": [
    "#wap to convert binary number into decimal number\n",
    "d=1011\n",
    "num=d\n",
    "res=0\n",
    "p=0\n",
    "while d!=0:\n",
    "    rem=d%10\n",
    "    d//=10\n",
    "    res=res+rem*2**p\n",
    "    p+=1\n",
    "print(res)"
   ]
  },
  {
   "cell_type": "code",
   "execution_count": 1,
   "id": "34febada",
   "metadata": {},
   "outputs": [
    {
     "name": "stdout",
     "output_type": "stream",
     "text": [
      "0\n"
     ]
    }
   ],
   "source": [
    "c=23537\n",
    "d=0\n",
    "p=1\n",
    "while d!=0:\n",
    "    rem=c%10\n",
    "    c//=10\n",
    "    if n==3:\n",
    "        n=6\n",
    "        d=d+n*p\n",
    "    else:\n",
    "        d=d+n*p\n",
    "    p*=10\n",
    "print(d)"
   ]
  },
  {
   "cell_type": "code",
   "execution_count": 25,
   "id": "1c821a0b",
   "metadata": {},
   "outputs": [
    {
     "name": "stdout",
     "output_type": "stream",
     "text": [
      "[1, 2, 7, 5, 11, 29, 92]\n"
     ]
    }
   ],
   "source": [
    "n=[1,2,11,5,7,92,29]\n",
    "for i in range(len(n)):\n",
    "    mi=i\n",
    "    for j in range(i+1,len(n)):\n",
    "        if n[mi]>n[j]:\n",
    "            mi=j\n",
    "        n[i],n[mi]=n[mi],n[i]\n",
    "print(n)"
   ]
  },
  {
   "cell_type": "code",
   "execution_count": 26,
   "id": "f30bc754",
   "metadata": {},
   "outputs": [
    {
     "name": "stdout",
     "output_type": "stream",
     "text": [
      "3a2b2c1b2a1d1f\n"
     ]
    }
   ],
   "source": [
    "s='aaabbccbaadf'\n",
    "res=''\n",
    "count=1\n",
    "for i in range(len(s)-1):\n",
    "    if s[i]==s[i+1]:\n",
    "        count+=1\n",
    "    else:\n",
    "        res+=str(count)+s[i]\n",
    "        count=1\n",
    "res+=str(count)+s[i+1]\n",
    "print(res)"
   ]
  },
  {
   "cell_type": "code",
   "execution_count": 31,
   "id": "9b2c6150",
   "metadata": {},
   "outputs": [
    {
     "name": "stdout",
     "output_type": "stream",
     "text": [
      "canara\n",
      "0.07\n",
      "america\n",
      "1234\n",
      "enter value1722\n",
      "enter value5000\n",
      "withdraw is Done\n",
      "enter value110001\n",
      "Successfully Done\n"
     ]
    }
   ],
   "source": [
    "class Bank1():\n",
    "    bank_name='canara'\n",
    "    bank_roi=0.07\n",
    "    bank_branch='india'\n",
    "    def __init__(self,n,a,ac,b):\n",
    "        self.name=n\n",
    "        self.age=a\n",
    "        self.account=ac\n",
    "        self.balance=b\n",
    "    @staticmethod\n",
    "    def get_value():\n",
    "        amt=int(input('enter value'))\n",
    "        return amt\n",
    "    @classmethod\n",
    "    def bank_details(cls):\n",
    "        print(cls.bank_name)\n",
    "        print(cls.bank_roi)\n",
    "        print(cls.bank_branch)\n",
    "    def deposite(self):\n",
    "        amt=self.get_value()\n",
    "        self.balance+=amt\n",
    "        print('Successfully Done')\n",
    "    def withdraw(self):\n",
    "        amt=self.get_value()\n",
    "        if self.balance>amt:\n",
    "            self.balance-=amt\n",
    "            print('withdraw is Done')\n",
    "        else:\n",
    "            print('No Money')\n",
    "class Bank2(Bank1):\n",
    "    bank_branch='america'\n",
    "    bank_ifsc=1234\n",
    "    def __init__(self,n,a,ac,b,ad,p):\n",
    "        super().__init__(n,a,ac,b)\n",
    "        self.aadhar=ad\n",
    "        self.pin=p\n",
    "    @classmethod\n",
    "    def bank_details(cls):\n",
    "        super().bank_details()\n",
    "        print(cls.bank_ifsc)\n",
    "    def withdraw(self):\n",
    "        if self.pin==self.get_value():\n",
    "            super().withdraw()\n",
    "        else:\n",
    "            print('Incorrect Pin')\n",
    "d=Bank2('DEVI',22,12345,11000,7893347525,1722)\n",
    "d.bank_details()\n",
    "d.withdraw()\n",
    "d.deposite()"
   ]
  },
  {
   "cell_type": "code",
   "execution_count": null,
   "id": "aeb3e317",
   "metadata": {},
   "outputs": [],
   "source": [
    "def func(n):\n",
    "    if n==-(len(d)+1):\n",
    "        return ''\n",
    "    return d[n]+func(n=1)\n",
    "d='devi'\n",
    "print(func(-1))"
   ]
  },
  {
   "cell_type": "code",
   "execution_count": 2,
   "id": "f0a6a191",
   "metadata": {},
   "outputs": [
    {
     "name": "stdout",
     "output_type": "stream",
     "text": [
      "7\n"
     ]
    }
   ],
   "source": [
    "d=123456\n",
    "c=0\n",
    "while d!=0:\n",
    "    d//=10\n",
    "    c+=1\n",
    "print(c)"
   ]
  },
  {
   "cell_type": "code",
   "execution_count": 14,
   "id": "f21fcafb",
   "metadata": {},
   "outputs": [
    {
     "name": "stdout",
     "output_type": "stream",
     "text": [
      "4 6 8 9 10 12 14 15 16 18 20 21 22 24 25 26 27 28 30 32 33 34 35 36 38 39 40 42 44 45 46 48 49 50 51 52 54 55 56 57 58 60 62 63 64 65 66 68 69 70 72 74 75 76 77 78 80 81 82 84 85 86 87 88 90 91 92 93 94 95 96 98 99 100 "
     ]
    }
   ],
   "source": [
    "for a in range(1,101):\n",
    "    if a>3:\n",
    "        for i in range(2,a//2+1):\n",
    "            if a%i==0:\n",
    "                print(a,end=' ')\n",
    "                break"
   ]
  },
  {
   "cell_type": "code",
   "execution_count": 25,
   "id": "9f4f0af0",
   "metadata": {},
   "outputs": [
    {
     "name": "stdout",
     "output_type": "stream",
     "text": [
      "s\n"
     ]
    }
   ],
   "source": [
    "n=1714322\n",
    "c=0\n",
    "for i in range(2,n//2+1):\n",
    "    if n%i==0:\n",
    "        c+=1\n",
    "if c==2:\n",
    "    print('s')\n",
    "else:\n",
    "    print('n')"
   ]
  },
  {
   "cell_type": "code",
   "execution_count": 7,
   "id": "7526b6a9",
   "metadata": {},
   "outputs": [
    {
     "name": "stdout",
     "output_type": "stream",
     "text": [
      "1011\n"
     ]
    }
   ],
   "source": [
    "#Decimal to Binary\n",
    "n=11\n",
    "res=0\n",
    "p=1\n",
    "while n!=0:\n",
    "    rem=n%2\n",
    "    n//=2\n",
    "    res=res+rem*p\n",
    "    p*=10\n",
    "print(res)"
   ]
  },
  {
   "cell_type": "code",
   "execution_count": 3,
   "id": "ed97b74e",
   "metadata": {},
   "outputs": [
    {
     "name": "stdout",
     "output_type": "stream",
     "text": [
      "1011\n"
     ]
    }
   ],
   "source": [
    "#Decimal To Binary By Using Recursion\n",
    "def decimal(n,p):\n",
    "    if n==0:\n",
    "        return 0\n",
    "    return(n%2)*p+decimal(n//2,p*10)\n",
    "num=11\n",
    "p=1\n",
    "print(decimal(num,p))"
   ]
  },
  {
   "cell_type": "code",
   "execution_count": 4,
   "id": "34be799e",
   "metadata": {},
   "outputs": [
    {
     "name": "stdout",
     "output_type": "stream",
     "text": [
      "11\n"
     ]
    }
   ],
   "source": [
    "#Binary to Decimal\n",
    "n=1011\n",
    "res=1\n",
    "p=0\n",
    "while n!=0:\n",
    "    rem=n%10\n",
    "    n//=10\n",
    "    res=res+rem*p**2\n",
    "    p+=1\n",
    "print(res)"
   ]
  },
  {
   "cell_type": "code",
   "execution_count": 2,
   "id": "f6818c1e",
   "metadata": {},
   "outputs": [
    {
     "name": "stdout",
     "output_type": "stream",
     "text": [
      "11\n"
     ]
    }
   ],
   "source": [
    "#Binary To Decimal By Using Recursion\n",
    "def binary(n,p):\n",
    "    if n==0:\n",
    "        return 0\n",
    "    return(n%10)*2**p+binary(n//10,p+1)\n",
    "num=1011\n",
    "p=0\n",
    "print(binary(num,p))"
   ]
  },
  {
   "cell_type": "code",
   "execution_count": 21,
   "id": "1ff857c4",
   "metadata": {},
   "outputs": [
    {
     "name": "stdout",
     "output_type": "stream",
     "text": [
      "s\n"
     ]
    }
   ],
   "source": [
    "#EMIRP NUMBER\n",
    "n=17\n",
    "res=0\n",
    "num=n\n",
    "while n!=0:\n",
    "    rem=n%10\n",
    "    res=res*10+rem\n",
    "    n//=10\n",
    "if res!=num:\n",
    "    for i in range(2,num//2+1):\n",
    "        if num%i==0:\n",
    "            print('no')\n",
    "            break\n",
    "    else:\n",
    "        for j in range(2,res//2+1):\n",
    "            if res%j==0:\n",
    "                print('no')\n",
    "                break\n",
    "        else:\n",
    "            print('s')\n",
    "else:\n",
    "    print('no')"
   ]
  },
  {
   "cell_type": "code",
   "execution_count": null,
   "id": "57c4dbe4",
   "metadata": {},
   "outputs": [],
   "source": [
    "n=int(input('enter number'))\n",
    "count=0\n",
    "while n"
   ]
  },
  {
   "cell_type": "code",
   "execution_count": 4,
   "id": "c08e6985",
   "metadata": {},
   "outputs": [
    {
     "name": "stdout",
     "output_type": "stream",
     "text": [
      "prime\n"
     ]
    }
   ],
   "source": [
    "n=11\n",
    "if n>1:\n",
    "    for i in range(2,n//2+1):\n",
    "        if n%i==0:\n",
    "            print('not')\n",
    "            break\n",
    "    else:\n",
    "        print('prime')\n",
    "else:\n",
    "    print('not')"
   ]
  },
  {
   "cell_type": "code",
   "execution_count": 15,
   "id": "76d5ff68",
   "metadata": {},
   "outputs": [
    {
     "name": "stdout",
     "output_type": "stream",
     "text": [
      "enter low11\n",
      "enter high22\n",
      "13\n"
     ]
    }
   ],
   "source": [
    "count=0\n",
    "for n in range(int(input('enter low')),int(input('enter high'))):\n",
    "    if n>1:\n",
    "        for i in range(2,n//2+1):\n",
    "            if n%i==0:\n",
    "                break\n",
    "        else:\n",
    "            count+=1\n",
    "            if count==2:\n",
    "                print(n)\n",
    "    else:\n",
    "        n+=1"
   ]
  },
  {
   "cell_type": "code",
   "execution_count": 1,
   "id": "d712ba34",
   "metadata": {},
   "outputs": [
    {
     "name": "stdout",
     "output_type": "stream",
     "text": [
      "enter value of b:132\n",
      "132 is niven number\n"
     ]
    }
   ],
   "source": [
    "b=int(input('enter value of b:'))\n",
    "num=b\n",
    "c=0\n",
    "while b!=0:\n",
    "    rem=b%10\n",
    "    c+=rem\n",
    "    b//=10\n",
    "if num%c==0:\n",
    "    print(f'{num} is niven number')\n",
    "else:\n",
    "    print(f'{num} is not niven number')"
   ]
  },
  {
   "cell_type": "code",
   "execution_count": 2,
   "id": "4e35301a",
   "metadata": {},
   "outputs": [
    {
     "name": "stdout",
     "output_type": "stream",
     "text": [
      "armstrong\n"
     ]
    }
   ],
   "source": [
    "p=1634\n",
    "t=p\n",
    "g=len(str(p))\n",
    "e=0\n",
    "while p!=0:\n",
    "    a=p%10\n",
    "    p//=10\n",
    "    e+=a**g\n",
    "if t==e:\n",
    "    print('armstrong')\n",
    "else:\n",
    "    print('not armstrong')"
   ]
  },
  {
   "cell_type": "code",
   "execution_count": 5,
   "id": "3e18b32a",
   "metadata": {},
   "outputs": [
    {
     "name": "stdout",
     "output_type": "stream",
     "text": [
      "enter value of l:135\n",
      "disarum number\n"
     ]
    }
   ],
   "source": [
    "l=int(input('enter value of l:'))\n",
    "m=l\n",
    "j=len(str(l))\n",
    "q=0\n",
    "while l!=0:\n",
    "    v=l%10\n",
    "    l//=10\n",
    "    q+=v**j\n",
    "    j-=1\n",
    "if m==q:\n",
    "    print('disarum number')\n",
    "else:\n",
    "    print('not disarum number')"
   ]
  },
  {
   "cell_type": "code",
   "execution_count": 6,
   "id": "da211ba2",
   "metadata": {},
   "outputs": [
    {
     "name": "stdout",
     "output_type": "stream",
     "text": [
      "5040\n"
     ]
    }
   ],
   "source": [
    "d=7\n",
    "fact=1\n",
    "for n in range(1,d+1):\n",
    "    fact*=n\n",
    "print(fact)"
   ]
  },
  {
   "cell_type": "code",
   "execution_count": 8,
   "id": "e83abf78",
   "metadata": {},
   "outputs": [
    {
     "name": "stdout",
     "output_type": "stream",
     "text": [
      "special number\n"
     ]
    }
   ],
   "source": [
    "t=145\n",
    "b=t\n",
    "x=0\n",
    "while t!=0:\n",
    "    f=t%10\n",
    "    t//=10\n",
    "    fact=1\n",
    "    for n in range(1,f+1):\n",
    "        fact*=n\n",
    "    x+=fact\n",
    "if b==x:\n",
    "    print('special number')\n",
    "else:\n",
    "    print('not special number')"
   ]
  },
  {
   "cell_type": "code",
   "execution_count": 9,
   "id": "03ae0467",
   "metadata": {},
   "outputs": [
    {
     "name": "stdout",
     "output_type": "stream",
     "text": [
      "strong number\n"
     ]
    }
   ],
   "source": [
    "c=28\n",
    "d=c\n",
    "e=0\n",
    "for g in range(1,c):\n",
    "    if c%g==0:\n",
    "        e+=g\n",
    "if d==e:\n",
    "    print('strong number')\n",
    "else:\n",
    "    print('not strong number')"
   ]
  },
  {
   "cell_type": "code",
   "execution_count": 10,
   "id": "e6e6e001",
   "metadata": {},
   "outputs": [
    {
     "name": "stdout",
     "output_type": "stream",
     "text": [
      "EMIRP\n"
     ]
    }
   ],
   "source": [
    "d=17\n",
    "c=d\n",
    "p=0\n",
    "while d>0:\n",
    "    r=d%10\n",
    "    d//=10\n",
    "    p=p*10+r\n",
    "if p!=c:\n",
    "    for y in range(2,c//2+1):\n",
    "        if c%y==0:\n",
    "            print('not emirp')\n",
    "            break\n",
    "    else:\n",
    "        for z in range(2,p//2+1):\n",
    "            if p%z==0:\n",
    "                print('not emirp')\n",
    "                break\n",
    "        else:\n",
    "            print('EMIRP')\n",
    "else:\n",
    "    print('not emirp')"
   ]
  },
  {
   "cell_type": "code",
   "execution_count": 12,
   "id": "bf461f05",
   "metadata": {},
   "outputs": [
    {
     "name": "stdout",
     "output_type": "stream",
     "text": [
      "Tech Number\n"
     ]
    }
   ],
   "source": [
    "n=9801\n",
    "s=str(n)\n",
    "l=len(s)\n",
    "res=0\n",
    "if (l%2==0):\n",
    "    first=s[:l//2]\n",
    "    second=s[l//2:]\n",
    "    plus=int(first)+int(second)\n",
    "    square=plus**2\n",
    "if (n==square):\n",
    "    print('Tech Number')\n",
    "else:\n",
    "    print('Not Tech NUmber')\n"
   ]
  },
  {
   "cell_type": "code",
   "execution_count": 27,
   "id": "88d0c3a6",
   "metadata": {},
   "outputs": [
    {
     "name": "stdout",
     "output_type": "stream",
     "text": [
      "Tech Number\n"
     ]
    }
   ],
   "source": [
    "def tech(n):\n",
    "    s=str(n)\n",
    "    l=len(s)\n",
    "    res=0\n",
    "    if (l%2==0):\n",
    "        first=s[:l//2]\n",
    "        second=s[l//2:]\n",
    "        plus=int(first)+int(second)\n",
    "        square=plus**2\n",
    "    return square\n",
    "n=9801\n",
    "if n==tech(n):\n",
    "    print('Tech Number')\n",
    "else:\n",
    "    print('Not Tech Number')"
   ]
  },
  {
   "cell_type": "code",
   "execution_count": 3,
   "id": "57bcf6d0",
   "metadata": {},
   "outputs": [
    {
     "name": "stdout",
     "output_type": "stream",
     "text": [
      "range(0, 5)\n"
     ]
    }
   ],
   "source": [
    "print(range(5))"
   ]
  },
  {
   "cell_type": "code",
   "execution_count": 18,
   "id": "80a5b9d9",
   "metadata": {},
   "outputs": [
    {
     "name": "stdout",
     "output_type": "stream",
     "text": [
      "197394591\n",
      "No\n"
     ]
    }
   ],
   "source": [
    "n=197\n",
    "a=n\n",
    "b=2*n\n",
    "c=3*n\n",
    "res=str(a)+str(b)+str(c)\n",
    "print(res)\n",
    "for d in res:\n",
    "    if len(res)==9 and res.count(d)>1:\n",
    "        print('No')\n",
    "        break\n",
    "else:\n",
    "    print('Yes')"
   ]
  },
  {
   "cell_type": "code",
   "execution_count": 23,
   "id": "27a3e164",
   "metadata": {},
   "outputs": [
    {
     "name": "stdout",
     "output_type": "stream",
     "text": [
      "No\n"
     ]
    }
   ],
   "source": [
    "n=49\n",
    "num=n\n",
    "res=0\n",
    "while n!=0:\n",
    "    rem=n%10\n",
    "    res+=rem**2\n",
    "    n//=10\n",
    "if n\n",
    "    print('Yes')\n",
    "else:\n",
    "    print('No')"
   ]
  },
  {
   "cell_type": "code",
   "execution_count": 27,
   "id": "85ee2913",
   "metadata": {},
   "outputs": [
    {
     "name": "stdout",
     "output_type": "stream",
     "text": [
      "0\n"
     ]
    }
   ],
   "source": [
    "n=545\n",
    "plus=0\n",
    "add=0\n",
    "while add>=9:\n",
    "    while n!=0:\n",
    "        rem=n%10\n",
    "        add+=rem\n",
    "        n//=10\n",
    "    add=plus\n",
    "else:\n",
    "    print(plus)"
   ]
  },
  {
   "cell_type": "code",
   "execution_count": 21,
   "id": "a6581142",
   "metadata": {},
   "outputs": [
    {
     "name": "stdout",
     "output_type": "stream",
     "text": [
      "92\n"
     ]
    }
   ],
   "source": [
    "def pali(n,i):\n",
    "    if n==0:\n",
    "        return 0\n",
    "    return (n%10)*i+pali(n//10,i//10)\n",
    "n=29\n",
    "x=10**len(str(n))//10\n",
    "print(pali(n,x))"
   ]
  },
  {
   "cell_type": "code",
   "execution_count": 1,
   "id": "a8b8d785",
   "metadata": {},
   "outputs": [
    {
     "name": "stdout",
     "output_type": "stream",
     "text": [
      "1192\n"
     ]
    }
   ],
   "source": [
    "def reverse(n,a):\n",
    "    if n==0:\n",
    "        return 0\n",
    "    return (n%10)*a+reverse(n//10,a//10)\n",
    "n=2911\n",
    "x=10**len(str(n))//10\n",
    "print(reverse(n,x))"
   ]
  },
  {
   "cell_type": "code",
   "execution_count": null,
   "id": "8f6c38ae",
   "metadata": {},
   "outputs": [],
   "source": []
  },
  {
   "cell_type": "code",
   "execution_count": null,
   "id": "64c11bdd",
   "metadata": {},
   "outputs": [],
   "source": []
  }
 ],
 "metadata": {
  "kernelspec": {
   "display_name": "Python 3 (ipykernel)",
   "language": "python",
   "name": "python3"
  },
  "language_info": {
   "codemirror_mode": {
    "name": "ipython",
    "version": 3
   },
   "file_extension": ".py",
   "mimetype": "text/x-python",
   "name": "python",
   "nbconvert_exporter": "python",
   "pygments_lexer": "ipython3",
   "version": "3.9.13"
  }
 },
 "nbformat": 4,
 "nbformat_minor": 5
}
