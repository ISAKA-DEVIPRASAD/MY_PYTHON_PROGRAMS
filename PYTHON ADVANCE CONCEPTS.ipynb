{
 "cells": [
  {
   "cell_type": "code",
   "execution_count": 5,
   "id": "f919a868",
   "metadata": {},
   "outputs": [],
   "source": [
    "fo=open('devi.txt','w')\n",
    "fo.write('Mahendra Singh Dhoni is an Indian professional cricketer. He was captain of the Indian national team ')\n",
    "fo.close()"
   ]
  },
  {
   "cell_type": "code",
   "execution_count": 8,
   "id": "191b4415",
   "metadata": {},
   "outputs": [
    {
     "name": "stdout",
     "output_type": "stream",
     "text": [
      "Mahendra Singh Dhoni is an Indian professional cricketer. He was captain of the Indian national team Dhoni is Great\n"
     ]
    }
   ],
   "source": [
    "fo=open('devi.txt','r')\n",
    "x=fo.read()\n",
    "print(x)"
   ]
  },
  {
   "cell_type": "code",
   "execution_count": 1,
   "id": "c832d979",
   "metadata": {},
   "outputs": [],
   "source": [
    "fo=open('devi.txt','a')\n",
    "fo.write('Dhoni is Great')\n",
    "fo.close()"
   ]
  },
  {
   "cell_type": "code",
   "execution_count": null,
   "id": "4df00c48",
   "metadata": {},
   "outputs": [],
   "source": []
  },
  {
   "cell_type": "code",
   "execution_count": null,
   "id": "2948ecf2",
   "metadata": {},
   "outputs": [],
   "source": []
  }
 ],
 "metadata": {
  "kernelspec": {
   "display_name": "Python 3 (ipykernel)",
   "language": "python",
   "name": "python3"
  },
  "language_info": {
   "codemirror_mode": {
    "name": "ipython",
    "version": 3
   },
   "file_extension": ".py",
   "mimetype": "text/x-python",
   "name": "python",
   "nbconvert_exporter": "python",
   "pygments_lexer": "ipython3",
   "version": "3.9.13"
  }
 },
 "nbformat": 4,
 "nbformat_minor": 5
}
