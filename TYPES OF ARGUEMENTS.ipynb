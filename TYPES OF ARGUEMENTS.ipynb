{
 "cells": [
  {
   "cell_type": "markdown",
   "id": "93eb4259",
   "metadata": {},
   "source": [
    "# 1.Positional Arguments"
   ]
  },
  {
   "cell_type": "code",
   "execution_count": 2,
   "id": "f55f6517",
   "metadata": {},
   "outputs": [
    {
     "name": "stdout",
     "output_type": "stream",
     "text": [
      "name=devi\n",
      "age=22\n",
      "gender=male\n",
      "***********\n",
      "name=python\n",
      "age=74ym2\n",
      "gender=jspiders\n"
     ]
    }
   ],
   "source": [
    "def Details(name,age,gender):\n",
    "    print(f'name={name}')\n",
    "    print(f'age={age}')\n",
    "    print(f'gender={gender}')\n",
    "Details('devi',22,'male')\n",
    "print('*'*11)\n",
    "Details('python','74ym2','jspiders')"
   ]
  },
  {
   "cell_type": "markdown",
   "id": "d91e8193",
   "metadata": {},
   "source": [
    "# 2.Keyword Arguments "
   ]
  },
  {
   "cell_type": "code",
   "execution_count": 13,
   "id": "93b8c32e",
   "metadata": {},
   "outputs": [
    {
     "name": "stdout",
     "output_type": "stream",
     "text": [
      "name=devi\n",
      "age=22\n",
      "gender=male\n"
     ]
    }
   ],
   "source": [
    "def Details(name,age,gender):\n",
    "    print(f'name={name}')\n",
    "    print(f'age={age}')\n",
    "    print(f'gender={gender}')\n",
    "Details(gender='male',age=22,name='devi')"
   ]
  },
  {
   "cell_type": "markdown",
   "id": "996e397f",
   "metadata": {},
   "source": [
    "# 3.Default Arguments"
   ]
  },
  {
   "cell_type": "code",
   "execution_count": 14,
   "id": "a11f2e75",
   "metadata": {},
   "outputs": [
    {
     "name": "stdout",
     "output_type": "stream",
     "text": [
      "a=10\n",
      "b=20\n",
      "c=30\n",
      "***********\n",
      "a=10\n",
      "b=0\n",
      "c=0\n"
     ]
    }
   ],
   "source": [
    "def Sample(a=0,b=0,c=0):\n",
    "    print(f'a={a}')\n",
    "    print(f'b={b}')\n",
    "    print(f'c={c}')\n",
    "Sample(10,20,30)\n",
    "print('*'*11)\n",
    "Sample(10)"
   ]
  },
  {
   "cell_type": "markdown",
   "id": "65161f00",
   "metadata": {},
   "source": [
    "# 4.Variable Length Non-Keyword Arguments"
   ]
  },
  {
   "cell_type": "code",
   "execution_count": 16,
   "id": "b8361979",
   "metadata": {},
   "outputs": [
    {
     "name": "stdout",
     "output_type": "stream",
     "text": [
      "args=(11, 12, 13)\n",
      "args=(11, 12)\n",
      "args=()\n"
     ]
    }
   ],
   "source": [
    "def Fun(*args):\n",
    "    print(f'args={args}')\n",
    "Fun(11,12,13)\n",
    "Fun(11,12)\n",
    "Fun()\n",
    "    "
   ]
  },
  {
   "cell_type": "markdown",
   "id": "44cb870b",
   "metadata": {},
   "source": [
    "# 5.Variable Length Keyword Arguments"
   ]
  },
  {
   "cell_type": "code",
   "execution_count": 19,
   "id": "d5cbf9be",
   "metadata": {},
   "outputs": [
    {
     "name": "stdout",
     "output_type": "stream",
     "text": [
      "kwargs={'a': 10, 'b': 20, 'c': 30}\n"
     ]
    }
   ],
   "source": [
    "def Sample(**kwargs):\n",
    "    print(f'kwargs={kwargs}')\n",
    "Sample(a=10,b=20,c=30)"
   ]
  },
  {
   "cell_type": "markdown",
   "id": "5639b84c",
   "metadata": {},
   "source": [
    "# Uses Of Functions\n",
    "### 1.Reusability\n",
    "### 2.Easy Debugging\n"
   ]
  },
  {
   "cell_type": "code",
   "execution_count": null,
   "id": "1a31de67",
   "metadata": {},
   "outputs": [],
   "source": []
  },
  {
   "cell_type": "code",
   "execution_count": null,
   "id": "1451b585",
   "metadata": {},
   "outputs": [],
   "source": []
  }
 ],
 "metadata": {
  "kernelspec": {
   "display_name": "Python 3 (ipykernel)",
   "language": "python",
   "name": "python3"
  },
  "language_info": {
   "codemirror_mode": {
    "name": "ipython",
    "version": 3
   },
   "file_extension": ".py",
   "mimetype": "text/x-python",
   "name": "python",
   "nbconvert_exporter": "python",
   "pygments_lexer": "ipython3",
   "version": "3.9.13"
  }
 },
 "nbformat": 4,
 "nbformat_minor": 5
}
