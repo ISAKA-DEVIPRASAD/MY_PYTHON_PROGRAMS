{
 "cells": [
  {
   "cell_type": "code",
   "execution_count": 3,
   "id": "e66bb3b8",
   "metadata": {},
   "outputs": [
    {
     "name": "stdout",
     "output_type": "stream",
     "text": [
      "dhoni\n",
      "None\n",
      "dhoni\n",
      "rohit\n"
     ]
    }
   ],
   "source": [
    "d={7:'dhoni',18:'virat'}\n",
    "print(d.get(7))\n",
    "print(d.get(90))\n",
    "print(d.get(7,'name'))\n",
    "print(d.get(90,'rohit'))"
   ]
  },
  {
   "cell_type": "code",
   "execution_count": 4,
   "id": "660ff0f5",
   "metadata": {},
   "outputs": [
    {
     "name": "stdout",
     "output_type": "stream",
     "text": [
      "dasarpived\n"
     ]
    }
   ],
   "source": [
    "def revstr(a):\n",
    "    if a==-(len(d)+1):\n",
    "        return ''\n",
    "    return d[a]+revstr(a-1)\n",
    "d='deviprasad'\n",
    "print(revstr(-1))"
   ]
  },
  {
   "cell_type": "code",
   "execution_count": 1,
   "id": "e01bae5f",
   "metadata": {},
   "outputs": [
    {
     "name": "stdout",
     "output_type": "stream",
     "text": [
      "dhoni\n",
      "virat\n",
      "None\n",
      "None\n",
      "dhoni\n",
      "virat\n",
      "yuvaraj\n",
      "{7: 'dhoni', 18: 'virat', 90: None, 11: 'yuvaraj'}\n"
     ]
    }
   ],
   "source": [
    "d={7:'dhoni',18:'virat'}\n",
    "print(d.setdefault(7))\n",
    "print(d.setdefault(18))\n",
    "print(d.setdefault(90))\n",
    "print(d.setdefault(90,'rohit'))\n",
    "print(d.setdefault(7,'mahi'))\n",
    "print(d.setdefault(18,'kohli'))\n",
    "print(d.setdefault(11,'yuvaraj'))\n",
    "print(d)"
   ]
  },
  {
   "cell_type": "code",
   "execution_count": 5,
   "id": "4c1603c8",
   "metadata": {},
   "outputs": [
    {
     "name": "stdout",
     "output_type": "stream",
     "text": [
      "enter a year2000\n",
      "year is leap year\n"
     ]
    }
   ],
   "source": [
    "year=int(input('enter a year'))\n",
    "if year%4==0 and year%100!=0:\n",
    "    print('year is leap year')\n",
    "elif year%400==0:\n",
    "    print('year is leap year')\n",
    "else:\n",
    "    print('year is not year')"
   ]
  },
  {
   "cell_type": "code",
   "execution_count": 11,
   "id": "033c6e2b",
   "metadata": {},
   "outputs": [
    {
     "name": "stdout",
     "output_type": "stream",
     "text": [
      "5040\n"
     ]
    }
   ],
   "source": [
    "def devi(d):\n",
    "    if d==0 or d==1:\n",
    "        return 1\n",
    "    return d*devi(d-1)\n",
    "c=devi(7)\n",
    "print(c)"
   ]
  },
  {
   "cell_type": "code",
   "execution_count": 1,
   "id": "e6c9e4fa",
   "metadata": {},
   "outputs": [
    {
     "name": "stdout",
     "output_type": "stream",
     "text": [
      "-10\n",
      "-9\n",
      "-8\n",
      "-7\n",
      "-6\n",
      "-5\n",
      "-4\n",
      "-3\n",
      "-2\n",
      "-1\n"
     ]
    }
   ],
   "source": [
    "def printn(n):\n",
    "    if n==0:\n",
    "        return \n",
    "    print(n)\n",
    "    printn(n+1)\n",
    "printn(-10)"
   ]
  },
  {
   "cell_type": "code",
   "execution_count": 2,
   "id": "35f8b55b",
   "metadata": {},
   "outputs": [
    {
     "name": "stdout",
     "output_type": "stream",
     "text": [
      "10\n",
      "9\n",
      "8\n",
      "7\n",
      "6\n",
      "5\n",
      "4\n",
      "3\n",
      "2\n",
      "1\n"
     ]
    }
   ],
   "source": [
    "def prime(n):\n",
    "    if n==0:\n",
    "        return \n",
    "    print(n)\n",
    "    prime(n-1)\n",
    "prime(10)"
   ]
  },
  {
   "cell_type": "code",
   "execution_count": 12,
   "id": "c4a9a2b7",
   "metadata": {},
   "outputs": [
    {
     "name": "stdout",
     "output_type": "stream",
     "text": [
      "das\n"
     ]
    }
   ],
   "source": [
    "def factorial(i):\n",
    "    if i==-(len(s)+1):\n",
    "        return ''\n",
    "    return s[i]+factorial(i-1)\n",
    "s='sad'\n",
    "print(factorial(-1))"
   ]
  },
  {
   "cell_type": "code",
   "execution_count": 15,
   "id": "f12bf663",
   "metadata": {},
   "outputs": [
    {
     "name": "stdout",
     "output_type": "stream",
     "text": [
      "120\n"
     ]
    }
   ],
   "source": [
    "def add(n):\n",
    "    if n==0 or n==1:\n",
    "        return 1\n",
    "    return n*add(n-1)\n",
    "print(add(5))"
   ]
  },
  {
   "cell_type": "code",
   "execution_count": 19,
   "id": "4c69c8a2",
   "metadata": {},
   "outputs": [
    {
     "name": "stdout",
     "output_type": "stream",
     "text": [
      "20\n"
     ]
    }
   ],
   "source": [
    "def even(i):\n",
    "    if i==0:\n",
    "        return 0\n",
    "    return i%10+even(i//10)\n",
    "print(even(1714322))"
   ]
  },
  {
   "cell_type": "code",
   "execution_count": 23,
   "id": "0e2eb3d6",
   "metadata": {},
   "outputs": [
    {
     "name": "stdout",
     "output_type": "stream",
     "text": [
      "55\n"
     ]
    }
   ],
   "source": [
    "def fib(n):\n",
    "    f,s=0,1\n",
    "    if n==1 or n==2:\n",
    "        return n-1\n",
    "    for i in range(0,n-2):\n",
    "        t=f+s\n",
    "        f,s=s,t\n",
    "    return t\n",
    "print(fib(11))"
   ]
  },
  {
   "cell_type": "code",
   "execution_count": 27,
   "id": "72823766",
   "metadata": {},
   "outputs": [
    {
     "name": "stdout",
     "output_type": "stream",
     "text": [
      "1\n",
      "1\n",
      "2\n",
      "3\n",
      "5\n",
      "8\n",
      "13\n",
      "21\n",
      "34\n"
     ]
    }
   ],
   "source": [
    "def fib(n):\n",
    "    f,s=0,1\n",
    "    if n==1 or n==2:\n",
    "        return n-1\n",
    "    for i in range(0,n-2):\n",
    "        t=f+s\n",
    "        f,s=s,t\n",
    "    return t\n",
    "for i in range(2,11):\n",
    "    print(fib(i))"
   ]
  },
  {
   "cell_type": "code",
   "execution_count": 30,
   "id": "9dc88605",
   "metadata": {},
   "outputs": [
    {
     "name": "stdout",
     "output_type": "stream",
     "text": [
      "987\n"
     ]
    }
   ],
   "source": [
    "def fib(n):\n",
    "    if n==1 or n==2:\n",
    "        return n-1\n",
    "    return fib(n-1)+fib(n-2)\n",
    "print(fib(17))"
   ]
  },
  {
   "cell_type": "code",
   "execution_count": 45,
   "id": "4400daa6",
   "metadata": {},
   "outputs": [
    {
     "name": "stdout",
     "output_type": "stream",
     "text": [
      "Tickets are Booked\n",
      "1222\n",
      "Tickets are Booked\n",
      "722\n"
     ]
    }
   ],
   "source": [
    "def SingleTon(arg):\n",
    "    d={}\n",
    "    def inner():\n",
    "        if arg not in d:\n",
    "            d[arg]=arg()\n",
    "        return d[arg]\n",
    "    return inner\n",
    "@SingleTon\n",
    "class Movie():\n",
    "    def __init__(self):\n",
    "        self.Tickets=1722\n",
    "    def Booking(self,n):\n",
    "        if self.Tickets>=n:\n",
    "            self.Tickets-=n\n",
    "            print('Tickets are Booked')\n",
    "        else:\n",
    "            print('No Tickets')\n",
    "devi=Movie()\n",
    "cherry=Movie()\n",
    "devi.Booking(500)\n",
    "print(devi.Tickets)\n",
    "cherry.Booking(500)\n",
    "print(cherry.Tickets)"
   ]
  },
  {
   "cell_type": "code",
   "execution_count": 32,
   "id": "a92e420a",
   "metadata": {},
   "outputs": [
    {
     "name": "stdout",
     "output_type": "stream",
     "text": [
      "power\n"
     ]
    }
   ],
   "source": [
    "d=128\n",
    "for a in range(d):\n",
    "    if 2**a==d:\n",
    "        print('power')\n",
    "        break\n",
    "else:\n",
    "    print('not')"
   ]
  },
  {
   "cell_type": "code",
   "execution_count": 33,
   "id": "6861511d",
   "metadata": {},
   "outputs": [
    {
     "name": "stdout",
     "output_type": "stream",
     "text": [
      "fib\n"
     ]
    }
   ],
   "source": [
    "d=2\n",
    "res=0\n",
    "f,s=0,1\n",
    "while res<d:\n",
    "    res=f+s\n",
    "    f,s=s,res\n",
    "if res==d:\n",
    "    print('fib')\n",
    "else:\n",
    "    print('not')"
   ]
  },
  {
   "cell_type": "code",
   "execution_count": 1,
   "id": "8805bea7",
   "metadata": {},
   "outputs": [
    {
     "name": "stdout",
     "output_type": "stream",
     "text": [
      "1\n",
      "2\n",
      "3\n",
      "4\n",
      "5\n",
      "6\n",
      "7\n",
      "8\n",
      "9\n",
      "10\n"
     ]
    }
   ],
   "source": [
    "def prime(n):\n",
    "    if n==11:\n",
    "        return \n",
    "    print(n)\n",
    "    prime(n+1)\n",
    "prime(1)"
   ]
  },
  {
   "cell_type": "code",
   "execution_count": 2,
   "id": "cdd64fc6",
   "metadata": {},
   "outputs": [
    {
     "name": "stdout",
     "output_type": "stream",
     "text": [
      "-1\n",
      "-2\n",
      "-3\n",
      "-4\n",
      "-5\n",
      "-6\n",
      "-7\n",
      "-8\n",
      "-9\n",
      "-10\n"
     ]
    }
   ],
   "source": [
    "def prime(n):\n",
    "    if n==-11:\n",
    "        return \n",
    "    print(n)\n",
    "    prime(n-1)\n",
    "prime(-1)"
   ]
  },
  {
   "cell_type": "code",
   "execution_count": 2,
   "id": "736d51b7",
   "metadata": {},
   "outputs": [
    {
     "name": "stdout",
     "output_type": "stream",
     "text": [
      "-10\n",
      "-9\n",
      "-8\n",
      "-7\n",
      "-6\n",
      "-5\n",
      "-4\n",
      "-3\n",
      "-2\n",
      "-1\n"
     ]
    }
   ],
   "source": [
    "def prime(n):\n",
    "    if n==0:\n",
    "        return \n",
    "    print(n)\n",
    "    prime(n+1)\n",
    "prime(-10)"
   ]
  },
  {
   "cell_type": "code",
   "execution_count": 3,
   "id": "81eceb02",
   "metadata": {},
   "outputs": [
    {
     "name": "stdout",
     "output_type": "stream",
     "text": [
      "10\n",
      "9\n",
      "8\n",
      "7\n",
      "6\n",
      "5\n",
      "4\n",
      "3\n",
      "2\n",
      "1\n"
     ]
    }
   ],
   "source": [
    "def prime(n):\n",
    "    if n==0:\n",
    "        return\n",
    "    print(n)\n",
    "    prime(n-1)\n",
    "prime(10)"
   ]
  },
  {
   "cell_type": "code",
   "execution_count": 2,
   "id": "8007f771",
   "metadata": {},
   "outputs": [
    {
     "name": "stdout",
     "output_type": "stream",
     "text": [
      "ived\n"
     ]
    }
   ],
   "source": [
    "def prime(n):\n",
    "    if n==-(len(d)+1):\n",
    "        return ''\n",
    "    return d[n]+prime(n-1)\n",
    "d='devi'\n",
    "print(prime(-1))"
   ]
  },
  {
   "cell_type": "code",
   "execution_count": 4,
   "id": "8e71a853",
   "metadata": {},
   "outputs": [
    {
     "name": "stdout",
     "output_type": "stream",
     "text": [
      "1\n",
      "2\n",
      "3\n",
      "4\n",
      "5\n",
      "6\n",
      "7\n",
      "8\n",
      "9\n",
      "10\n"
     ]
    }
   ],
   "source": [
    "def prime(n):\n",
    "    if n==11:\n",
    "        return\n",
    "    print(n)\n",
    "    prime(n+1)\n",
    "prime(1)"
   ]
  },
  {
   "cell_type": "code",
   "execution_count": 4,
   "id": "2b3085d1",
   "metadata": {},
   "outputs": [
    {
     "name": "stdout",
     "output_type": "stream",
     "text": [
      "12\n"
     ]
    }
   ],
   "source": [
    "def devi(i):\n",
    "    if i==0:\n",
    "        return 0\n",
    "    return i%10+devi(i//10)\n",
    "print(devi(1722))"
   ]
  },
  {
   "cell_type": "code",
   "execution_count": 13,
   "id": "b209f52a",
   "metadata": {},
   "outputs": [
    {
     "name": "stdout",
     "output_type": "stream",
     "text": [
      "120\n"
     ]
    }
   ],
   "source": [
    "def devi(i):\n",
    "    if i==0 or i==1:\n",
    "        return 1\n",
    "    return i*devi(i-1)\n",
    "print(devi(5))"
   ]
  },
  {
   "cell_type": "code",
   "execution_count": 5,
   "id": "15c7b551",
   "metadata": {},
   "outputs": [
    {
     "name": "stdout",
     "output_type": "stream",
     "text": [
      "eman\n"
     ]
    }
   ],
   "source": [
    "def love(i):\n",
    "    if i==-(len(c)+1):\n",
    "        return ''\n",
    "    return c[i]+love(i-1)\n",
    "c='name'\n",
    "print(love(-1))"
   ]
  },
  {
   "cell_type": "code",
   "execution_count": 15,
   "id": "88eac8d6",
   "metadata": {},
   "outputs": [
    {
     "name": "stdout",
     "output_type": "stream",
     "text": [
      "55\n"
     ]
    }
   ],
   "source": [
    "def fib(n):\n",
    "    f,s=0,1\n",
    "    if n==1 or n==2:\n",
    "        return n-1\n",
    "    for i in range(n-2):\n",
    "        t=f+s\n",
    "        f,s=s,t\n",
    "    return t\n",
    "print(fib(11))    "
   ]
  },
  {
   "cell_type": "code",
   "execution_count": 2,
   "id": "a78ae2be",
   "metadata": {},
   "outputs": [
    {
     "name": "stdout",
     "output_type": "stream",
     "text": [
      "0\n",
      "1\n",
      "1\n",
      "2\n",
      "3\n",
      "5\n",
      "8\n",
      "13\n",
      "21\n",
      "34\n"
     ]
    }
   ],
   "source": [
    "def fib(n):\n",
    "    f,s=0,1\n",
    "    if n==1 or n==2:\n",
    "        return n-1\n",
    "    for i in range(n-2):\n",
    "        t=f+s\n",
    "        f,s=s,t\n",
    "    return t\n",
    "for i in range(1,11):\n",
    "    print(fib(i))"
   ]
  },
  {
   "cell_type": "code",
   "execution_count": 5,
   "id": "36c15c0d",
   "metadata": {},
   "outputs": [
    {
     "name": "stdout",
     "output_type": "stream",
     "text": [
      "55\n"
     ]
    }
   ],
   "source": [
    "def fib(n):\n",
    "    if n==1 or n==2:\n",
    "        return n-1\n",
    "    return fib(n-1)+fib(n-2)\n",
    "print(fib(11))"
   ]
  },
  {
   "cell_type": "code",
   "execution_count": 6,
   "id": "1927d4b9",
   "metadata": {},
   "outputs": [
    {
     "name": "stdout",
     "output_type": "stream",
     "text": [
      "12\n"
     ]
    }
   ],
   "source": [
    "def add(n):\n",
    "    if n==0:\n",
    "        return 0\n",
    "    return n%10+add(n//10)\n",
    "print(add(1722))"
   ]
  },
  {
   "cell_type": "code",
   "execution_count": 12,
   "id": "d5bceac1",
   "metadata": {},
   "outputs": [
    {
     "name": "stdout",
     "output_type": "stream",
     "text": [
      "120\n"
     ]
    }
   ],
   "source": [
    "def devi(i):\n",
    "    if i==0:\n",
    "        return 1\n",
    "    return (i%10)*devi(i//10)\n",
    "print(devi(12345))"
   ]
  },
  {
   "cell_type": "code",
   "execution_count": 3,
   "id": "62da447f",
   "metadata": {},
   "outputs": [
    {
     "name": "stdout",
     "output_type": "stream",
     "text": [
      "10\n",
      "9\n",
      "8\n",
      "7\n",
      "6\n",
      "5\n",
      "4\n",
      "3\n",
      "2\n",
      "1\n",
      "\n"
     ]
    }
   ],
   "source": [
    "def num(n):\n",
    "    if n==0:\n",
    "        return ''\n",
    "    print(n)\n",
    "    return num(n-1)\n",
    "print(num(10))"
   ]
  },
  {
   "cell_type": "code",
   "execution_count": 5,
   "id": "cb2047c6",
   "metadata": {},
   "outputs": [
    {
     "name": "stdout",
     "output_type": "stream",
     "text": [
      "120\n"
     ]
    }
   ],
   "source": [
    "#Factorial of Given Number\n",
    "def fact(n):\n",
    "    if n==0 or n==1:\n",
    "        return 1\n",
    "    return n*fact(n-1)\n",
    "print(fact(5))"
   ]
  },
  {
   "cell_type": "code",
   "execution_count": 7,
   "id": "b86b477a",
   "metadata": {},
   "outputs": [
    {
     "name": "stdout",
     "output_type": "stream",
     "text": [
      "ived\n"
     ]
    }
   ],
   "source": [
    "def prime(n):\n",
    "    if n==-(len(d)+1):\n",
    "        return ''\n",
    "    return d[n]+prime(n-1)\n",
    "d='devi'\n",
    "print(prime(-1))"
   ]
  },
  {
   "cell_type": "code",
   "execution_count": 6,
   "id": "e40f147f",
   "metadata": {},
   "outputs": [
    {
     "name": "stdout",
     "output_type": "stream",
     "text": [
      "eman\n"
     ]
    }
   ],
   "source": [
    "def love(i):\n",
    "    if i==-(len(c)+1):\n",
    "        return ''\n",
    "    return c[i]+love(i-1)\n",
    "c='name'\n",
    "print(love(-1))"
   ]
  },
  {
   "cell_type": "code",
   "execution_count": 6,
   "id": "376bf4de",
   "metadata": {},
   "outputs": [
    {
     "name": "stdout",
     "output_type": "stream",
     "text": [
      "0 1 1 2 3 5 8 13 21 34 "
     ]
    }
   ],
   "source": [
    "def fib(n):\n",
    "    f,s=0,1\n",
    "    if n==1 or n==2:\n",
    "        return n-1\n",
    "    for i in range(n-2):\n",
    "        t=f+s\n",
    "        f,s=s,t\n",
    "    return t\n",
    "for i in range(1,11):\n",
    "    print(fib(i),end=' ')"
   ]
  },
  {
   "cell_type": "code",
   "execution_count": 9,
   "id": "f7ab4c40",
   "metadata": {},
   "outputs": [
    {
     "name": "stdout",
     "output_type": "stream",
     "text": [
      "55\n"
     ]
    }
   ],
   "source": [
    "def fib(n):\n",
    "    f,s=0,1\n",
    "    if n==1 or n==2:\n",
    "        return n-1\n",
    "    for a in range(n-2):\n",
    "        t=f+s\n",
    "        f,s=s,t\n",
    "    return t\n",
    "x=11\n",
    "print(fib(x))"
   ]
  },
  {
   "cell_type": "code",
   "execution_count": 10,
   "id": "30171ae1",
   "metadata": {},
   "outputs": [
    {
     "name": "stdout",
     "output_type": "stream",
     "text": [
      "55\n"
     ]
    }
   ],
   "source": [
    "def fib(n):\n",
    "    if n==1 or n==2:\n",
    "        return n-1\n",
    "    return fib(n-1)+fib(n-2)\n",
    "print(fib(11))"
   ]
  },
  {
   "cell_type": "code",
   "execution_count": 19,
   "id": "4abe0a35",
   "metadata": {},
   "outputs": [
    {
     "name": "stdout",
     "output_type": "stream",
     "text": [
      "11\n",
      "10\n",
      "9\n",
      "8\n",
      "7\n",
      "6\n",
      "5\n",
      "4\n",
      "3\n",
      "2\n",
      "1\n"
     ]
    }
   ],
   "source": [
    "def num(i):\n",
    "    if i==0:\n",
    "        return\n",
    "    print(i)\n",
    "    num(i-1)\n",
    "num(11)"
   ]
  },
  {
   "cell_type": "code",
   "execution_count": 1,
   "id": "4b0303ec",
   "metadata": {},
   "outputs": [
    {
     "name": "stdout",
     "output_type": "stream",
     "text": [
      "6\n"
     ]
    }
   ],
   "source": [
    "def add(n):\n",
    "    if n==0:\n",
    "        return 0\n",
    "    return(n%10)+add(n//10)\n",
    "print(add(123))"
   ]
  },
  {
   "cell_type": "code",
   "execution_count": 26,
   "id": "a5f84351",
   "metadata": {},
   "outputs": [
    {
     "name": "stdout",
     "output_type": "stream",
     "text": [
      "120\n"
     ]
    }
   ],
   "source": [
    "def fact(n):\n",
    "    if n==0 or n==1:\n",
    "        return 1\n",
    "    return n*fact(n-1)\n",
    "print(fact(5))"
   ]
  },
  {
   "cell_type": "code",
   "execution_count": 19,
   "id": "49de958e",
   "metadata": {},
   "outputs": [
    {
     "name": "stdout",
     "output_type": "stream",
     "text": [
      "104976\n"
     ]
    }
   ],
   "source": [
    "def prod(n):\n",
    "    if n==0:\n",
    "        return 1\n",
    "    return n%10*prod(n//10)\n",
    "print(prod(112929112299))"
   ]
  },
  {
   "cell_type": "code",
   "execution_count": 2,
   "id": "9684de12",
   "metadata": {},
   "outputs": [
    {
     "name": "stdout",
     "output_type": "stream",
     "text": [
      "armstrong number\n"
     ]
    }
   ],
   "source": [
    "def armstrong(num,count):\n",
    "    if num==0:\n",
    "        return 0\n",
    "    return (num%10)**count+armstrong(num//10,count)\n",
    "num=153\n",
    "count=len(str(num))\n",
    "if num==armstrong(num,count):\n",
    "    print('armstrong number')\n",
    "else:\n",
    "    print('not armstrong number')"
   ]
  },
  {
   "cell_type": "code",
   "execution_count": 24,
   "id": "abacf3a5",
   "metadata": {},
   "outputs": [
    {
     "name": "stdout",
     "output_type": "stream",
     "text": [
      "disarum number\n"
     ]
    }
   ],
   "source": [
    "def disarum(num,count):\n",
    "    if num==0:\n",
    "        return 0\n",
    "    return (num%10)**count+disarum(num//10,count-1)\n",
    "num=135\n",
    "count=len(str(num))\n",
    "if num==disarum(num,count):\n",
    "    print('disarum number')\n",
    "else:\n",
    "    print('not disarum number')"
   ]
  },
  {
   "cell_type": "code",
   "execution_count": 22,
   "id": "59968ab8",
   "metadata": {},
   "outputs": [
    {
     "name": "stdout",
     "output_type": "stream",
     "text": [
      "prime number\n"
     ]
    }
   ],
   "source": [
    "def prime(n,i):\n",
    "    if i==n//2+1:\n",
    "        return True\n",
    "    if n%i==0 or n<=1:\n",
    "        return False\n",
    "    return prime(n,i+1)\n",
    "n=11\n",
    "i=2\n",
    "if prime(n,i):\n",
    "    print('prime number')\n",
    "else:\n",
    "    print('not prime number')"
   ]
  },
  {
   "cell_type": "code",
   "execution_count": 1,
   "id": "9d3c1122",
   "metadata": {},
   "outputs": [
    {
     "name": "stdout",
     "output_type": "stream",
     "text": [
      "11\n"
     ]
    }
   ],
   "source": [
    "#Binary To Decimal By Using Recursion\n",
    "def binary(n,p):\n",
    "    if n==0:\n",
    "        return 0\n",
    "    return(n%10)*2**p+binary(n//10,p+1)\n",
    "num=1011\n",
    "p=0\n",
    "print(binary(num,p))"
   ]
  },
  {
   "cell_type": "code",
   "execution_count": 2,
   "id": "e994acf7",
   "metadata": {},
   "outputs": [
    {
     "name": "stdout",
     "output_type": "stream",
     "text": [
      "1011\n"
     ]
    }
   ],
   "source": [
    "#Decimal To Binary By Using Recursion\n",
    "def decimal(n,p):\n",
    "    if n==0:\n",
    "        return 0\n",
    "    return(n%2)*p+decimal(n//2,p*10)\n",
    "num=11\n",
    "p=1\n",
    "print(decimal(num,p))"
   ]
  },
  {
   "cell_type": "code",
   "execution_count": 2,
   "id": "0291c26a",
   "metadata": {},
   "outputs": [
    {
     "name": "stdout",
     "output_type": "stream",
     "text": [
      "1192\n"
     ]
    }
   ],
   "source": [
    "def reverse(n,a):\n",
    "    if n==0:\n",
    "        return 0\n",
    "    return (n%10)*a+reverse(n//10,a//10)\n",
    "n=2911\n",
    "x=10**len(str(n))//10\n",
    "print(reverse(n,x))"
   ]
  },
  {
   "cell_type": "code",
   "execution_count": 4,
   "id": "d7a888b1",
   "metadata": {},
   "outputs": [
    {
     "name": "stdout",
     "output_type": "stream",
     "text": [
      "neon number\n"
     ]
    }
   ],
   "source": [
    "def neon(n):\n",
    "    if n==0:\n",
    "        return 0\n",
    "    return (n%10)+neon(n//10)\n",
    "num=9\n",
    "n=num**2\n",
    "if num==neon(n):\n",
    "    print('neon number')\n",
    "else:\n",
    "    print('not neon number')"
   ]
  },
  {
   "cell_type": "code",
   "execution_count": 1,
   "id": "d858ac54",
   "metadata": {},
   "outputs": [
    {
     "name": "stdout",
     "output_type": "stream",
     "text": [
      "spy\n"
     ]
    }
   ],
   "source": [
    "def sum(n):\n",
    "    if n==0:\n",
    "        return 0\n",
    "    return (n%10)+sum(n//10)\n",
    "def prod(n):\n",
    "    if n==0:\n",
    "        return 1\n",
    "    return (n%10)*prod(n//10)\n",
    "n=123\n",
    "if sum(n)==prod(n):\n",
    "    print('spy')\n",
    "else:\n",
    "    print('not spy')\n",
    "    "
   ]
  },
  {
   "cell_type": "code",
   "execution_count": 15,
   "id": "e29b7343",
   "metadata": {},
   "outputs": [
    {
     "name": "stdout",
     "output_type": "stream",
     "text": [
      "spy\n"
     ]
    }
   ],
   "source": [
    "def add(n):\n",
    "    if n==0:\n",
    "        return 0\n",
    "    return (n%10)+add (n//10)\n",
    "def prod(n):\n",
    "    if n==0:\n",
    "        return 1\n",
    "    return (n%10)*prod (n//10)\n",
    "n=123\n",
    "if add(n)==prod(n):\n",
    "    print('spy')\n",
    "else:\n",
    "    print('not')"
   ]
  },
  {
   "cell_type": "code",
   "execution_count": 14,
   "id": "43b52375",
   "metadata": {},
   "outputs": [
    {
     "name": "stdout",
     "output_type": "stream",
     "text": [
      "happy\n"
     ]
    }
   ],
   "source": [
    "def add(n):\n",
    "    if n==0:\n",
    "        return 0\n",
    "    return (n%10)**2+add(n//10)\n",
    "def happy(n):\n",
    "    if n<10:\n",
    "        return n\n",
    "    return happy(add(n))\n",
    "n=49\n",
    "#print(happy(n))\n",
    "if happy(n)==1:\n",
    "    print('happy')\n",
    "else:\n",
    "    print('not')"
   ]
  },
  {
   "cell_type": "code",
   "execution_count": 20,
   "id": "b1fe7529",
   "metadata": {},
   "outputs": [
    {
     "name": "stdout",
     "output_type": "stream",
     "text": [
      "55\n"
     ]
    }
   ],
   "source": [
    "def fib(n):\n",
    "    if n==1 or n==2:\n",
    "        return n-1\n",
    "    return fib(n-1)+fib(n-2)\n",
    "print(fib(11))"
   ]
  },
  {
   "cell_type": "code",
   "execution_count": 21,
   "id": "8ed10983",
   "metadata": {},
   "outputs": [
    {
     "name": "stdout",
     "output_type": "stream",
     "text": [
      "niven\n"
     ]
    }
   ],
   "source": [
    "def niven(n):\n",
    "    if n==0:\n",
    "        return 0\n",
    "    return (n%10)+niven(n//10)\n",
    "a=153\n",
    "if a%niven(a)==0:\n",
    "    print('niven')\n",
    "else:\n",
    "    print('not')"
   ]
  },
  {
   "cell_type": "code",
   "execution_count": 29,
   "id": "4083a5fa",
   "metadata": {},
   "outputs": [
    {
     "name": "stdout",
     "output_type": "stream",
     "text": [
      "armstrong\n"
     ]
    }
   ],
   "source": [
    "def armstrong(n,p):\n",
    "    if n==0:\n",
    "        return 0\n",
    "    return (n%10)**p+armstrong(n//10,p)\n",
    "n=153\n",
    "p=len(str(n))\n",
    "if n==armstrong(n,p):\n",
    "    print('armstrong')\n",
    "else:\n",
    "    print('not')"
   ]
  },
  {
   "cell_type": "code",
   "execution_count": 31,
   "id": "12395f77",
   "metadata": {},
   "outputs": [
    {
     "name": "stdout",
     "output_type": "stream",
     "text": [
      "disarum\n"
     ]
    }
   ],
   "source": [
    "def disarum(n,p):\n",
    "    if n==0:\n",
    "        return 0\n",
    "    return (n%10)**p+disarum(n//10,p-1)\n",
    "n=135\n",
    "p=len(str(n))\n",
    "if n==disarum(n,p):\n",
    "    print('disarum')\n",
    "else:\n",
    "    print('not')"
   ]
  },
  {
   "cell_type": "code",
   "execution_count": 55,
   "id": "49247a0f",
   "metadata": {},
   "outputs": [
    {
     "name": "stdout",
     "output_type": "stream",
     "text": [
      "palindrome\n"
     ]
    }
   ],
   "source": [
    "def palindrome(n,a):\n",
    "    if n==0:\n",
    "        return 0\n",
    "    return (n%10)*a+palindrome(n//10,a//10)\n",
    "n=21211212\n",
    "a=len(str(n))\n",
    "if n==palindrome(n,10**(a-1)):\n",
    "    print('palindrome')\n",
    "else:\n",
    "    print('not')"
   ]
  },
  {
   "cell_type": "code",
   "execution_count": 95,
   "id": "977985bd",
   "metadata": {},
   "outputs": [
    {
     "name": "stdout",
     "output_type": "stream",
     "text": [
      "paliprime\n"
     ]
    }
   ],
   "source": [
    "def pali(n,a):\n",
    "    if n==0:\n",
    "        return 0\n",
    "    return (n%10)*a+pali(n//10,a//10)\n",
    "def prime(n,i):\n",
    "    if n<=1:\n",
    "        return False\n",
    "    if n%i==0:\n",
    "        return False\n",
    "    if i==n//2+1:\n",
    "        return True\n",
    "    return prime(n,i+1)\n",
    "n=11\n",
    "a=len(str(n))\n",
    "if n==pali(n,10**(a-1)) and prime(n,i):\n",
    "    print('paliprime')\n",
    "else:\n",
    "    print('not')"
   ]
  },
  {
   "cell_type": "code",
   "execution_count": 6,
   "id": "63c02dbc",
   "metadata": {},
   "outputs": [
    {
     "name": "stdout",
     "output_type": "stream",
     "text": [
      "paliprime\n"
     ]
    }
   ],
   "source": [
    "def prime(n,a):\n",
    "    if n<=1:\n",
    "        return False\n",
    "    if a==n//2+1:\n",
    "        return True\n",
    "    if n%a==0:\n",
    "        return False\n",
    "    return prime(n,a+1)\n",
    "def pali(n,i):\n",
    "    if n==0:\n",
    "        return 0\n",
    "    return (n%10)*i+pali(n//10,i//10)\n",
    "n=11\n",
    "i=len(str(n))\n",
    "if n==pali(n,10**(i-1)) and prime(n,a):\n",
    "    print('paliprime')\n",
    "else:\n",
    "    print('not')"
   ]
  },
  {
   "cell_type": "code",
   "execution_count": 5,
   "id": "83ceb5fb",
   "metadata": {},
   "outputs": [
    {
     "name": "stdout",
     "output_type": "stream",
     "text": [
      "EMIRP\n"
     ]
    }
   ],
   "source": [
    "def prime(n,a):\n",
    "    if n<=1:\n",
    "        return False\n",
    "    if a==n//2+1:\n",
    "        return True\n",
    "    if n%a==0:\n",
    "        return False\n",
    "    return prime(n,a+1)\n",
    "def rev(n,i):\n",
    "    if n==0:\n",
    "        return 0\n",
    "    return (n%10)*i+rev(n//10,i//10)\n",
    "n=17\n",
    "a=len(str(n))\n",
    "c=rev(n,10**(i-1))\n",
    "if n!=c and prime(n,a) and prime(c,a):\n",
    "    print('EMIRP')\n",
    "else:\n",
    "    print('not')"
   ]
  },
  {
   "cell_type": "code",
   "execution_count": 10,
   "id": "0a23f222",
   "metadata": {},
   "outputs": [
    {
     "name": "stdout",
     "output_type": "stream",
     "text": [
      "Special Number\n"
     ]
    }
   ],
   "source": [
    "def fact(n):\n",
    "    if n==0:\n",
    "        return 1\n",
    "    return n*fact(n-1)\n",
    "def special(n):\n",
    "    if n==0:\n",
    "        return 0\n",
    "    return fact(n%10)+special(n//10)\n",
    "n=145\n",
    "if n==special(n):\n",
    "    print('Special Number')\n",
    "else:\n",
    "    print('Not Special Number')"
   ]
  },
  {
   "cell_type": "code",
   "execution_count": 4,
   "id": "0eaaf0db",
   "metadata": {},
   "outputs": [
    {
     "name": "stdout",
     "output_type": "stream",
     "text": [
      "prime\n"
     ]
    }
   ],
   "source": [
    "def prime(n,a):\n",
    "    if n<=1:\n",
    "        return False\n",
    "    if a==n//2+1:\n",
    "        return True\n",
    "    if n%a==0:\n",
    "        return False\n",
    "    return prime(n,a+1)\n",
    "n=11\n",
    "a=len(str(n))\n",
    "if prime(n,a):\n",
    "    print('prime')\n",
    "else:\n",
    "    print('not')"
   ]
  },
  {
   "cell_type": "code",
   "execution_count": 12,
   "id": "faeb8ca8",
   "metadata": {},
   "outputs": [
    {
     "name": "stdout",
     "output_type": "stream",
     "text": [
      "happy\n"
     ]
    }
   ],
   "source": [
    "def add(n):\n",
    "    if n==0:\n",
    "        return 0\n",
    "    return (n%10)**2+add(n//10)\n",
    "def happy(n):\n",
    "    if n<10:\n",
    "        return n\n",
    "    return happy(add(n))\n",
    "n=49\n",
    "if happy(n)==1:\n",
    "    print('happy')\n",
    "else:\n",
    "    print('not')"
   ]
  },
  {
   "cell_type": "code",
   "execution_count": 24,
   "id": "777f2214",
   "metadata": {},
   "outputs": [
    {
     "name": "stdout",
     "output_type": "stream",
     "text": [
      "happy\n"
     ]
    }
   ],
   "source": [
    "def add(n):\n",
    "    if n==0:\n",
    "        return 0\n",
    "    return (n%10)**2+add(n//10)\n",
    "def happy(n):\n",
    "    if n<10:\n",
    "        return n\n",
    "    return happy(add(n))\n",
    "n=49\n",
    "#print(happy(n))\n",
    "if happy(n)==1:\n",
    "    print('happy')\n",
    "else:\n",
    "    print('not')"
   ]
  },
  {
   "cell_type": "code",
   "execution_count": 1,
   "id": "1d6ae409",
   "metadata": {},
   "outputs": [
    {
     "name": "stdout",
     "output_type": "stream",
     "text": [
      "prime\n"
     ]
    }
   ],
   "source": [
    "def prime(n,a):\n",
    "    if n<=1:\n",
    "        return False\n",
    "    if a==n//2+1:\n",
    "        return True\n",
    "    if n%a==0:\n",
    "        return False\n",
    "    return prime(n,a+1)\n",
    "n=11\n",
    "a=2\n",
    "if prime(n,a):\n",
    "    print('prime')\n",
    "else:\n",
    "    print('not')"
   ]
  },
  {
   "cell_type": "code",
   "execution_count": 11,
   "id": "7466b03e",
   "metadata": {},
   "outputs": [
    {
     "name": "stdout",
     "output_type": "stream",
     "text": [
      "rev\n"
     ]
    }
   ],
   "source": [
    "def rev(n,a):\n",
    "    if n==0:\n",
    "        return 0\n",
    "    return (n%10)*a+rev(n//10,a//10)\n",
    "n=22\n",
    "a=len(str(n))\n",
    "if n==rev(n,10**(a-1)):\n",
    "    print('rev')\n",
    "else:\n",
    "    print('not')"
   ]
  },
  {
   "cell_type": "code",
   "execution_count": 17,
   "id": "852f82dc",
   "metadata": {},
   "outputs": [
    {
     "name": "stdout",
     "output_type": "stream",
     "text": [
      "yes\n"
     ]
    }
   ],
   "source": [
    "def prime(n,a):\n",
    "    if n<=1:\n",
    "        return False\n",
    "    if a==n//2+1:\n",
    "        return True\n",
    "    if n%a==0:\n",
    "        return False\n",
    "    return prime(n,a+1)\n",
    "n=29\n",
    "a=2\n",
    "if prime(n,a):\n",
    "    print('yes')\n",
    "else:\n",
    "    print('not')"
   ]
  },
  {
   "cell_type": "code",
   "execution_count": 5,
   "id": "cb7d02cf",
   "metadata": {},
   "outputs": [
    {
     "name": "stdout",
     "output_type": "stream",
     "text": [
      "yes\n"
     ]
    }
   ],
   "source": [
    "def add(n):\n",
    "    if n==0:\n",
    "        return 0\n",
    "    return (n%10)**2+add(n//10)\n",
    "def happy(n):\n",
    "    if n<10:\n",
    "        return n\n",
    "    return happy(add(n))\n",
    "n=49\n",
    "if happy(n)==1:\n",
    "    print('yes')\n",
    "else:\n",
    "    print('not')"
   ]
  },
  {
   "cell_type": "code",
   "execution_count": 11,
   "id": "0518ea85",
   "metadata": {},
   "outputs": [
    {
     "name": "stdout",
     "output_type": "stream",
     "text": [
      "12\n"
     ]
    }
   ],
   "source": [
    "def vowel(d,i):\n",
    "    if i==len(d):\n",
    "        return 0\n",
    "    return (1 if d[i] in 'aeiouAEIOU' else 0)+vowel(d,i+1)\n",
    "d='I want to Become A Python Developer'\n",
    "print(vowel(d,0))"
   ]
  },
  {
   "cell_type": "code",
   "execution_count": 5,
   "id": "9949b257",
   "metadata": {},
   "outputs": [
    {
     "name": "stdout",
     "output_type": "stream",
     "text": [
      "happy\n"
     ]
    }
   ],
   "source": [
    "def add(n):\n",
    "    if n==0:\n",
    "        return 0\n",
    "    return (n%10)**2+add(n//10)\n",
    "def happy(n):\n",
    "    if n<10:\n",
    "        return n\n",
    "    return happy(add(n))\n",
    "n=49\n",
    "if happy(n)==1:\n",
    "    print('happy')\n",
    "else:\n",
    "    print('not')"
   ]
  },
  {
   "cell_type": "code",
   "execution_count": 15,
   "id": "955cbcd1",
   "metadata": {},
   "outputs": [
    {
     "name": "stdout",
     "output_type": "stream",
     "text": [
      "Tech Number\n"
     ]
    }
   ],
   "source": [
    "def tech(n):\n",
    "    s=str(n)\n",
    "    l=len(s)\n",
    "    res=0\n",
    "    if (l%2==0):\n",
    "        first=s[:l//2]\n",
    "        second=s[l//2:]\n",
    "        plus=int(first)+int(second)\n",
    "        square=plus**2\n",
    "    return square\n",
    "n=2025\n",
    "if n==tech(n):\n",
    "    print('Tech Number')\n",
    "else:\n",
    "    print('Not Tech Number')\n",
    "    "
   ]
  },
  {
   "cell_type": "code",
   "execution_count": 18,
   "id": "a3fa4a27",
   "metadata": {},
   "outputs": [
    {
     "name": "stdout",
     "output_type": "stream",
     "text": [
      "Tech Number\n"
     ]
    }
   ],
   "source": [
    "def tech(n):\n",
    "    s=str(n)\n",
    "    l=len(s)\n",
    "    if (l%2==0):\n",
    "        first=s[:l//2]\n",
    "        second=s[l//2:]\n",
    "        plus=int(first)+int(second)\n",
    "        square=plus**2\n",
    "    return square\n",
    "n=9801\n",
    "if n==tech(n):\n",
    "    print('Tech Number')\n",
    "else:\n",
    "    print('Not Tech Number')"
   ]
  },
  {
   "cell_type": "code",
   "execution_count": null,
   "id": "ceb55007",
   "metadata": {},
   "outputs": [],
   "source": []
  },
  {
   "cell_type": "code",
   "execution_count": null,
   "id": "1b10ee6b",
   "metadata": {},
   "outputs": [],
   "source": []
  },
  {
   "cell_type": "code",
   "execution_count": null,
   "id": "5c7d7898",
   "metadata": {},
   "outputs": [],
   "source": []
  },
  {
   "cell_type": "code",
   "execution_count": null,
   "id": "4930edf7",
   "metadata": {},
   "outputs": [],
   "source": []
  },
  {
   "cell_type": "code",
   "execution_count": null,
   "id": "ecf9b62a",
   "metadata": {},
   "outputs": [],
   "source": []
  },
  {
   "cell_type": "code",
   "execution_count": null,
   "id": "d885e6b2",
   "metadata": {},
   "outputs": [],
   "source": []
  },
  {
   "cell_type": "code",
   "execution_count": null,
   "id": "791d393d",
   "metadata": {},
   "outputs": [],
   "source": []
  },
  {
   "cell_type": "code",
   "execution_count": null,
   "id": "19c66325",
   "metadata": {},
   "outputs": [],
   "source": []
  },
  {
   "cell_type": "code",
   "execution_count": null,
   "id": "021f726e",
   "metadata": {},
   "outputs": [],
   "source": []
  },
  {
   "cell_type": "code",
   "execution_count": null,
   "id": "11af19c1",
   "metadata": {},
   "outputs": [],
   "source": []
  },
  {
   "cell_type": "code",
   "execution_count": null,
   "id": "1dbd3ced",
   "metadata": {},
   "outputs": [],
   "source": []
  },
  {
   "cell_type": "code",
   "execution_count": null,
   "id": "7d3cc576",
   "metadata": {},
   "outputs": [],
   "source": []
  },
  {
   "cell_type": "code",
   "execution_count": null,
   "id": "19e6f0cb",
   "metadata": {},
   "outputs": [],
   "source": []
  },
  {
   "cell_type": "code",
   "execution_count": null,
   "id": "123695af",
   "metadata": {},
   "outputs": [],
   "source": []
  },
  {
   "cell_type": "code",
   "execution_count": null,
   "id": "90452f0c",
   "metadata": {},
   "outputs": [],
   "source": []
  },
  {
   "cell_type": "code",
   "execution_count": null,
   "id": "a6cd6740",
   "metadata": {},
   "outputs": [],
   "source": []
  },
  {
   "cell_type": "code",
   "execution_count": null,
   "id": "fef24c7f",
   "metadata": {},
   "outputs": [],
   "source": []
  },
  {
   "cell_type": "code",
   "execution_count": null,
   "id": "d66b7cbd",
   "metadata": {},
   "outputs": [],
   "source": []
  },
  {
   "cell_type": "code",
   "execution_count": null,
   "id": "8ac4980e",
   "metadata": {},
   "outputs": [],
   "source": []
  },
  {
   "cell_type": "code",
   "execution_count": null,
   "id": "54823831",
   "metadata": {},
   "outputs": [],
   "source": []
  },
  {
   "cell_type": "code",
   "execution_count": null,
   "id": "e2726006",
   "metadata": {},
   "outputs": [],
   "source": []
  },
  {
   "cell_type": "code",
   "execution_count": null,
   "id": "1c2fe630",
   "metadata": {},
   "outputs": [],
   "source": []
  },
  {
   "cell_type": "code",
   "execution_count": null,
   "id": "31a8613d",
   "metadata": {},
   "outputs": [],
   "source": []
  },
  {
   "cell_type": "code",
   "execution_count": null,
   "id": "55072a1e",
   "metadata": {},
   "outputs": [],
   "source": []
  },
  {
   "cell_type": "code",
   "execution_count": null,
   "id": "16d12273",
   "metadata": {},
   "outputs": [],
   "source": []
  },
  {
   "cell_type": "code",
   "execution_count": null,
   "id": "e40a414b",
   "metadata": {},
   "outputs": [],
   "source": []
  },
  {
   "cell_type": "code",
   "execution_count": null,
   "id": "a1dc1399",
   "metadata": {},
   "outputs": [],
   "source": []
  },
  {
   "cell_type": "code",
   "execution_count": null,
   "id": "cf08bb15",
   "metadata": {},
   "outputs": [],
   "source": []
  },
  {
   "cell_type": "code",
   "execution_count": 4,
   "id": "fd8a13da",
   "metadata": {},
   "outputs": [
    {
     "name": "stdout",
     "output_type": "stream",
     "text": [
      "8\n"
     ]
    }
   ],
   "source": [
    "d='i love you charishma'\n",
    "c=0\n",
    "i='aeiou'\n",
    "for a in range(len(d)):\n",
    "    if d[a] in i:\n",
    "        c+=1\n",
    "print(c)"
   ]
  },
  {
   "cell_type": "code",
   "execution_count": 5,
   "id": "e4de4299",
   "metadata": {},
   "outputs": [
    {
     "name": "stdout",
     "output_type": "stream",
     "text": [
      "yes\n"
     ]
    }
   ],
   "source": [
    "def add(n):\n",
    "    if n==0:\n",
    "        return 0\n",
    "    return(n%10)**2+add(n//10)\n",
    "def happy(n):\n",
    "    if n<10:\n",
    "        return n\n",
    "    return happy(add(n))\n",
    "n=49\n",
    "if happy(n)==1:\n",
    "    print('yes')\n",
    "else:\n",
    "    print('no')"
   ]
  },
  {
   "cell_type": "code",
   "execution_count": 15,
   "id": "bc11723c",
   "metadata": {},
   "outputs": [
    {
     "name": "stdout",
     "output_type": "stream",
     "text": [
      "92\n"
     ]
    }
   ],
   "source": [
    "def rev(n,i):\n",
    "    if n==0:\n",
    "        return 0\n",
    "    return (n%10)*i+rev(n//10,i//10)\n",
    "n=29\n",
    "i=len(str(n))\n",
    "print(rev(n,10**(i-1)))"
   ]
  },
  {
   "cell_type": "code",
   "execution_count": 20,
   "id": "3485e8ad",
   "metadata": {},
   "outputs": [
    {
     "name": "stdout",
     "output_type": "stream",
     "text": [
      "No\n"
     ]
    }
   ],
   "source": [
    "def pali(n,a):\n",
    "    if n==0:\n",
    "        return 0\n",
    "    return (n%10)*a+pali(n//10,a//10)\n",
    "def prime(n,b):\n",
    "    if n<=1:\n",
    "        return False\n",
    "    if b==n//2+1:\n",
    "        return True\n",
    "    if n%b==0:\n",
    "        return False\n",
    "    return prime(n,b+1)\n",
    "n=12\n",
    "a=len(str(n))\n",
    "if n==pali(n,10**(a-1)) and prime(n,a):\n",
    "    print('Yes')\n",
    "else:\n",
    "    print('No')"
   ]
  },
  {
   "cell_type": "code",
   "execution_count": 28,
   "id": "344d1a1a",
   "metadata": {},
   "outputs": [
    {
     "name": "stdout",
     "output_type": "stream",
     "text": [
      "Yes\n"
     ]
    }
   ],
   "source": [
    "def prime(n,a):\n",
    "    if n<=1:\n",
    "        return False\n",
    "    if a==n//2+1:\n",
    "        return True\n",
    "    if n%a==0:\n",
    "        return False\n",
    "    return prime(n,a+1)\n",
    "def pali(n,a):\n",
    "    if n==0:\n",
    "        return 0\n",
    "    return (n%10)*a+pali(n//10,a//10)\n",
    "n=17\n",
    "a=len(str(n))\n",
    "m=pali(n,10**(a-1))\n",
    "if n!=m and prime(m,a) and prime(n,a):\n",
    "    print('Yes')\n",
    "else:\n",
    "    print('No')"
   ]
  },
  {
   "cell_type": "code",
   "execution_count": 3,
   "id": "a433e56b",
   "metadata": {},
   "outputs": [
    {
     "name": "stdout",
     "output_type": "stream",
     "text": [
      "Special Number\n"
     ]
    }
   ],
   "source": [
    "def fact(n):\n",
    "    if n==0 or n==1:\n",
    "        return 1\n",
    "    return n*fact(n-1)\n",
    "def special(n):\n",
    "    if n==0:\n",
    "        return 0\n",
    "    return fact(n%10)+special(n//10)\n",
    "n=145\n",
    "if n==special(n):\n",
    "    print('Special Number')\n",
    "else:\n",
    "    print('Not')"
   ]
  },
  {
   "cell_type": "code",
   "execution_count": 4,
   "id": "63a298a7",
   "metadata": {},
   "outputs": [
    {
     "name": "stdout",
     "output_type": "stream",
     "text": [
      "Happy Number\n"
     ]
    }
   ],
   "source": [
    "def add(n):\n",
    "    if n==0:\n",
    "        return 0\n",
    "    return (n%10)**2+add(n//10)\n",
    "def happy(n):\n",
    "    if n<10:\n",
    "        return n\n",
    "    return happy(add(n))\n",
    "n=49\n",
    "if happy(n)==1:\n",
    "    print('Happy Number')\n",
    "else:\n",
    "    print('Not A Happy Number')"
   ]
  },
  {
   "cell_type": "code",
   "execution_count": 1,
   "id": "40c41fc4",
   "metadata": {},
   "outputs": [
    {
     "name": "stdout",
     "output_type": "stream",
     "text": [
      "Happy Number\n"
     ]
    }
   ],
   "source": [
    "def add(n):\n",
    "    if n==0:\n",
    "        return 0\n",
    "    return (n%10)**2+add(n//10)\n",
    "def happy(n):\n",
    "    if n<10:\n",
    "        return n\n",
    "    return happy(add(n))\n",
    "n=49\n",
    "if happy(n)==1:\n",
    "    print('Happy Number')\n",
    "else:\n",
    "    print('Not A Happy Number')"
   ]
  },
  {
   "cell_type": "code",
   "execution_count": null,
   "id": "6cb076c1",
   "metadata": {},
   "outputs": [],
   "source": []
  },
  {
   "cell_type": "code",
   "execution_count": null,
   "id": "d1fb313a",
   "metadata": {},
   "outputs": [],
   "source": []
  }
 ],
 "metadata": {
  "kernelspec": {
   "display_name": "Python 3 (ipykernel)",
   "language": "python",
   "name": "python3"
  },
  "language_info": {
   "codemirror_mode": {
    "name": "ipython",
    "version": 3
   },
   "file_extension": ".py",
   "mimetype": "text/x-python",
   "name": "python",
   "nbconvert_exporter": "python",
   "pygments_lexer": "ipython3",
   "version": "3.9.13"
  }
 },
 "nbformat": 4,
 "nbformat_minor": 5
}
