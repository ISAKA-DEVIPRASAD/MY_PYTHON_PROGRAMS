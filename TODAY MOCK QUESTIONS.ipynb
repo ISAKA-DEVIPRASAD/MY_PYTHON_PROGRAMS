{
 "cells": [
  {
   "cell_type": "code",
   "execution_count": 2,
   "id": "6d06090a",
   "metadata": {},
   "outputs": [
    {
     "name": "stdout",
     "output_type": "stream",
     "text": [
      "1  2  3  4  5  \n",
      "   6  7  8  9  \n",
      "      10 11 12 \n",
      "         13 14 \n",
      "            15 \n"
     ]
    }
   ],
   "source": [
    "n=5\n",
    "st=5\n",
    "sp=0\n",
    "num=1\n",
    "for i in range(n):\n",
    "    num=num\n",
    "    for j in range(sp):\n",
    "        print(format(' ','<2'),end=' ')\n",
    "    for k in range(st):\n",
    "        print(format(num,'<2'),end=' ')\n",
    "        num+=1\n",
    "    print()\n",
    "    sp+=1\n",
    "    st-=1"
   ]
  },
  {
   "cell_type": "code",
   "execution_count": 10,
   "id": "9beef94d",
   "metadata": {},
   "outputs": [
    {
     "name": "stdout",
     "output_type": "stream",
     "text": [
      "enter number:5\n",
      "* * * * * * * * * \n",
      "  * * * * * * * \n",
      "    * * * * * \n",
      "      * * * \n",
      "        * \n"
     ]
    }
   ],
   "source": [
    "n=int(input('enter number:'))\n",
    "sp=0\n",
    "st=2*n-1\n",
    "for x in range(n):\n",
    "    for y in range(sp):\n",
    "        print(' ',end=' ')\n",
    "    for z in range(st):\n",
    "        print('*',end=' ')\n",
    "    print()\n",
    "    st-=2\n",
    "    sp+=1"
   ]
  },
  {
   "cell_type": "code",
   "execution_count": 7,
   "id": "091c5d2e",
   "metadata": {},
   "outputs": [
    {
     "name": "stdout",
     "output_type": "stream",
     "text": [
      "120\n"
     ]
    }
   ],
   "source": [
    "def fact(n):\n",
    "    if n==0:\n",
    "        return 1\n",
    "    return n*fact(n-1)\n",
    "print(fact(5))"
   ]
  },
  {
   "cell_type": "code",
   "execution_count": 9,
   "id": "8720f054",
   "metadata": {},
   "outputs": [
    {
     "name": "stdout",
     "output_type": "stream",
     "text": [
      "dasarpived\n"
     ]
    }
   ],
   "source": [
    "def revstr(i):\n",
    "    if i==-(len(d)+1):\n",
    "        return ''\n",
    "    return d[i]+revstr(i-1)\n",
    "d='deviprasad'\n",
    "print(revstr(-1))"
   ]
  },
  {
   "cell_type": "code",
   "execution_count": null,
   "id": "a763fc69",
   "metadata": {},
   "outputs": [],
   "source": [
    "#lenthiest sub-palindrome"
   ]
  },
  {
   "cell_type": "code",
   "execution_count": 10,
   "id": "83d83d11",
   "metadata": {},
   "outputs": [
    {
     "name": "stdout",
     "output_type": "stream",
     "text": [
      "Disarum Number\n"
     ]
    }
   ],
   "source": [
    "def disarum(n,p):\n",
    "    if n==0:\n",
    "        return 0\n",
    "    return (n%10)**p+disarum(n//10,p-1)\n",
    "n=135\n",
    "p=len(str(n))\n",
    "if n==disarum(n,p):\n",
    "    print('Disarum Number')\n",
    "else:\n",
    "    print('Not A Disarum Number')"
   ]
  },
  {
   "cell_type": "code",
   "execution_count": 12,
   "id": "e0997045",
   "metadata": {},
   "outputs": [
    {
     "name": "stdout",
     "output_type": "stream",
     "text": [
      "1011\n"
     ]
    }
   ],
   "source": [
    "def D2B(n,p):\n",
    "    if n==0:\n",
    "        return 0\n",
    "    return (n%2)*p+D2B(n//2,p*10)\n",
    "n=11\n",
    "p=1\n",
    "print(D2B(n,p))"
   ]
  },
  {
   "cell_type": "code",
   "execution_count": 2,
   "id": "8f6e0f7f",
   "metadata": {},
   "outputs": [
    {
     "name": "stdout",
     "output_type": "stream",
     "text": [
      "[5, 9, 6, 9, 9]\n"
     ]
    }
   ],
   "source": [
    "#InPut-->[14,18,123,45,144]\n",
    "#OutPut-->[5,9,6,9,9]\n",
    "d=[14,18,123,45,144]\n",
    "res=[]\n",
    "for i in d:\n",
    "    add=0\n",
    "    while (i!=0):\n",
    "        rem=i%10\n",
    "        add=add+rem\n",
    "        i//=10\n",
    "    res.append(add)\n",
    "print(res)"
   ]
  },
  {
   "cell_type": "code",
   "execution_count": 13,
   "id": "11e9499f",
   "metadata": {},
   "outputs": [
    {
     "name": "stdout",
     "output_type": "stream",
     "text": [
      "[2, 5, 11, 17, 22]\n"
     ]
    }
   ],
   "source": [
    "d=[2,2,5,11,5,17,11,5,17,22,5,17,11,2,11,11]\n",
    "c=[]\n",
    "for i in range(len(d)):\n",
    "    if d[i] not in c:\n",
    "        c+=[d[i]]\n",
    "print(c)"
   ]
  },
  {
   "cell_type": "code",
   "execution_count": 11,
   "id": "31d75d0a",
   "metadata": {},
   "outputs": [
    {
     "name": "stdout",
     "output_type": "stream",
     "text": [
      "Happy Number\n"
     ]
    }
   ],
   "source": [
    "def add(n):\n",
    "    if n==0:\n",
    "        return 0\n",
    "    return (n%10)**2+add(n//10)\n",
    "def happy(n):\n",
    "    if n<10:\n",
    "        return n\n",
    "    return happy(add(n))\n",
    "n=49\n",
    "if happy(n)==1:\n",
    "    print('Happy Number')\n",
    "else:\n",
    "    print('Not A Happy Number')"
   ]
  },
  {
   "cell_type": "code",
   "execution_count": 12,
   "id": "893b3764",
   "metadata": {},
   "outputs": [
    {
     "name": "stdout",
     "output_type": "stream",
     "text": [
      "[101, 103, 105, 107, 109, 111, 113, 115, 117, 119, 121, 123, 125, 127, 129, 131, 133, 135, 137, 139, 141, 143, 145, 147, 149, 151, 153, 155, 157, 159, 161, 163, 165, 167, 169, 171, 173, 175, 177, 179, 181, 183, 185, 187, 189, 191, 193, 195, 197, 199]\n"
     ]
    }
   ],
   "source": [
    "d=[i for i in range(100,201) if i%2==1]\n",
    "print(d)"
   ]
  },
  {
   "cell_type": "code",
   "execution_count": 15,
   "id": "a2c36428",
   "metadata": {},
   "outputs": [
    {
     "name": "stdout",
     "output_type": "stream",
     "text": [
      "1 6\n",
      "2 5\n",
      "3 4\n",
      "4 3\n",
      "5 2\n",
      "6 1\n"
     ]
    }
   ],
   "source": [
    "n=6\n",
    "for i in range(1,n+1):\n",
    "    print(f'{i} {n-i+1}')"
   ]
  },
  {
   "cell_type": "code",
   "execution_count": 3,
   "id": "132e08d8",
   "metadata": {},
   "outputs": [
    {
     "name": "stdout",
     "output_type": "stream",
     "text": [
      "[5, 9, 6, 9, 9]\n"
     ]
    }
   ],
   "source": [
    "d=[14,18,123,45,144]\n",
    "res=[]\n",
    "for i in d:\n",
    "    add=0\n",
    "    while i!=0:\n",
    "        rem=i%10\n",
    "        add+=rem\n",
    "        i//=10\n",
    "    res.append(add)\n",
    "print(res)"
   ]
  },
  {
   "cell_type": "code",
   "execution_count": 40,
   "id": "50cefe57",
   "metadata": {},
   "outputs": [
    {
     "name": "stdout",
     "output_type": "stream",
     "text": [
      "[1, 2, 3, 4]\n",
      "THIS IS EXAM QUESTION\n"
     ]
    }
   ],
   "source": [
    "S='I2S QUES4TION EX3AM TH1IS'\n",
    "d={}\n",
    "L=S.split()\n",
    "lt=[]\n",
    "for word in L:\n",
    "    num=ss=''\n",
    "    for ch in word:\n",
    "        if '0'<=ch<='9':\n",
    "            num+=ch\n",
    "        else:\n",
    "            ss+=ch\n",
    "    d[int(num)]=ss\n",
    "ld=list(d)\n",
    "ld.sort()\n",
    "print(ld)\n",
    "for i in ld:\n",
    "    if i in d.keys():\n",
    "        lt.append(d[i])\n",
    "print(' '.join(lt))"
   ]
  },
  {
   "cell_type": "code",
   "execution_count": 4,
   "id": "bb376d8b",
   "metadata": {},
   "outputs": [
    {
     "name": "stdout",
     "output_type": "stream",
     "text": [
      "ANA\n",
      "1\n",
      "ANA\n",
      "2\n"
     ]
    }
   ],
   "source": [
    "d='BANANA'\n",
    "count=0\n",
    "for i in range(len(d)):\n",
    "    for j in range(i+1,len(d)+1):\n",
    "        N=d[i:j]\n",
    "        if N==N[::-1] and len(N)==3 and N.startswith('A'):\n",
    "            count+=1\n",
    "            print(N)\n",
    "            print(count)"
   ]
  },
  {
   "cell_type": "code",
   "execution_count": 62,
   "id": "ed2acc7f",
   "metadata": {},
   "outputs": [
    {
     "name": "stdout",
     "output_type": "stream",
     "text": [
      "Palindrome List\n"
     ]
    }
   ],
   "source": [
    "d=[2,5,11,5,2]\n",
    "c=d[::-1]\n",
    "if c==d:\n",
    "    print('Palindrome List')\n",
    "else:\n",
    "    print('Not A Palindrome List')"
   ]
  },
  {
   "cell_type": "code",
   "execution_count": 14,
   "id": "e68ee116",
   "metadata": {},
   "outputs": [
    {
     "name": "stdout",
     "output_type": "stream",
     "text": [
      "1\n",
      "2\n"
     ]
    }
   ],
   "source": [
    "def sample():\n",
    "    yield 1\n",
    "    yield 2\n",
    "x=sample()\n",
    "for i in x:\n",
    "    print(i)"
   ]
  },
  {
   "cell_type": "code",
   "execution_count": 17,
   "id": "e7b1a224",
   "metadata": {},
   "outputs": [
    {
     "name": "stdout",
     "output_type": "stream",
     "text": [
      "3 \n",
      "2 2 \n",
      "1 1 1 \n",
      "0 0 0 0 \n",
      "-1 -1 -1 -1 -1 \n"
     ]
    }
   ],
   "source": [
    "n=5\n",
    "st=1\n",
    "num=3\n",
    "for i in range(n):\n",
    "    for j in range(st):\n",
    "        print(num,end=' ')\n",
    "    print()\n",
    "    st+=1\n",
    "    num-=1"
   ]
  },
  {
   "cell_type": "code",
   "execution_count": 20,
   "id": "d1001f53",
   "metadata": {},
   "outputs": [
    {
     "name": "stdout",
     "output_type": "stream",
     "text": [
      "1 2 3 4 5 \n",
      "6 7 8 9 10 \n",
      "11 12 13 14 15 \n",
      "16 17 18 19 20 \n",
      "21 22 23 24 25 \n"
     ]
    }
   ],
   "source": [
    "n=5\n",
    "num=1\n",
    "for a in range(n):\n",
    "    for j in range(n):\n",
    "        print(num,end=' ')\n",
    "        num+=1\n",
    "    print()"
   ]
  },
  {
   "cell_type": "code",
   "execution_count": 31,
   "id": "2edea995",
   "metadata": {},
   "outputs": [
    {
     "name": "stdout",
     "output_type": "stream",
     "text": [
      "canara\n",
      "11\n",
      "canada\n",
      "1234\n",
      "I.Charishma\n",
      "22\n",
      "7893347525\n",
      "22000\n",
      "1722\n",
      "503209649284\n",
      "enter value5000\n",
      "Deposite is Done\n",
      "27000\n",
      "enter value1722\n",
      "enter value5000\n",
      "Withdraw is Done\n",
      "22000\n"
     ]
    }
   ],
   "source": [
    "class Bank_v1():\n",
    "    bank_name='canara'\n",
    "    bank_roi=11\n",
    "    bank_branch='india'\n",
    "    def __init__(self,n,a,ac,bal):\n",
    "        self.name=n\n",
    "        self.age=a\n",
    "        self.account=ac\n",
    "        self.balance=bal\n",
    "    @classmethod\n",
    "    def bank_details(cls):\n",
    "        print(cls.bank_name)\n",
    "        print(cls.bank_roi)\n",
    "        print(cls.bank_branch)\n",
    "    def customer_details(self):\n",
    "        print(self.name)\n",
    "        print(self.age)\n",
    "        print(self.account)\n",
    "        print(self.balance)\n",
    "    @staticmethod\n",
    "    def get_int():\n",
    "        amount=int(input('enter value'))\n",
    "        return amount\n",
    "    def deposite(self):\n",
    "        amount=self.get_int()\n",
    "        self.balance+=amount\n",
    "        print('Deposite is Done')\n",
    "    def withdraw(self):\n",
    "        amount=self.get_int()\n",
    "        if self.balance>amount:\n",
    "            self.balance-=amount\n",
    "            print('Withdraw is Done')\n",
    "        else:\n",
    "            print('Insufficient Balance')\n",
    "class Bank_v2(Bank_v1):\n",
    "    bank_ifsc=1234\n",
    "    bank_branch='canada'\n",
    "    def __init__(self,n,a,ac,bal,p,ad):\n",
    "        super().__init__(n,a,ac,bal)\n",
    "        self.pin=p\n",
    "        self.aadhar=ad\n",
    "    @classmethod\n",
    "    def bank_details(cls):\n",
    "        super().bank_details()\n",
    "        print(cls.bank_ifsc)\n",
    "    def customer_details(self):\n",
    "        super().customer_details()\n",
    "        print(self.pin)\n",
    "        print(self.aadhar)\n",
    "    def deposite(self):\n",
    "        super().deposite()\n",
    "    def withdraw(self):\n",
    "        pin=self.get_int()\n",
    "        if self.pin==pin:\n",
    "            super().withdraw()\n",
    "        else:\n",
    "            print('Incorrect Pin')            \n",
    "cherry=Bank_v2('I.Charishma',22,7893347525,22000,1722,503209649284)\n",
    "cherry.bank_details()\n",
    "cherry.customer_details()\n",
    "cherry.deposite()\n",
    "print(cherry.balance)\n",
    "cherry.withdraw()\n",
    "print(cherry.balance)"
   ]
  },
  {
   "cell_type": "code",
   "execution_count": 33,
   "id": "77dca52f",
   "metadata": {},
   "outputs": [
    {
     "name": "stdout",
     "output_type": "stream",
     "text": [
      "10\n",
      "2\n"
     ]
    }
   ],
   "source": [
    "a=10\n",
    "print(str(a))\n",
    "print(len(str(a)))"
   ]
  },
  {
   "cell_type": "code",
   "execution_count": 43,
   "id": "3827f972",
   "metadata": {},
   "outputs": [
    {
     "name": "stdout",
     "output_type": "stream",
     "text": [
      "11\n",
      "10\n",
      "9\n",
      "8\n",
      "7\n",
      "6\n",
      "5\n",
      "4\n",
      "3\n",
      "2\n",
      "1\n"
     ]
    }
   ],
   "source": [
    "n=11\n",
    "while n>=1:\n",
    "    print(n)\n",
    "    n-=1"
   ]
  },
  {
   "cell_type": "code",
   "execution_count": 49,
   "id": "9ad810c3",
   "metadata": {},
   "outputs": [
    {
     "name": "stdout",
     "output_type": "stream",
     "text": [
      "11\n",
      "12\n",
      "13\n",
      "14\n",
      "15\n",
      "16\n",
      "17\n",
      "18\n",
      "19\n",
      "20\n",
      "21\n",
      "22\n"
     ]
    }
   ],
   "source": [
    "n=11\n",
    "while n<=22:\n",
    "    print(n)\n",
    "    n+=1"
   ]
  },
  {
   "cell_type": "code",
   "execution_count": 50,
   "id": "7d9e1c63",
   "metadata": {},
   "outputs": [
    {
     "name": "stdout",
     "output_type": "stream",
     "text": [
      "11\n",
      "12\n",
      "13\n",
      "14\n",
      "15\n",
      "16\n",
      "17\n",
      "18\n",
      "19\n",
      "Outside Loop\n"
     ]
    }
   ],
   "source": [
    "n=11\n",
    "while n<=22:\n",
    "    if n==20:\n",
    "        break\n",
    "    print(n)\n",
    "    n+=1\n",
    "print('Outside Loop')"
   ]
  },
  {
   "cell_type": "code",
   "execution_count": 54,
   "id": "c3c5f46b",
   "metadata": {},
   "outputs": [
    {
     "name": "stdout",
     "output_type": "stream",
     "text": [
      "11\n",
      "12\n",
      "13\n",
      "14\n",
      "15\n",
      "16\n",
      "17\n",
      "18\n",
      "19\n"
     ]
    },
    {
     "ename": "KeyboardInterrupt",
     "evalue": "",
     "output_type": "error",
     "traceback": [
      "\u001b[1;31m---------------------------------------------------------------------------\u001b[0m",
      "\u001b[1;31mKeyboardInterrupt\u001b[0m                         Traceback (most recent call last)",
      "\u001b[1;32m~\\AppData\\Local\\Temp\\ipykernel_6884\\1441469546.py\u001b[0m in \u001b[0;36m<module>\u001b[1;34m\u001b[0m\n\u001b[0;32m      1\u001b[0m \u001b[0mn\u001b[0m\u001b[1;33m=\u001b[0m\u001b[1;36m11\u001b[0m\u001b[1;33m\u001b[0m\u001b[1;33m\u001b[0m\u001b[0m\n\u001b[0;32m      2\u001b[0m \u001b[1;32mwhile\u001b[0m \u001b[0mn\u001b[0m\u001b[1;33m<\u001b[0m\u001b[1;36m22\u001b[0m\u001b[1;33m:\u001b[0m\u001b[1;33m\u001b[0m\u001b[1;33m\u001b[0m\u001b[0m\n\u001b[1;32m----> 3\u001b[1;33m     \u001b[1;32mif\u001b[0m \u001b[0mn\u001b[0m\u001b[1;33m==\u001b[0m\u001b[1;36m20\u001b[0m\u001b[1;33m:\u001b[0m\u001b[1;33m\u001b[0m\u001b[1;33m\u001b[0m\u001b[0m\n\u001b[0m\u001b[0;32m      4\u001b[0m         \u001b[1;32mcontinue\u001b[0m\u001b[1;33m\u001b[0m\u001b[1;33m\u001b[0m\u001b[0m\n\u001b[0;32m      5\u001b[0m     \u001b[0mprint\u001b[0m\u001b[1;33m(\u001b[0m\u001b[0mn\u001b[0m\u001b[1;33m)\u001b[0m\u001b[1;33m\u001b[0m\u001b[1;33m\u001b[0m\u001b[0m\n",
      "\u001b[1;31mKeyboardInterrupt\u001b[0m: "
     ]
    }
   ],
   "source": [
    "n=11\n",
    "while n<22:\n",
    "    if n==20:\n",
    "        continue\n",
    "    print(n)\n",
    "    n+=1\n",
    "print('Outside Loop')"
   ]
  },
  {
   "cell_type": "code",
   "execution_count": 52,
   "id": "0b383516",
   "metadata": {},
   "outputs": [
    {
     "name": "stdout",
     "output_type": "stream",
     "text": [
      "11\n",
      "12\n",
      "13\n",
      "14\n",
      "15\n",
      "16\n",
      "17\n",
      "18\n",
      "19\n",
      "20\n",
      "21\n",
      "22\n",
      "Outside Loop\n"
     ]
    }
   ],
   "source": [
    "n=11\n",
    "while n<=22:\n",
    "    if n==20:\n",
    "        pass\n",
    "    print(n)\n",
    "    n+=1\n",
    "print('Outside Loop')"
   ]
  },
  {
   "cell_type": "code",
   "execution_count": 67,
   "id": "0d9dc580",
   "metadata": {},
   "outputs": [
    {
     "name": "stdout",
     "output_type": "stream",
     "text": [
      "      1 \n",
      "    2 1 2 \n",
      "  3 2 1 2 3 \n",
      "4 3 2 1 2 3 4 \n",
      "  3 2 1 2 3 \n",
      "    2 1 2 \n",
      "      1 \n"
     ]
    }
   ],
   "source": [
    "n=7\n",
    "sp=n//2\n",
    "st=1\n",
    "for i in range(n):\n",
    "    num=st//2+1\n",
    "    for j in range(sp):\n",
    "        print(' ',end=' ')\n",
    "    for k in range(st):\n",
    "        print(num,end=' ')\n",
    "        num=num-1 if k<st//2 else num+1\n",
    "    print()\n",
    "    if i<n//2:\n",
    "        st+=2\n",
    "        sp-=1\n",
    "    else:\n",
    "        st-=2\n",
    "        sp+=1"
   ]
  },
  {
   "cell_type": "code",
   "execution_count": 69,
   "id": "9281ac97",
   "metadata": {},
   "outputs": [
    {
     "name": "stdout",
     "output_type": "stream",
     "text": [
      "      1 \n",
      "    2 4 2 \n",
      "  1 2 3 2 1 \n",
      "2 4 6 8 6 4 2 \n",
      "  1 2 3 2 1 \n",
      "    2 4 2 \n",
      "      1 \n"
     ]
    }
   ],
   "source": [
    "n=7\n",
    "st=1\n",
    "sp=n//2\n",
    "for x in range(1,n+1):\n",
    "    num=1\n",
    "    if x%2==0:\n",
    "        num=2\n",
    "    for y in range(sp):\n",
    "        print(' ',end=' ')\n",
    "    for z in range(st):\n",
    "        print(num,end=' ')\n",
    "        if x%2==0:\n",
    "            num=num+2 if z<st//2 else num-2\n",
    "        else:\n",
    "            num=num+1 if z<st//2 else num-1\n",
    "    print()\n",
    "    if x<n//2+1:\n",
    "        st+=2\n",
    "        sp-=1\n",
    "    else:\n",
    "        st-=2\n",
    "        sp+=1"
   ]
  },
  {
   "cell_type": "code",
   "execution_count": 89,
   "id": "dd819108",
   "metadata": {},
   "outputs": [
    {
     "name": "stdout",
     "output_type": "stream",
     "text": [
      "enter number17\n",
      "EMIRP\n"
     ]
    }
   ],
   "source": [
    "d=int(input('enter number'))\n",
    "c=d\n",
    "p=0\n",
    "while d>0:\n",
    "    r=d%10\n",
    "    d//=10\n",
    "    p=p*10+r\n",
    "if p!=c:\n",
    "    for x in range(2,c//2+1):\n",
    "        if c%x==0:\n",
    "            print('Not emirp')\n",
    "            break\n",
    "    else:\n",
    "        for y in range(2,p//2+1):\n",
    "            if p%y==0:\n",
    "                print('Not emirp')\n",
    "                break\n",
    "        else:\n",
    "            print('EMIRP')\n",
    "else:\n",
    "    print('Not emirp')"
   ]
  },
  {
   "cell_type": "code",
   "execution_count": 91,
   "id": "3de6cd0d",
   "metadata": {},
   "outputs": [
    {
     "name": "stdout",
     "output_type": "stream",
     "text": [
      "Yes\n"
     ]
    }
   ],
   "source": [
    "n=145\n",
    "res=0\n",
    "num=n\n",
    "while n!=0:\n",
    "    fact=1\n",
    "    rem=n%10\n",
    "    for i in range(1,rem+1):\n",
    "        fact*=i\n",
    "    res+=fact\n",
    "    n//=10\n",
    "if num==res:\n",
    "    print('Yes')\n",
    "else:\n",
    "    print('No')"
   ]
  },
  {
   "cell_type": "code",
   "execution_count": 92,
   "id": "3696312f",
   "metadata": {},
   "outputs": [
    {
     "name": "stdout",
     "output_type": "stream",
     "text": [
      "5 \n",
      "4 5 \n",
      "3 4 5 \n",
      "2 3 4 5 \n",
      "1 2 3 4 5 \n"
     ]
    }
   ],
   "source": [
    "n=5\n",
    "for i in range(n,0,-1):\n",
    "    for j in range(i,n+1):\n",
    "        print(j,end=' ')\n",
    "    print()"
   ]
  },
  {
   "cell_type": "code",
   "execution_count": 97,
   "id": "4edf352e",
   "metadata": {},
   "outputs": [
    {
     "name": "stdout",
     "output_type": "stream",
     "text": [
      " 5 \n",
      " 4 5 \n",
      " 3 4 5 \n",
      " 2 3 4 5 \n",
      " 1 2 3 4 5 \n"
     ]
    }
   ],
   "source": [
    "n=5\n",
    "a=0\n",
    "for i in range(n,0,-1):\n",
    "    print(''*a,end=' ')\n",
    "    for j in range(i,n+1):\n",
    "        print(j,end=' ')\n",
    "    print()\n",
    "    a-=1\n",
    "        "
   ]
  },
  {
   "cell_type": "code",
   "execution_count": 107,
   "id": "3202faf6",
   "metadata": {},
   "outputs": [
    {
     "name": "stdout",
     "output_type": "stream",
     "text": [
      "3a2b5c1b2a1f\n"
     ]
    }
   ],
   "source": [
    "s='aaabbcccccbaaf'\n",
    "res=''\n",
    "count=1\n",
    "for i in range(len(s)-1):\n",
    "    if s[i]==s[i+1]:\n",
    "        count+=1\n",
    "    else:\n",
    "        res+=str(count)+s[i]\n",
    "        count=1\n",
    "res+=str(count)+s[i+1]\n",
    "print(res)"
   ]
  },
  {
   "cell_type": "code",
   "execution_count": 114,
   "id": "4772881a",
   "metadata": {},
   "outputs": [
    {
     "name": "stdout",
     "output_type": "stream",
     "text": [
      "1b2e2f1x1y1z2a2b5c5d\n"
     ]
    }
   ],
   "source": [
    "d='beeffxyzaabbcccccddddd'\n",
    "res=''\n",
    "count=1\n",
    "for i in range(len(d)-1):\n",
    "    if d[i]==d[i+1]:\n",
    "        count+=1\n",
    "    else:\n",
    "        res+=str(count)+d[i]\n",
    "        count=1\n",
    "res+=str(count)+d[i+1]\n",
    "print(res)"
   ]
  },
  {
   "cell_type": "code",
   "execution_count": 2,
   "id": "32e72434",
   "metadata": {},
   "outputs": [
    {
     "name": "stdout",
     "output_type": "stream",
     "text": [
      "as MS Singh known Dhoni Dhoni, Mahendra commonly\n"
     ]
    }
   ],
   "source": [
    "s='Mahendra Singh Dhoni, commonly known as MS Dhoni'\n",
    "l=s.split()\n",
    "d={a:len(a) for a in l}\n",
    "n=list(d.values())\n",
    "n.sort()\n",
    "x=[]\n",
    "for b in n:\n",
    "    for k,v in d.items():\n",
    "        if v==b and k not in x:\n",
    "            x.append(k)\n",
    "print(' '.join(x))"
   ]
  },
  {
   "cell_type": "code",
   "execution_count": 28,
   "id": "d57271e2",
   "metadata": {},
   "outputs": [
    {
     "name": "stdout",
     "output_type": "stream",
     "text": [
      "abhi\n",
      "abhi\n",
      "abhi\n",
      "abhi\n",
      "abhi\n"
     ]
    }
   ],
   "source": [
    "l=[230,420,['suraj',['raju','abhi'],'prashanth',80,90],25,30]\n",
    "for i in range(len(l)):\n",
    "    print(l[2][1][1])"
   ]
  },
  {
   "cell_type": "code",
   "execution_count": 32,
   "id": "89b839f7",
   "metadata": {},
   "outputs": [
    {
     "name": "stdout",
     "output_type": "stream",
     "text": [
      "abhi\n",
      "25\n"
     ]
    }
   ],
   "source": [
    "l = [230, 420, ['suraj', ['raju', 'abhi'], 'prashanth', 80, 90], 25, 30]\n",
    "\n",
    "abhi = l[2][1][1]\n",
    "integer = l[3]\n",
    "\n",
    "print(abhi)  \n",
    "print(integer)"
   ]
  },
  {
   "cell_type": "code",
   "execution_count": 2,
   "id": "a7423fb3",
   "metadata": {},
   "outputs": [
    {
     "name": "stdout",
     "output_type": "stream",
     "text": [
      "1\n",
      "3\n",
      "4\n",
      "7\n"
     ]
    }
   ],
   "source": [
    "class number():\n",
    "    def __init__(self,f,s,n):\n",
    "        self.f=f\n",
    "        self.s=s\n",
    "        self.n=n\n",
    "    def __iter__(self):\n",
    "        return self\n",
    "    def __next__(self):\n",
    "        if self.f<self.n:\n",
    "            res=self.f\n",
    "            c=self.f+self.s\n",
    "            self.f,self.s=self.s,c\n",
    "            self.f+=1\n",
    "            return res\n",
    "        raise StopIteration\n",
    "ob=number(1,2,11)\n",
    "for i in ob:\n",
    "    print(i)"
   ]
  },
  {
   "cell_type": "code",
   "execution_count": 3,
   "id": "fe7be1a7",
   "metadata": {},
   "outputs": [
    {
     "name": "stdout",
     "output_type": "stream",
     "text": [
      "3a2b2c5d1f1e\n"
     ]
    }
   ],
   "source": [
    "s='aaabbccdddddfe'\n",
    "res=''\n",
    "count=1\n",
    "for i in range(len(s)-1):\n",
    "    if s[i]==s[i+1]:\n",
    "        count+=1\n",
    "    else:\n",
    "        res+=str(count)+s[i]\n",
    "        count=1\n",
    "res+=str(count)+s[i+1]\n",
    "print(res)"
   ]
  },
  {
   "cell_type": "code",
   "execution_count": 1,
   "id": "dafc903b",
   "metadata": {},
   "outputs": [
    {
     "name": "stdout",
     "output_type": "stream",
     "text": [
      "THS S MCK\n"
     ]
    }
   ],
   "source": [
    "#1\n",
    "s='THIS IS MOCK'\n",
    "vow='AEIOU'\n",
    "res=''\n",
    "for i in range(len(s)):\n",
    "    if s[i] not in vow:\n",
    "        res+=s[i]\n",
    "print(res)"
   ]
  },
  {
   "cell_type": "code",
   "execution_count": 3,
   "id": "6619d572",
   "metadata": {},
   "outputs": [
    {
     "name": "stdout",
     "output_type": "stream",
     "text": [
      "EW ERA NI SSALC\n"
     ]
    }
   ],
   "source": [
    "#2\n",
    "s='WE ARE IN CLASS'\n",
    "l=s.split()\n",
    "for i in range(len(l)):\n",
    "    l[i]=l[i][::-1]\n",
    "print(' '.join(l))"
   ]
  },
  {
   "cell_type": "code",
   "execution_count": 9,
   "id": "f362c9a1",
   "metadata": {},
   "outputs": [
    {
     "name": "stdout",
     "output_type": "stream",
     "text": [
      "EW ERA NI SSALC\n"
     ]
    }
   ],
   "source": [
    "s='WE ARE IN CLASS'\n",
    "l=s.split()\n",
    "for i in range(0,len(l)):\n",
    "    l[i]=l[i][::-1]\n",
    "print(' '.join(l))"
   ]
  },
  {
   "cell_type": "code",
   "execution_count": 4,
   "id": "99dfee9f",
   "metadata": {},
   "outputs": [
    {
     "name": "stdout",
     "output_type": "stream",
     "text": [
      "ENGIR\n"
     ]
    }
   ],
   "source": [
    "#3\n",
    "s='ENGINEERING'\n",
    "res=''\n",
    "for i in range(len(s)):\n",
    "    if s[i] not in res:\n",
    "        res+=s[i]\n",
    "print(res)"
   ]
  },
  {
   "cell_type": "code",
   "execution_count": 5,
   "id": "52fcd0cc",
   "metadata": {},
   "outputs": [
    {
     "name": "stdout",
     "output_type": "stream",
     "text": [
      "22\n",
      "17\n"
     ]
    }
   ],
   "source": [
    "#4\n",
    "l=[22,19,22,17,25,17]\n",
    "d={}\n",
    "for i in range(len(l)):\n",
    "    if l[i] not in d:\n",
    "        d[l[i]]=1\n",
    "    else:\n",
    "        d[l[i]]+=1\n",
    "val=list(d.values())\n",
    "h=val[0]\n",
    "for j in range(1,len(val)):\n",
    "    if h<val[j]:\n",
    "        h=val[j]\n",
    "for k,v in d.items():\n",
    "    if h==v:\n",
    "        print(k)"
   ]
  },
  {
   "cell_type": "code",
   "execution_count": 7,
   "id": "e4c37a9e",
   "metadata": {},
   "outputs": [
    {
     "name": "stdout",
     "output_type": "stream",
     "text": [
      "20\n"
     ]
    }
   ],
   "source": [
    "#5\n",
    "l=[18,19,25,16,25,20,25,25]\n",
    "nl=[]\n",
    "for i in range(len(l)):\n",
    "    if l[i] not in nl:\n",
    "        nl+=[l[i]]\n",
    "for j in range(len(nl)-1):\n",
    "    for k in range(len(nl)-1-j):\n",
    "        if nl[k]>nl[k+1]:\n",
    "            nl[k],nl[k+1]=nl[k+1],nl[k]\n",
    "print(nl[-2])"
   ]
  },
  {
   "cell_type": "code",
   "execution_count": 11,
   "id": "7257c781",
   "metadata": {},
   "outputs": [
    {
     "name": "stdout",
     "output_type": "stream",
     "text": [
      "5\n",
      "7\n",
      "5\n",
      "2\n"
     ]
    }
   ],
   "source": [
    "#6\n",
    "n=257815\n",
    "while n!=0:\n",
    "    rem=n%10\n",
    "    n//=10\n",
    "    if rem>1:\n",
    "        for a in range(2,rem//2+1):\n",
    "            if rem%a==0:\n",
    "                break\n",
    "        else:\n",
    "            print(rem)"
   ]
  },
  {
   "cell_type": "code",
   "execution_count": 13,
   "id": "f2d03338",
   "metadata": {},
   "outputs": [
    {
     "name": "stdout",
     "output_type": "stream",
     "text": [
      "11\n",
      "13\n",
      "17\n",
      "19\n",
      "23\n"
     ]
    }
   ],
   "source": [
    "#7\n",
    "for i in range(11,26):\n",
    "    if i>1:\n",
    "        for a in range(2,i//2+1):\n",
    "            if i%a==0:\n",
    "                break\n",
    "        else:\n",
    "            print(i)"
   ]
  },
  {
   "cell_type": "code",
   "execution_count": 14,
   "id": "1eeb1bfa",
   "metadata": {},
   "outputs": [
    {
     "name": "stdout",
     "output_type": "stream",
     "text": [
      "2\n",
      "3\n",
      "5\n",
      "7\n",
      "11\n"
     ]
    }
   ],
   "source": [
    "#8\n",
    "for i in range(1,12):\n",
    "    if i>1:\n",
    "        for a in range(2,i//2+1):\n",
    "            if i%a==0:\n",
    "                break\n",
    "        else:\n",
    "            print(i)"
   ]
  },
  {
   "cell_type": "code",
   "execution_count": 28,
   "id": "79a024d1",
   "metadata": {},
   "outputs": [
    {
     "name": "stdout",
     "output_type": "stream",
     "text": [
      "[19, 23, 29, 31, 37, 41, 43]\n",
      "[19, 29, 37, 43]\n"
     ]
    }
   ],
   "source": [
    "#9\n",
    "l=[]\n",
    "for i in range(18,46):\n",
    "    if i>1:\n",
    "        for a in range(2,i//2+1):\n",
    "            if i%a==0:\n",
    "                break\n",
    "        else:\n",
    "            l.append(i)\n",
    "print(l)\n",
    "print(l[0::2])"
   ]
  },
  {
   "cell_type": "code",
   "execution_count": 35,
   "id": "bb3f2753",
   "metadata": {},
   "outputs": [
    {
     "name": "stdout",
     "output_type": "stream",
     "text": [
      "THIS\n",
      "WHAT\n",
      "WANT\n",
      "This\n"
     ]
    }
   ],
   "source": [
    "#10\n",
    "s='THIS IS WHAT WE WANT This'\n",
    "d={}\n",
    "l=s.split()\n",
    "for i in range(len(l)):\n",
    "    if l[i] not in d:\n",
    "        d[l[i]]=len(l[i])\n",
    "val=list(d.values())\n",
    "h=val[0]\n",
    "for j in range(1,len(val)):\n",
    "    if h<val[j]:\n",
    "        h=val[j]\n",
    "for k,v in d.items():\n",
    "    if h==v:\n",
    "        print(k)"
   ]
  },
  {
   "cell_type": "code",
   "execution_count": 4,
   "id": "9ae19fd1",
   "metadata": {},
   "outputs": [
    {
     "name": "stdout",
     "output_type": "stream",
     "text": [
      "3\n"
     ]
    }
   ],
   "source": [
    "#11\n",
    "s='we can do it now'\n",
    "add=len(s.replace(' ',''))\n",
    "plus=0\n",
    "if add>9:\n",
    "    while add!=0:\n",
    "        rem=add%10\n",
    "        plus+=rem\n",
    "        add//=10\n",
    "    add=plus\n",
    "print(plus)"
   ]
  },
  {
   "cell_type": "code",
   "execution_count": 5,
   "id": "455b17c2",
   "metadata": {},
   "outputs": [
    {
     "name": "stdout",
     "output_type": "stream",
     "text": [
      "{10: 'a', 20: 'b', 30: 'c'}\n"
     ]
    }
   ],
   "source": [
    "#12\n",
    "D={'a':10,'b':20,'c':30}\n",
    "# d1={k:v for k,v in D.items()}\n",
    "d2={v:k for k,v in D.items()}\n",
    "print(d2)"
   ]
  },
  {
   "cell_type": "code",
   "execution_count": 74,
   "id": "f863a6b3",
   "metadata": {},
   "outputs": [
    {
     "name": "stdout",
     "output_type": "stream",
     "text": [
      "12345\n",
      " 2345\n",
      "  345\n",
      "   45\n",
      "    5\n"
     ]
    }
   ],
   "source": [
    "#13\n",
    "n=5\n",
    "a=0\n",
    "for i in range(1,n+1):\n",
    "    print(' '*a,end='')\n",
    "    for j in range(i,n+1):\n",
    "        print(j,end='')\n",
    "    print()\n",
    "    a+=1"
   ]
  },
  {
   "cell_type": "code",
   "execution_count": 8,
   "id": "8edb838a",
   "metadata": {},
   "outputs": [
    {
     "name": "stdout",
     "output_type": "stream",
     "text": [
      "1 2 3 4 5 \n",
      "  2 3 4 5 \n",
      "    3 4 5 \n",
      "      4 5 \n",
      "        5 \n"
     ]
    }
   ],
   "source": [
    "#13\n",
    "n=5\n",
    "sp=0\n",
    "st=5\n",
    "for i in range(n):\n",
    "    num=sp+1\n",
    "    for j in range(sp):\n",
    "        print(' ',end=' ')\n",
    "    for k in range(st):\n",
    "        print(num,end=' ')\n",
    "        num+=1\n",
    "    print()\n",
    "    sp+=1\n",
    "    st-=1"
   ]
  },
  {
   "cell_type": "code",
   "execution_count": 65,
   "id": "583c21ad",
   "metadata": {},
   "outputs": [
    {
     "name": "stdout",
     "output_type": "stream",
     "text": [
      "1 1 1 1 1 \n",
      "2 2 2 2 \n",
      "3 3 3 \n",
      "4 4 \n",
      "5 \n"
     ]
    }
   ],
   "source": [
    "#14\n",
    "n=5\n",
    "st=5\n",
    "num=1\n",
    "for a in range(n):\n",
    "    for b in range(st):\n",
    "        print(num,end=' ')\n",
    "    print()\n",
    "    num+=1\n",
    "    st-=1"
   ]
  },
  {
   "cell_type": "code",
   "execution_count": 66,
   "id": "39b09dcd",
   "metadata": {},
   "outputs": [
    {
     "name": "stdout",
     "output_type": "stream",
     "text": [
      "5040\n"
     ]
    }
   ],
   "source": [
    "#15\n",
    "def fact(n):\n",
    "    if n==0 or n==1:\n",
    "        return 1\n",
    "    return n*fact(n-1)\n",
    "print(fact(7))"
   ]
  },
  {
   "cell_type": "code",
   "execution_count": 70,
   "id": "382aaae9",
   "metadata": {},
   "outputs": [
    {
     "name": "stdout",
     "output_type": "stream",
     "text": [
      "Armstrong Number\n"
     ]
    }
   ],
   "source": [
    "#16\n",
    "n=153\n",
    "res=0\n",
    "num=n\n",
    "p=len(str(n))\n",
    "while n!=0:\n",
    "    rem=n%10\n",
    "    res=res+rem**p\n",
    "    n//=10\n",
    "if num==res:\n",
    "    print('Armstrong Number')\n",
    "else:\n",
    "    print('Not a Armstrong Number')"
   ]
  },
  {
   "cell_type": "code",
   "execution_count": 73,
   "id": "f0a99bd8",
   "metadata": {},
   "outputs": [
    {
     "name": "stdout",
     "output_type": "stream",
     "text": [
      "A:5\n",
      "B:2\n",
      "C:5\n",
      "D:5\n"
     ]
    }
   ],
   "source": [
    "#17\n",
    "s='ABCDDCBAAAACCDDCD'\n",
    "d={}\n",
    "for i in range(len(s)):\n",
    "    if s[i] not in d:\n",
    "        d[s[i]]=1\n",
    "    else:\n",
    "        d[s[i]]+=1\n",
    "for k,v in d.items():\n",
    "    print(f'{k}:{v}')"
   ]
  },
  {
   "cell_type": "code",
   "execution_count": null,
   "id": "45d8f8e1",
   "metadata": {},
   "outputs": [],
   "source": [
    "                                   💖CHARISHMA💝DEVIPRASAD💖"
   ]
  },
  {
   "cell_type": "code",
   "execution_count": null,
   "id": "67b3194a",
   "metadata": {},
   "outputs": [],
   "source": [
    "                                          💖CHARDEVI💖"
   ]
  }
 ],
 "metadata": {
  "kernelspec": {
   "display_name": "Python 3 (ipykernel)",
   "language": "python",
   "name": "python3"
  },
  "language_info": {
   "codemirror_mode": {
    "name": "ipython",
    "version": 3
   },
   "file_extension": ".py",
   "mimetype": "text/x-python",
   "name": "python",
   "nbconvert_exporter": "python",
   "pygments_lexer": "ipython3",
   "version": "3.9.13"
  }
 },
 "nbformat": 4,
 "nbformat_minor": 5
}
