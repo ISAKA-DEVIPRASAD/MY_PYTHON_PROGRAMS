{
 "cells": [
  {
   "cell_type": "code",
   "execution_count": 10,
   "id": "a926ba19",
   "metadata": {},
   "outputs": [
    {
     "name": "stdout",
     "output_type": "stream",
     "text": [
      "15\n",
      "1\n",
      "10\n",
      "11\n"
     ]
    },
    {
     "ename": "TypeError",
     "evalue": "can't convert complex to int",
     "output_type": "error",
     "traceback": [
      "\u001b[1;31m---------------------------------------------------------------------------\u001b[0m",
      "\u001b[1;31mTypeError\u001b[0m                                 Traceback (most recent call last)",
      "\u001b[1;32m~\\AppData\\Local\\Temp\\ipykernel_11436\\3188376987.py\u001b[0m in \u001b[0;36m<module>\u001b[1;34m\u001b[0m\n\u001b[0;32m      3\u001b[0m \u001b[0mprint\u001b[0m\u001b[1;33m(\u001b[0m\u001b[0mint\u001b[0m\u001b[1;33m(\u001b[0m\u001b[1;34m'10'\u001b[0m\u001b[1;33m)\u001b[0m\u001b[1;33m)\u001b[0m\u001b[1;33m\u001b[0m\u001b[1;33m\u001b[0m\u001b[0m\n\u001b[0;32m      4\u001b[0m \u001b[0mprint\u001b[0m\u001b[1;33m(\u001b[0m\u001b[0mint\u001b[0m\u001b[1;33m(\u001b[0m\u001b[1;36m11.8\u001b[0m\u001b[1;33m)\u001b[0m\u001b[1;33m)\u001b[0m\u001b[1;33m\u001b[0m\u001b[1;33m\u001b[0m\u001b[0m\n\u001b[1;32m----> 5\u001b[1;33m \u001b[0mprint\u001b[0m\u001b[1;33m(\u001b[0m\u001b[0mint\u001b[0m\u001b[1;33m(\u001b[0m\u001b[1;36m3\u001b[0m\u001b[1;33m+\u001b[0m\u001b[1;36m2j\u001b[0m\u001b[1;33m)\u001b[0m\u001b[1;33m)\u001b[0m\u001b[1;33m\u001b[0m\u001b[1;33m\u001b[0m\u001b[0m\n\u001b[0m\u001b[0;32m      6\u001b[0m \u001b[0mprint\u001b[0m\u001b[1;33m(\u001b[0m\u001b[0mint\u001b[0m\u001b[1;33m(\u001b[0m\u001b[1;34m'11.8'\u001b[0m\u001b[1;33m)\u001b[0m\u001b[1;33m)\u001b[0m\u001b[1;33m\u001b[0m\u001b[1;33m\u001b[0m\u001b[0m\n",
      "\u001b[1;31mTypeError\u001b[0m: can't convert complex to int"
     ]
    }
   ],
   "source": [
    "#Integer Value\n",
    "print(int(15.5))\n",
    "print(int(True))\n",
    "print(int('10'))\n",
    "print(int(11.8))\n",
    "print(int(3+2j))\n",
    "print(int('11.8'))"
   ]
  },
  {
   "cell_type": "code",
   "execution_count": 11,
   "id": "ddcc03dd",
   "metadata": {},
   "outputs": [
    {
     "name": "stdout",
     "output_type": "stream",
     "text": [
      "11.0\n",
      "1.0\n",
      "12.0\n",
      "12.5\n"
     ]
    },
    {
     "ename": "TypeError",
     "evalue": "can't convert complex to float",
     "output_type": "error",
     "traceback": [
      "\u001b[1;31m---------------------------------------------------------------------------\u001b[0m",
      "\u001b[1;31mTypeError\u001b[0m                                 Traceback (most recent call last)",
      "\u001b[1;32m~\\AppData\\Local\\Temp\\ipykernel_11436\\4098197213.py\u001b[0m in \u001b[0;36m<module>\u001b[1;34m\u001b[0m\n\u001b[0;32m      3\u001b[0m \u001b[0mprint\u001b[0m\u001b[1;33m(\u001b[0m\u001b[0mfloat\u001b[0m\u001b[1;33m(\u001b[0m\u001b[1;34m'12'\u001b[0m\u001b[1;33m)\u001b[0m\u001b[1;33m)\u001b[0m\u001b[1;33m\u001b[0m\u001b[1;33m\u001b[0m\u001b[0m\n\u001b[0;32m      4\u001b[0m \u001b[0mprint\u001b[0m\u001b[1;33m(\u001b[0m\u001b[0mfloat\u001b[0m\u001b[1;33m(\u001b[0m\u001b[1;34m'12.5'\u001b[0m\u001b[1;33m)\u001b[0m\u001b[1;33m)\u001b[0m\u001b[1;33m\u001b[0m\u001b[1;33m\u001b[0m\u001b[0m\n\u001b[1;32m----> 5\u001b[1;33m \u001b[0mprint\u001b[0m\u001b[1;33m(\u001b[0m\u001b[0mfloat\u001b[0m\u001b[1;33m(\u001b[0m\u001b[1;36m2\u001b[0m\u001b[1;33m+\u001b[0m\u001b[1;36m4j\u001b[0m\u001b[1;33m)\u001b[0m\u001b[1;33m)\u001b[0m\u001b[1;33m\u001b[0m\u001b[1;33m\u001b[0m\u001b[0m\n\u001b[0m",
      "\u001b[1;31mTypeError\u001b[0m: can't convert complex to float"
     ]
    }
   ],
   "source": [
    "#Float Value\n",
    "print(float(11))\n",
    "print(float(True))\n",
    "print(float('12'))\n",
    "print(float('12.5'))\n",
    "print(float(2+4j))"
   ]
  },
  {
   "cell_type": "code",
   "execution_count": 13,
   "id": "5eb5b590",
   "metadata": {},
   "outputs": [
    {
     "name": "stdout",
     "output_type": "stream",
     "text": [
      "(8.2+0j)\n",
      "(1+1j)\n",
      "(6+0j)\n",
      "(2+0j)\n",
      "(7+11j)\n"
     ]
    },
    {
     "ename": "TypeError",
     "evalue": "complex() can't take second arg if first is a string",
     "output_type": "error",
     "traceback": [
      "\u001b[1;31m---------------------------------------------------------------------------\u001b[0m",
      "\u001b[1;31mTypeError\u001b[0m                                 Traceback (most recent call last)",
      "\u001b[1;32m~\\AppData\\Local\\Temp\\ipykernel_11436\\2902051132.py\u001b[0m in \u001b[0;36m<module>\u001b[1;34m\u001b[0m\n\u001b[0;32m      4\u001b[0m \u001b[0mprint\u001b[0m\u001b[1;33m(\u001b[0m\u001b[0mcomplex\u001b[0m\u001b[1;33m(\u001b[0m\u001b[1;34m'2'\u001b[0m\u001b[1;33m)\u001b[0m\u001b[1;33m)\u001b[0m\u001b[1;33m\u001b[0m\u001b[1;33m\u001b[0m\u001b[0m\n\u001b[0;32m      5\u001b[0m \u001b[0mprint\u001b[0m\u001b[1;33m(\u001b[0m\u001b[0mcomplex\u001b[0m\u001b[1;33m(\u001b[0m\u001b[1;36m7\u001b[0m\u001b[1;33m,\u001b[0m\u001b[1;36m11\u001b[0m\u001b[1;33m)\u001b[0m\u001b[1;33m)\u001b[0m\u001b[1;33m\u001b[0m\u001b[1;33m\u001b[0m\u001b[0m\n\u001b[1;32m----> 6\u001b[1;33m \u001b[0mprint\u001b[0m\u001b[1;33m(\u001b[0m\u001b[0mcomplex\u001b[0m\u001b[1;33m(\u001b[0m\u001b[1;34m'2'\u001b[0m\u001b[1;33m,\u001b[0m\u001b[1;34m'5'\u001b[0m\u001b[1;33m)\u001b[0m\u001b[1;33m)\u001b[0m\u001b[1;33m\u001b[0m\u001b[1;33m\u001b[0m\u001b[0m\n\u001b[0m\u001b[0;32m      7\u001b[0m \u001b[0mprint\u001b[0m\u001b[1;33m(\u001b[0m\u001b[0mcomplex\u001b[0m\u001b[1;33m(\u001b[0m\u001b[1;34m'2'\u001b[0m\u001b[1;33m,\u001b[0m\u001b[1;36m8\u001b[0m\u001b[1;33m)\u001b[0m\u001b[1;33m)\u001b[0m\u001b[1;33m\u001b[0m\u001b[1;33m\u001b[0m\u001b[0m\n",
      "\u001b[1;31mTypeError\u001b[0m: complex() can't take second arg if first is a string"
     ]
    }
   ],
   "source": [
    "#Complex Value\n",
    "print(complex(2.5+5.7))\n",
    "print(complex(True,True))\n",
    "print(complex(6))\n",
    "print(complex('2'))\n",
    "print(complex(7,11))\n",
    "print(complex('2','5'))\n",
    "print(complex('2',8))"
   ]
  },
  {
   "cell_type": "code",
   "execution_count": 15,
   "id": "4e1e176b",
   "metadata": {},
   "outputs": [
    {
     "name": "stdout",
     "output_type": "stream",
     "text": [
      "True\n",
      "True\n",
      "True\n",
      "True\n",
      "True\n",
      "True\n",
      "True\n",
      "True\n",
      "False\n",
      "True\n"
     ]
    }
   ],
   "source": [
    "#Boolean Value\n",
    "print(bool(10))\n",
    "print(bool(0.000001))\n",
    "print(bool(2+5j))\n",
    "print(bool('devi'))\n",
    "print(bool([11,12,13]))\n",
    "print(bool({11,12,13}))\n",
    "print(bool((11,12,13)))\n",
    "print(bool({'a':10,'b':20}))\n",
    "print(bool(''))\n",
    "print(bool(' '))"
   ]
  },
  {
   "cell_type": "code",
   "execution_count": 33,
   "id": "a9748590",
   "metadata": {},
   "outputs": [
    {
     "name": "stdout",
     "output_type": "stream",
     "text": [
      "10\n",
      "2\n"
     ]
    }
   ],
   "source": [
    "#String DataType\n",
    "a=10\n",
    "print(str(a))\n",
    "print(len(str(a)))"
   ]
  },
  {
   "cell_type": "code",
   "execution_count": 36,
   "id": "0b5ba061",
   "metadata": {},
   "outputs": [
    {
     "name": "stdout",
     "output_type": "stream",
     "text": [
      "10.5\n",
      "4\n"
     ]
    }
   ],
   "source": [
    "b=10.5\n",
    "print(str(b))\n",
    "print(len(str(b)))"
   ]
  },
  {
   "cell_type": "code",
   "execution_count": 27,
   "id": "91ebc75b",
   "metadata": {},
   "outputs": [
    {
     "name": "stdout",
     "output_type": "stream",
     "text": [
      "(3+7j)\n",
      "6\n"
     ]
    }
   ],
   "source": [
    "c=3+7j\n",
    "print(str(c))\n",
    "print(len(str(c)))"
   ]
  },
  {
   "cell_type": "code",
   "execution_count": 28,
   "id": "7785a04a",
   "metadata": {},
   "outputs": [
    {
     "name": "stdout",
     "output_type": "stream",
     "text": [
      "True\n",
      "4\n"
     ]
    }
   ],
   "source": [
    "d=True\n",
    "print(str(d))\n",
    "print(len(str(d)))"
   ]
  },
  {
   "cell_type": "code",
   "execution_count": 29,
   "id": "07bc1b62",
   "metadata": {},
   "outputs": [
    {
     "name": "stdout",
     "output_type": "stream",
     "text": [
      "[11, 12, 13]\n",
      "12\n"
     ]
    }
   ],
   "source": [
    "e=[11,12,13]\n",
    "print(str(e))\n",
    "print(len(str(e)))"
   ]
  },
  {
   "cell_type": "code",
   "execution_count": 30,
   "id": "68e6279b",
   "metadata": {},
   "outputs": [
    {
     "name": "stdout",
     "output_type": "stream",
     "text": [
      "(1, 2, 3)\n",
      "9\n"
     ]
    }
   ],
   "source": [
    "f=(1,2,3)\n",
    "print(str(f))\n",
    "print(len(str(f)))"
   ]
  },
  {
   "cell_type": "code",
   "execution_count": 32,
   "id": "a57eea4d",
   "metadata": {},
   "outputs": [
    {
     "name": "stdout",
     "output_type": "stream",
     "text": [
      "{'a': 10, 'b': 20}\n",
      "18\n"
     ]
    }
   ],
   "source": [
    "g={'a':10,'b':20}\n",
    "print(str(g))\n",
    "print(len(str(g)))"
   ]
  },
  {
   "cell_type": "code",
   "execution_count": 40,
   "id": "aa7b4aa5",
   "metadata": {},
   "outputs": [
    {
     "name": "stdout",
     "output_type": "stream",
     "text": [
      "['P', 'Y', 'T', 'H', 'O', 'N']\n",
      "6\n"
     ]
    }
   ],
   "source": [
    "#List DataType\n",
    "a='PYTHON'\n",
    "print(list(a))\n",
    "print(len(list(a)))"
   ]
  },
  {
   "cell_type": "code",
   "execution_count": 41,
   "id": "b8fc3c21",
   "metadata": {},
   "outputs": [
    {
     "name": "stdout",
     "output_type": "stream",
     "text": [
      "[11, 12, 13]\n",
      "3\n"
     ]
    }
   ],
   "source": [
    "b=(11,12,13)\n",
    "print(list(b))\n",
    "print(len(list(b)))"
   ]
  },
  {
   "cell_type": "code",
   "execution_count": 42,
   "id": "cf06d2c8",
   "metadata": {},
   "outputs": [
    {
     "name": "stdout",
     "output_type": "stream",
     "text": [
      "[24, True, 12, 15]\n",
      "4\n"
     ]
    }
   ],
   "source": [
    "c={True,12,24,15,1,24}\n",
    "print(list(c))\n",
    "print(len(list(c)))"
   ]
  },
  {
   "cell_type": "code",
   "execution_count": 43,
   "id": "b495a0eb",
   "metadata": {},
   "outputs": [
    {
     "name": "stdout",
     "output_type": "stream",
     "text": [
      "['a', 'b', 'c']\n",
      "3\n"
     ]
    }
   ],
   "source": [
    "d={'a':10,'b':20,'c':30}\n",
    "print(list(d))\n",
    "print(len(list(d)))"
   ]
  },
  {
   "cell_type": "code",
   "execution_count": 44,
   "id": "9e345fbc",
   "metadata": {},
   "outputs": [
    {
     "name": "stdout",
     "output_type": "stream",
     "text": [
      "('P', 'Y', 'T', 'H', 'O', 'N')\n",
      "6\n"
     ]
    }
   ],
   "source": [
    "#Tuple DataType\n",
    "a='PYTHON'\n",
    "print(tuple(a))\n",
    "print(len(tuple(a)))"
   ]
  },
  {
   "cell_type": "code",
   "execution_count": 45,
   "id": "f71f25a0",
   "metadata": {},
   "outputs": [
    {
     "name": "stdout",
     "output_type": "stream",
     "text": [
      "(11, 22, 24, 7)\n",
      "4\n"
     ]
    }
   ],
   "source": [
    "b=[11,22,24,7]\n",
    "print(tuple(b))\n",
    "print(len(tuple(b)))"
   ]
  },
  {
   "cell_type": "code",
   "execution_count": 46,
   "id": "8ddf5bc3",
   "metadata": {},
   "outputs": [
    {
     "name": "stdout",
     "output_type": "stream",
     "text": [
      "(24, True, 11, 22)\n",
      "4\n"
     ]
    }
   ],
   "source": [
    "c={True,1,11,1,24,22}\n",
    "print(tuple(c))\n",
    "print(len(tuple(c)))"
   ]
  },
  {
   "cell_type": "code",
   "execution_count": 47,
   "id": "c4add4d8",
   "metadata": {},
   "outputs": [
    {
     "name": "stdout",
     "output_type": "stream",
     "text": [
      "('a', 'b', 'c')\n",
      "3\n"
     ]
    }
   ],
   "source": [
    "d={'a':10,'b':20,'c':30}\n",
    "print(tuple(d))\n",
    "print(len(tuple(d)))"
   ]
  },
  {
   "cell_type": "code",
   "execution_count": 48,
   "id": "4ddb0366",
   "metadata": {},
   "outputs": [
    {
     "name": "stdout",
     "output_type": "stream",
     "text": [
      "{'T', 'N', 'Y', 'O', 'H', 'P'}\n",
      "6\n"
     ]
    }
   ],
   "source": [
    "#Set DataType\n",
    "a='PYTHON'\n",
    "print(set(a))\n",
    "print(len(set(a)))"
   ]
  },
  {
   "cell_type": "code",
   "execution_count": 49,
   "id": "d34898af",
   "metadata": {},
   "outputs": [
    {
     "name": "stdout",
     "output_type": "stream",
     "text": [
      "{11, 12, 13}\n",
      "3\n"
     ]
    }
   ],
   "source": [
    "b=[11,12,13,12,11]\n",
    "print(set(b))\n",
    "print(len(set(b)))"
   ]
  },
  {
   "cell_type": "code",
   "execution_count": 53,
   "id": "20108f33",
   "metadata": {},
   "outputs": [
    {
     "name": "stdout",
     "output_type": "stream",
     "text": [
      "{11, 12, 13, 14, 15}\n",
      "5\n"
     ]
    }
   ],
   "source": [
    "c=(11,12,13,14,15,11)\n",
    "print(set(c))\n",
    "print(len(set(c)))"
   ]
  },
  {
   "cell_type": "code",
   "execution_count": 54,
   "id": "84853a0d",
   "metadata": {},
   "outputs": [
    {
     "name": "stdout",
     "output_type": "stream",
     "text": [
      "{'c', 'b', 'a'}\n",
      "3\n"
     ]
    }
   ],
   "source": [
    "d={'a':10,'b':20,'c':30}\n",
    "print(set(d))\n",
    "print(len(set(d)))"
   ]
  },
  {
   "cell_type": "code",
   "execution_count": 57,
   "id": "f76b04e1",
   "metadata": {},
   "outputs": [
    {
     "ename": "ValueError",
     "evalue": "dictionary update sequence element #0 has length 1; 2 is required",
     "output_type": "error",
     "traceback": [
      "\u001b[1;31m---------------------------------------------------------------------------\u001b[0m",
      "\u001b[1;31mValueError\u001b[0m                                Traceback (most recent call last)",
      "\u001b[1;32m~\\AppData\\Local\\Temp\\ipykernel_11436\\3871627132.py\u001b[0m in \u001b[0;36m<module>\u001b[1;34m\u001b[0m\n\u001b[0;32m      1\u001b[0m \u001b[1;31m#Dictionary DataType\u001b[0m\u001b[1;33m\u001b[0m\u001b[1;33m\u001b[0m\u001b[0m\n\u001b[0;32m      2\u001b[0m \u001b[0ma\u001b[0m\u001b[1;33m=\u001b[0m\u001b[1;34m'PYTHON'\u001b[0m\u001b[1;33m\u001b[0m\u001b[1;33m\u001b[0m\u001b[0m\n\u001b[1;32m----> 3\u001b[1;33m \u001b[0mprint\u001b[0m\u001b[1;33m(\u001b[0m\u001b[0mdict\u001b[0m\u001b[1;33m(\u001b[0m\u001b[0ma\u001b[0m\u001b[1;33m)\u001b[0m\u001b[1;33m)\u001b[0m\u001b[1;33m\u001b[0m\u001b[1;33m\u001b[0m\u001b[0m\n\u001b[0m",
      "\u001b[1;31mValueError\u001b[0m: dictionary update sequence element #0 has length 1; 2 is required"
     ]
    }
   ],
   "source": [
    "#Dictionary DataType\n",
    "a='PYTHON'\n",
    "print(dict(a))"
   ]
  },
  {
   "cell_type": "code",
   "execution_count": 58,
   "id": "bda07393",
   "metadata": {},
   "outputs": [
    {
     "ename": "TypeError",
     "evalue": "cannot convert dictionary update sequence element #0 to a sequence",
     "output_type": "error",
     "traceback": [
      "\u001b[1;31m---------------------------------------------------------------------------\u001b[0m",
      "\u001b[1;31mTypeError\u001b[0m                                 Traceback (most recent call last)",
      "\u001b[1;32m~\\AppData\\Local\\Temp\\ipykernel_11436\\905004699.py\u001b[0m in \u001b[0;36m<module>\u001b[1;34m\u001b[0m\n\u001b[0;32m      1\u001b[0m \u001b[0mb\u001b[0m\u001b[1;33m=\u001b[0m\u001b[1;33m[\u001b[0m\u001b[1;36m11\u001b[0m\u001b[1;33m,\u001b[0m\u001b[1;36m12\u001b[0m\u001b[1;33m]\u001b[0m\u001b[1;33m\u001b[0m\u001b[1;33m\u001b[0m\u001b[0m\n\u001b[1;32m----> 2\u001b[1;33m \u001b[0mprint\u001b[0m\u001b[1;33m(\u001b[0m\u001b[0mdict\u001b[0m\u001b[1;33m(\u001b[0m\u001b[0mb\u001b[0m\u001b[1;33m)\u001b[0m\u001b[1;33m)\u001b[0m\u001b[1;33m\u001b[0m\u001b[1;33m\u001b[0m\u001b[0m\n\u001b[0m",
      "\u001b[1;31mTypeError\u001b[0m: cannot convert dictionary update sequence element #0 to a sequence"
     ]
    }
   ],
   "source": [
    "b=[11,12]\n",
    "print(dict(b))"
   ]
  },
  {
   "cell_type": "code",
   "execution_count": 63,
   "id": "704405be",
   "metadata": {},
   "outputs": [
    {
     "ename": "ValueError",
     "evalue": "dictionary update sequence element #0 has length 3; 2 is required",
     "output_type": "error",
     "traceback": [
      "\u001b[1;31m---------------------------------------------------------------------------\u001b[0m",
      "\u001b[1;31mValueError\u001b[0m                                Traceback (most recent call last)",
      "\u001b[1;32m~\\AppData\\Local\\Temp\\ipykernel_11436\\1913696958.py\u001b[0m in \u001b[0;36m<module>\u001b[1;34m\u001b[0m\n\u001b[0;32m      1\u001b[0m \u001b[0mc\u001b[0m\u001b[1;33m=\u001b[0m\u001b[1;33m(\u001b[0m\u001b[1;33m(\u001b[0m\u001b[1;36m1\u001b[0m\u001b[1;33m,\u001b[0m\u001b[1;36m2\u001b[0m\u001b[1;33m,\u001b[0m\u001b[1;36m3\u001b[0m\u001b[1;33m)\u001b[0m\u001b[1;33m,\u001b[0m\u001b[1;33m[\u001b[0m\u001b[1;34m'a'\u001b[0m\u001b[1;33m,\u001b[0m\u001b[1;36m10\u001b[0m\u001b[1;33m]\u001b[0m\u001b[1;33m,\u001b[0m\u001b[1;34m'ab'\u001b[0m\u001b[1;33m)\u001b[0m\u001b[1;33m\u001b[0m\u001b[1;33m\u001b[0m\u001b[0m\n\u001b[1;32m----> 2\u001b[1;33m \u001b[0mprint\u001b[0m\u001b[1;33m(\u001b[0m\u001b[0mdict\u001b[0m\u001b[1;33m(\u001b[0m\u001b[0mc\u001b[0m\u001b[1;33m)\u001b[0m\u001b[1;33m)\u001b[0m\u001b[1;33m\u001b[0m\u001b[1;33m\u001b[0m\u001b[0m\n\u001b[0m",
      "\u001b[1;31mValueError\u001b[0m: dictionary update sequence element #0 has length 3; 2 is required"
     ]
    }
   ],
   "source": [
    "c=((1,2,3),['a',10],'ab')\n",
    "print(dict(c))"
   ]
  },
  {
   "cell_type": "code",
   "execution_count": 71,
   "id": "3debfbce",
   "metadata": {},
   "outputs": [
    {
     "name": "stdout",
     "output_type": "stream",
     "text": [
      "{1: 2, 'a': 10}\n",
      "2\n"
     ]
    }
   ],
   "source": [
    "d=((1,2),['a',10])\n",
    "print(dict(d))\n",
    "print(len(dict(d)))"
   ]
  },
  {
   "cell_type": "code",
   "execution_count": 72,
   "id": "366b0563",
   "metadata": {},
   "outputs": [
    {
     "name": "stdout",
     "output_type": "stream",
     "text": [
      "{1: 2, 'a': 'b'}\n",
      "2\n"
     ]
    }
   ],
   "source": [
    "e=[(1,2),['a',10],'ab']\n",
    "print(dict(e))\n",
    "print(len(dict(e)))"
   ]
  },
  {
   "cell_type": "code",
   "execution_count": 73,
   "id": "060a1e9c",
   "metadata": {},
   "outputs": [
    {
     "name": "stdout",
     "output_type": "stream",
     "text": [
      "{1: 2, 'a': 10, 'c': 'd'}\n",
      "3\n"
     ]
    }
   ],
   "source": [
    "z=((1,2),['a',10],'cd')\n",
    "print(dict(z))\n",
    "print(len(dict(z)))"
   ]
  },
  {
   "cell_type": "code",
   "execution_count": null,
   "id": "187301c6",
   "metadata": {},
   "outputs": [],
   "source": [
    "                                   💖CHARISHMA💝DEVIPRASAD💖"
   ]
  },
  {
   "cell_type": "code",
   "execution_count": null,
   "id": "54fe856f",
   "metadata": {},
   "outputs": [],
   "source": [
    "                                          💖CHARDEVI💖"
   ]
  }
 ],
 "metadata": {
  "kernelspec": {
   "display_name": "Python 3 (ipykernel)",
   "language": "python",
   "name": "python3"
  },
  "language_info": {
   "codemirror_mode": {
    "name": "ipython",
    "version": 3
   },
   "file_extension": ".py",
   "mimetype": "text/x-python",
   "name": "python",
   "nbconvert_exporter": "python",
   "pygments_lexer": "ipython3",
   "version": "3.9.13"
  }
 },
 "nbformat": 4,
 "nbformat_minor": 5
}
