{
 "cells": [
  {
   "cell_type": "code",
   "execution_count": 2,
   "id": "4a9ed0a9",
   "metadata": {},
   "outputs": [
    {
     "name": "stdout",
     "output_type": "stream",
     "text": [
      "name:devi\n",
      "age:22\n",
      "gender:male\n",
      "***********\n",
      "name:male\n",
      "age:devi\n",
      "gender:22\n"
     ]
    }
   ],
   "source": [
    "def Details(name,age,gender):\n",
    "    print(f'name:{name}')\n",
    "    print(f'age:{age}')\n",
    "    print(f'gender:{gender}')\n",
    "\n",
    "Details('devi',22,'male')\n",
    "print('*'*11)\n",
    "Details('male','devi',22)"
   ]
  },
  {
   "cell_type": "code",
   "execution_count": 7,
   "id": "e52db30f",
   "metadata": {},
   "outputs": [
    {
     "name": "stdout",
     "output_type": "stream",
     "text": [
      "args:(11, 12, 13)\n",
      "args:(11, 12)\n",
      "args:()\n"
     ]
    }
   ],
   "source": [
    "def Fun(*args):\n",
    "    print(f'args:{args}')\n",
    "    \n",
    "Fun(11,12,13)\n",
    "Fun(11,12)\n",
    "Fun()"
   ]
  },
  {
   "cell_type": "code",
   "execution_count": 7,
   "id": "8d987d52",
   "metadata": {},
   "outputs": [
    {
     "name": "stdout",
     "output_type": "stream",
     "text": [
      "args:(11, 12, 13)\n",
      "args:(11, 12)\n",
      "args:()\n"
     ]
    }
   ],
   "source": [
    "def Fun(*args):\n",
    "    print(f'args:{args}')\n",
    "    \n",
    "Fun(11,12,13)\n",
    "Fun(11,12)\n",
    "Fun()"
   ]
  },
  {
   "cell_type": "markdown",
   "id": "a8e992fa",
   "metadata": {},
   "source": [
    "# 5.Variable Length Keyword Arguments"
   ]
  },
  {
   "cell_type": "code",
   "execution_count": 8,
   "id": "a1cf46e9",
   "metadata": {
    "scrolled": true
   },
   "outputs": [
    {
     "name": "stdout",
     "output_type": "stream",
     "text": [
      "kwargs:{'a': 10, 'b': 20, 'c': 30}\n",
      "kwargs:{}\n"
     ]
    }
   ],
   "source": [
    "def Sample(**kwargs):\n",
    "    print(f'kwargs:{kwargs}')\n",
    "\n",
    "Sample(a=10,b=20,c=30)\n",
    "Sample()"
   ]
  },
  {
   "cell_type": "code",
   "execution_count": 1,
   "id": "9b3d5a44",
   "metadata": {},
   "outputs": [
    {
     "name": "stdout",
     "output_type": "stream",
     "text": [
      "[2, 4, 6, 8, 10]\n"
     ]
    }
   ],
   "source": [
    "L=[1,2,3,4,5,6,7,8,9,10,11]\n",
    "N=list(filter(lambda n:n%2==0,L))\n",
    "print(N)"
   ]
  },
  {
   "cell_type": "code",
   "execution_count": 15,
   "id": "8f4ae1dd",
   "metadata": {},
   "outputs": [
    {
     "name": "stdout",
     "output_type": "stream",
     "text": [
      "[1, 3, 5, 7, 9, 11]\n"
     ]
    }
   ],
   "source": [
    "L=[1,2,3,4,5,6,7,8,9,10,11]\n",
    "N=list(filter(lambda n:n%2!=0,L))\n",
    "print(N)"
   ]
  },
  {
   "cell_type": "code",
   "execution_count": 5,
   "id": "1e2072b8",
   "metadata": {},
   "outputs": [
    {
     "name": "stdout",
     "output_type": "stream",
     "text": [
      "49\n"
     ]
    }
   ],
   "source": [
    "n=lambda n:n**2\n",
    "print(n(7))"
   ]
  },
  {
   "cell_type": "code",
   "execution_count": 4,
   "id": "e6ddec39",
   "metadata": {},
   "outputs": [
    {
     "name": "stdout",
     "output_type": "stream",
     "text": [
      "5\n"
     ]
    }
   ],
   "source": [
    "n=lambda x,y:x+y\n",
    "print(n(2,3))"
   ]
  },
  {
   "cell_type": "code",
   "execution_count": 6,
   "id": "cd21b840",
   "metadata": {},
   "outputs": [
    {
     "name": "stdout",
     "output_type": "stream",
     "text": [
      "92\n"
     ]
    }
   ],
   "source": [
    "from functools import reduce\n",
    "devi=[2,5,11,7,20,22,25]\n",
    "cherry=reduce(lambda x,y:x+y,devi)\n",
    "print(cherry)"
   ]
  },
  {
   "cell_type": "code",
   "execution_count": 2,
   "id": "974ae740",
   "metadata": {},
   "outputs": [
    {
     "name": "stdout",
     "output_type": "stream",
     "text": [
      "33\n"
     ]
    }
   ],
   "source": [
    "from functools import reduce\n",
    "d=[1,2,3,4,5,7,11]\n",
    "print(reduce(lambda x,y:x+y,d))"
   ]
  },
  {
   "cell_type": "code",
   "execution_count": 3,
   "id": "12d1d2cc",
   "metadata": {},
   "outputs": [
    {
     "name": "stdout",
     "output_type": "stream",
     "text": [
      "[]\n"
     ]
    }
   ],
   "source": [
    "def prime(n):\n",
    "    if n>1:\n",
    "        return False\n",
    "    for i in range(2,n//2+1):\n",
    "        if n%i==0:\n",
    "            return False\n",
    "    else:\n",
    "        return True\n",
    "L=[2,5,7,17,20,11,22,25,27,29]\n",
    "N=list(filter(prime,L))\n",
    "print(N)"
   ]
  },
  {
   "cell_type": "code",
   "execution_count": 4,
   "id": "9a8b9cb1",
   "metadata": {},
   "outputs": [
    {
     "name": "stdout",
     "output_type": "stream",
     "text": [
      "[20, 22]\n"
     ]
    }
   ],
   "source": [
    "def is_even(n):\n",
    "    if n%2==0:\n",
    "        return True\n",
    "    else:\n",
    "        return False\n",
    "print(list(filter(is_even,[11,20,22,29])))"
   ]
  },
  {
   "cell_type": "code",
   "execution_count": 5,
   "id": "433c615f",
   "metadata": {},
   "outputs": [
    {
     "name": "stdout",
     "output_type": "stream",
     "text": [
      "[20, 22]\n"
     ]
    }
   ],
   "source": [
    "l=[11,20,22,29]\n",
    "print(list(filter(lambda n:n%2==0,l)))"
   ]
  },
  {
   "cell_type": "code",
   "execution_count": 12,
   "id": "1fb74578",
   "metadata": {},
   "outputs": [
    {
     "name": "stdout",
     "output_type": "stream",
     "text": [
      "[2, 5, 7, 17, 20, 11, 22, 25, 27, 29]\n"
     ]
    }
   ],
   "source": [
    "L=[2,5,7,17,20,11,22,25,27,29]\n",
    "print(list(filter(lambda n:n//2+1,L)))"
   ]
  },
  {
   "cell_type": "code",
   "execution_count": 1,
   "id": "ab124123",
   "metadata": {},
   "outputs": [
    {
     "name": "stdout",
     "output_type": "stream",
     "text": [
      "2\n",
      "3\n",
      "5\n",
      "7\n"
     ]
    }
   ],
   "source": [
    "def prime(n):\n",
    "    if n<=1:\n",
    "        return False\n",
    "    for i in range(2,n//2+1):\n",
    "        if n%i==0:\n",
    "            return False\n",
    "    return True\n",
    "for i in range(1,11):\n",
    "    if prime(i):\n",
    "        print(i)"
   ]
  },
  {
   "cell_type": "code",
   "execution_count": 2,
   "id": "9284c316",
   "metadata": {},
   "outputs": [
    {
     "name": "stdout",
     "output_type": "stream",
     "text": [
      "2\n",
      "3\n",
      "5\n",
      "7\n",
      "11\n",
      "13\n",
      "17\n",
      "19\n"
     ]
    }
   ],
   "source": [
    "def is_prime(n):\n",
    "    if n <= 1:\n",
    "        return False\n",
    "    for i in range(2, int(n ** 0.5) + 1):\n",
    "        if n % i == 0:\n",
    "            return False\n",
    "    return True\n",
    "\n",
    "def print_primes(limit):\n",
    "    for n in range(2, limit + 1):\n",
    "        if is_prime(n):\n",
    "            print(n)\n",
    "\n",
    "# Example usage: print all primes up to 20\n",
    "print_primes(20)"
   ]
  },
  {
   "cell_type": "code",
   "execution_count": 2,
   "id": "f2c83d86",
   "metadata": {},
   "outputs": [
    {
     "name": "stdout",
     "output_type": "stream",
     "text": [
      "2\n",
      "3\n",
      "5\n",
      "7\n",
      "11\n",
      "13\n",
      "17\n",
      "19\n"
     ]
    }
   ],
   "source": [
    "def prime(n):\n",
    "    if n<=1:\n",
    "        return False\n",
    "    for i in range(2,n//2+1):\n",
    "        if n%i==0:\n",
    "            return False\n",
    "    return True\n",
    "for c in range(2,21):\n",
    "    if prime(c):\n",
    "        print(c)"
   ]
  },
  {
   "cell_type": "code",
   "execution_count": 8,
   "id": "062d54d8",
   "metadata": {},
   "outputs": [
    {
     "name": "stdout",
     "output_type": "stream",
     "text": [
      "palindrome\n"
     ]
    }
   ],
   "source": [
    "def palindrome(p):\n",
    "    res=0\n",
    "    while p!=0:\n",
    "        rem=p%10\n",
    "        p=p//10\n",
    "        res=res*10+rem\n",
    "    return res\n",
    "p=121\n",
    "if p==palindrome(p):\n",
    "    print('palindrome')\n",
    "else:\n",
    "    print('not palindrome')"
   ]
  },
  {
   "cell_type": "code",
   "execution_count": 25,
   "id": "17ee7d41",
   "metadata": {},
   "outputs": [
    {
     "name": "stdout",
     "output_type": "stream",
     "text": [
      "7\n",
      "5040\n"
     ]
    }
   ],
   "source": [
    "def factorial(f):\n",
    "    fact=1\n",
    "    for d in range(1,f+1):\n",
    "        fact*=d\n",
    "    return fact\n",
    "p=int(input())\n",
    "x=factorial(p)\n",
    "print(x)"
   ]
  },
  {
   "cell_type": "code",
   "execution_count": 27,
   "id": "c328897e",
   "metadata": {},
   "outputs": [
    {
     "name": "stdout",
     "output_type": "stream",
     "text": [
      "92\n"
     ]
    }
   ],
   "source": [
    "def rev_num(d):\n",
    "    res=0\n",
    "    while d!=0:\n",
    "        rem=d%10\n",
    "        d=d//10\n",
    "        res=res*10+rem\n",
    "    return res\n",
    "c=29\n",
    "print(rev_num(c))"
   ]
  },
  {
   "cell_type": "code",
   "execution_count": 30,
   "id": "f713ab8f",
   "metadata": {},
   "outputs": [
    {
     "name": "stdout",
     "output_type": "stream",
     "text": [
      "17\n",
      "emirp\n"
     ]
    }
   ],
   "source": [
    "def prime(p):\n",
    "    if p<=1:\n",
    "        return False\n",
    "    for c in range(2,p//2+1):\n",
    "        if p%c==0:\n",
    "            return False\n",
    "    return True\n",
    "def rev_num(r):\n",
    "    res=0\n",
    "    while r!=0:\n",
    "        rem=r%10\n",
    "        res=res*10+rem\n",
    "        r=r//10\n",
    "    return res\n",
    "n=int(input())\n",
    "d=rev_num(n)\n",
    "if n!=d and prime(n) and prime(d):\n",
    "    print('emirp')\n",
    "else:\n",
    "    print('not emirp')"
   ]
  },
  {
   "cell_type": "code",
   "execution_count": 23,
   "id": "c93d691c",
   "metadata": {},
   "outputs": [
    {
     "name": "stdout",
     "output_type": "stream",
     "text": [
      "11\n",
      "pali\n"
     ]
    }
   ],
   "source": [
    "def prime(n):\n",
    "    if n<=1:\n",
    "        return False\n",
    "    for i in range(2,n//2+1):\n",
    "        if n%i==0:\n",
    "            return False\n",
    "    return True\n",
    "def Rev(m):\n",
    "    res=0\n",
    "    while m!=0:\n",
    "        rem=m%10\n",
    "        m=m//10\n",
    "        res=res*10+rem\n",
    "    return res\n",
    "n=int(input(''))\n",
    "r=Rev(n)\n",
    "if r==n and prime(n):\n",
    "    print('pali')\n",
    "else:\n",
    "    print('not')"
   ]
  },
  {
   "cell_type": "code",
   "execution_count": 24,
   "id": "260d4452",
   "metadata": {},
   "outputs": [
    {
     "name": "stdout",
     "output_type": "stream",
     "text": [
      "5\n",
      "120\n"
     ]
    }
   ],
   "source": [
    "def fact(n):\n",
    "    fact=1\n",
    "    for i in range(1,n+1):\n",
    "        fact*=i\n",
    "    return fact\n",
    "p=int(input(''))\n",
    "x=fact(p)\n",
    "print(x)"
   ]
  },
  {
   "cell_type": "code",
   "execution_count": 26,
   "id": "9cceb886",
   "metadata": {},
   "outputs": [
    {
     "name": "stdout",
     "output_type": "stream",
     "text": [
      "special\n"
     ]
    }
   ],
   "source": [
    "def special(n):\n",
    "    res=0\n",
    "    while n!=0:\n",
    "        rem=n%10\n",
    "        n=n//10\n",
    "        res=fact(rem)+res\n",
    "    return res\n",
    "num=145\n",
    "r=special(num)\n",
    "if num==r:\n",
    "    print('special')\n",
    "else:\n",
    "    print('not')"
   ]
  },
  {
   "cell_type": "code",
   "execution_count": 3,
   "id": "b53f6414",
   "metadata": {},
   "outputs": [
    {
     "name": "stdout",
     "output_type": "stream",
     "text": [
      "11\n",
      "paly\n"
     ]
    }
   ],
   "source": [
    "def prime(n):\n",
    "    if n<=1:\n",
    "        return False\n",
    "    for i in range(2,n//2+1):\n",
    "        if n%i==0:\n",
    "            return False\n",
    "        return True\n",
    "def revnum(m):\n",
    "    res=0\n",
    "    while m!=0:\n",
    "        rem=m%10\n",
    "        res=res*10+rem\n",
    "        m=m//10\n",
    "    return res\n",
    "n=int(input(''))\n",
    "r=revnum(n)\n",
    "if r==n and prime(n):\n",
    "    print('paly')\n",
    "else:\n",
    "    print('not')"
   ]
  },
  {
   "cell_type": "code",
   "execution_count": 10,
   "id": "e917be40",
   "metadata": {},
   "outputs": [
    {
     "name": "stdout",
     "output_type": "stream",
     "text": [
      "fib\n"
     ]
    }
   ],
   "source": [
    "d=2\n",
    "res=0\n",
    "f,s=0,1\n",
    "while res<d:\n",
    "    res=f+s\n",
    "    f,s=s,res\n",
    "if res==d:\n",
    "    print('fib')\n",
    "else:\n",
    "    print('not')"
   ]
  },
  {
   "cell_type": "code",
   "execution_count": 11,
   "id": "51364266",
   "metadata": {},
   "outputs": [
    {
     "name": "stdout",
     "output_type": "stream",
     "text": [
      "emirp\n"
     ]
    }
   ],
   "source": [
    "def prime(n):\n",
    "    if n<=1:\n",
    "        return False\n",
    "    for i in range(2,n//2+1):\n",
    "        if n%i==0:\n",
    "            return False\n",
    "    return True\n",
    "def rev(x):\n",
    "    res=0\n",
    "    while x!=0:\n",
    "        rem=x%10\n",
    "        res=res*10+rem\n",
    "        x//=10\n",
    "    return res\n",
    "n=17\n",
    "r=rev(n)\n",
    "if n!=r and prime(n) and prime(r):\n",
    "    print('emirp')\n",
    "else:\n",
    "    print('not')"
   ]
  },
  {
   "cell_type": "code",
   "execution_count": 14,
   "id": "c74375e1",
   "metadata": {},
   "outputs": [
    {
     "name": "stdout",
     "output_type": "stream",
     "text": [
      "prime\n"
     ]
    }
   ],
   "source": [
    "def prime(n):\n",
    "    if n<=1:\n",
    "        return False\n",
    "    for i in range(2,n//2+1):\n",
    "        if n%i==0:\n",
    "            return False\n",
    "    return True\n",
    "n=17\n",
    "if prime(n):\n",
    "    print('prime')\n",
    "else:\n",
    "    print('not')"
   ]
  },
  {
   "cell_type": "code",
   "execution_count": 1,
   "id": "e9ac67b4",
   "metadata": {},
   "outputs": [
    {
     "name": "stdout",
     "output_type": "stream",
     "text": [
      "args:(11, 12, 13)\n",
      "args:(11, 12)\n",
      "args:()\n"
     ]
    }
   ],
   "source": [
    "def fun(*args):\n",
    "    print(f'args:{args}')\n",
    "fun(11,12,13)\n",
    "fun(11,12)\n",
    "fun()"
   ]
  },
  {
   "cell_type": "code",
   "execution_count": 5,
   "id": "d9024b43",
   "metadata": {},
   "outputs": [
    {
     "name": "stdout",
     "output_type": "stream",
     "text": [
      "kwargs:{'c': 17}\n",
      "kwargs:{'d': 22}\n",
      "kwargs:{}\n"
     ]
    }
   ],
   "source": [
    "def fun(**kwargs):\n",
    "    print(f'kwargs:{kwargs}')\n",
    "fun(c=17)\n",
    "fun(d=22)\n",
    "fun()"
   ]
  },
  {
   "cell_type": "code",
   "execution_count": 11,
   "id": "0403dcb5",
   "metadata": {},
   "outputs": [
    {
     "name": "stdout",
     "output_type": "stream",
     "text": [
      "devi\n",
      "22\n"
     ]
    }
   ],
   "source": [
    "def fun(name,age):\n",
    "    print(name)\n",
    "    print(age)\n",
    "fun('devi',22)"
   ]
  },
  {
   "cell_type": "code",
   "execution_count": 6,
   "id": "c1707979",
   "metadata": {},
   "outputs": [
    {
     "name": "stdout",
     "output_type": "stream",
     "text": [
      "pali\n"
     ]
    }
   ],
   "source": [
    "def prime(n):\n",
    "    if n<=1:\n",
    "        return False\n",
    "    for i in range(2,n//2+1):\n",
    "        if n%i==0:\n",
    "            return False  \n",
    "    return True\n",
    "def pali(n):\n",
    "    res=0\n",
    "    while n!=0:\n",
    "        rem=n%10\n",
    "        res=res*10+rem\n",
    "        n//=10\n",
    "    return res\n",
    "x=11\n",
    "if x==pali(x) and prime(x):\n",
    "    print('pali')\n",
    "else:\n",
    "    print('not')\n"
   ]
  },
  {
   "cell_type": "code",
   "execution_count": 4,
   "id": "ddfe42b3",
   "metadata": {},
   "outputs": [
    {
     "name": "stdout",
     "output_type": "stream",
     "text": [
      "29 rev_num is 92\n"
     ]
    }
   ],
   "source": [
    "def rev(n):\n",
    "    res=0\n",
    "    while n!=0:\n",
    "        rem=n%10\n",
    "        n//=10\n",
    "        res=res*10+rem\n",
    "    return res\n",
    "x=29\n",
    "print(f'{x} rev_num is {rev(x)}')"
   ]
  },
  {
   "cell_type": "code",
   "execution_count": 7,
   "id": "9b7aee33",
   "metadata": {},
   "outputs": [
    {
     "name": "stdout",
     "output_type": "stream",
     "text": [
      "2\n",
      "3\n",
      "5\n",
      "8\n",
      "13\n"
     ]
    }
   ],
   "source": [
    "def fib(n):\n",
    "    f,s=0,1\n",
    "    for i in range(n):\n",
    "        t=f+s\n",
    "        f,s=s,t\n",
    "    return t\n",
    "for i in range(2,7):\n",
    "    print(fib(i))"
   ]
  },
  {
   "cell_type": "code",
   "execution_count": 12,
   "id": "f5158446",
   "metadata": {},
   "outputs": [
    {
     "name": "stdout",
     "output_type": "stream",
     "text": [
      "S\n"
     ]
    }
   ],
   "source": [
    "def paly(n):\n",
    "    res=0\n",
    "    num=n\n",
    "    while n!=0:\n",
    "        rem=n%10\n",
    "        res=res*10+rem\n",
    "        n//=10\n",
    "    return res\n",
    "num=11\n",
    "if num==paly(num):\n",
    "    print('S')\n",
    "else:\n",
    "    print('No')"
   ]
  },
  {
   "cell_type": "code",
   "execution_count": 15,
   "id": "f53e2319",
   "metadata": {},
   "outputs": [
    {
     "name": "stdout",
     "output_type": "stream",
     "text": [
      "love\n"
     ]
    }
   ],
   "source": [
    "def prime(n):\n",
    "    if n<=1:\n",
    "        return False\n",
    "    for i in range(2,n//2+1):\n",
    "        if n%i==0:\n",
    "            return False\n",
    "    return True\n",
    "n=17\n",
    "if prime(n):\n",
    "    print('love')\n",
    "else:\n",
    "    print('lovee')"
   ]
  },
  {
   "cell_type": "code",
   "execution_count": 1,
   "id": "085c384a",
   "metadata": {},
   "outputs": [
    {
     "name": "stdout",
     "output_type": "stream",
     "text": [
      "109\n"
     ]
    }
   ],
   "source": [
    "from functools import reduce\n",
    "l=[10,15,20,25,22,17]\n",
    "print(reduce(lambda x,y:x+y,l))"
   ]
  },
  {
   "cell_type": "code",
   "execution_count": 2,
   "id": "bf840d2d",
   "metadata": {},
   "outputs": [
    {
     "name": "stdout",
     "output_type": "stream",
     "text": [
      "5050\n"
     ]
    }
   ],
   "source": [
    "print(reduce(lambda x,y:x+y,range(1,101)))"
   ]
  },
  {
   "cell_type": "code",
   "execution_count": 8,
   "id": "ea614ca5",
   "metadata": {},
   "outputs": [
    {
     "name": "stdout",
     "output_type": "stream",
     "text": [
      "['False', 'None', 'True', '__peg_parser__', 'and', 'as', 'assert', 'async', 'await', 'break', 'class', 'continue', 'def', 'del', 'elif', 'else', 'except', 'finally', 'for', 'from', 'global', 'if', 'import', 'in', 'is', 'lambda', 'nonlocal', 'not', 'or', 'pass', 'raise', 'return', 'try', 'while', 'with', 'yield'] "
     ]
    }
   ],
   "source": [
    "import keyword\n",
    "print(keyword.kwlist,end=' ')"
   ]
  },
  {
   "cell_type": "code",
   "execution_count": 3,
   "id": "78a8393c",
   "metadata": {},
   "outputs": [
    {
     "name": "stdout",
     "output_type": "stream",
     "text": [
      "devi\n",
      "22\n",
      "male\n"
     ]
    }
   ],
   "source": [
    "def details(name,age,gender):\n",
    "    print(name)\n",
    "    print(age)\n",
    "    print(gender)\n",
    "details('devi',22,'male')"
   ]
  },
  {
   "cell_type": "code",
   "execution_count": 7,
   "id": "6a972941",
   "metadata": {},
   "outputs": [
    {
     "name": "stdout",
     "output_type": "stream",
     "text": [
      "devi\n",
      "22\n",
      "male\n"
     ]
    }
   ],
   "source": [
    "def details(name,age,gender):\n",
    "    print(name)\n",
    "    print(age)\n",
    "    print(gender)\n",
    "details(name='devi',age=22,gender='male')"
   ]
  },
  {
   "cell_type": "code",
   "execution_count": 8,
   "id": "3c0bb804",
   "metadata": {},
   "outputs": [
    {
     "name": "stdout",
     "output_type": "stream",
     "text": [
      "devi\n",
      "male\n",
      "0\n"
     ]
    }
   ],
   "source": [
    "def details(name=0,age=0,gender=0):\n",
    "    print(name)\n",
    "    print(age)\n",
    "    print(gender)\n",
    "details('devi','male')"
   ]
  },
  {
   "cell_type": "code",
   "execution_count": 12,
   "id": "13d9ff74",
   "metadata": {},
   "outputs": [
    {
     "name": "stdout",
     "output_type": "stream",
     "text": [
      "args:('devi', 22, 'male')\n"
     ]
    }
   ],
   "source": [
    "def details(*args):\n",
    "    print(f'args:{args}')\n",
    "details('devi',22,'male')"
   ]
  },
  {
   "cell_type": "code",
   "execution_count": 14,
   "id": "1e0e51e4",
   "metadata": {},
   "outputs": [
    {
     "name": "stdout",
     "output_type": "stream",
     "text": [
      "args:{'name': 'devi', 'age': 22, 'gender': 'male'}\n"
     ]
    }
   ],
   "source": [
    "def details(**args):\n",
    "    print(f'args:{args}')\n",
    "details(name='devi',age=22,gender='male')"
   ]
  },
  {
   "cell_type": "code",
   "execution_count": 1,
   "id": "2c8453cb",
   "metadata": {},
   "outputs": [
    {
     "name": "stdout",
     "output_type": "stream",
     "text": [
      "9\n"
     ]
    }
   ],
   "source": [
    "n=lambda x,y:x+y\n",
    "print(n(4,5))"
   ]
  },
  {
   "cell_type": "code",
   "execution_count": 5,
   "id": "f9171b8d",
   "metadata": {},
   "outputs": [
    {
     "name": "stdout",
     "output_type": "stream",
     "text": [
      "sai santosh\n"
     ]
    }
   ],
   "source": [
    "n=lambda fn,ln:f'{fn} {ln}'\n",
    "print(n('sai','santosh'))"
   ]
  },
  {
   "cell_type": "code",
   "execution_count": 8,
   "id": "cce0c2d7",
   "metadata": {},
   "outputs": [
    {
     "name": "stdout",
     "output_type": "stream",
     "text": [
      "[4, 9, 16, 25]\n"
     ]
    }
   ],
   "source": [
    "def square(n):\n",
    "    return n**2\n",
    "l=[2,3,4,5]\n",
    "x=list(map(square,l)\n",
    "print(x)"
   ]
  },
  {
   "cell_type": "code",
   "execution_count": 9,
   "id": "c90d5b1a",
   "metadata": {},
   "outputs": [
    {
     "name": "stdout",
     "output_type": "stream",
     "text": [
      "[4, 9, 16, 25]\n"
     ]
    }
   ],
   "source": [
    "l=[2,3,4,5]\n",
    "print(list(map(lambda n:n**2,l)))"
   ]
  },
  {
   "cell_type": "code",
   "execution_count": 10,
   "id": "1dde9e3f",
   "metadata": {},
   "outputs": [
    {
     "name": "stdout",
     "output_type": "stream",
     "text": [
      "[2, 4]\n"
     ]
    }
   ],
   "source": [
    "def even(n):\n",
    "    return n%2==0\n",
    "l=[2,3,4,5]\n",
    "print(list(filter(even,l)))"
   ]
  },
  {
   "cell_type": "code",
   "execution_count": 11,
   "id": "6d43d444",
   "metadata": {},
   "outputs": [
    {
     "name": "stdout",
     "output_type": "stream",
     "text": [
      "[2, 4]\n"
     ]
    }
   ],
   "source": [
    "l=[2,3,4,5]\n",
    "print(list(filter(lambda n:n%2==0,l)))"
   ]
  },
  {
   "cell_type": "code",
   "execution_count": 12,
   "id": "ec90eab7",
   "metadata": {},
   "outputs": [
    {
     "name": "stdout",
     "output_type": "stream",
     "text": [
      "[False, True, False, True, False]\n"
     ]
    }
   ],
   "source": [
    "l=[11,12,13,14,15]\n",
    "print(list(map(lambda n:n%2==0,l)))"
   ]
  },
  {
   "cell_type": "code",
   "execution_count": 14,
   "id": "bf4dacea",
   "metadata": {},
   "outputs": [
    {
     "name": "stdout",
     "output_type": "stream",
     "text": [
      "181\n"
     ]
    }
   ],
   "source": [
    "from functools import reduce\n",
    "l=[10,12,15,12,29,92,11]\n",
    "print(reduce(lambda x,y:x+y,l))"
   ]
  },
  {
   "cell_type": "code",
   "execution_count": 20,
   "id": "171dda98",
   "metadata": {},
   "outputs": [
    {
     "name": "stdout",
     "output_type": "stream",
     "text": [
      "5050\n"
     ]
    }
   ],
   "source": [
    "print(reduce(lambda x,y:x+y,range(1,101)))"
   ]
  },
  {
   "cell_type": "code",
   "execution_count": 27,
   "id": "a92338ec",
   "metadata": {},
   "outputs": [
    {
     "name": "stdout",
     "output_type": "stream",
     "text": [
      "[11, 2, 5, 29]\n"
     ]
    }
   ],
   "source": [
    "def prime(n):\n",
    "    if n<=1:\n",
    "        return False\n",
    "    for a in range(2,n//2+1):\n",
    "        if n%a==0:\n",
    "            return False\n",
    "    return True\n",
    "l=[11,12,2,5,29,92,22]\n",
    "print(list(filter(lambda n:prime(n),l)))"
   ]
  },
  {
   "cell_type": "code",
   "execution_count": 8,
   "id": "6a5171ab",
   "metadata": {},
   "outputs": [
    {
     "name": "stdout",
     "output_type": "stream",
     "text": [
      "spy\n"
     ]
    }
   ],
   "source": [
    "def spy(n):\n",
    "    p=0\n",
    "    m=1\n",
    "    while n!=0:\n",
    "        rem=n%10\n",
    "        p+=rem\n",
    "        m*=rem\n",
    "        n//=10\n",
    "    return p==m\n",
    "n=123\n",
    "if spy(n):\n",
    "    print('spy')\n",
    "else:\n",
    "    print('not spy')"
   ]
  },
  {
   "cell_type": "code",
   "execution_count": 6,
   "id": "c6a3d7e4",
   "metadata": {},
   "outputs": [
    {
     "name": "stdout",
     "output_type": "stream",
     "text": [
      "happy\n"
     ]
    }
   ],
   "source": [
    "def happy(n):\n",
    "    while n>9:\n",
    "        res=0\n",
    "        while n!=0:\n",
    "            rem=n%10\n",
    "            res=res+rem**2\n",
    "            n//=10\n",
    "        n=res\n",
    "    return n==1\n",
    "n=49\n",
    "if happy(n):\n",
    "    print('happy')\n",
    "else:\n",
    "    print('not')"
   ]
  },
  {
   "cell_type": "code",
   "execution_count": 11,
   "id": "73d54b02",
   "metadata": {},
   "outputs": [
    {
     "name": "stdout",
     "output_type": "stream",
     "text": [
      "55\n"
     ]
    }
   ],
   "source": [
    "def fib(n):\n",
    "    f,s=0,1\n",
    "    if n==1 or n==2:\n",
    "        return n-1\n",
    "    for a in range(n-2):\n",
    "        t=f+s\n",
    "        f,s=s,t\n",
    "    return t\n",
    "n=11\n",
    "print(fib(n))"
   ]
  },
  {
   "cell_type": "code",
   "execution_count": 35,
   "id": "b395c686",
   "metadata": {},
   "outputs": [
    {
     "name": "stdout",
     "output_type": "stream",
     "text": [
      "niven\n"
     ]
    }
   ],
   "source": [
    "def niven(n):\n",
    "    res=0\n",
    "    while n!=0:\n",
    "        rem=n%10\n",
    "        res=res+rem\n",
    "        n//=10\n",
    "    return res\n",
    "n=153\n",
    "a=niven(n)\n",
    "if n%a==0:\n",
    "    print('niven')\n",
    "else:\n",
    "    print('not')"
   ]
  },
  {
   "cell_type": "code",
   "execution_count": 41,
   "id": "9693e91a",
   "metadata": {},
   "outputs": [
    {
     "name": "stdout",
     "output_type": "stream",
     "text": [
      "armstrong\n"
     ]
    }
   ],
   "source": [
    "def armstrong(n):\n",
    "    res=0\n",
    "    p=len(str(n))\n",
    "    while n!=0:\n",
    "        rem=n%10\n",
    "        res=res+rem**p\n",
    "        n//=10\n",
    "    return res\n",
    "n=153\n",
    "if n==armstrong(n):\n",
    "    print('armstrong')\n",
    "else:\n",
    "    print('not')"
   ]
  },
  {
   "cell_type": "code",
   "execution_count": 46,
   "id": "73edf373",
   "metadata": {},
   "outputs": [
    {
     "name": "stdout",
     "output_type": "stream",
     "text": [
      "disarum\n"
     ]
    }
   ],
   "source": [
    "def disarum(n):\n",
    "    res=0\n",
    "    p=len(str(n))\n",
    "    while n!=0:\n",
    "        rem=n%10\n",
    "        res=res+rem**p\n",
    "        p=p-1\n",
    "        n//=10\n",
    "    return res\n",
    "n=135\n",
    "if n==disarum(n):\n",
    "    print('disarum')\n",
    "else:\n",
    "    print('not')"
   ]
  },
  {
   "cell_type": "code",
   "execution_count": 49,
   "id": "b84c59b9",
   "metadata": {},
   "outputs": [
    {
     "name": "stdout",
     "output_type": "stream",
     "text": [
      "palindrome\n"
     ]
    }
   ],
   "source": [
    "def palindrome(n):\n",
    "    res=0\n",
    "    while n!=0:\n",
    "        rem=n%10\n",
    "        res=res*10+rem\n",
    "        n//=10\n",
    "    return res\n",
    "n=121\n",
    "if n==palindrome(n):\n",
    "    print('palindrome')\n",
    "else:\n",
    "    print('not')"
   ]
  },
  {
   "cell_type": "code",
   "execution_count": 51,
   "id": "2289c577",
   "metadata": {},
   "outputs": [
    {
     "name": "stdout",
     "output_type": "stream",
     "text": [
      "paliprime\n"
     ]
    }
   ],
   "source": [
    "def prime(n):\n",
    "    if n<1:\n",
    "        return False\n",
    "    for a in range(2,n//2+1):\n",
    "        if n%a==0:\n",
    "            return False\n",
    "    return True\n",
    "def pali(n):\n",
    "    res=0\n",
    "    while n!=0:\n",
    "        rem=n%10\n",
    "        res=res*10+rem\n",
    "        n//=10\n",
    "    return res\n",
    "n=11\n",
    "if n==pali(n) and prime(n):\n",
    "    print('paliprime')\n",
    "else:\n",
    "    print('not')"
   ]
  },
  {
   "cell_type": "code",
   "execution_count": 53,
   "id": "11815935",
   "metadata": {},
   "outputs": [
    {
     "name": "stdout",
     "output_type": "stream",
     "text": [
      "EMIRP\n"
     ]
    }
   ],
   "source": [
    "def rev(n):\n",
    "    res=0\n",
    "    while n!=0:\n",
    "        rem=n%10\n",
    "        res=res*10+rem\n",
    "        n//=10\n",
    "    return res\n",
    "def prime(n):\n",
    "    if n<=1:\n",
    "        return False\n",
    "    for a in range(2,n//2+1):\n",
    "        if n%a==0:\n",
    "            return False\n",
    "    return True\n",
    "n=17\n",
    "c=rev(n)\n",
    "if n!=c and prime(c) and prime(n):\n",
    "    print('EMIRP')\n",
    "else:\n",
    "    print('not')"
   ]
  },
  {
   "cell_type": "code",
   "execution_count": 2,
   "id": "8c103948",
   "metadata": {},
   "outputs": [
    {
     "name": "stdout",
     "output_type": "stream",
     "text": [
      "prime\n"
     ]
    }
   ],
   "source": [
    "def prime(n):\n",
    "    if n<=1:\n",
    "        return False\n",
    "    for i in range(2,n//2+1):\n",
    "        if n%i==0:\n",
    "            return False\n",
    "    return True\n",
    "n=11\n",
    "if prime(n):\n",
    "    print('prime')\n",
    "else:\n",
    "    print('not')"
   ]
  },
  {
   "cell_type": "code",
   "execution_count": 1,
   "id": "0d6f76a0",
   "metadata": {},
   "outputs": [
    {
     "name": "stdout",
     "output_type": "stream",
     "text": [
      "Tech Number\n"
     ]
    }
   ],
   "source": [
    "def tech(n):\n",
    "    s=str(n)\n",
    "    l=len(s)\n",
    "    res=0\n",
    "    if (l%2==0):\n",
    "        first=s[:l//2]\n",
    "        second=s[l//2:]\n",
    "        plus=int(first)+int(second)\n",
    "        square=plus**2\n",
    "    return square\n",
    "n=9801\n",
    "if n==tech(n):\n",
    "    print('Tech Number')\n",
    "else:\n",
    "    print('Not Tech Number')"
   ]
  },
  {
   "cell_type": "code",
   "execution_count": 7,
   "id": "10dd7850",
   "metadata": {},
   "outputs": [
    {
     "name": "stdout",
     "output_type": "stream",
     "text": [
      "22\n"
     ]
    }
   ],
   "source": [
    "def fun():\n",
    "    for a in range(22,23,24):\n",
    "        print(a)\n",
    "fun()"
   ]
  },
  {
   "cell_type": "code",
   "execution_count": 8,
   "id": "2e918af0",
   "metadata": {},
   "outputs": [
    {
     "name": "stdout",
     "output_type": "stream",
     "text": [
      "Good Afternoon\n",
      "100\n"
     ]
    }
   ],
   "source": [
    "def wish():\n",
    "    print('Good Afternoon')\n",
    "    return 100\n",
    "x=wish()\n",
    "print(x)"
   ]
  },
  {
   "cell_type": "code",
   "execution_count": 9,
   "id": "927b53fe",
   "metadata": {},
   "outputs": [
    {
     "name": "stdout",
     "output_type": "stream",
     "text": [
      "60\n",
      "9\n",
      "1500\n"
     ]
    }
   ],
   "source": [
    "def sum(a,b,c):\n",
    "    return a+b+c\n",
    "print(sum(10,20,30))\n",
    "print(sum(1,2,6))\n",
    "print(sum(100,500,900))"
   ]
  },
  {
   "cell_type": "code",
   "execution_count": null,
   "id": "87373640",
   "metadata": {},
   "outputs": [],
   "source": []
  },
  {
   "cell_type": "code",
   "execution_count": null,
   "id": "5c25d73f",
   "metadata": {},
   "outputs": [],
   "source": []
  },
  {
   "cell_type": "code",
   "execution_count": null,
   "id": "9eff0c3c",
   "metadata": {},
   "outputs": [],
   "source": []
  },
  {
   "cell_type": "code",
   "execution_count": null,
   "id": "b91965c3",
   "metadata": {},
   "outputs": [],
   "source": []
  },
  {
   "cell_type": "code",
   "execution_count": null,
   "id": "61382a50",
   "metadata": {},
   "outputs": [],
   "source": []
  },
  {
   "cell_type": "code",
   "execution_count": null,
   "id": "b7cab032",
   "metadata": {},
   "outputs": [],
   "source": []
  },
  {
   "cell_type": "code",
   "execution_count": null,
   "id": "6bba8cb0",
   "metadata": {},
   "outputs": [],
   "source": []
  },
  {
   "cell_type": "code",
   "execution_count": null,
   "id": "be301c91",
   "metadata": {},
   "outputs": [],
   "source": []
  },
  {
   "cell_type": "code",
   "execution_count": null,
   "id": "bd510c4a",
   "metadata": {},
   "outputs": [],
   "source": []
  },
  {
   "cell_type": "code",
   "execution_count": null,
   "id": "e3746f96",
   "metadata": {},
   "outputs": [],
   "source": []
  },
  {
   "cell_type": "code",
   "execution_count": null,
   "id": "1d8bb30f",
   "metadata": {},
   "outputs": [],
   "source": [
    "                                   💖CHARISHMA💝DEVIPRASAD💖"
   ]
  },
  {
   "cell_type": "code",
   "execution_count": null,
   "id": "f5d8dde8",
   "metadata": {},
   "outputs": [],
   "source": [
    "                                          💖CHARDEVI💖"
   ]
  }
 ],
 "metadata": {
  "kernelspec": {
   "display_name": "Python 3 (ipykernel)",
   "language": "python",
   "name": "python3"
  },
  "language_info": {
   "codemirror_mode": {
    "name": "ipython",
    "version": 3
   },
   "file_extension": ".py",
   "mimetype": "text/x-python",
   "name": "python",
   "nbconvert_exporter": "python",
   "pygments_lexer": "ipython3",
   "version": "3.9.13"
  }
 },
 "nbformat": 4,
 "nbformat_minor": 5
}
