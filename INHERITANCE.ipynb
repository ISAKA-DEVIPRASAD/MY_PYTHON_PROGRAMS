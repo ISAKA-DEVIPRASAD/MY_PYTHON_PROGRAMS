{
 "cells": [
  {
   "cell_type": "code",
   "execution_count": 6,
   "id": "ec5e89df",
   "metadata": {},
   "outputs": [
    {
     "name": "stdout",
     "output_type": "stream",
     "text": [
      "100\n"
     ]
    }
   ],
   "source": [
    "#Single Level Inheritance\n",
    "class a():\n",
    "    x=100\n",
    "class b(a):\n",
    "    y=200\n",
    "c=b()\n",
    "print(c.x)"
   ]
  },
  {
   "cell_type": "code",
   "execution_count": 8,
   "id": "c64ed178",
   "metadata": {},
   "outputs": [
    {
     "name": "stdout",
     "output_type": "stream",
     "text": [
      "50\n"
     ]
    }
   ],
   "source": [
    "#Multi Level Inheritance\n",
    "class a():\n",
    "    x=50\n",
    "class b(a):\n",
    "    pass\n",
    "class c(b):\n",
    "    pass\n",
    "c=c()\n",
    "print(c.x)"
   ]
  },
  {
   "cell_type": "code",
   "execution_count": 11,
   "id": "d4f88287",
   "metadata": {},
   "outputs": [
    {
     "name": "stdout",
     "output_type": "stream",
     "text": [
      "50\n"
     ]
    }
   ],
   "source": [
    "#Multiple Level Inheritance\n",
    "class a():\n",
    "    x=50\n",
    "class b():\n",
    "    x=70\n",
    "class c(a,b):\n",
    "    pass\n",
    "c=c()\n",
    "print(c.x)"
   ]
  },
  {
   "cell_type": "code",
   "execution_count": 13,
   "id": "c3ae4702",
   "metadata": {},
   "outputs": [
    {
     "name": "stdout",
     "output_type": "stream",
     "text": [
      "70\n",
      "50\n"
     ]
    }
   ],
   "source": [
    "#Hirarchical Inheritance\n",
    "class a():\n",
    "    x=50\n",
    "class b(a):\n",
    "    x=70\n",
    "class c(a):\n",
    "    pass\n",
    "c=c()\n",
    "b=b()\n",
    "print(b.x)\n",
    "print(c.x)"
   ]
  },
  {
   "cell_type": "code",
   "execution_count": 9,
   "id": "89d7e54b",
   "metadata": {},
   "outputs": [
    {
     "name": "stdout",
     "output_type": "stream",
     "text": [
      "200\n"
     ]
    }
   ],
   "source": [
    "#Hybrid Inheritance\n",
    "class a():\n",
    "    x=100\n",
    "class b():\n",
    "    y=200\n",
    "class c(a):\n",
    "    x=200\n",
    "class d(c,b):\n",
    "    pass\n",
    "d=d()\n",
    "print(d.x)"
   ]
  },
  {
   "cell_type": "code",
   "execution_count": 12,
   "id": "d0359957",
   "metadata": {},
   "outputs": [
    {
     "name": "stdout",
     "output_type": "stream",
     "text": [
      "[<class '__main__.C'>, <class '__main__.B'>, <class '__main__.A'>, <class 'object'>]\n"
     ]
    }
   ],
   "source": [
    "class A():\n",
    "    pass\n",
    "class B():\n",
    "    pass\n",
    "class C(B,A):\n",
    "    pass\n",
    "print(C.mro())"
   ]
  },
  {
   "cell_type": "code",
   "execution_count": 14,
   "id": "13d324b1",
   "metadata": {},
   "outputs": [
    {
     "name": "stdout",
     "output_type": "stream",
     "text": [
      "[<class '__main__.D'>, <class '__main__.B'>, <class '__main__.C'>, <class '__main__.A'>, <class 'object'>]\n"
     ]
    }
   ],
   "source": [
    "class A():\n",
    "    pass\n",
    "class B(A):\n",
    "    pass\n",
    "class C(A):\n",
    "    pass\n",
    "class D(B,C):\n",
    "    pass\n",
    "print(D.mro())"
   ]
  },
  {
   "cell_type": "code",
   "execution_count": 19,
   "id": "3ade3ef0",
   "metadata": {},
   "outputs": [
    {
     "name": "stdout",
     "output_type": "stream",
     "text": [
      "[<class '__main__.E'>, <class '__main__.D'>, <class '__main__.B'>, <class '__main__.C'>, <class '__main__.A'>, <class 'object'>]\n"
     ]
    }
   ],
   "source": [
    "class A():\n",
    "    pass\n",
    "class B(A):\n",
    "    pass\n",
    "class C(A):\n",
    "    pass\n",
    "class D(B,C):\n",
    "    pass\n",
    "class E(D,C):\n",
    "    pass\n",
    "print(E.mro())"
   ]
  },
  {
   "cell_type": "code",
   "execution_count": 20,
   "id": "df94107d",
   "metadata": {},
   "outputs": [
    {
     "name": "stdout",
     "output_type": "stream",
     "text": [
      "[<class '__main__.E'>, <class '__main__.C'>, <class '__main__.D'>, <class '__main__.A'>, <class '__main__.B'>, <class 'object'>]\n"
     ]
    }
   ],
   "source": [
    "class A():\n",
    "    pass\n",
    "class B():\n",
    "    pass\n",
    "class C(A,B):\n",
    "    pass\n",
    "class D(A,B):\n",
    "    pass\n",
    "class E(C,D):\n",
    "    pass\n",
    "print(E.mro())"
   ]
  },
  {
   "cell_type": "code",
   "execution_count": 21,
   "id": "f4ec8920",
   "metadata": {},
   "outputs": [
    {
     "ename": "TypeError",
     "evalue": "Cannot create a consistent method resolution\norder (MRO) for bases A, B",
     "output_type": "error",
     "traceback": [
      "\u001b[1;31m---------------------------------------------------------------------------\u001b[0m",
      "\u001b[1;31mTypeError\u001b[0m                                 Traceback (most recent call last)",
      "\u001b[1;32m~\\AppData\\Local\\Temp\\ipykernel_10472\\2232327596.py\u001b[0m in \u001b[0;36m<module>\u001b[1;34m\u001b[0m\n\u001b[0;32m      7\u001b[0m \u001b[1;32mclass\u001b[0m \u001b[0mD\u001b[0m\u001b[1;33m(\u001b[0m\u001b[0mB\u001b[0m\u001b[1;33m,\u001b[0m\u001b[0mA\u001b[0m\u001b[1;33m)\u001b[0m\u001b[1;33m:\u001b[0m\u001b[1;33m\u001b[0m\u001b[1;33m\u001b[0m\u001b[0m\n\u001b[0;32m      8\u001b[0m     \u001b[1;32mpass\u001b[0m\u001b[1;33m\u001b[0m\u001b[1;33m\u001b[0m\u001b[0m\n\u001b[1;32m----> 9\u001b[1;33m \u001b[1;32mclass\u001b[0m \u001b[0mE\u001b[0m\u001b[1;33m(\u001b[0m\u001b[0mC\u001b[0m\u001b[1;33m,\u001b[0m\u001b[0mD\u001b[0m\u001b[1;33m)\u001b[0m\u001b[1;33m:\u001b[0m\u001b[1;33m\u001b[0m\u001b[1;33m\u001b[0m\u001b[0m\n\u001b[0m\u001b[0;32m     10\u001b[0m     \u001b[1;32mpass\u001b[0m\u001b[1;33m\u001b[0m\u001b[1;33m\u001b[0m\u001b[0m\n\u001b[0;32m     11\u001b[0m \u001b[0mprint\u001b[0m\u001b[1;33m(\u001b[0m\u001b[0mE\u001b[0m\u001b[1;33m.\u001b[0m\u001b[0mmro\u001b[0m\u001b[1;33m(\u001b[0m\u001b[1;33m)\u001b[0m\u001b[1;33m)\u001b[0m\u001b[1;33m\u001b[0m\u001b[1;33m\u001b[0m\u001b[0m\n",
      "\u001b[1;31mTypeError\u001b[0m: Cannot create a consistent method resolution\norder (MRO) for bases A, B"
     ]
    }
   ],
   "source": [
    "class A():\n",
    "    pass\n",
    "class B():\n",
    "    pass\n",
    "class C(A,B):\n",
    "    pass\n",
    "class D(B,A):\n",
    "    pass\n",
    "class E(C,D):\n",
    "    pass\n",
    "print(E.mro())"
   ]
  },
  {
   "cell_type": "code",
   "execution_count": 22,
   "id": "4f3e0404",
   "metadata": {},
   "outputs": [
    {
     "name": "stdout",
     "output_type": "stream",
     "text": [
      "[<class '__main__.D'>, <class '__main__.C'>, <class '__main__.B'>, <class '__main__.A'>, <class 'object'>]\n"
     ]
    }
   ],
   "source": [
    "class A():\n",
    "    pass\n",
    "class B(A):\n",
    "    pass\n",
    "class C(B):\n",
    "    pass\n",
    "class D(C):\n",
    "    pass\n",
    "print(D.mro())"
   ]
  },
  {
   "cell_type": "code",
   "execution_count": 24,
   "id": "5093a9ef",
   "metadata": {},
   "outputs": [
    {
     "name": "stdout",
     "output_type": "stream",
     "text": [
      "[<class '__main__.D'>, <class '__main__.A'>, <class 'object'>]\n"
     ]
    }
   ],
   "source": [
    "class A():\n",
    "    pass\n",
    "class B(A):\n",
    "    pass\n",
    "class C(A):\n",
    "    pass\n",
    "class D(A):\n",
    "    pass\n",
    "print(D.mro())"
   ]
  },
  {
   "cell_type": "code",
   "execution_count": 2,
   "id": "6f24b2e0",
   "metadata": {},
   "outputs": [
    {
     "name": "stdout",
     "output_type": "stream",
     "text": [
      "10\n",
      "3\n",
      "6\n"
     ]
    }
   ],
   "source": [
    "class sample():\n",
    "    def sum(self,a,b,c=0,d=0):\n",
    "        return a+b+c+d\n",
    "ob=sample()\n",
    "print(ob.sum(1,2,3,4))\n",
    "print(ob.sum(1,2))\n",
    "print(ob.sum(1,2,3))"
   ]
  },
  {
   "cell_type": "code",
   "execution_count": 17,
   "id": "2aa9f350",
   "metadata": {},
   "outputs": [
    {
     "name": "stdout",
     "output_type": "stream",
     "text": [
      "10\n",
      "3\n",
      "6\n"
     ]
    }
   ],
   "source": [
    "class sample():\n",
    "    def sum(self,*args):\n",
    "        t=0\n",
    "        for i in args:\n",
    "            t+=i\n",
    "        return t\n",
    "ob=sample()\n",
    "print(ob.sum(1,2,3,4))\n",
    "print(ob.sum(1,2))\n",
    "print(ob.sum(1,2,3))"
   ]
  },
  {
   "cell_type": "code",
   "execution_count": 18,
   "id": "a75ff0f3",
   "metadata": {},
   "outputs": [
    {
     "name": "stdout",
     "output_type": "stream",
     "text": [
      "10\n",
      "3\n",
      "6\n"
     ]
    }
   ],
   "source": [
    "from functools import reduce\n",
    "class sample():\n",
    "    def sum(self,*args):\n",
    "        return reduce(lambda a,b:a+b,args)\n",
    "ob=sample()\n",
    "print(ob.sum(1,2,3,4))\n",
    "print(ob.sum(1,2))\n",
    "print(ob.sum(1,2,3))"
   ]
  },
  {
   "cell_type": "code",
   "execution_count": 24,
   "id": "f3f224b6",
   "metadata": {},
   "outputs": [
    {
     "name": "stdout",
     "output_type": "stream",
     "text": [
      "Meow Meow\n",
      "walking\n",
      "Bow Bow\n",
      "walking\n"
     ]
    }
   ],
   "source": [
    "from abc import ABC,abstractmethod\n",
    "class Animal(ABC):\n",
    "    @abstractmethod\n",
    "    def speak(self):\n",
    "        pass\n",
    "    def walk(self):\n",
    "        print('walking')\n",
    "class Dog(Animal):\n",
    "    def speak(self):\n",
    "        print('Bow Bow')\n",
    "class Cat(Animal):\n",
    "    def speak(self):\n",
    "        print('Meow Meow')\n",
    "a=Cat()\n",
    "b=Dog()\n",
    "a.speak()\n",
    "a.walk()\n",
    "b.speak()\n",
    "b.walk()"
   ]
  },
  {
   "cell_type": "code",
   "execution_count": 1,
   "id": "f3a5762f",
   "metadata": {},
   "outputs": [
    {
     "name": "stdout",
     "output_type": "stream",
     "text": [
      "sample:<function sample at 0x000001A43D6DB160>\n",
      "x:<function sample at 0x000001A43D6DB160>\n"
     ]
    }
   ],
   "source": [
    "def sample():\n",
    "    print('in sample function')\n",
    "x=sample\n",
    "print(f'sample:{sample}')\n",
    "print(f'x:{x}')"
   ]
  },
  {
   "cell_type": "code",
   "execution_count": 20,
   "id": "92566a5a",
   "metadata": {},
   "outputs": [
    {
     "name": "stdout",
     "output_type": "stream",
     "text": [
      "singing:All Songs\n",
      "workholic:All Works\n",
      "forming:All Farming Techniques\n",
      "strong:All Abilities\n",
      "Iam Good at Dancing\n",
      "Iam Good at All Subjects\n"
     ]
    }
   ],
   "source": [
    "#Multiple Inheritance\n",
    "class Mother():\n",
    "    def __init__(self,singing,workholic):\n",
    "        self.singing=singing\n",
    "        self.workholic=workholic\n",
    "    def talents(self):\n",
    "        print(f'singing:{self.singing}')\n",
    "        print(f'workholic:{self.workholic}')\n",
    "class Father():\n",
    "    def __init__(self,farmer,strong):\n",
    "        self.farmer=farmer\n",
    "        self.strong=strong\n",
    "    def talents(self):\n",
    "        print(f'forming:{self.farmer}')\n",
    "        print(f'strong:{self.strong}')\n",
    "class Child(Mother,Father):\n",
    "    def __init__(self,singing,workholic,farmer,strong,Dancer,Topper):\n",
    "        Mother.__init__(self,singing,workholic)\n",
    "        Father.__init__(self,farmer,strong)\n",
    "        self.Dancer=Dancer\n",
    "        self.Topper=Topper\n",
    "    def talents(self):\n",
    "        Mother.talents(self)\n",
    "        Father.talents(self)\n",
    "        print(f'Iam Good at {self.Dancer}')\n",
    "        print(f'Iam Good at {self.Topper}')\n",
    "devi=Child('All Songs','All Works','All Farming Techniques','All Abilities','Dancing','All Subjects')\n",
    "devi.talents()"
   ]
  },
  {
   "cell_type": "code",
   "execution_count": 35,
   "id": "00aa36cb",
   "metadata": {},
   "outputs": [
    {
     "name": "stdout",
     "output_type": "stream",
     "text": [
      "['False', 'None', 'True', '__peg_parser__', 'and', 'as', 'assert', 'async', 'await', 'break', 'class', 'continue', 'def', 'del', 'elif', 'else', 'except', 'finally', 'for', 'from', 'global', 'if', 'import', 'in', 'is', 'lambda', 'nonlocal', 'not', 'or', 'pass', 'raise', 'return', 'try', 'while', 'with', 'yield']\n"
     ]
    }
   ],
   "source": [
    "import keyword\n",
    "print(keyword.kwlist)"
   ]
  },
  {
   "cell_type": "code",
   "execution_count": 26,
   "id": "11a76140",
   "metadata": {},
   "outputs": [
    {
     "name": "stdout",
     "output_type": "stream",
     "text": [
      "name I.Charishma\n",
      "age 22\n",
      "account 7893347525\n",
      "balance 17000\n",
      "mobile 8142404690\n",
      "                    \n",
      "name I.DeviPrasad\n",
      "age 22\n",
      "account 8142404690\n",
      "balance 22000\n",
      "aadhar 7893347525\n"
     ]
    }
   ],
   "source": [
    "class Bank():\n",
    "    def __init__(self,n,a,ac,bal):\n",
    "        self.name=n\n",
    "        self.age=a\n",
    "        self.account=ac\n",
    "        self.balance=bal\n",
    "    def details(self):\n",
    "        print(f'name {self.name}')\n",
    "        print(f'age {self.age}')\n",
    "        print(f'account {self.account}')\n",
    "        print(f'balance {self.balance}')\n",
    "class Bank_v1(Bank):\n",
    "    def __init__(self,n,a,ac,bal,mob):\n",
    "        super().__init__(n,a,ac,bal)\n",
    "        self.mobile=mob\n",
    "    def details(self):\n",
    "        super().details()\n",
    "        print(f'mobile {self.mobile}')\n",
    "class Bank_v2(Bank):\n",
    "    def __init__(self,n,a,ac,bal,ad):\n",
    "        super().__init__(n,a,ac,bal)\n",
    "        self.aadhar=ad\n",
    "    def details(self):\n",
    "        super().details()\n",
    "        print(f'aadhar {self.aadhar}')\n",
    "devi=Bank_v1('I.Charishma',22,7893347525,17000,8142404690)\n",
    "cherry=Bank_v2('I.DeviPrasad',22,8142404690,22000,7893347525)\n",
    "devi.details()\n",
    "print(20*' ')\n",
    "cherry.details()"
   ]
  },
  {
   "cell_type": "code",
   "execution_count": null,
   "id": "8696c105",
   "metadata": {},
   "outputs": [],
   "source": [
    "                                   💖CHARISHMA💝DEVIPRASAD💖"
   ]
  },
  {
   "cell_type": "code",
   "execution_count": null,
   "id": "5e0637a2",
   "metadata": {},
   "outputs": [],
   "source": [
    "                                          💖CHARDEVI💖"
   ]
  }
 ],
 "metadata": {
  "kernelspec": {
   "display_name": "Python 3 (ipykernel)",
   "language": "python",
   "name": "python3"
  },
  "language_info": {
   "codemirror_mode": {
    "name": "ipython",
    "version": 3
   },
   "file_extension": ".py",
   "mimetype": "text/x-python",
   "name": "python",
   "nbconvert_exporter": "python",
   "pygments_lexer": "ipython3",
   "version": "3.9.13"
  }
 },
 "nbformat": 4,
 "nbformat_minor": 5
}
