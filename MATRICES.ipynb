{
 "cells": [
  {
   "cell_type": "code",
   "execution_count": 2,
   "id": "058a1b3f",
   "metadata": {},
   "outputs": [
    {
     "name": "stdout",
     "output_type": "stream",
     "text": [
      "e is highest\n"
     ]
    }
   ],
   "source": [
    "a,b,c,d,e=1,2,3,4,5\n",
    "if a>b:\n",
    "    if a>c:\n",
    "        if a>d:\n",
    "            if a>e:\n",
    "                print('a is highest')\n",
    "            else:\n",
    "                print('d is highest')\n",
    "        else:\n",
    "            if c>d:\n",
    "                if c>e:\n",
    "                    print('c is highest')\n",
    "                else:\n",
    "                    print('e is highest')\n",
    "else:\n",
    "    if b>c:\n",
    "        if b>d:\n",
    "            if b>e:\n",
    "                print('b is highest')\n",
    "            else:\n",
    "                print('e is highest')\n",
    "        else:\n",
    "            if c>d:\n",
    "                print('c is highest')\n",
    "            else:\n",
    "                print('d is highest')\n",
    "    else:\n",
    "        if d>e:\n",
    "            print('d is highest')\n",
    "        else:\n",
    "            print('e is highest')"
   ]
  },
  {
   "cell_type": "code",
   "execution_count": 2,
   "id": "7bf120e3",
   "metadata": {},
   "outputs": [
    {
     "name": "stdout",
     "output_type": "stream",
     "text": [
      "1 2 3 \n",
      "4 5 6 \n",
      "7 8 9 \n"
     ]
    }
   ],
   "source": [
    "l=[[1,2,3],[4,5,6],[7,8,9]]\n",
    "for i in l:\n",
    "    for j in i:\n",
    "        print(j,end=' ')\n",
    "    print()    "
   ]
  },
  {
   "cell_type": "code",
   "execution_count": 2,
   "id": "23752828",
   "metadata": {},
   "outputs": [
    {
     "name": "stdout",
     "output_type": "stream",
     "text": [
      "1 2 3 \n",
      "4 5 6 \n",
      "7 8 9 \n"
     ]
    }
   ],
   "source": [
    "l=[[1,2,3],[4,5,6],[7,8,9]]\n",
    "for i in range(len(l)):\n",
    "    for j in range(len(l[i])):\n",
    "        print(l[i][j],end=' ')\n",
    "    print()"
   ]
  },
  {
   "cell_type": "code",
   "execution_count": 3,
   "id": "0f6f4539",
   "metadata": {},
   "outputs": [
    {
     "name": "stdout",
     "output_type": "stream",
     "text": [
      "18\n"
     ]
    }
   ],
   "source": [
    "l=[[1,2,3],[4,5,6],[7,8,9]]\n",
    "res1=0\n",
    "res2=0\n",
    "for i in range(len(l)):\n",
    "    if i==0:\n",
    "        for j in range(len(l)):\n",
    "            res1+=l[i][j]\n",
    "    if i==len(l)-1:\n",
    "        for j in range(len(l)):\n",
    "            res2+=l[i][j]\n",
    "print(abs(res1-res2))"
   ]
  },
  {
   "cell_type": "code",
   "execution_count": 3,
   "id": "fca79696",
   "metadata": {},
   "outputs": [
    {
     "name": "stdout",
     "output_type": "stream",
     "text": [
      "7 4 1 \n",
      "8 5 2 \n",
      "9 6 3 \n"
     ]
    }
   ],
   "source": [
    "l=[[1,2,3],[4,5,6],[7,8,9]]\n",
    "n=3\n",
    "for j in range(n):\n",
    "    for i in range(n):\n",
    "        print(l[n-(i+1)][j],end=' ')\n",
    "    print()\n",
    "    "
   ]
  },
  {
   "cell_type": "code",
   "execution_count": 5,
   "id": "1fc870f1",
   "metadata": {},
   "outputs": [
    {
     "name": "stdout",
     "output_type": "stream",
     "text": [
      "3 6 9 \n",
      "2 5 8 \n",
      "1 4 7 \n"
     ]
    }
   ],
   "source": [
    "l=[[1,2,3],[4,5,6],[7,8,9]]\n",
    "n=3\n",
    "for i in range(n):\n",
    "    for j in range(n):\n",
    "        print(l[j][n-(i+1)],end=' ')\n",
    "    print()"
   ]
  },
  {
   "cell_type": "code",
   "execution_count": 6,
   "id": "b01c7b92",
   "metadata": {},
   "outputs": [
    {
     "name": "stdout",
     "output_type": "stream",
     "text": [
      "9 8 7 \n",
      "6 5 4 \n",
      "3 2 1 \n"
     ]
    }
   ],
   "source": [
    "l=[[1,2,3],[4,5,6],[7,8,9]]\n",
    "n=3\n",
    "for i in range(n):\n",
    "    for j in range(n):\n",
    "        print(l[n-(i+1)][n-(j+1)],end=' ')\n",
    "    print()"
   ]
  },
  {
   "cell_type": "code",
   "execution_count": 34,
   "id": "0a8c57c8",
   "metadata": {},
   "outputs": [
    {
     "name": "stdout",
     "output_type": "stream",
     "text": [
      "18\n"
     ]
    }
   ],
   "source": [
    "l=[[1,2,3],[4,5,6],[7,8,9]]\n",
    "f=0\n",
    "ln=0\n",
    "n=3\n",
    "for i in range(n):\n",
    "    f+=l[0][i]\n",
    "    ln+=l[n-1][i]\n",
    "print(abs(f-ln))"
   ]
  },
  {
   "cell_type": "code",
   "execution_count": 8,
   "id": "a2ceadf4",
   "metadata": {},
   "outputs": [
    {
     "name": "stdout",
     "output_type": "stream",
     "text": [
      "144\n"
     ]
    }
   ],
   "source": [
    "l=[[1,2,3],[4,5,6],[7,8,9]]\n",
    "f=0\n",
    "ln=0\n",
    "n=3\n",
    "for i in range(n):\n",
    "    f+=l[0][i]\n",
    "    ln+=l[n-1][i]\n",
    "print(f*ln)"
   ]
  },
  {
   "cell_type": "code",
   "execution_count": 44,
   "id": "8acc1c98",
   "metadata": {},
   "outputs": [
    {
     "name": "stdout",
     "output_type": "stream",
     "text": [
      "6\n",
      "24\n",
      "30\n"
     ]
    }
   ],
   "source": [
    "l=[[1,2,3],[4,5,6],[7,8,9]]\n",
    "f=0\n",
    "ln=0\n",
    "n=3\n",
    "for i in range(n):\n",
    "    f+=l[0][i]\n",
    "    ln+=l[n-1][i]\n",
    "print(f)\n",
    "print(ln)\n",
    "print(f+ln)"
   ]
  },
  {
   "cell_type": "code",
   "execution_count": 55,
   "id": "13c2de07",
   "metadata": {},
   "outputs": [
    {
     "name": "stdout",
     "output_type": "stream",
     "text": [
      "30\n"
     ]
    }
   ],
   "source": [
    "l=[[1,2,3],[4,5,6],[7,8,9]]\n",
    "f=0\n",
    "ln=0\n",
    "n=3\n",
    "for i in range(n):\n",
    "    f+=l[i][0]\n",
    "    ln+=l[i][n-1]\n",
    "print(f+ln)"
   ]
  },
  {
   "cell_type": "code",
   "execution_count": 56,
   "id": "2386ee0c",
   "metadata": {},
   "outputs": [
    {
     "name": "stdout",
     "output_type": "stream",
     "text": [
      "30\n"
     ]
    }
   ],
   "source": [
    "l=[[1,2,3],[4,5,6],[7,8,9]]\n",
    "f=0\n",
    "ln=0\n",
    "n=3\n",
    "for i in range(n):\n",
    "    f+=l[n//2][i]\n",
    "    ln+=l[i][n//2]\n",
    "print(f+ln)"
   ]
  },
  {
   "cell_type": "code",
   "execution_count": 3,
   "id": "00f75469",
   "metadata": {},
   "outputs": [
    {
     "name": "stdout",
     "output_type": "stream",
     "text": [
      "225\n"
     ]
    }
   ],
   "source": [
    "l=[[1,2,3],[4,5,6],[7,8,9]]\n",
    "n=3\n",
    "f=0\n",
    "ln=0\n",
    "for i in range(n):\n",
    "    f+=l[i][i]\n",
    "    ln+=l[i][n//2+1-1]\n",
    "print(f*ln)"
   ]
  },
  {
   "cell_type": "code",
   "execution_count": 13,
   "id": "59074a26",
   "metadata": {},
   "outputs": [
    {
     "name": "stdout",
     "output_type": "stream",
     "text": [
      "225\n"
     ]
    }
   ],
   "source": [
    "l=[[1,2,3],[4,5,6],[7,8,9]]\n",
    "n=3\n",
    "f=0\n",
    "ln=0\n",
    "for i in range(n):\n",
    "    f+=l[i][i]\n",
    "    ln+=l[i][n-1]\n",
    "    n-=1\n",
    "print(f*ln)"
   ]
  },
  {
   "cell_type": "code",
   "execution_count": 9,
   "id": "d55888c4",
   "metadata": {},
   "outputs": [
    {
     "name": "stdout",
     "output_type": "stream",
     "text": [
      "1 2 3 \n",
      "4 5 6 \n",
      "7 8 9 \n"
     ]
    }
   ],
   "source": [
    "l=[[1,2,3],[4,5,6],[7,8,9]]\n",
    "for i in range(len(l)):\n",
    "    for j in range(len(l)):\n",
    "        print(l[i][j],end=' ')\n",
    "    print()"
   ]
  },
  {
   "cell_type": "code",
   "execution_count": 27,
   "id": "9803633d",
   "metadata": {},
   "outputs": [
    {
     "name": "stdout",
     "output_type": "stream",
     "text": [
      "7 4 1 \n",
      "8 5 2 \n",
      "9 6 3 \n"
     ]
    }
   ],
   "source": [
    "l=[[1,2,3],[4,5,6],[7,8,9]]\n",
    "n=3\n",
    "for i in range(n):\n",
    "    for j in range(n):\n",
    "        print(l[n-(j+1)][i],end=' ')\n",
    "    print()\n"
   ]
  },
  {
   "cell_type": "code",
   "execution_count": 41,
   "id": "c4e5e661",
   "metadata": {},
   "outputs": [
    {
     "name": "stdout",
     "output_type": "stream",
     "text": [
      "3 2 1 \n",
      "6 5 4 \n",
      "9 8 7 \n"
     ]
    }
   ],
   "source": [
    "l=[[1,2,3],[4,5,6],[7,8,9]]\n",
    "n=3\n",
    "for i in range(n):\n",
    "    for j in range(n):\n",
    "        print(l[i][n-(j+1)],end=' ')\n",
    "    print()"
   ]
  },
  {
   "cell_type": "code",
   "execution_count": 48,
   "id": "a59096e4",
   "metadata": {},
   "outputs": [
    {
     "name": "stdout",
     "output_type": "stream",
     "text": [
      "3 6 9 \n",
      "2 5 8 \n",
      "1 4 7 \n"
     ]
    }
   ],
   "source": [
    "l=[[1,2,3],[4,5,6],[7,8,9]]\n",
    "n=3\n",
    "for i in range(n):\n",
    "    for j in range(n):\n",
    "        print(l[j][n-(i+1)],end=' ')\n",
    "    print()"
   ]
  },
  {
   "cell_type": "code",
   "execution_count": 23,
   "id": "98d32066",
   "metadata": {},
   "outputs": [
    {
     "name": "stdout",
     "output_type": "stream",
     "text": [
      "[11, 17, 22, 25, 29, [...]]\n"
     ]
    }
   ],
   "source": [
    "d=[11,17,22,25,29]\n",
    "c=d\n",
    "d.append(c)\n",
    "print(c)"
   ]
  },
  {
   "cell_type": "code",
   "execution_count": 11,
   "id": "4a3cc381",
   "metadata": {},
   "outputs": [
    {
     "name": "stdout",
     "output_type": "stream",
     "text": [
      "1 2 3 \n",
      "4 5 6 \n",
      "7 8 9 \n"
     ]
    }
   ],
   "source": [
    "d=[[1,2,3],[4,5,6],[7,8,9]]\n",
    "for x in range(len(d)):\n",
    "    for y in range(len(d)):\n",
    "        print(d[x][y],end=' ')\n",
    "    print()"
   ]
  },
  {
   "cell_type": "code",
   "execution_count": 14,
   "id": "cd0b04ca",
   "metadata": {},
   "outputs": [
    {
     "name": "stdout",
     "output_type": "stream",
     "text": [
      "7 4 1 \n",
      "8 5 2 \n",
      "9 6 3 \n"
     ]
    }
   ],
   "source": [
    "d=[[1,2,3],[4,5,6],[7,8,9]]\n",
    "n=3\n",
    "for i in range(len(d)):\n",
    "    for j in range(len(d)):\n",
    "        print(d[n-(j+1)][i],end=' ')\n",
    "    print()"
   ]
  },
  {
   "cell_type": "code",
   "execution_count": 18,
   "id": "c3d1361e",
   "metadata": {},
   "outputs": [
    {
     "name": "stdout",
     "output_type": "stream",
     "text": [
      "9 8 7 \n",
      "6 5 4 \n",
      "3 2 1 \n"
     ]
    }
   ],
   "source": [
    "d=[[1,2,3],[4,5,6],[7,8,9]]\n",
    "n=3\n",
    "for i in range(len(d)):\n",
    "    for j in range(len(d)):\n",
    "        print(d[n-(i+1)][n-(j+1)],end=' ')\n",
    "    print()"
   ]
  },
  {
   "cell_type": "code",
   "execution_count": 35,
   "id": "0f5705ef",
   "metadata": {},
   "outputs": [
    {
     "name": "stdout",
     "output_type": "stream",
     "text": [
      "3 6 9 \n",
      "2 5 8 \n",
      "1 4 7 \n"
     ]
    }
   ],
   "source": [
    "d=[[1,2,3],[4,5,6],[7,8,9]]\n",
    "n=3\n",
    "for i in range(len(d)):\n",
    "    for j in range(len(d)):\n",
    "        print(d[j][n-(i+1)],end=' ')\n",
    "    print()"
   ]
  },
  {
   "cell_type": "code",
   "execution_count": 6,
   "id": "0a90b794",
   "metadata": {},
   "outputs": [
    {
     "name": "stdout",
     "output_type": "stream",
     "text": [
      "15\n",
      "8\n"
     ]
    }
   ],
   "source": [
    "L=[[1,2,3],[4,5,6],[7,8,9]]\n",
    "res=0\n",
    "res1=0\n",
    "n=len(L)\n",
    "for a in range(len(L)):\n",
    "    for b in range(len(L[a])):\n",
    "        if a==b:\n",
    "            res+=L[b][b]\n",
    "            #print(L[a][b],end=' ')\n",
    "        res1=L[a][-b]\n",
    "    #print()\n",
    "print(res)\n",
    "print(res1)"
   ]
  },
  {
   "cell_type": "code",
   "execution_count": 8,
   "id": "e5cec6c1",
   "metadata": {},
   "outputs": [
    {
     "name": "stdout",
     "output_type": "stream",
     "text": [
      "0 0 * 0 1 * 0 2 * \n",
      "1 0 * 1 1 * 1 2 * \n",
      "2 0 * 2 1 * 2 2 * \n"
     ]
    }
   ],
   "source": [
    "L=[[1,2,3],[4,5,6],[7,8,9]]\n",
    "res=0\n",
    "for a in range(len(L)):\n",
    "    for b in range(len(L[a])):\n",
    "        print(a,b,'*',end=' ')\n",
    "    print()"
   ]
  },
  {
   "cell_type": "code",
   "execution_count": 7,
   "id": "5e5b7539",
   "metadata": {},
   "outputs": [
    {
     "name": "stdout",
     "output_type": "stream",
     "text": [
      "1 2 3 \n",
      "4 5 6 \n",
      "7 8 9 \n"
     ]
    }
   ],
   "source": [
    "L=[[1,2,3],[4,5,6],[7,8,9]]\n",
    "res=0\n",
    "for a in range(len(L)):\n",
    "    for b in range(len(L)):\n",
    "        print(L[a][b],end=' ')\n",
    "    print()\n"
   ]
  },
  {
   "cell_type": "code",
   "execution_count": 1,
   "id": "b2a995cf",
   "metadata": {},
   "outputs": [
    {
     "name": "stdout",
     "output_type": "stream",
     "text": [
      "1 2 3 \n",
      "4 5 6 \n",
      "7 8 9 \n"
     ]
    }
   ],
   "source": [
    "d=[[1,2,3],[4,5,6],[7,8,9]]\n",
    "for i in range(len(d)):\n",
    "    for j in range(len(d)):\n",
    "        print(d[i][j],end=' ')\n",
    "    print()"
   ]
  },
  {
   "cell_type": "code",
   "execution_count": 2,
   "id": "7a19c737",
   "metadata": {},
   "outputs": [
    {
     "name": "stdout",
     "output_type": "stream",
     "text": [
      "1 2 3 \n",
      "4 5 6 \n",
      "7 8 9 \n"
     ]
    }
   ],
   "source": [
    "#Normal Matrix\n",
    "l=[[1,2,3],[4,5,6],[7,8,9]]\n",
    "for i in range(len(l)):\n",
    "    for j in range(len(l[i])):\n",
    "        print(l[i][j],end=' ')\n",
    "    print()"
   ]
  },
  {
   "cell_type": "code",
   "execution_count": 4,
   "id": "dc2b9bcf",
   "metadata": {},
   "outputs": [
    {
     "name": "stdout",
     "output_type": "stream",
     "text": [
      "7 4 1 \n",
      "8 5 2 \n",
      "9 6 3 \n"
     ]
    }
   ],
   "source": [
    "#Normal Matrix into ClockWise\n",
    "d=[[1,2,3],[4,5,6],[7,8,9]]\n",
    "n=3\n",
    "for i in range(len(d)):\n",
    "    for j in range(len(d)):\n",
    "        print(d[n-(j+1)][i],end=' ')\n",
    "    print()"
   ]
  },
  {
   "cell_type": "code",
   "execution_count": 5,
   "id": "112027cc",
   "metadata": {},
   "outputs": [
    {
     "name": "stdout",
     "output_type": "stream",
     "text": [
      "3 6 9 \n",
      "2 5 8 \n",
      "1 4 7 \n"
     ]
    }
   ],
   "source": [
    "#Normal Matrix into Anti-ClockWise\n",
    "d=[[1,2,3],[4,5,6],[7,8,9]]\n",
    "n=3\n",
    "for i in range(len(d)):\n",
    "    for j in range(len(d)):\n",
    "        print(d[j][n-(i+1)],end=' ')\n",
    "    print()"
   ]
  },
  {
   "cell_type": "code",
   "execution_count": 49,
   "id": "ef99b961",
   "metadata": {},
   "outputs": [
    {
     "name": "stdout",
     "output_type": "stream",
     "text": [
      "15\n",
      "15\n",
      "225\n"
     ]
    }
   ],
   "source": [
    "#Normal Matrix--Product of Middle Row and Middle Coloumn\n",
    "l=[[1,2,3],[4,5,6],[7,8,9]]\n",
    "n=3\n",
    "f=0\n",
    "ln=0\n",
    "for i in range(n):\n",
    "    f+=l[i][i]\n",
    "    ln+=l[i][n-1]\n",
    "    n-=1\n",
    "print(f)\n",
    "print(ln)\n",
    "print(f*ln)"
   ]
  },
  {
   "cell_type": "code",
   "execution_count": 48,
   "id": "2346b7ec",
   "metadata": {},
   "outputs": [
    {
     "name": "stdout",
     "output_type": "stream",
     "text": [
      "6\n",
      "24\n",
      "144\n"
     ]
    }
   ],
   "source": [
    "#Normal Matrix--Product of First Row Sum and Last Row Sum\n",
    "l=[[1,2,3],[4,5,6],[7,8,9]]\n",
    "f=0\n",
    "ln=0\n",
    "n=3\n",
    "for i in range(n):\n",
    "    f+=l[0][i]\n",
    "    ln+=l[n-1][i]\n",
    "print(f)\n",
    "print(ln)\n",
    "print(f*ln)"
   ]
  },
  {
   "cell_type": "code",
   "execution_count": 50,
   "id": "223e8fd9",
   "metadata": {},
   "outputs": [
    {
     "name": "stdout",
     "output_type": "stream",
     "text": [
      "12\n",
      "18\n",
      "216\n"
     ]
    }
   ],
   "source": [
    "#Normal Matrix--Product of First Coloumn Sum and Last Coloumn Sum\n",
    "l=[[1,2,3],[4,5,6],[7,8,9]]\n",
    "f=0\n",
    "ln=0\n",
    "n=3\n",
    "for i in range(n):\n",
    "    f+=l[i][0]\n",
    "    ln+=l[i][n-1]\n",
    "print(f)\n",
    "print(ln)\n",
    "print(f*ln)"
   ]
  },
  {
   "cell_type": "code",
   "execution_count": 76,
   "id": "d6eb8b06",
   "metadata": {},
   "outputs": [
    {
     "name": "stdout",
     "output_type": "stream",
     "text": [
      "first column :  1\n",
      "second column :  3\n",
      "first column :  4\n",
      "second column :  6\n",
      "first column :  7\n",
      "second column :  9\n",
      "12\n",
      "18\n",
      "30\n"
     ]
    }
   ],
   "source": [
    "#Normal Matrix--Sum of First Coloumn and Last Coloumn\n",
    "l=[[1,2,3],[4,5,6],[7,8,9]]\n",
    "f=0\n",
    "ln=0\n",
    "n=3\n",
    "for i in range(n):\n",
    "    f+=l[i][0]\n",
    "    print('first column : ',l[i][0])\n",
    "    ln+=l[i][n-1]\n",
    "    print('second column : ',l[i][n-1])\n",
    "print(f)\n",
    "print(ln)\n",
    "print(f+ln)"
   ]
  },
  {
   "cell_type": "code",
   "execution_count": 68,
   "id": "ba71ff9a",
   "metadata": {},
   "outputs": [
    {
     "name": "stdout",
     "output_type": "stream",
     "text": [
      "15\n",
      "15\n",
      "0\n"
     ]
    }
   ],
   "source": [
    "#Normal Matrix--Subtraction of Diagnal and Anti Diagnal\n",
    "l=[[1,2,3],[4,5,6],[7,8,9]]\n",
    "f=0\n",
    "ln=0\n",
    "n=3\n",
    "for i in range(n):\n",
    "    f+=l[i][i]\n",
    "    ln+=l[i][n-(i+1)]\n",
    "print(f)\n",
    "print(ln)\n",
    "print(f-ln)"
   ]
  },
  {
   "cell_type": "code",
   "execution_count": 66,
   "id": "90946f4d",
   "metadata": {},
   "outputs": [
    {
     "name": "stdout",
     "output_type": "stream",
     "text": [
      "15\n",
      "17\n",
      "2\n"
     ]
    }
   ],
   "source": [
    "#Normal Matrix--Subtraction of Diagnal and Anti Diagnal\n",
    "l=[[1,2,3],[4,5,6],[9,8,9]]\n",
    "f=0\n",
    "ln=0\n",
    "n=3\n",
    "for i in range(n):\n",
    "    f+=l[i][i]\n",
    "    ln+=l[i][n-(i+1)]\n",
    "print(f)\n",
    "print(ln)\n",
    "print(abs(f-ln))"
   ]
  },
  {
   "cell_type": "code",
   "execution_count": 62,
   "id": "ed9b2aab",
   "metadata": {},
   "outputs": [
    {
     "name": "stdout",
     "output_type": "stream",
     "text": [
      "7 4 1 \n",
      "8 5 2 \n",
      "9 6 3 \n"
     ]
    }
   ],
   "source": [
    "d=[[1,2,3],[4,5,6],[7,8,9]]\n",
    "n=3\n",
    "for i in range(len(d)):\n",
    "    for j in range(len(d)):\n",
    "        print(d[n-(j+1)][i],end=' ')\n",
    "    print()"
   ]
  },
  {
   "cell_type": "code",
   "execution_count": 72,
   "id": "d839b349",
   "metadata": {},
   "outputs": [
    {
     "name": "stdout",
     "output_type": "stream",
     "text": [
      "1   3 \n",
      "  5   \n",
      "7   9 \n"
     ]
    }
   ],
   "source": [
    "d=[[1,2,3],[4,5,6],[7,8,9]]\n",
    "n=3\n",
    "for i in range(len(d)):\n",
    "    for j in range(len(d)):\n",
    "        if i==j or i+j==n-1:\n",
    "            print(d[i][j],end=' ')\n",
    "        else:\n",
    "            print(' ',end=' ')\n",
    "    print()"
   ]
  },
  {
   "cell_type": "code",
   "execution_count": 3,
   "id": "03e928f7",
   "metadata": {},
   "outputs": [
    {
     "name": "stdout",
     "output_type": "stream",
     "text": [
      "1 2 3 \n",
      "4 5 6 \n",
      "7 8 9 \n"
     ]
    }
   ],
   "source": [
    "l=[[1,2,3],[4,5,6],[7,8,9]]\n",
    "for i in range(len(l)):\n",
    "    for j in range(len(l)):\n",
    "        print(l[i][j],end=' ')\n",
    "    print()"
   ]
  },
  {
   "cell_type": "code",
   "execution_count": 5,
   "id": "cb9e7d38",
   "metadata": {},
   "outputs": [
    {
     "name": "stdout",
     "output_type": "stream",
     "text": [
      "7 4 1 \n",
      "8 5 2 \n",
      "9 6 3 \n"
     ]
    }
   ],
   "source": [
    "l=[[1,2,3],[4,5,6],[7,8,9]]\n",
    "n=3\n",
    "for i in range(len(l)):\n",
    "    for j in range(len(l)):\n",
    "        print(l[n-(j+1)][i],end=' ')\n",
    "    print()"
   ]
  },
  {
   "cell_type": "code",
   "execution_count": 6,
   "id": "85ee7ecb",
   "metadata": {},
   "outputs": [
    {
     "name": "stdout",
     "output_type": "stream",
     "text": [
      "3 6 9 \n",
      "2 5 8 \n",
      "1 4 7 \n"
     ]
    }
   ],
   "source": [
    "l=[[1,2,3],[4,5,6],[7,8,9]]\n",
    "n=3\n",
    "for i in range(len(l)):\n",
    "    for j in range(len(l)):\n",
    "        print(l[j][n-(i+1)],end=' ')\n",
    "    print()"
   ]
  },
  {
   "cell_type": "code",
   "execution_count": 2,
   "id": "7731197e",
   "metadata": {},
   "outputs": [
    {
     "name": "stdout",
     "output_type": "stream",
     "text": [
      "15\n",
      "15\n",
      "225\n"
     ]
    }
   ],
   "source": [
    "l=[[1,2,3],[4,5,6],[7,8,9]]\n",
    "n=3\n",
    "f=0\n",
    "ln=0\n",
    "for i in range(len(l)):\n",
    "    f+=l[i][n//2]\n",
    "    ln+=l[n//2][i]\n",
    "print(f)\n",
    "print(ln)\n",
    "print(f*ln)"
   ]
  },
  {
   "cell_type": "code",
   "execution_count": 14,
   "id": "c10b336c",
   "metadata": {},
   "outputs": [
    {
     "name": "stdout",
     "output_type": "stream",
     "text": [
      "2 6 12 \n",
      "20 30 42 \n",
      "56 72 90 \n"
     ]
    }
   ],
   "source": [
    "l=[[1,2,3],[4,5,6],[7,8,9]]\n",
    "l2=[[2,3,4],[5,6,7],[8,9,10]]\n",
    "for i in range(len(l)):\n",
    "    for j in range(len(l2)):\n",
    "        l[i][j] = l[i][j] + l2[i][j]\n",
    "        print(l[i][j],end=' ')\n",
    "    print()"
   ]
  },
  {
   "cell_type": "code",
   "execution_count": 15,
   "id": "8832dd8f",
   "metadata": {},
   "outputs": [
    {
     "name": "stdout",
     "output_type": "stream",
     "text": [
      "2 6 12 \n",
      "20 30 42 \n",
      "56 72 90 \n"
     ]
    }
   ],
   "source": [
    "l=[[1,2,3],[4,5,6],[7,8,9]]\n",
    "l2=[[2,3,4],[5,6,7],[8,9,10]]\n",
    "for i in range(len(l)):\n",
    "    for j in range(len(l2)):\n",
    "        l[i][j] = l[i][j] * l2[i][j]\n",
    "        print(l[i][j],end=' ')\n",
    "    print()"
   ]
  },
  {
   "cell_type": "code",
   "execution_count": 65,
   "id": "5baaeb11",
   "metadata": {},
   "outputs": [
    {
     "name": "stdout",
     "output_type": "stream",
     "text": [
      "5 6 \n",
      "7 8 \n"
     ]
    }
   ],
   "source": [
    "l=[[1,2],[3,4]]\n",
    "l2=[[5,6],[7,8]]\n",
    "res=[[0,0],[0,0]]\n",
    "for i in range(len(l)):\n",
    "    for j in range(len(l2)):\n",
    "        print(l2[i][j],end=' ')\n",
    "    print()"
   ]
  },
  {
   "cell_type": "code",
   "execution_count": 58,
   "id": "7ed444d1",
   "metadata": {},
   "outputs": [
    {
     "name": "stdout",
     "output_type": "stream",
     "text": [
      "6 8 \n",
      "10 12 \n"
     ]
    }
   ],
   "source": [
    "l=[[1,2],[3,4]]\n",
    "l2=[[5,6],[7,8]]\n",
    "res=[[0,0],[0,0]]\n",
    "for i in range(len(l)):\n",
    "    for j in range(len(l2)):\n",
    "        l2[i][j] = l[i][j] + l2[i][j]\n",
    "        print(l2[i][j],end=' ')\n",
    "    print()"
   ]
  },
  {
   "cell_type": "code",
   "execution_count": 66,
   "id": "182022e1",
   "metadata": {},
   "outputs": [
    {
     "name": "stdout",
     "output_type": "stream",
     "text": [
      "5 12 \n",
      "21 32 \n"
     ]
    }
   ],
   "source": [
    "l=[[1,2],[3,4]]\n",
    "l2=[[5,6],[7,8]]\n",
    "res=[[0,0],[0,0]]\n",
    "for i in range(len(l)):\n",
    "    for j in range(len(l2)):\n",
    "        l2[i][j] = l[i][j] * l2[i][j]\n",
    "        print(l2[i][j],end=' ')\n",
    "    print()"
   ]
  },
  {
   "cell_type": "code",
   "execution_count": 36,
   "id": "f2a19a2d",
   "metadata": {},
   "outputs": [
    {
     "name": "stdout",
     "output_type": "stream",
     "text": [
      "[[19 22]\n",
      " [43 50]]\n"
     ]
    }
   ],
   "source": [
    "#mutilplication of matrix\n",
    "import numpy as np\n",
    "l=np.array([[1,2],[3,4]])\n",
    "l2=np.array([[5,6],[7,8]])\n",
    "c = l.dot(l2)\n",
    "print(c)"
   ]
  },
  {
   "cell_type": "code",
   "execution_count": 37,
   "id": "456e08a5",
   "metadata": {},
   "outputs": [
    {
     "name": "stdout",
     "output_type": "stream",
     "text": [
      "[[-2.   1. ]\n",
      " [ 1.5 -0.5]]\n"
     ]
    }
   ],
   "source": [
    "#inverse  matrx\n",
    "l=np.array([[1,2],[3,4]])\n",
    "c = np.linalg.inv(l)\n",
    "print(c)"
   ]
  },
  {
   "cell_type": "code",
   "execution_count": 47,
   "id": "72f13125",
   "metadata": {},
   "outputs": [
    {
     "name": "stdout",
     "output_type": "stream",
     "text": [
      "True\n"
     ]
    }
   ],
   "source": [
    "#power of a matrix\n",
    "a = np.arange(1,5).reshape(2,2) #n >1\n",
    "b = np.linalg.matrix_power(a,2)\n",
    "#print(b)\n",
    "a = np.arange(1,5).reshape(2,2) #n = 0\n",
    "b = np.linalg.matrix_power(a,0)\n",
    "#print(b)\n",
    "\n",
    "a = np.arange(1,5).reshape(2,2) #n = 0\n",
    "b = np.linalg.matrix_power(a,-2)\n",
    "c = np.linalg.inv(a)\n",
    "d = np.linalg.matrix_power(c,2)\n",
    "#print(d)\n",
    "#print(b)\n",
    "#print(np.allclose(b,d))"
   ]
  },
  {
   "cell_type": "code",
   "execution_count": 55,
   "id": "7338563c",
   "metadata": {},
   "outputs": [
    {
     "name": "stdout",
     "output_type": "stream",
     "text": [
      "-2\n"
     ]
    }
   ],
   "source": [
    "#det of a matrtix\n",
    "a = np.arange(1,5).reshape(2,2)\n",
    "c = np.linalg.det(a)\n",
    "print(round(c))"
   ]
  },
  {
   "cell_type": "code",
   "execution_count": 54,
   "id": "3f384d6f",
   "metadata": {},
   "outputs": [
    {
     "name": "stdout",
     "output_type": "stream",
     "text": [
      "[2. 1.]\n"
     ]
    }
   ],
   "source": [
    "#linear algebra equation\n",
    "#2x+y = 5\n",
    "#x+3y = 5\n",
    "a = np.array([[2,1],[1,3]])\n",
    "b = np.array([5,5])\n",
    "c = np.linalg.solve(a,b)\n",
    "print(c)"
   ]
  },
  {
   "cell_type": "code",
   "execution_count": 3,
   "id": "f1b7eadb",
   "metadata": {},
   "outputs": [
    {
     "name": "stdout",
     "output_type": "stream",
     "text": [
      "1 2 3 \n",
      "4 5 6 \n",
      "7 8 9 \n"
     ]
    }
   ],
   "source": [
    "d=[[1,2,3],[4,5,6],[7,8,9]]\n",
    "for a in range(len(d)):\n",
    "    for b in range(len(d)):\n",
    "        print(d[a][b],end=' ')\n",
    "    print()"
   ]
  },
  {
   "cell_type": "code",
   "execution_count": 2,
   "id": "3d4f63e0",
   "metadata": {},
   "outputs": [
    {
     "name": "stdout",
     "output_type": "stream",
     "text": [
      "7 4 1 \n",
      "8 5 2 \n",
      "9 6 3 \n"
     ]
    }
   ],
   "source": [
    "d=[[1,2,3],[4,5,6],[7,8,9]]\n",
    "n=3\n",
    "for a in range(len(d)):\n",
    "    for b in range(len(d)):\n",
    "        print(d[n-(b+1)][a],end=' ')\n",
    "    print()"
   ]
  },
  {
   "cell_type": "code",
   "execution_count": 7,
   "id": "07f23710",
   "metadata": {},
   "outputs": [
    {
     "name": "stdout",
     "output_type": "stream",
     "text": [
      "3 6 9 \n",
      "2 5 8 \n",
      "1 4 7 \n"
     ]
    }
   ],
   "source": [
    "d=[[1,2,3],[4,5,6],[7,8,9]]\n",
    "n=3\n",
    "for a in range(len(d)):\n",
    "    for b in range(len(d)):\n",
    "        print(d[b][n-(a+1)],end=' ')\n",
    "    print()"
   ]
  },
  {
   "cell_type": "code",
   "execution_count": 8,
   "id": "43fc3deb",
   "metadata": {},
   "outputs": [
    {
     "name": "stdout",
     "output_type": "stream",
     "text": [
      "1 4 7 \n",
      "2 5 8 \n",
      "3 6 9 \n"
     ]
    }
   ],
   "source": [
    "d=[[1,2,3],[4,5,6],[7,8,9]]\n",
    "n=3\n",
    "for a in range(len(d)):\n",
    "    for b in range(len(d)):\n",
    "        print(d[b][a],end=' ')\n",
    "    print()"
   ]
  },
  {
   "cell_type": "code",
   "execution_count": 10,
   "id": "d9685e93",
   "metadata": {},
   "outputs": [
    {
     "name": "stdout",
     "output_type": "stream",
     "text": [
      "6\n",
      "24\n",
      "30\n"
     ]
    }
   ],
   "source": [
    "d=[[1,2,3],[4,5,6],[7,8,9]]\n",
    "n=3\n",
    "fr=0\n",
    "lr=0\n",
    "for a in range(len(d)):\n",
    "    fr+=d[0][a]\n",
    "    lr+=d[n-1][a]\n",
    "print(fr)\n",
    "print(lr)\n",
    "print(fr+lr)"
   ]
  },
  {
   "cell_type": "code",
   "execution_count": 13,
   "id": "87763528",
   "metadata": {},
   "outputs": [
    {
     "name": "stdout",
     "output_type": "stream",
     "text": [
      "12\n",
      "18\n",
      "30\n"
     ]
    }
   ],
   "source": [
    "d=[[1,2,3],[4,5,6],[7,8,9]]\n",
    "n=3\n",
    "fc=0\n",
    "lc=0\n",
    "for a in range(len(d)):\n",
    "    fc+=d[a][0]\n",
    "    lc+=d[a][n-1]\n",
    "print(fc)\n",
    "print(lc)\n",
    "print(fc+lc)"
   ]
  },
  {
   "cell_type": "code",
   "execution_count": 14,
   "id": "6c2ecae0",
   "metadata": {},
   "outputs": [
    {
     "name": "stdout",
     "output_type": "stream",
     "text": [
      "15\n",
      "15\n",
      "30\n"
     ]
    }
   ],
   "source": [
    "d=[[1,2,3],[4,5,6],[7,8,9]]\n",
    "n=3\n",
    "nd=0\n",
    "ad=0\n",
    "for a in range(len(d)):\n",
    "    nd+=d[a][a]\n",
    "    ad+=d[a][n-(a+1)]\n",
    "print(nd)\n",
    "print(ad)\n",
    "print(nd+ad)"
   ]
  },
  {
   "cell_type": "code",
   "execution_count": 17,
   "id": "de1f47bb",
   "metadata": {},
   "outputs": [
    {
     "name": "stdout",
     "output_type": "stream",
     "text": [
      "15\n",
      "15\n",
      "30\n"
     ]
    }
   ],
   "source": [
    "d=[[1,2,3],[4,5,6],[7,8,9]]\n",
    "n=3\n",
    "mr=0\n",
    "mc=0\n",
    "for a in range(len(d)):\n",
    "    mr+=d[a][n//2]\n",
    "    mc+=d[n//2][a]\n",
    "print(mr)\n",
    "print(mc)\n",
    "print(mr+mc)"
   ]
  },
  {
   "cell_type": "code",
   "execution_count": null,
   "id": "84476c38",
   "metadata": {},
   "outputs": [],
   "source": []
  },
  {
   "cell_type": "code",
   "execution_count": null,
   "id": "6e7a0d1e",
   "metadata": {},
   "outputs": [],
   "source": []
  },
  {
   "cell_type": "code",
   "execution_count": null,
   "id": "a1b0b3e5",
   "metadata": {},
   "outputs": [],
   "source": []
  },
  {
   "cell_type": "code",
   "execution_count": null,
   "id": "8ecdf27d",
   "metadata": {},
   "outputs": [],
   "source": []
  },
  {
   "cell_type": "code",
   "execution_count": null,
   "id": "7724605c",
   "metadata": {},
   "outputs": [],
   "source": []
  },
  {
   "cell_type": "code",
   "execution_count": null,
   "id": "858a35d7",
   "metadata": {},
   "outputs": [],
   "source": [
    "                                   💖CHARISHMA💝DEVIPRASAD💖"
   ]
  },
  {
   "cell_type": "code",
   "execution_count": null,
   "id": "6840a477",
   "metadata": {},
   "outputs": [],
   "source": [
    "                                          💖CHARDEVI💖"
   ]
  }
 ],
 "metadata": {
  "kernelspec": {
   "display_name": "Python 3 (ipykernel)",
   "language": "python",
   "name": "python3"
  },
  "language_info": {
   "codemirror_mode": {
    "name": "ipython",
    "version": 3
   },
   "file_extension": ".py",
   "mimetype": "text/x-python",
   "name": "python",
   "nbconvert_exporter": "python",
   "pygments_lexer": "ipython3",
   "version": "3.9.13"
  }
 },
 "nbformat": 4,
 "nbformat_minor": 5
}
